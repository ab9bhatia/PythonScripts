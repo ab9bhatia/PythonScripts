{
 "cells": [
  {
   "cell_type": "code",
   "execution_count": 2,
   "metadata": {
    "collapsed": true
   },
   "outputs": [],
   "source": [
    "import numpy as np"
   ]
  },
  {
   "cell_type": "code",
   "execution_count": 3,
   "metadata": {},
   "outputs": [
    {
     "name": "stdout",
     "output_type": "stream",
     "text": [
      "[[  0  10  20  30]\n",
      " [ 40  50  60  70]\n",
      " [ 80  90 100 110]\n",
      " [120 130 140 150]\n",
      " [160 170 180 190]]\n",
      "[[ 10  15  20  25  30]\n",
      " [ 35  40  45  50  55]\n",
      " [ 60  65  70  75  80]\n",
      " [ 85  90  95 100 105]]\n",
      "[[ 4100  4400  4700  5000  5300]\n",
      " [11700 12800 13900 15000 16100]\n",
      " [19300 21200 23100 25000 26900]\n",
      " [26900 29600 32300 35000 37700]\n",
      " [34500 38000 41500 45000 48500]]\n"
     ]
    }
   ],
   "source": [
    "mat_5_4 = np.reshape(np.arange(0,200,10),(5,4))\n",
    "mat_4_5 = np.reshape(np.arange(10,106,5),(4,5))\n",
    "mat_5_5 = np.dot(mat_5_4,mat_4_5)\n",
    "mat_1_1 = np.ones(5)\n",
    "print(mat_5_4)\n",
    "print(mat_4_5)\n",
    "print(mat_5_5)"
   ]
  },
  {
   "cell_type": "markdown",
   "metadata": {},
   "source": [
    "#### Cosine similarity between two vectors\n",
    "How do we define \"proximity\" of two vectors? There are several ways. One typical starting point used is called cosine similarity. This measure is based on the cosine of the angle between two vectors. This ensures that documents with similar direction, even though they might have different magnitude, are clustered together.\n",
    "\n",
    "For vectors 'x' and 'y', the denotation of a dot product is dot(x,y), and magnitude is denoted by mag(x) or mag(y).\n",
    "\n",
    "Now, if ‘a’ and ‘b’ are two vectors, cosine similarity ‘cosSim’ is given by:\n",
    "\n",
    "cosSim = dot(a, b)/(mag(a)*mag(b))"
   ]
  },
  {
   "cell_type": "code",
   "execution_count": 4,
   "metadata": {},
   "outputs": [
    {
     "data": {
      "text/plain": [
       "0.93133426466806368"
      ]
     },
     "execution_count": 4,
     "metadata": {},
     "output_type": "execute_result"
    }
   ],
   "source": [
    "a = np.array([2,3,4,5])\n",
    "b = np.array([4, 2, 3, 8])\n",
    "cosSim = np.dot(a,b)/(np.linalg.norm(a)*np.linalg.norm(b))\n",
    "cosSim"
   ]
  },
  {
   "cell_type": "code",
   "execution_count": null,
   "metadata": {
    "collapsed": true
   },
   "outputs": [],
   "source": []
  }
 ],
 "metadata": {
  "anaconda-cloud": {},
  "kernelspec": {
   "display_name": "Python 3",
   "language": "python",
   "name": "python3"
  },
  "language_info": {
   "codemirror_mode": {
    "name": "ipython",
    "version": 3
   },
   "file_extension": ".py",
   "mimetype": "text/x-python",
   "name": "python",
   "nbconvert_exporter": "python",
   "pygments_lexer": "ipython3",
   "version": "3.6.3"
  }
 },
 "nbformat": 4,
 "nbformat_minor": 2
}
