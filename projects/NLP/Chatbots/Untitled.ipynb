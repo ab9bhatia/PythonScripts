{
 "cells": [
  {
   "cell_type": "code",
   "execution_count": 16,
   "metadata": {
    "collapsed": true
   },
   "outputs": [],
   "source": [
    "import json"
   ]
  },
  {
   "cell_type": "code",
   "execution_count": 17,
   "metadata": {},
   "outputs": [],
   "source": [
    "tier_1_location = ['Ahmedabad','Bangalore','Chennai','Delhi','Hyderabad','Kolkata','Mumbai','Pune']\n",
    "\n",
    "tier_2_location = ['Agra','Ajmer','Aligarh','Allahabad','Amravati','Amritsar','Asansol','Aurangabad',\\\n",
    "                     'Bareilly','Belgaum','Bhavnagar','Bhiwandi','Bhopal','Bhubaneswar','Bikaner',\\\n",
    "                     'BokaroSteelCity','Chandigarh','Coimbatore','Cuttack','Dehradun','Dhanbad',\\\n",
    "                     'Durg-BhilaiNagar','Durgapur','Erode','Faridabad','Firozabad','Ghaziabad',\\\n",
    "                     'Gorakhpur','Gulbarga','Guntur','Gurgaon','Guwahati‚Gwalior','Hubli-Dharwad',\\\n",
    "                     'Indore','Jabalpur','Jaipur','Jalandhar','Jammu','Jamnagar','Jamshedpur','Jhansi',\\\n",
    "                     'Jodhpur','Kannur','Kanpur','Kakinada','Kochi','Kottayam','Kolhapur','Kollam','Kota',\\\n",
    "                     'Kozhikode','Kurnool','Lucknow','Ludhiana','Madurai','Malappuram','Mathura','Goa',\\\n",
    "                     'Mangalore','Meerut','Moradabad','Mysore','Nagpur','Nanded','Nashik','Nellore',\\\n",
    "                     'Noida','Palakkad','Patna','Pondicherry','Raipur','Rajkot','Rajahmundry','Ranchi',\\\n",
    "                     'Rourkela','Salem','Sangli','Siliguri','Solapur','Srinagar','Sultanpur','Surat',\\\n",
    "                     'Thiruvananthapuram','Thrissur','Tiruchirappalli','Tirunelveli','Tiruppur','Ujjain',\\\n",
    "                     'Vijayapura','Vadodara','Varanasi','Vasai-VirarCity','Vijayawada','Visakhapatnam','Warangal']\n",
    "\n",
    "cusine = ['Chinese','Mexican','Italian','American','South Indian','North Indian']"
   ]
  },
  {
   "cell_type": "code",
   "execution_count": 18,
   "metadata": {
    "collapsed": true
   },
   "outputs": [],
   "source": [
    "def generateJSON(entity,value):\n",
    "        '''\n",
    "        entity : location, cuisine, price range or All\n",
    "        value  : list of entity values\n",
    "        '''\n",
    "        data = {}\n",
    "        final = []\n",
    "        \n",
    "        for var in value:\n",
    "            data = ({'text':var,'intent':'restaurant_search','entities':[{'entity':entity,'value':var,'start':0,'end':len(var)+1}]})\n",
    "            final.append(data)\n",
    "            json_data = json.dumps(final,indent=2)\n",
    "        return json_data"
   ]
  },
  {
   "cell_type": "code",
   "execution_count": 19,
   "metadata": {},
   "outputs": [],
   "source": [
    "location_json = generateJSON(entity='location',value= tier_1_location)"
   ]
  },
  {
   "cell_type": "code",
   "execution_count": 20,
   "metadata": {},
   "outputs": [
    {
     "name": "stdout",
     "output_type": "stream",
     "text": [
      "[\n",
      "  {\n",
      "    \"text\": \"Ahmedabad\",\n",
      "    \"intent\": \"restaurant_search\",\n",
      "    \"entities\": [\n",
      "      {\n",
      "        \"entity\": \"location\",\n",
      "        \"value\": \"Ahmedabad\",\n",
      "        \"start\": 0,\n",
      "        \"end\": 10\n",
      "      }\n",
      "    ]\n",
      "  },\n",
      "  {\n",
      "    \"text\": \"Bangalore\",\n",
      "    \"intent\": \"restaurant_search\",\n",
      "    \"entities\": [\n",
      "      {\n",
      "        \"entity\": \"location\",\n",
      "        \"value\": \"Bangalore\",\n",
      "        \"start\": 0,\n",
      "        \"end\": 10\n",
      "      }\n",
      "    ]\n",
      "  },\n",
      "  {\n",
      "    \"text\": \"Chennai\",\n",
      "    \"intent\": \"restaurant_search\",\n",
      "    \"entities\": [\n",
      "      {\n",
      "        \"entity\": \"location\",\n",
      "        \"value\": \"Chennai\",\n",
      "        \"start\": 0,\n",
      "        \"end\": 8\n",
      "      }\n",
      "    ]\n",
      "  },\n",
      "  {\n",
      "    \"text\": \"Delhi\",\n",
      "    \"intent\": \"restaurant_search\",\n",
      "    \"entities\": [\n",
      "      {\n",
      "        \"entity\": \"location\",\n",
      "        \"value\": \"Delhi\",\n",
      "        \"start\": 0,\n",
      "        \"end\": 6\n",
      "      }\n",
      "    ]\n",
      "  },\n",
      "  {\n",
      "    \"text\": \"Hyderabad\",\n",
      "    \"intent\": \"restaurant_search\",\n",
      "    \"entities\": [\n",
      "      {\n",
      "        \"entity\": \"location\",\n",
      "        \"value\": \"Hyderabad\",\n",
      "        \"start\": 0,\n",
      "        \"end\": 10\n",
      "      }\n",
      "    ]\n",
      "  },\n",
      "  {\n",
      "    \"text\": \"Kolkata\",\n",
      "    \"intent\": \"restaurant_search\",\n",
      "    \"entities\": [\n",
      "      {\n",
      "        \"entity\": \"location\",\n",
      "        \"value\": \"Kolkata\",\n",
      "        \"start\": 0,\n",
      "        \"end\": 8\n",
      "      }\n",
      "    ]\n",
      "  },\n",
      "  {\n",
      "    \"text\": \"Mumbai\",\n",
      "    \"intent\": \"restaurant_search\",\n",
      "    \"entities\": [\n",
      "      {\n",
      "        \"entity\": \"location\",\n",
      "        \"value\": \"Mumbai\",\n",
      "        \"start\": 0,\n",
      "        \"end\": 7\n",
      "      }\n",
      "    ]\n",
      "  },\n",
      "  {\n",
      "    \"text\": \"Pune\",\n",
      "    \"intent\": \"restaurant_search\",\n",
      "    \"entities\": [\n",
      "      {\n",
      "        \"entity\": \"location\",\n",
      "        \"value\": \"Pune\",\n",
      "        \"start\": 0,\n",
      "        \"end\": 5\n",
      "      }\n",
      "    ]\n",
      "  }\n",
      "]\n"
     ]
    }
   ],
   "source": [
    "print(location_json)"
   ]
  },
  {
   "cell_type": "markdown",
   "metadata": {},
   "source": [
    "## Function to Send Email"
   ]
  },
  {
   "cell_type": "code",
   "execution_count": 22,
   "metadata": {
    "collapsed": true
   },
   "outputs": [],
   "source": [
    "import smtplib\n",
    "import yaml\n",
    "from email.mime.text import MIMEText"
   ]
  },
  {
   "cell_type": "code",
   "execution_count": 25,
   "metadata": {},
   "outputs": [
    {
     "ename": "SMTPAuthenticationError",
     "evalue": "(534, b'5.7.9 Please log in with your web browser and then try again. Learn more at\\n5.7.9  https://support.google.com/mail/?p=WebLoginRequired s3-v6sm61750642pgj.84 - gsmtp')",
     "output_type": "error",
     "traceback": [
      "\u001b[1;31m---------------------------------------------------------------------------\u001b[0m",
      "\u001b[1;31mSMTPAuthenticationError\u001b[0m                   Traceback (most recent call last)",
      "\u001b[1;32m<ipython-input-25-56e2ef72cf52>\u001b[0m in \u001b[0;36m<module>\u001b[1;34m()\u001b[0m\n\u001b[0;32m     19\u001b[0m \u001b[1;33m\u001b[0m\u001b[0m\n\u001b[0;32m     20\u001b[0m \u001b[1;31m# Authentication\u001b[0m\u001b[1;33m\u001b[0m\u001b[1;33m\u001b[0m\u001b[0m\n\u001b[1;32m---> 21\u001b[1;33m \u001b[0mserver\u001b[0m\u001b[1;33m.\u001b[0m\u001b[0mlogin\u001b[0m\u001b[1;33m(\u001b[0m\u001b[0memail\u001b[0m\u001b[1;33m,\u001b[0m\u001b[0mpwd\u001b[0m\u001b[1;33m)\u001b[0m\u001b[1;33m\u001b[0m\u001b[0m\n\u001b[0m\u001b[0;32m     22\u001b[0m \u001b[0mserver\u001b[0m\u001b[1;33m.\u001b[0m\u001b[0msendmail\u001b[0m\u001b[1;33m(\u001b[0m\u001b[0memail\u001b[0m\u001b[1;33m,\u001b[0m \u001b[0mrecipients\u001b[0m\u001b[1;33m,\u001b[0m \u001b[0mmsg\u001b[0m\u001b[1;33m.\u001b[0m\u001b[0mas_string\u001b[0m\u001b[1;33m(\u001b[0m\u001b[1;33m)\u001b[0m\u001b[1;33m)\u001b[0m\u001b[1;33m\u001b[0m\u001b[0m\n\u001b[0;32m     23\u001b[0m \u001b[0mserver\u001b[0m\u001b[1;33m.\u001b[0m\u001b[0mquit\u001b[0m\u001b[1;33m(\u001b[0m\u001b[1;33m)\u001b[0m\u001b[1;33m\u001b[0m\u001b[0m\n",
      "\u001b[1;32m~\\Anaconda3\\lib\\smtplib.py\u001b[0m in \u001b[0;36mlogin\u001b[1;34m(self, user, password, initial_response_ok)\u001b[0m\n\u001b[0;32m    728\u001b[0m \u001b[1;33m\u001b[0m\u001b[0m\n\u001b[0;32m    729\u001b[0m         \u001b[1;31m# We could not login successfully.  Return result of last attempt.\u001b[0m\u001b[1;33m\u001b[0m\u001b[1;33m\u001b[0m\u001b[0m\n\u001b[1;32m--> 730\u001b[1;33m         \u001b[1;32mraise\u001b[0m \u001b[0mlast_exception\u001b[0m\u001b[1;33m\u001b[0m\u001b[0m\n\u001b[0m\u001b[0;32m    731\u001b[0m \u001b[1;33m\u001b[0m\u001b[0m\n\u001b[0;32m    732\u001b[0m     \u001b[1;32mdef\u001b[0m \u001b[0mstarttls\u001b[0m\u001b[1;33m(\u001b[0m\u001b[0mself\u001b[0m\u001b[1;33m,\u001b[0m \u001b[0mkeyfile\u001b[0m\u001b[1;33m=\u001b[0m\u001b[1;32mNone\u001b[0m\u001b[1;33m,\u001b[0m \u001b[0mcertfile\u001b[0m\u001b[1;33m=\u001b[0m\u001b[1;32mNone\u001b[0m\u001b[1;33m,\u001b[0m \u001b[0mcontext\u001b[0m\u001b[1;33m=\u001b[0m\u001b[1;32mNone\u001b[0m\u001b[1;33m)\u001b[0m\u001b[1;33m:\u001b[0m\u001b[1;33m\u001b[0m\u001b[0m\n",
      "\u001b[1;32m~\\Anaconda3\\lib\\smtplib.py\u001b[0m in \u001b[0;36mlogin\u001b[1;34m(self, user, password, initial_response_ok)\u001b[0m\n\u001b[0;32m    719\u001b[0m                 (code, resp) = self.auth(\n\u001b[0;32m    720\u001b[0m                     \u001b[0mauthmethod\u001b[0m\u001b[1;33m,\u001b[0m \u001b[0mgetattr\u001b[0m\u001b[1;33m(\u001b[0m\u001b[0mself\u001b[0m\u001b[1;33m,\u001b[0m \u001b[0mmethod_name\u001b[0m\u001b[1;33m)\u001b[0m\u001b[1;33m,\u001b[0m\u001b[1;33m\u001b[0m\u001b[0m\n\u001b[1;32m--> 721\u001b[1;33m                     initial_response_ok=initial_response_ok)\n\u001b[0m\u001b[0;32m    722\u001b[0m                 \u001b[1;31m# 235 == 'Authentication successful'\u001b[0m\u001b[1;33m\u001b[0m\u001b[1;33m\u001b[0m\u001b[0m\n\u001b[0;32m    723\u001b[0m                 \u001b[1;31m# 503 == 'Error: already authenticated'\u001b[0m\u001b[1;33m\u001b[0m\u001b[1;33m\u001b[0m\u001b[0m\n",
      "\u001b[1;32m~\\Anaconda3\\lib\\smtplib.py\u001b[0m in \u001b[0;36mauth\u001b[1;34m(self, mechanism, authobject, initial_response_ok)\u001b[0m\n\u001b[0;32m    640\u001b[0m         \u001b[1;32mif\u001b[0m \u001b[0mcode\u001b[0m \u001b[1;32min\u001b[0m \u001b[1;33m(\u001b[0m\u001b[1;36m235\u001b[0m\u001b[1;33m,\u001b[0m \u001b[1;36m503\u001b[0m\u001b[1;33m)\u001b[0m\u001b[1;33m:\u001b[0m\u001b[1;33m\u001b[0m\u001b[0m\n\u001b[0;32m    641\u001b[0m             \u001b[1;32mreturn\u001b[0m \u001b[1;33m(\u001b[0m\u001b[0mcode\u001b[0m\u001b[1;33m,\u001b[0m \u001b[0mresp\u001b[0m\u001b[1;33m)\u001b[0m\u001b[1;33m\u001b[0m\u001b[0m\n\u001b[1;32m--> 642\u001b[1;33m         \u001b[1;32mraise\u001b[0m \u001b[0mSMTPAuthenticationError\u001b[0m\u001b[1;33m(\u001b[0m\u001b[0mcode\u001b[0m\u001b[1;33m,\u001b[0m \u001b[0mresp\u001b[0m\u001b[1;33m)\u001b[0m\u001b[1;33m\u001b[0m\u001b[0m\n\u001b[0m\u001b[0;32m    643\u001b[0m \u001b[1;33m\u001b[0m\u001b[0m\n\u001b[0;32m    644\u001b[0m     \u001b[1;32mdef\u001b[0m \u001b[0mauth_cram_md5\u001b[0m\u001b[1;33m(\u001b[0m\u001b[0mself\u001b[0m\u001b[1;33m,\u001b[0m \u001b[0mchallenge\u001b[0m\u001b[1;33m=\u001b[0m\u001b[1;32mNone\u001b[0m\u001b[1;33m)\u001b[0m\u001b[1;33m:\u001b[0m\u001b[1;33m\u001b[0m\u001b[0m\n",
      "\u001b[1;31mSMTPAuthenticationError\u001b[0m: (534, b'5.7.9 Please log in with your web browser and then try again. Learn more at\\n5.7.9  https://support.google.com/mail/?p=WebLoginRequired s3-v6sm61750642pgj.84 - gsmtp')"
     ]
    }
   ],
   "source": [
    "# creates SMTP session\n",
    "server = smtplib.SMTP('smtp.gmail.com:587')\n",
    "server.ehlo()\n",
    "# start TLS for security\n",
    "server.starttls()\n",
    "\n",
    "# Reading credentials from config file\n",
    "conf = yaml.load(open('./email.yml'))\n",
    "email = conf['user']['email']\n",
    "pwd = conf['user']['password']\n",
    "\n",
    "# Email Structure\n",
    "#recipients = ['ab9.bhatia@gmail.com','engg.saurabhsaxena@gmail.com','contactamarpal@gmail.com']\n",
    "recipients = ['ab9.bhatia@gmail.com']\n",
    "msg = MIMEText(\"Working on Restaurant search chatbot using NLU-Core Rasa Framework.Saurabh, Can you please share the code changes ?\")\n",
    "msg['Subject'] = \"Python! This message is from Jupyter Notebook\"\n",
    "msg['From'] = str('Chatbot Help <helpchatbot0@gmail.com.com>')\n",
    "msg['To'] = \", \".join(recipients)\n",
    "\n",
    "# Authentication\n",
    "server.login(email,pwd)\n",
    "server.sendmail(email, recipients, msg.as_string())\n",
    "server.quit()\n",
    "print('Mail is sent successfully!!')"
   ]
  },
  {
   "cell_type": "code",
   "execution_count": null,
   "metadata": {
    "collapsed": true
   },
   "outputs": [],
   "source": []
  }
 ],
 "metadata": {
  "kernelspec": {
   "display_name": "Python 3",
   "language": "python",
   "name": "python3"
  },
  "language_info": {
   "codemirror_mode": {
    "name": "ipython",
    "version": 3
   },
   "file_extension": ".py",
   "mimetype": "text/x-python",
   "name": "python",
   "nbconvert_exporter": "python",
   "pygments_lexer": "ipython3",
   "version": "3.6.3"
  }
 },
 "nbformat": 4,
 "nbformat_minor": 2
}
