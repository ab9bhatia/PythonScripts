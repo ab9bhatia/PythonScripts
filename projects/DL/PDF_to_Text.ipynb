{
 "cells": [
  {
   "cell_type": "code",
   "execution_count": 115,
   "metadata": {},
   "outputs": [],
   "source": [
    "import PyPDF2\n",
    "import os\n",
    "from pdfminer.pdfinterp import PDFResourceManager, PDFPageInterpreter\n",
    "from pdfminer.converter import TextConverter\n",
    "from pdfminer.layout import LAParams\n",
    "from pdfminer.pdfpage import PDFPage\n",
    "from io import StringIO\n",
    "import re\n",
    "import time\n",
    "import shutil"
   ]
  },
  {
   "cell_type": "code",
   "execution_count": 116,
   "metadata": {},
   "outputs": [],
   "source": [
    "input_file_path = \"./Input_files/\"\n",
    "output_file_path = \"./Output_files/\""
   ]
  },
  {
   "cell_type": "markdown",
   "metadata": {},
   "source": [
    "### Function to List Input Files"
   ]
  },
  {
   "cell_type": "code",
   "execution_count": 117,
   "metadata": {},
   "outputs": [],
   "source": [
    "def list_input_files(path = input_file_path,ext = '.pdf'):\n",
    "    '''\n",
    "    This function will lists the files based on the the Input file path & extension.\n",
    "    input_file_path : Input Directory Path\n",
    "    ext : extensiion of the file\n",
    "        \n",
    "    '''\n",
    "    files_list = list()  \n",
    "    for file in os.listdir(path):      \n",
    "        if file.endswith(ext):\n",
    "            files_list.append(file)\n",
    "\n",
    "    return files_list"
   ]
  },
  {
   "cell_type": "code",
   "execution_count": 118,
   "metadata": {},
   "outputs": [],
   "source": [
    "pdf_files = list_input_files(ext='.pdf')\n",
    "xls_files = list_input_files(ext='.xls')"
   ]
  },
  {
   "cell_type": "markdown",
   "metadata": {},
   "source": [
    "### PDF to Text using PDFMiner"
   ]
  },
  {
   "cell_type": "code",
   "execution_count": 119,
   "metadata": {},
   "outputs": [],
   "source": [
    "def pdf2text(path):\n",
    "    rsrcmgr = PDFResourceManager()\n",
    "    retstr = StringIO()\n",
    "    codec = 'utf-8'\n",
    "    laparams = LAParams()\n",
    "    device = TextConverter(rsrcmgr, retstr, codec=codec, laparams=laparams)\n",
    "    fp = open(path, 'rb')\n",
    "    interpreter = PDFPageInterpreter(rsrcmgr, device)\n",
    "    password = \"\"\n",
    "    maxpages = 0\n",
    "    caching = True\n",
    "    pagenos=set()\n",
    "\n",
    "    for page in PDFPage.get_pages(fp, pagenos, maxpages=maxpages, password=password,caching=caching, check_extractable=True):\n",
    "        interpreter.process_page(page)\n",
    "\n",
    "    text = retstr.getvalue()\n",
    "\n",
    "    fp.close()\n",
    "    device.close()\n",
    "    retstr.close()\n",
    "    return text"
   ]
  },
  {
   "cell_type": "markdown",
   "metadata": {},
   "source": [
    "### PDF to Text using PyPDF2"
   ]
  },
  {
   "cell_type": "code",
   "execution_count": 120,
   "metadata": {},
   "outputs": [],
   "source": [
    "def pdf2txt(path):\n",
    "    pdfFileObj = open(path,'rb')\n",
    "    pdfReader = PyPDF2.PdfFileReader(pdfFileObj)\n",
    "    numPages = pdfReader.numPages\n",
    "    pageObj = pdfReader.getPage(0)\n",
    "    if numPages >1:\n",
    "        for i in range(1,numPages):\n",
    "            pageObj.mergePage(pdfReader.getPage(i))\n",
    "    return pageObj.extractText()"
   ]
  },
  {
   "cell_type": "markdown",
   "metadata": {},
   "source": [
    "### Write PDF to Text Function"
   ]
  },
  {
   "cell_type": "code",
   "execution_count": 121,
   "metadata": {},
   "outputs": [],
   "source": [
    "def writePDF2Text(input_path,output_path,algo):\n",
    "    '''\n",
    "    input_path = 'Input Directory Path of PDF Files'\n",
    "    output_path = 'Output directory path where text files will be saved'\n",
    "    algo = 1 for PDFMiner & 2 for PyPDF2\n",
    "    '''\n",
    "    start = time.time()\n",
    "    list_files = list_input_files(path = input_path)\n",
    "    for file in list_files:\n",
    "        if algo ==1:\n",
    "            output = pdf2text(input_path + file)\n",
    "            directory = ''\n",
    "        elif algo ==2:\n",
    "            output = pdf2txt(input_path + file)\n",
    "            directory = 'PyPDF2/'\n",
    "        file = open(output_path + directory + file.split('.')[0] + '.txt',\"w\")\n",
    "        file.write(output)\n",
    "    print('Time Taken(Sec):', time.time()-start)\n",
    "    print(len(list_files),\" Output files saved at\",output_path + directory)\n",
    "    file.close()"
   ]
  },
  {
   "cell_type": "markdown",
   "metadata": {},
   "source": [
    "### Process PDF to Text using PDFMiner"
   ]
  },
  {
   "cell_type": "code",
   "execution_count": 122,
   "metadata": {},
   "outputs": [
    {
     "name": "stdout",
     "output_type": "stream",
     "text": [
      "Time Taken(Sec): 342.3600866794586\n",
      "23  Output files saved at ./Output_files/\n"
     ]
    }
   ],
   "source": [
    "writePDF2Text(input_path = input_file_path,output_path = output_file_path,algo=1)"
   ]
  },
  {
   "cell_type": "markdown",
   "metadata": {},
   "source": [
    "### Process PDF to Text using PyPDF2"
   ]
  },
  {
   "cell_type": "code",
   "execution_count": 123,
   "metadata": {},
   "outputs": [
    {
     "name": "stdout",
     "output_type": "stream",
     "text": [
      "Time Taken(Sec): 193.85242319107056\n",
      "23  Output files saved at ./Output_files/PyPDF2/\n"
     ]
    }
   ],
   "source": [
    "writePDF2Text(input_path = input_file_path,output_path = output_file_path,algo=2)"
   ]
  },
  {
   "cell_type": "markdown",
   "metadata": {},
   "source": [
    "### Cleaning Text File"
   ]
  },
  {
   "cell_type": "code",
   "execution_count": 86,
   "metadata": {},
   "outputs": [],
   "source": [
    "def getRownum(path = \"./Output_files/PDFMiner/BUIT41 - Cash_Statement.txt\"):\n",
    "    file = open(path,\"r+\")\n",
    "    lines = file.readlines()\n",
    "    for rownum,row in enumerate(lines):\n",
    "        if bool(re.search(r\"\\d+\\.\\d+\", row)):\n",
    "            break\n",
    "        else:\n",
    "            continue\n",
    "    \n",
    "    return rownum,row"
   ]
  },
  {
   "cell_type": "code",
   "execution_count": 124,
   "metadata": {},
   "outputs": [
    {
     "ename": "FileNotFoundError",
     "evalue": "[Errno 2] No such file or directory: './Output_files/temp/tempFile.txt'",
     "output_type": "error",
     "traceback": [
      "\u001b[1;31m---------------------------------------------------------------------------\u001b[0m",
      "\u001b[1;31mFileNotFoundError\u001b[0m                         Traceback (most recent call last)",
      "\u001b[1;32m<ipython-input-124-023cf827a4c0>\u001b[0m in \u001b[0;36m<module>\u001b[1;34m()\u001b[0m\n\u001b[0;32m      1\u001b[0m \u001b[0mfile\u001b[0m \u001b[1;33m=\u001b[0m \u001b[0mopen\u001b[0m\u001b[1;33m(\u001b[0m\u001b[1;34m\"./Output_files/BUIT41 - Cash_Statement.txt\"\u001b[0m\u001b[1;33m,\u001b[0m\u001b[1;34m\"r+\"\u001b[0m\u001b[1;33m)\u001b[0m\u001b[1;33m\u001b[0m\u001b[0m\n\u001b[1;32m----> 2\u001b[1;33m \u001b[0mtempFile\u001b[0m \u001b[1;33m=\u001b[0m \u001b[0mopen\u001b[0m\u001b[1;33m(\u001b[0m\u001b[1;34m\"./Output_files/temp/tempFile.txt\"\u001b[0m\u001b[1;33m,\u001b[0m\u001b[1;34m\"r+\"\u001b[0m\u001b[1;33m)\u001b[0m\u001b[1;33m\u001b[0m\u001b[0m\n\u001b[0m\u001b[0;32m      3\u001b[0m \u001b[0mlines\u001b[0m \u001b[1;33m=\u001b[0m \u001b[0mfile\u001b[0m\u001b[1;33m.\u001b[0m\u001b[0mreadlines\u001b[0m\u001b[1;33m(\u001b[0m\u001b[1;33m)\u001b[0m\u001b[1;33m\u001b[0m\u001b[0m\n\u001b[0;32m      4\u001b[0m \u001b[0mtempFile\u001b[0m\u001b[1;33m.\u001b[0m\u001b[0mseek\u001b[0m\u001b[1;33m(\u001b[0m\u001b[1;36m0\u001b[0m\u001b[1;33m)\u001b[0m\u001b[1;33m\u001b[0m\u001b[0m\n\u001b[0;32m      5\u001b[0m \u001b[0mtempFile\u001b[0m\u001b[1;33m.\u001b[0m\u001b[0mtruncate\u001b[0m\u001b[1;33m(\u001b[0m\u001b[1;33m)\u001b[0m\u001b[1;33m\u001b[0m\u001b[0m\n",
      "\u001b[1;31mFileNotFoundError\u001b[0m: [Errno 2] No such file or directory: './Output_files/temp/tempFile.txt'"
     ]
    }
   ],
   "source": [
    "file = open(\"./Output_files/BUIT41 - Cash_Statement.txt\",\"r+\")\n",
    "tempFile = open(\"./Output_files/temp/tempFile.txt\",\"r+\")\n",
    "lines = file.readlines()\n",
    "tempFile.seek(0)\n",
    "tempFile.truncate()\n",
    "for rownum,row in enumerate(lines):\n",
    "    if bool(re.search(r\"\\d+\\.\\d+\", row)):\n",
    "        break\n",
    "    else:\n",
    "        outFile.write(row)\n",
    "        continue\n",
    "shutil.move(os.path.join(\"./Output_files/temp/\", \"tempFile.txt\"), os.path.join(\"./Output_files/\", \"BUIT41 - Cash_Statement.txt\"))\n",
    "file.close()\n",
    "outFile.close()"
   ]
  },
  {
   "cell_type": "code",
   "execution_count": 87,
   "metadata": {},
   "outputs": [
    {
     "data": {
      "text/plain": [
       "(30, 'Spot Buy USD for AUD at 0.78355\\n')"
      ]
     },
     "execution_count": 87,
     "metadata": {},
     "output_type": "execute_result"
    }
   ],
   "source": [
    "getRownum()"
   ]
  },
  {
   "cell_type": "code",
   "execution_count": 65,
   "metadata": {},
   "outputs": [
    {
     "data": {
      "text/plain": [
       "0"
      ]
     },
     "execution_count": 65,
     "metadata": {},
     "output_type": "execute_result"
    }
   ],
   "source": [
    "f = open(\"target.txt\",\"r+\")\n",
    "d = f.readlines()\n",
    "f.seek(0)\n",
    "for i in d:\n",
    "    if i != \"line you want to remove...\":\n",
    "        f.write(i)\n",
    "f.truncate()\n",
    "f.close()\n",
    "This solution ope"
   ]
  },
  {
   "cell_type": "code",
   "execution_count": 80,
   "metadata": {},
   "outputs": [],
   "source": [
    "f = open(\"./Output_files/PDFMiner/BUIT41 - Cash_Statement.txt\",\"r+\")\n",
    "d = f.readlines()"
   ]
  },
  {
   "cell_type": "code",
   "execution_count": null,
   "metadata": {},
   "outputs": [],
   "source": []
  }
 ],
 "metadata": {
  "kernelspec": {
   "display_name": "Python 3",
   "language": "python",
   "name": "python3"
  },
  "language_info": {
   "codemirror_mode": {
    "name": "ipython",
    "version": 3
   },
   "file_extension": ".py",
   "mimetype": "text/x-python",
   "name": "python",
   "nbconvert_exporter": "python",
   "pygments_lexer": "ipython3",
   "version": "3.6.4"
  }
 },
 "nbformat": 4,
 "nbformat_minor": 2
}
