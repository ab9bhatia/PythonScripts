{
 "cells": [
  {
   "cell_type": "markdown",
   "metadata": {},
   "source": [
    "# HackerRank Numpy Questions"
   ]
  },
  {
   "cell_type": "code",
   "execution_count": 7,
   "metadata": {
    "collapsed": true
   },
   "outputs": [],
   "source": [
    "import numpy"
   ]
  },
  {
   "cell_type": "markdown",
   "metadata": {},
   "source": [
    "### Arrays\n",
    "Your task is to print a reversed NumPy array with the element type float."
   ]
  },
  {
   "cell_type": "code",
   "execution_count": 2,
   "metadata": {},
   "outputs": [
    {
     "name": "stdout",
     "output_type": "stream",
     "text": [
      "1 2 3 4 -8 -10\n",
      "[-10.  -8.   4.   3.   2.   1.]\n"
     ]
    }
   ],
   "source": [
    "def arrays(arr):\n",
    "    return numpy.array(arr[::-1],dtype=float)\n",
    "arr = input().strip().split(' ')\n",
    "print(arrays(arr))"
   ]
  },
  {
   "cell_type": "markdown",
   "metadata": {},
   "source": [
    "### Fibonacci series"
   ]
  },
  {
   "cell_type": "code",
   "execution_count": 3,
   "metadata": {},
   "outputs": [
    {
     "name": "stdout",
     "output_type": "stream",
     "text": [
      "6\n",
      "720\n"
     ]
    }
   ],
   "source": [
    "# Fibonacci series\n",
    "a = int(input())\n",
    "out =1\n",
    "for i in range(1,a+1):\n",
    "    out = out*i\n",
    "print(out)"
   ]
  },
  {
   "cell_type": "markdown",
   "metadata": {},
   "source": [
    "### Shape & Reshape \n",
    "You are given a space separated list of nine integers. Your task is to convert this list into a 3X3 NumPy array."
   ]
  },
  {
   "cell_type": "code",
   "execution_count": 4,
   "metadata": {},
   "outputs": [
    {
     "name": "stdout",
     "output_type": "stream",
     "text": [
      "1 2 3 4 5 6 7 8 9\n",
      "[[1 2 3]\n",
      " [4 5 6]\n",
      " [7 8 9]]\n"
     ]
    }
   ],
   "source": [
    "inp_arr = numpy.array(input().split(),dtype=int)\n",
    "out = numpy.reshape(inp_arr,(3,3))\n",
    "print(out)"
   ]
  },
  {
   "cell_type": "markdown",
   "metadata": {},
   "source": [
    "### Transpose & Flatten\n",
    "You are given a X integer array matrix with space separated elements (N = rows and M = columns). \n",
    "Your task is to print the transpose and flatten results."
   ]
  },
  {
   "cell_type": "code",
   "execution_count": 5,
   "metadata": {},
   "outputs": [
    {
     "name": "stdout",
     "output_type": "stream",
     "text": [
      "2 2\n",
      "1 2\n",
      "3 4\n",
      "[[1 3]\n",
      " [2 4]]\n",
      "[1 2 3 4]\n"
     ]
    }
   ],
   "source": [
    "n, m = map(int, input().split())\n",
    "array = numpy.array([input().strip().split() for _ in range(n)], dtype=int)\n",
    "print (array.transpose())\n",
    "print (array.flatten())"
   ]
  },
  {
   "cell_type": "markdown",
   "metadata": {},
   "source": [
    "### Concatenate\n",
    "You are given two integer arrays of size nXp and mXp (n & m are rows, and p is the column). Your task is to concatenate the arrays along axis 0 ."
   ]
  },
  {
   "cell_type": "code",
   "execution_count": 8,
   "metadata": {},
   "outputs": [
    {
     "name": "stdout",
     "output_type": "stream",
     "text": [
      "4 3 2\n",
      "1 2\n",
      "1 2\n",
      "1 2\n",
      "1 2\n",
      "3 4\n",
      "3 4\n",
      "3 4\n",
      "[[1 2]\n",
      " [1 2]\n",
      " [1 2]\n",
      " [1 2]\n",
      " [3 4]\n",
      " [3 4]\n",
      " [3 4]]\n"
     ]
    }
   ],
   "source": [
    "n, m, p = map(int, input().split())\n",
    "array1 = numpy.array([input().split() for _ in range(n)], dtype=int)\n",
    "array2 = numpy.array([input().split() for _ in range(m)], dtype=int)\n",
    "print(numpy.concatenate((array1,array2),axis=0))"
   ]
  },
  {
   "cell_type": "markdown",
   "metadata": {},
   "source": [
    "### Zeros & Ones"
   ]
  },
  {
   "cell_type": "code",
   "execution_count": 10,
   "metadata": {},
   "outputs": [
    {
     "name": "stdout",
     "output_type": "stream",
     "text": [
      "3 3 3\n",
      "[[[0 0 0]\n",
      "  [0 0 0]\n",
      "  [0 0 0]]\n",
      "\n",
      " [[0 0 0]\n",
      "  [0 0 0]\n",
      "  [0 0 0]]\n",
      "\n",
      " [[0 0 0]\n",
      "  [0 0 0]\n",
      "  [0 0 0]]]\n",
      "[[[1 1 1]\n",
      "  [1 1 1]\n",
      "  [1 1 1]]\n",
      "\n",
      " [[1 1 1]\n",
      "  [1 1 1]\n",
      "  [1 1 1]]\n",
      "\n",
      " [[1 1 1]\n",
      "  [1 1 1]\n",
      "  [1 1 1]]]\n"
     ]
    }
   ],
   "source": [
    "N = tuple(map(int,input().split()))\n",
    "# input to numpy.zeros/ones is tuple (a,b,c)\n",
    "print(numpy.zeros(N,dtype=int))\n",
    "print(numpy.ones(N,dtype=int))"
   ]
  },
  {
   "cell_type": "markdown",
   "metadata": {},
   "source": [
    "### Eye & Identity"
   ]
  },
  {
   "cell_type": "code",
   "execution_count": 11,
   "metadata": {},
   "outputs": [
    {
     "name": "stdout",
     "output_type": "stream",
     "text": [
      "3 3\n",
      "[[ 1.  0.  0.]\n",
      " [ 0.  1.  0.]\n",
      " [ 0.  0.  1.]]\n",
      "[[ 1.  0.  0.]\n",
      " [ 0.  1.  0.]\n",
      " [ 0.  0.  1.]]\n"
     ]
    }
   ],
   "source": [
    "n,m = map(int,input().split())\n",
    "print(numpy.eye(n,m))\n",
    "print(numpy.identity(n))"
   ]
  },
  {
   "cell_type": "markdown",
   "metadata": {},
   "source": [
    "### Array Mathematics"
   ]
  },
  {
   "cell_type": "code",
   "execution_count": 12,
   "metadata": {
    "scrolled": true
   },
   "outputs": [
    {
     "name": "stdout",
     "output_type": "stream",
     "text": [
      "1 4\n",
      "1 2 3 4\n",
      "5 6 7 8\n",
      "[[1 2 3 4]]\n",
      "[[5 6 7 8]]\n",
      "[[ 6  8 10 12]]\n",
      "[[-4 -4 -4 -4]]\n",
      "[[ 5 12 21 32]]\n",
      "[[0 0 0 0]]\n",
      "[[1 2 3 4]]\n",
      "[[    1    64  2187 65536]]\n"
     ]
    }
   ],
   "source": [
    "n,m = map(int, input().split())\n",
    "array1 = numpy.array([input().split() for _ in range(n)], dtype=int)\n",
    "array2 = numpy.array([input().split() for _ in range(n)], dtype=int)\n",
    "print(array1)\n",
    "print(array2)\n",
    "#Addition\n",
    "print(numpy.add(array1,array2))\n",
    "#Subtraction\n",
    "print(numpy.subtract(array1,array2))\n",
    "#Multiplication\n",
    "print(numpy.multiply(array1,array2))\n",
    "#Division\n",
    "print(numpy.array((numpy.round(numpy.divide(array1,array2),0)),int))\n",
    "#Modulus\n",
    "print(numpy.mod(array1,array2))\n",
    "#Power\n",
    "print(numpy.power(array1,array2))"
   ]
  },
  {
   "cell_type": "markdown",
   "metadata": {},
   "source": [
    "### Floor, Ceil & Rint"
   ]
  },
  {
   "cell_type": "code",
   "execution_count": 13,
   "metadata": {},
   "outputs": [
    {
     "name": "stdout",
     "output_type": "stream",
     "text": [
      "1.1 2.2 3.3 4.4 5.5 6.6 7.7 8.8 9.9\n",
      "[ 1.  2.  3.  4.  5.  6.  7.  8.  9.]\n",
      "[  2.   3.   4.   5.   6.   7.   8.   9.  10.]\n",
      "[  1.   2.   3.   4.   6.   7.   8.   9.  10.]\n"
     ]
    }
   ],
   "source": [
    "import numpy\n",
    "inp = numpy.array(input().split(),float)\n",
    "print(numpy.floor(inp))\n",
    "print(numpy.ceil(inp))\n",
    "print(numpy.rint(inp))\n",
    "#print(numpy.floor(a),numpy.ceil(a),numpy.rint(a),sep='\\n')"
   ]
  },
  {
   "cell_type": "markdown",
   "metadata": {},
   "source": [
    "### Sum & Product\n",
    "You are given a 2-D array with dimensions NXM. \n",
    "Your task is to perform the SUM tool over axis 0 and then find the PRODUCT of that result."
   ]
  },
  {
   "cell_type": "code",
   "execution_count": 14,
   "metadata": {},
   "outputs": [
    {
     "name": "stdout",
     "output_type": "stream",
     "text": [
      "2 2\n",
      "1 2\n",
      "3 4\n",
      "24\n"
     ]
    }
   ],
   "source": [
    "n,m = map(int,input().split())\n",
    "array = numpy.array([input().split() for _ in range(n)], dtype=int)\n",
    "print(numpy.product(numpy.sum(array,axis=0)))"
   ]
  },
  {
   "cell_type": "markdown",
   "metadata": {},
   "source": [
    "### MIN & MAX\n",
    "You are given a 2-D array with dimensions NXM. \n",
    "Your task is to perform the min function over axis 1 and then find the max of that."
   ]
  },
  {
   "cell_type": "code",
   "execution_count": 15,
   "metadata": {},
   "outputs": [
    {
     "name": "stdout",
     "output_type": "stream",
     "text": [
      "4 2\n",
      "2 5\n",
      "3 7\n",
      "1 3\n",
      "4 0\n",
      "3\n"
     ]
    }
   ],
   "source": [
    "import numpy\n",
    "nrow, ncol = map(int,input().split())\n",
    "input = numpy.array([input().split() for _ in range (nrow)],int)\n",
    "print(numpy.max(numpy.min(input,axis=1)))"
   ]
  },
  {
   "cell_type": "markdown",
   "metadata": {},
   "source": [
    "### Sort the input array"
   ]
  },
  {
   "cell_type": "code",
   "execution_count": 2,
   "metadata": {},
   "outputs": [
    {
     "name": "stdout",
     "output_type": "stream",
     "text": [
      "9 8 7 6 5 4 3 2 1 0\n",
      "[0 1 2 3 4 5 6 7 8 9]\n"
     ]
    }
   ],
   "source": [
    "input = input().strip().split()\n",
    "inp_arr = numpy.array(input,dtype=int)\n",
    "sorted_arr = numpy.sort(inp_arr)\n",
    "print(sorted_arr)"
   ]
  },
  {
   "cell_type": "markdown",
   "metadata": {},
   "source": [
    "### 3rd highest element in array"
   ]
  },
  {
   "cell_type": "code",
   "execution_count": 3,
   "metadata": {},
   "outputs": [
    {
     "name": "stdout",
     "output_type": "stream",
     "text": [
      "7\n"
     ]
    }
   ],
   "source": [
    "inp_arr = numpy.random.randint(low=1,high=10,size=10)\n",
    "sorted_asc = numpy.sort(inp_arr)\n",
    "sorted_desc = sorted_asc[::-1]\n",
    "print(sorted_desc[2])"
   ]
  },
  {
   "cell_type": "markdown",
   "metadata": {},
   "source": [
    "### Sort the input list"
   ]
  },
  {
   "cell_type": "code",
   "execution_count": 6,
   "metadata": {},
   "outputs": [
    {
     "name": "stdout",
     "output_type": "stream",
     "text": [
      "9 8 7 6 5 4 3 2 1 0\n",
      "[0, 1, 2, 3, 4, 5, 6, 7, 8, 9]\n"
     ]
    }
   ],
   "source": [
    "input = input().strip().split()\n",
    "inp_list = list(map(int,input))\n",
    "sorted_list = sorted(inp_list,key=int)\n",
    "print(sorted_list)"
   ]
  },
  {
   "cell_type": "markdown",
   "metadata": {},
   "source": [
    "### Mean, Var, and Std\n",
    "You are given a 2-D array of size NXM. \n",
    "Your task is to find:\n",
    "\n",
    "The mean along axis 1\n",
    "The var along axis 0\n",
    "The std along axis None"
   ]
  },
  {
   "cell_type": "code",
   "execution_count": 2,
   "metadata": {},
   "outputs": [
    {
     "name": "stdout",
     "output_type": "stream",
     "text": [
      "2 2\n",
      "1 2\n",
      "3 4\n",
      "[ 1.5  3.5]\n",
      "[ 1.  1.]\n",
      "1.11803398875\n"
     ]
    }
   ],
   "source": [
    "N,M = map(int,input().split())\n",
    "input = numpy.array([input().split() for _ in range(N)],dtype=int)\n",
    "print(numpy.mean(input,axis=1))\n",
    "print(numpy.var(input,axis=0))\n",
    "print(numpy.std(input,axis=None))"
   ]
  },
  {
   "cell_type": "markdown",
   "metadata": {},
   "source": [
    "### Dot and Cross\n",
    "You are given two arrays A and B. Both have dimensions of NXN. \n",
    "Your task is to compute their matrix product."
   ]
  },
  {
   "cell_type": "code",
   "execution_count": 10,
   "metadata": {},
   "outputs": [
    {
     "name": "stdout",
     "output_type": "stream",
     "text": [
      "2\n",
      "1 2\n",
      "3 4\n",
      "1 2\n",
      "5 6\n",
      "[[11 14]\n",
      " [23 30]]\n"
     ]
    }
   ],
   "source": [
    "N = int(input())\n",
    "arr1 = numpy.array([input().split() for _ in range(N)],int)\n",
    "arr2 = numpy.array([input().split() for _ in range(N)],int)\n",
    "print(numpy.dot(arr1,arr2))"
   ]
  },
  {
   "cell_type": "markdown",
   "metadata": {},
   "source": [
    "### Inner and Outer\n",
    "You are given two arrays: A and B. \n",
    "Your task is to compute their inner and outer product."
   ]
  },
  {
   "cell_type": "code",
   "execution_count": 17,
   "metadata": {},
   "outputs": [
    {
     "name": "stdout",
     "output_type": "stream",
     "text": [
      "0 1\n",
      "2 3\n",
      "3\n",
      "[[0 0]\n",
      " [2 3]]\n"
     ]
    }
   ],
   "source": [
    "A = numpy.array([input().split()],int)\n",
    "B = numpy.array([input().split()],int)\n",
    "print(numpy.inner(A,B)[0][0])\n",
    "print(numpy.outer(A,B))"
   ]
  },
  {
   "cell_type": "markdown",
   "metadata": {},
   "source": [
    "### Polynomials\n",
    "You are given the coefficients of a polynomial P. \n",
    "Your task is to find the value of P at point x."
   ]
  },
  {
   "cell_type": "code",
   "execution_count": 21,
   "metadata": {},
   "outputs": [
    {
     "name": "stdout",
     "output_type": "stream",
     "text": [
      "1.1 2 3\n",
      "0\n",
      "3.0\n"
     ]
    }
   ],
   "source": [
    "P = numpy.array(input().split(),float)\n",
    "x = float(input())\n",
    "print(numpy.polyval(P,x))"
   ]
  },
  {
   "cell_type": "markdown",
   "metadata": {},
   "source": [
    "### Linear Algebra\n",
    "You are given a square matrix A with dimensions NXN. Your task is to find the determinant."
   ]
  },
  {
   "cell_type": "code",
   "execution_count": 23,
   "metadata": {},
   "outputs": [
    {
     "name": "stdout",
     "output_type": "stream",
     "text": [
      "2\n",
      "1.1 1.1\n",
      "1.1 1.1\n",
      "0.0\n"
     ]
    }
   ],
   "source": [
    "N = int(input())\n",
    "A = numpy.array([input().split() for _ in range(N)],dtype=float)\n",
    "print(numpy.linalg.det(A))"
   ]
  },
  {
   "cell_type": "code",
   "execution_count": null,
   "metadata": {
    "collapsed": true
   },
   "outputs": [],
   "source": []
  }
 ],
 "metadata": {
  "anaconda-cloud": {},
  "kernelspec": {
   "display_name": "Python [default]",
   "language": "python",
   "name": "python3"
  },
  "language_info": {
   "codemirror_mode": {
    "name": "ipython",
    "version": 3
   },
   "file_extension": ".py",
   "mimetype": "text/x-python",
   "name": "python",
   "nbconvert_exporter": "python",
   "pygments_lexer": "ipython3",
   "version": "3.5.2"
  }
 },
 "nbformat": 4,
 "nbformat_minor": 2
}
