{
 "cells": [
  {
   "cell_type": "code",
   "execution_count": 1,
   "metadata": {
    "collapsed": true
   },
   "outputs": [],
   "source": [
    "# Import Libraries\n",
    "import pprint, json\n",
    "import zomatopy\n",
    "import re\n",
    "import pprint"
   ]
  },
  {
   "cell_type": "markdown",
   "metadata": {},
   "source": [
    "#### Function to get the lowest & highest values from the budget string."
   ]
  },
  {
   "cell_type": "code",
   "execution_count": 78,
   "metadata": {
    "collapsed": true
   },
   "outputs": [],
   "source": [
    "def getBudget(d,budget):\n",
    "    lowest = int()\n",
    "    highest = int()\n",
    "    bud_range = re.findall(r\"\\d+\", bud)\n",
    "    bud_range = [int(i) for i in bud_range]\n",
    "    if (len(bud_range) >=2):\n",
    "        lowest = min(bud_range)\n",
    "        highest = max(bud_range)\n",
    "    else:\n",
    "        bud_words = [x.lower() for x in bud.split()]\n",
    "        low = ['low','lower','lesser','ends','from','<']\n",
    "        high = ['high','higher','greater','starts','to','limit','>']\n",
    "        match_low = [i for i in low if i in bud_words]\n",
    "        match_high = [i for i in high if i in bud_words]\n",
    "        if ((len(match_low) > 0) | (len(str(bud_range[0]))==len(budget))):\n",
    "            lowest = min([restaurant['restaurant']['average_cost_for_two'] for restaurant in d['restaurants']])\n",
    "            highest = bud_range[0]\n",
    "        elif(len(match_high) > 0):\n",
    "            lowest = bud_range[0]\n",
    "            highest = max([restaurant['restaurant']['average_cost_for_two'] for restaurant in d['restaurants']])\n",
    "    return lowest,highest"
   ]
  },
  {
   "cell_type": "code",
   "execution_count": 128,
   "metadata": {
    "collapsed": true
   },
   "outputs": [],
   "source": [
    "# Test function"
   ]
  },
  {
   "cell_type": "code",
   "execution_count": 55,
   "metadata": {},
   "outputs": [
    {
     "name": "stdout",
     "output_type": "stream",
     "text": [
      "500 1500\n"
     ]
    }
   ],
   "source": [
    "bud = 'In the range from 500 to 1500'\n",
    "lowest, highest = getBudget(d,budget=bud)\n",
    "print(lowest, highest)"
   ]
  },
  {
   "cell_type": "code",
   "execution_count": 51,
   "metadata": {},
   "outputs": [
    {
     "name": "stdout",
     "output_type": "stream",
     "text": [
      "400 500\n"
     ]
    }
   ],
   "source": [
    "bud = 'lesser than 500'\n",
    "lowest, highest = getBudget(d,budget=bud)\n",
    "print(lowest, highest)"
   ]
  },
  {
   "cell_type": "code",
   "execution_count": 57,
   "metadata": {},
   "outputs": [
    {
     "name": "stdout",
     "output_type": "stream",
     "text": [
      "400 10000\n"
     ]
    }
   ],
   "source": [
    "bud = 'I am a rich guy:), my limit is 10000'\n",
    "lowest, highest = getBudget(d,budget=bud)\n",
    "print(lowest, highest)"
   ]
  },
  {
   "cell_type": "code",
   "execution_count": 43,
   "metadata": {},
   "outputs": [
    {
     "name": "stdout",
     "output_type": "stream",
     "text": [
      "0 0\n"
     ]
    }
   ],
   "source": [
    "bud = 'I want a meal within a range of 800'\n",
    "lowest, highest = getBudget(d,budget=bud)\n",
    "print(lowest, highest)"
   ]
  },
  {
   "cell_type": "code",
   "execution_count": 72,
   "metadata": {},
   "outputs": [
    {
     "name": "stdout",
     "output_type": "stream",
     "text": [
      "700 500\n"
     ]
    }
   ],
   "source": [
    "bud = '500'\n",
    "lowest, highest = getBudget(d,budget=bud)\n",
    "print(lowest, highest)"
   ]
  },
  {
   "cell_type": "code",
   "execution_count": 71,
   "metadata": {
    "collapsed": true
   },
   "outputs": [],
   "source": [
    "loc = 'Mohali'\n",
    "cuisine = 'veg'\n",
    "bud = '500'"
   ]
  },
  {
   "cell_type": "markdown",
   "metadata": {},
   "source": [
    "#### Input Variables"
   ]
  },
  {
   "cell_type": "code",
   "execution_count": 3,
   "metadata": {
    "collapsed": true
   },
   "outputs": [],
   "source": [
    "# specify location, cuisine & budget\n",
    "loc = 'pune'\n",
    "cuisine = 'chinese'\n",
    "bud = '>1000'\n",
    "#bud = 'lesser than 1000'\n",
    "#bud = 'greater than 1000'\n",
    "#bud = 'limit is 1500'"
   ]
  },
  {
   "cell_type": "markdown",
   "metadata": {},
   "source": [
    "#### sample code to fetch a list of restaurants using zomatopy"
   ]
  },
  {
   "cell_type": "code",
   "execution_count": 98,
   "metadata": {},
   "outputs": [],
   "source": [
    "loc = 'Mohali'\n",
    "cuisine = 'veg'\n",
    "bud = '>1000'\n",
    "\n",
    "# provide API key and initialise a 'zomato app' object\n",
    "config={ \"user_key\": \"78c87a6483c0723fb0743bb4e9ab417d\"}\n",
    "zomato = zomatopy.initialize_app(config)\n",
    "\n",
    "# get_location gets the lat-long coordinates of 'loc'\n",
    "location_detail=zomato.get_location(loc, 1)\n",
    "\n",
    "# store retrieved data as a dict\n",
    "d1 = json.loads(location_detail)\n",
    "\n",
    "# separate lat-long coordinates\n",
    "lat=d1[\"location_suggestions\"][0][\"latitude\"]\n",
    "lon=d1[\"location_suggestions\"][0][\"longitude\"]\n",
    "\n",
    "# cuisines code (used by zomatopy)\n",
    "cuisines_dict={'bakery':5,'chinese':25,'cafe':30,'italian':55,'biryani':7,'north indian':50,'south indian':85}\n",
    "\n",
    "# fetch and print results\n",
    "results=zomato.restaurant_search(\"\", lat, lon, str(cuisines_dict.get(cuisine)), 5)\n",
    "d = json.loads(results)\n",
    "#pprint.pprint(d)\n",
    "\n"
   ]
  },
  {
   "cell_type": "code",
   "execution_count": 99,
   "metadata": {
    "collapsed": true
   },
   "outputs": [],
   "source": [
    "bud_range = re.findall(r\"\\d+\", bud)\n",
    "bud_range = [int(i) for i in bud_range]\n",
    "if (len(bud_range) >=2):\n",
    "    lowest = min(bud_range)\n",
    "    highest = max(bud_range)\n",
    "else:\n",
    "    if ((bud.startswith('<')) | (len(str(bud_range[0]))==len(bud))):\n",
    "        lowest = 0\n",
    "        highest = bud_range[0]\n",
    "    elif(bud.startswith('>')):\n",
    "        lowest = bud_range[0]\n",
    "        highest = max([restaurant['restaurant']['average_cost_for_two'] for restaurant in d['restaurants']])"
   ]
  },
  {
   "cell_type": "code",
<<<<<<< HEAD
   "execution_count": 42,
=======
   "execution_count": 100,
>>>>>>> bc36d0c6eed91592cca3ae5c9636f1bd3a63cca3
   "metadata": {},
   "outputs": [
    {
     "name": "stdout",
     "output_type": "stream",
     "text": [
<<<<<<< HEAD
      "400 90000\n"
=======
      "1000 2000\n"
>>>>>>> bc36d0c6eed91592cca3ae5c9636f1bd3a63cca3
     ]
    }
   ],
   "source": [
<<<<<<< HEAD
    "bud = '90000'\n",
    "lowest, highest = getBudget(d,budget=bud)\n",
    "print(lowest, highest)"
=======
    "print(lowest,highest)"
>>>>>>> bc36d0c6eed91592cca3ae5c9636f1bd3a63cca3
   ]
  },
  {
   "cell_type": "code",
   "execution_count": 96,
   "metadata": {},
   "outputs": [
    {
     "data": {
      "text/plain": [
       "False"
      ]
     },
     "execution_count": 96,
     "metadata": {},
     "output_type": "execute_result"
    }
   ],
   "source": [
    "bud.startswith('>')"
   ]
  },
  {
   "cell_type": "code",
   "execution_count": null,
   "metadata": {
    "collapsed": true
   },
   "outputs": [],
   "source": [
    "    def name(self):\n",
    "        return 'action_SendEmail'\n",
    "\t\t\n",
    "    def run(self, dispatcher, tracker, domain):\n",
    "\t\temail = tracker.get_slot('email')\n",
    "\t\temailAddress = tracker.get_slot('emailAddress')\n",
    "\t\tprint(emailAddress)\n",
    "        if email.lower() =='yes':\n",
    "            UserUttered(\"/utter_ask_emailAddress\", intent={'name': 'utter_ask_emailAddress', 'confidence': 1.0}),\n",
    "            return [SlotSet(\"email\", email)]\n",
    "        else:\n",
    "            UserUttered(\"/utter_goodbye\", intent={'name': 'utter_goodbye', 'confidence': 1.0}),\n",
    "            return [SlotSet(\"email\", email)]"
   ]
  }
 ],
 "metadata": {
  "kernelspec": {
   "display_name": "Python 3",
   "language": "python",
   "name": "python3"
  },
  "language_info": {
   "codemirror_mode": {
    "name": "ipython",
    "version": 3
   },
   "file_extension": ".py",
   "mimetype": "text/x-python",
   "name": "python",
   "nbconvert_exporter": "python",
   "pygments_lexer": "ipython3",
   "version": "3.6.3"
  }
 },
 "nbformat": 4,
 "nbformat_minor": 2
}
