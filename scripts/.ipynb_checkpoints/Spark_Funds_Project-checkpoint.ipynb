{
 "cells": [
  {
   "cell_type": "markdown",
   "metadata": {},
   "source": [
    "# Investment Case Group Project"
   ]
  },
  {
   "cell_type": "code",
   "execution_count": 142,
   "metadata": {
    "collapsed": true
   },
   "outputs": [],
   "source": [
    "import pandas as pd\n",
    "import numpy as np\n",
    "import os\n",
    "import matplotlib.pyplot as plt\n",
    "%matplotlib inline\n",
    "# IMPORTANT: Replace inputDir & outDir path with your directory path.\n",
    "inputDir = 'C:/Users/ankit.bhatia/Documents/GitHub/PythonScripts/data/spark_funds/'\n",
    "outDir = 'C:/Users/ankit.bhatia/Documents/GitHub/PythonScripts/data/spark_funds/outDir/'\n",
    "file1 = 'companies.txt'\n",
    "file2 = 'rounds2.csv'\n",
    "file3 = 'mapping.csv'"
   ]
  },
  {
   "cell_type": "markdown",
   "metadata": {},
   "source": [
    "## Checkpoint 1: Data Cleaning"
   ]
  },
  {
   "cell_type": "code",
   "execution_count": 143,
   "metadata": {},
   "outputs": [],
   "source": [
    "# Loading datasets into pandas dataframe.\n",
    "companies = pd.read_csv(inputDir+file1,sep='\\t',encoding='iso-8859-1')\n",
    "rounds2 = pd.read_csv(inputDir+file2,encoding='iso-8859-1') # Use 'iso-8859-1' for accented characters"
   ]
  },
  {
   "cell_type": "code",
   "execution_count": 144,
   "metadata": {},
   "outputs": [
    {
     "data": {
      "text/html": [
       "<div>\n",
       "<style>\n",
       "    .dataframe thead tr:only-child th {\n",
       "        text-align: right;\n",
       "    }\n",
       "\n",
       "    .dataframe thead th {\n",
       "        text-align: left;\n",
       "    }\n",
       "\n",
       "    .dataframe tbody tr th {\n",
       "        vertical-align: top;\n",
       "    }\n",
       "</style>\n",
       "<table border=\"1\" class=\"dataframe\">\n",
       "  <thead>\n",
       "    <tr style=\"text-align: right;\">\n",
       "      <th></th>\n",
       "      <th>permalink</th>\n",
       "      <th>name</th>\n",
       "      <th>homepage_url</th>\n",
       "      <th>category_list</th>\n",
       "      <th>status</th>\n",
       "      <th>country_code</th>\n",
       "      <th>state_code</th>\n",
       "      <th>region</th>\n",
       "      <th>city</th>\n",
       "      <th>founded_at</th>\n",
       "    </tr>\n",
       "  </thead>\n",
       "  <tbody>\n",
       "    <tr>\n",
       "      <th>0</th>\n",
       "      <td>/Organization/-Fame</td>\n",
       "      <td>#fame</td>\n",
       "      <td>http://livfame.com</td>\n",
       "      <td>Media</td>\n",
       "      <td>operating</td>\n",
       "      <td>IND</td>\n",
       "      <td>16</td>\n",
       "      <td>Mumbai</td>\n",
       "      <td>Mumbai</td>\n",
       "      <td>NaN</td>\n",
       "    </tr>\n",
       "    <tr>\n",
       "      <th>1</th>\n",
       "      <td>/Organization/-Qounter</td>\n",
       "      <td>:Qounter</td>\n",
       "      <td>http://www.qounter.com</td>\n",
       "      <td>Application Platforms|Real Time|Social Network...</td>\n",
       "      <td>operating</td>\n",
       "      <td>USA</td>\n",
       "      <td>DE</td>\n",
       "      <td>DE - Other</td>\n",
       "      <td>Delaware City</td>\n",
       "      <td>04-09-2014</td>\n",
       "    </tr>\n",
       "  </tbody>\n",
       "</table>\n",
       "</div>"
      ],
      "text/plain": [
       "                permalink      name            homepage_url  \\\n",
       "0     /Organization/-Fame     #fame      http://livfame.com   \n",
       "1  /Organization/-Qounter  :Qounter  http://www.qounter.com   \n",
       "\n",
       "                                       category_list     status country_code  \\\n",
       "0                                              Media  operating          IND   \n",
       "1  Application Platforms|Real Time|Social Network...  operating          USA   \n",
       "\n",
       "  state_code      region           city  founded_at  \n",
       "0         16      Mumbai         Mumbai         NaN  \n",
       "1         DE  DE - Other  Delaware City  04-09-2014  "
      ]
     },
     "execution_count": 144,
     "metadata": {},
     "output_type": "execute_result"
    }
   ],
   "source": [
    "# Get some insight\n",
    "companies.head(2)"
   ]
  },
  {
   "cell_type": "code",
   "execution_count": 145,
   "metadata": {},
   "outputs": [
    {
     "data": {
      "text/html": [
       "<div>\n",
       "<style>\n",
       "    .dataframe thead tr:only-child th {\n",
       "        text-align: right;\n",
       "    }\n",
       "\n",
       "    .dataframe thead th {\n",
       "        text-align: left;\n",
       "    }\n",
       "\n",
       "    .dataframe tbody tr th {\n",
       "        vertical-align: top;\n",
       "    }\n",
       "</style>\n",
       "<table border=\"1\" class=\"dataframe\">\n",
       "  <thead>\n",
       "    <tr style=\"text-align: right;\">\n",
       "      <th></th>\n",
       "      <th>company_permalink</th>\n",
       "      <th>funding_round_permalink</th>\n",
       "      <th>funding_round_type</th>\n",
       "      <th>funding_round_code</th>\n",
       "      <th>funded_at</th>\n",
       "      <th>raised_amount_usd</th>\n",
       "    </tr>\n",
       "  </thead>\n",
       "  <tbody>\n",
       "    <tr>\n",
       "      <th>0</th>\n",
       "      <td>/organization/-fame</td>\n",
       "      <td>/funding-round/9a01d05418af9f794eebff7ace91f638</td>\n",
       "      <td>venture</td>\n",
       "      <td>B</td>\n",
       "      <td>05-01-2015</td>\n",
       "      <td>10000000.0</td>\n",
       "    </tr>\n",
       "    <tr>\n",
       "      <th>1</th>\n",
       "      <td>/ORGANIZATION/-QOUNTER</td>\n",
       "      <td>/funding-round/22dacff496eb7acb2b901dec1dfe5633</td>\n",
       "      <td>venture</td>\n",
       "      <td>A</td>\n",
       "      <td>14-10-2014</td>\n",
       "      <td>NaN</td>\n",
       "    </tr>\n",
       "  </tbody>\n",
       "</table>\n",
       "</div>"
      ],
      "text/plain": [
       "        company_permalink                          funding_round_permalink  \\\n",
       "0     /organization/-fame  /funding-round/9a01d05418af9f794eebff7ace91f638   \n",
       "1  /ORGANIZATION/-QOUNTER  /funding-round/22dacff496eb7acb2b901dec1dfe5633   \n",
       "\n",
       "  funding_round_type funding_round_code   funded_at  raised_amount_usd  \n",
       "0            venture                  B  05-01-2015         10000000.0  \n",
       "1            venture                  A  14-10-2014                NaN  "
      ]
     },
     "execution_count": 145,
     "metadata": {},
     "output_type": "execute_result"
    }
   ],
   "source": [
    "rounds2.head(2)"
   ]
  },
  {
   "cell_type": "markdown",
   "metadata": {},
   "source": [
    "### Table 1.1\n",
    "#### Q1. How many unique companies are present in rounds2?"
   ]
  },
  {
   "cell_type": "code",
   "execution_count": 146,
   "metadata": {},
   "outputs": [
    {
     "data": {
      "text/plain": [
       "66370"
      ]
     },
     "execution_count": 146,
     "metadata": {},
     "output_type": "execute_result"
    }
   ],
   "source": [
    "# .count() will give the total no of rows.\n",
    "#rounds2.company_permalink.count()\n",
    "\n",
    "# Unique count which excludes NA as well by default, use .lower() , in case of duplicate enties in different case.\n",
    "rounds2.company_permalink.str.lower().nunique()"
   ]
  },
  {
   "cell_type": "markdown",
   "metadata": {},
   "source": [
    "#### Q2. How many unique companies are present in companies?"
   ]
  },
  {
   "cell_type": "code",
   "execution_count": 147,
   "metadata": {},
   "outputs": [
    {
     "data": {
      "text/plain": [
       "66368"
      ]
     },
     "execution_count": 147,
     "metadata": {},
     "output_type": "execute_result"
    }
   ],
   "source": [
    "companies.permalink.str.lower().nunique()"
   ]
  },
  {
   "cell_type": "markdown",
   "metadata": {},
   "source": [
    "#### Q3. In the companies data frame, which column can be used as the unique key for each company? Write the name of the column."
   ]
  },
  {
   "cell_type": "code",
   "execution_count": 148,
   "metadata": {},
   "outputs": [
    {
     "data": {
      "text/plain": [
       "permalink    66368\n",
       "dtype: int64"
      ]
     },
     "execution_count": 148,
     "metadata": {},
     "output_type": "execute_result"
    }
   ],
   "source": [
    "# Ist Method\n",
    "#nunique() will give unique values for each column, column with maximum unique counts can be considered as unique column#### \n",
    "companies.nunique().sort_values(ascending=False).iloc[0:1]\n",
    "\n",
    "# IInd Method\n",
    "# Companies.describe() will give count, unique, top etc information, we store count & unique values in a temp df and\n",
    "# then subtracting unique values(1) from count(0) and giving the column name where difference is 0\n",
    "#companies.describe().iloc[0:2]\n"
   ]
  },
  {
   "cell_type": "markdown",
   "metadata": {},
   "source": [
    "#### Q4. Are there any companies in the rounds2 file which are not  present in companies ?"
   ]
  },
  {
   "cell_type": "code",
   "execution_count": 149,
   "metadata": {},
   "outputs": [
    {
     "data": {
      "text/html": [
       "<div>\n",
       "<style>\n",
       "    .dataframe thead tr:only-child th {\n",
       "        text-align: right;\n",
       "    }\n",
       "\n",
       "    .dataframe thead th {\n",
       "        text-align: left;\n",
       "    }\n",
       "\n",
       "    .dataframe tbody tr th {\n",
       "        vertical-align: top;\n",
       "    }\n",
       "</style>\n",
       "<table border=\"1\" class=\"dataframe\">\n",
       "  <thead>\n",
       "    <tr style=\"text-align: right;\">\n",
       "      <th></th>\n",
       "      <th>company_permalink</th>\n",
       "      <th>funding_round_permalink</th>\n",
       "      <th>funding_round_type</th>\n",
       "      <th>funding_round_code</th>\n",
       "      <th>funded_at</th>\n",
       "      <th>raised_amount_usd</th>\n",
       "    </tr>\n",
       "  </thead>\n",
       "  <tbody>\n",
       "    <tr>\n",
       "      <th>29597</th>\n",
       "      <td>/ORGANIZATION/E-CÃBICA</td>\n",
       "      <td>/funding-round/8491f74869e4fe8ba9c378394f8fbdea</td>\n",
       "      <td>seed</td>\n",
       "      <td>NaN</td>\n",
       "      <td>01-02-2015</td>\n",
       "      <td>NaN</td>\n",
       "    </tr>\n",
       "    <tr>\n",
       "      <th>31863</th>\n",
       "      <td>/ORGANIZATION/ENERGYSTONE-GAMES-ÇµÇ³Æ¸¸Æ</td>\n",
       "      <td>/funding-round/b89553f3d2279c5683ae93f45a21cfe0</td>\n",
       "      <td>seed</td>\n",
       "      <td>NaN</td>\n",
       "      <td>09-08-2014</td>\n",
       "      <td>NaN</td>\n",
       "    </tr>\n",
       "    <tr>\n",
       "      <th>45176</th>\n",
       "      <td>/organization/huizuche-com-æ ç§ÿè½¦</td>\n",
       "      <td>/funding-round/8f8a32dbeeb0f831a78702f83af78a36</td>\n",
       "      <td>seed</td>\n",
       "      <td>NaN</td>\n",
       "      <td>18-09-2014</td>\n",
       "      <td>NaN</td>\n",
       "    </tr>\n",
       "    <tr>\n",
       "      <th>58473</th>\n",
       "      <td>/ORGANIZATION/MAGNET-TECH-Ç£Ç³Ç§Æ</td>\n",
       "      <td>/funding-round/8fc91fbb32bc95e97f151dd0cb4166bf</td>\n",
       "      <td>seed</td>\n",
       "      <td>NaN</td>\n",
       "      <td>16-08-2014</td>\n",
       "      <td>1625585.0</td>\n",
       "    </tr>\n",
       "    <tr>\n",
       "      <th>101036</th>\n",
       "      <td>/organization/tipcat-interactive-æ²èÿä¿¡æ¯ç...</td>\n",
       "      <td>/funding-round/41005928a1439cb2d706a43cb661f60f</td>\n",
       "      <td>seed</td>\n",
       "      <td>NaN</td>\n",
       "      <td>06-09-2010</td>\n",
       "      <td>NaN</td>\n",
       "    </tr>\n",
       "    <tr>\n",
       "      <th>109969</th>\n",
       "      <td>/ORGANIZATION/WEICHE-TECH-ÅÈ½¦Ç§Æ</td>\n",
       "      <td>/funding-round/f74e457f838b81fa0b29649740f186d8</td>\n",
       "      <td>venture</td>\n",
       "      <td>A</td>\n",
       "      <td>06-09-2015</td>\n",
       "      <td>NaN</td>\n",
       "    </tr>\n",
       "    <tr>\n",
       "      <th>113839</th>\n",
       "      <td>/ORGANIZATION/ZENGAME-Ç¦",
       "Æ¸¸Ç§Æ</td>\n",
       "      <td>/funding-round/6ba28fb4f3eadf5a9c6c81bc5dde6cdf</td>\n",
       "      <td>seed</td>\n",
       "      <td>NaN</td>\n",
       "      <td>17-07-2010</td>\n",
       "      <td>NaN</td>\n",
       "    </tr>\n",
       "  </tbody>\n",
       "</table>\n",
       "</div>"
      ],
      "text/plain": [
       "                                        company_permalink  \\\n",
       "29597                             /ORGANIZATION/E-CÃBICA   \n",
       "31863        /ORGANIZATION/ENERGYSTONE-GAMES-ÇµÇ³Æ¸¸Æ   \n",
       "45176                /organization/huizuche-com-æ ç§ÿè½¦   \n",
       "58473              /ORGANIZATION/MAGNET-TECH-Ç£Ç³Ç§Æ   \n",
       "101036  /organization/tipcat-interactive-æ²èÿä¿¡æ¯ç...   \n",
       "109969             /ORGANIZATION/WEICHE-TECH-ÅÈ½¦Ç§Æ   \n",
       "113839                 /ORGANIZATION/ZENGAME-Ç¦\n",
       "Æ¸¸Ç§Æ   \n",
       "\n",
       "                                funding_round_permalink funding_round_type  \\\n",
       "29597   /funding-round/8491f74869e4fe8ba9c378394f8fbdea               seed   \n",
       "31863   /funding-round/b89553f3d2279c5683ae93f45a21cfe0               seed   \n",
       "45176   /funding-round/8f8a32dbeeb0f831a78702f83af78a36               seed   \n",
       "58473   /funding-round/8fc91fbb32bc95e97f151dd0cb4166bf               seed   \n",
       "101036  /funding-round/41005928a1439cb2d706a43cb661f60f               seed   \n",
       "109969  /funding-round/f74e457f838b81fa0b29649740f186d8            venture   \n",
       "113839  /funding-round/6ba28fb4f3eadf5a9c6c81bc5dde6cdf               seed   \n",
       "\n",
       "       funding_round_code   funded_at  raised_amount_usd  \n",
       "29597                 NaN  01-02-2015                NaN  \n",
       "31863                 NaN  09-08-2014                NaN  \n",
       "45176                 NaN  18-09-2014                NaN  \n",
       "58473                 NaN  16-08-2014          1625585.0  \n",
       "101036                NaN  06-09-2010                NaN  \n",
       "109969                  A  06-09-2015                NaN  \n",
       "113839                NaN  17-07-2010                NaN  "
      ]
     },
     "execution_count": 149,
     "metadata": {},
     "output_type": "execute_result"
    }
   ],
   "source": [
    "# Check the existacce of a column of dataframe1 in column1 of dataframe2\n",
    "rounds2[rounds2['company_permalink'].str.lower().isin(companies['permalink'].str.lower())== False]"
   ]
  },
  {
   "cell_type": "markdown",
   "metadata": {},
   "source": [
    "#### Q5. Merge the two data frames so that all  variables (columns)  in the companies frame are added to the rounds2 data frame. Name the merged frame master_frame. How many observations are present in master_frame ?"
   ]
  },
  {
   "cell_type": "code",
   "execution_count": 150,
   "metadata": {},
   "outputs": [
    {
     "data": {
      "text/plain": [
       "114942"
      ]
     },
     "execution_count": 150,
     "metadata": {},
     "output_type": "execute_result"
    }
   ],
   "source": [
    "# lower() the key columns of both dataframes, so they can match in case of diffence in case.\n",
    "companies['permalink'] = companies['permalink'].str.lower()\n",
    "rounds2['company_permalink'] = rounds2['company_permalink'].str.lower()\n",
    "master_frame = pd.merge(left = companies,right = rounds2, how ='inner', left_on='permalink',right_on='company_permalink')\n",
    "master_frame.shape[0]\n",
    "# From here we will work with master_frame only"
   ]
  },
  {
   "cell_type": "code",
   "execution_count": 151,
   "metadata": {
    "collapsed": true
   },
   "outputs": [],
   "source": [
    "# Drop Rows from master_frame where raised_amount_usd is null\n",
    "master_frame = master_frame.drop(master_frame[master_frame.raised_amount_usd.isnull()].index)"
   ]
  },
  {
   "cell_type": "markdown",
   "metadata": {},
   "source": [
    "#### Define Function"
   ]
  },
  {
   "cell_type": "code",
   "execution_count": 152,
   "metadata": {
    "collapsed": true
   },
   "outputs": [],
   "source": [
    "# Defining a method to wite(.csv) a file to the user location.\n",
    "def writeDF(dataframe,filename,dir_path):\n",
    "    dataframe.to_csv(path_or_buf = outDir+filename+'.csv')\n",
    "    size = str(round((os.path.getsize(outDir+filename+'.csv')/1000),1))\n",
    "    print('File: '+filename+'.csv created at '+outDir+ '\\nSize of file :'+size+ ' KB' )"
   ]
  },
  {
   "cell_type": "markdown",
   "metadata": {},
   "source": [
    "#### Storing Data"
   ]
  },
  {
   "cell_type": "code",
   "execution_count": 153,
   "metadata": {},
   "outputs": [
    {
     "name": "stdout",
     "output_type": "stream",
     "text": [
      "File: master_frame.csv created at C:/Users/ankit.bhatia/Documents/GitHub/PythonScripts/data/spark_funds/outDir/\n",
      "Size of file :23784.3 KB\n"
     ]
    }
   ],
   "source": [
    "# Storing master_frame dataframe at user location, we can then use this .csv directly in Tableau\n",
    "writeDF(master_frame,'master_frame',outDir)"
   ]
  },
  {
   "cell_type": "markdown",
   "metadata": {},
   "source": [
    "## Checkpoint 2: Funding Type Analysis\n",
    "### Table 2.1 ( Average Values of Investments for Each of these Funding Types)"
   ]
  },
  {
   "cell_type": "markdown",
   "metadata": {},
   "source": [
    "#### Define Function"
   ]
  },
  {
   "cell_type": "code",
   "execution_count": 154,
   "metadata": {
    "collapsed": true
   },
   "outputs": [],
   "source": [
    "# defining a function to get average funding amount for any funding type.\n",
    "def avg_funding_amount(funding_type):\n",
    "    return master_frame[master_frame['funding_round_type']==funding_type]['raised_amount_usd'].mean()"
   ]
  },
  {
   "cell_type": "markdown",
   "metadata": {},
   "source": [
    "#### Q1/2/3/4. Average funding amount of different funding type ?"
   ]
  },
  {
   "cell_type": "code",
   "execution_count": 155,
   "metadata": {
    "scrolled": true
   },
   "outputs": [
    {
     "name": "stdout",
     "output_type": "stream",
     "text": [
      "venture 11748949.129489528\n",
      "angel 958694.4697530865\n",
      "seed 719779.6202016778\n",
      "private_equity 73308593.02944215\n"
     ]
    }
   ],
   "source": [
    "venture = avg_funding_amount('venture')\n",
    "angel = avg_funding_amount('angel')\n",
    "seed = avg_funding_amount('seed')\n",
    "private_equity = avg_funding_amount('private_equity')\n",
    "\n",
    "print('venture' ,avg_funding_amount('venture'))\n",
    "print('angel' ,avg_funding_amount('angel'))\n",
    "print('seed' ,avg_funding_amount('seed'))\n",
    "print('private_equity' ,avg_funding_amount('private_equity'))"
   ]
  },
  {
   "cell_type": "markdown",
   "metadata": {},
   "source": [
    "#### Q5. Considering that Spark Funds wants to invest between 5 to 15 million USD per  investment round, which investment type is the most suitable for them?"
   ]
  },
  {
   "cell_type": "code",
   "execution_count": 156,
   "metadata": {},
   "outputs": [
    {
     "data": {
      "text/html": [
       "<div>\n",
       "<style>\n",
       "    .dataframe thead tr:only-child th {\n",
       "        text-align: right;\n",
       "    }\n",
       "\n",
       "    .dataframe thead th {\n",
       "        text-align: left;\n",
       "    }\n",
       "\n",
       "    .dataframe tbody tr th {\n",
       "        vertical-align: top;\n",
       "    }\n",
       "</style>\n",
       "<table border=\"1\" class=\"dataframe\">\n",
       "  <thead>\n",
       "    <tr style=\"text-align: right;\">\n",
       "      <th></th>\n",
       "      <th>raised_amount_usd</th>\n",
       "    </tr>\n",
       "    <tr>\n",
       "      <th>funding_round_type</th>\n",
       "      <th></th>\n",
       "    </tr>\n",
       "  </thead>\n",
       "  <tbody>\n",
       "    <tr>\n",
       "      <th>venture</th>\n",
       "      <td>1.174895e+07</td>\n",
       "    </tr>\n",
       "  </tbody>\n",
       "</table>\n",
       "</div>"
      ],
      "text/plain": [
       "                    raised_amount_usd\n",
       "funding_round_type                   \n",
       "venture                  1.174895e+07"
      ]
     },
     "execution_count": 156,
     "metadata": {},
     "output_type": "execute_result"
    }
   ],
   "source": [
    "# We can check from the last step that only venture funding type lies between 5 to 15 million.\n",
    "# Alternatively we can find the funding type through below code:\n",
    "## [['']] double brackets or (.reset_index()) are used to keep the dataframe , if we use [''], it will be converted into series\n",
    "most_suitable = master_frame.groupby(by='funding_round_type')[['raised_amount_usd']].mean()\n",
    "most_suitable = most_suitable[(most_suitable.raised_amount_usd >= 5000000) & (most_suitable.raised_amount_usd <= 15000000)]\n",
    "most_suitable"
   ]
  },
  {
   "cell_type": "code",
   "execution_count": 157,
   "metadata": {},
   "outputs": [
    {
     "data": {
      "text/html": [
       "<div>\n",
       "<style>\n",
       "    .dataframe thead tr:only-child th {\n",
       "        text-align: right;\n",
       "    }\n",
       "\n",
       "    .dataframe thead th {\n",
       "        text-align: left;\n",
       "    }\n",
       "\n",
       "    .dataframe tbody tr th {\n",
       "        vertical-align: top;\n",
       "    }\n",
       "</style>\n",
       "<table border=\"1\" class=\"dataframe\">\n",
       "  <thead>\n",
       "    <tr style=\"text-align: right;\">\n",
       "      <th></th>\n",
       "      <th>permalink</th>\n",
       "      <th>name</th>\n",
       "      <th>homepage_url</th>\n",
       "      <th>category_list</th>\n",
       "      <th>status</th>\n",
       "      <th>country_code</th>\n",
       "      <th>state_code</th>\n",
       "      <th>region</th>\n",
       "      <th>city</th>\n",
       "      <th>founded_at</th>\n",
       "      <th>company_permalink</th>\n",
       "      <th>funding_round_permalink</th>\n",
       "      <th>funding_round_type</th>\n",
       "      <th>funding_round_code</th>\n",
       "      <th>funded_at</th>\n",
       "      <th>raised_amount_usd</th>\n",
       "    </tr>\n",
       "  </thead>\n",
       "  <tbody>\n",
       "    <tr>\n",
       "      <th>0</th>\n",
       "      <td>/organization/-fame</td>\n",
       "      <td>#fame</td>\n",
       "      <td>http://livfame.com</td>\n",
       "      <td>Media</td>\n",
       "      <td>operating</td>\n",
       "      <td>IND</td>\n",
       "      <td>16</td>\n",
       "      <td>Mumbai</td>\n",
       "      <td>Mumbai</td>\n",
       "      <td>NaN</td>\n",
       "      <td>/organization/-fame</td>\n",
       "      <td>/funding-round/9a01d05418af9f794eebff7ace91f638</td>\n",
       "      <td>venture</td>\n",
       "      <td>B</td>\n",
       "      <td>05-01-2015</td>\n",
       "      <td>10000000.0</td>\n",
       "    </tr>\n",
       "    <tr>\n",
       "      <th>3</th>\n",
       "      <td>/organization/-the-one-of-them-inc-</td>\n",
       "      <td>(THE) ONE of THEM,Inc.</td>\n",
       "      <td>http://oneofthem.jp</td>\n",
       "      <td>Apps|Games|Mobile</td>\n",
       "      <td>operating</td>\n",
       "      <td>NaN</td>\n",
       "      <td>NaN</td>\n",
       "      <td>NaN</td>\n",
       "      <td>NaN</td>\n",
       "      <td>NaN</td>\n",
       "      <td>/organization/-the-one-of-them-inc-</td>\n",
       "      <td>/funding-round/650b8f704416801069bb178a1418776b</td>\n",
       "      <td>venture</td>\n",
       "      <td>B</td>\n",
       "      <td>30-01-2014</td>\n",
       "      <td>3406878.0</td>\n",
       "    </tr>\n",
       "    <tr>\n",
       "      <th>4</th>\n",
       "      <td>/organization/0-6-com</td>\n",
       "      <td>0-6.com</td>\n",
       "      <td>http://www.0-6.com</td>\n",
       "      <td>Curated Web</td>\n",
       "      <td>operating</td>\n",
       "      <td>CHN</td>\n",
       "      <td>22</td>\n",
       "      <td>Beijing</td>\n",
       "      <td>Beijing</td>\n",
       "      <td>01-01-2007</td>\n",
       "      <td>/organization/0-6-com</td>\n",
       "      <td>/funding-round/5727accaeaa57461bd22a9bdd945382d</td>\n",
       "      <td>venture</td>\n",
       "      <td>A</td>\n",
       "      <td>19-03-2008</td>\n",
       "      <td>2000000.0</td>\n",
       "    </tr>\n",
       "  </tbody>\n",
       "</table>\n",
       "</div>"
      ],
      "text/plain": [
       "                             permalink                    name  \\\n",
       "0                  /organization/-fame                   #fame   \n",
       "3  /organization/-the-one-of-them-inc-  (THE) ONE of THEM,Inc.   \n",
       "4                /organization/0-6-com                 0-6.com   \n",
       "\n",
       "          homepage_url      category_list     status country_code state_code  \\\n",
       "0   http://livfame.com              Media  operating          IND         16   \n",
       "3  http://oneofthem.jp  Apps|Games|Mobile  operating          NaN        NaN   \n",
       "4   http://www.0-6.com        Curated Web  operating          CHN         22   \n",
       "\n",
       "    region     city  founded_at                    company_permalink  \\\n",
       "0   Mumbai   Mumbai         NaN                  /organization/-fame   \n",
       "3      NaN      NaN         NaN  /organization/-the-one-of-them-inc-   \n",
       "4  Beijing  Beijing  01-01-2007                /organization/0-6-com   \n",
       "\n",
       "                           funding_round_permalink funding_round_type  \\\n",
       "0  /funding-round/9a01d05418af9f794eebff7ace91f638            venture   \n",
       "3  /funding-round/650b8f704416801069bb178a1418776b            venture   \n",
       "4  /funding-round/5727accaeaa57461bd22a9bdd945382d            venture   \n",
       "\n",
       "  funding_round_code   funded_at  raised_amount_usd  \n",
       "0                  B  05-01-2015         10000000.0  \n",
       "3                  B  30-01-2014          3406878.0  \n",
       "4                  A  19-03-2008          2000000.0  "
      ]
     },
     "execution_count": 157,
     "metadata": {},
     "output_type": "execute_result"
    }
   ],
   "source": [
    "# Filter the master_frame dataset based on the above conditions(funding_round_type)\n",
    "master_frame_filtered = master_frame[master_frame.funding_round_type == most_suitable.index[0]]\n",
    "\n",
    "master_frame_filtered.head(3)\n",
    "# Now master_frame_filtered contains the data where funding_round_type ='venture' & raised_amount_usd between 5 to 15 million."
   ]
  },
  {
   "cell_type": "markdown",
   "metadata": {},
   "source": [
    "## Checkpoint 3: Country Analysis\n",
    "### Table 3.1 ( Analysing the Top 3 English-Speaking Countries)"
   ]
  },
  {
   "cell_type": "code",
   "execution_count": 158,
   "metadata": {},
   "outputs": [
    {
     "data": {
      "text/plain": [
       "country_code         9\n",
       "raised_amount_usd    9\n",
       "dtype: int64"
      ]
     },
     "execution_count": 158,
     "metadata": {},
     "output_type": "execute_result"
    }
   ],
   "source": [
    "top9 = master_frame_filtered.groupby('country_code')['raised_amount_usd'].sum().sort_values(ascending=False).reset_index()[0:9]\n",
    "top9.count()"
   ]
  },
  {
   "cell_type": "code",
   "execution_count": 159,
   "metadata": {
    "collapsed": true
   },
   "outputs": [],
   "source": [
    "# Now the requirement is to fetch top 3 countries from top 9 dataframe where official language is English, we will fetch this \n",
    "# information from MySQl > world database > country & country language table. Alternatively we can check this information\n",
    "# from the pdf provided, but there we have to hardcode the information.\n",
    "# Note : To match the countries in the countrylanguage table data with pdf data, I have inserted one entry of IND with\n",
    "# official language is English.INSERT INTO COUNTRYLANGUAGE VALUES('IND','English','T',4.5)\n",
    "# installed mysql connector for python using conda install -c anaconda mysql-connector-python\n",
    "\n",
    "import mysql.connector as con\n",
    "db_connection = con.connect(host='localhost', database='world', user='root', password='mysql@123')\n",
    "query = 'select code,name from country where code in(SELECT countrycode FROM COUNTRYLANGUAGE WHERE LANGUAGE=%s AND ISOFFICIAL=%s)'\n",
    "\n",
    "#countryEN contains all the country codes where official language is English\n",
    "countryEN =  pd.read_sql(sql =query,con =db_connection,params=['English','T'])"
   ]
  },
  {
   "cell_type": "code",
   "execution_count": 160,
   "metadata": {},
   "outputs": [
    {
     "data": {
      "text/html": [
       "<div>\n",
       "<style>\n",
       "    .dataframe thead tr:only-child th {\n",
       "        text-align: right;\n",
       "    }\n",
       "\n",
       "    .dataframe thead th {\n",
       "        text-align: left;\n",
       "    }\n",
       "\n",
       "    .dataframe tbody tr th {\n",
       "        vertical-align: top;\n",
       "    }\n",
       "</style>\n",
       "<table border=\"1\" class=\"dataframe\">\n",
       "  <thead>\n",
       "    <tr style=\"text-align: right;\">\n",
       "      <th></th>\n",
       "      <th>country_code</th>\n",
       "      <th>raised_amount_usd</th>\n",
       "      <th>IsOfficialEN</th>\n",
       "    </tr>\n",
       "  </thead>\n",
       "  <tbody>\n",
       "    <tr>\n",
       "      <th>0</th>\n",
       "      <td>USA</td>\n",
       "      <td>4.225108e+11</td>\n",
       "      <td>True</td>\n",
       "    </tr>\n",
       "    <tr>\n",
       "      <th>1</th>\n",
       "      <td>CHN</td>\n",
       "      <td>3.983542e+10</td>\n",
       "      <td>False</td>\n",
       "    </tr>\n",
       "    <tr>\n",
       "      <th>2</th>\n",
       "      <td>GBR</td>\n",
       "      <td>2.024563e+10</td>\n",
       "      <td>True</td>\n",
       "    </tr>\n",
       "    <tr>\n",
       "      <th>3</th>\n",
       "      <td>IND</td>\n",
       "      <td>1.439186e+10</td>\n",
       "      <td>False</td>\n",
       "    </tr>\n",
       "    <tr>\n",
       "      <th>4</th>\n",
       "      <td>CAN</td>\n",
       "      <td>9.583332e+09</td>\n",
       "      <td>True</td>\n",
       "    </tr>\n",
       "    <tr>\n",
       "      <th>5</th>\n",
       "      <td>FRA</td>\n",
       "      <td>7.259537e+09</td>\n",
       "      <td>False</td>\n",
       "    </tr>\n",
       "    <tr>\n",
       "      <th>6</th>\n",
       "      <td>ISR</td>\n",
       "      <td>6.907515e+09</td>\n",
       "      <td>False</td>\n",
       "    </tr>\n",
       "    <tr>\n",
       "      <th>7</th>\n",
       "      <td>DEU</td>\n",
       "      <td>6.346960e+09</td>\n",
       "      <td>False</td>\n",
       "    </tr>\n",
       "    <tr>\n",
       "      <th>8</th>\n",
       "      <td>JPN</td>\n",
       "      <td>3.363677e+09</td>\n",
       "      <td>False</td>\n",
       "    </tr>\n",
       "  </tbody>\n",
       "</table>\n",
       "</div>"
      ],
      "text/plain": [
       "  country_code  raised_amount_usd  IsOfficialEN\n",
       "0          USA       4.225108e+11          True\n",
       "1          CHN       3.983542e+10         False\n",
       "2          GBR       2.024563e+10          True\n",
       "3          IND       1.439186e+10         False\n",
       "4          CAN       9.583332e+09          True\n",
       "5          FRA       7.259537e+09         False\n",
       "6          ISR       6.907515e+09         False\n",
       "7          DEU       6.346960e+09         False\n",
       "8          JPN       3.363677e+09         False"
      ]
     },
     "execution_count": 160,
     "metadata": {},
     "output_type": "execute_result"
    }
   ],
   "source": [
    "# Add a new column identifier, IsOfficialEN in top9 dataframe.\n",
    "top9['IsOfficialEN'] = top9.country_code.isin(countryEN['code'])\n",
    "top9"
   ]
  },
  {
   "cell_type": "markdown",
   "metadata": {},
   "source": [
    "#### Storing Data"
   ]
  },
  {
   "cell_type": "code",
   "execution_count": 161,
   "metadata": {},
   "outputs": [
    {
     "name": "stdout",
     "output_type": "stream",
     "text": [
      "File: top9.csv created at C:/Users/ankit.bhatia/Documents/GitHub/PythonScripts/data/spark_funds/outDir/\n",
      "Size of file :0.3 KB\n"
     ]
    }
   ],
   "source": [
    "# Storing top9 dataframe at user location, we can then use this .csv directly in Tableau\n",
    "writeDF(top9,'top9',outDir)"
   ]
  },
  {
   "cell_type": "markdown",
   "metadata": {},
   "source": [
    "#### Q1/2/3. Top/Second/Third English speaking country ?"
   ]
  },
  {
   "cell_type": "code",
   "execution_count": 162,
   "metadata": {},
   "outputs": [
    {
     "name": "stdout",
     "output_type": "stream",
     "text": [
      "top  USA\n",
      "second  GBR\n",
      "third  CAN\n"
     ]
    }
   ],
   "source": [
    "top3 = top9[top9.IsOfficialEN].iloc[0:3,0:2].reset_index()\n",
    "top = top3.country_code[0]\n",
    "second = top3.country_code[1]\n",
    "third = top3.country_code[2]\n",
    "\n",
    "print('top ',top)\n",
    "print('second ',second)\n",
    "print('third ',third)"
   ]
  },
  {
   "cell_type": "code",
   "execution_count": 163,
   "metadata": {},
   "outputs": [
    {
     "data": {
      "text/html": [
       "<div>\n",
       "<style>\n",
       "    .dataframe thead tr:only-child th {\n",
       "        text-align: right;\n",
       "    }\n",
       "\n",
       "    .dataframe thead th {\n",
       "        text-align: left;\n",
       "    }\n",
       "\n",
       "    .dataframe tbody tr th {\n",
       "        vertical-align: top;\n",
       "    }\n",
       "</style>\n",
       "<table border=\"1\" class=\"dataframe\">\n",
       "  <thead>\n",
       "    <tr style=\"text-align: right;\">\n",
       "      <th></th>\n",
       "      <th>permalink</th>\n",
       "      <th>name</th>\n",
       "      <th>homepage_url</th>\n",
       "      <th>category_list</th>\n",
       "      <th>status</th>\n",
       "      <th>country_code</th>\n",
       "      <th>state_code</th>\n",
       "      <th>region</th>\n",
       "      <th>city</th>\n",
       "      <th>founded_at</th>\n",
       "      <th>company_permalink</th>\n",
       "      <th>funding_round_permalink</th>\n",
       "      <th>funding_round_type</th>\n",
       "      <th>funding_round_code</th>\n",
       "      <th>funded_at</th>\n",
       "      <th>raised_amount_usd</th>\n",
       "    </tr>\n",
       "  </thead>\n",
       "  <tbody>\n",
       "    <tr>\n",
       "      <th>8</th>\n",
       "      <td>/organization/0ndine-biomedical-inc</td>\n",
       "      <td>Ondine Biomedical Inc.</td>\n",
       "      <td>http://ondinebio.com</td>\n",
       "      <td>Biotechnology</td>\n",
       "      <td>operating</td>\n",
       "      <td>CAN</td>\n",
       "      <td>BC</td>\n",
       "      <td>Vancouver</td>\n",
       "      <td>Vancouver</td>\n",
       "      <td>01-01-1997</td>\n",
       "      <td>/organization/0ndine-biomedical-inc</td>\n",
       "      <td>/funding-round/954b9499724b946ad8c396a57a5f3b72</td>\n",
       "      <td>venture</td>\n",
       "      <td>NaN</td>\n",
       "      <td>21-12-2009</td>\n",
       "      <td>719491.0</td>\n",
       "    </tr>\n",
       "    <tr>\n",
       "      <th>10</th>\n",
       "      <td>/organization/0xdata</td>\n",
       "      <td>H2O.ai</td>\n",
       "      <td>http://h2o.ai/</td>\n",
       "      <td>Analytics</td>\n",
       "      <td>operating</td>\n",
       "      <td>USA</td>\n",
       "      <td>CA</td>\n",
       "      <td>SF Bay Area</td>\n",
       "      <td>Mountain View</td>\n",
       "      <td>01-01-2011</td>\n",
       "      <td>/organization/0xdata</td>\n",
       "      <td>/funding-round/3bb2ee4a2d89251a10aaa735b1180e44</td>\n",
       "      <td>venture</td>\n",
       "      <td>B</td>\n",
       "      <td>09-11-2015</td>\n",
       "      <td>20000000.0</td>\n",
       "    </tr>\n",
       "    <tr>\n",
       "      <th>11</th>\n",
       "      <td>/organization/0xdata</td>\n",
       "      <td>H2O.ai</td>\n",
       "      <td>http://h2o.ai/</td>\n",
       "      <td>Analytics</td>\n",
       "      <td>operating</td>\n",
       "      <td>USA</td>\n",
       "      <td>CA</td>\n",
       "      <td>SF Bay Area</td>\n",
       "      <td>Mountain View</td>\n",
       "      <td>01-01-2011</td>\n",
       "      <td>/organization/0xdata</td>\n",
       "      <td>/funding-round/ae2a174c06517c2394aed45006322a7e</td>\n",
       "      <td>venture</td>\n",
       "      <td>NaN</td>\n",
       "      <td>03-01-2013</td>\n",
       "      <td>1700000.0</td>\n",
       "    </tr>\n",
       "  </tbody>\n",
       "</table>\n",
       "</div>"
      ],
      "text/plain": [
       "                              permalink                    name  \\\n",
       "8   /organization/0ndine-biomedical-inc  Ondine Biomedical Inc.   \n",
       "10                 /organization/0xdata                  H2O.ai   \n",
       "11                 /organization/0xdata                  H2O.ai   \n",
       "\n",
       "            homepage_url  category_list     status country_code state_code  \\\n",
       "8   http://ondinebio.com  Biotechnology  operating          CAN         BC   \n",
       "10        http://h2o.ai/      Analytics  operating          USA         CA   \n",
       "11        http://h2o.ai/      Analytics  operating          USA         CA   \n",
       "\n",
       "         region           city  founded_at  \\\n",
       "8     Vancouver      Vancouver  01-01-1997   \n",
       "10  SF Bay Area  Mountain View  01-01-2011   \n",
       "11  SF Bay Area  Mountain View  01-01-2011   \n",
       "\n",
       "                      company_permalink  \\\n",
       "8   /organization/0ndine-biomedical-inc   \n",
       "10                 /organization/0xdata   \n",
       "11                 /organization/0xdata   \n",
       "\n",
       "                            funding_round_permalink funding_round_type  \\\n",
       "8   /funding-round/954b9499724b946ad8c396a57a5f3b72            venture   \n",
       "10  /funding-round/3bb2ee4a2d89251a10aaa735b1180e44            venture   \n",
       "11  /funding-round/ae2a174c06517c2394aed45006322a7e            venture   \n",
       "\n",
       "   funding_round_code   funded_at  raised_amount_usd  \n",
       "8                 NaN  21-12-2009           719491.0  \n",
       "10                  B  09-11-2015         20000000.0  \n",
       "11                NaN  03-01-2013          1700000.0  "
      ]
     },
     "execution_count": 163,
     "metadata": {},
     "output_type": "execute_result"
    }
   ],
   "source": [
    "# Filter master_frame_filtered dataset based on top 3 english speaking countries\n",
    "top3_data = master_frame_filtered.loc[master_frame_filtered.country_code.isin(top3.country_code)]\n",
    "top3_data.head(3)"
   ]
  },
  {
   "cell_type": "markdown",
   "metadata": {},
   "source": [
    "## Checkpoint 4: Sector Analysis 1\n",
    "### Table 5.1 ( Sector-wise Investment Analysis)"
   ]
  },
  {
   "cell_type": "code",
   "execution_count": 164,
   "metadata": {},
   "outputs": [
    {
     "name": "stderr",
     "output_type": "stream",
     "text": [
      "C:\\ProgramData\\Anaconda3\\lib\\site-packages\\ipykernel_launcher.py:3: SettingWithCopyWarning: \n",
      "A value is trying to be set on a copy of a slice from a DataFrame.\n",
      "Try using .loc[row_indexer,col_indexer] = value instead\n",
      "\n",
      "See the caveats in the documentation: http://pandas.pydata.org/pandas-docs/stable/indexing.html#indexing-view-versus-copy\n",
      "  This is separate from the ipykernel package so we can avoid doing imports until\n"
     ]
    },
    {
     "data": {
      "text/html": [
       "<div>\n",
       "<style>\n",
       "    .dataframe thead tr:only-child th {\n",
       "        text-align: right;\n",
       "    }\n",
       "\n",
       "    .dataframe thead th {\n",
       "        text-align: left;\n",
       "    }\n",
       "\n",
       "    .dataframe tbody tr th {\n",
       "        vertical-align: top;\n",
       "    }\n",
       "</style>\n",
       "<table border=\"1\" class=\"dataframe\">\n",
       "  <thead>\n",
       "    <tr style=\"text-align: right;\">\n",
       "      <th></th>\n",
       "      <th>permalink</th>\n",
       "      <th>name</th>\n",
       "      <th>homepage_url</th>\n",
       "      <th>category_list</th>\n",
       "      <th>status</th>\n",
       "      <th>country_code</th>\n",
       "      <th>state_code</th>\n",
       "      <th>region</th>\n",
       "      <th>city</th>\n",
       "      <th>founded_at</th>\n",
       "      <th>company_permalink</th>\n",
       "      <th>funding_round_permalink</th>\n",
       "      <th>funding_round_type</th>\n",
       "      <th>funding_round_code</th>\n",
       "      <th>funded_at</th>\n",
       "      <th>raised_amount_usd</th>\n",
       "      <th>primary_sector</th>\n",
       "    </tr>\n",
       "  </thead>\n",
       "  <tbody>\n",
       "    <tr>\n",
       "      <th>8</th>\n",
       "      <td>/organization/0ndine-biomedical-inc</td>\n",
       "      <td>Ondine Biomedical Inc.</td>\n",
       "      <td>http://ondinebio.com</td>\n",
       "      <td>Biotechnology</td>\n",
       "      <td>operating</td>\n",
       "      <td>CAN</td>\n",
       "      <td>BC</td>\n",
       "      <td>Vancouver</td>\n",
       "      <td>Vancouver</td>\n",
       "      <td>01-01-1997</td>\n",
       "      <td>/organization/0ndine-biomedical-inc</td>\n",
       "      <td>/funding-round/954b9499724b946ad8c396a57a5f3b72</td>\n",
       "      <td>venture</td>\n",
       "      <td>NaN</td>\n",
       "      <td>21-12-2009</td>\n",
       "      <td>719491.0</td>\n",
       "      <td>Biotechnology</td>\n",
       "    </tr>\n",
       "    <tr>\n",
       "      <th>10</th>\n",
       "      <td>/organization/0xdata</td>\n",
       "      <td>H2O.ai</td>\n",
       "      <td>http://h2o.ai/</td>\n",
       "      <td>Analytics</td>\n",
       "      <td>operating</td>\n",
       "      <td>USA</td>\n",
       "      <td>CA</td>\n",
       "      <td>SF Bay Area</td>\n",
       "      <td>Mountain View</td>\n",
       "      <td>01-01-2011</td>\n",
       "      <td>/organization/0xdata</td>\n",
       "      <td>/funding-round/3bb2ee4a2d89251a10aaa735b1180e44</td>\n",
       "      <td>venture</td>\n",
       "      <td>B</td>\n",
       "      <td>09-11-2015</td>\n",
       "      <td>20000000.0</td>\n",
       "      <td>Analytics</td>\n",
       "    </tr>\n",
       "    <tr>\n",
       "      <th>11</th>\n",
       "      <td>/organization/0xdata</td>\n",
       "      <td>H2O.ai</td>\n",
       "      <td>http://h2o.ai/</td>\n",
       "      <td>Analytics</td>\n",
       "      <td>operating</td>\n",
       "      <td>USA</td>\n",
       "      <td>CA</td>\n",
       "      <td>SF Bay Area</td>\n",
       "      <td>Mountain View</td>\n",
       "      <td>01-01-2011</td>\n",
       "      <td>/organization/0xdata</td>\n",
       "      <td>/funding-round/ae2a174c06517c2394aed45006322a7e</td>\n",
       "      <td>venture</td>\n",
       "      <td>NaN</td>\n",
       "      <td>03-01-2013</td>\n",
       "      <td>1700000.0</td>\n",
       "      <td>Analytics</td>\n",
       "    </tr>\n",
       "  </tbody>\n",
       "</table>\n",
       "</div>"
      ],
      "text/plain": [
       "                              permalink                    name  \\\n",
       "8   /organization/0ndine-biomedical-inc  Ondine Biomedical Inc.   \n",
       "10                 /organization/0xdata                  H2O.ai   \n",
       "11                 /organization/0xdata                  H2O.ai   \n",
       "\n",
       "            homepage_url  category_list     status country_code state_code  \\\n",
       "8   http://ondinebio.com  Biotechnology  operating          CAN         BC   \n",
       "10        http://h2o.ai/      Analytics  operating          USA         CA   \n",
       "11        http://h2o.ai/      Analytics  operating          USA         CA   \n",
       "\n",
       "         region           city  founded_at  \\\n",
       "8     Vancouver      Vancouver  01-01-1997   \n",
       "10  SF Bay Area  Mountain View  01-01-2011   \n",
       "11  SF Bay Area  Mountain View  01-01-2011   \n",
       "\n",
       "                      company_permalink  \\\n",
       "8   /organization/0ndine-biomedical-inc   \n",
       "10                 /organization/0xdata   \n",
       "11                 /organization/0xdata   \n",
       "\n",
       "                            funding_round_permalink funding_round_type  \\\n",
       "8   /funding-round/954b9499724b946ad8c396a57a5f3b72            venture   \n",
       "10  /funding-round/3bb2ee4a2d89251a10aaa735b1180e44            venture   \n",
       "11  /funding-round/ae2a174c06517c2394aed45006322a7e            venture   \n",
       "\n",
       "   funding_round_code   funded_at  raised_amount_usd primary_sector  \n",
       "8                 NaN  21-12-2009           719491.0  Biotechnology  \n",
       "10                  B  09-11-2015         20000000.0      Analytics  \n",
       "11                NaN  03-01-2013          1700000.0      Analytics  "
      ]
     },
     "execution_count": 164,
     "metadata": {},
     "output_type": "execute_result"
    }
   ],
   "source": [
    "# first string before the | will be considered the primary sector.\n",
    "# Add the new column in master_frame_filtered dataframe named as 'primary_sector'\n",
    "top3_data['primary_sector'] = top3_data['category_list'].str.split('|').str.get(0)\n",
    "top3_data.head(3)"
   ]
  },
  {
   "cell_type": "code",
   "execution_count": 165,
   "metadata": {},
   "outputs": [
    {
     "data": {
      "text/html": [
       "<div>\n",
       "<style>\n",
       "    .dataframe thead tr:only-child th {\n",
       "        text-align: right;\n",
       "    }\n",
       "\n",
       "    .dataframe thead th {\n",
       "        text-align: left;\n",
       "    }\n",
       "\n",
       "    .dataframe tbody tr th {\n",
       "        vertical-align: top;\n",
       "    }\n",
       "</style>\n",
       "<table border=\"1\" class=\"dataframe\">\n",
       "  <thead>\n",
       "    <tr style=\"text-align: right;\">\n",
       "      <th></th>\n",
       "      <th>category_list</th>\n",
       "      <th>Automotive &amp; Sports</th>\n",
       "      <th>Blanks</th>\n",
       "      <th>Cleantech / Semiconductors</th>\n",
       "      <th>Entertainment</th>\n",
       "      <th>Health</th>\n",
       "      <th>Manufacturing</th>\n",
       "      <th>News, Search and Messaging</th>\n",
       "      <th>Others</th>\n",
       "      <th>Social, Finance, Analytics, Advertising</th>\n",
       "    </tr>\n",
       "  </thead>\n",
       "  <tbody>\n",
       "    <tr>\n",
       "      <th>0</th>\n",
       "      <td>NaN</td>\n",
       "      <td>0</td>\n",
       "      <td>1</td>\n",
       "      <td>0</td>\n",
       "      <td>0</td>\n",
       "      <td>0</td>\n",
       "      <td>0</td>\n",
       "      <td>0</td>\n",
       "      <td>0</td>\n",
       "      <td>0</td>\n",
       "    </tr>\n",
       "    <tr>\n",
       "      <th>1</th>\n",
       "      <td>3D</td>\n",
       "      <td>0</td>\n",
       "      <td>0</td>\n",
       "      <td>0</td>\n",
       "      <td>0</td>\n",
       "      <td>0</td>\n",
       "      <td>1</td>\n",
       "      <td>0</td>\n",
       "      <td>0</td>\n",
       "      <td>0</td>\n",
       "    </tr>\n",
       "    <tr>\n",
       "      <th>2</th>\n",
       "      <td>3D Printing</td>\n",
       "      <td>0</td>\n",
       "      <td>0</td>\n",
       "      <td>0</td>\n",
       "      <td>0</td>\n",
       "      <td>0</td>\n",
       "      <td>1</td>\n",
       "      <td>0</td>\n",
       "      <td>0</td>\n",
       "      <td>0</td>\n",
       "    </tr>\n",
       "  </tbody>\n",
       "</table>\n",
       "</div>"
      ],
      "text/plain": [
       "  category_list  Automotive & Sports  Blanks  Cleantech / Semiconductors  \\\n",
       "0           NaN                    0       1                           0   \n",
       "1            3D                    0       0                           0   \n",
       "2   3D Printing                    0       0                           0   \n",
       "\n",
       "   Entertainment  Health  Manufacturing  News, Search and Messaging  Others  \\\n",
       "0              0       0              0                           0       0   \n",
       "1              0       0              1                           0       0   \n",
       "2              0       0              1                           0       0   \n",
       "\n",
       "   Social, Finance, Analytics, Advertising  \n",
       "0                                        0  \n",
       "1                                        0  \n",
       "2                                        0  "
      ]
     },
     "execution_count": 165,
     "metadata": {},
     "output_type": "execute_result"
    }
   ],
   "source": [
    "mapping =  pd.read_csv(inputDir+file3,encoding='iso-8859-1') # Use 'iso-8859-1' for accented characters\n",
    "mapping.head(3)"
   ]
  },
  {
   "cell_type": "markdown",
   "metadata": {},
   "source": [
    "#### Define Function"
   ]
  },
  {
   "cell_type": "code",
   "execution_count": 166,
   "metadata": {
    "collapsed": true
   },
   "outputs": [],
   "source": [
    "# Defining function demap, which will convert data in mapping dataframe above to two columns output.\n",
    "def demap(df,outColName):\n",
    "    l = list()\n",
    "    c = int(df.count().sort_values(ascending=False)[0])\n",
    "    for i in range(c):\n",
    "        for col_name in df.columns:\n",
    "            if df[col_name][i]==1:\n",
    "               l.append(col_name)\n",
    "    df2 = df.copy()\n",
    "    df2[outColName] = l\n",
    "    return df2.iloc[:,[0,-1]]"
   ]
  },
  {
   "cell_type": "code",
   "execution_count": 167,
   "metadata": {},
   "outputs": [
    {
     "data": {
      "text/html": [
       "<div>\n",
       "<style>\n",
       "    .dataframe thead tr:only-child th {\n",
       "        text-align: right;\n",
       "    }\n",
       "\n",
       "    .dataframe thead th {\n",
       "        text-align: left;\n",
       "    }\n",
       "\n",
       "    .dataframe tbody tr th {\n",
       "        vertical-align: top;\n",
       "    }\n",
       "</style>\n",
       "<table border=\"1\" class=\"dataframe\">\n",
       "  <thead>\n",
       "    <tr style=\"text-align: right;\">\n",
       "      <th></th>\n",
       "      <th>category_list</th>\n",
       "      <th>main_sector</th>\n",
       "    </tr>\n",
       "  </thead>\n",
       "  <tbody>\n",
       "    <tr>\n",
       "      <th>0</th>\n",
       "      <td>NaN</td>\n",
       "      <td>Blanks</td>\n",
       "    </tr>\n",
       "    <tr>\n",
       "      <th>1</th>\n",
       "      <td>3D</td>\n",
       "      <td>Manufacturing</td>\n",
       "    </tr>\n",
       "    <tr>\n",
       "      <th>2</th>\n",
       "      <td>3D Printing</td>\n",
       "      <td>Manufacturing</td>\n",
       "    </tr>\n",
       "    <tr>\n",
       "      <th>3</th>\n",
       "      <td>3D Technology</td>\n",
       "      <td>Manufacturing</td>\n",
       "    </tr>\n",
       "    <tr>\n",
       "      <th>4</th>\n",
       "      <td>Accounting</td>\n",
       "      <td>Social, Finance, Analytics, Advertising</td>\n",
       "    </tr>\n",
       "  </tbody>\n",
       "</table>\n",
       "</div>"
      ],
      "text/plain": [
       "   category_list                              main_sector\n",
       "0            NaN                                   Blanks\n",
       "1             3D                            Manufacturing\n",
       "2    3D Printing                            Manufacturing\n",
       "3  3D Technology                            Manufacturing\n",
       "4     Accounting  Social, Finance, Analytics, Advertising"
      ]
     },
     "execution_count": 167,
     "metadata": {},
     "output_type": "execute_result"
    }
   ],
   "source": [
    "mapping_new = demap(mapping,'main_sector')\n",
    "mapping_new.head()"
   ]
  },
  {
   "cell_type": "code",
   "execution_count": 168,
   "metadata": {
    "collapsed": true
   },
   "outputs": [],
   "source": [
    "top3_data_sector_wise = pd.merge(left=top3_data, right=mapping_new,left_on='primary_sector',right_on='category_list')\n",
    "# Drop unnecessary columns\n",
    "top3_data_sector_wise.drop(labels=['category_list_x', 'category_list_y'],axis=1, inplace=True)"
   ]
  },
  {
   "cell_type": "code",
   "execution_count": 169,
   "metadata": {},
   "outputs": [
    {
     "data": {
      "text/html": [
       "<div>\n",
       "<style>\n",
       "    .dataframe thead tr:only-child th {\n",
       "        text-align: right;\n",
       "    }\n",
       "\n",
       "    .dataframe thead th {\n",
       "        text-align: left;\n",
       "    }\n",
       "\n",
       "    .dataframe tbody tr th {\n",
       "        vertical-align: top;\n",
       "    }\n",
       "</style>\n",
       "<table border=\"1\" class=\"dataframe\">\n",
       "  <thead>\n",
       "    <tr style=\"text-align: right;\">\n",
       "      <th></th>\n",
       "      <th>permalink</th>\n",
       "      <th>name</th>\n",
       "      <th>homepage_url</th>\n",
       "      <th>status</th>\n",
       "      <th>country_code</th>\n",
       "      <th>state_code</th>\n",
       "      <th>region</th>\n",
       "      <th>city</th>\n",
       "      <th>founded_at</th>\n",
       "      <th>company_permalink</th>\n",
       "      <th>funding_round_permalink</th>\n",
       "      <th>funding_round_type</th>\n",
       "      <th>funding_round_code</th>\n",
       "      <th>funded_at</th>\n",
       "      <th>raised_amount_usd</th>\n",
       "      <th>primary_sector</th>\n",
       "      <th>main_sector</th>\n",
       "    </tr>\n",
       "  </thead>\n",
       "  <tbody>\n",
       "    <tr>\n",
       "      <th>0</th>\n",
       "      <td>/organization/0ndine-biomedical-inc</td>\n",
       "      <td>Ondine Biomedical Inc.</td>\n",
       "      <td>http://ondinebio.com</td>\n",
       "      <td>operating</td>\n",
       "      <td>CAN</td>\n",
       "      <td>BC</td>\n",
       "      <td>Vancouver</td>\n",
       "      <td>Vancouver</td>\n",
       "      <td>01-01-1997</td>\n",
       "      <td>/organization/0ndine-biomedical-inc</td>\n",
       "      <td>/funding-round/954b9499724b946ad8c396a57a5f3b72</td>\n",
       "      <td>venture</td>\n",
       "      <td>NaN</td>\n",
       "      <td>21-12-2009</td>\n",
       "      <td>719491.0</td>\n",
       "      <td>Biotechnology</td>\n",
       "      <td>Cleantech / Semiconductors</td>\n",
       "    </tr>\n",
       "    <tr>\n",
       "      <th>1</th>\n",
       "      <td>/organization/10x-genomics</td>\n",
       "      <td>10X Genomics</td>\n",
       "      <td>http://10xgenomics.com</td>\n",
       "      <td>operating</td>\n",
       "      <td>USA</td>\n",
       "      <td>CA</td>\n",
       "      <td>SF Bay Area</td>\n",
       "      <td>Pleasanton</td>\n",
       "      <td>01-01-2012</td>\n",
       "      <td>/organization/10x-genomics</td>\n",
       "      <td>/funding-round/563923487783bdeb5d0b7872f3d6b99a</td>\n",
       "      <td>venture</td>\n",
       "      <td>B</td>\n",
       "      <td>12-01-2015</td>\n",
       "      <td>55000000.0</td>\n",
       "      <td>Biotechnology</td>\n",
       "      <td>Cleantech / Semiconductors</td>\n",
       "    </tr>\n",
       "    <tr>\n",
       "      <th>2</th>\n",
       "      <td>/organization/10x-technologies</td>\n",
       "      <td>10X Technologies</td>\n",
       "      <td>http://10xtechnologies.com</td>\n",
       "      <td>operating</td>\n",
       "      <td>USA</td>\n",
       "      <td>CA</td>\n",
       "      <td>SF Bay Area</td>\n",
       "      <td>Oakland</td>\n",
       "      <td>01-01-2012</td>\n",
       "      <td>/organization/10x-technologies</td>\n",
       "      <td>/funding-round/39c1441d5098875a925577d0f2ad3904</td>\n",
       "      <td>venture</td>\n",
       "      <td>B</td>\n",
       "      <td>12-01-2015</td>\n",
       "      <td>550000.0</td>\n",
       "      <td>Biotechnology</td>\n",
       "      <td>Cleantech / Semiconductors</td>\n",
       "    </tr>\n",
       "  </tbody>\n",
       "</table>\n",
       "</div>"
      ],
      "text/plain": [
       "                             permalink                    name  \\\n",
       "0  /organization/0ndine-biomedical-inc  Ondine Biomedical Inc.   \n",
       "1           /organization/10x-genomics            10X Genomics   \n",
       "2       /organization/10x-technologies        10X Technologies   \n",
       "\n",
       "                 homepage_url     status country_code state_code       region  \\\n",
       "0        http://ondinebio.com  operating          CAN         BC    Vancouver   \n",
       "1      http://10xgenomics.com  operating          USA         CA  SF Bay Area   \n",
       "2  http://10xtechnologies.com  operating          USA         CA  SF Bay Area   \n",
       "\n",
       "         city  founded_at                    company_permalink  \\\n",
       "0   Vancouver  01-01-1997  /organization/0ndine-biomedical-inc   \n",
       "1  Pleasanton  01-01-2012           /organization/10x-genomics   \n",
       "2     Oakland  01-01-2012       /organization/10x-technologies   \n",
       "\n",
       "                           funding_round_permalink funding_round_type  \\\n",
       "0  /funding-round/954b9499724b946ad8c396a57a5f3b72            venture   \n",
       "1  /funding-round/563923487783bdeb5d0b7872f3d6b99a            venture   \n",
       "2  /funding-round/39c1441d5098875a925577d0f2ad3904            venture   \n",
       "\n",
       "  funding_round_code   funded_at  raised_amount_usd primary_sector  \\\n",
       "0                NaN  21-12-2009           719491.0  Biotechnology   \n",
       "1                  B  12-01-2015         55000000.0  Biotechnology   \n",
       "2                  B  12-01-2015           550000.0  Biotechnology   \n",
       "\n",
       "                  main_sector  \n",
       "0  Cleantech / Semiconductors  \n",
       "1  Cleantech / Semiconductors  \n",
       "2  Cleantech / Semiconductors  "
      ]
     },
     "execution_count": 169,
     "metadata": {},
     "output_type": "execute_result"
    }
   ],
   "source": [
    "top3_data_sector_wise.head(3)"
   ]
  },
  {
   "cell_type": "markdown",
   "metadata": {},
   "source": [
    "#### Storing Data"
   ]
  },
  {
   "cell_type": "code",
   "execution_count": 170,
   "metadata": {},
   "outputs": [
    {
     "name": "stdout",
     "output_type": "stream",
     "text": [
      "File: top3_data_sector_wise.csv created at C:/Users/ankit.bhatia/Documents/GitHub/PythonScripts/data/spark_funds/outDir/\n",
      "Size of file :9486.8 KB\n"
     ]
    }
   ],
   "source": [
    "# Storing master_frame_sector_wise dataframe at user location, we can then use this .csv directly in Tableau\n",
    "# master_frame_sector_wise :: Contains the data for top3 english speaking countries where a particular funding type falling \n",
    "#within the 5-15 million USD range.\n",
    "\n",
    "writeDF(top3_data_sector_wise,'top3_data_sector_wise',outDir)"
   ]
  },
  {
   "cell_type": "markdown",
   "metadata": {},
   "source": [
    "## Checkpoint 5: Sector Analysis 2"
   ]
  },
  {
   "cell_type": "markdown",
   "metadata": {},
   "source": [
    "Created three separate data frames D1, D2 and D3 for each of the three english countries containing the observations of funding type 'Venture' falling within the 5-15 million USD range."
   ]
  },
  {
   "cell_type": "code",
   "execution_count": 171,
   "metadata": {},
   "outputs": [
    {
     "data": {
      "text/html": [
       "<div>\n",
       "<style>\n",
       "    .dataframe thead tr:only-child th {\n",
       "        text-align: right;\n",
       "    }\n",
       "\n",
       "    .dataframe thead th {\n",
       "        text-align: left;\n",
       "    }\n",
       "\n",
       "    .dataframe tbody tr th {\n",
       "        vertical-align: top;\n",
       "    }\n",
       "</style>\n",
       "<table border=\"1\" class=\"dataframe\">\n",
       "  <thead>\n",
       "    <tr style=\"text-align: right;\">\n",
       "      <th></th>\n",
       "      <th>permalink</th>\n",
       "      <th>name</th>\n",
       "      <th>homepage_url</th>\n",
       "      <th>status</th>\n",
       "      <th>country_code</th>\n",
       "      <th>state_code</th>\n",
       "      <th>region</th>\n",
       "      <th>city</th>\n",
       "      <th>founded_at</th>\n",
       "      <th>company_permalink</th>\n",
       "      <th>funding_round_permalink</th>\n",
       "      <th>funding_round_type</th>\n",
       "      <th>funding_round_code</th>\n",
       "      <th>funded_at</th>\n",
       "      <th>raised_amount_usd</th>\n",
       "      <th>primary_sector</th>\n",
       "      <th>main_sector</th>\n",
       "    </tr>\n",
       "  </thead>\n",
       "  <tbody>\n",
       "    <tr>\n",
       "      <th>0</th>\n",
       "      <td>/organization/0ndine-biomedical-inc</td>\n",
       "      <td>Ondine Biomedical Inc.</td>\n",
       "      <td>http://ondinebio.com</td>\n",
       "      <td>operating</td>\n",
       "      <td>CAN</td>\n",
       "      <td>BC</td>\n",
       "      <td>Vancouver</td>\n",
       "      <td>Vancouver</td>\n",
       "      <td>01-01-1997</td>\n",
       "      <td>/organization/0ndine-biomedical-inc</td>\n",
       "      <td>/funding-round/954b9499724b946ad8c396a57a5f3b72</td>\n",
       "      <td>venture</td>\n",
       "      <td>NaN</td>\n",
       "      <td>21-12-2009</td>\n",
       "      <td>719491.0</td>\n",
       "      <td>Biotechnology</td>\n",
       "      <td>Cleantech / Semiconductors</td>\n",
       "    </tr>\n",
       "    <tr>\n",
       "      <th>38</th>\n",
       "      <td>/organization/abattis-bioceuticals</td>\n",
       "      <td>Abattis Bioceuticals</td>\n",
       "      <td>http://abattis.com</td>\n",
       "      <td>ipo</td>\n",
       "      <td>CAN</td>\n",
       "      <td>BC</td>\n",
       "      <td>Vancouver</td>\n",
       "      <td>Vancouver</td>\n",
       "      <td>29-09-1997</td>\n",
       "      <td>/organization/abattis-bioceuticals</td>\n",
       "      <td>/funding-round/6efcb02103e4c544d4cd90538bff75ea</td>\n",
       "      <td>venture</td>\n",
       "      <td>NaN</td>\n",
       "      <td>07-04-2014</td>\n",
       "      <td>83709.0</td>\n",
       "      <td>Biotechnology</td>\n",
       "      <td>Cleantech / Semiconductors</td>\n",
       "    </tr>\n",
       "    <tr>\n",
       "      <th>39</th>\n",
       "      <td>/organization/abattis-bioceuticals</td>\n",
       "      <td>Abattis Bioceuticals</td>\n",
       "      <td>http://abattis.com</td>\n",
       "      <td>ipo</td>\n",
       "      <td>CAN</td>\n",
       "      <td>BC</td>\n",
       "      <td>Vancouver</td>\n",
       "      <td>Vancouver</td>\n",
       "      <td>29-09-1997</td>\n",
       "      <td>/organization/abattis-bioceuticals</td>\n",
       "      <td>/funding-round/e09b0c34519d26086c670f529444c8fe</td>\n",
       "      <td>venture</td>\n",
       "      <td>NaN</td>\n",
       "      <td>03-11-2010</td>\n",
       "      <td>297265.0</td>\n",
       "      <td>Biotechnology</td>\n",
       "      <td>Cleantech / Semiconductors</td>\n",
       "    </tr>\n",
       "  </tbody>\n",
       "</table>\n",
       "</div>"
      ],
      "text/plain": [
       "                              permalink                    name  \\\n",
       "0   /organization/0ndine-biomedical-inc  Ondine Biomedical Inc.   \n",
       "38   /organization/abattis-bioceuticals    Abattis Bioceuticals   \n",
       "39   /organization/abattis-bioceuticals    Abattis Bioceuticals   \n",
       "\n",
       "            homepage_url     status country_code state_code     region  \\\n",
       "0   http://ondinebio.com  operating          CAN         BC  Vancouver   \n",
       "38    http://abattis.com        ipo          CAN         BC  Vancouver   \n",
       "39    http://abattis.com        ipo          CAN         BC  Vancouver   \n",
       "\n",
       "         city  founded_at                    company_permalink  \\\n",
       "0   Vancouver  01-01-1997  /organization/0ndine-biomedical-inc   \n",
       "38  Vancouver  29-09-1997   /organization/abattis-bioceuticals   \n",
       "39  Vancouver  29-09-1997   /organization/abattis-bioceuticals   \n",
       "\n",
       "                            funding_round_permalink funding_round_type  \\\n",
       "0   /funding-round/954b9499724b946ad8c396a57a5f3b72            venture   \n",
       "38  /funding-round/6efcb02103e4c544d4cd90538bff75ea            venture   \n",
       "39  /funding-round/e09b0c34519d26086c670f529444c8fe            venture   \n",
       "\n",
       "   funding_round_code   funded_at  raised_amount_usd primary_sector  \\\n",
       "0                 NaN  21-12-2009           719491.0  Biotechnology   \n",
       "38                NaN  07-04-2014            83709.0  Biotechnology   \n",
       "39                NaN  03-11-2010           297265.0  Biotechnology   \n",
       "\n",
       "                   main_sector  \n",
       "0   Cleantech / Semiconductors  \n",
       "38  Cleantech / Semiconductors  \n",
       "39  Cleantech / Semiconductors  "
      ]
     },
     "execution_count": 171,
     "metadata": {},
     "output_type": "execute_result"
    }
   ],
   "source": [
    "#USA\n",
    "D1 = top3_data_sector_wise[top3_data_sector_wise['country_code']==top]\n",
    "\n",
    "#GBR\n",
    "D2 = top3_data_sector_wise[top3_data_sector_wise['country_code']==second]\n",
    "\n",
    "#IND\n",
    "D3 = top3_data_sector_wise[top3_data_sector_wise['country_code']==third]\n",
    "\n",
    "D3.head(3)"
   ]
  },
  {
   "cell_type": "markdown",
   "metadata": {
    "collapsed": true
   },
   "source": [
    "#### Q1. Total number of Investments (count)"
   ]
  },
  {
   "cell_type": "code",
   "execution_count": 172,
   "metadata": {},
   "outputs": [
    {
     "name": "stdout",
     "output_type": "stream",
     "text": [
      "33722\n",
      "1930\n",
      "1186\n"
     ]
    }
   ],
   "source": [
    "print(D1.count()[0])\n",
    "print(D2.count()[0])\n",
    "print(D3.count()[0])"
   ]
  },
  {
   "cell_type": "markdown",
   "metadata": {},
   "source": [
    " #### Q2. Total amount of investment (USD)"
   ]
  },
  {
   "cell_type": "code",
   "execution_count": 173,
   "metadata": {},
   "outputs": [
    {
     "name": "stdout",
     "output_type": "stream",
     "text": [
      "394680394849.0\n",
      "19097204731.0\n",
      "8816735173.0\n"
     ]
    }
   ],
   "source": [
    "print(D1.raised_amount_usd.sum())\n",
    "print(D2.raised_amount_usd.sum())\n",
    "print(D3.raised_amount_usd.sum())"
   ]
  },
  {
   "cell_type": "code",
   "execution_count": 174,
   "metadata": {
    "collapsed": true
   },
   "outputs": [],
   "source": [
    "# Define function to get top sectors count and name\n",
    "def getSector(dataset,n,identifier):\n",
    "    # dataset     :: datframe\n",
    "    # n           :: n represents nth order, 0 for top, 1 for second top and so on.\n",
    "    # identifier  :: identifier = 'count' to get the count, identifier = 'name' to get the sector name.\n",
    "    if identifier == 'name':\n",
    "        return (dataset.groupby(by='main_sector')['main_sector'].count().sort_values(ascending=False).index[n])\n",
    "    elif identifier == 'count':\n",
    "        return (dataset.groupby(by='main_sector')['main_sector'].count().sort_values(ascending=False)[n])"
   ]
  },
  {
   "cell_type": "markdown",
   "metadata": {},
   "source": [
    "#### Q3. Top sector (based on count of investments)"
   ]
  },
  {
   "cell_type": "code",
   "execution_count": 175,
   "metadata": {},
   "outputs": [
    {
     "name": "stdout",
     "output_type": "stream",
     "text": [
      "D1_sec0_name :  Others \n",
      "D2_sec0_name :  Others \n",
      "D3_sec0_name :  Cleantech / Semiconductors\n"
     ]
    }
   ],
   "source": [
    "D1_sec0_name = getSector(dataset=D1,n=0,identifier='name')\n",
    "D2_sec0_name = getSector(D2,0,'name')\n",
    "D3_sec0_name = getSector(D3,0,'name')\n",
    "\n",
    "print('D1_sec0_name : ',D1_sec0_name,'\\nD2_sec0_name : ',D2_sec0_name,'\\nD3_sec0_name : ',D3_sec0_name)"
   ]
  },
  {
   "cell_type": "markdown",
   "metadata": {},
   "source": [
    "#### Q4. Second-best sector (based on count of investments)"
   ]
  },
  {
   "cell_type": "code",
   "execution_count": 176,
   "metadata": {},
   "outputs": [
    {
     "name": "stdout",
     "output_type": "stream",
     "text": [
      "D1_sec1_name :  Cleantech / Semiconductors \n",
      "D2_sec1_name :  Cleantech / Semiconductors \n",
      "D3_sec1_name :  Others\n"
     ]
    }
   ],
   "source": [
    "D1_sec1_name = getSector(D1,1,'name')\n",
    "D2_sec1_name = getSector(D2,1,'name')\n",
    "D3_sec1_name = getSector(D3,1,'name')\n",
    "\n",
    "print('D1_sec1_name : ',D1_sec1_name,'\\nD2_sec1_name : ',D2_sec1_name,'\\nD3_sec1_name : ',D3_sec1_name)"
   ]
  },
  {
   "cell_type": "markdown",
   "metadata": {},
   "source": [
    "#### Q5. Third-best sector (based on count of investments)"
   ]
  },
  {
   "cell_type": "code",
   "execution_count": 177,
   "metadata": {},
   "outputs": [
    {
     "name": "stdout",
     "output_type": "stream",
     "text": [
      "D1_sec2_name :  Social, Finance, Analytics, Advertising \n",
      "D2_sec2_name :  Social, Finance, Analytics, Advertising \n",
      "D3_sec2_name :  Social, Finance, Analytics, Advertising\n"
     ]
    }
   ],
   "source": [
    "D1_sec2_name = getSector(D1,2,'name')\n",
    "D2_sec2_name = getSector(D2,2,'name')\n",
    "D3_sec2_name = getSector(D3,2,'name')\n",
    "\n",
    "print('D1_sec2_name : ',D1_sec2_name,'\\nD2_sec2_name : ',D2_sec2_name,'\\nD3_sec2_name : ',D3_sec2_name)"
   ]
  },
  {
   "cell_type": "markdown",
   "metadata": {},
   "source": [
    "#### Q6. Number of investments in the top sector (refer to point 3)"
   ]
  },
  {
   "cell_type": "code",
   "execution_count": 178,
   "metadata": {},
   "outputs": [
    {
     "name": "stdout",
     "output_type": "stream",
     "text": [
      "D1_sec0_count :  8243 \n",
      "D2_sec0_count :  507 \n",
      "D3_sec0_count :  329\n"
     ]
    }
   ],
   "source": [
    "D1_sec0_count = getSector(D1,0,'count')\n",
    "D2_sec0_count = getSector(D2,0,'count')\n",
    "D3_sec0_count = getSector(D3,0,'count')\n",
    "\n",
    "print('D1_sec0_count : ',D1_sec0_count,'\\nD2_sec0_count : ',D2_sec0_count,'\\nD3_sec0_count : ',D3_sec0_count)"
   ]
  },
  {
   "cell_type": "markdown",
   "metadata": {},
   "source": [
    "#### Q7. Number of investments in the second-best sector (refer to point 4)"
   ]
  },
  {
   "cell_type": "code",
   "execution_count": 179,
   "metadata": {},
   "outputs": [
    {
     "name": "stdout",
     "output_type": "stream",
     "text": [
      "D1_sec1_count :  7849 \n",
      "D2_sec1_count :  433 \n",
      "D3_sec1_count :  326\n"
     ]
    }
   ],
   "source": [
    "D1_sec1_count = getSector(D1,1,'count')\n",
    "D2_sec1_count = getSector(D2,1,'count')\n",
    "D3_sec1_count = getSector(D3,1,'count')\n",
    "\n",
    "print('D1_sec1_count : ',D1_sec1_count,'\\nD2_sec1_count : ',D2_sec1_count,'\\nD3_sec1_count : ',D3_sec1_count)"
   ]
  },
  {
   "cell_type": "markdown",
   "metadata": {},
   "source": [
    "#### Q8. Number of investments in the third-best sector (refer to point 5)"
   ]
  },
  {
   "cell_type": "code",
   "execution_count": 180,
   "metadata": {},
   "outputs": [
    {
     "name": "stdout",
     "output_type": "stream",
     "text": [
      "D1_sec2_count :  5156 \n",
      "D2_sec2_count :  318 \n",
      "D3_sec2_count :  164\n"
     ]
    }
   ],
   "source": [
    "D1_sec2_count = getSector(D1,2,'count')\n",
    "D2_sec2_count = getSector(D2,2,'count')\n",
    "D3_sec2_count = getSector(D3,2,'count')\n",
    "\n",
    "print('D1_sec2_count : ',D1_sec2_count,'\\nD2_sec2_count : ',D2_sec2_count,'\\nD3_sec2_count : ',D3_sec2_count)"
   ]
  },
  {
   "cell_type": "markdown",
   "metadata": {},
   "source": [
    "#### Q9. For the top sector count-wise (point 3), which company received the highest investment?"
   ]
  },
  {
   "cell_type": "code",
   "execution_count": 181,
   "metadata": {},
   "outputs": [
    {
     "name": "stdout",
     "output_type": "stream",
     "text": [
      "D1_com0_invt :  SoFi \n",
      "D2_com0_invt :  OneWeb \n",
      "D3_com0_invt :  Enobia Pharma\n"
     ]
    }
   ],
   "source": [
    "# Filter dataframes by top-sector names(Q3), then group by company name and sum the raised_amount_usd, then fetch highest value\n",
    "D1_com0_invt = D1[D1.main_sector == D1_sec0_name].groupby(by='name')['raised_amount_usd'].sum().sort_values(ascending=False).index[0]\n",
    "D2_com0_invt = D2[D2.main_sector == D2_sec0_name].groupby(by='name')['raised_amount_usd'].sum().sort_values(ascending=False).index[0]\n",
    "D3_com0_invt = D3[D3.main_sector == D3_sec0_name].groupby(by='name')['raised_amount_usd'].sum().sort_values(ascending=False).index[0]\n",
    "\n",
    "print('D1_com0_invt : ',D1_com0_invt,'\\nD2_com0_invt : ',D2_com0_invt,'\\nD3_com0_invt : ',D3_com0_invt)"
   ]
  },
  {
   "cell_type": "markdown",
   "metadata": {},
   "source": [
    "#### Q10. For the second-best sector count-wise (point 4), which company received the highest investment?"
   ]
  },
  {
   "cell_type": "code",
   "execution_count": 182,
   "metadata": {},
   "outputs": [
    {
     "name": "stdout",
     "output_type": "stream",
     "text": [
      "D1_com1_invt :  Juno Therapeutics \n",
      "D2_com1_invt :  ReNeuron Group \n",
      "D3_com1_invt :  BuildDirect\n"
     ]
    }
   ],
   "source": [
    "D1_com1_invt = D1[D1.main_sector == D1_sec1_name].groupby(by='name')['raised_amount_usd'].sum().sort_values(ascending=False).index[1]\n",
    "D2_com1_invt = D2[D2.main_sector == D2_sec1_name].groupby(by='name')['raised_amount_usd'].sum().sort_values(ascending=False).index[1]\n",
    "D3_com1_invt = D3[D3.main_sector == D3_sec1_name].groupby(by='name')['raised_amount_usd'].sum().sort_values(ascending=False).index[1]\n",
    "\n",
    "print('D1_com1_invt : ',D1_com1_invt,'\\nD2_com1_invt : ',D2_com1_invt,'\\nD3_com1_invt : ',D3_com1_invt)"
   ]
  },
  {
   "cell_type": "markdown",
   "metadata": {},
   "source": [
    "## Checkpoint 6: Plots"
   ]
  },
  {
   "cell_type": "markdown",
   "metadata": {
    "collapsed": true
   },
   "source": [
    "#### Q1. A plot showing the fraction of total investments (globally) in venture, seed, and private equity, and the average amount of investment in each funding type. This chart should make it clear that a certain funding type (FT) is best suited for Spark Funds."
   ]
  },
  {
   "cell_type": "markdown",
   "metadata": {},
   "source": [
    "#### Using Matplotlib"
   ]
  },
  {
   "cell_type": "code",
<<<<<<< HEAD
   "execution_count": 91,
=======
   "execution_count": 183,
>>>>>>> a057818889476bbf0f7e99f3a44650152be85311
   "metadata": {},
   "outputs": [
    {
     "data": {
<<<<<<< HEAD
      "image/png": "iVBORw0KGgoAAAANSUhEUgAAKwkAAAF3CAYAAADSc2mGAAAABHNCSVQICAgIfAhkiAAAAAlwSFlz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\n",
      "text/plain": [
       "<matplotlib.figure.Figure at 0x1c64ae514a8>"
=======
      "image/png": "iVBORw0KGgoAAAANSUhEUgAAAmMAAAF3CAYAAADpZ0xtAAAABHNCSVQICAgIfAhkiAAAAAlwSFlz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\n",
      "text/plain": [
       "<matplotlib.figure.Figure at 0x1cd5fb70>"
>>>>>>> a057818889476bbf0f7e99f3a44650152be85311
      ]
     },
     "metadata": {},
     "output_type": "display_data"
    }
   ],
   "source": [
    "selected_funding_round_type = ['venture','angel','seed','private_equity']\n",
    "plot_frame = master_frame.loc[master_frame.funding_round_type.isin(selected_funding_round_type)]\n",
    "plot_frame = plot_frame.groupby('funding_round_type')['raised_amount_usd'].mean().sort_values(ascending=True).reset_index()\n",
    "cond = ((plot_frame.raised_amount_usd >= 5000000) & (plot_frame.raised_amount_usd <= 15000000))\n",
    "\n",
    "x = range(len(plot_frame.funding_round_type))\n",
    "y = plot_frame.raised_amount_usd/ 1000000\n",
    "\n",
    "plt.figure(figsize=(9,6))\n",
    "\n",
    "# Bar plot\n",
    "plt.bar(x,y,color=cond.map({True: 'g', False: 'k'}))\n",
    "# Color the funding round type with different color where raised amount used is between 5 to 15 million.\n",
    "\n",
    "# Labels\n",
    "plt.xlabel('Funding Round Type')\n",
    "plt.ylabel('Raised Amount Used in Million(s)')\n",
    "\n",
    "# Ticks\n",
    "plt.xticks(x, plot_frame.funding_round_type)\n",
    "\n",
    "# Add value corresponding to each bar\n",
    "\n",
    "\n",
    "# Horizontal Line\n",
    "plt.axhline(y=5, color='b', linestyle='-',alpha = 0.5)\n",
    "plt.text(max(x)+.7, 5,'5 Million')\n",
    "plt.axhline(y=15, color='b', linestyle='-',alpha = 0.5)\n",
    "plt.text(max(x)+.7, 15,'15 Million')\n",
    "\n",
    "# Save as image\n",
<<<<<<< HEAD
    "plt.savefig(dir_out+'Funding_Type.png',bbox_inches=\"tight\")\n",
=======
    "plt.savefig(outDir+'Funding_Type.png',bbox_inches=\"tight\")\n",
>>>>>>> a057818889476bbf0f7e99f3a44650152be85311
    "\n",
    "# Show plot\n",
    "plt.show()"
   ]
  },
  {
   "cell_type": "code",
   "execution_count": null,
   "metadata": {
    "collapsed": true
   },
   "outputs": [],
   "source": []
  }
 ],
 "metadata": {
  "kernelspec": {
   "display_name": "Python 3",
   "language": "python",
   "name": "python3"
  },
  "language_info": {
   "codemirror_mode": {
    "name": "ipython",
    "version": 3
   },
   "file_extension": ".py",
   "mimetype": "text/x-python",
   "name": "python",
   "nbconvert_exporter": "python",
   "pygments_lexer": "ipython3",
   "version": "3.6.3"
  }
 },
 "nbformat": 4,
 "nbformat_minor": 2
}
