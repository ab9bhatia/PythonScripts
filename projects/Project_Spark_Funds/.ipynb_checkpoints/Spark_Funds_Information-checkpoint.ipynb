{
 "cells": [
  {
   "cell_type": "markdown",
   "metadata": {},
   "source": [
    "### Prerequisite\n",
    "1. Download Anaconda Package(3) from here : \n",
    "https://www.anaconda.com/download/<br>\n",
    "\n",
    "2. Installation Instructions : \n",
    "https://medium.com/@GalarnykMichael/install-python-on-windows-anaconda-c63c7c3d1444\n",
    "\n",
    "3. MySQL driver installation for Python(Optional) : After Installing Anaconda package, on Anaconda prompt, run the below command:\n",
    "<br>\"conda install -c anaconda mysql-connector-python\"\n",
    "\n",
    "4. Create two folders named <b>'data'</b> and <b>'outDir'</b> under current working directory\n",
    "***"
   ]
  },
  {
   "cell_type": "markdown",
   "metadata": {},
   "source": [
    "### Projet Brief\n",
    "Spark Funds wants to make investments in a few companies. The CEO of Spark Funds wants to understand the global trends in investments so that she can take the investment decisions effectively."
   ]
  },
  {
   "cell_type": "markdown",
   "metadata": {},
   "source": [
    "### Business and Data Understanding\n",
    "Spark Funds has two minor constraints for investments:\n",
    "It wants to invest between 5 to 15 million USD per round of investment\n",
    "It wants to invest only in English-speaking countries because of the ease of communication with the companies it would invest in"
   ]
  },
  {
   "cell_type": "markdown",
   "metadata": {},
   "source": [
    "### Downloads\n",
    "You can download the datasets from here:<br>\n",
    "\n",
    "1. [Companies Dataset](https://github.com/ab9bhatia/PythonScripts/blob/master/projects/Project_Spark_Funds/spark_funds_data/companies.txt)\n",
    "2. [Rounds2 Dataset](https://github.com/ab9bhatia/PythonScripts/blob/master/projects/Project_Spark_Funds/spark_funds_data/rounds2.csv)\n",
    "3. [Mapping File](https://github.com/ab9bhatia/PythonScripts/blob/master/projects/Project_Spark_Funds/spark_funds_data/mapping.csv)\n",
    "***"
   ]
  },
  {
   "cell_type": "markdown",
   "metadata": {},
   "source": [
    "### What is Spark Funds’ business objective?\n",
    "\n",
    "##### Business objective: \n",
    "The objective is to identify the best sectors, countries, and a suitable investment type for making investments. The overall strategy is to invest where others are investing, implying that the best sectors and countries are the ones where most investments are happening.\n",
    "##### Goals of data analysis: \n",
    "Your goals are divided into three sub-goals:\n",
    "###### Investment type analysis: \n",
    "Understanding investments in venture, seed/angel, private equity categories, etc. so Spark Funds can decide which type is best suited for its strategy.\n",
    "###### Country analysis: \n",
    "Understanding which countries have had the most investments in the past. These will be Spark Funds’ favourites as well.\n",
    "###### Sector analysis: \n",
    "Understanding the distribution of investments across the eight main sectors. (Note that we are interested in the eight main sectors provided in the mapping file. The two files — companies and rounds2 — have numerous sub-sector names; hence, you will need to map each sub-sector to its main sector.)"
   ]
  }
 ],
 "metadata": {
  "kernelspec": {
   "display_name": "Python 3",
   "language": "python",
   "name": "python3"
  },
  "language_info": {
   "codemirror_mode": {
    "name": "ipython",
    "version": 3
   },
   "file_extension": ".py",
   "mimetype": "text/x-python",
   "name": "python",
   "nbconvert_exporter": "python",
   "pygments_lexer": "ipython3",
   "version": "3.6.3"
  }
 },
 "nbformat": 4,
 "nbformat_minor": 2
}
