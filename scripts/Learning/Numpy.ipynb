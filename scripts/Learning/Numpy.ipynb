{
 "cells": [
  {
   "cell_type": "code",
   "execution_count": 2,
   "metadata": {
    "collapsed": true
   },
   "outputs": [],
   "source": [
    "import numpy as np"
   ]
  },
  {
   "cell_type": "code",
   "execution_count": 6,
   "metadata": {},
   "outputs": [
    {
     "data": {
      "text/plain": [
       "array([ 3,  6,  9, 12, 15, 18, 21, 24, 27])"
      ]
     },
     "execution_count": 6,
     "metadata": {},
     "output_type": "execute_result"
    }
   ],
   "source": [
    "myData = np.arange(3,30,3)\n",
    "myData"
   ]
  },
  {
   "cell_type": "code",
   "execution_count": 7,
   "metadata": {},
   "outputs": [
    {
     "data": {
      "text/plain": [
       "array([[ 3,  6,  9],\n",
       "       [12, 15, 18],\n",
       "       [21, 24, 27]])"
      ]
     },
     "execution_count": 7,
     "metadata": {},
     "output_type": "execute_result"
    }
   ],
   "source": [
    "np.reshape(myData,(3,3),'C')"
   ]
  },
  {
   "cell_type": "code",
   "execution_count": 8,
   "metadata": {},
   "outputs": [
    {
     "name": "stdout",
     "output_type": "stream",
     "text": [
      "[ 0.   0.2  0.4  0.6  0.8]\n"
     ]
    }
   ],
   "source": [
    "d = np.linspace(0, 1, 5, endpoint=False)\n",
    "print(d)"
   ]
  },
  {
   "cell_type": "code",
   "execution_count": 9,
   "metadata": {},
   "outputs": [
    {
     "name": "stdout",
     "output_type": "stream",
     "text": [
      "[1 2 3 4]\n",
      "[1 2 3 4]\n"
     ]
    }
   ],
   "source": [
    "a1 = np.array(np.arange(1,5,1)) # Using np.arange function\n",
    "a2 = np.array([1,2,3,4]) # Using list\n",
    "print(a1)\n",
    "print(a2)"
   ]
  },
  {
   "cell_type": "code",
   "execution_count": 10,
   "metadata": {},
   "outputs": [
    {
     "name": "stdout",
     "output_type": "stream",
     "text": [
      "[ 0  5 10 15 20 25 30 35 40 45 50 55 60 65 70 75 80 85 90 95]\n",
      "20\n"
     ]
    }
   ],
   "source": [
    "array1=np.arange(0,100,5)\n",
    "print(array1)\n",
    "print (array1.size)"
   ]
  },
  {
   "cell_type": "code",
   "execution_count": 23,
   "metadata": {},
   "outputs": [
    {
     "name": "stdout",
     "output_type": "stream",
     "text": [
      "[[1 2 3 4]\n",
      " [2 4 6 8]]\n",
      "[[ 0  5 10 15 20]\n",
      " [25 30 35 40 45]\n",
      " [50 55 60 65 70]\n",
      " [75 80 85 90 95]]\n",
      "[[ 0 10 20 30 40]\n",
      " [ 2 12 22 32 42]\n",
      " [ 4 14 24 34 44]\n",
      " [ 6 16 26 36 46]\n",
      " [ 8 18 28 38 48]]\n",
      "[[ 0  5 10 15 20 25]\n",
      " [30 35 40 45 50 55]\n",
      " [60 65 70 75 80 85]\n",
      " [90 95  0  5 10 15]]\n",
      "[[ 0.23631799  0.52753192  0.51918453  0.51679032  0.48744737]\n",
      " [ 0.04500314  0.63996625  0.35465586  0.88698523  0.18169024]\n",
      " [ 0.23631799  0.52753192  0.51918453  0.51679032  0.48744737]\n",
      " [ 0.04500314  0.63996625  0.35465586  0.88698523  0.18169024]\n",
      " [ 0.23631799  0.52753192  0.51918453  0.51679032  0.48744737]]\n",
      "[[ 0.  0.  0.]\n",
      " [ 0.  0.  0.]\n",
      " [ 0.  0.  0.]]\n"
     ]
    }
   ],
   "source": [
    "mat0 = np.matrix([[1,2,3,4],[2,4,6,8]])\n",
    "mat1 = np.reshape(array1,(4,5),order='C') # MATRIX USING RESHAPE FUNCTION\n",
    "mat2 = np.reshape(np.arange(0,50,2),(5,5),order='F')\n",
    "mat3 = np.resize(array1,(4,6)) # Matrix using resize function, it allows recyclibility like in R\n",
    "mat4 = np.resize(np.random.random_sample(10),(5,5))\n",
    "mat5 = np.zeros((3,3))\n",
    "print(mat0)\n",
    "print(mat1)\n",
    "print(mat2)\n",
    "print(mat3)\n",
    "print(mat4)\n",
    "print(mat5)"
   ]
  },
  {
   "cell_type": "code",
   "execution_count": 18,
   "metadata": {},
   "outputs": [
    {
     "name": "stdout",
     "output_type": "stream",
     "text": [
      "950\n",
      "[150 170 190 210 230]\n",
      "[ 50 175 300 425]\n",
      "95\n",
      "[ 8 18 28 38 48]\n",
      "[40 42 44 46 48]\n"
     ]
    }
   ],
   "source": [
    "# sum of all elements in matrix\n",
    "print(mat1.sum())\n",
    "# sum of all elements in each row of matrix\n",
    "print(mat1.sum(axis =0))\n",
    "# sum of all elements in each column of matrix\n",
    "print(mat1.sum(axis=1))\n",
    "# max element in matrix\n",
    "print(mat3.max())\n",
    "# max element in matrix in each row\n",
    "print(mat2.max(axis=0))\n",
    "# max element in matrix in each column\n",
    "print(mat2.max(axis=1))"
   ]
  },
  {
   "cell_type": "code",
   "execution_count": 19,
   "metadata": {},
   "outputs": [
    {
     "name": "stdout",
     "output_type": "stream",
     "text": [
      "[[ 1.  0.  0.  0.  0.]\n",
      " [ 0.  1.  0.  0.  0.]\n",
      " [ 0.  0.  1.  0.  0.]\n",
      " [ 0.  0.  0.  1.  0.]\n",
      " [ 0.  0.  0.  0.  1.]]\n",
      "[[ 1.  1.  1.  1.  1.]\n",
      " [ 1.  1.  1.  1.  1.]\n",
      " [ 1.  1.  1.  1.  1.]\n",
      " [ 1.  1.  1.  1.  1.]]\n"
     ]
    }
   ],
   "source": [
    "print(np.identity(5))\n",
    "print(np.ones((4,5)))"
   ]
  },
  {
   "cell_type": "code",
   "execution_count": null,
   "metadata": {
    "collapsed": true
   },
   "outputs": [],
   "source": []
  },
  {
   "cell_type": "code",
   "execution_count": null,
   "metadata": {
    "collapsed": true
   },
   "outputs": [],
   "source": []
  }
 ],
 "metadata": {
  "anaconda-cloud": {},
  "kernelspec": {
   "display_name": "Python 3",
   "language": "python",
   "name": "python3"
  },
  "language_info": {
   "codemirror_mode": {
    "name": "ipython",
    "version": 3
   },
   "file_extension": ".py",
   "mimetype": "text/x-python",
   "name": "python",
   "nbconvert_exporter": "python",
   "pygments_lexer": "ipython3",
   "version": "3.6.4"
  }
 },
 "nbformat": 4,
 "nbformat_minor": 2
}
