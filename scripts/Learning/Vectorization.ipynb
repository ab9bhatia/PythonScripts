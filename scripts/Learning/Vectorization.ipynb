{
 "cells": [
  {
   "cell_type": "code",
   "execution_count": 1,
   "metadata": {},
   "outputs": [],
   "source": [
    "import numpy as np"
   ]
  },
  {
   "cell_type": "code",
   "execution_count": 61,
   "metadata": {},
   "outputs": [
    {
     "name": "stdout",
     "output_type": "stream",
     "text": [
      "[[  0  10  20  30]\n",
      " [ 40  50  60  70]\n",
      " [ 80  90 100 110]\n",
      " [120 130 140 150]\n",
      " [160 170 180 190]]\n",
      "[[ 10  15  20  25  30]\n",
      " [ 35  40  45  50  55]\n",
      " [ 60  65  70  75  80]\n",
      " [ 85  90  95 100 105]]\n",
      "[[ 4100  4400  4700  5000  5300]\n",
      " [11700 12800 13900 15000 16100]\n",
      " [19300 21200 23100 25000 26900]\n",
      " [26900 29600 32300 35000 37700]\n",
      " [34500 38000 41500 45000 48500]]\n"
     ]
    }
   ],
   "source": [
    "mat_5_4 = np.reshape(np.arange(0,200,10),(5,4))\n",
    "mat_4_5 = np.reshape(np.arange(10,106,5),(4,5))\n",
    "mat_5_5 = np.dot(mat_5_4,mat_4_5)\n",
    "mat_1_1 = np.ones(5)\n",
    "print(mat_5_4)\n",
    "print(mat_4_5)\n",
    "print(mat_5_5)"
   ]
  },
  {
   "cell_type": "code",
   "execution_count": null,
   "metadata": {},
   "outputs": [],
   "source": []
  },
  {
   "cell_type": "code",
   "execution_count": null,
   "metadata": {},
   "outputs": [],
   "source": []
  }
 ],
 "metadata": {
  "anaconda-cloud": {},
  "kernelspec": {
   "display_name": "Python [default]",
   "language": "python",
   "name": "python3"
  },
  "language_info": {
   "codemirror_mode": {
    "name": "ipython",
    "version": 3
   },
   "file_extension": ".py",
   "mimetype": "text/x-python",
   "name": "python",
   "nbconvert_exporter": "python",
   "pygments_lexer": "ipython3",
   "version": "3.5.2"
  }
 },
 "nbformat": 4,
 "nbformat_minor": 2
}
