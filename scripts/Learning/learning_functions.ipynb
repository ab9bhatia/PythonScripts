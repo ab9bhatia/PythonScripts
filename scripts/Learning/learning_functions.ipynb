{
 "cells": [
  {
   "cell_type": "code",
   "execution_count": 1,
   "metadata": {
    "collapsed": true
   },
   "outputs": [],
   "source": [
    "# Defining a function to wite(.csv) a file to the user location.\n",
    "def writeDF(dataframe,filename,dir_path):\n",
    "    dataframe.to_csv(path_or_buf = outDir+filename+'.csv')\n",
    "    size = str(round((os.path.getsize(outDir+filename+'.csv')/1000),1))\n",
    "    print('File: '+filename+'.csv created at '+outDir+ '\\nSize of file :'+size+ ' KB' )\n",
    "    \n",
    "# Defining a method to wite(.xlsx) a file to the user location.\n",
    "def writeDF_xl(dataframe,filename,dir_path):\n",
    "    writer = pd.ExcelWriter(outDir+filename+'.xlsx', engine='xlsxwriter',options={'strings_to_urls': False})\n",
    "    dataframe.to_excel(writer,sheet_name= filename)\n",
    "    writer.close()\n",
    "    size = str(round((os.path.getsize(outDir+filename+'.xlsx')/1000),1))\n",
    "    print('File: '+filename+'.xlsx created at '+outDir+ '\\nSize of file :'+size+ ' KB' )"
   ]
  },
  {
   "cell_type": "code",
   "execution_count": 2,
   "metadata": {
    "collapsed": true
   },
   "outputs": [],
   "source": [
    "# Creating a custom function to wite(.csv) a file to the current working directory.\n",
    "def writeDF(dataframe,outFileName):\n",
    "    '''\n",
    "    dataframe : Dataframe name\n",
    "    Pass the dataframe name & outFileName, this function will create a file 'outFileName.csv' at current working directory.\n",
    "    '''\n",
    "    dataframe.to_csv(path_or_buf = './'+outFileName+'.csv')\n",
    "    size = str(round((os.path.getsize('./'+outFileName+'.csv')/1000),1))\n",
    "    print('File:'+ outFileName+'.csv created at current working directory \\nSize of file :\\t'+size+ ' KB' )"
   ]
  },
  {
   "cell_type": "code",
   "execution_count": null,
   "metadata": {
    "collapsed": true
   },
   "outputs": [],
   "source": [
    "def impute_numeric_values(dataframe,column,approach):\n",
    "    '''impute_values function will impute the missing data(numeric) in the dataframe column.\n",
    "        dataframe :: Dataframe Name\n",
    "        column    :: Column name(numeric)\n",
    "        approach  :: 1,2,3 (default value 1)\n",
    "            1. Delete the row\n",
    "            2. Replace missing value with mean value.\n",
    "            3. Replace missing value with 0\n",
    "    '''\n",
    "    if approach == 1:\n",
    "        dataframe_filtered = dataframe[column].dropna()\n",
    "    if approach == 2:\n",
    "        dataframe_filtered = dataframe[column].fillna(dataframe[column].mean())\n",
    "    if approach == 3:\n",
    "        dataframe_filtered = dataframe[column].fillna(0)        \n",
    "        \n",
    "    print('\\nNumber of Records (after imputing missing values): ',dataframe_filtered.size)\n",
    "    return dataframe_filtered"
   ]
  }
 ],
 "metadata": {
  "kernelspec": {
   "display_name": "Python 3",
   "language": "python",
   "name": "python3"
  },
  "language_info": {
   "codemirror_mode": {
    "name": "ipython",
    "version": 3
   },
   "file_extension": ".py",
   "mimetype": "text/x-python",
   "name": "python",
   "nbconvert_exporter": "python",
   "pygments_lexer": "ipython3",
   "version": "3.6.3"
  }
 },
 "nbformat": 4,
 "nbformat_minor": 2
}
