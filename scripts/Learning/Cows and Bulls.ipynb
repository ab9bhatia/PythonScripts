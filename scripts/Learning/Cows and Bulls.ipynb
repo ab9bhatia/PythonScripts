{
 "cells": [
  {
   "cell_type": "markdown",
   "metadata": {},
   "source": [
    "# Cows and Bulls\n",
    "\n",
    "### Game Rules\n",
    "\n",
    "This game is usually played with 4 digits.\n",
    "One palyer write a 4-digit secret number. The digits must be all different. Then, in turn, the players try to guess their opponent's number who gives the number of matches & matching positions. \n",
    "For examples, if the secret number was 3 7 8 1, and opponent guessed it as 4 7 1 8, then in this case count of Matching number is  3 and count of Matching position is 1. Based on this matching numbers & matching positions the opponent will guess another number till opponent guessed the right number. The Goal here is to guess the number in minimum number of attempts."
   ]
  },
  {
   "cell_type": "code",
   "execution_count": 2,
   "metadata": {
    "collapsed": true
   },
   "outputs": [],
   "source": [
    "import sqlite3\n",
    "import numpy as np\n",
    "import random\n",
    "import time\n",
    "import datetime\n",
    "import matplotlib.pyplot as plt\n",
    "%matplotlib inline\n",
    "import pandas as pd"
   ]
  },
  {
   "cell_type": "code",
   "execution_count": 3,
   "metadata": {},
   "outputs": [
    {
     "name": "stdout",
     "output_type": "stream",
     "text": [
      "Hi, Enter your Name : as\n",
      "\n",
      "Welcome  AS\n",
      "[4, 8, 7, 5]\n",
      "Enter four numbers to guess : 4 8 7 5\n",
      "[4 8 7 5] \n",
      "\n",
      "Matching Number(s) :  4        Matching Position(s) :  4 \n",
      "\n",
      "Congratulations,  AS , You have guessed the number in  1  attempts and took 8.22  seconds\n",
      "\n",
      "Saving data into database\n",
      "\n"
     ]
    },
    {
     "data": {
      "text/html": [
       "<div>\n",
       "<style>\n",
       "    .dataframe thead tr:only-child th {\n",
       "        text-align: right;\n",
       "    }\n",
       "\n",
       "    .dataframe thead th {\n",
       "        text-align: left;\n",
       "    }\n",
       "\n",
       "    .dataframe tbody tr th {\n",
       "        vertical-align: top;\n",
       "    }\n",
       "</style>\n",
       "<table border=\"1\" class=\"dataframe\">\n",
       "  <thead>\n",
       "    <tr style=\"text-align: right;\">\n",
       "      <th></th>\n",
       "      <th>USER</th>\n",
       "      <th>NUMBER</th>\n",
       "      <th>ATTEMPTS</th>\n",
       "      <th>DURATION</th>\n",
       "      <th>EVENTTIME</th>\n",
       "    </tr>\n",
       "  </thead>\n",
       "  <tbody>\n",
       "    <tr>\n",
       "      <th>0</th>\n",
       "      <td>AS</td>\n",
       "      <td>[4, 8, 7, 5]</td>\n",
       "      <td>1</td>\n",
       "      <td>8.22</td>\n",
       "      <td>2017-11-20 22:43:14.234299</td>\n",
       "    </tr>\n",
       "    <tr>\n",
       "      <th>1</th>\n",
       "      <td>ANKIT</td>\n",
       "      <td>[1, 0, 8, 7]</td>\n",
       "      <td>4</td>\n",
       "      <td>26.73</td>\n",
       "      <td>2017-10-29 12:20:45.968762</td>\n",
       "    </tr>\n",
       "    <tr>\n",
       "      <th>2</th>\n",
       "      <td>ATUL</td>\n",
       "      <td>[9, 5, 6, 7]</td>\n",
       "      <td>4</td>\n",
       "      <td>29.79</td>\n",
       "      <td>2017-10-28 16:30:38.353943</td>\n",
       "    </tr>\n",
       "    <tr>\n",
       "      <th>3</th>\n",
       "      <td>ANKIT</td>\n",
       "      <td>[6, 8, 4, 1]</td>\n",
       "      <td>4</td>\n",
       "      <td>44.18</td>\n",
       "      <td>2017-10-28 16:24:00.755377</td>\n",
       "    </tr>\n",
       "  </tbody>\n",
       "</table>\n",
       "</div>"
      ],
      "text/plain": [
       "    USER        NUMBER  ATTEMPTS  DURATION                   EVENTTIME\n",
       "0     AS  [4, 8, 7, 5]         1      8.22  2017-11-20 22:43:14.234299\n",
       "1  ANKIT  [1, 0, 8, 7]         4     26.73  2017-10-29 12:20:45.968762\n",
       "2   ATUL  [9, 5, 6, 7]         4     29.79  2017-10-28 16:30:38.353943\n",
       "3  ANKIT  [6, 8, 4, 1]         4     44.18  2017-10-28 16:24:00.755377"
      ]
     },
     "execution_count": 3,
     "metadata": {},
     "output_type": "execute_result"
    }
   ],
   "source": [
    "eventtime = datetime.datetime.now()\n",
    "#eventtime = '{:%Y-%m-%d %H:%M:%S}'.format(datetime.datetime.now())\n",
    "USER = (input('Hi, Enter your Name : ').upper())\n",
    "print('\\nWelcome ',USER)\n",
    "computerGivenNo = random.sample(range(10), 4)\n",
    "NUMBER = \"\".join(str(computerGivenNo))\n",
    "print(computerGivenNo)  \n",
    "\n",
    "notGuessed = True\n",
    "attempts = 0\n",
    "tic = time.time()\n",
    "while(notGuessed):\n",
    "    matching = 0\n",
    "    position = 0\n",
    "    userGivenNo = np.array(input('Enter four numbers to guess : ').strip().split(),int)\n",
    "    attempts += 1\n",
    "    print(userGivenNo,'\\n')\n",
    "    for i in range(4):\n",
    "        if(computerGivenNo[i]==userGivenNo[i]):\n",
    "                position += 1\n",
    "\n",
    "    for i in computerGivenNo:\n",
    "        if i in userGivenNo:\n",
    "            matching += 1\n",
    "\n",
    "    print('Matching Number(s) : ',matching, '       Matching Position(s) : ',position,'\\n') \n",
    "    if(position ==4):\n",
    "        notGuessed = False\n",
    "        \n",
    "toc = time.time()\n",
    "duration = round((toc -tic),2)\n",
    "\n",
    "print('Congratulations, ',USER, ', You have guessed the number in ',attempts,' attempts and took', duration,' seconds\\n')\n",
    "\n",
    "# Database connection\n",
    "conn = sqlite3.connect('example.db')\n",
    "c = conn.cursor()\n",
    "\n",
    "print('Saving data into database\\n')\n",
    "time.sleep(3)\n",
    "\n",
    "# Create table\n",
    "#c.execute(\"CREATE TABLE IF NOT EXISTS COWBULL(USER varchar(20),NUMBER varchar(4),ATTEMPTS int,DURATION real,EVENTTIME text UNIQUE) \")\n",
    "c.execute(\"CREATE TABLE IF NOT EXISTS COWBULL(USER varchar(20),NUMBER varchar(4),ATTEMPTS int,DURATION real,EVENTTIME text UNIQUE) \")\n",
    "\n",
    "# Insert into table\n",
    "istmnt = '''INSERT INTO COWBULL (USER,NUMBER,ATTEMPTS,DURATION,EVENTTIME) VALUES(?,?,?,?,?)'''\n",
    "c.execute(istmnt,(USER,NUMBER,attempts,duration,eventtime))\n",
    "conn.commit()\n",
    "# Accessing the data through Dataframe\n",
    "#GameData = c.execute(\"SELECT * FROM COWBULL ORDER BY EVENTTIME DESC\");\n",
    "GameData = pd.read_sql_query(\"SELECT * FROM COWBULL ORDER BY EVENTTIME DESC\",conn);\n",
    "conn.close()\n",
    "\n",
    "GameData"
   ]
  },
  {
   "cell_type": "code",
   "execution_count": 4,
   "metadata": {},
   "outputs": [
    {
     "data": {
      "image/png": "[encoded data removed]",
      "text/plain": [
       "<matplotlib.figure.Figure at 0x5406668>"
      ]
     },
     "metadata": {},
     "output_type": "display_data"
    }
   ],
   "source": [
    "plt.plot(GameData.DURATION,GameData.ATTEMPTS)\n",
    "plt.show()\n"
   ]
  },
  {
   "cell_type": "code",
   "execution_count": null,
   "metadata": {
    "collapsed": true
   },
   "outputs": [],
   "source": []
  }
 ],
 "metadata": {
  "kernelspec": {
   "display_name": "Python 3",
   "language": "python",
   "name": "python3"
  },
  "language_info": {
   "codemirror_mode": {
    "name": "ipython",
    "version": 3
   },
   "file_extension": ".py",
   "mimetype": "text/x-python",
   "name": "python",
   "nbconvert_exporter": "python",
   "pygments_lexer": "ipython3",
   "version": "3.6.3"
  }
 },
 "nbformat": 4,
 "nbformat_minor": 2
}
