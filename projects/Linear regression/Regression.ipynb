{
 "cells": [
  {
   "cell_type": "markdown",
   "metadata": {},
   "source": [
    "# Regression: Car price Prediction\n",
    "***"
   ]
  },
  {
   "cell_type": "markdown",
   "metadata": {},
   "source": [
    "[I. Prerequisite](#prerequisite)\n",
    "\n",
    "[II. Import Libraries and set required parameters](#library)\n",
    "\n",
    "[III. Data Sourcing](#sourcing)\n",
    "\n",
    "[IV. Data Preprocessing](#preprocessing)\n",
    "\n",
    "[V. Exploratory Data Analysis](#eda)\n",
    "\n",
    "[VI. Convert Categorical Variables to Continuos](#cat)\n",
    "\n",
    "[VII. Feature Scaling](#scaling)\n",
    "\n",
    "[VII. Feature Selection](#feature)\n",
    "\n",
    "[VIII. Bivariate/Multivariate Analysis](#bivariate)\n",
    "\n",
    "[IX. Bivariate/Multivariate Analysis with Probability of Charged off](#bivariate_prob)\n",
    "\n",
    "[X. Conclusion](#Conclusion)"
   ]
  },
  {
   "cell_type": "markdown",
   "metadata": {},
   "source": [
    "<a id='prerequisite'></a>"
   ]
  },
  {
   "cell_type": "markdown",
   "metadata": {},
   "source": [
    "## I. Prerequisite"
   ]
  },
  {
   "cell_type": "markdown",
   "metadata": {},
   "source": [
    "1. Place 'CarPrice_Assignment.csv' input file at your current working directory before running this code.\n",
    "\n",
    "2. Please make sure that you have following python libraries imported/installed at your system:\n",
    "\n",
    "    * numpy version\t: 1.12.1 or higher\n",
    "    * pandas version\t: 0.20.3 or higher\n",
    "    * seaborn version\t: 0.8.0 or higher"
   ]
  },
  {
   "cell_type": "markdown",
   "metadata": {},
   "source": [
    "<a id='library'></a>"
   ]
  },
  {
   "cell_type": "markdown",
   "metadata": {},
   "source": [
    "## II. Import Libraries and set required parameters"
   ]
  },
  {
   "cell_type": "code",
   "execution_count": 58,
   "metadata": {
    "collapsed": true
   },
   "outputs": [],
   "source": [
    "import numpy as np\n",
    "import pandas as pd\n",
    "import matplotlib.pyplot as plt\n",
    "%matplotlib inline\n",
    "\n",
    "import seaborn as sns\n",
    "# train-test split\n",
    "from sklearn.model_selection import train_test_split\n",
    "\n",
    "# LinearRegression\n",
    "from sklearn.linear_model import LinearRegression\n",
    "\n",
    "# rmse and r-square\n",
    "from sklearn.metrics import mean_squared_error, r2_score\n",
    "\n",
    "pd.options.mode.chained_assignment = None #set it to None to remove SettingWithCopyWarning\n",
    "pd.options.display.float_format = '{:.3f}'.format #set it to convert scientific noations such as 4.225108e+11 to 422510842796.00\n",
    "pd.set_option('display.max_columns', 100) # to display all the columns\n",
    "import warnings\n",
    "warnings.filterwarnings('ignore') # if there are any warning due to version mismatch, it will be ignored"
   ]
  },
  {
   "cell_type": "markdown",
   "metadata": {},
   "source": [
    "<a id='sourcing'></a>"
   ]
  },
  {
   "cell_type": "markdown",
   "metadata": {},
   "source": [
    "## III. Data Sourcing"
   ]
  },
  {
   "cell_type": "code",
   "execution_count": 2,
   "metadata": {},
   "outputs": [
    {
     "name": "stdout",
     "output_type": "stream",
     "text": [
      "Rows & Columns :: (205, 26)\n"
     ]
    },
    {
     "data": {
      "text/html": [
       "<div>\n",
       "<style>\n",
       "    .dataframe thead tr:only-child th {\n",
       "        text-align: right;\n",
       "    }\n",
       "\n",
       "    .dataframe thead th {\n",
       "        text-align: left;\n",
       "    }\n",
       "\n",
       "    .dataframe tbody tr th {\n",
       "        vertical-align: top;\n",
       "    }\n",
       "</style>\n",
       "<table border=\"1\" class=\"dataframe\">\n",
       "  <thead>\n",
       "    <tr style=\"text-align: right;\">\n",
       "      <th></th>\n",
       "      <th>car_ID</th>\n",
       "      <th>symboling</th>\n",
       "      <th>CarName</th>\n",
       "      <th>fueltype</th>\n",
       "      <th>aspiration</th>\n",
       "      <th>doornumber</th>\n",
       "      <th>carbody</th>\n",
       "      <th>drivewheel</th>\n",
       "      <th>enginelocation</th>\n",
       "      <th>wheelbase</th>\n",
       "      <th>carlength</th>\n",
       "      <th>carwidth</th>\n",
       "      <th>carheight</th>\n",
       "      <th>curbweight</th>\n",
       "      <th>enginetype</th>\n",
       "      <th>cylindernumber</th>\n",
       "      <th>enginesize</th>\n",
       "      <th>fuelsystem</th>\n",
       "      <th>boreratio</th>\n",
       "      <th>stroke</th>\n",
       "      <th>compressionratio</th>\n",
       "      <th>horsepower</th>\n",
       "      <th>peakrpm</th>\n",
       "      <th>citympg</th>\n",
       "      <th>highwaympg</th>\n",
       "      <th>price</th>\n",
       "    </tr>\n",
       "  </thead>\n",
       "  <tbody>\n",
       "    <tr>\n",
       "      <th>0</th>\n",
       "      <td>1</td>\n",
       "      <td>3</td>\n",
       "      <td>alfa-romero giulia</td>\n",
       "      <td>gas</td>\n",
       "      <td>std</td>\n",
       "      <td>two</td>\n",
       "      <td>convertible</td>\n",
       "      <td>rwd</td>\n",
       "      <td>front</td>\n",
       "      <td>88.60</td>\n",
       "      <td>168.80</td>\n",
       "      <td>64.10</td>\n",
       "      <td>48.80</td>\n",
       "      <td>2548</td>\n",
       "      <td>dohc</td>\n",
       "      <td>four</td>\n",
       "      <td>130</td>\n",
       "      <td>mpfi</td>\n",
       "      <td>3.47</td>\n",
       "      <td>2.68</td>\n",
       "      <td>9.00</td>\n",
       "      <td>111</td>\n",
       "      <td>5000</td>\n",
       "      <td>21</td>\n",
       "      <td>27</td>\n",
       "      <td>13495.00</td>\n",
       "    </tr>\n",
       "    <tr>\n",
       "      <th>1</th>\n",
       "      <td>2</td>\n",
       "      <td>3</td>\n",
       "      <td>alfa-romero stelvio</td>\n",
       "      <td>gas</td>\n",
       "      <td>std</td>\n",
       "      <td>two</td>\n",
       "      <td>convertible</td>\n",
       "      <td>rwd</td>\n",
       "      <td>front</td>\n",
       "      <td>88.60</td>\n",
       "      <td>168.80</td>\n",
       "      <td>64.10</td>\n",
       "      <td>48.80</td>\n",
       "      <td>2548</td>\n",
       "      <td>dohc</td>\n",
       "      <td>four</td>\n",
       "      <td>130</td>\n",
       "      <td>mpfi</td>\n",
       "      <td>3.47</td>\n",
       "      <td>2.68</td>\n",
       "      <td>9.00</td>\n",
       "      <td>111</td>\n",
       "      <td>5000</td>\n",
       "      <td>21</td>\n",
       "      <td>27</td>\n",
       "      <td>16500.00</td>\n",
       "    </tr>\n",
       "    <tr>\n",
       "      <th>2</th>\n",
       "      <td>3</td>\n",
       "      <td>1</td>\n",
       "      <td>alfa-romero Quadrifoglio</td>\n",
       "      <td>gas</td>\n",
       "      <td>std</td>\n",
       "      <td>two</td>\n",
       "      <td>hatchback</td>\n",
       "      <td>rwd</td>\n",
       "      <td>front</td>\n",
       "      <td>94.50</td>\n",
       "      <td>171.20</td>\n",
       "      <td>65.50</td>\n",
       "      <td>52.40</td>\n",
       "      <td>2823</td>\n",
       "      <td>ohcv</td>\n",
       "      <td>six</td>\n",
       "      <td>152</td>\n",
       "      <td>mpfi</td>\n",
       "      <td>2.68</td>\n",
       "      <td>3.47</td>\n",
       "      <td>9.00</td>\n",
       "      <td>154</td>\n",
       "      <td>5000</td>\n",
       "      <td>19</td>\n",
       "      <td>26</td>\n",
       "      <td>16500.00</td>\n",
       "    </tr>\n",
       "    <tr>\n",
       "      <th>3</th>\n",
       "      <td>4</td>\n",
       "      <td>2</td>\n",
       "      <td>audi 100 ls</td>\n",
       "      <td>gas</td>\n",
       "      <td>std</td>\n",
       "      <td>four</td>\n",
       "      <td>sedan</td>\n",
       "      <td>fwd</td>\n",
       "      <td>front</td>\n",
       "      <td>99.80</td>\n",
       "      <td>176.60</td>\n",
       "      <td>66.20</td>\n",
       "      <td>54.30</td>\n",
       "      <td>2337</td>\n",
       "      <td>ohc</td>\n",
       "      <td>four</td>\n",
       "      <td>109</td>\n",
       "      <td>mpfi</td>\n",
       "      <td>3.19</td>\n",
       "      <td>3.40</td>\n",
       "      <td>10.00</td>\n",
       "      <td>102</td>\n",
       "      <td>5500</td>\n",
       "      <td>24</td>\n",
       "      <td>30</td>\n",
       "      <td>13950.00</td>\n",
       "    </tr>\n",
       "    <tr>\n",
       "      <th>4</th>\n",
       "      <td>5</td>\n",
       "      <td>2</td>\n",
       "      <td>audi 100ls</td>\n",
       "      <td>gas</td>\n",
       "      <td>std</td>\n",
       "      <td>four</td>\n",
       "      <td>sedan</td>\n",
       "      <td>4wd</td>\n",
       "      <td>front</td>\n",
       "      <td>99.40</td>\n",
       "      <td>176.60</td>\n",
       "      <td>66.40</td>\n",
       "      <td>54.30</td>\n",
       "      <td>2824</td>\n",
       "      <td>ohc</td>\n",
       "      <td>five</td>\n",
       "      <td>136</td>\n",
       "      <td>mpfi</td>\n",
       "      <td>3.19</td>\n",
       "      <td>3.40</td>\n",
       "      <td>8.00</td>\n",
       "      <td>115</td>\n",
       "      <td>5500</td>\n",
       "      <td>18</td>\n",
       "      <td>22</td>\n",
       "      <td>17450.00</td>\n",
       "    </tr>\n",
       "  </tbody>\n",
       "</table>\n",
       "</div>"
      ],
      "text/plain": [
       "   car_ID  symboling                   CarName fueltype aspiration doornumber  \\\n",
       "0       1          3        alfa-romero giulia      gas        std        two   \n",
       "1       2          3       alfa-romero stelvio      gas        std        two   \n",
       "2       3          1  alfa-romero Quadrifoglio      gas        std        two   \n",
       "3       4          2               audi 100 ls      gas        std       four   \n",
       "4       5          2                audi 100ls      gas        std       four   \n",
       "\n",
       "       carbody drivewheel enginelocation  wheelbase  carlength  carwidth  \\\n",
       "0  convertible        rwd          front      88.60     168.80     64.10   \n",
       "1  convertible        rwd          front      88.60     168.80     64.10   \n",
       "2    hatchback        rwd          front      94.50     171.20     65.50   \n",
       "3        sedan        fwd          front      99.80     176.60     66.20   \n",
       "4        sedan        4wd          front      99.40     176.60     66.40   \n",
       "\n",
       "   carheight  curbweight enginetype cylindernumber  enginesize fuelsystem  \\\n",
       "0      48.80        2548       dohc           four         130       mpfi   \n",
       "1      48.80        2548       dohc           four         130       mpfi   \n",
       "2      52.40        2823       ohcv            six         152       mpfi   \n",
       "3      54.30        2337        ohc           four         109       mpfi   \n",
       "4      54.30        2824        ohc           five         136       mpfi   \n",
       "\n",
       "   boreratio  stroke  compressionratio  horsepower  peakrpm  citympg  \\\n",
       "0       3.47    2.68              9.00         111     5000       21   \n",
       "1       3.47    2.68              9.00         111     5000       21   \n",
       "2       2.68    3.47              9.00         154     5000       19   \n",
       "3       3.19    3.40             10.00         102     5500       24   \n",
       "4       3.19    3.40              8.00         115     5500       18   \n",
       "\n",
       "   highwaympg    price  \n",
       "0          27 13495.00  \n",
       "1          27 16500.00  \n",
       "2          26 16500.00  \n",
       "3          30 13950.00  \n",
       "4          22 17450.00  "
      ]
     },
     "execution_count": 2,
     "metadata": {},
     "output_type": "execute_result"
    }
   ],
   "source": [
    "car = pd.read_csv('CarPrice_Assignment.csv')\n",
    "print('Rows & Columns ::',car.shape)\n",
    "car.head()"
   ]
  },
  {
   "cell_type": "markdown",
   "metadata": {},
   "source": [
    "<a id='preprocessing'></a>"
   ]
  },
  {
   "cell_type": "markdown",
   "metadata": {},
   "source": [
    "## IV. Data Preprocessing"
   ]
  },
  {
   "cell_type": "code",
   "execution_count": 3,
   "metadata": {},
   "outputs": [
    {
     "data": {
      "text/plain": [
       "0"
      ]
     },
     "execution_count": 3,
     "metadata": {},
     "output_type": "execute_result"
    }
   ],
   "source": [
    "# check if there are any null values\n",
    "car.isnull().sum().sum()"
   ]
  },
  {
   "cell_type": "code",
   "execution_count": 4,
   "metadata": {},
   "outputs": [
    {
     "data": {
      "text/plain": [
       "Index(['symboling'], dtype='object')"
      ]
     },
     "execution_count": 4,
     "metadata": {},
     "output_type": "execute_result"
    }
   ],
   "source": [
    "# check if there are any negative values(in numeric columns)\n",
    "numeric_columns = car.select_dtypes(include=['number'])\n",
    "numeric_columns.columns[(numeric_columns < 0).any()]"
   ]
  },
  {
   "cell_type": "code",
   "execution_count": 5,
   "metadata": {
    "collapsed": true
   },
   "outputs": [],
   "source": [
    "# As per the problem statement variable name 'CarName'  comprised of two parts:\n",
    "# first word is the name of 'car company' and the second is the 'car model'.\n",
    "car['company'],car['model'] = car['CarName'].str.split(' ', 1).str"
   ]
  },
  {
   "cell_type": "code",
   "execution_count": 6,
   "metadata": {},
   "outputs": [
    {
     "data": {
      "text/html": [
       "<div>\n",
       "<style>\n",
       "    .dataframe thead tr:only-child th {\n",
       "        text-align: right;\n",
       "    }\n",
       "\n",
       "    .dataframe thead th {\n",
       "        text-align: left;\n",
       "    }\n",
       "\n",
       "    .dataframe tbody tr th {\n",
       "        vertical-align: top;\n",
       "    }\n",
       "</style>\n",
       "<table border=\"1\" class=\"dataframe\">\n",
       "  <thead>\n",
       "    <tr style=\"text-align: right;\">\n",
       "      <th></th>\n",
       "      <th>CarName</th>\n",
       "      <th>company</th>\n",
       "    </tr>\n",
       "  </thead>\n",
       "  <tbody>\n",
       "    <tr>\n",
       "      <th>122</th>\n",
       "      <td>plymouth fury gran sedan</td>\n",
       "      <td>plymouth</td>\n",
       "    </tr>\n",
       "    <tr>\n",
       "      <th>45</th>\n",
       "      <td>isuzu D-Max V-Cross</td>\n",
       "      <td>isuzu</td>\n",
       "    </tr>\n",
       "    <tr>\n",
       "      <th>67</th>\n",
       "      <td>buick electra 225 custom</td>\n",
       "      <td>buick</td>\n",
       "    </tr>\n",
       "    <tr>\n",
       "      <th>200</th>\n",
       "      <td>volvo 145e (sw)</td>\n",
       "      <td>volvo</td>\n",
       "    </tr>\n",
       "  </tbody>\n",
       "</table>\n",
       "</div>"
      ],
      "text/plain": [
       "                      CarName   company\n",
       "122  plymouth fury gran sedan  plymouth\n",
       "45        isuzu D-Max V-Cross     isuzu\n",
       "67   buick electra 225 custom     buick\n",
       "200           volvo 145e (sw)     volvo"
      ]
     },
     "execution_count": 6,
     "metadata": {},
     "output_type": "execute_result"
    }
   ],
   "source": [
    "car[['CarName','company']].sample(4)"
   ]
  },
  {
   "cell_type": "code",
   "execution_count": 7,
   "metadata": {
    "collapsed": true
   },
   "outputs": [],
   "source": [
    "# drop CarName column now\n",
    "car.drop(labels=['CarName','model'],axis=1, inplace=True)"
   ]
  },
  {
   "cell_type": "markdown",
   "metadata": {},
   "source": [
    "### data quality issues"
   ]
  },
  {
   "cell_type": "code",
   "execution_count": 8,
   "metadata": {},
   "outputs": [
    {
     "data": {
      "text/plain": [
       "array(['alfa-romero', 'audi', 'bmw', 'chevrolet', 'dodge', 'honda',\n",
       "       'isuzu', 'jaguar', 'maxda', 'mazda', 'buick', 'mercury',\n",
       "       'mitsubishi', 'Nissan', 'nissan', 'peugeot', 'plymouth', 'porsche',\n",
       "       'porcshce', 'renault', 'saab', 'subaru', 'toyota', 'toyouta',\n",
       "       'vokswagen', 'volkswagen', 'vw', 'volvo'], dtype=object)"
      ]
     },
     "execution_count": 8,
     "metadata": {},
     "output_type": "execute_result"
    }
   ],
   "source": [
    "# data cleaning in company column\n",
    "car.company.unique()\n",
    "# mazda is mis-spelled as maxda\n",
    "# toyota is mis-spelled as toyouta\n",
    "# porsche is mis-spelled as porcshce\n",
    "# volkswagen is mis-spelled as vokswagen\n",
    "# volkswagen in short form written as vw\n",
    "# Nissan & nissan considered as two differnt company"
   ]
  },
  {
   "cell_type": "code",
   "execution_count": 9,
   "metadata": {
    "collapsed": true
   },
   "outputs": [],
   "source": [
    "car['company'] = car['company'].str.lower()\n",
    "car['company'] = car.loc[:, 'company'].replace(['maxda', 'toyouta', 'porcshce','vokswagen','vw'], \\\n",
    "                              ['mazda', 'toyota', 'porsche','volkswagen','volkswagen'])"
   ]
  },
  {
   "cell_type": "code",
   "execution_count": 10,
   "metadata": {},
   "outputs": [
    {
     "data": {
      "text/plain": [
       "array(['alfa-romero', 'audi', 'bmw', 'chevrolet', 'dodge', 'honda',\n",
       "       'isuzu', 'jaguar', 'mazda', 'buick', 'mercury', 'mitsubishi',\n",
       "       'nissan', 'peugeot', 'plymouth', 'porsche', 'renault', 'saab',\n",
       "       'subaru', 'toyota', 'volkswagen', 'volvo'], dtype=object)"
      ]
     },
     "execution_count": 10,
     "metadata": {},
     "output_type": "execute_result"
    }
   ],
   "source": [
    "car.company.unique()"
   ]
  },
  {
   "cell_type": "markdown",
   "metadata": {},
   "source": [
    "<a id='eda'></a>"
   ]
  },
  {
   "cell_type": "markdown",
   "metadata": {},
   "source": [
    "## V. Exploratory Data Analysis"
   ]
  },
  {
   "cell_type": "markdown",
   "metadata": {},
   "source": [
    "### Univariate Analysis"
   ]
  },
  {
   "cell_type": "markdown",
   "metadata": {},
   "source": [
    "##### Car price Distribution"
   ]
  },
  {
   "cell_type": "code",
   "execution_count": 11,
   "metadata": {},
   "outputs": [
    {
     "data": {
      "image/png": "[encoded data removed]",
      "text/plain": [
       "<matplotlib.figure.Figure at 0x18dffce9ac8>"
      ]
     },
     "metadata": {},
     "output_type": "display_data"
    }
   ],
   "source": [
    "fig, ax=plt.subplots(nrows =1,ncols=3,figsize=(20,8))\n",
    "sns.set(style=\"darkgrid\")\n",
    "ax[0].set_title(\"Distribution Plot\")\n",
    "sns.distplot(car['price'],ax=ax[0])\n",
    "ax[1].set_title(\"Violin Plot\")\n",
    "sns.violinplot(car['price'],ax=ax[1], inner=\"quartile\")\n",
    "ax[2].set_title(\"Box Plot\")\n",
    "sns.boxplot(car['price'],ax=ax[2])\n",
    "plt.show()"
   ]
  },
  {
   "cell_type": "markdown",
   "metadata": {},
   "source": [
    "<font color='blue'><b>Insights</b>: Most of the car prices are distributed between 5000 to 15000 USD.</font> "
   ]
  },
  {
   "cell_type": "markdown",
   "metadata": {},
   "source": [
    "##### Pie Chart of different categorical variables."
   ]
  },
  {
   "cell_type": "code",
   "execution_count": 12,
   "metadata": {},
   "outputs": [
    {
     "data": {
      "image/png": "[encoded data removed]",
      "text/plain": [
       "<matplotlib.figure.Figure at 0x18d80095470>"
      ]
     },
     "metadata": {},
     "output_type": "display_data"
    }
   ],
   "source": [
    "fig, ax = plt.subplots(nrows=1, ncols=3,figsize=(21,7))\n",
    "car['cylindernumber'].value_counts().plot.pie(autopct='%.2f',ax=ax[0])\n",
    "ax[0].set_title(\"No of Cylinders\")\n",
    "car['fueltype'].value_counts().plot.pie(autopct='%.2f',ax=ax[1])\n",
    "ax[1].set_title(\"Fuel type\")\n",
    "car['enginetype'].value_counts().plot.pie(autopct='%.2f',ax=ax[2])\n",
    "ax[2].set_title(\"Engine type\")\n",
    "plt.show()"
   ]
  },
  {
   "cell_type": "markdown",
   "metadata": {},
   "source": [
    "<font color='blue'><b>Insights::</b></font> \n",
    "1. __77%__ of the cars have __four__ cylinders.\n",
    "2. __90%__ of the cars have __gas__ as a fuel type.\n",
    "3. __72%__ of the cars have __ohc__ engine type."
   ]
  },
  {
   "cell_type": "markdown",
   "metadata": {},
   "source": [
    "##### Heatmap :: Correlation between continuos variables."
   ]
  },
  {
   "cell_type": "code",
   "execution_count": 13,
   "metadata": {},
   "outputs": [
    {
     "data": {
      "image/png": "[encoded data removed]",
      "text/plain": [
       "<matplotlib.figure.Figure at 0x18d803a5240>"
      ]
     },
     "metadata": {},
     "output_type": "display_data"
    }
   ],
   "source": [
    "corr = car.corr()\n",
    "plt.figure(figsize=(17,9))\n",
    "ax = sns.heatmap(corr, annot=True)\n",
    "rotx = ax.set_xticklabels(ax.get_xticklabels(), rotation=90)\n",
    "roty = ax.set_yticklabels(ax.get_yticklabels(), rotation=30)"
   ]
  },
  {
   "cell_type": "markdown",
   "metadata": {},
   "source": [
    "#### Insights:\n",
    "1. Price is more correlated with engine size and curb weight of the car\n",
    "2. Curb weight is mostly correlated with car length & car width.\n",
    "3. Wheel base is highly correlated with car length & car width."
   ]
  },
  {
   "cell_type": "code",
   "execution_count": 14,
   "metadata": {
    "collapsed": true
   },
   "outputs": [],
   "source": [
    "#car.select_dtypes(exclude=['number']).head()\n",
    "# Alternatively we can use the below statement as well to get the categorical columns\n",
    "#car.select_dtypes(include=['object']).head()"
   ]
  },
  {
   "cell_type": "code",
   "execution_count": 15,
   "metadata": {
    "collapsed": true
   },
   "outputs": [],
   "source": [
    "#derived metrics\n"
   ]
  },
  {
   "cell_type": "code",
   "execution_count": 16,
   "metadata": {},
   "outputs": [
    {
     "data": {
      "text/html": [
       "<div>\n",
       "<style>\n",
       "    .dataframe thead tr:only-child th {\n",
       "        text-align: right;\n",
       "    }\n",
       "\n",
       "    .dataframe thead th {\n",
       "        text-align: left;\n",
       "    }\n",
       "\n",
       "    .dataframe tbody tr th {\n",
       "        vertical-align: top;\n",
       "    }\n",
       "</style>\n",
       "<table border=\"1\" class=\"dataframe\">\n",
       "  <thead>\n",
       "    <tr style=\"text-align: right;\">\n",
       "      <th></th>\n",
       "      <th>car_ID</th>\n",
       "      <th>symboling</th>\n",
       "      <th>fueltype</th>\n",
       "      <th>aspiration</th>\n",
       "      <th>doornumber</th>\n",
       "      <th>carbody</th>\n",
       "      <th>drivewheel</th>\n",
       "      <th>enginelocation</th>\n",
       "      <th>wheelbase</th>\n",
       "      <th>carlength</th>\n",
       "      <th>carwidth</th>\n",
       "      <th>carheight</th>\n",
       "      <th>curbweight</th>\n",
       "      <th>enginetype</th>\n",
       "      <th>cylindernumber</th>\n",
       "      <th>enginesize</th>\n",
       "      <th>fuelsystem</th>\n",
       "      <th>boreratio</th>\n",
       "      <th>stroke</th>\n",
       "      <th>compressionratio</th>\n",
       "      <th>horsepower</th>\n",
       "      <th>peakrpm</th>\n",
       "      <th>citympg</th>\n",
       "      <th>highwaympg</th>\n",
       "      <th>price</th>\n",
       "      <th>company</th>\n",
       "    </tr>\n",
       "  </thead>\n",
       "  <tbody>\n",
       "    <tr>\n",
       "      <th>48</th>\n",
       "      <td>49</td>\n",
       "      <td>0</td>\n",
       "      <td>gas</td>\n",
       "      <td>std</td>\n",
       "      <td>four</td>\n",
       "      <td>sedan</td>\n",
       "      <td>rwd</td>\n",
       "      <td>front</td>\n",
       "      <td>113.00</td>\n",
       "      <td>199.60</td>\n",
       "      <td>69.60</td>\n",
       "      <td>52.80</td>\n",
       "      <td>4066</td>\n",
       "      <td>dohc</td>\n",
       "      <td>six</td>\n",
       "      <td>258</td>\n",
       "      <td>mpfi</td>\n",
       "      <td>3.63</td>\n",
       "      <td>4.17</td>\n",
       "      <td>8.10</td>\n",
       "      <td>176</td>\n",
       "      <td>4750</td>\n",
       "      <td>15</td>\n",
       "      <td>19</td>\n",
       "      <td>35550.00</td>\n",
       "      <td>jaguar</td>\n",
       "    </tr>\n",
       "    <tr>\n",
       "      <th>64</th>\n",
       "      <td>65</td>\n",
       "      <td>0</td>\n",
       "      <td>gas</td>\n",
       "      <td>std</td>\n",
       "      <td>four</td>\n",
       "      <td>hatchback</td>\n",
       "      <td>fwd</td>\n",
       "      <td>front</td>\n",
       "      <td>98.80</td>\n",
       "      <td>177.80</td>\n",
       "      <td>66.50</td>\n",
       "      <td>55.50</td>\n",
       "      <td>2425</td>\n",
       "      <td>ohc</td>\n",
       "      <td>four</td>\n",
       "      <td>122</td>\n",
       "      <td>2bbl</td>\n",
       "      <td>3.39</td>\n",
       "      <td>3.39</td>\n",
       "      <td>8.60</td>\n",
       "      <td>84</td>\n",
       "      <td>4800</td>\n",
       "      <td>26</td>\n",
       "      <td>32</td>\n",
       "      <td>11245.00</td>\n",
       "      <td>mazda</td>\n",
       "    </tr>\n",
       "    <tr>\n",
       "      <th>38</th>\n",
       "      <td>39</td>\n",
       "      <td>0</td>\n",
       "      <td>gas</td>\n",
       "      <td>std</td>\n",
       "      <td>two</td>\n",
       "      <td>hatchback</td>\n",
       "      <td>fwd</td>\n",
       "      <td>front</td>\n",
       "      <td>96.50</td>\n",
       "      <td>167.50</td>\n",
       "      <td>65.20</td>\n",
       "      <td>53.30</td>\n",
       "      <td>2289</td>\n",
       "      <td>ohc</td>\n",
       "      <td>four</td>\n",
       "      <td>110</td>\n",
       "      <td>1bbl</td>\n",
       "      <td>3.15</td>\n",
       "      <td>3.58</td>\n",
       "      <td>9.00</td>\n",
       "      <td>86</td>\n",
       "      <td>5800</td>\n",
       "      <td>27</td>\n",
       "      <td>33</td>\n",
       "      <td>9095.00</td>\n",
       "      <td>honda</td>\n",
       "    </tr>\n",
       "    <tr>\n",
       "      <th>124</th>\n",
       "      <td>125</td>\n",
       "      <td>3</td>\n",
       "      <td>gas</td>\n",
       "      <td>turbo</td>\n",
       "      <td>two</td>\n",
       "      <td>hatchback</td>\n",
       "      <td>rwd</td>\n",
       "      <td>front</td>\n",
       "      <td>95.90</td>\n",
       "      <td>173.20</td>\n",
       "      <td>66.30</td>\n",
       "      <td>50.20</td>\n",
       "      <td>2818</td>\n",
       "      <td>ohc</td>\n",
       "      <td>four</td>\n",
       "      <td>156</td>\n",
       "      <td>spdi</td>\n",
       "      <td>3.59</td>\n",
       "      <td>3.86</td>\n",
       "      <td>7.00</td>\n",
       "      <td>145</td>\n",
       "      <td>5000</td>\n",
       "      <td>19</td>\n",
       "      <td>24</td>\n",
       "      <td>12764.00</td>\n",
       "      <td>plymouth</td>\n",
       "    </tr>\n",
       "    <tr>\n",
       "      <th>198</th>\n",
       "      <td>199</td>\n",
       "      <td>-2</td>\n",
       "      <td>gas</td>\n",
       "      <td>turbo</td>\n",
       "      <td>four</td>\n",
       "      <td>sedan</td>\n",
       "      <td>rwd</td>\n",
       "      <td>front</td>\n",
       "      <td>104.30</td>\n",
       "      <td>188.80</td>\n",
       "      <td>67.20</td>\n",
       "      <td>56.20</td>\n",
       "      <td>3045</td>\n",
       "      <td>ohc</td>\n",
       "      <td>four</td>\n",
       "      <td>130</td>\n",
       "      <td>mpfi</td>\n",
       "      <td>3.62</td>\n",
       "      <td>3.15</td>\n",
       "      <td>7.50</td>\n",
       "      <td>162</td>\n",
       "      <td>5100</td>\n",
       "      <td>17</td>\n",
       "      <td>22</td>\n",
       "      <td>18420.00</td>\n",
       "      <td>volvo</td>\n",
       "    </tr>\n",
       "  </tbody>\n",
       "</table>\n",
       "</div>"
      ],
      "text/plain": [
       "     car_ID  symboling fueltype aspiration doornumber    carbody drivewheel  \\\n",
       "48       49          0      gas        std       four      sedan        rwd   \n",
       "64       65          0      gas        std       four  hatchback        fwd   \n",
       "38       39          0      gas        std        two  hatchback        fwd   \n",
       "124     125          3      gas      turbo        two  hatchback        rwd   \n",
       "198     199         -2      gas      turbo       four      sedan        rwd   \n",
       "\n",
       "    enginelocation  wheelbase  carlength  carwidth  carheight  curbweight  \\\n",
       "48           front     113.00     199.60     69.60      52.80        4066   \n",
       "64           front      98.80     177.80     66.50      55.50        2425   \n",
       "38           front      96.50     167.50     65.20      53.30        2289   \n",
       "124          front      95.90     173.20     66.30      50.20        2818   \n",
       "198          front     104.30     188.80     67.20      56.20        3045   \n",
       "\n",
       "    enginetype cylindernumber  enginesize fuelsystem  boreratio  stroke  \\\n",
       "48        dohc            six         258       mpfi       3.63    4.17   \n",
       "64         ohc           four         122       2bbl       3.39    3.39   \n",
       "38         ohc           four         110       1bbl       3.15    3.58   \n",
       "124        ohc           four         156       spdi       3.59    3.86   \n",
       "198        ohc           four         130       mpfi       3.62    3.15   \n",
       "\n",
       "     compressionratio  horsepower  peakrpm  citympg  highwaympg    price  \\\n",
       "48               8.10         176     4750       15          19 35550.00   \n",
       "64               8.60          84     4800       26          32 11245.00   \n",
       "38               9.00          86     5800       27          33  9095.00   \n",
       "124              7.00         145     5000       19          24 12764.00   \n",
       "198              7.50         162     5100       17          22 18420.00   \n",
       "\n",
       "      company  \n",
       "48     jaguar  \n",
       "64      mazda  \n",
       "38      honda  \n",
       "124  plymouth  \n",
       "198     volvo  "
      ]
     },
     "execution_count": 16,
     "metadata": {},
     "output_type": "execute_result"
    }
   ],
   "source": [
    "car.sample(5)"
   ]
  },
  {
   "cell_type": "code",
   "execution_count": 17,
   "metadata": {},
   "outputs": [
    {
     "data": {
      "image/png": "[encoded data removed]",
      "text/plain": [
       "<matplotlib.figure.Figure at 0x18d80b22438>"
      ]
     },
     "metadata": {},
     "output_type": "display_data"
    }
   ],
   "source": [
    "fig, ax=plt.subplots(nrows =1,ncols=2,figsize=(20,7))\n",
    "ax[0].set_title('Engine Size vs Price',fontsize=16,weight=\"bold\")\n",
    "sns.regplot(x='enginesize',y='price', data =car,ax=ax[0])\n",
    "ax[1].set_title(\"Curb Weight vs Price\",fontsize=16,weight=\"bold\")\n",
    "sns.regplot(x='curbweight',y='price', data =car,ax=ax[1])\n",
    "plt.show()"
   ]
  },
  {
   "cell_type": "markdown",
   "metadata": {},
   "source": [
    "### Bivariate/Multivariate Analysis"
   ]
  },
  {
   "cell_type": "code",
   "execution_count": 18,
   "metadata": {},
   "outputs": [
    {
     "data": {
      "text/plain": [
       "Index(['car_ID', 'symboling', 'fueltype', 'aspiration', 'doornumber',\n",
       "       'carbody', 'drivewheel', 'enginelocation', 'wheelbase', 'carlength',\n",
       "       'carwidth', 'carheight', 'curbweight', 'enginetype', 'cylindernumber',\n",
       "       'enginesize', 'fuelsystem', 'boreratio', 'stroke', 'compressionratio',\n",
       "       'horsepower', 'peakrpm', 'citympg', 'highwaympg', 'price', 'company'],\n",
       "      dtype='object')"
      ]
     },
     "execution_count": 18,
     "metadata": {},
     "output_type": "execute_result"
    }
   ],
   "source": [
    "car.columns"
   ]
  },
  {
   "cell_type": "code",
   "execution_count": null,
   "metadata": {},
   "outputs": [],
   "source": []
  },
  {
   "cell_type": "code",
   "execution_count": 19,
   "metadata": {},
   "outputs": [
    {
     "data": {
      "image/png": "[encoded data removed]",
      "text/plain": [
       "<matplotlib.figure.Figure at 0x18dffcea2b0>"
      ]
     },
     "metadata": {},
     "output_type": "display_data"
    }
   ],
   "source": [
    "# Price distribution of the cars company-wise\n",
    "plt.figure(figsize=(18,9))\n",
    "ax = sns.boxplot(x='company',y='price',data=car)\n",
    "ax.set_title('Company vs Price distribution',fontsize=18,weight=\"bold\")\n",
    "rotx = ax.set_xticklabels(ax.get_xticklabels(), rotation=45)"
   ]
  },
  {
   "cell_type": "code",
   "execution_count": 20,
   "metadata": {},
   "outputs": [
    {
     "data": {
      "image/png": "[encoded data removed]",
      "text/plain": [
       "<matplotlib.figure.Figure at 0x18d813680b8>"
      ]
     },
     "metadata": {},
     "output_type": "display_data"
    }
   ],
   "source": [
    "plt.figure(figsize=(20,8))\n",
    "sns.countplot(data = car, x = 'company',hue='carbody')\n",
    "plt.title('Company wise count for each type of carbody',fontsize=18,weight=\"bold\")\n",
    "plt.show()"
   ]
  },
  {
   "cell_type": "markdown",
   "metadata": {},
   "source": [
    "##### Company/Engine Size vs ['price','carwidth','horsepower','citympg', 'highwaympg']"
   ]
  },
  {
   "cell_type": "code",
   "execution_count": 21,
   "metadata": {},
   "outputs": [
    {
     "data": {
      "text/html": [
       "<div>\n",
       "<style>\n",
       "    .dataframe thead tr:only-child th {\n",
       "        text-align: right;\n",
       "    }\n",
       "\n",
       "    .dataframe thead th {\n",
       "        text-align: left;\n",
       "    }\n",
       "\n",
       "    .dataframe tbody tr th {\n",
       "        vertical-align: top;\n",
       "    }\n",
       "</style>\n",
       "<table border=\"1\" class=\"dataframe\">\n",
       "  <thead>\n",
       "    <tr>\n",
       "      <th>company</th>\n",
       "      <th colspan=\"2\" halign=\"left\">alfa-romero</th>\n",
       "      <th colspan=\"3\" halign=\"left\">audi</th>\n",
       "      <th colspan=\"3\" halign=\"left\">bmw</th>\n",
       "      <th colspan=\"4\" halign=\"left\">buick</th>\n",
       "      <th colspan=\"2\" halign=\"left\">chevrolet</th>\n",
       "      <th colspan=\"4\" halign=\"left\">dodge</th>\n",
       "      <th colspan=\"3\" halign=\"left\">honda</th>\n",
       "      <th colspan=\"3\" halign=\"left\">isuzu</th>\n",
       "      <th colspan=\"2\" halign=\"left\">jaguar</th>\n",
       "      <th colspan=\"6\" halign=\"left\">mazda</th>\n",
       "      <th>mercury</th>\n",
       "      <th colspan=\"5\" halign=\"left\">mitsubishi</th>\n",
       "      <th colspan=\"4\" halign=\"left\">nissan</th>\n",
       "      <th colspan=\"3\" halign=\"left\">peugeot</th>\n",
       "      <th colspan=\"4\" halign=\"left\">plymouth</th>\n",
       "      <th colspan=\"3\" halign=\"left\">porsche</th>\n",
       "      <th>renault</th>\n",
       "      <th>saab</th>\n",
       "      <th colspan=\"2\" halign=\"left\">subaru</th>\n",
       "      <th colspan=\"7\" halign=\"left\">toyota</th>\n",
       "      <th colspan=\"3\" halign=\"left\">volkswagen</th>\n",
       "      <th colspan=\"4\" halign=\"left\">volvo</th>\n",
       "    </tr>\n",
       "    <tr>\n",
       "      <th>enginesize</th>\n",
       "      <th>130</th>\n",
       "      <th>152</th>\n",
       "      <th>109</th>\n",
       "      <th>131</th>\n",
       "      <th>136</th>\n",
       "      <th>108</th>\n",
       "      <th>164</th>\n",
       "      <th>209</th>\n",
       "      <th>183</th>\n",
       "      <th>234</th>\n",
       "      <th>304</th>\n",
       "      <th>308</th>\n",
       "      <th>61</th>\n",
       "      <th>90</th>\n",
       "      <th>90</th>\n",
       "      <th>98</th>\n",
       "      <th>122</th>\n",
       "      <th>156</th>\n",
       "      <th>79</th>\n",
       "      <th>92</th>\n",
       "      <th>110</th>\n",
       "      <th>90</th>\n",
       "      <th>111</th>\n",
       "      <th>119</th>\n",
       "      <th>258</th>\n",
       "      <th>326</th>\n",
       "      <th>70</th>\n",
       "      <th>80</th>\n",
       "      <th>91</th>\n",
       "      <th>122</th>\n",
       "      <th>134</th>\n",
       "      <th>140</th>\n",
       "      <th>140</th>\n",
       "      <th>92</th>\n",
       "      <th>98</th>\n",
       "      <th>110</th>\n",
       "      <th>122</th>\n",
       "      <th>156</th>\n",
       "      <th>97</th>\n",
       "      <th>103</th>\n",
       "      <th>120</th>\n",
       "      <th>181</th>\n",
       "      <th>120</th>\n",
       "      <th>134</th>\n",
       "      <th>152</th>\n",
       "      <th>90</th>\n",
       "      <th>98</th>\n",
       "      <th>122</th>\n",
       "      <th>156</th>\n",
       "      <th>151</th>\n",
       "      <th>194</th>\n",
       "      <th>203</th>\n",
       "      <th>132</th>\n",
       "      <th>121</th>\n",
       "      <th>97</th>\n",
       "      <th>108</th>\n",
       "      <th>92</th>\n",
       "      <th>98</th>\n",
       "      <th>110</th>\n",
       "      <th>122</th>\n",
       "      <th>146</th>\n",
       "      <th>161</th>\n",
       "      <th>171</th>\n",
       "      <th>97</th>\n",
       "      <th>109</th>\n",
       "      <th>136</th>\n",
       "      <th>130</th>\n",
       "      <th>141</th>\n",
       "      <th>145</th>\n",
       "      <th>173</th>\n",
       "    </tr>\n",
       "  </thead>\n",
       "  <tbody>\n",
       "    <tr>\n",
       "      <th>price</th>\n",
       "      <td>14997.50</td>\n",
       "      <td>16500.00</td>\n",
       "      <td>13950.00</td>\n",
       "      <td>20867.08</td>\n",
       "      <td>17332.50</td>\n",
       "      <td>16677.50</td>\n",
       "      <td>22213.33</td>\n",
       "      <td>36318.33</td>\n",
       "      <td>28394.00</td>\n",
       "      <td>34620.00</td>\n",
       "      <td>45400.00</td>\n",
       "      <td>40960.00</td>\n",
       "      <td>5151.00</td>\n",
       "      <td>6435.00</td>\n",
       "      <td>6495.80</td>\n",
       "      <td>8257.50</td>\n",
       "      <td>8921.00</td>\n",
       "      <td>12964.00</td>\n",
       "      <td>5399.00</td>\n",
       "      <td>6930.33</td>\n",
       "      <td>9903.33</td>\n",
       "      <td>8916.50</td>\n",
       "      <td>6785.00</td>\n",
       "      <td>11048.00</td>\n",
       "      <td>33900.00</td>\n",
       "      <td>36000.00</td>\n",
       "      <td>12145.00</td>\n",
       "      <td>15645.00</td>\n",
       "      <td>6435.00</td>\n",
       "      <td>10036.67</td>\n",
       "      <td>18344.00</td>\n",
       "      <td>18280.00</td>\n",
       "      <td>16503.00</td>\n",
       "      <td>6082.33</td>\n",
       "      <td>7689.00</td>\n",
       "      <td>9505.67</td>\n",
       "      <td>7892.33</td>\n",
       "      <td>13995.67</td>\n",
       "      <td>7243.44</td>\n",
       "      <td>7099.00</td>\n",
       "      <td>9249.00</td>\n",
       "      <td>16115.67</td>\n",
       "      <td>14649.00</td>\n",
       "      <td>18150.00</td>\n",
       "      <td>15797.00</td>\n",
       "      <td>6164.33</td>\n",
       "      <td>7783.00</td>\n",
       "      <td>8921.00</td>\n",
       "      <td>12764.00</td>\n",
       "      <td>22018.00</td>\n",
       "      <td>34528.00</td>\n",
       "      <td>31400.50</td>\n",
       "      <td>9595.00</td>\n",
       "      <td>15223.33</td>\n",
       "      <td>5118.00</td>\n",
       "      <td>8852.45</td>\n",
       "      <td>6961.33</td>\n",
       "      <td>8291.33</td>\n",
       "      <td>8794.67</td>\n",
       "      <td>10270.50</td>\n",
       "      <td>11415.67</td>\n",
       "      <td>15750.00</td>\n",
       "      <td>16082.00</td>\n",
       "      <td>9777.50</td>\n",
       "      <td>9789.29</td>\n",
       "      <td>13295.00</td>\n",
       "      <td>18685.00</td>\n",
       "      <td>16767.14</td>\n",
       "      <td>22470.00</td>\n",
       "      <td>21485.00</td>\n",
       "    </tr>\n",
       "    <tr>\n",
       "      <th>carwidth</th>\n",
       "      <td>64.10</td>\n",
       "      <td>65.50</td>\n",
       "      <td>66.20</td>\n",
       "      <td>69.65</td>\n",
       "      <td>68.88</td>\n",
       "      <td>64.80</td>\n",
       "      <td>65.50</td>\n",
       "      <td>68.57</td>\n",
       "      <td>70.65</td>\n",
       "      <td>71.10</td>\n",
       "      <td>72.00</td>\n",
       "      <td>71.70</td>\n",
       "      <td>60.30</td>\n",
       "      <td>63.60</td>\n",
       "      <td>63.80</td>\n",
       "      <td>63.80</td>\n",
       "      <td>64.60</td>\n",
       "      <td>66.30</td>\n",
       "      <td>64.00</td>\n",
       "      <td>63.95</td>\n",
       "      <td>64.88</td>\n",
       "      <td>63.60</td>\n",
       "      <td>61.80</td>\n",
       "      <td>65.20</td>\n",
       "      <td>69.60</td>\n",
       "      <td>70.60</td>\n",
       "      <td>65.70</td>\n",
       "      <td>65.70</td>\n",
       "      <td>64.20</td>\n",
       "      <td>66.50</td>\n",
       "      <td>66.10</td>\n",
       "      <td>66.10</td>\n",
       "      <td>68.00</td>\n",
       "      <td>64.40</td>\n",
       "      <td>63.80</td>\n",
       "      <td>65.40</td>\n",
       "      <td>65.40</td>\n",
       "      <td>66.30</td>\n",
       "      <td>63.80</td>\n",
       "      <td>63.80</td>\n",
       "      <td>65.20</td>\n",
       "      <td>67.20</td>\n",
       "      <td>68.40</td>\n",
       "      <td>68.30</td>\n",
       "      <td>68.40</td>\n",
       "      <td>63.80</td>\n",
       "      <td>63.80</td>\n",
       "      <td>64.60</td>\n",
       "      <td>66.30</td>\n",
       "      <td>68.30</td>\n",
       "      <td>65.00</td>\n",
       "      <td>72.30</td>\n",
       "      <td>66.55</td>\n",
       "      <td>66.50</td>\n",
       "      <td>63.40</td>\n",
       "      <td>65.09</td>\n",
       "      <td>63.60</td>\n",
       "      <td>64.22</td>\n",
       "      <td>65.10</td>\n",
       "      <td>66.50</td>\n",
       "      <td>65.60</td>\n",
       "      <td>66.50</td>\n",
       "      <td>67.30</td>\n",
       "      <td>65.85</td>\n",
       "      <td>65.30</td>\n",
       "      <td>66.90</td>\n",
       "      <td>67.20</td>\n",
       "      <td>67.91</td>\n",
       "      <td>68.90</td>\n",
       "      <td>68.90</td>\n",
       "    </tr>\n",
       "    <tr>\n",
       "      <th>horsepower</th>\n",
       "      <td>111.00</td>\n",
       "      <td>154.00</td>\n",
       "      <td>102.00</td>\n",
       "      <td>150.00</td>\n",
       "      <td>111.25</td>\n",
       "      <td>101.00</td>\n",
       "      <td>121.00</td>\n",
       "      <td>182.00</td>\n",
       "      <td>123.00</td>\n",
       "      <td>155.00</td>\n",
       "      <td>184.00</td>\n",
       "      <td>184.00</td>\n",
       "      <td>48.00</td>\n",
       "      <td>70.00</td>\n",
       "      <td>68.00</td>\n",
       "      <td>102.00</td>\n",
       "      <td>88.00</td>\n",
       "      <td>145.00</td>\n",
       "      <td>60.00</td>\n",
       "      <td>73.00</td>\n",
       "      <td>90.83</td>\n",
       "      <td>70.00</td>\n",
       "      <td>78.00</td>\n",
       "      <td>90.00</td>\n",
       "      <td>176.00</td>\n",
       "      <td>262.00</td>\n",
       "      <td>101.00</td>\n",
       "      <td>135.00</td>\n",
       "      <td>68.00</td>\n",
       "      <td>80.67</td>\n",
       "      <td>72.00</td>\n",
       "      <td>120.00</td>\n",
       "      <td>175.00</td>\n",
       "      <td>68.00</td>\n",
       "      <td>102.00</td>\n",
       "      <td>116.00</td>\n",
       "      <td>88.00</td>\n",
       "      <td>145.00</td>\n",
       "      <td>69.00</td>\n",
       "      <td>55.00</td>\n",
       "      <td>97.00</td>\n",
       "      <td>162.67</td>\n",
       "      <td>96.20</td>\n",
       "      <td>142.00</td>\n",
       "      <td>95.00</td>\n",
       "      <td>68.00</td>\n",
       "      <td>85.00</td>\n",
       "      <td>88.00</td>\n",
       "      <td>145.00</td>\n",
       "      <td>143.00</td>\n",
       "      <td>207.00</td>\n",
       "      <td>288.00</td>\n",
       "      <td>90.00</td>\n",
       "      <td>126.67</td>\n",
       "      <td>69.00</td>\n",
       "      <td>87.82</td>\n",
       "      <td>62.00</td>\n",
       "      <td>79.33</td>\n",
       "      <td>61.67</td>\n",
       "      <td>92.00</td>\n",
       "      <td>116.00</td>\n",
       "      <td>156.00</td>\n",
       "      <td>159.33</td>\n",
       "      <td>60.00</td>\n",
       "      <td>89.00</td>\n",
       "      <td>110.00</td>\n",
       "      <td>162.00</td>\n",
       "      <td>120.57</td>\n",
       "      <td>106.00</td>\n",
       "      <td>134.00</td>\n",
       "    </tr>\n",
       "    <tr>\n",
       "      <th>citympg</th>\n",
       "      <td>21.00</td>\n",
       "      <td>19.00</td>\n",
       "      <td>24.00</td>\n",
       "      <td>16.50</td>\n",
       "      <td>18.75</td>\n",
       "      <td>23.00</td>\n",
       "      <td>20.67</td>\n",
       "      <td>15.67</td>\n",
       "      <td>22.00</td>\n",
       "      <td>16.00</td>\n",
       "      <td>14.00</td>\n",
       "      <td>14.00</td>\n",
       "      <td>47.00</td>\n",
       "      <td>38.00</td>\n",
       "      <td>32.20</td>\n",
       "      <td>24.00</td>\n",
       "      <td>24.00</td>\n",
       "      <td>19.00</td>\n",
       "      <td>38.00</td>\n",
       "      <td>33.33</td>\n",
       "      <td>26.17</td>\n",
       "      <td>38.00</td>\n",
       "      <td>24.00</td>\n",
       "      <td>24.00</td>\n",
       "      <td>15.00</td>\n",
       "      <td>13.00</td>\n",
       "      <td>17.00</td>\n",
       "      <td>16.00</td>\n",
       "      <td>30.80</td>\n",
       "      <td>27.67</td>\n",
       "      <td>31.00</td>\n",
       "      <td>19.00</td>\n",
       "      <td>19.00</td>\n",
       "      <td>33.00</td>\n",
       "      <td>24.00</td>\n",
       "      <td>23.00</td>\n",
       "      <td>25.00</td>\n",
       "      <td>19.00</td>\n",
       "      <td>31.00</td>\n",
       "      <td>45.00</td>\n",
       "      <td>27.00</td>\n",
       "      <td>18.00</td>\n",
       "      <td>19.00</td>\n",
       "      <td>18.00</td>\n",
       "      <td>26.80</td>\n",
       "      <td>33.00</td>\n",
       "      <td>27.50</td>\n",
       "      <td>24.00</td>\n",
       "      <td>19.00</td>\n",
       "      <td>19.00</td>\n",
       "      <td>17.00</td>\n",
       "      <td>17.00</td>\n",
       "      <td>23.00</td>\n",
       "      <td>20.33</td>\n",
       "      <td>31.00</td>\n",
       "      <td>25.91</td>\n",
       "      <td>30.33</td>\n",
       "      <td>29.33</td>\n",
       "      <td>34.00</td>\n",
       "      <td>27.50</td>\n",
       "      <td>24.00</td>\n",
       "      <td>19.00</td>\n",
       "      <td>19.67</td>\n",
       "      <td>36.00</td>\n",
       "      <td>25.71</td>\n",
       "      <td>19.00</td>\n",
       "      <td>17.00</td>\n",
       "      <td>22.14</td>\n",
       "      <td>26.00</td>\n",
       "      <td>18.00</td>\n",
       "    </tr>\n",
       "    <tr>\n",
       "      <th>highwaympg</th>\n",
       "      <td>27.00</td>\n",
       "      <td>26.00</td>\n",
       "      <td>30.00</td>\n",
       "      <td>21.00</td>\n",
       "      <td>24.25</td>\n",
       "      <td>29.00</td>\n",
       "      <td>27.00</td>\n",
       "      <td>21.33</td>\n",
       "      <td>25.00</td>\n",
       "      <td>18.00</td>\n",
       "      <td>16.00</td>\n",
       "      <td>16.00</td>\n",
       "      <td>53.00</td>\n",
       "      <td>43.00</td>\n",
       "      <td>38.60</td>\n",
       "      <td>30.00</td>\n",
       "      <td>30.00</td>\n",
       "      <td>24.00</td>\n",
       "      <td>42.00</td>\n",
       "      <td>38.00</td>\n",
       "      <td>31.83</td>\n",
       "      <td>43.00</td>\n",
       "      <td>29.00</td>\n",
       "      <td>29.00</td>\n",
       "      <td>19.00</td>\n",
       "      <td>17.00</td>\n",
       "      <td>23.00</td>\n",
       "      <td>23.00</td>\n",
       "      <td>36.60</td>\n",
       "      <td>33.67</td>\n",
       "      <td>39.00</td>\n",
       "      <td>27.00</td>\n",
       "      <td>24.00</td>\n",
       "      <td>39.00</td>\n",
       "      <td>30.00</td>\n",
       "      <td>30.00</td>\n",
       "      <td>32.00</td>\n",
       "      <td>24.00</td>\n",
       "      <td>37.00</td>\n",
       "      <td>50.00</td>\n",
       "      <td>34.00</td>\n",
       "      <td>23.67</td>\n",
       "      <td>24.00</td>\n",
       "      <td>24.00</td>\n",
       "      <td>29.80</td>\n",
       "      <td>39.00</td>\n",
       "      <td>34.00</td>\n",
       "      <td>30.00</td>\n",
       "      <td>24.00</td>\n",
       "      <td>27.00</td>\n",
       "      <td>25.00</td>\n",
       "      <td>28.00</td>\n",
       "      <td>31.00</td>\n",
       "      <td>27.33</td>\n",
       "      <td>36.00</td>\n",
       "      <td>30.27</td>\n",
       "      <td>36.00</td>\n",
       "      <td>35.00</td>\n",
       "      <td>38.67</td>\n",
       "      <td>32.50</td>\n",
       "      <td>30.00</td>\n",
       "      <td>24.00</td>\n",
       "      <td>24.00</td>\n",
       "      <td>43.00</td>\n",
       "      <td>31.86</td>\n",
       "      <td>24.00</td>\n",
       "      <td>22.00</td>\n",
       "      <td>27.14</td>\n",
       "      <td>27.00</td>\n",
       "      <td>23.00</td>\n",
       "    </tr>\n",
       "  </tbody>\n",
       "</table>\n",
       "</div>"
      ],
      "text/plain": [
       "company    alfa-romero              audi                        bmw           \\\n",
       "enginesize         130      152      109      131      136      108      164   \n",
       "price         14997.50 16500.00 13950.00 20867.08 17332.50 16677.50 22213.33   \n",
       "carwidth         64.10    65.50    66.20    69.65    68.88    64.80    65.50   \n",
       "horsepower      111.00   154.00   102.00   150.00   111.25   101.00   121.00   \n",
       "citympg          21.00    19.00    24.00    16.50    18.75    23.00    20.67   \n",
       "highwaympg       27.00    26.00    30.00    21.00    24.25    29.00    27.00   \n",
       "\n",
       "company                buick                            chevrolet          \\\n",
       "enginesize      209      183      234      304      308       61      90    \n",
       "price      36318.33 28394.00 34620.00 45400.00 40960.00   5151.00 6435.00   \n",
       "carwidth      68.57    70.65    71.10    72.00    71.70     60.30   63.60   \n",
       "horsepower   182.00   123.00   155.00   184.00   184.00     48.00   70.00   \n",
       "citympg       15.67    22.00    16.00    14.00    14.00     47.00   38.00   \n",
       "highwaympg    21.33    25.00    18.00    16.00    16.00     53.00   43.00   \n",
       "\n",
       "company      dodge                            honda                   isuzu  \\\n",
       "enginesize     90      98      122      156     79      92      110     90    \n",
       "price      6495.80 8257.50 8921.00 12964.00 5399.00 6930.33 9903.33 8916.50   \n",
       "carwidth     63.80   63.80   64.60    66.30   64.00   63.95   64.88   63.60   \n",
       "horsepower   68.00  102.00   88.00   145.00   60.00   73.00   90.83   70.00   \n",
       "citympg      32.20   24.00   24.00    19.00   38.00   33.33   26.17   38.00   \n",
       "highwaympg   38.60   30.00   30.00    24.00   42.00   38.00   31.83   43.00   \n",
       "\n",
       "company                       jaguar             mazda                   \\\n",
       "enginesize     111      119      258      326      70       80      91    \n",
       "price      6785.00 11048.00 33900.00 36000.00 12145.00 15645.00 6435.00   \n",
       "carwidth     61.80    65.20    69.60    70.60    65.70    65.70   64.20   \n",
       "horsepower   78.00    90.00   176.00   262.00   101.00   135.00   68.00   \n",
       "citympg      24.00    24.00    15.00    13.00    17.00    16.00   30.80   \n",
       "highwaympg   29.00    29.00    19.00    17.00    23.00    23.00   36.60   \n",
       "\n",
       "company                                mercury mitsubishi                  \\\n",
       "enginesize      122      134      140      140        92      98      110   \n",
       "price      10036.67 18344.00 18280.00 16503.00    6082.33 7689.00 9505.67   \n",
       "carwidth      66.50    66.10    66.10    68.00      64.40   63.80   65.40   \n",
       "horsepower    80.67    72.00   120.00   175.00      68.00  102.00  116.00   \n",
       "citympg       27.67    31.00    19.00    19.00      33.00   24.00   23.00   \n",
       "highwaympg    33.67    39.00    27.00    24.00      39.00   30.00   30.00   \n",
       "\n",
       "company                      nissan                           peugeot  \\\n",
       "enginesize     122      156     97      103     120      181      120   \n",
       "price      7892.33 13995.67 7243.44 7099.00 9249.00 16115.67 14649.00   \n",
       "carwidth     65.40    66.30   63.80   63.80   65.20    67.20    68.40   \n",
       "horsepower   88.00   145.00   69.00   55.00   97.00   162.67    96.20   \n",
       "citympg      25.00    19.00   31.00   45.00   27.00    18.00    19.00   \n",
       "highwaympg   32.00    24.00   37.00   50.00   34.00    23.67    24.00   \n",
       "\n",
       "company                      plymouth                           porsche  \\\n",
       "enginesize      134      152      90      98      122      156      151   \n",
       "price      18150.00 15797.00  6164.33 7783.00 8921.00 12764.00 22018.00   \n",
       "carwidth      68.30    68.40    63.80   63.80   64.60    66.30    68.30   \n",
       "horsepower   142.00    95.00    68.00   85.00   88.00   145.00   143.00   \n",
       "citympg       18.00    26.80    33.00   27.50   24.00    19.00    19.00   \n",
       "highwaympg    24.00    29.80    39.00   34.00   30.00    24.00    27.00   \n",
       "\n",
       "company                      renault     saab  subaru          toyota          \\\n",
       "enginesize      194      203     132      121     97      108     92      98    \n",
       "price      34528.00 31400.50 9595.00 15223.33 5118.00 8852.45 6961.33 8291.33   \n",
       "carwidth      65.00    72.30   66.55    66.50   63.40   65.09   63.60   64.22   \n",
       "horsepower   207.00   288.00   90.00   126.67   69.00   87.82   62.00   79.33   \n",
       "citympg       17.00    17.00   23.00    20.33   31.00   25.91   30.33   29.33   \n",
       "highwaympg    25.00    28.00   31.00    27.33   36.00   30.27   36.00   35.00   \n",
       "\n",
       "company                                                volkswagen          \\\n",
       "enginesize     110      122      146      161      171        97      109   \n",
       "price      8794.67 10270.50 11415.67 15750.00 16082.00    9777.50 9789.29   \n",
       "carwidth     65.10    66.50    65.60    66.50    67.30      65.85   65.30   \n",
       "horsepower   61.67    92.00   116.00   156.00   159.33      60.00   89.00   \n",
       "citympg      34.00    27.50    24.00    19.00    19.67      36.00   25.71   \n",
       "highwaympg   38.67    32.50    30.00    24.00    24.00      43.00   31.86   \n",
       "\n",
       "company                volvo                             \n",
       "enginesize      136      130      141      145      173  \n",
       "price      13295.00 18685.00 16767.14 22470.00 21485.00  \n",
       "carwidth      66.90    67.20    67.91    68.90    68.90  \n",
       "horsepower   110.00   162.00   120.57   106.00   134.00  \n",
       "citympg       19.00    17.00    22.14    26.00    18.00  \n",
       "highwaympg    24.00    22.00    27.14    27.00    23.00  "
      ]
     },
     "execution_count": 21,
     "metadata": {},
     "output_type": "execute_result"
    }
   ],
   "source": [
    "crosstab = car.groupby(by=['company','enginesize'])['price','carwidth','horsepower','citympg', 'highwaympg'].mean().transpose()\n",
    "crosstab"
   ]
  },
  {
   "cell_type": "markdown",
   "metadata": {},
   "source": [
    "<a id='cat'></a>"
   ]
  },
  {
   "cell_type": "markdown",
   "metadata": {},
   "source": [
    "## VI. Convert Categorical Variables to Continuos"
   ]
  },
  {
   "cell_type": "code",
   "execution_count": 22,
   "metadata": {},
   "outputs": [
    {
     "data": {
      "text/plain": [
       "fueltype           2\n",
       "aspiration         2\n",
       "doornumber         2\n",
       "carbody            5\n",
       "drivewheel         3\n",
       "enginelocation     2\n",
       "enginetype         7\n",
       "cylindernumber     7\n",
       "fuelsystem         8\n",
       "company           22\n",
       "dtype: int64"
      ]
     },
     "execution_count": 22,
     "metadata": {},
     "output_type": "execute_result"
    }
   ],
   "source": [
    "categorical_cols = car.select_dtypes(include=['object'])\n",
    "categorical_cols.nunique()"
   ]
  },
  {
   "cell_type": "code",
   "execution_count": 23,
   "metadata": {
    "collapsed": true
   },
   "outputs": [],
   "source": [
    "# first convert categorical columns where there are only two distinct values to numeric(0 or 1)\n",
    "car['fueltype'] = car['fueltype'].map({'gas':0, 'diesel':1})\n",
    "car['aspiration'] = car['aspiration'].map({'std':0, 'turbo':1})\n",
    "car['doornumber'] = car['doornumber'].map({'two':0, 'four':1})\n",
    "car['enginelocation'] = car['enginelocation'].map({'front':0, 'rear':1})"
   ]
  },
  {
   "cell_type": "code",
   "execution_count": 24,
   "metadata": {
    "collapsed": true
   },
   "outputs": [],
   "source": [
    "def add_dummy(df,colname):\n",
    "    \"\"\"\n",
    "    This function will convert the categorical column to continuos by adding dummy variables to the dataframe and \n",
    "    drop the original categorical column.\n",
    "    df      :: dataframe\n",
    "    colname :: name of categorical column\n",
    "    \"\"\"\n",
    "    df_new = df.copy()\n",
    "    dummy = pd.get_dummies(df_new[colname],drop_first=True)\n",
    "    df_new = pd.concat([df_new,dummy],axis=1)\n",
    "    df_new.drop(labels=colname,axis=1,inplace=True)\n",
    "    print(colname,':::',dummy.columns.values,'\\n')\n",
    "    del dummy\n",
    "    return df_new"
   ]
  },
  {
   "cell_type": "code",
   "execution_count": 25,
   "metadata": {},
   "outputs": [
    {
     "name": "stdout",
     "output_type": "stream",
     "text": [
      "carbody ::: ['hardtop' 'hatchback' 'sedan' 'wagon'] \n",
      "\n",
      "drivewheel ::: ['fwd' 'rwd'] \n",
      "\n",
      "enginetype ::: ['dohcv' 'l' 'ohc' 'ohcf' 'ohcv' 'rotor'] \n",
      "\n",
      "fuelsystem ::: ['2bbl' '4bbl' 'idi' 'mfi' 'mpfi' 'spdi' 'spfi'] \n",
      "\n",
      "company ::: ['audi' 'bmw' 'buick' 'chevrolet' 'dodge' 'honda' 'isuzu' 'jaguar' 'mazda'\n",
      " 'mercury' 'mitsubishi' 'nissan' 'peugeot' 'plymouth' 'porsche' 'renault'\n",
      " 'saab' 'subaru' 'toyota' 'volkswagen' 'volvo'] \n",
      "\n",
      "cylindernumber ::: ['five' 'four' 'six' 'three' 'twelve' 'two'] \n",
      "\n"
     ]
    }
   ],
   "source": [
    "car = add_dummy(car,'carbody')\n",
    "car = add_dummy(car,'drivewheel')\n",
    "car = add_dummy(car,'enginetype')\n",
    "car = add_dummy(car,'fuelsystem')\n",
    "car = add_dummy(car,'company')\n",
    "car = add_dummy(car,'cylindernumber')"
   ]
  },
  {
   "cell_type": "markdown",
   "metadata": {},
   "source": [
    "<a id='scaling'></a>"
   ]
  },
  {
   "cell_type": "markdown",
   "metadata": {},
   "source": [
    "## VII. Feature Scaling"
   ]
  },
  {
   "cell_type": "code",
   "execution_count": 26,
   "metadata": {
    "collapsed": true
   },
   "outputs": [],
   "source": [
    "car=(car-car.min())/(car.max()-car.min())"
   ]
  },
  {
   "cell_type": "markdown",
   "metadata": {},
   "source": [
    "<a id='feature'></a>"
   ]
  },
  {
   "cell_type": "markdown",
   "metadata": {},
   "source": [
    "## VIII. Feature Selection"
   ]
  },
  {
   "cell_type": "code",
   "execution_count": 27,
   "metadata": {
    "collapsed": true
   },
   "outputs": [],
   "source": [
    "# Putting feature variable to X(remove car_ID & price)\n",
    "X = car.loc[:, ~car.columns.isin(['car_ID','price'])]\n",
    "\n",
    "# Putting target variable to y\n",
    "y = car['price']"
   ]
  },
  {
   "cell_type": "code",
   "execution_count": 28,
   "metadata": {
    "collapsed": true
   },
   "outputs": [],
   "source": [
    "from sklearn.cross_validation import train_test_split\n",
    "X_train, X_test, y_train, y_test = train_test_split(X, y, train_size=0.7 ,test_size = 0.3)"
   ]
  },
  {
   "cell_type": "code",
   "execution_count": 29,
   "metadata": {
    "collapsed": true
   },
   "outputs": [],
   "source": [
    "regression = LinearRegression()"
   ]
  },
  {
   "cell_type": "code",
   "execution_count": 30,
   "metadata": {},
   "outputs": [
    {
     "name": "stdout",
     "output_type": "stream",
     "text": [
      "Features sorted by their rank::::\n",
      "\n",
      "[(1, 'enginesize'), (2, 'carwidth'), (3, 'enginelocation'), (4, 'bmw'), (5, 'curbweight'), (6, 'horsepower'), (7, 'buick'), (8, 'highwaympg'), (9, 'two'), (10, 'peakrpm'), (11, 'porsche'), (12, 'dohcv'), (13, 'rotor'), (14, 'audi'), (15, 'carlength'), (16, 'saab'), (17, 'fueltype'), (18, 'idi'), (19, 'compressionratio'), (20, 'mitsubishi'), (21, 'five'), (22, 'ohcv'), (23, 'boreratio'), (24, 'wagon'), (25, 'hatchback'), (26, 'hardtop'), (27, 'sedan'), (28, 'symboling'), (29, '4bbl'), (30, 'mpfi'), (31, 'honda'), (32, 'wheelbase'), (33, 'plymouth'), (34, 'chevrolet'), (35, 'dodge'), (36, 'carheight'), (37, 'l'), (38, 'renault'), (39, 'toyota'), (40, 'jaguar'), (41, 'isuzu'), (42, 'nissan'), (43, 'mazda'), (44, 'subaru'), (45, 'volkswagen'), (46, 'ohcf'), (47, 'twelve'), (48, 'four'), (49, 'citympg'), (50, 'peugeot'), (51, 'ohc'), (52, 'aspiration'), (53, 'stroke'), (54, 'fwd'), (55, 'six'), (56, 'mfi'), (57, 'doornumber'), (58, 'spdi'), (59, 'rwd'), (60, 'mercury'), (61, '2bbl'), (62, 'spfi'), (63, 'volvo'), (64, 'three')]\n"
     ]
    }
   ],
   "source": [
    "#rank all features\n",
    "from sklearn.feature_selection import RFE\n",
    "rfe = RFE(regression, n_features_to_select=1)\n",
    "rfe.fit(X_train,y_train)\n",
    "\n",
    "print (\"Features sorted by their rank::::\\n\")\n",
    "feature_ranking = sorted(list(zip(rfe.ranking_,X_train.columns)))\n",
    "print(feature_ranking)"
   ]
  },
  {
   "cell_type": "code",
   "execution_count": 31,
   "metadata": {
    "collapsed": true
   },
   "outputs": [],
   "source": [
    "# There are 64 features, we will select top 25 features from it and then mannualy do the backward elimination based on its\n",
    "# p-value & VIF"
   ]
  },
  {
   "cell_type": "code",
   "execution_count": 32,
   "metadata": {},
   "outputs": [
    {
     "data": {
      "text/html": [
       "<div>\n",
       "<style>\n",
       "    .dataframe thead tr:only-child th {\n",
       "        text-align: right;\n",
       "    }\n",
       "\n",
       "    .dataframe thead th {\n",
       "        text-align: left;\n",
       "    }\n",
       "\n",
       "    .dataframe tbody tr th {\n",
       "        vertical-align: top;\n",
       "    }\n",
       "</style>\n",
       "<table border=\"1\" class=\"dataframe\">\n",
       "  <thead>\n",
       "    <tr style=\"text-align: right;\">\n",
       "      <th></th>\n",
       "      <th>enginesize</th>\n",
       "      <th>carwidth</th>\n",
       "      <th>enginelocation</th>\n",
       "      <th>bmw</th>\n",
       "      <th>curbweight</th>\n",
       "      <th>horsepower</th>\n",
       "      <th>buick</th>\n",
       "      <th>highwaympg</th>\n",
       "      <th>two</th>\n",
       "      <th>peakrpm</th>\n",
       "      <th>porsche</th>\n",
       "      <th>dohcv</th>\n",
       "      <th>rotor</th>\n",
       "      <th>audi</th>\n",
       "      <th>carlength</th>\n",
       "      <th>saab</th>\n",
       "      <th>fueltype</th>\n",
       "      <th>idi</th>\n",
       "      <th>compressionratio</th>\n",
       "      <th>mitsubishi</th>\n",
       "      <th>five</th>\n",
       "      <th>ohcv</th>\n",
       "      <th>boreratio</th>\n",
       "      <th>wagon</th>\n",
       "      <th>hatchback</th>\n",
       "    </tr>\n",
       "  </thead>\n",
       "  <tbody>\n",
       "    <tr>\n",
       "      <th>86</th>\n",
       "      <td>0.23</td>\n",
       "      <td>0.43</td>\n",
       "      <td>0.00</td>\n",
       "      <td>0.00</td>\n",
       "      <td>0.36</td>\n",
       "      <td>0.17</td>\n",
       "      <td>0.00</td>\n",
       "      <td>0.42</td>\n",
       "      <td>0.00</td>\n",
       "      <td>0.35</td>\n",
       "      <td>0.00</td>\n",
       "      <td>0.00</td>\n",
       "      <td>0.00</td>\n",
       "      <td>0.00</td>\n",
       "      <td>0.47</td>\n",
       "      <td>0.00</td>\n",
       "      <td>0.00</td>\n",
       "      <td>0.00</td>\n",
       "      <td>0.09</td>\n",
       "      <td>1.00</td>\n",
       "      <td>0.00</td>\n",
       "      <td>0.00</td>\n",
       "      <td>0.58</td>\n",
       "      <td>0.00</td>\n",
       "      <td>0.00</td>\n",
       "    </tr>\n",
       "    <tr>\n",
       "      <th>63</th>\n",
       "      <td>0.23</td>\n",
       "      <td>0.52</td>\n",
       "      <td>0.00</td>\n",
       "      <td>0.00</td>\n",
       "      <td>0.37</td>\n",
       "      <td>0.07</td>\n",
       "      <td>0.00</td>\n",
       "      <td>0.68</td>\n",
       "      <td>0.00</td>\n",
       "      <td>0.20</td>\n",
       "      <td>0.00</td>\n",
       "      <td>0.00</td>\n",
       "      <td>0.00</td>\n",
       "      <td>0.00</td>\n",
       "      <td>0.55</td>\n",
       "      <td>0.00</td>\n",
       "      <td>1.00</td>\n",
       "      <td>1.00</td>\n",
       "      <td>0.98</td>\n",
       "      <td>0.00</td>\n",
       "      <td>0.00</td>\n",
       "      <td>0.00</td>\n",
       "      <td>0.61</td>\n",
       "      <td>0.00</td>\n",
       "      <td>0.00</td>\n",
       "    </tr>\n",
       "    <tr>\n",
       "      <th>15</th>\n",
       "      <td>0.56</td>\n",
       "      <td>0.55</td>\n",
       "      <td>0.00</td>\n",
       "      <td>1.00</td>\n",
       "      <td>0.68</td>\n",
       "      <td>0.56</td>\n",
       "      <td>0.00</td>\n",
       "      <td>0.16</td>\n",
       "      <td>0.00</td>\n",
       "      <td>0.51</td>\n",
       "      <td>0.00</td>\n",
       "      <td>0.00</td>\n",
       "      <td>0.00</td>\n",
       "      <td>0.00</td>\n",
       "      <td>0.71</td>\n",
       "      <td>0.00</td>\n",
       "      <td>0.00</td>\n",
       "      <td>0.00</td>\n",
       "      <td>0.06</td>\n",
       "      <td>0.00</td>\n",
       "      <td>0.00</td>\n",
       "      <td>0.00</td>\n",
       "      <td>0.77</td>\n",
       "      <td>0.00</td>\n",
       "      <td>0.00</td>\n",
       "    </tr>\n",
       "    <tr>\n",
       "      <th>66</th>\n",
       "      <td>0.28</td>\n",
       "      <td>0.48</td>\n",
       "      <td>0.00</td>\n",
       "      <td>0.00</td>\n",
       "      <td>0.47</td>\n",
       "      <td>0.10</td>\n",
       "      <td>0.00</td>\n",
       "      <td>0.61</td>\n",
       "      <td>0.00</td>\n",
       "      <td>0.02</td>\n",
       "      <td>0.00</td>\n",
       "      <td>0.00</td>\n",
       "      <td>0.00</td>\n",
       "      <td>0.00</td>\n",
       "      <td>0.51</td>\n",
       "      <td>0.00</td>\n",
       "      <td>1.00</td>\n",
       "      <td>1.00</td>\n",
       "      <td>0.94</td>\n",
       "      <td>0.00</td>\n",
       "      <td>0.00</td>\n",
       "      <td>0.00</td>\n",
       "      <td>0.64</td>\n",
       "      <td>0.00</td>\n",
       "      <td>0.00</td>\n",
       "    </tr>\n",
       "    <tr>\n",
       "      <th>106</th>\n",
       "      <td>0.45</td>\n",
       "      <td>0.63</td>\n",
       "      <td>0.00</td>\n",
       "      <td>0.00</td>\n",
       "      <td>0.64</td>\n",
       "      <td>0.47</td>\n",
       "      <td>0.00</td>\n",
       "      <td>0.24</td>\n",
       "      <td>0.00</td>\n",
       "      <td>0.43</td>\n",
       "      <td>0.00</td>\n",
       "      <td>0.00</td>\n",
       "      <td>0.00</td>\n",
       "      <td>0.00</td>\n",
       "      <td>0.56</td>\n",
       "      <td>0.00</td>\n",
       "      <td>0.00</td>\n",
       "      <td>0.00</td>\n",
       "      <td>0.12</td>\n",
       "      <td>0.00</td>\n",
       "      <td>0.00</td>\n",
       "      <td>1.00</td>\n",
       "      <td>0.64</td>\n",
       "      <td>0.00</td>\n",
       "      <td>1.00</td>\n",
       "    </tr>\n",
       "  </tbody>\n",
       "</table>\n",
       "</div>"
      ],
      "text/plain": [
       "     enginesize  carwidth  enginelocation  bmw  curbweight  horsepower  buick  \\\n",
       "86         0.23      0.43            0.00 0.00        0.36        0.17   0.00   \n",
       "63         0.23      0.52            0.00 0.00        0.37        0.07   0.00   \n",
       "15         0.56      0.55            0.00 1.00        0.68        0.56   0.00   \n",
       "66         0.28      0.48            0.00 0.00        0.47        0.10   0.00   \n",
       "106        0.45      0.63            0.00 0.00        0.64        0.47   0.00   \n",
       "\n",
       "     highwaympg  two  peakrpm  porsche  dohcv  rotor  audi  carlength  saab  \\\n",
       "86         0.42 0.00     0.35     0.00   0.00   0.00  0.00       0.47  0.00   \n",
       "63         0.68 0.00     0.20     0.00   0.00   0.00  0.00       0.55  0.00   \n",
       "15         0.16 0.00     0.51     0.00   0.00   0.00  0.00       0.71  0.00   \n",
       "66         0.61 0.00     0.02     0.00   0.00   0.00  0.00       0.51  0.00   \n",
       "106        0.24 0.00     0.43     0.00   0.00   0.00  0.00       0.56  0.00   \n",
       "\n",
       "     fueltype  idi  compressionratio  mitsubishi  five  ohcv  boreratio  \\\n",
       "86       0.00 0.00              0.09        1.00  0.00  0.00       0.58   \n",
       "63       1.00 1.00              0.98        0.00  0.00  0.00       0.61   \n",
       "15       0.00 0.00              0.06        0.00  0.00  0.00       0.77   \n",
       "66       1.00 1.00              0.94        0.00  0.00  0.00       0.64   \n",
       "106      0.00 0.00              0.12        0.00  0.00  1.00       0.64   \n",
       "\n",
       "     wagon  hatchback  \n",
       "86    0.00       0.00  \n",
       "63    0.00       0.00  \n",
       "15    0.00       0.00  \n",
       "66    0.00       0.00  \n",
       "106   0.00       1.00  "
      ]
     },
     "execution_count": 32,
     "metadata": {},
     "output_type": "execute_result"
    }
   ],
   "source": [
    "top_features = [x[1] for x in feature_ranking[0:25]]\n",
    "X_train = X_train[top_features]\n",
    "vif_data = pd.concat([car[top_features],car['price']],axis=1)\n",
    "X_test = X_test[top_features]\n",
    "X_train.head()"
   ]
  },
  {
   "cell_type": "code",
   "execution_count": 33,
   "metadata": {
    "collapsed": true
   },
   "outputs": [],
   "source": [
    "import statsmodels.api as sm          # Importing statsmodels\n",
    "import statsmodels\n",
    "X_train = sm.add_constant(X_train)    # Adding a constant column to our dataframe\n",
    "X_test = sm.add_constant(X_test)\n",
    "# create a first fitted model"
   ]
  },
  {
   "cell_type": "code",
   "execution_count": 34,
   "metadata": {
    "collapsed": true
   },
   "outputs": [],
   "source": [
    "# UDF for calculating vif value\n",
    "def vif_cal(input_data, dependent_col):\n",
    "    vif_df = pd.DataFrame( columns = ['Var', 'Vif'])\n",
    "    x_vars=input_data.drop([dependent_col], axis=1)\n",
    "    xvar_names=x_vars.columns\n",
    "    for i in range(0,xvar_names.shape[0]):\n",
    "        y=x_vars[xvar_names[i]] \n",
    "        x=x_vars[xvar_names.drop(xvar_names[i])]\n",
    "        rsq=sm.OLS(y,x).fit().rsquared  \n",
    "        vif=round(1/(1-rsq),2)\n",
    "        vif_df.loc[i] = [xvar_names[i], vif]\n",
    "    return vif_df.sort_values(by = 'Vif', axis=0, ascending=False, inplace=False)"
   ]
  },
  {
   "cell_type": "code",
   "execution_count": 35,
   "metadata": {
    "collapsed": true
   },
   "outputs": [],
   "source": [
    "# Significance(p-value) is more important than multicollinearity(VIF value).\n",
    "#So we will remove those features(one by one) which are having low significance(p-value > significant level).For multicollinearity\n",
    "#we will check for VIF value(greater than 2.5-3) & parallely check for it's p-value , if it is greater than significant level we\n",
    "#will remove that column and if p-value < significant level, we will keep that column."
   ]
  },
  {
   "cell_type": "code",
   "execution_count": 129,
   "metadata": {
    "collapsed": true
   },
   "outputs": [],
   "source": [
    "def feature_to_drop(model,SF=0.05,vif_level =2):\n",
    "    pvalue = model.pvalues[m1.pvalues >= SF]\n",
    "    pvalue = pd.DataFrame(pvalue,columns=['pvalue'])\n",
    "    vif = vif_cal(input_data=vif_data, dependent_col=\"price\").set_index('Var')\n",
    "    vif = vif[vif.Vif >= vif_level]\n",
    "    matrix =pd.concat([pvalue,vif[vif.index.isin(final.index)]['Vif']],axis=1)\n",
    "    matrix = matrix.sort_values(by='pvalue',ascending=False)\n",
    "    feature_to_drop = matrix[0:1]\n",
    "    return feature_to_drop"
   ]
  },
  {
   "cell_type": "markdown",
   "metadata": {},
   "source": [
    "#### Iteration 1"
   ]
  },
  {
   "cell_type": "code",
   "execution_count": 36,
   "metadata": {},
   "outputs": [
    {
     "data": {
      "text/html": [
       "<table class=\"simpletable\">\n",
       "<caption>OLS Regression Results</caption>\n",
       "<tr>\n",
       "  <th>Dep. Variable:</th>          <td>price</td>      <th>  R-squared:         </th> <td>   0.961</td>\n",
       "</tr>\n",
       "<tr>\n",
       "  <th>Model:</th>                   <td>OLS</td>       <th>  Adj. R-squared:    </th> <td>   0.954</td>\n",
       "</tr>\n",
       "<tr>\n",
       "  <th>Method:</th>             <td>Least Squares</td>  <th>  F-statistic:       </th> <td>   128.4</td>\n",
       "</tr>\n",
       "<tr>\n",
       "  <th>Date:</th>             <td>Fri, 16 Mar 2018</td> <th>  Prob (F-statistic):</th> <td>6.03e-73</td>\n",
       "</tr>\n",
       "<tr>\n",
       "  <th>Time:</th>                 <td>16:51:24</td>     <th>  Log-Likelihood:    </th> <td>  246.53</td>\n",
       "</tr>\n",
       "<tr>\n",
       "  <th>No. Observations:</th>      <td>   143</td>      <th>  AIC:               </th> <td>  -445.1</td>\n",
       "</tr>\n",
       "<tr>\n",
       "  <th>Df Residuals:</th>          <td>   119</td>      <th>  BIC:               </th> <td>  -374.0</td>\n",
       "</tr>\n",
       "<tr>\n",
       "  <th>Df Model:</th>              <td>    23</td>      <th>                     </th>     <td> </td>   \n",
       "</tr>\n",
       "<tr>\n",
       "  <th>Covariance Type:</th>      <td>nonrobust</td>    <th>                     </th>     <td> </td>   \n",
       "</tr>\n",
       "</table>\n",
       "<table class=\"simpletable\">\n",
       "<tr>\n",
       "          <td></td>            <th>coef</th>     <th>std err</th>      <th>t</th>      <th>P>|t|</th>  <th>[0.025</th>    <th>0.975]</th>  \n",
       "</tr>\n",
       "<tr>\n",
       "  <th>const</th>            <td>   -0.1352</td> <td>    0.056</td> <td>   -2.418</td> <td> 0.017</td> <td>   -0.246</td> <td>   -0.024</td>\n",
       "</tr>\n",
       "<tr>\n",
       "  <th>enginesize</th>       <td>    0.5323</td> <td>    0.083</td> <td>    6.394</td> <td> 0.000</td> <td>    0.367</td> <td>    0.697</td>\n",
       "</tr>\n",
       "<tr>\n",
       "  <th>carwidth</th>         <td>    0.1824</td> <td>    0.066</td> <td>    2.769</td> <td> 0.007</td> <td>    0.052</td> <td>    0.313</td>\n",
       "</tr>\n",
       "<tr>\n",
       "  <th>enginelocation</th>   <td>    0.1869</td> <td>    0.062</td> <td>    3.006</td> <td> 0.003</td> <td>    0.064</td> <td>    0.310</td>\n",
       "</tr>\n",
       "<tr>\n",
       "  <th>bmw</th>              <td>    0.1932</td> <td>    0.020</td> <td>    9.482</td> <td> 0.000</td> <td>    0.153</td> <td>    0.234</td>\n",
       "</tr>\n",
       "<tr>\n",
       "  <th>curbweight</th>       <td>    0.3626</td> <td>    0.081</td> <td>    4.459</td> <td> 0.000</td> <td>    0.202</td> <td>    0.524</td>\n",
       "</tr>\n",
       "<tr>\n",
       "  <th>horsepower</th>       <td>    0.1609</td> <td>    0.078</td> <td>    2.056</td> <td> 0.042</td> <td>    0.006</td> <td>    0.316</td>\n",
       "</tr>\n",
       "<tr>\n",
       "  <th>buick</th>            <td>    0.2104</td> <td>    0.032</td> <td>    6.654</td> <td> 0.000</td> <td>    0.148</td> <td>    0.273</td>\n",
       "</tr>\n",
       "<tr>\n",
       "  <th>highwaympg</th>       <td>    0.1063</td> <td>    0.065</td> <td>    1.634</td> <td> 0.105</td> <td>   -0.023</td> <td>    0.235</td>\n",
       "</tr>\n",
       "<tr>\n",
       "  <th>two</th>              <td>    0.0691</td> <td>    0.018</td> <td>    3.834</td> <td> 0.000</td> <td>    0.033</td> <td>    0.105</td>\n",
       "</tr>\n",
       "<tr>\n",
       "  <th>peakrpm</th>          <td>    0.0728</td> <td>    0.030</td> <td>    2.400</td> <td> 0.018</td> <td>    0.013</td> <td>    0.133</td>\n",
       "</tr>\n",
       "<tr>\n",
       "  <th>porsche</th>          <td>    0.1358</td> <td>    0.053</td> <td>    2.553</td> <td> 0.012</td> <td>    0.030</td> <td>    0.241</td>\n",
       "</tr>\n",
       "<tr>\n",
       "  <th>dohcv</th>            <td>   -0.0999</td> <td>    0.077</td> <td>   -1.300</td> <td> 0.196</td> <td>   -0.252</td> <td>    0.052</td>\n",
       "</tr>\n",
       "<tr>\n",
       "  <th>rotor</th>            <td>    0.0691</td> <td>    0.018</td> <td>    3.834</td> <td> 0.000</td> <td>    0.033</td> <td>    0.105</td>\n",
       "</tr>\n",
       "<tr>\n",
       "  <th>audi</th>             <td>    0.0833</td> <td>    0.032</td> <td>    2.577</td> <td> 0.011</td> <td>    0.019</td> <td>    0.147</td>\n",
       "</tr>\n",
       "<tr>\n",
       "  <th>carlength</th>        <td>   -0.1312</td> <td>    0.068</td> <td>   -1.939</td> <td> 0.055</td> <td>   -0.265</td> <td>    0.003</td>\n",
       "</tr>\n",
       "<tr>\n",
       "  <th>saab</th>             <td>    0.0607</td> <td>    0.025</td> <td>    2.453</td> <td> 0.016</td> <td>    0.012</td> <td>    0.110</td>\n",
       "</tr>\n",
       "<tr>\n",
       "  <th>fueltype</th>         <td>    0.1316</td> <td>    0.061</td> <td>    2.146</td> <td> 0.034</td> <td>    0.010</td> <td>    0.253</td>\n",
       "</tr>\n",
       "<tr>\n",
       "  <th>idi</th>              <td>    0.1316</td> <td>    0.061</td> <td>    2.146</td> <td> 0.034</td> <td>    0.010</td> <td>    0.253</td>\n",
       "</tr>\n",
       "<tr>\n",
       "  <th>compressionratio</th> <td>   -0.2968</td> <td>    0.145</td> <td>   -2.044</td> <td> 0.043</td> <td>   -0.584</td> <td>   -0.009</td>\n",
       "</tr>\n",
       "<tr>\n",
       "  <th>mitsubishi</th>       <td>   -0.0728</td> <td>    0.020</td> <td>   -3.671</td> <td> 0.000</td> <td>   -0.112</td> <td>   -0.034</td>\n",
       "</tr>\n",
       "<tr>\n",
       "  <th>five</th>             <td>   -0.0763</td> <td>    0.030</td> <td>   -2.542</td> <td> 0.012</td> <td>   -0.136</td> <td>   -0.017</td>\n",
       "</tr>\n",
       "<tr>\n",
       "  <th>ohcv</th>             <td>   -0.0643</td> <td>    0.025</td> <td>   -2.578</td> <td> 0.011</td> <td>   -0.114</td> <td>   -0.015</td>\n",
       "</tr>\n",
       "<tr>\n",
       "  <th>boreratio</th>        <td>   -0.0692</td> <td>    0.034</td> <td>   -2.025</td> <td> 0.045</td> <td>   -0.137</td> <td>   -0.002</td>\n",
       "</tr>\n",
       "<tr>\n",
       "  <th>wagon</th>            <td>   -0.0359</td> <td>    0.016</td> <td>   -2.307</td> <td> 0.023</td> <td>   -0.067</td> <td>   -0.005</td>\n",
       "</tr>\n",
       "<tr>\n",
       "  <th>hatchback</th>        <td>   -0.0294</td> <td>    0.011</td> <td>   -2.624</td> <td> 0.010</td> <td>   -0.052</td> <td>   -0.007</td>\n",
       "</tr>\n",
       "</table>\n",
       "<table class=\"simpletable\">\n",
       "<tr>\n",
       "  <th>Omnibus:</th>       <td>24.307</td> <th>  Durbin-Watson:     </th> <td>   2.045</td>\n",
       "</tr>\n",
       "<tr>\n",
       "  <th>Prob(Omnibus):</th> <td> 0.000</td> <th>  Jarque-Bera (JB):  </th> <td>  48.642</td>\n",
       "</tr>\n",
       "<tr>\n",
       "  <th>Skew:</th>          <td> 0.744</td> <th>  Prob(JB):          </th> <td>2.74e-11</td>\n",
       "</tr>\n",
       "<tr>\n",
       "  <th>Kurtosis:</th>      <td> 5.440</td> <th>  Cond. No.          </th> <td>1.29e+16</td>\n",
       "</tr>\n",
       "</table>"
      ],
      "text/plain": [
       "<class 'statsmodels.iolib.summary.Summary'>\n",
       "\"\"\"\n",
       "                            OLS Regression Results                            \n",
       "==============================================================================\n",
       "Dep. Variable:                  price   R-squared:                       0.961\n",
       "Model:                            OLS   Adj. R-squared:                  0.954\n",
       "Method:                 Least Squares   F-statistic:                     128.4\n",
       "Date:                Fri, 16 Mar 2018   Prob (F-statistic):           6.03e-73\n",
       "Time:                        16:51:24   Log-Likelihood:                 246.53\n",
       "No. Observations:                 143   AIC:                            -445.1\n",
       "Df Residuals:                     119   BIC:                            -374.0\n",
       "Df Model:                          23                                         \n",
       "Covariance Type:            nonrobust                                         \n",
       "====================================================================================\n",
       "                       coef    std err          t      P>|t|      [0.025      0.975]\n",
       "------------------------------------------------------------------------------------\n",
       "const               -0.1352      0.056     -2.418      0.017      -0.246      -0.024\n",
       "enginesize           0.5323      0.083      6.394      0.000       0.367       0.697\n",
       "carwidth             0.1824      0.066      2.769      0.007       0.052       0.313\n",
       "enginelocation       0.1869      0.062      3.006      0.003       0.064       0.310\n",
       "bmw                  0.1932      0.020      9.482      0.000       0.153       0.234\n",
       "curbweight           0.3626      0.081      4.459      0.000       0.202       0.524\n",
       "horsepower           0.1609      0.078      2.056      0.042       0.006       0.316\n",
       "buick                0.2104      0.032      6.654      0.000       0.148       0.273\n",
       "highwaympg           0.1063      0.065      1.634      0.105      -0.023       0.235\n",
       "two                  0.0691      0.018      3.834      0.000       0.033       0.105\n",
       "peakrpm              0.0728      0.030      2.400      0.018       0.013       0.133\n",
       "porsche              0.1358      0.053      2.553      0.012       0.030       0.241\n",
       "dohcv               -0.0999      0.077     -1.300      0.196      -0.252       0.052\n",
       "rotor                0.0691      0.018      3.834      0.000       0.033       0.105\n",
       "audi                 0.0833      0.032      2.577      0.011       0.019       0.147\n",
       "carlength           -0.1312      0.068     -1.939      0.055      -0.265       0.003\n",
       "saab                 0.0607      0.025      2.453      0.016       0.012       0.110\n",
       "fueltype             0.1316      0.061      2.146      0.034       0.010       0.253\n",
       "idi                  0.1316      0.061      2.146      0.034       0.010       0.253\n",
       "compressionratio    -0.2968      0.145     -2.044      0.043      -0.584      -0.009\n",
       "mitsubishi          -0.0728      0.020     -3.671      0.000      -0.112      -0.034\n",
       "five                -0.0763      0.030     -2.542      0.012      -0.136      -0.017\n",
       "ohcv                -0.0643      0.025     -2.578      0.011      -0.114      -0.015\n",
       "boreratio           -0.0692      0.034     -2.025      0.045      -0.137      -0.002\n",
       "wagon               -0.0359      0.016     -2.307      0.023      -0.067      -0.005\n",
       "hatchback           -0.0294      0.011     -2.624      0.010      -0.052      -0.007\n",
       "==============================================================================\n",
       "Omnibus:                       24.307   Durbin-Watson:                   2.045\n",
       "Prob(Omnibus):                  0.000   Jarque-Bera (JB):               48.642\n",
       "Skew:                           0.744   Prob(JB):                     2.74e-11\n",
       "Kurtosis:                       5.440   Cond. No.                     1.29e+16\n",
       "==============================================================================\n",
       "\n",
       "Warnings:\n",
       "[1] Standard Errors assume that the covariance matrix of the errors is correctly specified.\n",
       "[2] The smallest eigenvalue is 2.24e-30. This might indicate that there are\n",
       "strong multicollinearity problems or that the design matrix is singular.\n",
       "\"\"\""
      ]
     },
     "execution_count": 36,
     "metadata": {},
     "output_type": "execute_result"
    }
   ],
   "source": [
    "#Let's see the summary of our first linear model\n",
    "m1 = sm.OLS(y_train,X_train).fit()\n",
    "m1.summary()"
   ]
  },
  {
   "cell_type": "code",
   "execution_count": 37,
   "metadata": {},
   "outputs": [
    {
     "data": {
      "text/html": [
       "<div>\n",
       "<style>\n",
       "    .dataframe thead tr:only-child th {\n",
       "        text-align: right;\n",
       "    }\n",
       "\n",
       "    .dataframe thead th {\n",
       "        text-align: left;\n",
       "    }\n",
       "\n",
       "    .dataframe tbody tr th {\n",
       "        vertical-align: top;\n",
       "    }\n",
       "</style>\n",
       "<table border=\"1\" class=\"dataframe\">\n",
       "  <thead>\n",
       "    <tr style=\"text-align: right;\">\n",
       "      <th></th>\n",
       "      <th>Var</th>\n",
       "      <th>Vif</th>\n",
       "    </tr>\n",
       "  </thead>\n",
       "  <tbody>\n",
       "    <tr>\n",
       "      <th>12</th>\n",
       "      <td>rotor</td>\n",
       "      <td>inf</td>\n",
       "    </tr>\n",
       "    <tr>\n",
       "      <th>8</th>\n",
       "      <td>two</td>\n",
       "      <td>inf</td>\n",
       "    </tr>\n",
       "    <tr>\n",
       "      <th>17</th>\n",
       "      <td>idi</td>\n",
       "      <td>inf</td>\n",
       "    </tr>\n",
       "    <tr>\n",
       "      <th>16</th>\n",
       "      <td>fueltype</td>\n",
       "      <td>inf</td>\n",
       "    </tr>\n",
       "    <tr>\n",
       "      <th>18</th>\n",
       "      <td>compressionratio</td>\n",
       "      <td>106.00</td>\n",
       "    </tr>\n",
       "    <tr>\n",
       "      <th>4</th>\n",
       "      <td>curbweight</td>\n",
       "      <td>89.33</td>\n",
       "    </tr>\n",
       "    <tr>\n",
       "      <th>14</th>\n",
       "      <td>carlength</td>\n",
       "      <td>84.12</td>\n",
       "    </tr>\n",
       "    <tr>\n",
       "      <th>1</th>\n",
       "      <td>carwidth</td>\n",
       "      <td>68.24</td>\n",
       "    </tr>\n",
       "    <tr>\n",
       "      <th>0</th>\n",
       "      <td>enginesize</td>\n",
       "      <td>43.18</td>\n",
       "    </tr>\n",
       "    <tr>\n",
       "      <th>5</th>\n",
       "      <td>horsepower</td>\n",
       "      <td>34.81</td>\n",
       "    </tr>\n",
       "    <tr>\n",
       "      <th>22</th>\n",
       "      <td>boreratio</td>\n",
       "      <td>21.51</td>\n",
       "    </tr>\n",
       "    <tr>\n",
       "      <th>7</th>\n",
       "      <td>highwaympg</td>\n",
       "      <td>15.63</td>\n",
       "    </tr>\n",
       "    <tr>\n",
       "      <th>9</th>\n",
       "      <td>peakrpm</td>\n",
       "      <td>10.55</td>\n",
       "    </tr>\n",
       "    <tr>\n",
       "      <th>10</th>\n",
       "      <td>porsche</td>\n",
       "      <td>5.84</td>\n",
       "    </tr>\n",
       "    <tr>\n",
       "      <th>2</th>\n",
       "      <td>enginelocation</td>\n",
       "      <td>4.74</td>\n",
       "    </tr>\n",
       "    <tr>\n",
       "      <th>20</th>\n",
       "      <td>five</td>\n",
       "      <td>3.62</td>\n",
       "    </tr>\n",
       "    <tr>\n",
       "      <th>13</th>\n",
       "      <td>audi</td>\n",
       "      <td>2.86</td>\n",
       "    </tr>\n",
       "    <tr>\n",
       "      <th>6</th>\n",
       "      <td>buick</td>\n",
       "      <td>2.81</td>\n",
       "    </tr>\n",
       "    <tr>\n",
       "      <th>11</th>\n",
       "      <td>dohcv</td>\n",
       "      <td>2.48</td>\n",
       "    </tr>\n",
       "    <tr>\n",
       "      <th>24</th>\n",
       "      <td>hatchback</td>\n",
       "      <td>2.44</td>\n",
       "    </tr>\n",
       "    <tr>\n",
       "      <th>21</th>\n",
       "      <td>ohcv</td>\n",
       "      <td>2.43</td>\n",
       "    </tr>\n",
       "    <tr>\n",
       "      <th>23</th>\n",
       "      <td>wagon</td>\n",
       "      <td>1.61</td>\n",
       "    </tr>\n",
       "    <tr>\n",
       "      <th>15</th>\n",
       "      <td>saab</td>\n",
       "      <td>1.43</td>\n",
       "    </tr>\n",
       "    <tr>\n",
       "      <th>3</th>\n",
       "      <td>bmw</td>\n",
       "      <td>1.31</td>\n",
       "    </tr>\n",
       "    <tr>\n",
       "      <th>19</th>\n",
       "      <td>mitsubishi</td>\n",
       "      <td>1.31</td>\n",
       "    </tr>\n",
       "  </tbody>\n",
       "</table>\n",
       "</div>"
      ],
      "text/plain": [
       "                 Var    Vif\n",
       "12             rotor    inf\n",
       "8                two    inf\n",
       "17               idi    inf\n",
       "16          fueltype    inf\n",
       "18  compressionratio 106.00\n",
       "4         curbweight  89.33\n",
       "14         carlength  84.12\n",
       "1           carwidth  68.24\n",
       "0         enginesize  43.18\n",
       "5         horsepower  34.81\n",
       "22         boreratio  21.51\n",
       "7         highwaympg  15.63\n",
       "9            peakrpm  10.55\n",
       "10           porsche   5.84\n",
       "2     enginelocation   4.74\n",
       "20              five   3.62\n",
       "13              audi   2.86\n",
       "6              buick   2.81\n",
       "11             dohcv   2.48\n",
       "24         hatchback   2.44\n",
       "21              ohcv   2.43\n",
       "23             wagon   1.61\n",
       "15              saab   1.43\n",
       "3                bmw   1.31\n",
       "19        mitsubishi   1.31"
      ]
     },
     "execution_count": 37,
     "metadata": {},
     "output_type": "execute_result"
    }
   ],
   "source": [
    "# Calculating Vif value\n",
    "vif_cal(input_data=vif_data, dependent_col=\"price\")"
   ]
  },
  {
   "cell_type": "code",
   "execution_count": 132,
   "metadata": {},
   "outputs": [],
   "source": [
    "rows = list()"
   ]
  },
  {
   "cell_type": "code",
   "execution_count": 1529,
   "metadata": {},
   "outputs": [],
   "source": [
    "model_summary = pd.DataFrame(columns=['Iteration#','No_Features','R-squared','Adj_R-squared','Column_to_Drop','p-value','VIF'])"
   ]
  },
  {
   "cell_type": "code",
   "execution_count": null,
   "metadata": {
    "collapsed": true
   },
   "outputs": [],
   "source": [
    "model_summary = model_summary.append([{'qty1':10.0}], ignore_index=True)"
   ]
  },
  {
   "cell_type": "code",
   "execution_count": 130,
   "metadata": {},
   "outputs": [
    {
     "data": {
      "text/html": [
       "<div>\n",
       "<style>\n",
       "    .dataframe thead tr:only-child th {\n",
       "        text-align: right;\n",
       "    }\n",
       "\n",
       "    .dataframe thead th {\n",
       "        text-align: left;\n",
       "    }\n",
       "\n",
       "    .dataframe tbody tr th {\n",
       "        vertical-align: top;\n",
       "    }\n",
       "</style>\n",
       "<table border=\"1\" class=\"dataframe\">\n",
       "  <thead>\n",
       "    <tr style=\"text-align: right;\">\n",
       "      <th></th>\n",
       "      <th>pvalue</th>\n",
       "      <th>Vif</th>\n",
       "    </tr>\n",
       "  </thead>\n",
       "  <tbody>\n",
       "    <tr>\n",
       "      <th>dohcv</th>\n",
       "      <td>0.196</td>\n",
       "      <td>2.480</td>\n",
       "    </tr>\n",
       "  </tbody>\n",
       "</table>\n",
       "</div>"
      ],
      "text/plain": [
       "       pvalue   Vif\n",
       "dohcv   0.196 2.480"
      ]
     },
     "metadata": {},
     "output_type": "display_data"
    }
   ],
   "source": [
    "feature_to_drop = feature_to_drop(m1)\n",
    "display(feature_to_drop)"
   ]
  },
  {
   "cell_type": "code",
   "execution_count": 134,
   "metadata": {},
   "outputs": [
    {
     "ename": "IndexError",
     "evalue": "list assignment index out of range",
     "output_type": "error",
     "traceback": [
      "\u001b[1;31m---------------------------------------------------------------------------\u001b[0m",
      "\u001b[1;31mIndexError\u001b[0m                                Traceback (most recent call last)",
      "\u001b[1;32m<ipython-input-134-1ee93c86bdc7>\u001b[0m in \u001b[0;36m<module>\u001b[1;34m()\u001b[0m\n\u001b[1;32m----> 1\u001b[1;33m \u001b[0mrows\u001b[0m\u001b[1;33m[\u001b[0m\u001b[1;36m0\u001b[0m\u001b[1;33m]\u001b[0m \u001b[1;33m=\u001b[0m \u001b[1;33m[\u001b[0m\u001b[1;33m[\u001b[0m\u001b[1;36m1\u001b[0m\u001b[1;33m,\u001b[0m\u001b[0mX_train\u001b[0m\u001b[1;33m.\u001b[0m\u001b[0mshape\u001b[0m\u001b[1;33m[\u001b[0m\u001b[1;36m0\u001b[0m\u001b[1;33m]\u001b[0m\u001b[1;33m,\u001b[0m\u001b[0mm1\u001b[0m\u001b[1;33m.\u001b[0m\u001b[0mrsquared\u001b[0m\u001b[1;33m,\u001b[0m\u001b[0mm1\u001b[0m\u001b[1;33m.\u001b[0m\u001b[0mrsquared_adj\u001b[0m\u001b[1;33m]\u001b[0m\u001b[1;33m]\u001b[0m\u001b[1;33m\u001b[0m\u001b[0m\n\u001b[0m",
      "\u001b[1;31mIndexError\u001b[0m: list assignment index out of range"
     ]
    }
   ],
   "source": [
    "rows[0] = [[1,X_train.shape[0],m1.rsquared,m1.rsquared_adj]]"
   ]
  },
  {
   "cell_type": "markdown",
   "metadata": {},
   "source": [
    "#### Iteration 2"
   ]
  },
  {
   "cell_type": "code",
   "execution_count": null,
   "metadata": {
    "collapsed": true
   },
   "outputs": [],
   "source": [
    "# Dropping highly correlated variables and insignificant variables\n",
    "X_train = X_train.drop('wheelbase', axis =1)\n",
    "vif_data = vif_data.drop('wheelbase', axis =1)"
   ]
  },
  {
   "cell_type": "code",
   "execution_count": null,
   "metadata": {},
   "outputs": [],
   "source": [
    "m2 = sm.OLS(y_train,X_train).fit()\n",
    "m2.summary()"
   ]
  },
  {
   "cell_type": "code",
   "execution_count": null,
   "metadata": {},
   "outputs": [],
   "source": [
    "vif_cal(input_data=vif_data, dependent_col=\"price\")"
   ]
  },
  {
   "cell_type": "markdown",
   "metadata": {},
   "source": [
    "#### Iteration 3"
   ]
  },
  {
   "cell_type": "code",
   "execution_count": null,
   "metadata": {
    "collapsed": true
   },
   "outputs": [],
   "source": [
    "# Dropping highly correlated variables and insignificant variables\n",
    "X_train = X_train.drop('peakrpm', axis =1)\n",
    "vif_data = vif_data.drop('peakrpm', axis =1)"
   ]
  },
  {
   "cell_type": "code",
   "execution_count": null,
   "metadata": {},
   "outputs": [],
   "source": [
    "m3 = sm.OLS(y_train,X_train).fit()\n",
    "m3.summary()"
   ]
  },
  {
   "cell_type": "code",
   "execution_count": null,
   "metadata": {},
   "outputs": [],
   "source": [
    "vif_cal(input_data=vif_data, dependent_col=\"price\")"
   ]
  },
  {
   "cell_type": "markdown",
   "metadata": {},
   "source": [
    "#### Iteration 4"
   ]
  },
  {
   "cell_type": "code",
   "execution_count": null,
   "metadata": {
    "collapsed": true
   },
   "outputs": [],
   "source": [
    "# Dropping highly correlated variables and insignificant variables\n",
    "X_train = X_train.drop('wheelbase', axis =1)\n",
    "vif_data = vif_data.drop('wheelbase', axis =1)"
   ]
  },
  {
   "cell_type": "code",
   "execution_count": null,
   "metadata": {},
   "outputs": [],
   "source": [
    "m4 = sm.OLS(y_train,X_train).fit()\n",
    "m4.summary()"
   ]
  },
  {
   "cell_type": "code",
   "execution_count": null,
   "metadata": {},
   "outputs": [],
   "source": [
    "vif_cal(input_data=vif_data, dependent_col=\"price\")"
   ]
  },
  {
   "cell_type": "markdown",
   "metadata": {},
   "source": [
    "#### Iteration 5"
   ]
  },
  {
   "cell_type": "code",
   "execution_count": null,
   "metadata": {
    "collapsed": true
   },
   "outputs": [],
   "source": [
    "# Dropping highly correlated variables and insignificant variables\n",
    "X_train = X_train.drop('carheight', axis =1)\n",
    "vif_data = vif_data.drop('carheight', axis =1)"
   ]
  },
  {
   "cell_type": "code",
   "execution_count": null,
   "metadata": {},
   "outputs": [],
   "source": [
    "m5 = sm.OLS(y_train,X_train).fit()\n",
    "m5.summary()"
   ]
  },
  {
   "cell_type": "code",
   "execution_count": null,
   "metadata": {},
   "outputs": [],
   "source": [
    "vif_cal(input_data=vif_data, dependent_col=\"price\")"
   ]
  },
  {
   "cell_type": "markdown",
   "metadata": {},
   "source": [
    "#### Iteration 6"
   ]
  },
  {
   "cell_type": "code",
   "execution_count": null,
   "metadata": {
    "collapsed": true
   },
   "outputs": [],
   "source": [
    "# Dropping highly correlated variables and insignificant variables\n",
    "X_train = X_train.drop('doornumber', axis =1)\n",
    "car_copy = car_copy.drop('doornumber', axis =1)"
   ]
  },
  {
   "cell_type": "code",
   "execution_count": null,
   "metadata": {},
   "outputs": [],
   "source": [
    "m6 = sm.OLS(y_train,X_train).fit()\n",
    "m6.summary()"
   ]
  },
  {
   "cell_type": "code",
   "execution_count": null,
   "metadata": {},
   "outputs": [],
   "source": [
    "vif_cal(input_data=car_copy, dependent_col=\"price\")"
   ]
  },
  {
   "cell_type": "markdown",
   "metadata": {},
   "source": [
    "#### Iteration 7"
   ]
  },
  {
   "cell_type": "code",
   "execution_count": null,
   "metadata": {
    "collapsed": true
   },
   "outputs": [],
   "source": [
    "# Dropping highly correlated variables and insignificant variables\n",
    "X_train = X_train.drop('carheight', axis =1)\n",
    "car_copy = car_copy.drop('carheight', axis =1)"
   ]
  },
  {
   "cell_type": "code",
   "execution_count": null,
   "metadata": {},
   "outputs": [],
   "source": [
    "m7 = sm.OLS(y_train,X_train).fit()\n",
    "m7.summary()"
   ]
  },
  {
   "cell_type": "code",
   "execution_count": null,
   "metadata": {},
   "outputs": [],
   "source": [
    "vif_cal(input_data=car_copy, dependent_col=\"price\")"
   ]
  },
  {
   "cell_type": "markdown",
   "metadata": {},
   "source": [
    "#### Iteration 8"
   ]
  },
  {
   "cell_type": "code",
   "execution_count": null,
   "metadata": {
    "collapsed": true
   },
   "outputs": [],
   "source": [
    "# Dropping highly correlated variables and insignificant variables\n",
    "X_train = X_train.drop('fwd', axis =1)\n",
    "car_copy = car_copy.drop('fwd', axis =1)"
   ]
  },
  {
   "cell_type": "code",
   "execution_count": null,
   "metadata": {},
   "outputs": [],
   "source": [
    "m8 = sm.OLS(y_train,X_train).fit()\n",
    "m8.summary()"
   ]
  },
  {
   "cell_type": "code",
   "execution_count": null,
   "metadata": {},
   "outputs": [],
   "source": [
    "vif_cal(input_data=car_copy, dependent_col=\"price\")"
   ]
  },
  {
   "cell_type": "markdown",
   "metadata": {},
   "source": [
    "#### Iteration 9"
   ]
  },
  {
   "cell_type": "code",
   "execution_count": null,
   "metadata": {
    "collapsed": true
   },
   "outputs": [],
   "source": [
    "# Dropping highly correlated variables and insignificant variables\n",
    "X_train = X_train.drop('horsepower', axis =1)\n",
    "car_copy = car_copy.drop('horsepower', axis =1)"
   ]
  },
  {
   "cell_type": "code",
   "execution_count": null,
   "metadata": {},
   "outputs": [],
   "source": [
    "m9 = sm.OLS(y_train,X_train).fit()\n",
    "m9.summary()"
   ]
  },
  {
   "cell_type": "code",
   "execution_count": null,
   "metadata": {},
   "outputs": [],
   "source": [
    "vif_cal(input_data=car_copy, dependent_col=\"price\")"
   ]
  },
  {
   "cell_type": "markdown",
   "metadata": {},
   "source": [
    "#### Iteration 10"
   ]
  },
  {
   "cell_type": "code",
   "execution_count": null,
   "metadata": {
    "collapsed": true
   },
   "outputs": [],
   "source": [
    "# Dropping highly correlated variables and insignificant variables\n",
    "X_train = X_train.drop('aspiration', axis =1)\n",
    "car_copy = car_copy.drop('aspiration', axis =1)"
   ]
  },
  {
   "cell_type": "code",
   "execution_count": null,
   "metadata": {},
   "outputs": [],
   "source": [
    "m10 = sm.OLS(y_train,X_train).fit()\n",
    "m10.summary()"
   ]
  },
  {
   "cell_type": "code",
   "execution_count": null,
   "metadata": {},
   "outputs": [],
   "source": [
    "vif_cal(input_data=car_copy, dependent_col=\"price\")"
   ]
  },
  {
   "cell_type": "markdown",
   "metadata": {},
   "source": [
    "#### Iteration 11"
   ]
  },
  {
   "cell_type": "code",
   "execution_count": null,
   "metadata": {
    "collapsed": true
   },
   "outputs": [],
   "source": [
    "# Dropping highly correlated variables and insignificant variables\n",
    "X_train = X_train.drop('ohcv', axis =1)\n",
    "car_copy = car_copy.drop('ohcv', axis =1)"
   ]
  },
  {
   "cell_type": "code",
   "execution_count": null,
   "metadata": {},
   "outputs": [],
   "source": [
    "m11 = sm.OLS(y_train,X_train).fit()\n",
    "m11.summary()"
   ]
  },
  {
   "cell_type": "code",
   "execution_count": null,
   "metadata": {},
   "outputs": [],
   "source": [
    "vif_cal(input_data=car_copy, dependent_col=\"price\")"
   ]
  },
  {
   "cell_type": "markdown",
   "metadata": {},
   "source": [
    "#### Iteration 12"
   ]
  },
  {
   "cell_type": "code",
   "execution_count": null,
   "metadata": {
    "collapsed": true
   },
   "outputs": [],
   "source": [
    "# Dropping highly correlated variables and insignificant variables\n",
    "X_train = X_train.drop('2bbl', axis =1)\n",
    "car_copy = car_copy.drop('2bbl', axis =1)"
   ]
  },
  {
   "cell_type": "code",
   "execution_count": null,
   "metadata": {},
   "outputs": [],
   "source": [
    "m12 = sm.OLS(y_train,X_train).fit()\n",
    "m12.summary()"
   ]
  },
  {
   "cell_type": "code",
   "execution_count": null,
   "metadata": {},
   "outputs": [],
   "source": [
    "vif_cal(input_data=car_copy, dependent_col=\"price\")"
   ]
  },
  {
   "cell_type": "code",
   "execution_count": null,
   "metadata": {
    "collapsed": true
   },
   "outputs": [],
   "source": []
  },
  {
   "cell_type": "code",
   "execution_count": null,
   "metadata": {
    "collapsed": true
   },
   "outputs": [],
   "source": []
  },
  {
   "cell_type": "code",
   "execution_count": null,
   "metadata": {
    "collapsed": true
   },
   "outputs": [],
   "source": []
  },
  {
   "cell_type": "code",
   "execution_count": null,
   "metadata": {},
   "outputs": [],
   "source": [
    "# Making predictions\n",
    "X_test = X_test[X_train.columns]\n",
    "y_pred = m1.predict(X_test)"
   ]
  },
  {
   "cell_type": "code",
   "execution_count": null,
   "metadata": {},
   "outputs": [],
   "source": [
    "# computing rmse and r^2\n",
    "mse = mean_squared_error(y_test,y_pred)\n",
    "print(mse)\n",
    "r_square = r2_score(y_test,y_pred)\n",
    "print(r_square)"
   ]
  },
  {
   "cell_type": "code",
   "execution_count": null,
   "metadata": {
    "collapsed": true
   },
   "outputs": [],
   "source": [
    "#Backward Elimination with p-values only:\n",
    "\n",
    "import statsmodels.formula.api as sm\n",
    "def backwardElimination(x, sl):\n",
    "    numVars = len(x[0])\n",
    "    for i in range(0, numVars):\n",
    "        regressor_OLS = sm.OLS(y, x).fit()\n",
    "        maxVar = max(regressor_OLS.pvalues).astype(float)\n",
    "        if maxVar > sl:\n",
    "            for j in range(0, numVars - i):\n",
    "                if (regressor_OLS.pvalues[j].astype(float) == maxVar):\n",
    "                    x = np.delete(x, j, 1)\n",
    "    regressor_OLS.summary()\n",
    "    return x\n",
    " \n"
   ]
  },
  {
   "cell_type": "code",
   "execution_count": null,
   "metadata": {
    "collapsed": true
   },
   "outputs": [],
   "source": [
    "#Backward Elimination with p-values and Adjusted R Squared:\n",
    "\n",
    "import statsmodels.formula.api as sm\n",
    "def backwardElimination(X_train, SL,y_train):\n",
    "    numVars = len(X_train)\n",
    "    temp = np.zeros((X_train.shape)).astype(int)\n",
    "    for i in range(0, numVars):\n",
    "        regressor_OLS = sm.OLS(y_train,X_train).fit()\n",
    "        maxVar = max(regressor_OLS.pvalues).astype(float)\n",
    "        adjR_before = regressor_OLS.rsquared_adj.astype(float)\n",
    "        if maxVar > SL:\n",
    "            for j in range(0, numVars - i):\n",
    "                if (regressor_OLS.pvalues[j].astype(float) == maxVar):\n",
    "                    temp[:,j] = X_train[:, j]\n",
    "                    x = np.delete(x, j, 1)\n",
    "                    tmp_regressor = sm.OLS(y_train,X_train).fit()\n",
    "                    adjR_after = tmp_regressor.rsquared_adj.astype(float)\n",
    "                    if (adjR_before >= adjR_after):\n",
    "                        x_rollback = np.hstack((X_train, temp[:,[0,j]]))\n",
    "                        x_rollback = np.delete(x_rollback, j, 1)\n",
    "                        print (regressor_OLS.summary())\n",
    "                        return x_rollback\n",
    "                    else:\n",
    "                        continue\n",
    "    regressor_OLS.summary()\n",
    "    return x"
   ]
  },
  {
   "cell_type": "code",
   "execution_count": null,
   "metadata": {},
   "outputs": [],
   "source": [
    "SL = 0.05\n",
    "len(X_train)\n",
    "X_Modeled = backwardElimination(X_train, SL,y_train)"
   ]
  },
  {
   "cell_type": "code",
   "execution_count": null,
   "metadata": {
    "collapsed": true
   },
   "outputs": [],
   "source": []
  }
 ],
 "metadata": {
  "kernelspec": {
   "display_name": "Python 3",
   "language": "python",
   "name": "python3"
  },
  "language_info": {
   "codemirror_mode": {
    "name": "ipython",
    "version": 3
   },
   "file_extension": ".py",
   "mimetype": "text/x-python",
   "name": "python",
   "nbconvert_exporter": "python",
   "pygments_lexer": "ipython3",
   "version": "3.6.3"
  }
 },
 "nbformat": 4,
 "nbformat_minor": 2
}
