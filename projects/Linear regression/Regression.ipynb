{
 "cells": [
  {
   "cell_type": "markdown",
   "metadata": {},
   "source": [
    "# Regression: Car price Prediction\n",
    "***"
   ]
  },
  {
   "cell_type": "markdown",
   "metadata": {},
   "source": [
    "[I. Prerequisite](#prerequisite)\n",
    "\n",
    "[II. Import Libraries and set required parameters](#library)\n",
    "\n",
    "[III. Data Sourcing](#sourcing)\n",
    "\n",
    "[IV. Data Preprocessing](#preprocessing)\n",
    "\n",
    "[V. Exploratory Data Analysis](#eda)\n",
    "\n",
    "[VI. Convert Categorical Variables to Continuos](#cat)\n",
    "\n",
    "[VII. Feature Scaling](#scaling)\n",
    "\n",
    "[VII. Feature Selection](#feature)\n",
    "\n",
    "[VIII. Bivariate/Multivariate Analysis](#bivariate)\n",
    "\n",
    "[IX. Bivariate/Multivariate Analysis with Probability of Charged off](#bivariate_prob)\n",
    "\n",
    "[X. Conclusion](#Conclusion)"
   ]
  },
  {
   "cell_type": "markdown",
   "metadata": {},
   "source": [
    "<a id='prerequisite'></a>"
   ]
  },
  {
   "cell_type": "markdown",
   "metadata": {},
   "source": [
    "## I. Prerequisite"
   ]
  },
  {
   "cell_type": "markdown",
   "metadata": {},
   "source": [
    "1. Place 'CarPrice_Assignment.csv' input file at your current working directory before running this code.\n",
    "\n",
    "2. Please make sure that you have following python libraries imported/installed at your system:\n",
    "\n",
    "    * numpy version\t: 1.12.1 or higher\n",
    "    * pandas version\t: 0.20.3 or higher\n",
    "    * seaborn version\t: 0.8.0 or higher"
   ]
  },
  {
   "cell_type": "markdown",
   "metadata": {},
   "source": [
    "<a id='library'></a>"
   ]
  },
  {
   "cell_type": "markdown",
   "metadata": {},
   "source": [
    "## II. Import Libraries and set required parameters"
   ]
  },
  {
   "cell_type": "code",
   "execution_count": 868,
   "metadata": {
    "collapsed": true,
    "scrolled": false
   },
   "outputs": [],
   "source": [
    "import numpy as np\n",
    "import pandas as pd\n",
    "import matplotlib.pyplot as plt\n",
    "%matplotlib inline\n",
    "\n",
    "import seaborn as sns\n",
    "# train-test split\n",
    "from sklearn.model_selection import train_test_split\n",
    "\n",
    "# LinearRegression\n",
    "from sklearn.linear_model import LinearRegression\n",
    "\n",
    "# rmse and r-square\n",
    "from sklearn.metrics import mean_squared_error, r2_score\n",
    "\n",
    "pd.options.mode.chained_assignment = None #set it to None to remove SettingWithCopyWarning\n",
    "pd.options.display.float_format = '{:.3f}'.format #set it to convert scientific noations such as 4.225108e+11 to 422510842796.00\n",
    "pd.set_option('display.max_columns', 100) # to display all the columns\n",
    "import warnings\n",
    "warnings.filterwarnings('ignore') # if there are any warning due to version mismatch, it will be ignored"
   ]
  },
  {
   "cell_type": "markdown",
   "metadata": {},
   "source": [
    "<a id='sourcing'></a>"
   ]
  },
  {
   "cell_type": "markdown",
   "metadata": {},
   "source": [
    "## III. Data Sourcing"
   ]
  },
  {
   "cell_type": "code",
   "execution_count": 869,
   "metadata": {
    "scrolled": false
   },
   "outputs": [
    {
     "name": "stdout",
     "output_type": "stream",
     "text": [
      "Rows & Columns :: (205, 26)\n"
     ]
    },
    {
     "data": {
      "text/html": [
       "<div>\n",
       "<style>\n",
       "    .dataframe thead tr:only-child th {\n",
       "        text-align: right;\n",
       "    }\n",
       "\n",
       "    .dataframe thead th {\n",
       "        text-align: left;\n",
       "    }\n",
       "\n",
       "    .dataframe tbody tr th {\n",
       "        vertical-align: top;\n",
       "    }\n",
       "</style>\n",
       "<table border=\"1\" class=\"dataframe\">\n",
       "  <thead>\n",
       "    <tr style=\"text-align: right;\">\n",
       "      <th></th>\n",
       "      <th>car_ID</th>\n",
       "      <th>symboling</th>\n",
       "      <th>CarName</th>\n",
       "      <th>fueltype</th>\n",
       "      <th>aspiration</th>\n",
       "      <th>doornumber</th>\n",
       "      <th>carbody</th>\n",
       "      <th>drivewheel</th>\n",
       "      <th>enginelocation</th>\n",
       "      <th>wheelbase</th>\n",
       "      <th>carlength</th>\n",
       "      <th>carwidth</th>\n",
       "      <th>carheight</th>\n",
       "      <th>curbweight</th>\n",
       "      <th>enginetype</th>\n",
       "      <th>cylindernumber</th>\n",
       "      <th>enginesize</th>\n",
       "      <th>fuelsystem</th>\n",
       "      <th>boreratio</th>\n",
       "      <th>stroke</th>\n",
       "      <th>compressionratio</th>\n",
       "      <th>horsepower</th>\n",
       "      <th>peakrpm</th>\n",
       "      <th>citympg</th>\n",
       "      <th>highwaympg</th>\n",
       "      <th>price</th>\n",
       "    </tr>\n",
       "  </thead>\n",
       "  <tbody>\n",
       "    <tr>\n",
       "      <th>0</th>\n",
       "      <td>1</td>\n",
       "      <td>3</td>\n",
       "      <td>alfa-romero giulia</td>\n",
       "      <td>gas</td>\n",
       "      <td>std</td>\n",
       "      <td>two</td>\n",
       "      <td>convertible</td>\n",
       "      <td>rwd</td>\n",
       "      <td>front</td>\n",
       "      <td>88.600</td>\n",
       "      <td>168.800</td>\n",
       "      <td>64.100</td>\n",
       "      <td>48.800</td>\n",
       "      <td>2548</td>\n",
       "      <td>dohc</td>\n",
       "      <td>four</td>\n",
       "      <td>130</td>\n",
       "      <td>mpfi</td>\n",
       "      <td>3.470</td>\n",
       "      <td>2.680</td>\n",
       "      <td>9.000</td>\n",
       "      <td>111</td>\n",
       "      <td>5000</td>\n",
       "      <td>21</td>\n",
       "      <td>27</td>\n",
       "      <td>13495.000</td>\n",
       "    </tr>\n",
       "    <tr>\n",
       "      <th>1</th>\n",
       "      <td>2</td>\n",
       "      <td>3</td>\n",
       "      <td>alfa-romero stelvio</td>\n",
       "      <td>gas</td>\n",
       "      <td>std</td>\n",
       "      <td>two</td>\n",
       "      <td>convertible</td>\n",
       "      <td>rwd</td>\n",
       "      <td>front</td>\n",
       "      <td>88.600</td>\n",
       "      <td>168.800</td>\n",
       "      <td>64.100</td>\n",
       "      <td>48.800</td>\n",
       "      <td>2548</td>\n",
       "      <td>dohc</td>\n",
       "      <td>four</td>\n",
       "      <td>130</td>\n",
       "      <td>mpfi</td>\n",
       "      <td>3.470</td>\n",
       "      <td>2.680</td>\n",
       "      <td>9.000</td>\n",
       "      <td>111</td>\n",
       "      <td>5000</td>\n",
       "      <td>21</td>\n",
       "      <td>27</td>\n",
       "      <td>16500.000</td>\n",
       "    </tr>\n",
       "    <tr>\n",
       "      <th>2</th>\n",
       "      <td>3</td>\n",
       "      <td>1</td>\n",
       "      <td>alfa-romero Quadrifoglio</td>\n",
       "      <td>gas</td>\n",
       "      <td>std</td>\n",
       "      <td>two</td>\n",
       "      <td>hatchback</td>\n",
       "      <td>rwd</td>\n",
       "      <td>front</td>\n",
       "      <td>94.500</td>\n",
       "      <td>171.200</td>\n",
       "      <td>65.500</td>\n",
       "      <td>52.400</td>\n",
       "      <td>2823</td>\n",
       "      <td>ohcv</td>\n",
       "      <td>six</td>\n",
       "      <td>152</td>\n",
       "      <td>mpfi</td>\n",
       "      <td>2.680</td>\n",
       "      <td>3.470</td>\n",
       "      <td>9.000</td>\n",
       "      <td>154</td>\n",
       "      <td>5000</td>\n",
       "      <td>19</td>\n",
       "      <td>26</td>\n",
       "      <td>16500.000</td>\n",
       "    </tr>\n",
       "    <tr>\n",
       "      <th>3</th>\n",
       "      <td>4</td>\n",
       "      <td>2</td>\n",
       "      <td>audi 100 ls</td>\n",
       "      <td>gas</td>\n",
       "      <td>std</td>\n",
       "      <td>four</td>\n",
       "      <td>sedan</td>\n",
       "      <td>fwd</td>\n",
       "      <td>front</td>\n",
       "      <td>99.800</td>\n",
       "      <td>176.600</td>\n",
       "      <td>66.200</td>\n",
       "      <td>54.300</td>\n",
       "      <td>2337</td>\n",
       "      <td>ohc</td>\n",
       "      <td>four</td>\n",
       "      <td>109</td>\n",
       "      <td>mpfi</td>\n",
       "      <td>3.190</td>\n",
       "      <td>3.400</td>\n",
       "      <td>10.000</td>\n",
       "      <td>102</td>\n",
       "      <td>5500</td>\n",
       "      <td>24</td>\n",
       "      <td>30</td>\n",
       "      <td>13950.000</td>\n",
       "    </tr>\n",
       "    <tr>\n",
       "      <th>4</th>\n",
       "      <td>5</td>\n",
       "      <td>2</td>\n",
       "      <td>audi 100ls</td>\n",
       "      <td>gas</td>\n",
       "      <td>std</td>\n",
       "      <td>four</td>\n",
       "      <td>sedan</td>\n",
       "      <td>4wd</td>\n",
       "      <td>front</td>\n",
       "      <td>99.400</td>\n",
       "      <td>176.600</td>\n",
       "      <td>66.400</td>\n",
       "      <td>54.300</td>\n",
       "      <td>2824</td>\n",
       "      <td>ohc</td>\n",
       "      <td>five</td>\n",
       "      <td>136</td>\n",
       "      <td>mpfi</td>\n",
       "      <td>3.190</td>\n",
       "      <td>3.400</td>\n",
       "      <td>8.000</td>\n",
       "      <td>115</td>\n",
       "      <td>5500</td>\n",
       "      <td>18</td>\n",
       "      <td>22</td>\n",
       "      <td>17450.000</td>\n",
       "    </tr>\n",
       "  </tbody>\n",
       "</table>\n",
       "</div>"
      ],
      "text/plain": [
       "   car_ID  symboling                   CarName fueltype aspiration doornumber  \\\n",
       "0       1          3        alfa-romero giulia      gas        std        two   \n",
       "1       2          3       alfa-romero stelvio      gas        std        two   \n",
       "2       3          1  alfa-romero Quadrifoglio      gas        std        two   \n",
       "3       4          2               audi 100 ls      gas        std       four   \n",
       "4       5          2                audi 100ls      gas        std       four   \n",
       "\n",
       "       carbody drivewheel enginelocation  wheelbase  carlength  carwidth  \\\n",
       "0  convertible        rwd          front     88.600    168.800    64.100   \n",
       "1  convertible        rwd          front     88.600    168.800    64.100   \n",
       "2    hatchback        rwd          front     94.500    171.200    65.500   \n",
       "3        sedan        fwd          front     99.800    176.600    66.200   \n",
       "4        sedan        4wd          front     99.400    176.600    66.400   \n",
       "\n",
       "   carheight  curbweight enginetype cylindernumber  enginesize fuelsystem  \\\n",
       "0     48.800        2548       dohc           four         130       mpfi   \n",
       "1     48.800        2548       dohc           four         130       mpfi   \n",
       "2     52.400        2823       ohcv            six         152       mpfi   \n",
       "3     54.300        2337        ohc           four         109       mpfi   \n",
       "4     54.300        2824        ohc           five         136       mpfi   \n",
       "\n",
       "   boreratio  stroke  compressionratio  horsepower  peakrpm  citympg  \\\n",
       "0      3.470   2.680             9.000         111     5000       21   \n",
       "1      3.470   2.680             9.000         111     5000       21   \n",
       "2      2.680   3.470             9.000         154     5000       19   \n",
       "3      3.190   3.400            10.000         102     5500       24   \n",
       "4      3.190   3.400             8.000         115     5500       18   \n",
       "\n",
       "   highwaympg     price  \n",
       "0          27 13495.000  \n",
       "1          27 16500.000  \n",
       "2          26 16500.000  \n",
       "3          30 13950.000  \n",
       "4          22 17450.000  "
      ]
     },
     "execution_count": 869,
     "metadata": {},
     "output_type": "execute_result"
    }
   ],
   "source": [
    "car = pd.read_csv('CarPrice_Assignment.csv')\n",
    "print('Rows & Columns ::',car.shape)\n",
    "car.head()"
   ]
  },
  {
   "cell_type": "markdown",
   "metadata": {},
   "source": [
    "<a id='preprocessing'></a>"
   ]
  },
  {
   "cell_type": "markdown",
   "metadata": {},
   "source": [
    "## IV. Data Preprocessing"
   ]
  },
  {
   "cell_type": "code",
   "execution_count": 870,
   "metadata": {
    "scrolled": false
   },
   "outputs": [
    {
     "data": {
      "text/plain": [
       "0"
      ]
     },
     "execution_count": 870,
     "metadata": {},
     "output_type": "execute_result"
    }
   ],
   "source": [
    "# check if there are any null values\n",
    "car.isnull().sum().sum()"
   ]
  },
  {
   "cell_type": "code",
   "execution_count": 871,
   "metadata": {
    "scrolled": false
   },
   "outputs": [
    {
     "data": {
      "text/plain": [
       "Index(['symboling'], dtype='object')"
      ]
     },
     "execution_count": 871,
     "metadata": {},
     "output_type": "execute_result"
    }
   ],
   "source": [
    "# check if there are any negative values(in numeric columns)\n",
    "numeric_columns = car.select_dtypes(include=['number'])\n",
    "numeric_columns.columns[(numeric_columns < 0).any()]"
   ]
  },
  {
   "cell_type": "code",
   "execution_count": 872,
   "metadata": {
    "collapsed": true,
    "scrolled": false
   },
   "outputs": [],
   "source": [
    "# As per the problem statement variable name 'CarName'  comprised of two parts:\n",
    "# first word is the name of 'car company' and the second is the 'car model'.\n",
    "car['company'],car['model'] = car['CarName'].str.split(' ', 1).str"
   ]
  },
  {
   "cell_type": "code",
   "execution_count": 873,
   "metadata": {
    "scrolled": false
   },
   "outputs": [
    {
     "data": {
      "text/html": [
       "<div>\n",
       "<style>\n",
       "    .dataframe thead tr:only-child th {\n",
       "        text-align: right;\n",
       "    }\n",
       "\n",
       "    .dataframe thead th {\n",
       "        text-align: left;\n",
       "    }\n",
       "\n",
       "    .dataframe tbody tr th {\n",
       "        vertical-align: top;\n",
       "    }\n",
       "</style>\n",
       "<table border=\"1\" class=\"dataframe\">\n",
       "  <thead>\n",
       "    <tr style=\"text-align: right;\">\n",
       "      <th></th>\n",
       "      <th>CarName</th>\n",
       "      <th>company</th>\n",
       "    </tr>\n",
       "  </thead>\n",
       "  <tbody>\n",
       "    <tr>\n",
       "      <th>103</th>\n",
       "      <td>nissan otti</td>\n",
       "      <td>nissan</td>\n",
       "    </tr>\n",
       "    <tr>\n",
       "      <th>151</th>\n",
       "      <td>toyota corona</td>\n",
       "      <td>toyota</td>\n",
       "    </tr>\n",
       "    <tr>\n",
       "      <th>7</th>\n",
       "      <td>audi 5000</td>\n",
       "      <td>audi</td>\n",
       "    </tr>\n",
       "    <tr>\n",
       "      <th>11</th>\n",
       "      <td>bmw 320i</td>\n",
       "      <td>bmw</td>\n",
       "    </tr>\n",
       "  </tbody>\n",
       "</table>\n",
       "</div>"
      ],
      "text/plain": [
       "           CarName company\n",
       "103    nissan otti  nissan\n",
       "151  toyota corona  toyota\n",
       "7        audi 5000    audi\n",
       "11        bmw 320i     bmw"
      ]
     },
     "execution_count": 873,
     "metadata": {},
     "output_type": "execute_result"
    }
   ],
   "source": [
    "car[['CarName','company']].sample(4)"
   ]
  },
  {
   "cell_type": "code",
   "execution_count": 874,
   "metadata": {
    "collapsed": true,
    "scrolled": false
   },
   "outputs": [],
   "source": [
    "# drop CarName column now\n",
    "car.drop(labels=['CarName','model'],axis=1, inplace=True)"
   ]
  },
  {
   "cell_type": "markdown",
   "metadata": {},
   "source": [
    "### data quality issues"
   ]
  },
  {
   "cell_type": "code",
   "execution_count": 875,
   "metadata": {
    "scrolled": false
   },
   "outputs": [
    {
     "data": {
      "text/plain": [
       "array(['alfa-romero', 'audi', 'bmw', 'chevrolet', 'dodge', 'honda',\n",
       "       'isuzu', 'jaguar', 'maxda', 'mazda', 'buick', 'mercury',\n",
       "       'mitsubishi', 'Nissan', 'nissan', 'peugeot', 'plymouth', 'porsche',\n",
       "       'porcshce', 'renault', 'saab', 'subaru', 'toyota', 'toyouta',\n",
       "       'vokswagen', 'volkswagen', 'vw', 'volvo'], dtype=object)"
      ]
     },
     "execution_count": 875,
     "metadata": {},
     "output_type": "execute_result"
    }
   ],
   "source": [
    "# data cleaning in company column\n",
    "car.company.unique()\n",
    "# mazda is mis-spelled as maxda\n",
    "# toyota is mis-spelled as toyouta\n",
    "# porsche is mis-spelled as porcshce\n",
    "# volkswagen is mis-spelled as vokswagen\n",
    "# volkswagen in short form written as vw\n",
    "# Nissan & nissan considered as two differnt company"
   ]
  },
  {
   "cell_type": "code",
   "execution_count": 876,
   "metadata": {
    "collapsed": true,
    "scrolled": false
   },
   "outputs": [],
   "source": [
    "car['company'] = car['company'].str.lower()\n",
    "car['company'] = car.loc[:, 'company'].replace(['maxda', 'toyouta', 'porcshce','vokswagen','vw'], \\\n",
    "                              ['mazda', 'toyota', 'porsche','volkswagen','volkswagen'])"
   ]
  },
  {
   "cell_type": "code",
   "execution_count": 877,
   "metadata": {
    "scrolled": false
   },
   "outputs": [
    {
     "data": {
      "text/plain": [
       "array(['alfa-romero', 'audi', 'bmw', 'chevrolet', 'dodge', 'honda',\n",
       "       'isuzu', 'jaguar', 'mazda', 'buick', 'mercury', 'mitsubishi',\n",
       "       'nissan', 'peugeot', 'plymouth', 'porsche', 'renault', 'saab',\n",
       "       'subaru', 'toyota', 'volkswagen', 'volvo'], dtype=object)"
      ]
     },
     "execution_count": 877,
     "metadata": {},
     "output_type": "execute_result"
    }
   ],
   "source": [
    "car.company.unique()"
   ]
  },
  {
   "cell_type": "markdown",
   "metadata": {},
   "source": [
    "<a id='eda'></a>"
   ]
  },
  {
   "cell_type": "markdown",
   "metadata": {},
   "source": [
    "## V. Exploratory Data Analysis"
   ]
  },
  {
   "cell_type": "markdown",
   "metadata": {},
   "source": [
    "### Univariate Analysis"
   ]
  },
  {
   "cell_type": "markdown",
   "metadata": {},
   "source": [
    "##### Car price Distribution"
   ]
  },
  {
   "cell_type": "code",
   "execution_count": 878,
   "metadata": {
    "scrolled": false
   },
   "outputs": [
    {
     "data": {
      "image/png": "[encoded data removed]",
      "text/plain": [
       "<matplotlib.figure.Figure at 0x1fab6b98e80>"
      ]
     },
     "metadata": {},
     "output_type": "display_data"
    }
   ],
   "source": [
    "fig, ax=plt.subplots(nrows =1,ncols=3,figsize=(20,8))\n",
    "sns.set(style=\"darkgrid\")\n",
    "ax[0].set_title(\"Distribution Plot\")\n",
    "sns.distplot(car['price'],ax=ax[0])\n",
    "ax[1].set_title(\"Violin Plot\")\n",
    "sns.violinplot(car['price'],ax=ax[1], inner=\"quartile\")\n",
    "ax[2].set_title(\"Box Plot\")\n",
    "sns.boxplot(car['price'],ax=ax[2])\n",
    "plt.show()"
   ]
  },
  {
   "cell_type": "markdown",
   "metadata": {},
   "source": [
    "<font color='blue'><b>Insights</b>: Most of the car prices are distributed between 5000 to 15000 USD.</font> "
   ]
  },
  {
   "cell_type": "markdown",
   "metadata": {},
   "source": [
    "##### Pie Chart of different categorical variables."
   ]
  },
  {
   "cell_type": "code",
   "execution_count": 879,
   "metadata": {
    "scrolled": false
   },
   "outputs": [
    {
     "data": {
      "image/png": "[encoded data removed]",
      "text/plain": [
       "<matplotlib.figure.Figure at 0x1fab6a12080>"
      ]
     },
     "metadata": {},
     "output_type": "display_data"
    }
   ],
   "source": [
    "fig, ax = plt.subplots(nrows=1, ncols=3,figsize=(21,7))\n",
    "car['cylindernumber'].value_counts().plot.pie(autopct='%.2f',ax=ax[0])\n",
    "ax[0].set_title(\"No of Cylinders\")\n",
    "car['fueltype'].value_counts().plot.pie(autopct='%.2f',ax=ax[1])\n",
    "ax[1].set_title(\"Fuel type\")\n",
    "car['enginetype'].value_counts().plot.pie(autopct='%.2f',ax=ax[2])\n",
    "ax[2].set_title(\"Engine type\")\n",
    "plt.show()"
   ]
  },
  {
   "cell_type": "markdown",
   "metadata": {},
   "source": [
    "<font color='blue'><b>Insights::</b></font> \n",
    "1. __77%__ of the cars have __four__ cylinders.\n",
    "2. __90%__ of the cars have __gas__ as a fuel type.\n",
    "3. __72%__ of the cars have __ohc__ engine type."
   ]
  },
  {
   "cell_type": "markdown",
   "metadata": {},
   "source": [
    "##### Heatmap :: Correlation between continuos variables."
   ]
  },
  {
   "cell_type": "code",
   "execution_count": 880,
   "metadata": {
    "scrolled": false
   },
   "outputs": [
    {
     "data": {
      "image/png": "[encoded data removed]",
      "text/plain": [
       "<matplotlib.figure.Figure at 0x1fab3f8dda0>"
      ]
     },
     "metadata": {},
     "output_type": "display_data"
    }
   ],
   "source": [
    "corr = car.corr()\n",
    "plt.figure(figsize=(17,9))\n",
    "ax = sns.heatmap(corr, annot=True)\n",
    "rotx = ax.set_xticklabels(ax.get_xticklabels(), rotation=90)\n",
    "roty = ax.set_yticklabels(ax.get_yticklabels(), rotation=30)"
   ]
  },
  {
   "cell_type": "markdown",
   "metadata": {},
   "source": [
    "#### Insights:\n",
    "1. Price is more correlated with engine size and curb weight of the car\n",
    "2. Curb weight is mostly correlated with car length & car width.\n",
    "3. Wheel base is highly correlated with car length & car width."
   ]
  },
  {
   "cell_type": "code",
   "execution_count": 881,
   "metadata": {
    "collapsed": true,
    "scrolled": false
   },
   "outputs": [],
   "source": [
    "#car.select_dtypes(exclude=['number']).head()\n",
    "# Alternatively we can use the below statement as well to get the categorical columns\n",
    "#car.select_dtypes(include=['object']).head()"
   ]
  },
  {
   "cell_type": "code",
   "execution_count": 882,
   "metadata": {
    "collapsed": true,
    "scrolled": false
   },
   "outputs": [],
   "source": [
    "#derived metrics\n"
   ]
  },
  {
   "cell_type": "code",
   "execution_count": 883,
   "metadata": {
    "scrolled": false
   },
   "outputs": [
    {
     "data": {
      "text/html": [
       "<div>\n",
       "<style>\n",
       "    .dataframe thead tr:only-child th {\n",
       "        text-align: right;\n",
       "    }\n",
       "\n",
       "    .dataframe thead th {\n",
       "        text-align: left;\n",
       "    }\n",
       "\n",
       "    .dataframe tbody tr th {\n",
       "        vertical-align: top;\n",
       "    }\n",
       "</style>\n",
       "<table border=\"1\" class=\"dataframe\">\n",
       "  <thead>\n",
       "    <tr style=\"text-align: right;\">\n",
       "      <th></th>\n",
       "      <th>car_ID</th>\n",
       "      <th>symboling</th>\n",
       "      <th>fueltype</th>\n",
       "      <th>aspiration</th>\n",
       "      <th>doornumber</th>\n",
       "      <th>carbody</th>\n",
       "      <th>drivewheel</th>\n",
       "      <th>enginelocation</th>\n",
       "      <th>wheelbase</th>\n",
       "      <th>carlength</th>\n",
       "      <th>carwidth</th>\n",
       "      <th>carheight</th>\n",
       "      <th>curbweight</th>\n",
       "      <th>enginetype</th>\n",
       "      <th>cylindernumber</th>\n",
       "      <th>enginesize</th>\n",
       "      <th>fuelsystem</th>\n",
       "      <th>boreratio</th>\n",
       "      <th>stroke</th>\n",
       "      <th>compressionratio</th>\n",
       "      <th>horsepower</th>\n",
       "      <th>peakrpm</th>\n",
       "      <th>citympg</th>\n",
       "      <th>highwaympg</th>\n",
       "      <th>price</th>\n",
       "      <th>company</th>\n",
       "    </tr>\n",
       "  </thead>\n",
       "  <tbody>\n",
       "    <tr>\n",
       "      <th>169</th>\n",
       "      <td>170</td>\n",
       "      <td>2</td>\n",
       "      <td>gas</td>\n",
       "      <td>std</td>\n",
       "      <td>two</td>\n",
       "      <td>hatchback</td>\n",
       "      <td>rwd</td>\n",
       "      <td>front</td>\n",
       "      <td>98.400</td>\n",
       "      <td>176.200</td>\n",
       "      <td>65.600</td>\n",
       "      <td>52.000</td>\n",
       "      <td>2551</td>\n",
       "      <td>ohc</td>\n",
       "      <td>four</td>\n",
       "      <td>146</td>\n",
       "      <td>mpfi</td>\n",
       "      <td>3.620</td>\n",
       "      <td>3.500</td>\n",
       "      <td>9.300</td>\n",
       "      <td>116</td>\n",
       "      <td>4800</td>\n",
       "      <td>24</td>\n",
       "      <td>30</td>\n",
       "      <td>9989.000</td>\n",
       "      <td>toyota</td>\n",
       "    </tr>\n",
       "    <tr>\n",
       "      <th>69</th>\n",
       "      <td>70</td>\n",
       "      <td>0</td>\n",
       "      <td>diesel</td>\n",
       "      <td>turbo</td>\n",
       "      <td>two</td>\n",
       "      <td>hardtop</td>\n",
       "      <td>rwd</td>\n",
       "      <td>front</td>\n",
       "      <td>106.700</td>\n",
       "      <td>187.500</td>\n",
       "      <td>70.300</td>\n",
       "      <td>54.900</td>\n",
       "      <td>3495</td>\n",
       "      <td>ohc</td>\n",
       "      <td>five</td>\n",
       "      <td>183</td>\n",
       "      <td>idi</td>\n",
       "      <td>3.580</td>\n",
       "      <td>3.640</td>\n",
       "      <td>21.500</td>\n",
       "      <td>123</td>\n",
       "      <td>4350</td>\n",
       "      <td>22</td>\n",
       "      <td>25</td>\n",
       "      <td>28176.000</td>\n",
       "      <td>buick</td>\n",
       "    </tr>\n",
       "    <tr>\n",
       "      <th>1</th>\n",
       "      <td>2</td>\n",
       "      <td>3</td>\n",
       "      <td>gas</td>\n",
       "      <td>std</td>\n",
       "      <td>two</td>\n",
       "      <td>convertible</td>\n",
       "      <td>rwd</td>\n",
       "      <td>front</td>\n",
       "      <td>88.600</td>\n",
       "      <td>168.800</td>\n",
       "      <td>64.100</td>\n",
       "      <td>48.800</td>\n",
       "      <td>2548</td>\n",
       "      <td>dohc</td>\n",
       "      <td>four</td>\n",
       "      <td>130</td>\n",
       "      <td>mpfi</td>\n",
       "      <td>3.470</td>\n",
       "      <td>2.680</td>\n",
       "      <td>9.000</td>\n",
       "      <td>111</td>\n",
       "      <td>5000</td>\n",
       "      <td>21</td>\n",
       "      <td>27</td>\n",
       "      <td>16500.000</td>\n",
       "      <td>alfa-romero</td>\n",
       "    </tr>\n",
       "    <tr>\n",
       "      <th>148</th>\n",
       "      <td>149</td>\n",
       "      <td>0</td>\n",
       "      <td>gas</td>\n",
       "      <td>std</td>\n",
       "      <td>four</td>\n",
       "      <td>wagon</td>\n",
       "      <td>4wd</td>\n",
       "      <td>front</td>\n",
       "      <td>96.900</td>\n",
       "      <td>173.600</td>\n",
       "      <td>65.400</td>\n",
       "      <td>54.900</td>\n",
       "      <td>2420</td>\n",
       "      <td>ohcf</td>\n",
       "      <td>four</td>\n",
       "      <td>108</td>\n",
       "      <td>2bbl</td>\n",
       "      <td>3.620</td>\n",
       "      <td>2.640</td>\n",
       "      <td>9.000</td>\n",
       "      <td>82</td>\n",
       "      <td>4800</td>\n",
       "      <td>23</td>\n",
       "      <td>29</td>\n",
       "      <td>8013.000</td>\n",
       "      <td>subaru</td>\n",
       "    </tr>\n",
       "    <tr>\n",
       "      <th>204</th>\n",
       "      <td>205</td>\n",
       "      <td>-1</td>\n",
       "      <td>gas</td>\n",
       "      <td>turbo</td>\n",
       "      <td>four</td>\n",
       "      <td>sedan</td>\n",
       "      <td>rwd</td>\n",
       "      <td>front</td>\n",
       "      <td>109.100</td>\n",
       "      <td>188.800</td>\n",
       "      <td>68.900</td>\n",
       "      <td>55.500</td>\n",
       "      <td>3062</td>\n",
       "      <td>ohc</td>\n",
       "      <td>four</td>\n",
       "      <td>141</td>\n",
       "      <td>mpfi</td>\n",
       "      <td>3.780</td>\n",
       "      <td>3.150</td>\n",
       "      <td>9.500</td>\n",
       "      <td>114</td>\n",
       "      <td>5400</td>\n",
       "      <td>19</td>\n",
       "      <td>25</td>\n",
       "      <td>22625.000</td>\n",
       "      <td>volvo</td>\n",
       "    </tr>\n",
       "  </tbody>\n",
       "</table>\n",
       "</div>"
      ],
      "text/plain": [
       "     car_ID  symboling fueltype aspiration doornumber      carbody drivewheel  \\\n",
       "169     170          2      gas        std        two    hatchback        rwd   \n",
       "69       70          0   diesel      turbo        two      hardtop        rwd   \n",
       "1         2          3      gas        std        two  convertible        rwd   \n",
       "148     149          0      gas        std       four        wagon        4wd   \n",
       "204     205         -1      gas      turbo       four        sedan        rwd   \n",
       "\n",
       "    enginelocation  wheelbase  carlength  carwidth  carheight  curbweight  \\\n",
       "169          front     98.400    176.200    65.600     52.000        2551   \n",
       "69           front    106.700    187.500    70.300     54.900        3495   \n",
       "1            front     88.600    168.800    64.100     48.800        2548   \n",
       "148          front     96.900    173.600    65.400     54.900        2420   \n",
       "204          front    109.100    188.800    68.900     55.500        3062   \n",
       "\n",
       "    enginetype cylindernumber  enginesize fuelsystem  boreratio  stroke  \\\n",
       "169        ohc           four         146       mpfi      3.620   3.500   \n",
       "69         ohc           five         183        idi      3.580   3.640   \n",
       "1         dohc           four         130       mpfi      3.470   2.680   \n",
       "148       ohcf           four         108       2bbl      3.620   2.640   \n",
       "204        ohc           four         141       mpfi      3.780   3.150   \n",
       "\n",
       "     compressionratio  horsepower  peakrpm  citympg  highwaympg     price  \\\n",
       "169             9.300         116     4800       24          30  9989.000   \n",
       "69             21.500         123     4350       22          25 28176.000   \n",
       "1               9.000         111     5000       21          27 16500.000   \n",
       "148             9.000          82     4800       23          29  8013.000   \n",
       "204             9.500         114     5400       19          25 22625.000   \n",
       "\n",
       "         company  \n",
       "169       toyota  \n",
       "69         buick  \n",
       "1    alfa-romero  \n",
       "148       subaru  \n",
       "204        volvo  "
      ]
     },
     "execution_count": 883,
     "metadata": {},
     "output_type": "execute_result"
    }
   ],
   "source": [
    "car.sample(5)"
   ]
  },
  {
   "cell_type": "code",
   "execution_count": 884,
   "metadata": {
    "scrolled": false
   },
   "outputs": [
    {
     "data": {
      "image/png": "[encoded data removed]",
      "text/plain": [
       "<matplotlib.figure.Figure at 0x1fab9709748>"
      ]
     },
     "metadata": {},
     "output_type": "display_data"
    }
   ],
   "source": [
    "fig, ax=plt.subplots(nrows =1,ncols=2,figsize=(20,7))\n",
    "ax[0].set_title('Engine Size vs Price',fontsize=16,weight=\"bold\")\n",
    "sns.regplot(x='enginesize',y='price', data =car,ax=ax[0])\n",
    "ax[1].set_title(\"Curb Weight vs Price\",fontsize=16,weight=\"bold\")\n",
    "sns.regplot(x='curbweight',y='price', data =car,ax=ax[1])\n",
    "plt.show()"
   ]
  },
  {
   "cell_type": "markdown",
   "metadata": {},
   "source": [
    "### Bivariate/Multivariate Analysis"
   ]
  },
  {
   "cell_type": "code",
   "execution_count": 885,
   "metadata": {
    "scrolled": false
   },
   "outputs": [
    {
     "data": {
      "text/plain": [
       "Index(['car_ID', 'symboling', 'fueltype', 'aspiration', 'doornumber',\n",
       "       'carbody', 'drivewheel', 'enginelocation', 'wheelbase', 'carlength',\n",
       "       'carwidth', 'carheight', 'curbweight', 'enginetype', 'cylindernumber',\n",
       "       'enginesize', 'fuelsystem', 'boreratio', 'stroke', 'compressionratio',\n",
       "       'horsepower', 'peakrpm', 'citympg', 'highwaympg', 'price', 'company'],\n",
       "      dtype='object')"
      ]
     },
     "execution_count": 885,
     "metadata": {},
     "output_type": "execute_result"
    }
   ],
   "source": [
    "car.columns"
   ]
  },
  {
   "cell_type": "code",
   "execution_count": null,
   "metadata": {
    "collapsed": true,
    "scrolled": false
   },
   "outputs": [],
   "source": []
  },
  {
   "cell_type": "code",
   "execution_count": 886,
   "metadata": {
    "scrolled": false
   },
   "outputs": [
    {
     "data": {
      "image/png": "[encoded data removed]",
      "text/plain": [
       "<matplotlib.figure.Figure at 0x1fab9d3bcf8>"
      ]
     },
     "metadata": {},
     "output_type": "display_data"
    }
   ],
   "source": [
    "# Price distribution of the cars company-wise\n",
    "plt.figure(figsize=(18,9))\n",
    "ax = sns.boxplot(x='company',y='price',data=car)\n",
    "ax.set_title('Company vs Price distribution',fontsize=18,weight=\"bold\")\n",
    "rotx = ax.set_xticklabels(ax.get_xticklabels(), rotation=45)"
   ]
  },
  {
   "cell_type": "code",
   "execution_count": 887,
   "metadata": {
    "scrolled": false
   },
   "outputs": [
    {
     "data": {
      "image/png": "[encoded data removed]",
      "text/plain": [
       "<matplotlib.figure.Figure at 0x1fab3854240>"
      ]
     },
     "metadata": {},
     "output_type": "display_data"
    }
   ],
   "source": [
    "plt.figure(figsize=(20,8))\n",
    "sns.countplot(data = car, x = 'company',hue='carbody')\n",
    "plt.title('Company wise count for each type of carbody',fontsize=18,weight=\"bold\")\n",
    "plt.show()"
   ]
  },
  {
   "cell_type": "markdown",
   "metadata": {},
   "source": [
    "##### Company/Engine Size vs ['price','carwidth','horsepower','citympg', 'highwaympg']"
   ]
  },
  {
   "cell_type": "code",
   "execution_count": 888,
   "metadata": {
    "scrolled": false
   },
   "outputs": [
    {
     "data": {
      "text/html": [
       "<div>\n",
       "<style>\n",
       "    .dataframe thead tr:only-child th {\n",
       "        text-align: right;\n",
       "    }\n",
       "\n",
       "    .dataframe thead th {\n",
       "        text-align: left;\n",
       "    }\n",
       "\n",
       "    .dataframe tbody tr th {\n",
       "        vertical-align: top;\n",
       "    }\n",
       "</style>\n",
       "<table border=\"1\" class=\"dataframe\">\n",
       "  <thead>\n",
       "    <tr>\n",
       "      <th>company</th>\n",
       "      <th colspan=\"2\" halign=\"left\">alfa-romero</th>\n",
       "      <th colspan=\"3\" halign=\"left\">audi</th>\n",
       "      <th colspan=\"3\" halign=\"left\">bmw</th>\n",
       "      <th colspan=\"4\" halign=\"left\">buick</th>\n",
       "      <th colspan=\"2\" halign=\"left\">chevrolet</th>\n",
       "      <th colspan=\"4\" halign=\"left\">dodge</th>\n",
       "      <th colspan=\"3\" halign=\"left\">honda</th>\n",
       "      <th colspan=\"3\" halign=\"left\">isuzu</th>\n",
       "      <th colspan=\"2\" halign=\"left\">jaguar</th>\n",
       "      <th colspan=\"6\" halign=\"left\">mazda</th>\n",
       "      <th>mercury</th>\n",
       "      <th colspan=\"5\" halign=\"left\">mitsubishi</th>\n",
       "      <th colspan=\"4\" halign=\"left\">nissan</th>\n",
       "      <th colspan=\"3\" halign=\"left\">peugeot</th>\n",
       "      <th colspan=\"4\" halign=\"left\">plymouth</th>\n",
       "      <th colspan=\"3\" halign=\"left\">porsche</th>\n",
       "      <th>renault</th>\n",
       "      <th>saab</th>\n",
       "      <th colspan=\"2\" halign=\"left\">subaru</th>\n",
       "      <th colspan=\"7\" halign=\"left\">toyota</th>\n",
       "      <th colspan=\"3\" halign=\"left\">volkswagen</th>\n",
       "      <th colspan=\"4\" halign=\"left\">volvo</th>\n",
       "    </tr>\n",
       "    <tr>\n",
       "      <th>enginesize</th>\n",
       "      <th>130</th>\n",
       "      <th>152</th>\n",
       "      <th>109</th>\n",
       "      <th>131</th>\n",
       "      <th>136</th>\n",
       "      <th>108</th>\n",
       "      <th>164</th>\n",
       "      <th>209</th>\n",
       "      <th>183</th>\n",
       "      <th>234</th>\n",
       "      <th>304</th>\n",
       "      <th>308</th>\n",
       "      <th>61</th>\n",
       "      <th>90</th>\n",
       "      <th>90</th>\n",
       "      <th>98</th>\n",
       "      <th>122</th>\n",
       "      <th>156</th>\n",
       "      <th>79</th>\n",
       "      <th>92</th>\n",
       "      <th>110</th>\n",
       "      <th>90</th>\n",
       "      <th>111</th>\n",
       "      <th>119</th>\n",
       "      <th>258</th>\n",
       "      <th>326</th>\n",
       "      <th>70</th>\n",
       "      <th>80</th>\n",
       "      <th>91</th>\n",
       "      <th>122</th>\n",
       "      <th>134</th>\n",
       "      <th>140</th>\n",
       "      <th>140</th>\n",
       "      <th>92</th>\n",
       "      <th>98</th>\n",
       "      <th>110</th>\n",
       "      <th>122</th>\n",
       "      <th>156</th>\n",
       "      <th>97</th>\n",
       "      <th>103</th>\n",
       "      <th>120</th>\n",
       "      <th>181</th>\n",
       "      <th>120</th>\n",
       "      <th>134</th>\n",
       "      <th>152</th>\n",
       "      <th>90</th>\n",
       "      <th>98</th>\n",
       "      <th>122</th>\n",
       "      <th>156</th>\n",
       "      <th>151</th>\n",
       "      <th>194</th>\n",
       "      <th>203</th>\n",
       "      <th>132</th>\n",
       "      <th>121</th>\n",
       "      <th>97</th>\n",
       "      <th>108</th>\n",
       "      <th>92</th>\n",
       "      <th>98</th>\n",
       "      <th>110</th>\n",
       "      <th>122</th>\n",
       "      <th>146</th>\n",
       "      <th>161</th>\n",
       "      <th>171</th>\n",
       "      <th>97</th>\n",
       "      <th>109</th>\n",
       "      <th>136</th>\n",
       "      <th>130</th>\n",
       "      <th>141</th>\n",
       "      <th>145</th>\n",
       "      <th>173</th>\n",
       "    </tr>\n",
       "  </thead>\n",
       "  <tbody>\n",
       "    <tr>\n",
       "      <th>price</th>\n",
       "      <td>14997.500</td>\n",
       "      <td>16500.000</td>\n",
       "      <td>13950.000</td>\n",
       "      <td>20867.084</td>\n",
       "      <td>17332.500</td>\n",
       "      <td>16677.500</td>\n",
       "      <td>22213.333</td>\n",
       "      <td>36318.333</td>\n",
       "      <td>28394.000</td>\n",
       "      <td>34620.000</td>\n",
       "      <td>45400.000</td>\n",
       "      <td>40960.000</td>\n",
       "      <td>5151.000</td>\n",
       "      <td>6435.000</td>\n",
       "      <td>6495.800</td>\n",
       "      <td>8257.500</td>\n",
       "      <td>8921.000</td>\n",
       "      <td>12964.000</td>\n",
       "      <td>5399.000</td>\n",
       "      <td>6930.333</td>\n",
       "      <td>9903.333</td>\n",
       "      <td>8916.500</td>\n",
       "      <td>6785.000</td>\n",
       "      <td>11048.000</td>\n",
       "      <td>33900.000</td>\n",
       "      <td>36000.000</td>\n",
       "      <td>12145.000</td>\n",
       "      <td>15645.000</td>\n",
       "      <td>6435.000</td>\n",
       "      <td>10036.667</td>\n",
       "      <td>18344.000</td>\n",
       "      <td>18280.000</td>\n",
       "      <td>16503.000</td>\n",
       "      <td>6082.333</td>\n",
       "      <td>7689.000</td>\n",
       "      <td>9505.667</td>\n",
       "      <td>7892.333</td>\n",
       "      <td>13995.667</td>\n",
       "      <td>7243.444</td>\n",
       "      <td>7099.000</td>\n",
       "      <td>9249.000</td>\n",
       "      <td>16115.667</td>\n",
       "      <td>14649.000</td>\n",
       "      <td>18150.000</td>\n",
       "      <td>15797.000</td>\n",
       "      <td>6164.333</td>\n",
       "      <td>7783.000</td>\n",
       "      <td>8921.000</td>\n",
       "      <td>12764.000</td>\n",
       "      <td>22018.000</td>\n",
       "      <td>34528.000</td>\n",
       "      <td>31400.500</td>\n",
       "      <td>9595.000</td>\n",
       "      <td>15223.333</td>\n",
       "      <td>5118.000</td>\n",
       "      <td>8852.455</td>\n",
       "      <td>6961.333</td>\n",
       "      <td>8291.333</td>\n",
       "      <td>8794.667</td>\n",
       "      <td>10270.500</td>\n",
       "      <td>11415.667</td>\n",
       "      <td>15750.000</td>\n",
       "      <td>16082.000</td>\n",
       "      <td>9777.500</td>\n",
       "      <td>9789.286</td>\n",
       "      <td>13295.000</td>\n",
       "      <td>18685.000</td>\n",
       "      <td>16767.143</td>\n",
       "      <td>22470.000</td>\n",
       "      <td>21485.000</td>\n",
       "    </tr>\n",
       "    <tr>\n",
       "      <th>carwidth</th>\n",
       "      <td>64.100</td>\n",
       "      <td>65.500</td>\n",
       "      <td>66.200</td>\n",
       "      <td>69.650</td>\n",
       "      <td>68.875</td>\n",
       "      <td>64.800</td>\n",
       "      <td>65.500</td>\n",
       "      <td>68.567</td>\n",
       "      <td>70.650</td>\n",
       "      <td>71.100</td>\n",
       "      <td>72.000</td>\n",
       "      <td>71.700</td>\n",
       "      <td>60.300</td>\n",
       "      <td>63.600</td>\n",
       "      <td>63.800</td>\n",
       "      <td>63.800</td>\n",
       "      <td>64.600</td>\n",
       "      <td>66.300</td>\n",
       "      <td>64.000</td>\n",
       "      <td>63.950</td>\n",
       "      <td>64.883</td>\n",
       "      <td>63.600</td>\n",
       "      <td>61.800</td>\n",
       "      <td>65.200</td>\n",
       "      <td>69.600</td>\n",
       "      <td>70.600</td>\n",
       "      <td>65.700</td>\n",
       "      <td>65.700</td>\n",
       "      <td>64.200</td>\n",
       "      <td>66.500</td>\n",
       "      <td>66.100</td>\n",
       "      <td>66.100</td>\n",
       "      <td>68.000</td>\n",
       "      <td>64.400</td>\n",
       "      <td>63.800</td>\n",
       "      <td>65.400</td>\n",
       "      <td>65.400</td>\n",
       "      <td>66.300</td>\n",
       "      <td>63.800</td>\n",
       "      <td>63.800</td>\n",
       "      <td>65.200</td>\n",
       "      <td>67.200</td>\n",
       "      <td>68.400</td>\n",
       "      <td>68.300</td>\n",
       "      <td>68.400</td>\n",
       "      <td>63.800</td>\n",
       "      <td>63.800</td>\n",
       "      <td>64.600</td>\n",
       "      <td>66.300</td>\n",
       "      <td>68.300</td>\n",
       "      <td>65.000</td>\n",
       "      <td>72.300</td>\n",
       "      <td>66.550</td>\n",
       "      <td>66.500</td>\n",
       "      <td>63.400</td>\n",
       "      <td>65.091</td>\n",
       "      <td>63.600</td>\n",
       "      <td>64.222</td>\n",
       "      <td>65.100</td>\n",
       "      <td>66.500</td>\n",
       "      <td>65.600</td>\n",
       "      <td>66.500</td>\n",
       "      <td>67.300</td>\n",
       "      <td>65.850</td>\n",
       "      <td>65.300</td>\n",
       "      <td>66.900</td>\n",
       "      <td>67.200</td>\n",
       "      <td>67.914</td>\n",
       "      <td>68.900</td>\n",
       "      <td>68.900</td>\n",
       "    </tr>\n",
       "    <tr>\n",
       "      <th>horsepower</th>\n",
       "      <td>111.000</td>\n",
       "      <td>154.000</td>\n",
       "      <td>102.000</td>\n",
       "      <td>150.000</td>\n",
       "      <td>111.250</td>\n",
       "      <td>101.000</td>\n",
       "      <td>121.000</td>\n",
       "      <td>182.000</td>\n",
       "      <td>123.000</td>\n",
       "      <td>155.000</td>\n",
       "      <td>184.000</td>\n",
       "      <td>184.000</td>\n",
       "      <td>48.000</td>\n",
       "      <td>70.000</td>\n",
       "      <td>68.000</td>\n",
       "      <td>102.000</td>\n",
       "      <td>88.000</td>\n",
       "      <td>145.000</td>\n",
       "      <td>60.000</td>\n",
       "      <td>73.000</td>\n",
       "      <td>90.833</td>\n",
       "      <td>70.000</td>\n",
       "      <td>78.000</td>\n",
       "      <td>90.000</td>\n",
       "      <td>176.000</td>\n",
       "      <td>262.000</td>\n",
       "      <td>101.000</td>\n",
       "      <td>135.000</td>\n",
       "      <td>68.000</td>\n",
       "      <td>80.667</td>\n",
       "      <td>72.000</td>\n",
       "      <td>120.000</td>\n",
       "      <td>175.000</td>\n",
       "      <td>68.000</td>\n",
       "      <td>102.000</td>\n",
       "      <td>116.000</td>\n",
       "      <td>88.000</td>\n",
       "      <td>145.000</td>\n",
       "      <td>69.000</td>\n",
       "      <td>55.000</td>\n",
       "      <td>97.000</td>\n",
       "      <td>162.667</td>\n",
       "      <td>96.200</td>\n",
       "      <td>142.000</td>\n",
       "      <td>95.000</td>\n",
       "      <td>68.000</td>\n",
       "      <td>85.000</td>\n",
       "      <td>88.000</td>\n",
       "      <td>145.000</td>\n",
       "      <td>143.000</td>\n",
       "      <td>207.000</td>\n",
       "      <td>288.000</td>\n",
       "      <td>90.000</td>\n",
       "      <td>126.667</td>\n",
       "      <td>69.000</td>\n",
       "      <td>87.818</td>\n",
       "      <td>62.000</td>\n",
       "      <td>79.333</td>\n",
       "      <td>61.667</td>\n",
       "      <td>92.000</td>\n",
       "      <td>116.000</td>\n",
       "      <td>156.000</td>\n",
       "      <td>159.333</td>\n",
       "      <td>60.000</td>\n",
       "      <td>89.000</td>\n",
       "      <td>110.000</td>\n",
       "      <td>162.000</td>\n",
       "      <td>120.571</td>\n",
       "      <td>106.000</td>\n",
       "      <td>134.000</td>\n",
       "    </tr>\n",
       "    <tr>\n",
       "      <th>citympg</th>\n",
       "      <td>21.000</td>\n",
       "      <td>19.000</td>\n",
       "      <td>24.000</td>\n",
       "      <td>16.500</td>\n",
       "      <td>18.750</td>\n",
       "      <td>23.000</td>\n",
       "      <td>20.667</td>\n",
       "      <td>15.667</td>\n",
       "      <td>22.000</td>\n",
       "      <td>16.000</td>\n",
       "      <td>14.000</td>\n",
       "      <td>14.000</td>\n",
       "      <td>47.000</td>\n",
       "      <td>38.000</td>\n",
       "      <td>32.200</td>\n",
       "      <td>24.000</td>\n",
       "      <td>24.000</td>\n",
       "      <td>19.000</td>\n",
       "      <td>38.000</td>\n",
       "      <td>33.333</td>\n",
       "      <td>26.167</td>\n",
       "      <td>38.000</td>\n",
       "      <td>24.000</td>\n",
       "      <td>24.000</td>\n",
       "      <td>15.000</td>\n",
       "      <td>13.000</td>\n",
       "      <td>17.000</td>\n",
       "      <td>16.000</td>\n",
       "      <td>30.800</td>\n",
       "      <td>27.667</td>\n",
       "      <td>31.000</td>\n",
       "      <td>19.000</td>\n",
       "      <td>19.000</td>\n",
       "      <td>33.000</td>\n",
       "      <td>24.000</td>\n",
       "      <td>23.000</td>\n",
       "      <td>25.000</td>\n",
       "      <td>19.000</td>\n",
       "      <td>31.000</td>\n",
       "      <td>45.000</td>\n",
       "      <td>27.000</td>\n",
       "      <td>18.000</td>\n",
       "      <td>19.000</td>\n",
       "      <td>18.000</td>\n",
       "      <td>26.800</td>\n",
       "      <td>33.000</td>\n",
       "      <td>27.500</td>\n",
       "      <td>24.000</td>\n",
       "      <td>19.000</td>\n",
       "      <td>19.000</td>\n",
       "      <td>17.000</td>\n",
       "      <td>17.000</td>\n",
       "      <td>23.000</td>\n",
       "      <td>20.333</td>\n",
       "      <td>31.000</td>\n",
       "      <td>25.909</td>\n",
       "      <td>30.333</td>\n",
       "      <td>29.333</td>\n",
       "      <td>34.000</td>\n",
       "      <td>27.500</td>\n",
       "      <td>24.000</td>\n",
       "      <td>19.000</td>\n",
       "      <td>19.667</td>\n",
       "      <td>36.000</td>\n",
       "      <td>25.714</td>\n",
       "      <td>19.000</td>\n",
       "      <td>17.000</td>\n",
       "      <td>22.143</td>\n",
       "      <td>26.000</td>\n",
       "      <td>18.000</td>\n",
       "    </tr>\n",
       "    <tr>\n",
       "      <th>highwaympg</th>\n",
       "      <td>27.000</td>\n",
       "      <td>26.000</td>\n",
       "      <td>30.000</td>\n",
       "      <td>21.000</td>\n",
       "      <td>24.250</td>\n",
       "      <td>29.000</td>\n",
       "      <td>27.000</td>\n",
       "      <td>21.333</td>\n",
       "      <td>25.000</td>\n",
       "      <td>18.000</td>\n",
       "      <td>16.000</td>\n",
       "      <td>16.000</td>\n",
       "      <td>53.000</td>\n",
       "      <td>43.000</td>\n",
       "      <td>38.600</td>\n",
       "      <td>30.000</td>\n",
       "      <td>30.000</td>\n",
       "      <td>24.000</td>\n",
       "      <td>42.000</td>\n",
       "      <td>38.000</td>\n",
       "      <td>31.833</td>\n",
       "      <td>43.000</td>\n",
       "      <td>29.000</td>\n",
       "      <td>29.000</td>\n",
       "      <td>19.000</td>\n",
       "      <td>17.000</td>\n",
       "      <td>23.000</td>\n",
       "      <td>23.000</td>\n",
       "      <td>36.600</td>\n",
       "      <td>33.667</td>\n",
       "      <td>39.000</td>\n",
       "      <td>27.000</td>\n",
       "      <td>24.000</td>\n",
       "      <td>39.000</td>\n",
       "      <td>30.000</td>\n",
       "      <td>30.000</td>\n",
       "      <td>32.000</td>\n",
       "      <td>24.000</td>\n",
       "      <td>37.000</td>\n",
       "      <td>50.000</td>\n",
       "      <td>34.000</td>\n",
       "      <td>23.667</td>\n",
       "      <td>24.000</td>\n",
       "      <td>24.000</td>\n",
       "      <td>29.800</td>\n",
       "      <td>39.000</td>\n",
       "      <td>34.000</td>\n",
       "      <td>30.000</td>\n",
       "      <td>24.000</td>\n",
       "      <td>27.000</td>\n",
       "      <td>25.000</td>\n",
       "      <td>28.000</td>\n",
       "      <td>31.000</td>\n",
       "      <td>27.333</td>\n",
       "      <td>36.000</td>\n",
       "      <td>30.273</td>\n",
       "      <td>36.000</td>\n",
       "      <td>35.000</td>\n",
       "      <td>38.667</td>\n",
       "      <td>32.500</td>\n",
       "      <td>30.000</td>\n",
       "      <td>24.000</td>\n",
       "      <td>24.000</td>\n",
       "      <td>43.000</td>\n",
       "      <td>31.857</td>\n",
       "      <td>24.000</td>\n",
       "      <td>22.000</td>\n",
       "      <td>27.143</td>\n",
       "      <td>27.000</td>\n",
       "      <td>23.000</td>\n",
       "    </tr>\n",
       "  </tbody>\n",
       "</table>\n",
       "</div>"
      ],
      "text/plain": [
       "company    alfa-romero                audi                           bmw  \\\n",
       "enginesize         130       152       109       131       136       108   \n",
       "price        14997.500 16500.000 13950.000 20867.084 17332.500 16677.500   \n",
       "carwidth        64.100    65.500    66.200    69.650    68.875    64.800   \n",
       "horsepower     111.000   154.000   102.000   150.000   111.250   101.000   \n",
       "citympg         21.000    19.000    24.000    16.500    18.750    23.000   \n",
       "highwaympg      27.000    26.000    30.000    21.000    24.250    29.000   \n",
       "\n",
       "company                            buick                                \\\n",
       "enginesize       164       209       183       234       304       308   \n",
       "price      22213.333 36318.333 28394.000 34620.000 45400.000 40960.000   \n",
       "carwidth      65.500    68.567    70.650    71.100    72.000    71.700   \n",
       "horsepower   121.000   182.000   123.000   155.000   184.000   184.000   \n",
       "citympg       20.667    15.667    22.000    16.000    14.000    14.000   \n",
       "highwaympg    27.000    21.333    25.000    18.000    16.000    16.000   \n",
       "\n",
       "company    chevrolet             dodge                                honda  \\\n",
       "enginesize       61       90       90       98       122       156      79    \n",
       "price       5151.000 6435.000 6495.800 8257.500 8921.000 12964.000 5399.000   \n",
       "carwidth      60.300   63.600   63.800   63.800   64.600    66.300   64.000   \n",
       "horsepower    48.000   70.000   68.000  102.000   88.000   145.000   60.000   \n",
       "citympg       47.000   38.000   32.200   24.000   24.000    19.000   38.000   \n",
       "highwaympg    53.000   43.000   38.600   30.000   30.000    24.000   42.000   \n",
       "\n",
       "company                         isuzu                       jaguar            \\\n",
       "enginesize      92       110      90       111       119       258       326   \n",
       "price      6930.333 9903.333 8916.500 6785.000 11048.000 33900.000 36000.000   \n",
       "carwidth     63.950   64.883   63.600   61.800    65.200    69.600    70.600   \n",
       "horsepower   73.000   90.833   70.000   78.000    90.000   176.000   262.000   \n",
       "citympg      33.333   26.167   38.000   24.000    24.000    15.000    13.000   \n",
       "highwaympg   38.000   31.833   43.000   29.000    29.000    19.000    17.000   \n",
       "\n",
       "company        mazda                                                   \\\n",
       "enginesize       70        80       91        122       134       140   \n",
       "price      12145.000 15645.000 6435.000 10036.667 18344.000 18280.000   \n",
       "carwidth      65.700    65.700   64.200    66.500    66.100    66.100   \n",
       "horsepower   101.000   135.000   68.000    80.667    72.000   120.000   \n",
       "citympg       17.000    16.000   30.800    27.667    31.000    19.000   \n",
       "highwaympg    23.000    23.000   36.600    33.667    39.000    27.000   \n",
       "\n",
       "company      mercury mitsubishi                                        nissan  \\\n",
       "enginesize       140        92       98       110      122       156      97    \n",
       "price      16503.000   6082.333 7689.000 9505.667 7892.333 13995.667 7243.444   \n",
       "carwidth      68.000     64.400   63.800   65.400   65.400    66.300   63.800   \n",
       "horsepower   175.000     68.000  102.000  116.000   88.000   145.000   69.000   \n",
       "citympg       19.000     33.000   24.000   23.000   25.000    19.000   31.000   \n",
       "highwaympg    24.000     39.000   30.000   30.000   32.000    24.000   37.000   \n",
       "\n",
       "company                                  peugeot                     plymouth  \\\n",
       "enginesize      103      120       181       120       134       152      90    \n",
       "price      7099.000 9249.000 16115.667 14649.000 18150.000 15797.000 6164.333   \n",
       "carwidth     63.800   65.200    67.200    68.400    68.300    68.400   63.800   \n",
       "horsepower   55.000   97.000   162.667    96.200   142.000    95.000   68.000   \n",
       "citympg      45.000   27.000    18.000    19.000    18.000    26.800   33.000   \n",
       "highwaympg   50.000   34.000    23.667    24.000    24.000    29.800   39.000   \n",
       "\n",
       "company                                  porsche                      renault  \\\n",
       "enginesize      98       122       156       151       194       203      132   \n",
       "price      7783.000 8921.000 12764.000 22018.000 34528.000 31400.500 9595.000   \n",
       "carwidth     63.800   64.600    66.300    68.300    65.000    72.300   66.550   \n",
       "horsepower   85.000   88.000   145.000   143.000   207.000   288.000   90.000   \n",
       "citympg      27.500   24.000    19.000    19.000    17.000    17.000   23.000   \n",
       "highwaympg   34.000   30.000    24.000    27.000    25.000    28.000   31.000   \n",
       "\n",
       "company         saab   subaru            toyota                              \\\n",
       "enginesize       121      97       108      92       98       110       122   \n",
       "price      15223.333 5118.000 8852.455 6961.333 8291.333 8794.667 10270.500   \n",
       "carwidth      66.500   63.400   65.091   63.600   64.222   65.100    66.500   \n",
       "horsepower   126.667   69.000   87.818   62.000   79.333   61.667    92.000   \n",
       "citympg       20.333   31.000   25.909   30.333   29.333   34.000    27.500   \n",
       "highwaympg    27.333   36.000   30.273   36.000   35.000   38.667    32.500   \n",
       "\n",
       "company                                  volkswagen                     \\\n",
       "enginesize       146       161       171        97       109       136   \n",
       "price      11415.667 15750.000 16082.000   9777.500 9789.286 13295.000   \n",
       "carwidth      65.600    66.500    67.300     65.850   65.300    66.900   \n",
       "horsepower   116.000   156.000   159.333     60.000   89.000   110.000   \n",
       "citympg       24.000    19.000    19.667     36.000   25.714    19.000   \n",
       "highwaympg    30.000    24.000    24.000     43.000   31.857    24.000   \n",
       "\n",
       "company        volvo                                \n",
       "enginesize       130       141       145       173  \n",
       "price      18685.000 16767.143 22470.000 21485.000  \n",
       "carwidth      67.200    67.914    68.900    68.900  \n",
       "horsepower   162.000   120.571   106.000   134.000  \n",
       "citympg       17.000    22.143    26.000    18.000  \n",
       "highwaympg    22.000    27.143    27.000    23.000  "
      ]
     },
     "execution_count": 888,
     "metadata": {},
     "output_type": "execute_result"
    }
   ],
   "source": [
    "crosstab = car.groupby(by=['company','enginesize'])['price','carwidth','horsepower','citympg', 'highwaympg'].mean().transpose()\n",
    "crosstab"
   ]
  },
  {
   "cell_type": "markdown",
   "metadata": {},
   "source": [
    "<a id='cat'></a>"
   ]
  },
  {
   "cell_type": "markdown",
   "metadata": {},
   "source": [
    "## VI. Convert Categorical Variables to Continuos"
   ]
  },
  {
   "cell_type": "code",
   "execution_count": 889,
   "metadata": {
    "scrolled": false
   },
   "outputs": [
    {
     "data": {
      "text/plain": [
       "fueltype           2\n",
       "aspiration         2\n",
       "doornumber         2\n",
       "carbody            5\n",
       "drivewheel         3\n",
       "enginelocation     2\n",
       "enginetype         7\n",
       "cylindernumber     7\n",
       "fuelsystem         8\n",
       "company           22\n",
       "dtype: int64"
      ]
     },
     "execution_count": 889,
     "metadata": {},
     "output_type": "execute_result"
    }
   ],
   "source": [
    "categorical_cols = car.select_dtypes(include=['object'])\n",
    "categorical_cols.nunique()"
   ]
  },
  {
   "cell_type": "code",
   "execution_count": 890,
   "metadata": {
    "collapsed": true,
    "scrolled": false
   },
   "outputs": [],
   "source": [
    "# first convert categorical columns where there are only two distinct values to numeric(0 or 1)\n",
    "car['fueltype'] = car['fueltype'].map({'gas':0, 'diesel':1})\n",
    "car['aspiration'] = car['aspiration'].map({'std':0, 'turbo':1})\n",
    "car['doornumber'] = car['doornumber'].map({'two':0, 'four':1})\n",
    "car['enginelocation'] = car['enginelocation'].map({'front':0, 'rear':1})"
   ]
  },
  {
   "cell_type": "code",
   "execution_count": 891,
   "metadata": {
    "collapsed": true,
    "scrolled": false
   },
   "outputs": [],
   "source": [
    "def add_dummy(df,colname):\n",
    "    \"\"\"\n",
    "    This function will convert the categorical column to continuos by adding dummy variables to the dataframe and \n",
    "    drop the original categorical column.\n",
    "    df      :: dataframe\n",
    "    colname :: name of categorical column\n",
    "    \"\"\"\n",
    "    df_new = df.copy()\n",
    "    dummy = pd.get_dummies(df_new[colname],drop_first=True)\n",
    "    df_new = pd.concat([df_new,dummy],axis=1)\n",
    "    df_new.drop(labels=colname,axis=1,inplace=True)\n",
    "    print(colname,':::',dummy.columns.values,'\\n')\n",
    "    del dummy\n",
    "    return df_new"
   ]
  },
  {
   "cell_type": "code",
   "execution_count": 892,
   "metadata": {
    "scrolled": false
   },
   "outputs": [
    {
     "name": "stdout",
     "output_type": "stream",
     "text": [
      "carbody ::: ['hardtop' 'hatchback' 'sedan' 'wagon'] \n",
      "\n",
      "drivewheel ::: ['fwd' 'rwd'] \n",
      "\n",
      "enginetype ::: ['dohcv' 'l' 'ohc' 'ohcf' 'ohcv' 'rotor'] \n",
      "\n",
      "fuelsystem ::: ['2bbl' '4bbl' 'idi' 'mfi' 'mpfi' 'spdi' 'spfi'] \n",
      "\n",
      "company ::: ['audi' 'bmw' 'buick' 'chevrolet' 'dodge' 'honda' 'isuzu' 'jaguar' 'mazda'\n",
      " 'mercury' 'mitsubishi' 'nissan' 'peugeot' 'plymouth' 'porsche' 'renault'\n",
      " 'saab' 'subaru' 'toyota' 'volkswagen' 'volvo'] \n",
      "\n",
      "cylindernumber ::: ['five' 'four' 'six' 'three' 'twelve' 'two'] \n",
      "\n"
     ]
    }
   ],
   "source": [
    "car = add_dummy(car,'carbody')\n",
    "car = add_dummy(car,'drivewheel')\n",
    "car = add_dummy(car,'enginetype')\n",
    "car = add_dummy(car,'fuelsystem')\n",
    "car = add_dummy(car,'company')\n",
    "car = add_dummy(car,'cylindernumber')"
   ]
  },
  {
   "cell_type": "markdown",
   "metadata": {},
   "source": [
    "<a id='scaling'></a>"
   ]
  },
  {
   "cell_type": "markdown",
   "metadata": {},
   "source": [
    "## VII. Feature Scaling"
   ]
  },
  {
   "cell_type": "code",
   "execution_count": 893,
   "metadata": {
    "collapsed": true,
    "scrolled": false
   },
   "outputs": [],
   "source": [
    "car=(car-car.min())/(car.max()-car.min())"
   ]
  },
  {
   "cell_type": "markdown",
   "metadata": {},
   "source": [
    "<a id='feature'></a>"
   ]
  },
  {
   "cell_type": "markdown",
   "metadata": {},
   "source": [
    "## VIII. Feature Selection"
   ]
  },
  {
   "cell_type": "code",
   "execution_count": 894,
   "metadata": {
    "collapsed": true,
    "scrolled": false
   },
   "outputs": [],
   "source": [
    "# Putting feature variable to X(remove car_ID & price)\n",
    "X = car.loc[:, ~car.columns.isin(['car_ID','price'])]\n",
    "\n",
    "# Putting target variable to y\n",
    "y = car['price']"
   ]
  },
  {
   "cell_type": "code",
   "execution_count": 895,
   "metadata": {
    "collapsed": true,
    "scrolled": false
   },
   "outputs": [],
   "source": [
    "from sklearn.cross_validation import train_test_split\n",
    "X_train, X_test, y_train, y_test = train_test_split(X, y, train_size=0.80 , random_state=100)"
   ]
  },
  {
   "cell_type": "code",
   "execution_count": 896,
   "metadata": {
    "collapsed": true,
    "scrolled": false
   },
   "outputs": [],
   "source": [
    "regression = LinearRegression()"
   ]
  },
  {
   "cell_type": "code",
   "execution_count": 897,
   "metadata": {
    "scrolled": false
   },
   "outputs": [
    {
     "name": "stdout",
     "output_type": "stream",
     "text": [
      "Features sorted by their rank::::\n",
      "\n",
      "[(1, 'enginesize'), (2, 'curbweight'), (3, 'enginelocation'), (4, 'carwidth'), (5, 'bmw'), (6, 'three'), (7, 'two'), (8, 'porsche'), (9, 'boreratio'), (10, 'twelve'), (11, 'stroke'), (12, 'rotor'), (13, 'four'), (14, 'five'), (15, 'peugeot'), (16, 'l'), (17, 'dohcv'), (18, 'six'), (19, 'buick'), (20, 'audi'), (21, 'fueltype'), (22, 'compressionratio'), (23, 'volvo'), (24, 'saab'), (25, 'idi'), (26, 'peakrpm'), (27, 'ohcf'), (28, 'subaru'), (29, 'mitsubishi'), (30, 'carheight'), (31, 'wheelbase'), (32, 'plymouth'), (33, 'dodge'), (34, 'carlength'), (35, 'hardtop'), (36, 'hatchback'), (37, 'wagon'), (38, 'sedan'), (39, 'highwaympg'), (40, 'aspiration'), (41, 'honda'), (42, 'chevrolet'), (43, 'mfi'), (44, 'spdi'), (45, 'jaguar'), (46, '4bbl'), (47, 'mpfi'), (48, 'isuzu'), (49, 'ohc'), (50, 'rwd'), (51, 'symboling'), (52, 'citympg'), (53, 'toyota'), (54, 'horsepower'), (55, 'spfi'), (56, 'nissan'), (57, 'doornumber'), (58, 'renault'), (59, 'ohcv'), (60, 'mazda'), (61, 'volkswagen'), (62, 'mercury'), (63, 'fwd'), (64, '2bbl')]\n"
     ]
    }
   ],
   "source": [
    "#rank all features\n",
    "from sklearn.feature_selection import RFE\n",
    "rfe = RFE(regression, n_features_to_select=1)\n",
    "rfe.fit(X_train,y_train)\n",
    "\n",
    "print (\"Features sorted by their rank::::\\n\")\n",
    "feature_ranking = sorted(list(zip(rfe.ranking_,X_train.columns)))\n",
    "print(feature_ranking)"
   ]
  },
  {
   "cell_type": "code",
   "execution_count": 898,
   "metadata": {
    "collapsed": true,
    "scrolled": false
   },
   "outputs": [],
   "source": [
    "# There are 64 features, we will select top 25 features from it and then mannualy do the backward elimination based on its\n",
    "# p-value & VIF"
   ]
  },
  {
   "cell_type": "code",
   "execution_count": 899,
   "metadata": {
    "scrolled": false
   },
   "outputs": [
    {
     "data": {
      "text/html": [
       "<div>\n",
       "<style>\n",
       "    .dataframe thead tr:only-child th {\n",
       "        text-align: right;\n",
       "    }\n",
       "\n",
       "    .dataframe thead th {\n",
       "        text-align: left;\n",
       "    }\n",
       "\n",
       "    .dataframe tbody tr th {\n",
       "        vertical-align: top;\n",
       "    }\n",
       "</style>\n",
       "<table border=\"1\" class=\"dataframe\">\n",
       "  <thead>\n",
       "    <tr style=\"text-align: right;\">\n",
       "      <th></th>\n",
       "      <th>enginesize</th>\n",
       "      <th>curbweight</th>\n",
       "      <th>enginelocation</th>\n",
       "      <th>carwidth</th>\n",
       "      <th>bmw</th>\n",
       "      <th>three</th>\n",
       "      <th>two</th>\n",
       "      <th>porsche</th>\n",
       "      <th>boreratio</th>\n",
       "      <th>twelve</th>\n",
       "      <th>stroke</th>\n",
       "      <th>rotor</th>\n",
       "      <th>four</th>\n",
       "      <th>five</th>\n",
       "      <th>peugeot</th>\n",
       "      <th>l</th>\n",
       "      <th>dohcv</th>\n",
       "      <th>six</th>\n",
       "      <th>buick</th>\n",
       "      <th>audi</th>\n",
       "      <th>fueltype</th>\n",
       "      <th>compressionratio</th>\n",
       "      <th>volvo</th>\n",
       "      <th>saab</th>\n",
       "      <th>idi</th>\n",
       "    </tr>\n",
       "  </thead>\n",
       "  <tbody>\n",
       "    <tr>\n",
       "      <th>3</th>\n",
       "      <td>0.181</td>\n",
       "      <td>0.329</td>\n",
       "      <td>0.000</td>\n",
       "      <td>0.492</td>\n",
       "      <td>0.000</td>\n",
       "      <td>0.000</td>\n",
       "      <td>0.000</td>\n",
       "      <td>0.000</td>\n",
       "      <td>0.464</td>\n",
       "      <td>0.000</td>\n",
       "      <td>0.633</td>\n",
       "      <td>0.000</td>\n",
       "      <td>1.000</td>\n",
       "      <td>0.000</td>\n",
       "      <td>0.000</td>\n",
       "      <td>0.000</td>\n",
       "      <td>0.000</td>\n",
       "      <td>0.000</td>\n",
       "      <td>0.000</td>\n",
       "      <td>1.000</td>\n",
       "      <td>0.000</td>\n",
       "      <td>0.188</td>\n",
       "      <td>0.000</td>\n",
       "      <td>0.000</td>\n",
       "      <td>0.000</td>\n",
       "    </tr>\n",
       "    <tr>\n",
       "      <th>157</th>\n",
       "      <td>0.140</td>\n",
       "      <td>0.241</td>\n",
       "      <td>0.000</td>\n",
       "      <td>0.342</td>\n",
       "      <td>0.000</td>\n",
       "      <td>0.000</td>\n",
       "      <td>0.000</td>\n",
       "      <td>0.000</td>\n",
       "      <td>0.464</td>\n",
       "      <td>0.000</td>\n",
       "      <td>0.457</td>\n",
       "      <td>0.000</td>\n",
       "      <td>1.000</td>\n",
       "      <td>0.000</td>\n",
       "      <td>0.000</td>\n",
       "      <td>0.000</td>\n",
       "      <td>0.000</td>\n",
       "      <td>0.000</td>\n",
       "      <td>0.000</td>\n",
       "      <td>0.000</td>\n",
       "      <td>0.000</td>\n",
       "      <td>0.125</td>\n",
       "      <td>0.000</td>\n",
       "      <td>0.000</td>\n",
       "      <td>0.000</td>\n",
       "    </tr>\n",
       "    <tr>\n",
       "      <th>81</th>\n",
       "      <td>0.230</td>\n",
       "      <td>0.326</td>\n",
       "      <td>0.000</td>\n",
       "      <td>0.425</td>\n",
       "      <td>0.000</td>\n",
       "      <td>0.000</td>\n",
       "      <td>0.000</td>\n",
       "      <td>0.000</td>\n",
       "      <td>0.579</td>\n",
       "      <td>0.000</td>\n",
       "      <td>0.662</td>\n",
       "      <td>0.000</td>\n",
       "      <td>1.000</td>\n",
       "      <td>0.000</td>\n",
       "      <td>0.000</td>\n",
       "      <td>0.000</td>\n",
       "      <td>0.000</td>\n",
       "      <td>0.000</td>\n",
       "      <td>0.000</td>\n",
       "      <td>0.000</td>\n",
       "      <td>0.000</td>\n",
       "      <td>0.094</td>\n",
       "      <td>0.000</td>\n",
       "      <td>0.000</td>\n",
       "      <td>0.000</td>\n",
       "    </tr>\n",
       "    <tr>\n",
       "      <th>32</th>\n",
       "      <td>0.068</td>\n",
       "      <td>0.135</td>\n",
       "      <td>0.000</td>\n",
       "      <td>0.308</td>\n",
       "      <td>0.000</td>\n",
       "      <td>0.000</td>\n",
       "      <td>0.000</td>\n",
       "      <td>0.000</td>\n",
       "      <td>0.264</td>\n",
       "      <td>0.000</td>\n",
       "      <td>0.476</td>\n",
       "      <td>0.000</td>\n",
       "      <td>1.000</td>\n",
       "      <td>0.000</td>\n",
       "      <td>0.000</td>\n",
       "      <td>0.000</td>\n",
       "      <td>0.000</td>\n",
       "      <td>0.000</td>\n",
       "      <td>0.000</td>\n",
       "      <td>0.000</td>\n",
       "      <td>0.000</td>\n",
       "      <td>0.194</td>\n",
       "      <td>0.000</td>\n",
       "      <td>0.000</td>\n",
       "      <td>0.000</td>\n",
       "    </tr>\n",
       "    <tr>\n",
       "      <th>99</th>\n",
       "      <td>0.223</td>\n",
       "      <td>0.324</td>\n",
       "      <td>0.000</td>\n",
       "      <td>0.408</td>\n",
       "      <td>0.000</td>\n",
       "      <td>0.000</td>\n",
       "      <td>0.000</td>\n",
       "      <td>0.000</td>\n",
       "      <td>0.564</td>\n",
       "      <td>0.000</td>\n",
       "      <td>0.667</td>\n",
       "      <td>0.000</td>\n",
       "      <td>1.000</td>\n",
       "      <td>0.000</td>\n",
       "      <td>0.000</td>\n",
       "      <td>0.000</td>\n",
       "      <td>0.000</td>\n",
       "      <td>0.000</td>\n",
       "      <td>0.000</td>\n",
       "      <td>0.000</td>\n",
       "      <td>0.000</td>\n",
       "      <td>0.094</td>\n",
       "      <td>0.000</td>\n",
       "      <td>0.000</td>\n",
       "      <td>0.000</td>\n",
       "    </tr>\n",
       "  </tbody>\n",
       "</table>\n",
       "</div>"
      ],
      "text/plain": [
       "     enginesize  curbweight  enginelocation  carwidth   bmw  three   two  \\\n",
       "3         0.181       0.329           0.000     0.492 0.000  0.000 0.000   \n",
       "157       0.140       0.241           0.000     0.342 0.000  0.000 0.000   \n",
       "81        0.230       0.326           0.000     0.425 0.000  0.000 0.000   \n",
       "32        0.068       0.135           0.000     0.308 0.000  0.000 0.000   \n",
       "99        0.223       0.324           0.000     0.408 0.000  0.000 0.000   \n",
       "\n",
       "     porsche  boreratio  twelve  stroke  rotor  four  five  peugeot     l  \\\n",
       "3      0.000      0.464   0.000   0.633  0.000 1.000 0.000    0.000 0.000   \n",
       "157    0.000      0.464   0.000   0.457  0.000 1.000 0.000    0.000 0.000   \n",
       "81     0.000      0.579   0.000   0.662  0.000 1.000 0.000    0.000 0.000   \n",
       "32     0.000      0.264   0.000   0.476  0.000 1.000 0.000    0.000 0.000   \n",
       "99     0.000      0.564   0.000   0.667  0.000 1.000 0.000    0.000 0.000   \n",
       "\n",
       "     dohcv   six  buick  audi  fueltype  compressionratio  volvo  saab   idi  \n",
       "3    0.000 0.000  0.000 1.000     0.000             0.188  0.000 0.000 0.000  \n",
       "157  0.000 0.000  0.000 0.000     0.000             0.125  0.000 0.000 0.000  \n",
       "81   0.000 0.000  0.000 0.000     0.000             0.094  0.000 0.000 0.000  \n",
       "32   0.000 0.000  0.000 0.000     0.000             0.194  0.000 0.000 0.000  \n",
       "99   0.000 0.000  0.000 0.000     0.000             0.094  0.000 0.000 0.000  "
      ]
     },
     "execution_count": 899,
     "metadata": {},
     "output_type": "execute_result"
    }
   ],
   "source": [
    "top_features = [x[1] for x in feature_ranking[0:25]]\n",
    "X_train = X_train[top_features]\n",
    "vif_data = car[top_features]\n",
    "X_test = X_test[top_features]\n",
    "X_train.head()"
   ]
  },
  {
   "cell_type": "code",
   "execution_count": 900,
   "metadata": {
    "collapsed": true,
    "scrolled": false
   },
   "outputs": [],
   "source": [
    "import statsmodels.api as sm          # Importing statsmodels\n",
    "import statsmodels\n",
    "X_train = sm.add_constant(X_train)    # Adding a constant column to our dataframe\n",
    "X_test = sm.add_constant(X_test)\n",
    "# create a first fitted model"
   ]
  },
  {
   "cell_type": "code",
   "execution_count": 901,
   "metadata": {
    "collapsed": true
   },
   "outputs": [],
   "source": [
    "# UDF for calculating vif value\n",
    "def vif_cal(vif_data):\n",
    "    vif_df = pd.DataFrame( columns = ['Var', 'Vif'])\n",
    "    x_vars=vif_data\n",
    "    xvar_names=x_vars.columns\n",
    "    for i in range(0,xvar_names.shape[0]):\n",
    "        y=x_vars[xvar_names[i]] \n",
    "        x=x_vars[xvar_names.drop(xvar_names[i])]\n",
    "        rsq=sm.OLS(y,x).fit().rsquared  \n",
    "        vif=round(1/(1-rsq),2)\n",
    "        vif_df.loc[i] = [xvar_names[i], vif]\n",
    "    return vif_df.sort_values(by = 'Vif', axis=0, ascending=False, inplace=False)"
   ]
  },
  {
   "cell_type": "code",
   "execution_count": 902,
   "metadata": {
    "collapsed": true,
    "scrolled": false
   },
   "outputs": [],
   "source": [
    "# Significance(p-value) is more important than multicollinearity(VIF value).\n",
    "#So we will remove those features(one by one) which are having low significance(p-value > significant level).For multicollinearity\n",
    "#we will check for VIF value & parallely check for it's p-value , if it is greater than significant level we\n",
    "#will remove that column and if p-value < significant level, we will keep that column."
   ]
  },
  {
   "cell_type": "code",
   "execution_count": 903,
   "metadata": {
    "collapsed": true,
    "scrolled": false
   },
   "outputs": [],
   "source": [
    "def feature_to_drop(model,SF=0.05,VF=2):\n",
    "    pvalue = model.pvalues[model.pvalues >= SF]\n",
    "    pvalue = pd.DataFrame(pvalue,columns=['pvalue']).sort_values(by='pvalue',ascending=False)\n",
    "  \n",
    "    if pvalue.index[0] == 'const':\n",
    "        pvalue = pvalue.drop(pvalue.head(1).index)\n",
    "        vif = vif_cal(vif_data).set_index('Var')\n",
    "        matrix =pd.concat([pvalue,vif[vif.index.isin(pvalue.index)]['Vif']],axis=1)\n",
    "        matrix = matrix[matrix.Vif >=VF]\n",
    "        matrix = matrix.sort_values(by='pvalue',ascending=False)\n",
    "        if(len(matrix)>0):\n",
    "            feature = matrix[0:1]\n",
    "            return feature\n",
    "        else:\n",
    "            return 'No feature to drop'"
   ]
  },
  {
   "cell_type": "code",
   "execution_count": 904,
   "metadata": {},
   "outputs": [
    {
     "data": {
      "text/html": [
       "<div>\n",
       "<style>\n",
       "    .dataframe thead tr:only-child th {\n",
       "        text-align: right;\n",
       "    }\n",
       "\n",
       "    .dataframe thead th {\n",
       "        text-align: left;\n",
       "    }\n",
       "\n",
       "    .dataframe tbody tr th {\n",
       "        vertical-align: top;\n",
       "    }\n",
       "</style>\n",
       "<table border=\"1\" class=\"dataframe\">\n",
       "  <thead>\n",
       "    <tr style=\"text-align: right;\">\n",
       "      <th></th>\n",
       "      <th>pvalue</th>\n",
       "      <th>Vif</th>\n",
       "    </tr>\n",
       "  </thead>\n",
       "  <tbody>\n",
       "    <tr>\n",
       "      <th>compressionratio</th>\n",
       "      <td>0.185</td>\n",
       "      <td>98.470</td>\n",
       "    </tr>\n",
       "    <tr>\n",
       "      <th>idi</th>\n",
       "      <td>0.139</td>\n",
       "      <td>inf</td>\n",
       "    </tr>\n",
       "    <tr>\n",
       "      <th>fueltype</th>\n",
       "      <td>0.139</td>\n",
       "      <td>inf</td>\n",
       "    </tr>\n",
       "    <tr>\n",
       "      <th>six</th>\n",
       "      <td>0.065</td>\n",
       "      <td>11.750</td>\n",
       "    </tr>\n",
       "    <tr>\n",
       "      <th>dohcv</th>\n",
       "      <td>0.059</td>\n",
       "      <td>2.490</td>\n",
       "    </tr>\n",
       "  </tbody>\n",
       "</table>\n",
       "</div>"
      ],
      "text/plain": [
       "                  pvalue    Vif\n",
       "compressionratio   0.185 98.470\n",
       "idi                0.139    inf\n",
       "fueltype           0.139    inf\n",
       "six                0.065 11.750\n",
       "dohcv              0.059  2.490"
      ]
     },
     "execution_count": 904,
     "metadata": {},
     "output_type": "execute_result"
    }
   ],
   "source": [
    "pvalue = model1.pvalues[model1.pvalues >= 0.05]\n",
    "pvalue = pd.DataFrame(pvalue,columns=['pvalue']).sort_values(by='pvalue',ascending=False)\n",
    "vif = vif_cal(vif_data).set_index('Var')\n",
    "matrix =pd.concat([pvalue,vif[vif.index.isin(pvalue.index)]['Vif']],axis=1)\n",
    "matrix = matrix[matrix.Vif >=2]\n",
    "matrix = matrix.sort_values(by='pvalue',ascending=False)\n",
    "len(matrix)\n",
    "matrix"
   ]
  },
  {
   "cell_type": "code",
   "execution_count": 905,
   "metadata": {},
   "outputs": [],
   "source": [
    "col = feature_to_drop(model1,SF=0.05,VF=2)\n",
    "col\n"
   ]
  },
  {
   "cell_type": "code",
   "execution_count": 906,
   "metadata": {
    "collapsed": true,
    "scrolled": false
   },
   "outputs": [],
   "source": [
    "# Create new dataframe model_summary that will contain important information for each model.\n",
    "model_summary = pd.DataFrame(columns=['Model','No_Features','R-squared','Adj_R-squared','Column_to_Drop','p-value','VIF'])\n",
    "model_summary = model_summary.set_index('Model')"
   ]
  },
  {
   "cell_type": "code",
   "execution_count": 907,
   "metadata": {
    "scrolled": false
   },
   "outputs": [],
   "source": [
    "def add_model_summary(model,name):\n",
    "    col = feature_to_drop(model)\n",
    "    if len(col)==0:\n",
    "        if(col == 'No feature to drop'):\n",
    "            model_summary.loc[name] = [X_train.shape[1],model.rsquared,model.rsquared_adj,'Nothing to Drop',np.NaN,np.NaN]\n",
    "    else:\n",
    "            model_summary.loc[name] = [X_train.shape[1],model.rsquared,model.rsquared_adj,col.index[0],col.pvalue[0],col.Vif[0]]\n",
    "    display(model_summary)"
   ]
  },
  {
   "cell_type": "markdown",
   "metadata": {},
   "source": [
    "#### Model 1"
   ]
  },
  {
   "cell_type": "code",
   "execution_count": 908,
   "metadata": {
    "scrolled": false
   },
   "outputs": [
    {
     "data": {
      "text/html": [
       "<table class=\"simpletable\">\n",
       "<caption>OLS Regression Results</caption>\n",
       "<tr>\n",
       "  <th>Dep. Variable:</th>          <td>price</td>      <th>  R-squared:         </th> <td>   0.949</td>\n",
       "</tr>\n",
       "<tr>\n",
       "  <th>Model:</th>                   <td>OLS</td>       <th>  Adj. R-squared:    </th> <td>   0.941</td>\n",
       "</tr>\n",
       "<tr>\n",
       "  <th>Method:</th>             <td>Least Squares</td>  <th>  F-statistic:       </th> <td>   119.8</td>\n",
       "</tr>\n",
       "<tr>\n",
       "  <th>Date:</th>             <td>Sat, 17 Mar 2018</td> <th>  Prob (F-statistic):</th> <td>5.81e-80</td>\n",
       "</tr>\n",
       "<tr>\n",
       "  <th>Time:</th>                 <td>09:43:48</td>     <th>  Log-Likelihood:    </th> <td>  283.75</td>\n",
       "</tr>\n",
       "<tr>\n",
       "  <th>No. Observations:</th>      <td>   164</td>      <th>  AIC:               </th> <td>  -521.5</td>\n",
       "</tr>\n",
       "<tr>\n",
       "  <th>Df Residuals:</th>          <td>   141</td>      <th>  BIC:               </th> <td>  -450.2</td>\n",
       "</tr>\n",
       "<tr>\n",
       "  <th>Df Model:</th>              <td>    22</td>      <th>                     </th>     <td> </td>   \n",
       "</tr>\n",
       "<tr>\n",
       "  <th>Covariance Type:</th>      <td>nonrobust</td>    <th>                     </th>     <td> </td>   \n",
       "</tr>\n",
       "</table>\n",
       "<table class=\"simpletable\">\n",
       "<tr>\n",
       "          <td></td>            <th>coef</th>     <th>std err</th>      <th>t</th>      <th>P>|t|</th>  <th>[0.025</th>    <th>0.975]</th>  \n",
       "</tr>\n",
       "<tr>\n",
       "  <th>const</th>            <td>   -0.2381</td> <td>    0.073</td> <td>   -3.275</td> <td> 0.001</td> <td>   -0.382</td> <td>   -0.094</td>\n",
       "</tr>\n",
       "<tr>\n",
       "  <th>enginesize</th>       <td>    1.3662</td> <td>    0.178</td> <td>    7.672</td> <td> 0.000</td> <td>    1.014</td> <td>    1.718</td>\n",
       "</tr>\n",
       "<tr>\n",
       "  <th>curbweight</th>       <td>    0.2295</td> <td>    0.068</td> <td>    3.376</td> <td> 0.001</td> <td>    0.095</td> <td>    0.364</td>\n",
       "</tr>\n",
       "<tr>\n",
       "  <th>enginelocation</th>   <td>    0.2977</td> <td>    0.062</td> <td>    4.773</td> <td> 0.000</td> <td>    0.174</td> <td>    0.421</td>\n",
       "</tr>\n",
       "<tr>\n",
       "  <th>carwidth</th>         <td>    0.2251</td> <td>    0.053</td> <td>    4.223</td> <td> 0.000</td> <td>    0.120</td> <td>    0.331</td>\n",
       "</tr>\n",
       "<tr>\n",
       "  <th>bmw</th>              <td>    0.2606</td> <td>    0.022</td> <td>   11.659</td> <td> 0.000</td> <td>    0.216</td> <td>    0.305</td>\n",
       "</tr>\n",
       "<tr>\n",
       "  <th>three</th>            <td>    0.3600</td> <td>    0.071</td> <td>    5.079</td> <td> 0.000</td> <td>    0.220</td> <td>    0.500</td>\n",
       "</tr>\n",
       "<tr>\n",
       "  <th>two</th>              <td>    0.3118</td> <td>    0.055</td> <td>    5.706</td> <td> 0.000</td> <td>    0.204</td> <td>    0.420</td>\n",
       "</tr>\n",
       "<tr>\n",
       "  <th>porsche</th>          <td>    0.1933</td> <td>    0.050</td> <td>    3.904</td> <td> 0.000</td> <td>    0.095</td> <td>    0.291</td>\n",
       "</tr>\n",
       "<tr>\n",
       "  <th>boreratio</th>        <td>   -0.4258</td> <td>    0.063</td> <td>   -6.800</td> <td> 0.000</td> <td>   -0.550</td> <td>   -0.302</td>\n",
       "</tr>\n",
       "<tr>\n",
       "  <th>twelve</th>           <td>   -0.3270</td> <td>    0.104</td> <td>   -3.143</td> <td> 0.002</td> <td>   -0.533</td> <td>   -0.121</td>\n",
       "</tr>\n",
       "<tr>\n",
       "  <th>stroke</th>           <td>   -0.2975</td> <td>    0.053</td> <td>   -5.586</td> <td> 0.000</td> <td>   -0.403</td> <td>   -0.192</td>\n",
       "</tr>\n",
       "<tr>\n",
       "  <th>rotor</th>            <td>    0.3118</td> <td>    0.055</td> <td>    5.706</td> <td> 0.000</td> <td>    0.204</td> <td>    0.420</td>\n",
       "</tr>\n",
       "<tr>\n",
       "  <th>four</th>             <td>    0.3336</td> <td>    0.085</td> <td>    3.937</td> <td> 0.000</td> <td>    0.166</td> <td>    0.501</td>\n",
       "</tr>\n",
       "<tr>\n",
       "  <th>five</th>             <td>    0.2092</td> <td>    0.065</td> <td>    3.206</td> <td> 0.002</td> <td>    0.080</td> <td>    0.338</td>\n",
       "</tr>\n",
       "<tr>\n",
       "  <th>peugeot</th>          <td>   -0.2075</td> <td>    0.040</td> <td>   -5.187</td> <td> 0.000</td> <td>   -0.287</td> <td>   -0.128</td>\n",
       "</tr>\n",
       "<tr>\n",
       "  <th>l</th>                <td>    0.1525</td> <td>    0.035</td> <td>    4.367</td> <td> 0.000</td> <td>    0.083</td> <td>    0.221</td>\n",
       "</tr>\n",
       "<tr>\n",
       "  <th>dohcv</th>            <td>    0.1760</td> <td>    0.092</td> <td>    1.904</td> <td> 0.059</td> <td>   -0.007</td> <td>    0.359</td>\n",
       "</tr>\n",
       "<tr>\n",
       "  <th>six</th>              <td>    0.1209</td> <td>    0.065</td> <td>    1.861</td> <td> 0.065</td> <td>   -0.008</td> <td>    0.249</td>\n",
       "</tr>\n",
       "<tr>\n",
       "  <th>buick</th>            <td>    0.1166</td> <td>    0.048</td> <td>    2.443</td> <td> 0.016</td> <td>    0.022</td> <td>    0.211</td>\n",
       "</tr>\n",
       "<tr>\n",
       "  <th>audi</th>             <td>    0.0881</td> <td>    0.035</td> <td>    2.510</td> <td> 0.013</td> <td>    0.019</td> <td>    0.158</td>\n",
       "</tr>\n",
       "<tr>\n",
       "  <th>fueltype</th>         <td>    0.0777</td> <td>    0.052</td> <td>    1.489</td> <td> 0.139</td> <td>   -0.025</td> <td>    0.181</td>\n",
       "</tr>\n",
       "<tr>\n",
       "  <th>compressionratio</th> <td>   -0.1601</td> <td>    0.120</td> <td>   -1.332</td> <td> 0.185</td> <td>   -0.398</td> <td>    0.078</td>\n",
       "</tr>\n",
       "<tr>\n",
       "  <th>volvo</th>            <td>    0.0929</td> <td>    0.023</td> <td>    4.015</td> <td> 0.000</td> <td>    0.047</td> <td>    0.139</td>\n",
       "</tr>\n",
       "<tr>\n",
       "  <th>saab</th>             <td>    0.0874</td> <td>    0.029</td> <td>    2.979</td> <td> 0.003</td> <td>    0.029</td> <td>    0.145</td>\n",
       "</tr>\n",
       "<tr>\n",
       "  <th>idi</th>              <td>    0.0777</td> <td>    0.052</td> <td>    1.489</td> <td> 0.139</td> <td>   -0.025</td> <td>    0.181</td>\n",
       "</tr>\n",
       "</table>\n",
       "<table class=\"simpletable\">\n",
       "<tr>\n",
       "  <th>Omnibus:</th>       <td>31.377</td> <th>  Durbin-Watson:     </th> <td>   1.848</td>\n",
       "</tr>\n",
       "<tr>\n",
       "  <th>Prob(Omnibus):</th> <td> 0.000</td> <th>  Jarque-Bera (JB):  </th> <td>  69.985</td>\n",
       "</tr>\n",
       "<tr>\n",
       "  <th>Skew:</th>          <td> 0.828</td> <th>  Prob(JB):          </th> <td>6.35e-16</td>\n",
       "</tr>\n",
       "<tr>\n",
       "  <th>Kurtosis:</th>      <td> 5.738</td> <th>  Cond. No.          </th> <td>1.27e+16</td>\n",
       "</tr>\n",
       "</table>"
      ],
      "text/plain": [
       "<class 'statsmodels.iolib.summary.Summary'>\n",
       "\"\"\"\n",
       "                            OLS Regression Results                            \n",
       "==============================================================================\n",
       "Dep. Variable:                  price   R-squared:                       0.949\n",
       "Model:                            OLS   Adj. R-squared:                  0.941\n",
       "Method:                 Least Squares   F-statistic:                     119.8\n",
       "Date:                Sat, 17 Mar 2018   Prob (F-statistic):           5.81e-80\n",
       "Time:                        09:43:48   Log-Likelihood:                 283.75\n",
       "No. Observations:                 164   AIC:                            -521.5\n",
       "Df Residuals:                     141   BIC:                            -450.2\n",
       "Df Model:                          22                                         \n",
       "Covariance Type:            nonrobust                                         \n",
       "====================================================================================\n",
       "                       coef    std err          t      P>|t|      [0.025      0.975]\n",
       "------------------------------------------------------------------------------------\n",
       "const               -0.2381      0.073     -3.275      0.001      -0.382      -0.094\n",
       "enginesize           1.3662      0.178      7.672      0.000       1.014       1.718\n",
       "curbweight           0.2295      0.068      3.376      0.001       0.095       0.364\n",
       "enginelocation       0.2977      0.062      4.773      0.000       0.174       0.421\n",
       "carwidth             0.2251      0.053      4.223      0.000       0.120       0.331\n",
       "bmw                  0.2606      0.022     11.659      0.000       0.216       0.305\n",
       "three                0.3600      0.071      5.079      0.000       0.220       0.500\n",
       "two                  0.3118      0.055      5.706      0.000       0.204       0.420\n",
       "porsche              0.1933      0.050      3.904      0.000       0.095       0.291\n",
       "boreratio           -0.4258      0.063     -6.800      0.000      -0.550      -0.302\n",
       "twelve              -0.3270      0.104     -3.143      0.002      -0.533      -0.121\n",
       "stroke              -0.2975      0.053     -5.586      0.000      -0.403      -0.192\n",
       "rotor                0.3118      0.055      5.706      0.000       0.204       0.420\n",
       "four                 0.3336      0.085      3.937      0.000       0.166       0.501\n",
       "five                 0.2092      0.065      3.206      0.002       0.080       0.338\n",
       "peugeot             -0.2075      0.040     -5.187      0.000      -0.287      -0.128\n",
       "l                    0.1525      0.035      4.367      0.000       0.083       0.221\n",
       "dohcv                0.1760      0.092      1.904      0.059      -0.007       0.359\n",
       "six                  0.1209      0.065      1.861      0.065      -0.008       0.249\n",
       "buick                0.1166      0.048      2.443      0.016       0.022       0.211\n",
       "audi                 0.0881      0.035      2.510      0.013       0.019       0.158\n",
       "fueltype             0.0777      0.052      1.489      0.139      -0.025       0.181\n",
       "compressionratio    -0.1601      0.120     -1.332      0.185      -0.398       0.078\n",
       "volvo                0.0929      0.023      4.015      0.000       0.047       0.139\n",
       "saab                 0.0874      0.029      2.979      0.003       0.029       0.145\n",
       "idi                  0.0777      0.052      1.489      0.139      -0.025       0.181\n",
       "==============================================================================\n",
       "Omnibus:                       31.377   Durbin-Watson:                   1.848\n",
       "Prob(Omnibus):                  0.000   Jarque-Bera (JB):               69.985\n",
       "Skew:                           0.828   Prob(JB):                     6.35e-16\n",
       "Kurtosis:                       5.738   Cond. No.                     1.27e+16\n",
       "==============================================================================\n",
       "\n",
       "Warnings:\n",
       "[1] Standard Errors assume that the covariance matrix of the errors is correctly specified.\n",
       "[2] The smallest eigenvalue is 2.8e-30. This might indicate that there are\n",
       "strong multicollinearity problems or that the design matrix is singular.\n",
       "\"\"\""
      ]
     },
     "execution_count": 908,
     "metadata": {},
     "output_type": "execute_result"
    }
   ],
   "source": [
    "#Let's see the summary of our first linear model\n",
    "model1 = sm.OLS(y_train,X_train).fit()\n",
    "model1.summary()"
   ]
  },
  {
   "cell_type": "code",
   "execution_count": 909,
   "metadata": {
    "scrolled": false
   },
   "outputs": [
    {
     "data": {
      "text/html": [
       "<div>\n",
       "<style>\n",
       "    .dataframe thead tr:only-child th {\n",
       "        text-align: right;\n",
       "    }\n",
       "\n",
       "    .dataframe thead th {\n",
       "        text-align: left;\n",
       "    }\n",
       "\n",
       "    .dataframe tbody tr th {\n",
       "        vertical-align: top;\n",
       "    }\n",
       "</style>\n",
       "<table border=\"1\" class=\"dataframe\">\n",
       "  <thead>\n",
       "    <tr style=\"text-align: right;\">\n",
       "      <th></th>\n",
       "      <th>24</th>\n",
       "      <th>11</th>\n",
       "      <th>20</th>\n",
       "      <th>15</th>\n",
       "      <th>5</th>\n",
       "      <th>6</th>\n",
       "      <th>14</th>\n",
       "      <th>21</th>\n",
       "      <th>0</th>\n",
       "      <th>1</th>\n",
       "      <th>12</th>\n",
       "      <th>3</th>\n",
       "      <th>8</th>\n",
       "      <th>10</th>\n",
       "      <th>17</th>\n",
       "      <th>13</th>\n",
       "      <th>18</th>\n",
       "      <th>7</th>\n",
       "      <th>2</th>\n",
       "      <th>19</th>\n",
       "      <th>9</th>\n",
       "      <th>16</th>\n",
       "      <th>22</th>\n",
       "      <th>4</th>\n",
       "      <th>23</th>\n",
       "    </tr>\n",
       "  </thead>\n",
       "  <tbody>\n",
       "    <tr>\n",
       "      <th>Var</th>\n",
       "      <td>idi</td>\n",
       "      <td>rotor</td>\n",
       "      <td>fueltype</td>\n",
       "      <td>l</td>\n",
       "      <td>three</td>\n",
       "      <td>two</td>\n",
       "      <td>peugeot</td>\n",
       "      <td>compressionratio</td>\n",
       "      <td>enginesize</td>\n",
       "      <td>curbweight</td>\n",
       "      <td>four</td>\n",
       "      <td>carwidth</td>\n",
       "      <td>boreratio</td>\n",
       "      <td>stroke</td>\n",
       "      <td>six</td>\n",
       "      <td>five</td>\n",
       "      <td>buick</td>\n",
       "      <td>porsche</td>\n",
       "      <td>enginelocation</td>\n",
       "      <td>audi</td>\n",
       "      <td>twelve</td>\n",
       "      <td>dohcv</td>\n",
       "      <td>volvo</td>\n",
       "      <td>bmw</td>\n",
       "      <td>saab</td>\n",
       "    </tr>\n",
       "    <tr>\n",
       "      <th>Vif</th>\n",
       "      <td>inf</td>\n",
       "      <td>inf</td>\n",
       "      <td>inf</td>\n",
       "      <td>inf</td>\n",
       "      <td>inf</td>\n",
       "      <td>inf</td>\n",
       "      <td>inf</td>\n",
       "      <td>98.470</td>\n",
       "      <td>79.980</td>\n",
       "      <td>69.290</td>\n",
       "      <td>64.220</td>\n",
       "      <td>53.760</td>\n",
       "      <td>43.190</td>\n",
       "      <td>35.710</td>\n",
       "      <td>11.750</td>\n",
       "      <td>6.080</td>\n",
       "      <td>5.640</td>\n",
       "      <td>5.480</td>\n",
       "      <td>4.720</td>\n",
       "      <td>3.420</td>\n",
       "      <td>2.990</td>\n",
       "      <td>2.490</td>\n",
       "      <td>1.730</td>\n",
       "      <td>1.370</td>\n",
       "      <td>1.350</td>\n",
       "    </tr>\n",
       "  </tbody>\n",
       "</table>\n",
       "</div>"
      ],
      "text/plain": [
       "      24     11        20  15     5    6        14                21  \\\n",
       "Var  idi  rotor  fueltype   l  three  two  peugeot  compressionratio   \n",
       "Vif  inf    inf       inf inf    inf  inf      inf            98.470   \n",
       "\n",
       "             0           1      12        3          8       10     17    13  \\\n",
       "Var  enginesize  curbweight   four  carwidth  boreratio  stroke    six  five   \n",
       "Vif      79.980      69.290 64.220    53.760     43.190  35.710 11.750 6.080   \n",
       "\n",
       "        18       7               2     19      9      16     22    4     23  \n",
       "Var  buick  porsche  enginelocation  audi  twelve  dohcv  volvo   bmw  saab  \n",
       "Vif  5.640    5.480           4.720 3.420   2.990  2.490  1.730 1.370 1.350  "
      ]
     },
     "execution_count": 909,
     "metadata": {},
     "output_type": "execute_result"
    }
   ],
   "source": [
    "# Calculating Vif value\n",
    "vif_cal(vif_data).transpose() # used transpose to utilize the space."
   ]
  },
  {
   "cell_type": "code",
   "execution_count": 910,
   "metadata": {},
   "outputs": [
    {
     "ename": "TypeError",
     "evalue": "object of type 'NoneType' has no len()",
     "output_type": "error",
     "traceback": [
      "\u001b[1;31m---------------------------------------------------------------------------\u001b[0m",
      "\u001b[1;31mTypeError\u001b[0m                                 Traceback (most recent call last)",
      "\u001b[1;32m<ipython-input-910-1e18acd5b1b2>\u001b[0m in \u001b[0;36m<module>\u001b[1;34m()\u001b[0m\n\u001b[0;32m      1\u001b[0m \u001b[1;31m# Add key information of this model to model_summary table.\u001b[0m\u001b[1;33m\u001b[0m\u001b[1;33m\u001b[0m\u001b[0m\n\u001b[1;32m----> 2\u001b[1;33m \u001b[0madd_model_summary\u001b[0m\u001b[1;33m(\u001b[0m\u001b[0mmodel\u001b[0m \u001b[1;33m=\u001b[0m \u001b[0mmodel1\u001b[0m\u001b[1;33m,\u001b[0m \u001b[0mname\u001b[0m \u001b[1;33m=\u001b[0m \u001b[1;34m'model1'\u001b[0m\u001b[1;33m)\u001b[0m\u001b[1;33m\u001b[0m\u001b[0m\n\u001b[0m",
      "\u001b[1;32m<ipython-input-907-a4ce423b81f3>\u001b[0m in \u001b[0;36madd_model_summary\u001b[1;34m(model, name)\u001b[0m\n\u001b[0;32m      1\u001b[0m \u001b[1;32mdef\u001b[0m \u001b[0madd_model_summary\u001b[0m\u001b[1;33m(\u001b[0m\u001b[0mmodel\u001b[0m\u001b[1;33m,\u001b[0m\u001b[0mname\u001b[0m\u001b[1;33m)\u001b[0m\u001b[1;33m:\u001b[0m\u001b[1;33m\u001b[0m\u001b[0m\n\u001b[0;32m      2\u001b[0m     \u001b[0mcol\u001b[0m \u001b[1;33m=\u001b[0m \u001b[0mfeature_to_drop\u001b[0m\u001b[1;33m(\u001b[0m\u001b[0mmodel\u001b[0m\u001b[1;33m)\u001b[0m\u001b[1;33m\u001b[0m\u001b[0m\n\u001b[1;32m----> 3\u001b[1;33m     \u001b[1;32mif\u001b[0m \u001b[0mlen\u001b[0m\u001b[1;33m(\u001b[0m\u001b[0mcol\u001b[0m\u001b[1;33m)\u001b[0m\u001b[1;33m==\u001b[0m\u001b[1;36m0\u001b[0m\u001b[1;33m:\u001b[0m\u001b[1;33m\u001b[0m\u001b[0m\n\u001b[0m\u001b[0;32m      4\u001b[0m         \u001b[1;32mif\u001b[0m\u001b[1;33m(\u001b[0m\u001b[0mcol\u001b[0m \u001b[1;33m==\u001b[0m \u001b[1;34m'No feature to drop'\u001b[0m\u001b[1;33m)\u001b[0m\u001b[1;33m:\u001b[0m\u001b[1;33m\u001b[0m\u001b[0m\n\u001b[0;32m      5\u001b[0m             \u001b[0mmodel_summary\u001b[0m\u001b[1;33m.\u001b[0m\u001b[0mloc\u001b[0m\u001b[1;33m[\u001b[0m\u001b[0mname\u001b[0m\u001b[1;33m]\u001b[0m \u001b[1;33m=\u001b[0m \u001b[1;33m[\u001b[0m\u001b[0mX_train\u001b[0m\u001b[1;33m.\u001b[0m\u001b[0mshape\u001b[0m\u001b[1;33m[\u001b[0m\u001b[1;36m1\u001b[0m\u001b[1;33m]\u001b[0m\u001b[1;33m,\u001b[0m\u001b[0mmodel\u001b[0m\u001b[1;33m.\u001b[0m\u001b[0mrsquared\u001b[0m\u001b[1;33m,\u001b[0m\u001b[0mmodel\u001b[0m\u001b[1;33m.\u001b[0m\u001b[0mrsquared_adj\u001b[0m\u001b[1;33m,\u001b[0m\u001b[1;34m'Nothing to Drop'\u001b[0m\u001b[1;33m,\u001b[0m\u001b[0mnp\u001b[0m\u001b[1;33m.\u001b[0m\u001b[0mNaN\u001b[0m\u001b[1;33m,\u001b[0m\u001b[0mnp\u001b[0m\u001b[1;33m.\u001b[0m\u001b[0mNaN\u001b[0m\u001b[1;33m]\u001b[0m\u001b[1;33m\u001b[0m\u001b[0m\n",
      "\u001b[1;31mTypeError\u001b[0m: object of type 'NoneType' has no len()"
     ]
    }
   ],
   "source": [
    "# Add key information of this model to model_summary table.\n",
    "add_model_summary(model = model1, name = 'model1')"
   ]
  },
  {
   "cell_type": "markdown",
   "metadata": {},
   "source": [
    "#### Model 2"
   ]
  },
  {
   "cell_type": "code",
   "execution_count": null,
   "metadata": {
    "collapsed": true,
    "scrolled": false
   },
   "outputs": [],
   "source": [
    "# Dropping highly correlated variables and insignificant variables\n",
    "X_train = X_train.drop(feature_to_drop(model1).index[0], axis =1)\n",
    "vif_data = vif_data.drop(feature_to_drop(model1).index[0], axis =1)"
   ]
  },
  {
   "cell_type": "code",
   "execution_count": null,
   "metadata": {
    "scrolled": false
   },
   "outputs": [],
   "source": [
    "model2 = sm.OLS(y_train,X_train).fit()\n",
    "model2.summary()"
   ]
  },
  {
   "cell_type": "code",
   "execution_count": null,
   "metadata": {
    "scrolled": false
   },
   "outputs": [],
   "source": [
    "# Calculating Vif value\n",
    "vif_cal(vif_data).transpose() # used transpose to utilize the space."
   ]
  },
  {
   "cell_type": "code",
   "execution_count": null,
   "metadata": {
    "scrolled": false
   },
   "outputs": [],
   "source": [
    "# Add key information of this model to model_summary table.\n",
    "add_model_summary(model = model2, name = 'model2')"
   ]
  },
  {
   "cell_type": "markdown",
   "metadata": {},
   "source": [
    "#### Model 3"
   ]
  },
  {
   "cell_type": "code",
   "execution_count": null,
   "metadata": {
    "collapsed": true,
    "scrolled": false
   },
   "outputs": [],
   "source": [
    "# Dropping highly correlated variables and insignificant variables\n",
    "X_train = X_train.drop(feature_to_drop(model2).index[0], axis =1)\n",
    "vif_data = vif_data.drop(feature_to_drop(model2).index[0], axis =1)"
   ]
  },
  {
   "cell_type": "code",
   "execution_count": null,
   "metadata": {
    "scrolled": false
   },
   "outputs": [],
   "source": [
    "model3 = sm.OLS(y_train,X_train).fit()\n",
    "model3.summary()"
   ]
  },
  {
   "cell_type": "code",
   "execution_count": null,
   "metadata": {
    "scrolled": false
   },
   "outputs": [],
   "source": [
    "# Calculating Vif value\n",
    "vif_cal(vif_data).transpose() # used transpose to utilize the space."
   ]
  },
  {
   "cell_type": "code",
   "execution_count": null,
   "metadata": {
    "scrolled": false
   },
   "outputs": [],
   "source": [
    "# Add key information of this model to model_summary table.\n",
    "add_model_summary(model = model3, name = 'model3')"
   ]
  },
  {
   "cell_type": "markdown",
   "metadata": {},
   "source": [
    "#### Model 4"
   ]
  },
  {
   "cell_type": "code",
   "execution_count": null,
   "metadata": {
    "collapsed": true,
    "scrolled": false
   },
   "outputs": [],
   "source": [
    "# Dropping highly correlated variables and insignificant variables\n",
    "X_train = X_train.drop(feature_to_drop(model3).index[0], axis =1)\n",
    "vif_data = vif_data.drop(feature_to_drop(model3).index[0], axis =1)"
   ]
  },
  {
   "cell_type": "code",
   "execution_count": null,
   "metadata": {
    "scrolled": false
   },
   "outputs": [],
   "source": [
    "model4 = sm.OLS(y_train,X_train).fit()\n",
    "model4.summary()"
   ]
  },
  {
   "cell_type": "code",
   "execution_count": null,
   "metadata": {
    "scrolled": false
   },
   "outputs": [],
   "source": [
    "vif_cal(vif_data)"
   ]
  },
  {
   "cell_type": "code",
   "execution_count": null,
   "metadata": {
    "scrolled": false
   },
   "outputs": [],
   "source": [
    "# Add key information of this model to model_summary table.\n",
    "add_model_summary(model = model4, name = 'model4')"
   ]
  },
  {
   "cell_type": "markdown",
   "metadata": {},
   "source": [
    "#### Model 5"
   ]
  },
  {
   "cell_type": "code",
   "execution_count": null,
   "metadata": {
    "collapsed": true,
    "scrolled": false
   },
   "outputs": [],
   "source": [
    "# Dropping highly correlated variables and insignificant variables\n",
    "X_train = X_train.drop(feature_to_drop(model4).index[0], axis =1)\n",
    "vif_data = vif_data.drop(feature_to_drop(model4).index[0], axis =1)"
   ]
  },
  {
   "cell_type": "code",
   "execution_count": null,
   "metadata": {
    "scrolled": false
   },
   "outputs": [],
   "source": [
    "model5 = sm.OLS(y_train,X_train).fit()\n",
    "model5.summary()"
   ]
  },
  {
   "cell_type": "code",
   "execution_count": null,
   "metadata": {
    "scrolled": false
   },
   "outputs": [],
   "source": [
    "# Calculating Vif value\n",
    "vif_cal(vif_data).transpose() # used transpose to utilize the space."
   ]
  },
  {
   "cell_type": "code",
   "execution_count": null,
   "metadata": {
    "scrolled": false
   },
   "outputs": [],
   "source": [
    "# Add key information of this model to model_summary table.\n",
    "add_model_summary(model = model5, name = 'model5')"
   ]
  },
  {
   "cell_type": "markdown",
   "metadata": {},
   "source": [
    "#### Model 6"
   ]
  },
  {
   "cell_type": "code",
   "execution_count": null,
   "metadata": {
    "collapsed": true,
    "scrolled": false
   },
   "outputs": [],
   "source": [
    "# Dropping highly correlated variables and insignificant variables\n",
    "X_train = X_train.drop(feature_to_drop(model5).index[0], axis =1)\n",
    "vif_data = vif_data.drop(feature_to_drop(model5).index[0], axis =1)"
   ]
  },
  {
   "cell_type": "code",
   "execution_count": null,
   "metadata": {
    "scrolled": false
   },
   "outputs": [],
   "source": [
    "model6 = sm.OLS(y_train,X_train).fit()\n",
    "model6.summary()"
   ]
  },
  {
   "cell_type": "code",
   "execution_count": null,
   "metadata": {
    "scrolled": false
   },
   "outputs": [],
   "source": [
    "# Calculating Vif value\n",
    "vif_cal(vif_data).transpose() # used transpose to utilize the space."
   ]
  },
  {
   "cell_type": "code",
   "execution_count": null,
   "metadata": {
    "scrolled": false
   },
   "outputs": [],
   "source": [
    "# Add key information of this model to model_summary table.\n",
    "add_model_summary(model = model6, name = 'model6')"
   ]
  },
  {
   "cell_type": "markdown",
   "metadata": {},
   "source": [
    "#### Model 7"
   ]
  },
  {
   "cell_type": "code",
   "execution_count": null,
   "metadata": {
    "collapsed": true,
    "scrolled": false
   },
   "outputs": [],
   "source": [
    "# Dropping highly correlated variables and insignificant variables\n",
    "X_train = X_train.drop(feature_to_drop(model6).index[0], axis =1)\n",
    "vif_data = vif_data.drop(feature_to_drop(model6).index[0], axis =1)"
   ]
  },
  {
   "cell_type": "code",
   "execution_count": null,
   "metadata": {
    "scrolled": false
   },
   "outputs": [],
   "source": [
    "model7 = sm.OLS(y_train,X_train).fit()\n",
    "model7.summary()"
   ]
  },
  {
   "cell_type": "code",
   "execution_count": null,
   "metadata": {
    "scrolled": false
   },
   "outputs": [],
   "source": [
    "# Calculating Vif value\n",
    "vif_cal(vif_data).transpose() # used transpose to utilize the space."
   ]
  },
  {
   "cell_type": "code",
   "execution_count": null,
   "metadata": {},
   "outputs": [],
   "source": [
    "col = feature_to_drop(model7)\n",
    "#    if len(col)==0:\n",
    "#        if(col == 'No feature to drop'):\n",
    "len(col)"
   ]
  },
  {
   "cell_type": "code",
   "execution_count": 768,
   "metadata": {
    "scrolled": false
   },
   "outputs": [
    {
     "ename": "TypeError",
     "evalue": "Could not compare ['No feature to drop'] with block values",
     "output_type": "error",
     "traceback": [
      "\u001b[1;31m---------------------------------------------------------------------------\u001b[0m",
      "\u001b[1;31mTypeError\u001b[0m                                 Traceback (most recent call last)",
      "\u001b[1;32m<ipython-input-768-d21f01df379c>\u001b[0m in \u001b[0;36m<module>\u001b[1;34m()\u001b[0m\n\u001b[0;32m      1\u001b[0m \u001b[1;31m# Add key information of this model to model_summary table.\u001b[0m\u001b[1;33m\u001b[0m\u001b[1;33m\u001b[0m\u001b[0m\n\u001b[1;32m----> 2\u001b[1;33m \u001b[0madd_model_summary\u001b[0m\u001b[1;33m(\u001b[0m\u001b[0mmodel\u001b[0m \u001b[1;33m=\u001b[0m \u001b[0mmodel7\u001b[0m\u001b[1;33m,\u001b[0m \u001b[0mname\u001b[0m \u001b[1;33m=\u001b[0m \u001b[1;34m'model7'\u001b[0m\u001b[1;33m)\u001b[0m\u001b[1;33m\u001b[0m\u001b[0m\n\u001b[0m",
      "\u001b[1;32m<ipython-input-726-a4ce423b81f3>\u001b[0m in \u001b[0;36madd_model_summary\u001b[1;34m(model, name)\u001b[0m\n\u001b[0;32m      2\u001b[0m     \u001b[0mcol\u001b[0m \u001b[1;33m=\u001b[0m \u001b[0mfeature_to_drop\u001b[0m\u001b[1;33m(\u001b[0m\u001b[0mmodel\u001b[0m\u001b[1;33m)\u001b[0m\u001b[1;33m\u001b[0m\u001b[0m\n\u001b[0;32m      3\u001b[0m     \u001b[1;32mif\u001b[0m \u001b[0mlen\u001b[0m\u001b[1;33m(\u001b[0m\u001b[0mcol\u001b[0m\u001b[1;33m)\u001b[0m\u001b[1;33m==\u001b[0m\u001b[1;36m0\u001b[0m\u001b[1;33m:\u001b[0m\u001b[1;33m\u001b[0m\u001b[0m\n\u001b[1;32m----> 4\u001b[1;33m         \u001b[1;32mif\u001b[0m\u001b[1;33m(\u001b[0m\u001b[0mcol\u001b[0m \u001b[1;33m==\u001b[0m \u001b[1;34m'No feature to drop'\u001b[0m\u001b[1;33m)\u001b[0m\u001b[1;33m:\u001b[0m\u001b[1;33m\u001b[0m\u001b[0m\n\u001b[0m\u001b[0;32m      5\u001b[0m             \u001b[0mmodel_summary\u001b[0m\u001b[1;33m.\u001b[0m\u001b[0mloc\u001b[0m\u001b[1;33m[\u001b[0m\u001b[0mname\u001b[0m\u001b[1;33m]\u001b[0m \u001b[1;33m=\u001b[0m \u001b[1;33m[\u001b[0m\u001b[0mX_train\u001b[0m\u001b[1;33m.\u001b[0m\u001b[0mshape\u001b[0m\u001b[1;33m[\u001b[0m\u001b[1;36m1\u001b[0m\u001b[1;33m]\u001b[0m\u001b[1;33m,\u001b[0m\u001b[0mmodel\u001b[0m\u001b[1;33m.\u001b[0m\u001b[0mrsquared\u001b[0m\u001b[1;33m,\u001b[0m\u001b[0mmodel\u001b[0m\u001b[1;33m.\u001b[0m\u001b[0mrsquared_adj\u001b[0m\u001b[1;33m,\u001b[0m\u001b[1;34m'Nothing to Drop'\u001b[0m\u001b[1;33m,\u001b[0m\u001b[0mnp\u001b[0m\u001b[1;33m.\u001b[0m\u001b[0mNaN\u001b[0m\u001b[1;33m,\u001b[0m\u001b[0mnp\u001b[0m\u001b[1;33m.\u001b[0m\u001b[0mNaN\u001b[0m\u001b[1;33m]\u001b[0m\u001b[1;33m\u001b[0m\u001b[0m\n\u001b[0;32m      6\u001b[0m     \u001b[1;32melse\u001b[0m\u001b[1;33m:\u001b[0m\u001b[1;33m\u001b[0m\u001b[0m\n",
      "\u001b[1;32m~\\Anaconda3\\envs\\tensorflow\\lib\\site-packages\\pandas\\core\\ops.py\u001b[0m in \u001b[0;36mf\u001b[1;34m(self, other)\u001b[0m\n\u001b[0;32m   1302\u001b[0m             \u001b[1;31m# straight boolean comparisions we want to allow all columns\u001b[0m\u001b[1;33m\u001b[0m\u001b[1;33m\u001b[0m\u001b[0m\n\u001b[0;32m   1303\u001b[0m             \u001b[1;31m# (regardless of dtype to pass thru) See #4537 for discussion.\u001b[0m\u001b[1;33m\u001b[0m\u001b[1;33m\u001b[0m\u001b[0m\n\u001b[1;32m-> 1304\u001b[1;33m             \u001b[0mres\u001b[0m \u001b[1;33m=\u001b[0m \u001b[0mself\u001b[0m\u001b[1;33m.\u001b[0m\u001b[0m_combine_const\u001b[0m\u001b[1;33m(\u001b[0m\u001b[0mother\u001b[0m\u001b[1;33m,\u001b[0m \u001b[0mfunc\u001b[0m\u001b[1;33m,\u001b[0m \u001b[0mraise_on_error\u001b[0m\u001b[1;33m=\u001b[0m\u001b[1;32mFalse\u001b[0m\u001b[1;33m)\u001b[0m\u001b[1;33m\u001b[0m\u001b[0m\n\u001b[0m\u001b[0;32m   1305\u001b[0m             \u001b[1;32mreturn\u001b[0m \u001b[0mres\u001b[0m\u001b[1;33m.\u001b[0m\u001b[0mfillna\u001b[0m\u001b[1;33m(\u001b[0m\u001b[1;32mTrue\u001b[0m\u001b[1;33m)\u001b[0m\u001b[1;33m.\u001b[0m\u001b[0mastype\u001b[0m\u001b[1;33m(\u001b[0m\u001b[0mbool\u001b[0m\u001b[1;33m)\u001b[0m\u001b[1;33m\u001b[0m\u001b[0m\n\u001b[0;32m   1306\u001b[0m \u001b[1;33m\u001b[0m\u001b[0m\n",
      "\u001b[1;32m~\\Anaconda3\\envs\\tensorflow\\lib\\site-packages\\pandas\\core\\frame.py\u001b[0m in \u001b[0;36m_combine_const\u001b[1;34m(self, other, func, raise_on_error)\u001b[0m\n\u001b[0;32m   3541\u001b[0m     \u001b[1;32mdef\u001b[0m \u001b[0m_combine_const\u001b[0m\u001b[1;33m(\u001b[0m\u001b[0mself\u001b[0m\u001b[1;33m,\u001b[0m \u001b[0mother\u001b[0m\u001b[1;33m,\u001b[0m \u001b[0mfunc\u001b[0m\u001b[1;33m,\u001b[0m \u001b[0mraise_on_error\u001b[0m\u001b[1;33m=\u001b[0m\u001b[1;32mTrue\u001b[0m\u001b[1;33m)\u001b[0m\u001b[1;33m:\u001b[0m\u001b[1;33m\u001b[0m\u001b[0m\n\u001b[0;32m   3542\u001b[0m         new_data = self._data.eval(func=func, other=other,\n\u001b[1;32m-> 3543\u001b[1;33m                                    raise_on_error=raise_on_error)\n\u001b[0m\u001b[0;32m   3544\u001b[0m         \u001b[1;32mreturn\u001b[0m \u001b[0mself\u001b[0m\u001b[1;33m.\u001b[0m\u001b[0m_constructor\u001b[0m\u001b[1;33m(\u001b[0m\u001b[0mnew_data\u001b[0m\u001b[1;33m)\u001b[0m\u001b[1;33m\u001b[0m\u001b[0m\n\u001b[0;32m   3545\u001b[0m \u001b[1;33m\u001b[0m\u001b[0m\n",
      "\u001b[1;32m~\\Anaconda3\\envs\\tensorflow\\lib\\site-packages\\pandas\\core\\internals.py\u001b[0m in \u001b[0;36meval\u001b[1;34m(self, **kwargs)\u001b[0m\n\u001b[0;32m   3195\u001b[0m \u001b[1;33m\u001b[0m\u001b[0m\n\u001b[0;32m   3196\u001b[0m     \u001b[1;32mdef\u001b[0m \u001b[0meval\u001b[0m\u001b[1;33m(\u001b[0m\u001b[0mself\u001b[0m\u001b[1;33m,\u001b[0m \u001b[1;33m**\u001b[0m\u001b[0mkwargs\u001b[0m\u001b[1;33m)\u001b[0m\u001b[1;33m:\u001b[0m\u001b[1;33m\u001b[0m\u001b[0m\n\u001b[1;32m-> 3197\u001b[1;33m         \u001b[1;32mreturn\u001b[0m \u001b[0mself\u001b[0m\u001b[1;33m.\u001b[0m\u001b[0mapply\u001b[0m\u001b[1;33m(\u001b[0m\u001b[1;34m'eval'\u001b[0m\u001b[1;33m,\u001b[0m \u001b[1;33m**\u001b[0m\u001b[0mkwargs\u001b[0m\u001b[1;33m)\u001b[0m\u001b[1;33m\u001b[0m\u001b[0m\n\u001b[0m\u001b[0;32m   3198\u001b[0m \u001b[1;33m\u001b[0m\u001b[0m\n\u001b[0;32m   3199\u001b[0m     \u001b[1;32mdef\u001b[0m \u001b[0mquantile\u001b[0m\u001b[1;33m(\u001b[0m\u001b[0mself\u001b[0m\u001b[1;33m,\u001b[0m \u001b[1;33m**\u001b[0m\u001b[0mkwargs\u001b[0m\u001b[1;33m)\u001b[0m\u001b[1;33m:\u001b[0m\u001b[1;33m\u001b[0m\u001b[0m\n",
      "\u001b[1;32m~\\Anaconda3\\envs\\tensorflow\\lib\\site-packages\\pandas\\core\\internals.py\u001b[0m in \u001b[0;36mapply\u001b[1;34m(self, f, axes, filter, do_integrity_check, consolidate, **kwargs)\u001b[0m\n\u001b[0;32m   3089\u001b[0m \u001b[1;33m\u001b[0m\u001b[0m\n\u001b[0;32m   3090\u001b[0m             \u001b[0mkwargs\u001b[0m\u001b[1;33m[\u001b[0m\u001b[1;34m'mgr'\u001b[0m\u001b[1;33m]\u001b[0m \u001b[1;33m=\u001b[0m \u001b[0mself\u001b[0m\u001b[1;33m\u001b[0m\u001b[0m\n\u001b[1;32m-> 3091\u001b[1;33m             \u001b[0mapplied\u001b[0m \u001b[1;33m=\u001b[0m \u001b[0mgetattr\u001b[0m\u001b[1;33m(\u001b[0m\u001b[0mb\u001b[0m\u001b[1;33m,\u001b[0m \u001b[0mf\u001b[0m\u001b[1;33m)\u001b[0m\u001b[1;33m(\u001b[0m\u001b[1;33m**\u001b[0m\u001b[0mkwargs\u001b[0m\u001b[1;33m)\u001b[0m\u001b[1;33m\u001b[0m\u001b[0m\n\u001b[0m\u001b[0;32m   3092\u001b[0m             \u001b[0mresult_blocks\u001b[0m \u001b[1;33m=\u001b[0m \u001b[0m_extend_blocks\u001b[0m\u001b[1;33m(\u001b[0m\u001b[0mapplied\u001b[0m\u001b[1;33m,\u001b[0m \u001b[0mresult_blocks\u001b[0m\u001b[1;33m)\u001b[0m\u001b[1;33m\u001b[0m\u001b[0m\n\u001b[0;32m   3093\u001b[0m \u001b[1;33m\u001b[0m\u001b[0m\n",
      "\u001b[1;32m~\\Anaconda3\\envs\\tensorflow\\lib\\site-packages\\pandas\\core\\internals.py\u001b[0m in \u001b[0;36meval\u001b[1;34m(self, func, other, raise_on_error, try_cast, mgr)\u001b[0m\n\u001b[0;32m   1203\u001b[0m \u001b[1;33m\u001b[0m\u001b[0m\n\u001b[0;32m   1204\u001b[0m                 raise TypeError('Could not compare [%s] with block values' %\n\u001b[1;32m-> 1205\u001b[1;33m                                 repr(other))\n\u001b[0m\u001b[0;32m   1206\u001b[0m \u001b[1;33m\u001b[0m\u001b[0m\n\u001b[0;32m   1207\u001b[0m         \u001b[1;31m# transpose if needed\u001b[0m\u001b[1;33m\u001b[0m\u001b[1;33m\u001b[0m\u001b[0m\n",
      "\u001b[1;31mTypeError\u001b[0m: Could not compare ['No feature to drop'] with block values"
     ]
    }
   ],
   "source": [
    "# Add key information of this model to model_summary table.\n",
    "add_model_summary(model = model7, name = 'model7')"
   ]
  },
  {
   "cell_type": "markdown",
   "metadata": {},
   "source": [
    "***\n",
    "***\n",
    "***"
   ]
  },
  {
   "cell_type": "markdown",
   "metadata": {},
   "source": [
    "#### Model 8"
   ]
  },
  {
   "cell_type": "code",
   "execution_count": null,
   "metadata": {
    "collapsed": true,
    "scrolled": false
   },
   "outputs": [],
   "source": [
    "# Dropping highly correlated variables and insignificant variables\n",
    "X_train = X_train.drop(feature_to_drop(model7).index[0], axis =1)\n",
    "vif_data = vif_data.drop(feature_to_drop(model7).index[0], axis =1)"
   ]
  },
  {
   "cell_type": "code",
   "execution_count": null,
   "metadata": {
    "scrolled": false
   },
   "outputs": [],
   "source": [
    "model8 = sm.OLS(y_train,X_train).fit()\n",
    "model8.summary()"
   ]
  },
  {
   "cell_type": "code",
   "execution_count": null,
   "metadata": {
    "scrolled": true
   },
   "outputs": [],
   "source": [
    "# Calculating Vif value\n",
    "vif_cal(vif_data).transpose() # used transpose to utilize the space."
   ]
  },
  {
   "cell_type": "code",
   "execution_count": null,
   "metadata": {
    "scrolled": false
   },
   "outputs": [],
   "source": [
    "# Add key information of this model to model_summary table.\n",
    "add_model_summary(model = model8, name = 'model8')"
   ]
  },
  {
   "cell_type": "markdown",
   "metadata": {},
   "source": [
    "#### Model 9"
   ]
  },
  {
   "cell_type": "code",
   "execution_count": null,
   "metadata": {
    "collapsed": true,
    "scrolled": false
   },
   "outputs": [],
   "source": [
    "# Dropping highly correlated variables and insignificant variables\n",
    "X_train = X_train.drop(feature_to_drop(model8).index[0], axis =1)\n",
    "vif_data = vif_data.drop(feature_to_drop(model8).index[0], axis =1)"
   ]
  },
  {
   "cell_type": "code",
   "execution_count": null,
   "metadata": {
    "collapsed": true,
    "scrolled": false
   },
   "outputs": [],
   "source": [
    "model9 = sm.OLS(y_train,X_train).fit()\n",
    "model9.summary()"
   ]
  },
  {
   "cell_type": "code",
   "execution_count": null,
   "metadata": {
    "collapsed": true,
    "scrolled": false
   },
   "outputs": [],
   "source": [
    "# Calculating Vif value\n",
    "vif_cal(vif_data).transpose() # used transpose to utilize the space."
   ]
  },
  {
   "cell_type": "code",
   "execution_count": null,
   "metadata": {
    "collapsed": true,
    "scrolled": false
   },
   "outputs": [],
   "source": [
    "# Add key information of this model to model_summary table.\n",
    "add_model_summary(model = model9, name = 'model9')"
   ]
  },
  {
   "cell_type": "markdown",
   "metadata": {},
   "source": [
    "#### Model 10"
   ]
  },
  {
   "cell_type": "code",
   "execution_count": null,
   "metadata": {
    "collapsed": true,
    "scrolled": false
   },
   "outputs": [],
   "source": [
    "# Dropping highly correlated variables and insignificant variables\n",
    "X_train = X_train.drop(feature_to_drop(model9).index[0], axis =1)\n",
    "vif_data = vif_data.drop(feature_to_drop(model9).index[0], axis =1)"
   ]
  },
  {
   "cell_type": "code",
   "execution_count": null,
   "metadata": {
    "collapsed": true,
    "scrolled": false
   },
   "outputs": [],
   "source": [
    "model10 = sm.OLS(y_train,X_train).fit()\n",
    "model10.summary()"
   ]
  },
  {
   "cell_type": "code",
   "execution_count": null,
   "metadata": {
    "collapsed": true,
    "scrolled": false
   },
   "outputs": [],
   "source": [
    "# Calculating Vif value\n",
    "vif_cal(vif_data).transpose() # used transpose to utilize the space."
   ]
  },
  {
   "cell_type": "code",
   "execution_count": null,
   "metadata": {
    "collapsed": true,
    "scrolled": false
   },
   "outputs": [],
   "source": [
    "# Add key information of this model to model_summary table.\n",
    "add_model_summary(model = model10, name = 'model10')"
   ]
  },
  {
   "cell_type": "markdown",
   "metadata": {},
   "source": [
    "#### Model 11"
   ]
  },
  {
   "cell_type": "code",
   "execution_count": null,
   "metadata": {
    "collapsed": true,
    "scrolled": false
   },
   "outputs": [],
   "source": [
    "# Dropping highly correlated variables and insignificant variables\n",
    "X_train = X_train.drop(feature_to_drop(model10).index[0], axis =1)\n",
    "vif_data = vif_data.drop(feature_to_drop(model10).index[0], axis =1)"
   ]
  },
  {
   "cell_type": "code",
   "execution_count": null,
   "metadata": {
    "collapsed": true,
    "scrolled": false
   },
   "outputs": [],
   "source": [
    "model11 = sm.OLS(y_train,X_train).fit()\n",
    "model11.summary()"
   ]
  },
  {
   "cell_type": "code",
   "execution_count": null,
   "metadata": {
    "collapsed": true,
    "scrolled": false
   },
   "outputs": [],
   "source": [
    "# Calculating Vif value\n",
    "vif_cal(vif_data).transpose() # used transpose to utilize the space."
   ]
  },
  {
   "cell_type": "code",
   "execution_count": null,
   "metadata": {
    "collapsed": true,
    "scrolled": false
   },
   "outputs": [],
   "source": [
    "# Add key information of this model to model_summary table.\n",
    "add_model_summary(model = model11, name = 'model11')"
   ]
  },
  {
   "cell_type": "markdown",
   "metadata": {},
   "source": [
    "#### Model 12"
   ]
  },
  {
   "cell_type": "code",
   "execution_count": null,
   "metadata": {
    "collapsed": true,
    "scrolled": false
   },
   "outputs": [],
   "source": [
    "# Dropping highly correlated variables and insignificant variables\n",
    "X_train = X_train.drop(feature_to_drop(model11).index[0], axis =1)\n",
    "vif_data = vif_data.drop(feature_to_drop(model11).index[0], axis =1)"
   ]
  },
  {
   "cell_type": "code",
   "execution_count": null,
   "metadata": {
    "collapsed": true,
    "scrolled": false
   },
   "outputs": [],
   "source": [
    "model12 = sm.OLS(y_train,X_train).fit()\n",
    "model12.summary()"
   ]
  },
  {
   "cell_type": "code",
   "execution_count": null,
   "metadata": {
    "collapsed": true,
    "scrolled": false
   },
   "outputs": [],
   "source": [
    "# Calculating Vif value\n",
    "vif_cal(vif_data).transpose() # used transpose to utilize the space."
   ]
  },
  {
   "cell_type": "code",
   "execution_count": null,
   "metadata": {
    "collapsed": true,
    "scrolled": false
   },
   "outputs": [],
   "source": [
    "# Add key information of this model to model_summary table.\n",
    "add_model_summary(model = model12, name = 'model12')"
   ]
  },
  {
   "cell_type": "code",
   "execution_count": null,
   "metadata": {
    "collapsed": true,
    "scrolled": false
   },
   "outputs": [],
   "source": []
  },
  {
   "cell_type": "code",
   "execution_count": null,
   "metadata": {
    "collapsed": true,
    "scrolled": false
   },
   "outputs": [],
   "source": [
    "# Making predictions\n",
    "X_test = X_test[X_train.columns]\n",
    "y_pred = model7.predict(X_test)"
   ]
  },
  {
   "cell_type": "code",
   "execution_count": null,
   "metadata": {
    "scrolled": false
   },
   "outputs": [],
   "source": [
    "# computing rmse and r^2\n",
    "mse = mean_squared_error(y_test,y_pred)\n",
    "print(mse)\n",
    "r_square = r2_score(y_test,y_pred)\n",
    "print(r_square)"
   ]
  },
  {
   "cell_type": "code",
   "execution_count": null,
   "metadata": {},
   "outputs": [],
   "source": [
    "display(model_summary)"
   ]
  },
  {
   "cell_type": "code",
   "execution_count": null,
   "metadata": {},
   "outputs": [],
   "source": [
    "len(y_pred)\n",
    "len(y_test)"
   ]
  },
  {
   "cell_type": "code",
   "execution_count": null,
   "metadata": {},
   "outputs": [],
   "source": [
    "for i in range(1,len(y_pred),1):\n",
    "    print(i)"
   ]
  },
  {
   "cell_type": "code",
   "execution_count": null,
   "metadata": {
    "scrolled": false
   },
   "outputs": [],
   "source": [
    "#Actual vs Predicted\n",
    "c = [i for i in range(0,len(y_pred),1)]\n",
    "fig = plt.figure(figsize=(14,7))\n",
    "plt.plot(c,y_test, color=\"blue\", linewidth=2.5, linestyle=\"-\",label='Actual')\n",
    "plt.plot(c,y_pred, color=\"red\",  linewidth=2.5, linestyle=\"-\",label='Predicted')\n",
    "fig.suptitle('Actual and Predicted', fontsize=20)              # Plot heading \n",
    "plt.xlabel('Index', fontsize=18)                               # X-label\n",
    "plt.ylabel('Price', fontsize=16)                               # Y-label\n",
    "plt.legend()\n",
    "plt.show()"
   ]
  },
  {
   "cell_type": "code",
   "execution_count": 565,
   "metadata": {},
   "outputs": [
    {
     "ename": "NameError",
     "evalue": "name 'media' is not defined",
     "output_type": "error",
     "traceback": [
      "\u001b[1;31m---------------------------------------------------------------------------\u001b[0m",
      "\u001b[1;31mNameError\u001b[0m                                 Traceback (most recent call last)",
      "\u001b[1;32m<ipython-input-565-0bbe9cbf64ee>\u001b[0m in \u001b[0;36m<module>\u001b[1;34m()\u001b[0m\n\u001b[0;32m      2\u001b[0m \u001b[0mc\u001b[0m \u001b[1;33m=\u001b[0m \u001b[1;33m[\u001b[0m\u001b[0mi\u001b[0m \u001b[1;32mfor\u001b[0m \u001b[0mi\u001b[0m \u001b[1;32min\u001b[0m \u001b[0mrange\u001b[0m\u001b[1;33m(\u001b[0m\u001b[1;36m0\u001b[0m\u001b[1;33m,\u001b[0m\u001b[0mlen\u001b[0m\u001b[1;33m(\u001b[0m\u001b[0my_pred\u001b[0m\u001b[1;33m)\u001b[0m\u001b[1;33m,\u001b[0m\u001b[1;36m1\u001b[0m\u001b[1;33m)\u001b[0m\u001b[1;33m]\u001b[0m\u001b[1;33m\u001b[0m\u001b[0m\n\u001b[0;32m      3\u001b[0m \u001b[0mfig\u001b[0m \u001b[1;33m=\u001b[0m \u001b[0mplt\u001b[0m\u001b[1;33m.\u001b[0m\u001b[0mfigure\u001b[0m\u001b[1;33m(\u001b[0m\u001b[0mfigsize\u001b[0m\u001b[1;33m=\u001b[0m\u001b[1;33m(\u001b[0m\u001b[1;36m14\u001b[0m\u001b[1;33m,\u001b[0m\u001b[1;36m7\u001b[0m\u001b[1;33m)\u001b[0m\u001b[1;33m)\u001b[0m\u001b[1;33m\u001b[0m\u001b[0m\n\u001b[1;32m----> 4\u001b[1;33m \u001b[0mplt\u001b[0m\u001b[1;33m.\u001b[0m\u001b[0mplot\u001b[0m\u001b[1;33m(\u001b[0m\u001b[0mc\u001b[0m\u001b[1;33m,\u001b[0m\u001b[0mmedia\u001b[0m\u001b[1;33m.\u001b[0m\u001b[0mViews_show\u001b[0m\u001b[1;33m-\u001b[0m\u001b[0mPredicted_views\u001b[0m\u001b[1;33m,\u001b[0m \u001b[0mcolor\u001b[0m\u001b[1;33m=\u001b[0m\u001b[1;34m\"blue\"\u001b[0m\u001b[1;33m,\u001b[0m \u001b[0mlinewidth\u001b[0m\u001b[1;33m=\u001b[0m\u001b[1;36m2.5\u001b[0m\u001b[1;33m,\u001b[0m \u001b[0mlinestyle\u001b[0m\u001b[1;33m=\u001b[0m\u001b[1;34m\"-\"\u001b[0m\u001b[1;33m)\u001b[0m\u001b[1;33m\u001b[0m\u001b[0m\n\u001b[0m\u001b[0;32m      5\u001b[0m \u001b[0mfig\u001b[0m\u001b[1;33m.\u001b[0m\u001b[0msuptitle\u001b[0m\u001b[1;33m(\u001b[0m\u001b[1;34m'Error Terms'\u001b[0m\u001b[1;33m,\u001b[0m \u001b[0mfontsize\u001b[0m\u001b[1;33m=\u001b[0m\u001b[1;36m20\u001b[0m\u001b[1;33m)\u001b[0m              \u001b[1;31m# Plot heading\u001b[0m\u001b[1;33m\u001b[0m\u001b[0m\n\u001b[0;32m      6\u001b[0m \u001b[0mplt\u001b[0m\u001b[1;33m.\u001b[0m\u001b[0mxlabel\u001b[0m\u001b[1;33m(\u001b[0m\u001b[1;34m'Index'\u001b[0m\u001b[1;33m,\u001b[0m \u001b[0mfontsize\u001b[0m\u001b[1;33m=\u001b[0m\u001b[1;36m18\u001b[0m\u001b[1;33m)\u001b[0m                      \u001b[1;31m# X-label\u001b[0m\u001b[1;33m\u001b[0m\u001b[0m\n",
      "\u001b[1;31mNameError\u001b[0m: name 'media' is not defined"
     ]
    },
    {
     "data": {
      "text/plain": [
       "<matplotlib.figure.Figure at 0x1fab930e1d0>"
      ]
     },
     "metadata": {},
     "output_type": "display_data"
    }
   ],
   "source": [
    "# Error terms\n",
    "c = [i for i in range(0,len(y_pred),1)]\n",
    "fig = plt.figure(figsize=(14,7))\n",
    "plt.plot(c,media.Views_show-Predicted_views, color=\"blue\", linewidth=2.5, linestyle=\"-\")\n",
    "fig.suptitle('Error Terms', fontsize=20)              # Plot heading \n",
    "plt.xlabel('Index', fontsize=18)                      # X-label\n",
    "plt.ylabel('Views_show-Predicted_views', fontsize=16)                # Y-label\n",
    "plt.show()"
   ]
  },
  {
   "cell_type": "code",
   "execution_count": null,
   "metadata": {
    "collapsed": true
   },
   "outputs": [],
   "source": []
  }
 ],
 "metadata": {
  "kernelspec": {
   "display_name": "Python 3",
   "language": "python",
   "name": "python3"
  },
  "language_info": {
   "codemirror_mode": {
    "name": "ipython",
    "version": 3
   },
   "file_extension": ".py",
   "mimetype": "text/x-python",
   "name": "python",
   "nbconvert_exporter": "python",
   "pygments_lexer": "ipython3",
   "version": "3.6.4"
  }
 },
 "nbformat": 4,
 "nbformat_minor": 2
}
