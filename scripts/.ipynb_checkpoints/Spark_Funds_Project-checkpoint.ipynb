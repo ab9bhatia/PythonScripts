{
 "cells": [
  {
   "cell_type": "markdown",
   "metadata": {},
   "source": [
    "# Investment Case Group Project"
   ]
  },
  {
   "cell_type": "code",
   "execution_count": 1,
   "metadata": {
    "collapsed": true
   },
   "outputs": [],
   "source": [
    "import pandas as pd\n",
    "import numpy as np\n",
    "import os\n",
    "import re\n",
    "import matplotlib.pyplot as plt\n",
    "%matplotlib inline\n",
    "pd.options.mode.chained_assignment = None #set it to None to remove SettingWithCopyWarning\n",
<<<<<<< HEAD
=======
    "pd.options.display.float_format = '{:.2f}'.format #set it to convert scientific noations such as 4.225108e+11 to 422510842796.00\n",
    "\n",
>>>>>>> 31e0e754eedcf0d02ef04b43d660f988cfd12180
    "# IMPORTANT: Replace inputDir & outDir path with your directory path.\n",
    "inputDir = 'C:/Users/ankit.bhatia/Documents/GitHub/PythonScripts/data/spark_funds/'\n",
    "outDir = 'C:/Users/ankit.bhatia/Documents/GitHub/PythonScripts/data/spark_funds/outDir/'\n",
    "file1 = 'companies.txt'\n",
    "file2 = 'rounds2.csv'\n",
    "file3 = 'mapping.csv'"
   ]
  },
  {
   "cell_type": "markdown",
   "metadata": {},
   "source": [
    "## Checkpoint 1: Data Cleaning"
   ]
  },
  {
   "cell_type": "code",
   "execution_count": 2,
   "metadata": {
    "collapsed": true
   },
   "outputs": [],
   "source": [
    "# Loading datasets into pandas dataframe.\n",
    "companies = pd.read_csv(inputDir+file1,sep='\\t',encoding='iso-8859-1')\n",
    "rounds2 = pd.read_csv(inputDir+file2,encoding='iso-8859-1') # Use 'iso-8859-1' for accented characters"
   ]
  },
  {
   "cell_type": "code",
   "execution_count": 3,
   "metadata": {},
   "outputs": [
    {
     "data": {
      "text/html": [
       "<div>\n",
       "<style>\n",
       "    .dataframe thead tr:only-child th {\n",
       "        text-align: right;\n",
       "    }\n",
       "\n",
       "    .dataframe thead th {\n",
       "        text-align: left;\n",
       "    }\n",
       "\n",
       "    .dataframe tbody tr th {\n",
       "        vertical-align: top;\n",
       "    }\n",
       "</style>\n",
       "<table border=\"1\" class=\"dataframe\">\n",
       "  <thead>\n",
       "    <tr style=\"text-align: right;\">\n",
       "      <th></th>\n",
       "      <th>permalink</th>\n",
       "      <th>name</th>\n",
       "      <th>homepage_url</th>\n",
       "      <th>category_list</th>\n",
       "      <th>status</th>\n",
       "      <th>country_code</th>\n",
       "      <th>state_code</th>\n",
       "      <th>region</th>\n",
       "      <th>city</th>\n",
       "      <th>founded_at</th>\n",
       "    </tr>\n",
       "  </thead>\n",
       "  <tbody>\n",
       "    <tr>\n",
       "      <th>0</th>\n",
       "      <td>/Organization/-Fame</td>\n",
       "      <td>#fame</td>\n",
       "      <td>http://livfame.com</td>\n",
       "      <td>Media</td>\n",
       "      <td>operating</td>\n",
       "      <td>IND</td>\n",
       "      <td>16</td>\n",
       "      <td>Mumbai</td>\n",
       "      <td>Mumbai</td>\n",
       "      <td>NaN</td>\n",
       "    </tr>\n",
       "    <tr>\n",
       "      <th>1</th>\n",
       "      <td>/Organization/-Qounter</td>\n",
       "      <td>:Qounter</td>\n",
       "      <td>http://www.qounter.com</td>\n",
       "      <td>Application Platforms|Real Time|Social Network...</td>\n",
       "      <td>operating</td>\n",
       "      <td>USA</td>\n",
       "      <td>DE</td>\n",
       "      <td>DE - Other</td>\n",
       "      <td>Delaware City</td>\n",
       "      <td>04-09-2014</td>\n",
       "    </tr>\n",
       "  </tbody>\n",
       "</table>\n",
       "</div>"
      ],
      "text/plain": [
       "                permalink      name            homepage_url  \\\n",
       "0     /Organization/-Fame     #fame      http://livfame.com   \n",
       "1  /Organization/-Qounter  :Qounter  http://www.qounter.com   \n",
       "\n",
       "                                       category_list     status country_code  \\\n",
       "0                                              Media  operating          IND   \n",
       "1  Application Platforms|Real Time|Social Network...  operating          USA   \n",
       "\n",
       "  state_code      region           city  founded_at  \n",
       "0         16      Mumbai         Mumbai         NaN  \n",
       "1         DE  DE - Other  Delaware City  04-09-2014  "
      ]
     },
     "execution_count": 3,
     "metadata": {},
     "output_type": "execute_result"
    }
   ],
   "source": [
    "# Get some insight\n",
    "companies.head(2)"
   ]
  },
  {
   "cell_type": "code",
   "execution_count": 4,
   "metadata": {},
   "outputs": [
    {
     "data": {
      "text/html": [
       "<div>\n",
       "<style>\n",
       "    .dataframe thead tr:only-child th {\n",
       "        text-align: right;\n",
       "    }\n",
       "\n",
       "    .dataframe thead th {\n",
       "        text-align: left;\n",
       "    }\n",
       "\n",
       "    .dataframe tbody tr th {\n",
       "        vertical-align: top;\n",
       "    }\n",
       "</style>\n",
       "<table border=\"1\" class=\"dataframe\">\n",
       "  <thead>\n",
       "    <tr style=\"text-align: right;\">\n",
       "      <th></th>\n",
       "      <th>company_permalink</th>\n",
       "      <th>funding_round_permalink</th>\n",
       "      <th>funding_round_type</th>\n",
       "      <th>funding_round_code</th>\n",
       "      <th>funded_at</th>\n",
       "      <th>raised_amount_usd</th>\n",
       "    </tr>\n",
       "  </thead>\n",
       "  <tbody>\n",
       "    <tr>\n",
       "      <th>0</th>\n",
       "      <td>/organization/-fame</td>\n",
       "      <td>/funding-round/9a01d05418af9f794eebff7ace91f638</td>\n",
       "      <td>venture</td>\n",
       "      <td>B</td>\n",
       "      <td>05-01-2015</td>\n",
       "      <td>10000000.00</td>\n",
       "    </tr>\n",
       "    <tr>\n",
       "      <th>1</th>\n",
       "      <td>/ORGANIZATION/-QOUNTER</td>\n",
       "      <td>/funding-round/22dacff496eb7acb2b901dec1dfe5633</td>\n",
       "      <td>venture</td>\n",
       "      <td>A</td>\n",
       "      <td>14-10-2014</td>\n",
       "      <td>nan</td>\n",
       "    </tr>\n",
       "  </tbody>\n",
       "</table>\n",
       "</div>"
      ],
      "text/plain": [
       "        company_permalink                          funding_round_permalink  \\\n",
       "0     /organization/-fame  /funding-round/9a01d05418af9f794eebff7ace91f638   \n",
       "1  /ORGANIZATION/-QOUNTER  /funding-round/22dacff496eb7acb2b901dec1dfe5633   \n",
       "\n",
       "  funding_round_type funding_round_code   funded_at  raised_amount_usd  \n",
       "0            venture                  B  05-01-2015        10000000.00  \n",
       "1            venture                  A  14-10-2014                nan  "
      ]
     },
     "execution_count": 4,
     "metadata": {},
     "output_type": "execute_result"
    }
   ],
   "source": [
    "rounds2.head(2)"
   ]
  },
  {
   "cell_type": "markdown",
   "metadata": {},
   "source": [
    "### Table 1.1\n",
    "#### Q1. How many unique companies are present in rounds2?"
   ]
  },
  {
   "cell_type": "code",
   "execution_count": 5,
   "metadata": {},
   "outputs": [
    {
     "data": {
      "text/plain": [
       "66370"
      ]
     },
     "execution_count": 5,
     "metadata": {},
     "output_type": "execute_result"
    }
   ],
   "source": [
    "# .count() will give the total no of rows.\n",
    "#rounds2.company_permalink.count()\n",
    "\n",
    "# Unique count which excludes NA as well by default, use .lower() , in case of duplicate enties in different case.\n",
    "rounds2.company_permalink.str.lower().nunique()"
   ]
  },
  {
   "cell_type": "markdown",
   "metadata": {},
   "source": [
    "#### Q2. How many unique companies are present in companies?"
   ]
  },
  {
   "cell_type": "code",
   "execution_count": 6,
   "metadata": {},
   "outputs": [
    {
     "data": {
      "text/plain": [
       "66368"
      ]
     },
     "execution_count": 6,
     "metadata": {},
     "output_type": "execute_result"
    }
   ],
   "source": [
    "companies.permalink.str.lower().nunique()"
   ]
  },
  {
   "cell_type": "markdown",
   "metadata": {},
   "source": [
    "#### Q3. In the companies data frame, which column can be used as the unique key for each company? Write the name of the column."
   ]
  },
  {
   "cell_type": "code",
   "execution_count": 7,
   "metadata": {},
   "outputs": [
    {
     "data": {
      "text/plain": [
       "permalink    66368\n",
       "dtype: int64"
      ]
     },
     "execution_count": 7,
     "metadata": {},
     "output_type": "execute_result"
    }
   ],
   "source": [
    "# Ist Method\n",
    "#nunique() will give unique values for each column, column with maximum unique counts can be considered as unique column#### \n",
    "companies.nunique().sort_values(ascending=False).iloc[0:1]\n",
    "\n",
    "# IInd Method\n",
    "# Companies.describe() will give count, unique, top etc information, we store count & unique values in a temp df and\n",
    "# then subtracting unique values(1) from count(0) and giving the column name where difference is 0\n",
    "#companies.describe().iloc[0:2]\n"
   ]
  },
  {
   "cell_type": "markdown",
   "metadata": {},
   "source": [
    "#### Q4. Are there any companies in the rounds2 file which are not  present in companies ?"
   ]
  },
  {
   "cell_type": "code",
   "execution_count": 8,
   "metadata": {},
   "outputs": [
    {
     "data": {
      "text/html": [
       "<div>\n",
       "<style>\n",
       "    .dataframe thead tr:only-child th {\n",
       "        text-align: right;\n",
       "    }\n",
       "\n",
       "    .dataframe thead th {\n",
       "        text-align: left;\n",
       "    }\n",
       "\n",
       "    .dataframe tbody tr th {\n",
       "        vertical-align: top;\n",
       "    }\n",
       "</style>\n",
       "<table border=\"1\" class=\"dataframe\">\n",
       "  <thead>\n",
       "    <tr style=\"text-align: right;\">\n",
       "      <th></th>\n",
       "      <th>company_permalink</th>\n",
       "      <th>funding_round_permalink</th>\n",
       "      <th>funding_round_type</th>\n",
       "      <th>funding_round_code</th>\n",
       "      <th>funded_at</th>\n",
       "      <th>raised_amount_usd</th>\n",
       "    </tr>\n",
       "  </thead>\n",
       "  <tbody>\n",
       "    <tr>\n",
       "      <th>29597</th>\n",
       "      <td>/ORGANIZATION/E-CÃBICA</td>\n",
       "      <td>/funding-round/8491f74869e4fe8ba9c378394f8fbdea</td>\n",
       "      <td>seed</td>\n",
       "      <td>NaN</td>\n",
       "      <td>01-02-2015</td>\n",
       "      <td>nan</td>\n",
       "    </tr>\n",
       "    <tr>\n",
       "      <th>31863</th>\n",
       "      <td>/ORGANIZATION/ENERGYSTONE-GAMES-ÇµÇ³Æ¸¸Æ</td>\n",
       "      <td>/funding-round/b89553f3d2279c5683ae93f45a21cfe0</td>\n",
       "      <td>seed</td>\n",
       "      <td>NaN</td>\n",
       "      <td>09-08-2014</td>\n",
       "      <td>nan</td>\n",
       "    </tr>\n",
       "    <tr>\n",
       "      <th>45176</th>\n",
       "      <td>/organization/huizuche-com-æ ç§ÿè½¦</td>\n",
       "      <td>/funding-round/8f8a32dbeeb0f831a78702f83af78a36</td>\n",
       "      <td>seed</td>\n",
       "      <td>NaN</td>\n",
       "      <td>18-09-2014</td>\n",
       "      <td>nan</td>\n",
       "    </tr>\n",
       "    <tr>\n",
       "      <th>58473</th>\n",
       "      <td>/ORGANIZATION/MAGNET-TECH-Ç£Ç³Ç§Æ</td>\n",
       "      <td>/funding-round/8fc91fbb32bc95e97f151dd0cb4166bf</td>\n",
       "      <td>seed</td>\n",
       "      <td>NaN</td>\n",
       "      <td>16-08-2014</td>\n",
       "      <td>1625585.00</td>\n",
       "    </tr>\n",
       "    <tr>\n",
       "      <th>101036</th>\n",
       "      <td>/organization/tipcat-interactive-æ²èÿä¿¡æ¯ç...</td>\n",
       "      <td>/funding-round/41005928a1439cb2d706a43cb661f60f</td>\n",
       "      <td>seed</td>\n",
       "      <td>NaN</td>\n",
       "      <td>06-09-2010</td>\n",
       "      <td>nan</td>\n",
       "    </tr>\n",
       "    <tr>\n",
       "      <th>109969</th>\n",
       "      <td>/ORGANIZATION/WEICHE-TECH-ÅÈ½¦Ç§Æ</td>\n",
       "      <td>/funding-round/f74e457f838b81fa0b29649740f186d8</td>\n",
       "      <td>venture</td>\n",
       "      <td>A</td>\n",
       "      <td>06-09-2015</td>\n",
       "      <td>nan</td>\n",
       "    </tr>\n",
       "    <tr>\n",
       "      <th>113839</th>\n",
       "      <td>/ORGANIZATION/ZENGAME-Ç¦",
       "Æ¸¸Ç§Æ</td>\n",
       "      <td>/funding-round/6ba28fb4f3eadf5a9c6c81bc5dde6cdf</td>\n",
       "      <td>seed</td>\n",
       "      <td>NaN</td>\n",
       "      <td>17-07-2010</td>\n",
       "      <td>nan</td>\n",
       "    </tr>\n",
       "  </tbody>\n",
       "</table>\n",
       "</div>"
      ],
      "text/plain": [
       "                                        company_permalink  \\\n",
       "29597                             /ORGANIZATION/E-CÃBICA   \n",
       "31863        /ORGANIZATION/ENERGYSTONE-GAMES-ÇµÇ³Æ¸¸Æ   \n",
       "45176                /organization/huizuche-com-æ ç§ÿè½¦   \n",
       "58473              /ORGANIZATION/MAGNET-TECH-Ç£Ç³Ç§Æ   \n",
       "101036  /organization/tipcat-interactive-æ²èÿä¿¡æ¯ç...   \n",
       "109969             /ORGANIZATION/WEICHE-TECH-ÅÈ½¦Ç§Æ   \n",
       "113839                 /ORGANIZATION/ZENGAME-Ç¦\n",
       "Æ¸¸Ç§Æ   \n",
       "\n",
       "                                funding_round_permalink funding_round_type  \\\n",
       "29597   /funding-round/8491f74869e4fe8ba9c378394f8fbdea               seed   \n",
       "31863   /funding-round/b89553f3d2279c5683ae93f45a21cfe0               seed   \n",
       "45176   /funding-round/8f8a32dbeeb0f831a78702f83af78a36               seed   \n",
       "58473   /funding-round/8fc91fbb32bc95e97f151dd0cb4166bf               seed   \n",
       "101036  /funding-round/41005928a1439cb2d706a43cb661f60f               seed   \n",
       "109969  /funding-round/f74e457f838b81fa0b29649740f186d8            venture   \n",
       "113839  /funding-round/6ba28fb4f3eadf5a9c6c81bc5dde6cdf               seed   \n",
       "\n",
       "       funding_round_code   funded_at  raised_amount_usd  \n",
       "29597                 NaN  01-02-2015                nan  \n",
       "31863                 NaN  09-08-2014                nan  \n",
       "45176                 NaN  18-09-2014                nan  \n",
       "58473                 NaN  16-08-2014         1625585.00  \n",
       "101036                NaN  06-09-2010                nan  \n",
       "109969                  A  06-09-2015                nan  \n",
       "113839                NaN  17-07-2010                nan  "
      ]
     },
     "execution_count": 8,
     "metadata": {},
     "output_type": "execute_result"
    }
   ],
   "source": [
    "# Check the existacce of a column of dataframe1 in column1 of dataframe2\n",
    "rounds2[rounds2['company_permalink'].str.lower().isin(companies['permalink'].str.lower())== False]"
   ]
  },
  {
   "cell_type": "markdown",
   "metadata": {},
   "source": [
    "#### Q5. Merge the two data frames so that all  variables (columns)  in the companies frame are added to the rounds2 data frame. Name the merged frame master_frame. How many observations are present in master_frame ?"
   ]
  },
  {
   "cell_type": "code",
   "execution_count": 9,
   "metadata": {},
   "outputs": [
    {
     "name": "stdout",
     "output_type": "stream",
     "text": [
      "\n",
      "Number of Records:  114942\n"
     ]
    }
   ],
   "source": [
    "# lower() the key columns of both dataframes, so they can match in case of diffence in case.\n",
    "companies['permalink'] = companies['permalink'].str.lower()\n",
    "rounds2['company_permalink'] = rounds2['company_permalink'].str.lower()\n",
    "master_frame = pd.merge(left = companies,right = rounds2, how ='inner', left_on='permalink',right_on='company_permalink')\n",
    "#print('\\nNumber of Records: ',master_frame.shape[0])\n",
    "print('\\nNumber of Records: ',master_frame.count()[0])\n",
    "# From here we will work with master_frame only"
   ]
  },
  {
   "cell_type": "code",
   "execution_count": 10,
   "metadata": {
    "collapsed": true
   },
   "outputs": [],
   "source": [
    "# Drop Rows from master_frame where raised_amount_usd is null\n",
    "master_frame = master_frame.drop(master_frame[master_frame.raised_amount_usd.isnull()].index)"
   ]
  },
  {
   "cell_type": "markdown",
   "metadata": {},
   "source": [
    "#### Define Function"
   ]
  },
  {
   "cell_type": "code",
   "execution_count": 11,
   "metadata": {
    "collapsed": true
   },
   "outputs": [],
   "source": [
    "# Defining a method to wite(.csv) a file to the user location.\n",
    "def writeDF(dataframe,filename,dir_path):\n",
    "    dataframe.to_csv(path_or_buf = outDir+filename+'.csv')\n",
    "    size = str(round((os.path.getsize(outDir+filename+'.csv')/1000),1))\n",
    "    print('File: '+filename+'.csv created at '+outDir+ '\\nSize of file :'+size+ ' KB' )"
   ]
  },
  {
   "cell_type": "code",
   "execution_count": 12,
   "metadata": {
    "collapsed": true
   },
   "outputs": [],
   "source": [
    "# Defining a method to wite(.xlsx) a file to the user location.\n",
    "def writeDF_xl(dataframe,filename,dir_path):\n",
    "    writer = pd.ExcelWriter(outDir+filename+'.xlsx', engine='xlsxwriter',options={'strings_to_urls': False})\n",
    "    dataframe.to_excel(writer,sheet_name= filename)\n",
    "    writer.close()\n",
    "    size = str(round((os.path.getsize(outDir+filename+'.xlsx')/1000),1))\n",
    "    print('File: '+filename+'.xlsx created at '+outDir+ '\\nSize of file :'+size+ ' KB' )"
   ]
  },
  {
   "cell_type": "code",
   "execution_count": 13,
   "metadata": {
    "collapsed": true
   },
   "outputs": [],
   "source": [
    "# Test to write & read in .xlsx format\n",
    "#writeDF_xl(master_frame,'master_frame_xl',outDir)\n",
    "#test_xl = pd.read_excel(outDir+'master_frame_xl.xlsx')\n",
    "#test_xl.head()"
   ]
  },
  {
   "cell_type": "code",
   "execution_count": null,
   "metadata": {
    "collapsed": true
   },
   "outputs": [],
   "source": []
  },
  {
   "cell_type": "markdown",
   "metadata": {},
   "source": [
    "#### Storing Data"
   ]
  },
  {
   "cell_type": "code",
   "execution_count": 14,
   "metadata": {},
   "outputs": [
    {
     "name": "stdout",
     "output_type": "stream",
     "text": [
      "File: master_frame.csv created at C:/Users/ankit.bhatia/Documents/GitHub/PythonScripts/data/spark_funds/outDir/\n",
      "Size of file :23784.3 KB\n"
     ]
    }
   ],
   "source": [
    "# Storing master_frame dataframe at user location\n",
    "writeDF(master_frame,'master_frame',outDir)"
   ]
  },
  {
   "cell_type": "markdown",
   "metadata": {},
   "source": [
    "## Checkpoint 2: Funding Type Analysis\n",
    "### Table 2.1 ( Average Values of Investments for Each of these Funding Types)"
   ]
  },
  {
   "cell_type": "markdown",
   "metadata": {},
   "source": [
    "#### Define Function"
   ]
  },
  {
   "cell_type": "code",
   "execution_count": 15,
   "metadata": {
    "collapsed": true
   },
   "outputs": [],
   "source": [
    "# defining a function to get average funding amount for any funding type.\n",
    "def avg_funding_amount(funding_type):\n",
    "    return master_frame[master_frame['funding_round_type']==funding_type]['raised_amount_usd'].mean()"
   ]
  },
  {
   "cell_type": "markdown",
   "metadata": {},
   "source": [
    "#### Q1/2/3/4. Average funding amount of different funding type ?"
   ]
  },
  {
   "cell_type": "code",
   "execution_count": 16,
   "metadata": {
    "scrolled": true
   },
   "outputs": [
    {
     "name": "stdout",
     "output_type": "stream",
     "text": [
      "venture 11748949.129489528\n",
      "angel 958694.4697530865\n",
      "seed 719779.6202016778\n",
      "private_equity 73308593.02944215\n"
     ]
    }
   ],
   "source": [
    "venture = avg_funding_amount('venture')\n",
    "angel = avg_funding_amount('angel')\n",
    "seed = avg_funding_amount('seed')\n",
    "private_equity = avg_funding_amount('private_equity')\n",
    "\n",
    "print('venture' ,avg_funding_amount('venture'))\n",
    "print('angel' ,avg_funding_amount('angel'))\n",
    "print('seed' ,avg_funding_amount('seed'))\n",
    "print('private_equity' ,avg_funding_amount('private_equity'))"
   ]
  },
  {
   "cell_type": "markdown",
   "metadata": {},
   "source": [
    "#### Q5. Considering that Spark Funds wants to invest between 5 to 15 million USD per  investment round, which investment type is the most suitable for them?"
   ]
  },
  {
   "cell_type": "code",
   "execution_count": 17,
   "metadata": {},
   "outputs": [
    {
     "data": {
      "text/html": [
       "<div>\n",
       "<style>\n",
       "    .dataframe thead tr:only-child th {\n",
       "        text-align: right;\n",
       "    }\n",
       "\n",
       "    .dataframe thead th {\n",
       "        text-align: left;\n",
       "    }\n",
       "\n",
       "    .dataframe tbody tr th {\n",
       "        vertical-align: top;\n",
       "    }\n",
       "</style>\n",
       "<table border=\"1\" class=\"dataframe\">\n",
       "  <thead>\n",
       "    <tr style=\"text-align: right;\">\n",
       "      <th></th>\n",
       "      <th>raised_amount_usd</th>\n",
       "    </tr>\n",
       "    <tr>\n",
       "      <th>funding_round_type</th>\n",
       "      <th></th>\n",
       "    </tr>\n",
       "  </thead>\n",
       "  <tbody>\n",
       "    <tr>\n",
       "      <th>venture</th>\n",
       "      <td>11748949.13</td>\n",
       "    </tr>\n",
       "  </tbody>\n",
       "</table>\n",
       "</div>"
      ],
      "text/plain": [
       "                    raised_amount_usd\n",
       "funding_round_type                   \n",
       "venture                   11748949.13"
      ]
     },
     "execution_count": 17,
     "metadata": {},
     "output_type": "execute_result"
    }
   ],
   "source": [
    "# We can check from the last step that only venture funding type lies between 5 to 15 million.\n",
    "# Alternatively we can find the funding type through below code:\n",
    "## [['']] double brackets or (.reset_index()) are used to keep the dataframe , if we use [''], it will be converted into series\n",
    "most_suitable = master_frame.groupby(by='funding_round_type')[['raised_amount_usd']].mean()\n",
    "most_suitable = most_suitable[(most_suitable.raised_amount_usd >= 5000000) & (most_suitable.raised_amount_usd <= 15000000)]\n",
    "most_suitable"
   ]
  },
  {
   "cell_type": "code",
   "execution_count": 18,
   "metadata": {},
   "outputs": [
    {
     "name": "stdout",
     "output_type": "stream",
     "text": [
      "\n",
      "Number of Records:  50228\n"
     ]
    },
    {
     "data": {
      "text/html": [
       "<div>\n",
       "<style>\n",
       "    .dataframe thead tr:only-child th {\n",
       "        text-align: right;\n",
       "    }\n",
       "\n",
       "    .dataframe thead th {\n",
       "        text-align: left;\n",
       "    }\n",
       "\n",
       "    .dataframe tbody tr th {\n",
       "        vertical-align: top;\n",
       "    }\n",
       "</style>\n",
       "<table border=\"1\" class=\"dataframe\">\n",
       "  <thead>\n",
       "    <tr style=\"text-align: right;\">\n",
       "      <th></th>\n",
       "      <th>permalink</th>\n",
       "      <th>name</th>\n",
       "      <th>homepage_url</th>\n",
       "      <th>category_list</th>\n",
       "      <th>status</th>\n",
       "      <th>country_code</th>\n",
       "      <th>state_code</th>\n",
       "      <th>region</th>\n",
       "      <th>city</th>\n",
       "      <th>founded_at</th>\n",
       "      <th>company_permalink</th>\n",
       "      <th>funding_round_permalink</th>\n",
       "      <th>funding_round_type</th>\n",
       "      <th>funding_round_code</th>\n",
       "      <th>funded_at</th>\n",
       "      <th>raised_amount_usd</th>\n",
       "    </tr>\n",
       "  </thead>\n",
       "  <tbody>\n",
       "    <tr>\n",
       "      <th>0</th>\n",
       "      <td>/organization/-fame</td>\n",
       "      <td>#fame</td>\n",
       "      <td>http://livfame.com</td>\n",
       "      <td>Media</td>\n",
       "      <td>operating</td>\n",
       "      <td>IND</td>\n",
       "      <td>16</td>\n",
       "      <td>Mumbai</td>\n",
       "      <td>Mumbai</td>\n",
       "      <td>NaN</td>\n",
       "      <td>/organization/-fame</td>\n",
       "      <td>/funding-round/9a01d05418af9f794eebff7ace91f638</td>\n",
       "      <td>venture</td>\n",
       "      <td>B</td>\n",
       "      <td>05-01-2015</td>\n",
       "      <td>10000000.00</td>\n",
       "    </tr>\n",
       "    <tr>\n",
       "      <th>3</th>\n",
       "      <td>/organization/-the-one-of-them-inc-</td>\n",
       "      <td>(THE) ONE of THEM,Inc.</td>\n",
       "      <td>http://oneofthem.jp</td>\n",
       "      <td>Apps|Games|Mobile</td>\n",
       "      <td>operating</td>\n",
       "      <td>NaN</td>\n",
       "      <td>NaN</td>\n",
       "      <td>NaN</td>\n",
       "      <td>NaN</td>\n",
       "      <td>NaN</td>\n",
       "      <td>/organization/-the-one-of-them-inc-</td>\n",
       "      <td>/funding-round/650b8f704416801069bb178a1418776b</td>\n",
       "      <td>venture</td>\n",
       "      <td>B</td>\n",
       "      <td>30-01-2014</td>\n",
       "      <td>3406878.00</td>\n",
       "    </tr>\n",
       "    <tr>\n",
       "      <th>4</th>\n",
       "      <td>/organization/0-6-com</td>\n",
       "      <td>0-6.com</td>\n",
       "      <td>http://www.0-6.com</td>\n",
       "      <td>Curated Web</td>\n",
       "      <td>operating</td>\n",
       "      <td>CHN</td>\n",
       "      <td>22</td>\n",
       "      <td>Beijing</td>\n",
       "      <td>Beijing</td>\n",
       "      <td>01-01-2007</td>\n",
       "      <td>/organization/0-6-com</td>\n",
       "      <td>/funding-round/5727accaeaa57461bd22a9bdd945382d</td>\n",
       "      <td>venture</td>\n",
       "      <td>A</td>\n",
       "      <td>19-03-2008</td>\n",
       "      <td>2000000.00</td>\n",
       "    </tr>\n",
       "  </tbody>\n",
       "</table>\n",
       "</div>"
      ],
      "text/plain": [
       "                             permalink                    name  \\\n",
       "0                  /organization/-fame                   #fame   \n",
       "3  /organization/-the-one-of-them-inc-  (THE) ONE of THEM,Inc.   \n",
       "4                /organization/0-6-com                 0-6.com   \n",
       "\n",
       "          homepage_url      category_list     status country_code state_code  \\\n",
       "0   http://livfame.com              Media  operating          IND         16   \n",
       "3  http://oneofthem.jp  Apps|Games|Mobile  operating          NaN        NaN   \n",
       "4   http://www.0-6.com        Curated Web  operating          CHN         22   \n",
       "\n",
       "    region     city  founded_at                    company_permalink  \\\n",
       "0   Mumbai   Mumbai         NaN                  /organization/-fame   \n",
       "3      NaN      NaN         NaN  /organization/-the-one-of-them-inc-   \n",
       "4  Beijing  Beijing  01-01-2007                /organization/0-6-com   \n",
       "\n",
       "                           funding_round_permalink funding_round_type  \\\n",
       "0  /funding-round/9a01d05418af9f794eebff7ace91f638            venture   \n",
       "3  /funding-round/650b8f704416801069bb178a1418776b            venture   \n",
       "4  /funding-round/5727accaeaa57461bd22a9bdd945382d            venture   \n",
       "\n",
       "  funding_round_code   funded_at  raised_amount_usd  \n",
       "0                  B  05-01-2015        10000000.00  \n",
       "3                  B  30-01-2014         3406878.00  \n",
       "4                  A  19-03-2008         2000000.00  "
      ]
     },
     "execution_count": 18,
     "metadata": {},
     "output_type": "execute_result"
    }
   ],
   "source": [
    "# Filter the master_frame dataset based on the above conditions(funding_round_type)\n",
    "master_frame_filtered = master_frame[master_frame.funding_round_type == most_suitable.index[0]]\n",
    "\n",
    "print('\\nNumber of Records: ',master_frame_filtered.count()[0])\n",
    "master_frame_filtered.head(3)\n",
    "# Now master_frame_filtered contains the data where funding_round_type ='venture' & raised_amount_usd between 5 to 15 million."
   ]
  },
  {
   "cell_type": "markdown",
   "metadata": {},
   "source": [
    "## Checkpoint 3: Country Analysis\n",
    "### Table 3.1 ( Analysing the Top 3 English-Speaking Countries)"
   ]
  },
  {
   "cell_type": "code",
   "execution_count": 19,
   "metadata": {},
   "outputs": [
    {
     "data": {
      "text/plain": [
       "country_code         9\n",
       "raised_amount_usd    9\n",
       "dtype: int64"
      ]
     },
     "execution_count": 19,
     "metadata": {},
     "output_type": "execute_result"
    }
   ],
   "source": [
    "top9 = master_frame_filtered.groupby('country_code')['raised_amount_usd'].sum().sort_values(ascending=False).reset_index()[0:9]\n",
    "top9.count()"
   ]
  },
  {
   "cell_type": "code",
   "execution_count": 20,
   "metadata": {
    "collapsed": true
   },
   "outputs": [],
   "source": [
    "# Now the requirement is to fetch top 3 countries from top 9 dataframe where official language is English, we will fetch this \n",
    "# information from MySQl > world database > country & country language table. Alternatively we can check this information\n",
    "# from the pdf provided, but there we have to hardcode the information.\n",
    "# Note : To match the countries in the countrylanguage table data with pdf data, I have inserted one entry of IND with\n",
    "# official language is English.INSERT INTO COUNTRYLANGUAGE VALUES('IND','English','T',4.5)\n",
    "# installed mysql connector for python using conda install -c anaconda mysql-connector-python\n",
    "\n",
    "import mysql.connector as con\n",
    "db_connection = con.connect(host='localhost', database='world', user='root', password='mysql@123')\n",
    "query = 'select code,name from country where code in(SELECT countrycode FROM COUNTRYLANGUAGE WHERE LANGUAGE=%s AND ISOFFICIAL=%s)'\n",
    "\n",
    "#countryEN contains all the country codes where official language is English\n",
    "countryEN =  pd.read_sql(sql =query,con =db_connection,params=['English','T'])"
   ]
  },
  {
   "cell_type": "code",
   "execution_count": 21,
   "metadata": {},
   "outputs": [
    {
     "data": {
      "text/html": [
       "<div>\n",
       "<style>\n",
       "    .dataframe thead tr:only-child th {\n",
       "        text-align: right;\n",
       "    }\n",
       "\n",
       "    .dataframe thead th {\n",
       "        text-align: left;\n",
       "    }\n",
       "\n",
       "    .dataframe tbody tr th {\n",
       "        vertical-align: top;\n",
       "    }\n",
       "</style>\n",
       "<table border=\"1\" class=\"dataframe\">\n",
       "  <thead>\n",
       "    <tr style=\"text-align: right;\">\n",
       "      <th></th>\n",
       "      <th>country_code</th>\n",
       "      <th>raised_amount_usd</th>\n",
       "      <th>IsOfficialEN</th>\n",
       "    </tr>\n",
       "  </thead>\n",
       "  <tbody>\n",
       "    <tr>\n",
       "      <th>0</th>\n",
       "      <td>USA</td>\n",
       "      <td>422510842796.00</td>\n",
       "      <td>True</td>\n",
       "    </tr>\n",
       "    <tr>\n",
       "      <th>1</th>\n",
       "      <td>CHN</td>\n",
       "      <td>39835418773.00</td>\n",
       "      <td>False</td>\n",
       "    </tr>\n",
       "    <tr>\n",
       "      <th>2</th>\n",
       "      <td>GBR</td>\n",
       "      <td>20245627416.00</td>\n",
       "      <td>True</td>\n",
       "    </tr>\n",
       "    <tr>\n",
       "      <th>3</th>\n",
       "      <td>IND</td>\n",
       "      <td>14391858718.00</td>\n",
       "      <td>True</td>\n",
       "    </tr>\n",
       "    <tr>\n",
       "      <th>4</th>\n",
       "      <td>CAN</td>\n",
       "      <td>9583332317.00</td>\n",
       "      <td>True</td>\n",
       "    </tr>\n",
       "    <tr>\n",
       "      <th>5</th>\n",
       "      <td>FRA</td>\n",
       "      <td>7259536732.00</td>\n",
       "      <td>False</td>\n",
       "    </tr>\n",
       "    <tr>\n",
       "      <th>6</th>\n",
       "      <td>ISR</td>\n",
       "      <td>6907514579.00</td>\n",
       "      <td>False</td>\n",
       "    </tr>\n",
       "    <tr>\n",
       "      <th>7</th>\n",
       "      <td>DEU</td>\n",
       "      <td>6346959822.00</td>\n",
       "      <td>False</td>\n",
       "    </tr>\n",
       "    <tr>\n",
       "      <th>8</th>\n",
       "      <td>JPN</td>\n",
       "      <td>3363676611.00</td>\n",
       "      <td>False</td>\n",
       "    </tr>\n",
       "  </tbody>\n",
       "</table>\n",
       "</div>"
      ],
      "text/plain": [
       "  country_code  raised_amount_usd  IsOfficialEN\n",
       "0          USA    422510842796.00          True\n",
       "1          CHN     39835418773.00         False\n",
       "2          GBR     20245627416.00          True\n",
       "3          IND     14391858718.00          True\n",
       "4          CAN      9583332317.00          True\n",
       "5          FRA      7259536732.00         False\n",
       "6          ISR      6907514579.00         False\n",
       "7          DEU      6346959822.00         False\n",
       "8          JPN      3363676611.00         False"
      ]
     },
     "execution_count": 21,
     "metadata": {},
     "output_type": "execute_result"
    }
   ],
   "source": [
    "# Add a new column identifier, IsOfficialEN in top9 dataframe.\n",
    "top9['IsOfficialEN'] = top9.country_code.isin(countryEN['code'])\n",
    "top9"
   ]
  },
  {
   "cell_type": "markdown",
   "metadata": {},
   "source": [
    "#### Storing Data"
   ]
  },
  {
   "cell_type": "code",
   "execution_count": 22,
   "metadata": {},
   "outputs": [
    {
     "name": "stdout",
     "output_type": "stream",
     "text": [
      "File: top9.csv created at C:/Users/ankit.bhatia/Documents/GitHub/PythonScripts/data/spark_funds/outDir/\n",
      "Size of file :0.3 KB\n"
     ]
    }
   ],
   "source": [
    "# Storing top9 dataframe at user location\n",
    "writeDF(top9,'top9',outDir)"
   ]
  },
  {
   "cell_type": "markdown",
   "metadata": {},
   "source": [
    "#### Q1/2/3. Top/Second/Third English speaking country ?"
   ]
  },
  {
   "cell_type": "code",
   "execution_count": 23,
   "metadata": {},
   "outputs": [
    {
     "name": "stdout",
     "output_type": "stream",
     "text": [
      "top  USA\n",
      "second  GBR\n",
      "third  IND\n"
     ]
    }
   ],
   "source": [
    "top3 = top9[top9.IsOfficialEN].iloc[0:3,0:2].reset_index()\n",
    "top = top3.country_code[0]\n",
    "second = top3.country_code[1]\n",
    "third = top3.country_code[2]\n",
    "\n",
    "print('top ',top)\n",
    "print('second ',second)\n",
    "print('third ',third)"
   ]
  },
  {
   "cell_type": "code",
<<<<<<< HEAD
   "execution_count": 114,
=======
   "execution_count": 24,
>>>>>>> 31e0e754eedcf0d02ef04b43d660f988cfd12180
   "metadata": {},
   "outputs": [
    {
     "name": "stdout",
     "output_type": "stream",
     "text": [
      "\n",
      "Number of Records:  39018\n"
     ]
    },
    {
     "data": {
      "text/html": [
       "<div>\n",
       "<style>\n",
       "    .dataframe thead tr:only-child th {\n",
       "        text-align: right;\n",
       "    }\n",
       "\n",
       "    .dataframe thead th {\n",
       "        text-align: left;\n",
       "    }\n",
       "\n",
       "    .dataframe tbody tr th {\n",
       "        vertical-align: top;\n",
       "    }\n",
       "</style>\n",
       "<table border=\"1\" class=\"dataframe\">\n",
       "  <thead>\n",
       "    <tr style=\"text-align: right;\">\n",
       "      <th></th>\n",
       "      <th>permalink</th>\n",
       "      <th>name</th>\n",
       "      <th>homepage_url</th>\n",
       "      <th>category_list</th>\n",
       "      <th>status</th>\n",
       "      <th>country_code</th>\n",
       "      <th>state_code</th>\n",
       "      <th>region</th>\n",
       "      <th>city</th>\n",
       "      <th>founded_at</th>\n",
       "      <th>company_permalink</th>\n",
       "      <th>funding_round_permalink</th>\n",
       "      <th>funding_round_type</th>\n",
       "      <th>funding_round_code</th>\n",
       "      <th>funded_at</th>\n",
       "      <th>raised_amount_usd</th>\n",
       "    </tr>\n",
       "  </thead>\n",
       "  <tbody>\n",
       "    <tr>\n",
       "      <th>0</th>\n",
       "      <td>/organization/-fame</td>\n",
       "      <td>#fame</td>\n",
       "      <td>http://livfame.com</td>\n",
       "      <td>Media</td>\n",
       "      <td>operating</td>\n",
       "      <td>IND</td>\n",
       "      <td>16</td>\n",
       "      <td>Mumbai</td>\n",
       "      <td>Mumbai</td>\n",
       "      <td>NaN</td>\n",
       "      <td>/organization/-fame</td>\n",
       "      <td>/funding-round/9a01d05418af9f794eebff7ace91f638</td>\n",
       "      <td>venture</td>\n",
       "      <td>B</td>\n",
       "      <td>05-01-2015</td>\n",
       "      <td>10000000.00</td>\n",
       "    </tr>\n",
       "    <tr>\n",
       "      <th>10</th>\n",
       "      <td>/organization/0xdata</td>\n",
       "      <td>H2O.ai</td>\n",
       "      <td>http://h2o.ai/</td>\n",
       "      <td>Analytics</td>\n",
       "      <td>operating</td>\n",
       "      <td>USA</td>\n",
       "      <td>CA</td>\n",
       "      <td>SF Bay Area</td>\n",
       "      <td>Mountain View</td>\n",
       "      <td>01-01-2011</td>\n",
       "      <td>/organization/0xdata</td>\n",
       "      <td>/funding-round/3bb2ee4a2d89251a10aaa735b1180e44</td>\n",
       "      <td>venture</td>\n",
       "      <td>B</td>\n",
       "      <td>09-11-2015</td>\n",
       "      <td>20000000.00</td>\n",
       "    </tr>\n",
       "    <tr>\n",
       "      <th>11</th>\n",
       "      <td>/organization/0xdata</td>\n",
       "      <td>H2O.ai</td>\n",
       "      <td>http://h2o.ai/</td>\n",
       "      <td>Analytics</td>\n",
       "      <td>operating</td>\n",
       "      <td>USA</td>\n",
       "      <td>CA</td>\n",
       "      <td>SF Bay Area</td>\n",
       "      <td>Mountain View</td>\n",
       "      <td>01-01-2011</td>\n",
       "      <td>/organization/0xdata</td>\n",
       "      <td>/funding-round/ae2a174c06517c2394aed45006322a7e</td>\n",
       "      <td>venture</td>\n",
       "      <td>NaN</td>\n",
       "      <td>03-01-2013</td>\n",
       "      <td>1700000.00</td>\n",
       "    </tr>\n",
       "  </tbody>\n",
       "</table>\n",
       "</div>"
      ],
      "text/plain": [
       "               permalink    name        homepage_url category_list     status  \\\n",
       "0    /organization/-fame   #fame  http://livfame.com         Media  operating   \n",
       "10  /organization/0xdata  H2O.ai      http://h2o.ai/     Analytics  operating   \n",
       "11  /organization/0xdata  H2O.ai      http://h2o.ai/     Analytics  operating   \n",
       "\n",
       "   country_code state_code       region           city  founded_at  \\\n",
       "0           IND         16       Mumbai         Mumbai         NaN   \n",
       "10          USA         CA  SF Bay Area  Mountain View  01-01-2011   \n",
       "11          USA         CA  SF Bay Area  Mountain View  01-01-2011   \n",
       "\n",
       "       company_permalink                          funding_round_permalink  \\\n",
       "0    /organization/-fame  /funding-round/9a01d05418af9f794eebff7ace91f638   \n",
       "10  /organization/0xdata  /funding-round/3bb2ee4a2d89251a10aaa735b1180e44   \n",
       "11  /organization/0xdata  /funding-round/ae2a174c06517c2394aed45006322a7e   \n",
       "\n",
       "   funding_round_type funding_round_code   funded_at  raised_amount_usd  \n",
       "0             venture                  B  05-01-2015        10000000.00  \n",
       "10            venture                  B  09-11-2015        20000000.00  \n",
       "11            venture                NaN  03-01-2013         1700000.00  "
      ]
     },
<<<<<<< HEAD
     "execution_count": 114,
=======
     "execution_count": 24,
>>>>>>> 31e0e754eedcf0d02ef04b43d660f988cfd12180
     "metadata": {},
     "output_type": "execute_result"
    }
   ],
   "source": [
    "# Filter master_frame_filtered dataset based on top 3 english speaking countries\n",
    "top3_data = master_frame_filtered.loc[master_frame_filtered.country_code.isin(top3.country_code)]\n",
    "print('\\nNumber of Records: ',top3_data.count()[0])\n",
    "top3_data.head(3)"
   ]
  },
  {
   "cell_type": "markdown",
   "metadata": {},
   "source": [
    "## Checkpoint 4: Sector Analysis 1\n",
    "### Table 5.1 ( Sector-wise Investment Analysis)"
   ]
  },
  {
   "cell_type": "code",
<<<<<<< HEAD
   "execution_count": 134,
=======
   "execution_count": 25,
>>>>>>> 31e0e754eedcf0d02ef04b43d660f988cfd12180
   "metadata": {},
   "outputs": [
    {
     "name": "stdout",
     "output_type": "stream",
     "text": [
      "\n",
      "Number of Records:  39018\n"
     ]
    },
    {
     "data": {
      "text/html": [
       "<div>\n",
       "<style>\n",
       "    .dataframe thead tr:only-child th {\n",
       "        text-align: right;\n",
       "    }\n",
       "\n",
       "    .dataframe thead th {\n",
       "        text-align: left;\n",
       "    }\n",
       "\n",
       "    .dataframe tbody tr th {\n",
       "        vertical-align: top;\n",
       "    }\n",
       "</style>\n",
       "<table border=\"1\" class=\"dataframe\">\n",
       "  <thead>\n",
       "    <tr style=\"text-align: right;\">\n",
       "      <th></th>\n",
       "      <th>permalink</th>\n",
       "      <th>name</th>\n",
       "      <th>homepage_url</th>\n",
       "      <th>category_list</th>\n",
       "      <th>status</th>\n",
       "      <th>country_code</th>\n",
       "      <th>state_code</th>\n",
       "      <th>region</th>\n",
       "      <th>city</th>\n",
       "      <th>founded_at</th>\n",
       "      <th>company_permalink</th>\n",
       "      <th>funding_round_permalink</th>\n",
       "      <th>funding_round_type</th>\n",
       "      <th>funding_round_code</th>\n",
       "      <th>funded_at</th>\n",
       "      <th>raised_amount_usd</th>\n",
       "      <th>primary_sector</th>\n",
       "    </tr>\n",
       "  </thead>\n",
       "  <tbody>\n",
       "    <tr>\n",
       "      <th>0</th>\n",
       "      <td>/organization/-fame</td>\n",
       "      <td>#fame</td>\n",
       "      <td>http://livfame.com</td>\n",
       "      <td>Media</td>\n",
       "      <td>operating</td>\n",
       "      <td>IND</td>\n",
       "      <td>16</td>\n",
       "      <td>Mumbai</td>\n",
       "      <td>Mumbai</td>\n",
       "      <td>NaN</td>\n",
       "      <td>/organization/-fame</td>\n",
       "      <td>/funding-round/9a01d05418af9f794eebff7ace91f638</td>\n",
       "      <td>venture</td>\n",
       "      <td>B</td>\n",
       "      <td>05-01-2015</td>\n",
       "      <td>10000000.00</td>\n",
       "      <td>Media</td>\n",
       "    </tr>\n",
       "    <tr>\n",
       "      <th>10</th>\n",
       "      <td>/organization/0xdata</td>\n",
       "      <td>H2O.ai</td>\n",
       "      <td>http://h2o.ai/</td>\n",
       "      <td>Analytics</td>\n",
       "      <td>operating</td>\n",
       "      <td>USA</td>\n",
       "      <td>CA</td>\n",
       "      <td>SF Bay Area</td>\n",
       "      <td>Mountain View</td>\n",
       "      <td>01-01-2011</td>\n",
       "      <td>/organization/0xdata</td>\n",
       "      <td>/funding-round/3bb2ee4a2d89251a10aaa735b1180e44</td>\n",
       "      <td>venture</td>\n",
       "      <td>B</td>\n",
       "      <td>09-11-2015</td>\n",
       "      <td>20000000.00</td>\n",
       "      <td>Analytics</td>\n",
       "    </tr>\n",
       "    <tr>\n",
       "      <th>11</th>\n",
       "      <td>/organization/0xdata</td>\n",
       "      <td>H2O.ai</td>\n",
       "      <td>http://h2o.ai/</td>\n",
       "      <td>Analytics</td>\n",
       "      <td>operating</td>\n",
       "      <td>USA</td>\n",
       "      <td>CA</td>\n",
       "      <td>SF Bay Area</td>\n",
       "      <td>Mountain View</td>\n",
       "      <td>01-01-2011</td>\n",
       "      <td>/organization/0xdata</td>\n",
       "      <td>/funding-round/ae2a174c06517c2394aed45006322a7e</td>\n",
       "      <td>venture</td>\n",
       "      <td>NaN</td>\n",
       "      <td>03-01-2013</td>\n",
       "      <td>1700000.00</td>\n",
       "      <td>Analytics</td>\n",
       "    </tr>\n",
       "  </tbody>\n",
       "</table>\n",
       "</div>"
      ],
      "text/plain": [
       "               permalink    name        homepage_url category_list     status  \\\n",
       "0    /organization/-fame   #fame  http://livfame.com         Media  operating   \n",
       "10  /organization/0xdata  H2O.ai      http://h2o.ai/     Analytics  operating   \n",
       "11  /organization/0xdata  H2O.ai      http://h2o.ai/     Analytics  operating   \n",
       "\n",
       "   country_code state_code       region           city  founded_at  \\\n",
       "0           IND         16       Mumbai         Mumbai         NaN   \n",
       "10          USA         CA  SF Bay Area  Mountain View  01-01-2011   \n",
       "11          USA         CA  SF Bay Area  Mountain View  01-01-2011   \n",
       "\n",
       "       company_permalink                          funding_round_permalink  \\\n",
       "0    /organization/-fame  /funding-round/9a01d05418af9f794eebff7ace91f638   \n",
       "10  /organization/0xdata  /funding-round/3bb2ee4a2d89251a10aaa735b1180e44   \n",
       "11  /organization/0xdata  /funding-round/ae2a174c06517c2394aed45006322a7e   \n",
       "\n",
       "   funding_round_type funding_round_code   funded_at  raised_amount_usd  \\\n",
       "0             venture                  B  05-01-2015        10000000.00   \n",
       "10            venture                  B  09-11-2015        20000000.00   \n",
       "11            venture                NaN  03-01-2013         1700000.00   \n",
       "\n",
       "   primary_sector  \n",
       "0           Media  \n",
       "10      Analytics  \n",
       "11      Analytics  "
      ]
     },
<<<<<<< HEAD
     "execution_count": 134,
=======
     "execution_count": 25,
>>>>>>> 31e0e754eedcf0d02ef04b43d660f988cfd12180
     "metadata": {},
     "output_type": "execute_result"
    }
   ],
   "source": [
    "# first string before the | will be considered the primary sector.\n",
    "# Add the new column in master_frame_filtered dataframe named as 'primary_sector'\n",
    "top3_data['primary_sector'] = top3_data['category_list'].str.split('|').str.get(0)\n",
    "\n",
    "print('\\nNumber of Records: ',top3_data.count()[0])\n",
    "top3_data.head(3)"
   ]
  },
  {
   "cell_type": "code",
<<<<<<< HEAD
   "execution_count": 71,
=======
   "execution_count": 26,
>>>>>>> 31e0e754eedcf0d02ef04b43d660f988cfd12180
   "metadata": {},
   "outputs": [
    {
     "name": "stdout",
     "output_type": "stream",
     "text": [
      "\n",
      "Number of Records:  688\n"
     ]
    },
    {
     "data": {
      "text/html": [
       "<div>\n",
       "<style>\n",
       "    .dataframe thead tr:only-child th {\n",
       "        text-align: right;\n",
       "    }\n",
       "\n",
       "    .dataframe thead th {\n",
       "        text-align: left;\n",
       "    }\n",
       "\n",
       "    .dataframe tbody tr th {\n",
       "        vertical-align: top;\n",
       "    }\n",
       "</style>\n",
       "<table border=\"1\" class=\"dataframe\">\n",
       "  <thead>\n",
       "    <tr style=\"text-align: right;\">\n",
       "      <th></th>\n",
       "      <th>category_list</th>\n",
       "      <th>Automotive &amp; Sports</th>\n",
       "      <th>Blanks</th>\n",
       "      <th>Cleantech / Semiconductors</th>\n",
       "      <th>Entertainment</th>\n",
       "      <th>Health</th>\n",
       "      <th>Manufacturing</th>\n",
       "      <th>News, Search and Messaging</th>\n",
       "      <th>Others</th>\n",
       "      <th>Social, Finance, Analytics, Advertising</th>\n",
       "    </tr>\n",
       "  </thead>\n",
       "  <tbody>\n",
       "    <tr>\n",
       "      <th>0</th>\n",
       "      <td>NaN</td>\n",
<<<<<<< HEAD
       "      <td>0</td>\n",
       "      <td>1</td>\n",
=======
       "      <td>0</td>\n",
       "      <td>1</td>\n",
       "      <td>0</td>\n",
       "      <td>0</td>\n",
       "      <td>0</td>\n",
       "      <td>0</td>\n",
       "      <td>0</td>\n",
       "      <td>0</td>\n",
       "      <td>0</td>\n",
       "    </tr>\n",
       "    <tr>\n",
       "      <th>1</th>\n",
       "      <td>3D</td>\n",
>>>>>>> 31e0e754eedcf0d02ef04b43d660f988cfd12180
       "      <td>0</td>\n",
       "      <td>0</td>\n",
       "      <td>0</td>\n",
       "      <td>0</td>\n",
       "      <td>0</td>\n",
       "      <td>1</td>\n",
       "      <td>0</td>\n",
       "      <td>0</td>\n",
<<<<<<< HEAD
       "    </tr>\n",
       "    <tr>\n",
       "      <th>1</th>\n",
       "      <td>3D</td>\n",
       "      <td>0</td>\n",
=======
       "      <td>0</td>\n",
       "    </tr>\n",
       "    <tr>\n",
       "      <th>2</th>\n",
       "      <td>3D Printing</td>\n",
       "      <td>0</td>\n",
       "      <td>0</td>\n",
       "      <td>0</td>\n",
       "      <td>0</td>\n",
       "      <td>0</td>\n",
       "      <td>1</td>\n",
       "      <td>0</td>\n",
       "      <td>0</td>\n",
       "      <td>0</td>\n",
       "    </tr>\n",
       "    <tr>\n",
       "      <th>3</th>\n",
       "      <td>3D Technology</td>\n",
>>>>>>> 31e0e754eedcf0d02ef04b43d660f988cfd12180
       "      <td>0</td>\n",
       "      <td>0</td>\n",
       "      <td>0</td>\n",
       "      <td>0</td>\n",
       "      <td>0</td>\n",
       "      <td>1</td>\n",
       "      <td>0</td>\n",
       "      <td>0</td>\n",
       "    </tr>\n",
       "    <tr>\n",
<<<<<<< HEAD
       "      <th>2</th>\n",
       "      <td>3D Printing</td>\n",
=======
       "      <th>4</th>\n",
       "      <td>Accounting</td>\n",
       "      <td>0</td>\n",
       "      <td>0</td>\n",
       "      <td>0</td>\n",
>>>>>>> 31e0e754eedcf0d02ef04b43d660f988cfd12180
       "      <td>0</td>\n",
       "      <td>0</td>\n",
       "      <td>0</td>\n",
       "      <td>0</td>\n",
       "      <td>0</td>\n",
       "      <td>1</td>\n",
<<<<<<< HEAD
       "      <td>0</td>\n",
       "      <td>0</td>\n",
       "      <td>0</td>\n",
       "    </tr>\n",
       "    <tr>\n",
       "      <th>3</th>\n",
       "      <td>3D Technology</td>\n",
       "      <td>0</td>\n",
       "      <td>0</td>\n",
       "      <td>0</td>\n",
       "      <td>0</td>\n",
       "      <td>0</td>\n",
       "      <td>1</td>\n",
       "      <td>0</td>\n",
       "      <td>0</td>\n",
       "      <td>0</td>\n",
       "    </tr>\n",
       "    <tr>\n",
       "      <th>4</th>\n",
       "      <td>Accounting</td>\n",
       "      <td>0</td>\n",
       "      <td>0</td>\n",
       "      <td>0</td>\n",
       "      <td>0</td>\n",
       "      <td>0</td>\n",
       "      <td>0</td>\n",
       "      <td>0</td>\n",
       "      <td>0</td>\n",
       "      <td>1</td>\n",
       "    </tr>\n",
       "  </tbody>\n",
       "</table>\n",
       "</div>"
      ],
      "text/plain": [
       "   category_list  Automotive & Sports  Blanks  Cleantech / Semiconductors  \\\n",
       "0            NaN                    0       1                           0   \n",
       "1             3D                    0       0                           0   \n",
       "2    3D Printing                    0       0                           0   \n",
       "3  3D Technology                    0       0                           0   \n",
       "4     Accounting                    0       0                           0   \n",
       "\n",
       "   Entertainment  Health  Manufacturing  News, Search and Messaging  Others  \\\n",
       "0              0       0              0                           0       0   \n",
       "1              0       0              1                           0       0   \n",
       "2              0       0              1                           0       0   \n",
       "3              0       0              1                           0       0   \n",
       "4              0       0              0                           0       0   \n",
       "\n",
       "   Social, Finance, Analytics, Advertising  \n",
       "0                                        0  \n",
       "1                                        0  \n",
       "2                                        0  \n",
       "3                                        0  \n",
       "4                                        1  "
      ]
     },
     "execution_count": 71,
     "metadata": {},
     "output_type": "execute_result"
    }
   ],
   "source": [
    "mapping =  pd.read_csv(inputDir+file3,encoding='iso-8859-1') # Use 'iso-8859-1' for accented characters\n",
    "print('\\nNumber of Records: ',mapping.shape[0]) # shape includes NA\n",
    "\n",
    "# There are multiple records in the dataset column category_list where 'na' is replaced by 0, so we have to replace 0 with na,\n",
    "# we have to make sure if data contains 2.0 or v3.0 we should not replace it.\n",
    "# '.*' is for zero or more occurances before 0, '.+ is for one or more occurance after 0.\n",
    "\n",
    "regex = (mapping.category_list.str.contains('[.*0]')==True) &  (mapping.category_list.str.endswith('0')==False)\n",
    "mapping_cleaned = mapping.copy()\n",
    "mapping_cleaned.loc[regex,'category_list'] = mapping_cleaned.loc[regex,'category_list'].replace('0','na',regex=True)\n",
    "mapping_cleaned.head()"
   ]
  },
  {
   "cell_type": "markdown",
   "metadata": {},
   "source": [
    "#### Define Function"
   ]
  },
  {
   "cell_type": "code",
   "execution_count": 72,
   "metadata": {
    "collapsed": true
   },
   "outputs": [],
   "source": [
    "# Defining function demap, which will convert data in mapping dataframe above to two columns output.\n",
    "def demap(df,outColName):\n",
    "    l = list()\n",
    "    c = int(df.count().sort_values(ascending=False)[0])\n",
    "    for i in range(c):\n",
    "        for col_name in df.columns:\n",
    "            if df[col_name][i]==1:\n",
    "               l.append(col_name)\n",
    "    df2 = df.copy()\n",
    "    df2[outColName] = l\n",
    "    return df2.iloc[:,[0,-1]]"
   ]
  },
  {
   "cell_type": "code",
   "execution_count": 94,
   "metadata": {},
   "outputs": [
    {
     "name": "stdout",
     "output_type": "stream",
     "text": [
      "\n",
      "Number of Records:  687\n"
     ]
    },
    {
     "data": {
      "text/html": [
       "<div>\n",
       "<style>\n",
       "    .dataframe thead tr:only-child th {\n",
       "        text-align: right;\n",
       "    }\n",
       "\n",
       "    .dataframe thead th {\n",
       "        text-align: left;\n",
       "    }\n",
       "\n",
       "    .dataframe tbody tr th {\n",
       "        vertical-align: top;\n",
       "    }\n",
       "</style>\n",
       "<table border=\"1\" class=\"dataframe\">\n",
       "  <thead>\n",
       "    <tr style=\"text-align: right;\">\n",
       "      <th></th>\n",
       "      <th>category_list</th>\n",
       "      <th>main_sector</th>\n",
       "    </tr>\n",
       "  </thead>\n",
       "  <tbody>\n",
       "    <tr>\n",
       "      <th>0</th>\n",
       "      <td>NaN</td>\n",
       "      <td>Blanks</td>\n",
       "    </tr>\n",
       "    <tr>\n",
=======
       "    </tr>\n",
       "  </tbody>\n",
       "</table>\n",
       "</div>"
      ],
      "text/plain": [
       "   category_list  Automotive & Sports  Blanks  Cleantech / Semiconductors  \\\n",
       "0            NaN                    0       1                           0   \n",
       "1             3D                    0       0                           0   \n",
       "2    3D Printing                    0       0                           0   \n",
       "3  3D Technology                    0       0                           0   \n",
       "4     Accounting                    0       0                           0   \n",
       "\n",
       "   Entertainment  Health  Manufacturing  News, Search and Messaging  Others  \\\n",
       "0              0       0              0                           0       0   \n",
       "1              0       0              1                           0       0   \n",
       "2              0       0              1                           0       0   \n",
       "3              0       0              1                           0       0   \n",
       "4              0       0              0                           0       0   \n",
       "\n",
       "   Social, Finance, Analytics, Advertising  \n",
       "0                                        0  \n",
       "1                                        0  \n",
       "2                                        0  \n",
       "3                                        0  \n",
       "4                                        1  "
      ]
     },
     "execution_count": 26,
     "metadata": {},
     "output_type": "execute_result"
    }
   ],
   "source": [
    "mapping =  pd.read_csv(inputDir+file3,encoding='iso-8859-1') # Use 'iso-8859-1' for accented characters\n",
    "print('\\nNumber of Records: ',mapping.shape[0]) # shape includes NA\n",
    "\n",
    "# There are multiple records in the dataset column category_list where 'na' is replaced by 0, so we have to replace 0 with na,\n",
    "# we have to make sure if data contains 2.0 or v3.0 we should not replace it.\n",
    "# '.*' is for zero or more occurances before 0, '.+ is for one or more occurance after 0.\n",
    "\n",
    "regex = (mapping.category_list.str.contains('[.*0]')==True) &  (mapping.category_list.str.endswith('0')==False)\n",
    "mapping_cleaned = mapping.copy()\n",
    "mapping_cleaned.loc[regex,'category_list'] = mapping_cleaned.loc[regex,'category_list'].replace('0','na',regex=True)\n",
    "mapping_cleaned.head()"
   ]
  },
  {
   "cell_type": "markdown",
   "metadata": {},
   "source": [
    "#### Define Function"
   ]
  },
  {
   "cell_type": "code",
   "execution_count": 27,
   "metadata": {
    "collapsed": true
   },
   "outputs": [],
   "source": [
    "# Defining function demap, which will convert data in mapping dataframe above to two columns output.\n",
    "def demap(df,outColName):\n",
    "    l = list()\n",
    "    c = int(df.count().sort_values(ascending=False)[0])\n",
    "    for i in range(c):\n",
    "        for col_name in df.columns:\n",
    "            if df[col_name][i]==1:\n",
    "               l.append(col_name)\n",
    "    df2 = df.copy()\n",
    "    df2[outColName] = l\n",
    "    return df2.iloc[:,[0,-1]]"
   ]
  },
  {
   "cell_type": "code",
   "execution_count": 28,
   "metadata": {},
   "outputs": [
    {
     "name": "stdout",
     "output_type": "stream",
     "text": [
      "\n",
      "Number of Records:  687\n"
     ]
    },
    {
     "data": {
      "text/html": [
       "<div>\n",
       "<style>\n",
       "    .dataframe thead tr:only-child th {\n",
       "        text-align: right;\n",
       "    }\n",
       "\n",
       "    .dataframe thead th {\n",
       "        text-align: left;\n",
       "    }\n",
       "\n",
       "    .dataframe tbody tr th {\n",
       "        vertical-align: top;\n",
       "    }\n",
       "</style>\n",
       "<table border=\"1\" class=\"dataframe\">\n",
       "  <thead>\n",
       "    <tr style=\"text-align: right;\">\n",
       "      <th></th>\n",
       "      <th>category_list</th>\n",
       "      <th>main_sector</th>\n",
       "    </tr>\n",
       "  </thead>\n",
       "  <tbody>\n",
       "    <tr>\n",
       "      <th>0</th>\n",
       "      <td>NaN</td>\n",
       "      <td>Blanks</td>\n",
       "    </tr>\n",
       "    <tr>\n",
>>>>>>> 31e0e754eedcf0d02ef04b43d660f988cfd12180
       "      <th>1</th>\n",
       "      <td>3D</td>\n",
       "      <td>Manufacturing</td>\n",
       "    </tr>\n",
       "    <tr>\n",
       "      <th>2</th>\n",
       "      <td>3D Printing</td>\n",
       "      <td>Manufacturing</td>\n",
       "    </tr>\n",
       "    <tr>\n",
       "      <th>3</th>\n",
       "      <td>3D Technology</td>\n",
       "      <td>Manufacturing</td>\n",
       "    </tr>\n",
       "    <tr>\n",
       "      <th>4</th>\n",
       "      <td>Accounting</td>\n",
       "      <td>Social, Finance, Analytics, Advertising</td>\n",
       "    </tr>\n",
       "  </tbody>\n",
       "</table>\n",
       "</div>"
      ],
      "text/plain": [
       "   category_list                              main_sector\n",
       "0            NaN                                   Blanks\n",
       "1             3D                            Manufacturing\n",
       "2    3D Printing                            Manufacturing\n",
       "3  3D Technology                            Manufacturing\n",
       "4     Accounting  Social, Finance, Analytics, Advertising"
      ]
     },
<<<<<<< HEAD
     "execution_count": 94,
=======
     "execution_count": 28,
>>>>>>> 31e0e754eedcf0d02ef04b43d660f988cfd12180
     "metadata": {},
     "output_type": "execute_result"
    }
   ],
   "source": [
    "mapping_new = demap(mapping_cleaned,'main_sector')\n",
    "print('\\nNumber of Records: ',mapping_new.count()[0])\n",
    "mapping_new.head()"
   ]
  },
  {
   "cell_type": "code",
<<<<<<< HEAD
   "execution_count": 95,
=======
   "execution_count": 29,
>>>>>>> 31e0e754eedcf0d02ef04b43d660f988cfd12180
   "metadata": {
    "collapsed": true
   },
   "outputs": [],
   "source": [
    "top3_data_sector_wise = pd.merge(left=top3_data, right=mapping_new,left_on='primary_sector',right_on='category_list')\n",
    "# Drop unnecessary columns\n",
    "top3_data_sector_wise.drop(labels=['category_list_x', 'category_list_y'],axis=1, inplace=True)"
   ]
  },
  {
   "cell_type": "code",
<<<<<<< HEAD
   "execution_count": 96,
=======
   "execution_count": 30,
>>>>>>> 31e0e754eedcf0d02ef04b43d660f988cfd12180
   "metadata": {},
   "outputs": [
    {
     "name": "stdout",
     "output_type": "stream",
     "text": [
      "\n",
      "Number of Records:  38857\n"
     ]
    },
    {
     "data": {
      "text/html": [
       "<div>\n",
       "<style>\n",
       "    .dataframe thead tr:only-child th {\n",
       "        text-align: right;\n",
       "    }\n",
       "\n",
       "    .dataframe thead th {\n",
       "        text-align: left;\n",
       "    }\n",
       "\n",
       "    .dataframe tbody tr th {\n",
       "        vertical-align: top;\n",
       "    }\n",
       "</style>\n",
       "<table border=\"1\" class=\"dataframe\">\n",
       "  <thead>\n",
       "    <tr style=\"text-align: right;\">\n",
       "      <th></th>\n",
       "      <th>permalink</th>\n",
       "      <th>name</th>\n",
       "      <th>homepage_url</th>\n",
       "      <th>status</th>\n",
       "      <th>country_code</th>\n",
       "      <th>state_code</th>\n",
       "      <th>region</th>\n",
       "      <th>city</th>\n",
       "      <th>founded_at</th>\n",
       "      <th>company_permalink</th>\n",
       "      <th>funding_round_permalink</th>\n",
       "      <th>funding_round_type</th>\n",
       "      <th>funding_round_code</th>\n",
       "      <th>funded_at</th>\n",
       "      <th>raised_amount_usd</th>\n",
       "      <th>primary_sector</th>\n",
       "      <th>main_sector</th>\n",
       "    </tr>\n",
       "  </thead>\n",
       "  <tbody>\n",
       "    <tr>\n",
       "      <th>0</th>\n",
       "      <td>/organization/-fame</td>\n",
       "      <td>#fame</td>\n",
       "      <td>http://livfame.com</td>\n",
       "      <td>operating</td>\n",
       "      <td>IND</td>\n",
       "      <td>16</td>\n",
       "      <td>Mumbai</td>\n",
       "      <td>Mumbai</td>\n",
       "      <td>NaN</td>\n",
       "      <td>/organization/-fame</td>\n",
       "      <td>/funding-round/9a01d05418af9f794eebff7ace91f638</td>\n",
       "      <td>venture</td>\n",
       "      <td>B</td>\n",
       "      <td>05-01-2015</td>\n",
       "      <td>10000000.00</td>\n",
       "      <td>Media</td>\n",
       "      <td>Entertainment</td>\n",
       "    </tr>\n",
       "    <tr>\n",
       "      <th>1</th>\n",
       "      <td>/organization/90min</td>\n",
       "      <td>90min</td>\n",
       "      <td>http://www.90min.com</td>\n",
       "      <td>operating</td>\n",
       "      <td>GBR</td>\n",
       "      <td>H9</td>\n",
       "      <td>London</td>\n",
       "      <td>London</td>\n",
       "      <td>01-01-2011</td>\n",
       "      <td>/organization/90min</td>\n",
       "      <td>/funding-round/21a2cbf6f2fb2a1c2a61e04bf930dfe6</td>\n",
       "      <td>venture</td>\n",
       "      <td>NaN</td>\n",
       "      <td>06-10-2015</td>\n",
       "      <td>15000000.00</td>\n",
       "      <td>Media</td>\n",
       "      <td>Entertainment</td>\n",
       "    </tr>\n",
       "    <tr>\n",
       "      <th>2</th>\n",
       "      <td>/organization/90min</td>\n",
       "      <td>90min</td>\n",
       "      <td>http://www.90min.com</td>\n",
       "      <td>operating</td>\n",
       "      <td>GBR</td>\n",
       "      <td>H9</td>\n",
       "      <td>London</td>\n",
       "      <td>London</td>\n",
       "      <td>01-01-2011</td>\n",
       "      <td>/organization/90min</td>\n",
       "      <td>/funding-round/bd626ed022f5c66574b1afe234f3c90d</td>\n",
       "      <td>venture</td>\n",
       "      <td>NaN</td>\n",
       "      <td>07-05-2013</td>\n",
       "      <td>5800000.00</td>\n",
       "      <td>Media</td>\n",
       "      <td>Entertainment</td>\n",
       "    </tr>\n",
       "  </tbody>\n",
       "</table>\n",
       "</div>"
      ],
      "text/plain": [
       "             permalink   name          homepage_url     status country_code  \\\n",
       "0  /organization/-fame  #fame    http://livfame.com  operating          IND   \n",
       "1  /organization/90min  90min  http://www.90min.com  operating          GBR   \n",
       "2  /organization/90min  90min  http://www.90min.com  operating          GBR   \n",
       "\n",
       "  state_code  region    city  founded_at    company_permalink  \\\n",
       "0         16  Mumbai  Mumbai         NaN  /organization/-fame   \n",
       "1         H9  London  London  01-01-2011  /organization/90min   \n",
       "2         H9  London  London  01-01-2011  /organization/90min   \n",
       "\n",
       "                           funding_round_permalink funding_round_type  \\\n",
       "0  /funding-round/9a01d05418af9f794eebff7ace91f638            venture   \n",
       "1  /funding-round/21a2cbf6f2fb2a1c2a61e04bf930dfe6            venture   \n",
       "2  /funding-round/bd626ed022f5c66574b1afe234f3c90d            venture   \n",
       "\n",
       "  funding_round_code   funded_at  raised_amount_usd primary_sector  \\\n",
       "0                  B  05-01-2015        10000000.00          Media   \n",
       "1                NaN  06-10-2015        15000000.00          Media   \n",
       "2                NaN  07-05-2013         5800000.00          Media   \n",
       "\n",
       "     main_sector  \n",
       "0  Entertainment  \n",
       "1  Entertainment  \n",
       "2  Entertainment  "
      ]
     },
<<<<<<< HEAD
     "execution_count": 96,
=======
     "execution_count": 30,
>>>>>>> 31e0e754eedcf0d02ef04b43d660f988cfd12180
     "metadata": {},
     "output_type": "execute_result"
    }
   ],
   "source": [
    "print('\\nNumber of Records: ',top3_data_sector_wise.count()[0])\n",
    "top3_data_sector_wise.head(3)"
   ]
  },
  {
   "cell_type": "markdown",
   "metadata": {},
   "source": [
    "#### Storing Data"
   ]
  },
  {
   "cell_type": "code",
<<<<<<< HEAD
   "execution_count": 97,
=======
   "execution_count": 31,
>>>>>>> 31e0e754eedcf0d02ef04b43d660f988cfd12180
   "metadata": {},
   "outputs": [
    {
     "name": "stdout",
     "output_type": "stream",
     "text": [
      "File: top3_data_sector_wise.csv created at C:/Users/ankit.bhatia/Documents/GitHub/PythonScripts/data/spark_funds/outDir/\n",
      "Size of file :10044.0 KB\n"
     ]
    }
   ],
   "source": [
    "# Storing master_frame_sector_wise dataframe at user location\n",
    "# master_frame_sector_wise :: Contains the data for top3 english speaking countries where a particular funding type falling \n",
    "#within the 5-15 million USD range.\n",
    "\n",
    "writeDF(top3_data_sector_wise,'top3_data_sector_wise',outDir)"
   ]
  },
  {
   "cell_type": "markdown",
   "metadata": {},
   "source": [
    "## Checkpoint 5: Sector Analysis 2"
   ]
  },
  {
   "cell_type": "markdown",
   "metadata": {},
   "source": [
    "Created three separate data frames D1, D2 and D3 for each of the three english countries containing the observations of funding type falling within the 5-15 million USD range.\n",
    "The three data frames should contain:\n",
    "1. All the columns of the master_frame along with the primary sector and the main sector\n",
    "2. The total number (or count) of investments for each main sector in a separate column\n",
    "3. The total amount invested in each main sector in a separate column"
   ]
  },
  {
   "cell_type": "code",
<<<<<<< HEAD
   "execution_count": 98,
=======
   "execution_count": 32,
>>>>>>> 31e0e754eedcf0d02ef04b43d660f988cfd12180
   "metadata": {},
   "outputs": [
    {
     "data": {
      "text/html": [
       "<div>\n",
       "<style>\n",
       "    .dataframe thead tr:only-child th {\n",
       "        text-align: right;\n",
       "    }\n",
       "\n",
       "    .dataframe thead th {\n",
       "        text-align: left;\n",
       "    }\n",
       "\n",
       "    .dataframe tbody tr th {\n",
       "        vertical-align: top;\n",
       "    }\n",
       "</style>\n",
       "<table border=\"1\" class=\"dataframe\">\n",
       "  <thead>\n",
       "    <tr style=\"text-align: right;\">\n",
       "      <th></th>\n",
       "      <th>permalink</th>\n",
       "      <th>name</th>\n",
       "      <th>homepage_url</th>\n",
       "      <th>status</th>\n",
       "      <th>country_code</th>\n",
       "      <th>state_code</th>\n",
       "      <th>region</th>\n",
       "      <th>city</th>\n",
       "      <th>founded_at</th>\n",
       "      <th>company_permalink</th>\n",
       "      <th>funding_round_permalink</th>\n",
       "      <th>funding_round_type</th>\n",
       "      <th>funding_round_code</th>\n",
       "      <th>funded_at</th>\n",
       "      <th>raised_amount_usd</th>\n",
       "      <th>primary_sector</th>\n",
       "      <th>main_sector</th>\n",
       "    </tr>\n",
       "  </thead>\n",
       "  <tbody>\n",
       "    <tr>\n",
       "      <th>4</th>\n",
       "      <td>/organization/all-def-digital</td>\n",
       "      <td>All Def Digital</td>\n",
       "      <td>http://alldefdigital.com</td>\n",
       "      <td>operating</td>\n",
       "      <td>USA</td>\n",
       "      <td>CA</td>\n",
       "      <td>Los Angeles</td>\n",
       "      <td>Los Angeles</td>\n",
       "      <td>NaN</td>\n",
       "      <td>/organization/all-def-digital</td>\n",
       "      <td>/funding-round/452a2342fe720285c3b92e9bd927d9ba</td>\n",
       "      <td>venture</td>\n",
       "      <td>A</td>\n",
       "      <td>06-08-2014</td>\n",
       "      <td>5000000.00</td>\n",
       "      <td>Media</td>\n",
       "      <td>Entertainment</td>\n",
       "    </tr>\n",
       "    <tr>\n",
       "      <th>5</th>\n",
       "      <td>/organization/audiosocket</td>\n",
       "      <td>Audiosocket</td>\n",
       "      <td>http://audiosocket.com</td>\n",
       "      <td>operating</td>\n",
       "      <td>USA</td>\n",
       "      <td>WA</td>\n",
       "      <td>Seattle</td>\n",
       "      <td>Seattle</td>\n",
       "      <td>01-05-2008</td>\n",
       "      <td>/organization/audiosocket</td>\n",
       "      <td>/funding-round/0959f59e3a89bc8db8c6ed9c646349fd</td>\n",
       "      <td>venture</td>\n",
       "      <td>NaN</td>\n",
       "      <td>02-05-2013</td>\n",
       "      <td>650000.00</td>\n",
       "      <td>Media</td>\n",
       "      <td>Entertainment</td>\n",
       "    </tr>\n",
       "    <tr>\n",
       "      <th>6</th>\n",
       "      <td>/organization/audiosocket</td>\n",
       "      <td>Audiosocket</td>\n",
       "      <td>http://audiosocket.com</td>\n",
       "      <td>operating</td>\n",
       "      <td>USA</td>\n",
       "      <td>WA</td>\n",
       "      <td>Seattle</td>\n",
       "      <td>Seattle</td>\n",
       "      <td>01-05-2008</td>\n",
       "      <td>/organization/audiosocket</td>\n",
       "      <td>/funding-round/4e3a53eec6c609943df752206070b23f</td>\n",
       "      <td>venture</td>\n",
       "      <td>A</td>\n",
       "      <td>02-09-2009</td>\n",
       "      <td>750000.00</td>\n",
       "      <td>Media</td>\n",
       "      <td>Entertainment</td>\n",
       "    </tr>\n",
       "  </tbody>\n",
       "</table>\n",
       "</div>"
      ],
      "text/plain": [
       "                       permalink             name              homepage_url  \\\n",
       "4  /organization/all-def-digital  All Def Digital  http://alldefdigital.com   \n",
       "5      /organization/audiosocket      Audiosocket    http://audiosocket.com   \n",
       "6      /organization/audiosocket      Audiosocket    http://audiosocket.com   \n",
       "\n",
       "      status country_code state_code       region         city  founded_at  \\\n",
       "4  operating          USA         CA  Los Angeles  Los Angeles         NaN   \n",
       "5  operating          USA         WA      Seattle      Seattle  01-05-2008   \n",
       "6  operating          USA         WA      Seattle      Seattle  01-05-2008   \n",
       "\n",
       "               company_permalink  \\\n",
       "4  /organization/all-def-digital   \n",
       "5      /organization/audiosocket   \n",
       "6      /organization/audiosocket   \n",
       "\n",
       "                           funding_round_permalink funding_round_type  \\\n",
       "4  /funding-round/452a2342fe720285c3b92e9bd927d9ba            venture   \n",
       "5  /funding-round/0959f59e3a89bc8db8c6ed9c646349fd            venture   \n",
       "6  /funding-round/4e3a53eec6c609943df752206070b23f            venture   \n",
       "\n",
       "  funding_round_code   funded_at  raised_amount_usd primary_sector  \\\n",
       "4                  A  06-08-2014         5000000.00          Media   \n",
       "5                NaN  02-05-2013          650000.00          Media   \n",
       "6                  A  02-09-2009          750000.00          Media   \n",
       "\n",
       "     main_sector  \n",
       "4  Entertainment  \n",
       "5  Entertainment  \n",
       "6  Entertainment  "
      ]
     },
<<<<<<< HEAD
     "execution_count": 98,
=======
     "execution_count": 32,
>>>>>>> 31e0e754eedcf0d02ef04b43d660f988cfd12180
     "metadata": {},
     "output_type": "execute_result"
    }
   ],
   "source": [
    "#USA\n",
    "D1 = top3_data_sector_wise[top3_data_sector_wise['country_code']==top]\n",
    "\n",
    "#GBR\n",
    "D2 = top3_data_sector_wise[top3_data_sector_wise['country_code']==second]\n",
    "\n",
    "#IND\n",
    "D3 = top3_data_sector_wise[top3_data_sector_wise['country_code']==third]\n",
    "\n",
    "D1.head(3)"
   ]
  },
  {
   "cell_type": "markdown",
   "metadata": {
    "collapsed": true
   },
   "source": [
    "#### Q1. Total number of Investments (count)"
   ]
  },
  {
   "cell_type": "code",
<<<<<<< HEAD
   "execution_count": 99,
=======
   "execution_count": 33,
>>>>>>> 31e0e754eedcf0d02ef04b43d660f988cfd12180
   "metadata": {},
   "outputs": [
    {
     "name": "stdout",
     "output_type": "stream",
     "text": [
      "35984\n",
      "2049\n",
      "824\n"
     ]
    }
   ],
   "source": [
    "print(D1.count()[0])\n",
    "print(D2.count()[0])\n",
    "print(D3.count()[0])"
   ]
  },
  {
   "cell_type": "markdown",
   "metadata": {},
   "source": [
    " #### Q2. Total amount of investment (USD)"
   ]
  },
  {
   "cell_type": "code",
<<<<<<< HEAD
   "execution_count": 100,
=======
   "execution_count": 34,
>>>>>>> 31e0e754eedcf0d02ef04b43d660f988cfd12180
   "metadata": {},
   "outputs": [
    {
     "name": "stdout",
     "output_type": "stream",
     "text": [
      "421038036896.0\n",
      "20156617818.0\n",
      "14391858718.0\n"
     ]
    }
   ],
   "source": [
    "print(D1.raised_amount_usd.sum())\n",
    "print(D2.raised_amount_usd.sum())\n",
    "print(D3.raised_amount_usd.sum())"
   ]
  },
  {
   "cell_type": "code",
<<<<<<< HEAD
   "execution_count": 101,
=======
   "execution_count": 35,
>>>>>>> 31e0e754eedcf0d02ef04b43d660f988cfd12180
   "metadata": {
    "collapsed": true
   },
   "outputs": [],
   "source": [
    "# Define function to get top sectors count and name\n",
    "def getSector(dataset,n,identifier):\n",
    "    # dataset     :: datframe\n",
    "    # n           :: n represents nth order, 0 for top, 1 for second top and so on.\n",
    "    # identifier  :: identifier = 'count' to get the count, identifier = 'name' to get the sector name.\n",
    "    if identifier == 'name':\n",
    "        return (dataset.groupby(by='main_sector')['main_sector'].count().sort_values(ascending=False).index[n])\n",
    "    elif identifier == 'count':\n",
    "        return (dataset.groupby(by='main_sector')['main_sector'].count().sort_values(ascending=False)[n])"
   ]
  },
  {
   "cell_type": "markdown",
   "metadata": {},
   "source": [
    "#### Q3. Top sector (based on count of investments)"
   ]
  },
  {
   "cell_type": "code",
<<<<<<< HEAD
   "execution_count": 102,
=======
   "execution_count": 36,
>>>>>>> 31e0e754eedcf0d02ef04b43d660f988cfd12180
   "metadata": {},
   "outputs": [
    {
     "name": "stdout",
     "output_type": "stream",
     "text": [
      "D1_sec0_name :  Others \n",
      "D2_sec0_name :  Others \n",
      "D3_sec0_name :  Others\n"
     ]
    }
   ],
   "source": [
    "D1_sec0_name = getSector(dataset=D1,n=0,identifier='name')\n",
    "D2_sec0_name = getSector(D2,0,'name')\n",
    "D3_sec0_name = getSector(D3,0,'name')\n",
    "\n",
    "print('D1_sec0_name : ',D1_sec0_name,'\\nD2_sec0_name : ',D2_sec0_name,'\\nD3_sec0_name : ',D3_sec0_name)"
   ]
  },
  {
   "cell_type": "markdown",
   "metadata": {},
   "source": [
    "#### Q4. Second-best sector (based on count of investments)"
   ]
  },
  {
   "cell_type": "code",
<<<<<<< HEAD
   "execution_count": 103,
=======
   "execution_count": 37,
>>>>>>> 31e0e754eedcf0d02ef04b43d660f988cfd12180
   "metadata": {},
   "outputs": [
    {
     "name": "stdout",
     "output_type": "stream",
     "text": [
      "D1_sec1_name :  Cleantech / Semiconductors \n",
      "D2_sec1_name :  Cleantech / Semiconductors \n",
      "D3_sec1_name :  Social, Finance, Analytics, Advertising\n"
     ]
    }
   ],
   "source": [
    "D1_sec1_name = getSector(D1,1,'name')\n",
    "D2_sec1_name = getSector(D2,1,'name')\n",
    "D3_sec1_name = getSector(D3,1,'name')\n",
    "\n",
    "print('D1_sec1_name : ',D1_sec1_name,'\\nD2_sec1_name : ',D2_sec1_name,'\\nD3_sec1_name : ',D3_sec1_name)"
   ]
  },
  {
   "cell_type": "markdown",
   "metadata": {},
   "source": [
    "#### Q5. Third-best sector (based on count of investments)"
   ]
  },
  {
   "cell_type": "code",
<<<<<<< HEAD
   "execution_count": 104,
=======
   "execution_count": 38,
>>>>>>> 31e0e754eedcf0d02ef04b43d660f988cfd12180
   "metadata": {},
   "outputs": [
    {
     "name": "stdout",
     "output_type": "stream",
     "text": [
      "D1_sec2_name :  Social, Finance, Analytics, Advertising \n",
      "D2_sec2_name :  Social, Finance, Analytics, Advertising \n",
      "D3_sec2_name :  News, Search and Messaging\n"
     ]
    }
   ],
   "source": [
    "D1_sec2_name = getSector(D1,2,'name')\n",
    "D2_sec2_name = getSector(D2,2,'name')\n",
    "D3_sec2_name = getSector(D3,2,'name')\n",
    "\n",
    "print('D1_sec2_name : ',D1_sec2_name,'\\nD2_sec2_name : ',D2_sec2_name,'\\nD3_sec2_name : ',D3_sec2_name)"
   ]
  },
  {
   "cell_type": "markdown",
   "metadata": {},
   "source": [
    "#### Q6. Number of investments in the top sector (refer to point 3)"
   ]
  },
  {
   "cell_type": "code",
<<<<<<< HEAD
   "execution_count": 105,
=======
   "execution_count": 39,
>>>>>>> 31e0e754eedcf0d02ef04b43d660f988cfd12180
   "metadata": {},
   "outputs": [
    {
     "name": "stdout",
     "output_type": "stream",
     "text": [
      "D1_sec0_count :  8314 \n",
      "D2_sec0_count :  516 \n",
      "D3_sec0_count :  284\n"
     ]
    }
   ],
   "source": [
    "D1_sec0_count = getSector(D1,0,'count')\n",
    "D2_sec0_count = getSector(D2,0,'count')\n",
    "D3_sec0_count = getSector(D3,0,'count')\n",
    "\n",
    "print('D1_sec0_count : ',D1_sec0_count,'\\nD2_sec0_count : ',D2_sec0_count,'\\nD3_sec0_count : ',D3_sec0_count)"
   ]
  },
  {
   "cell_type": "markdown",
   "metadata": {},
   "source": [
    "#### Q7. Number of investments in the second-best sector (refer to point 4)"
   ]
  },
  {
   "cell_type": "code",
<<<<<<< HEAD
   "execution_count": 106,
=======
   "execution_count": 40,
>>>>>>> 31e0e754eedcf0d02ef04b43d660f988cfd12180
   "metadata": {},
   "outputs": [
    {
     "name": "stdout",
     "output_type": "stream",
     "text": [
      "D1_sec1_count :  7857 \n",
      "D2_sec1_count :  437 \n",
      "D3_sec1_count :  147\n"
     ]
    }
   ],
   "source": [
    "D1_sec1_count = getSector(D1,1,'count')\n",
    "D2_sec1_count = getSector(D2,1,'count')\n",
    "D3_sec1_count = getSector(D3,1,'count')\n",
    "\n",
    "print('D1_sec1_count : ',D1_sec1_count,'\\nD2_sec1_count : ',D2_sec1_count,'\\nD3_sec1_count : ',D3_sec1_count)"
   ]
  },
  {
   "cell_type": "markdown",
   "metadata": {},
   "source": [
    "#### Q8. Number of investments in the third-best sector (refer to point 5)"
   ]
  },
  {
   "cell_type": "code",
<<<<<<< HEAD
   "execution_count": 107,
=======
   "execution_count": 41,
>>>>>>> 31e0e754eedcf0d02ef04b43d660f988cfd12180
   "metadata": {},
   "outputs": [
    {
     "name": "stdout",
     "output_type": "stream",
     "text": [
      "D1_sec2_count :  7246 \n",
      "D2_sec2_count :  421 \n",
      "D3_sec2_count :  130\n"
     ]
    }
   ],
   "source": [
    "D1_sec2_count = getSector(D1,2,'count')\n",
    "D2_sec2_count = getSector(D2,2,'count')\n",
    "D3_sec2_count = getSector(D3,2,'count')\n",
    "\n",
    "print('D1_sec2_count : ',D1_sec2_count,'\\nD2_sec2_count : ',D2_sec2_count,'\\nD3_sec2_count : ',D3_sec2_count)"
   ]
  },
  {
   "cell_type": "markdown",
   "metadata": {},
   "source": [
    "#### Q9. For the top sector count-wise (point 3), which company received the highest investment?"
   ]
  },
  {
   "cell_type": "code",
<<<<<<< HEAD
   "execution_count": 108,
=======
   "execution_count": 42,
>>>>>>> 31e0e754eedcf0d02ef04b43d660f988cfd12180
   "metadata": {},
   "outputs": [
    {
     "name": "stdout",
     "output_type": "stream",
     "text": [
      "D1_com0_invt :  SoFi \n",
      "D2_com0_invt :  OneWeb \n",
      "D3_com0_invt :  Flipkart\n"
     ]
    }
   ],
   "source": [
    "# Filter dataframes by top-sector names(Q3), then group by company name and sum the raised_amount_usd, then fetch highest value\n",
    "D1_com0_invt = D1[D1.main_sector == D1_sec0_name].groupby(by='name')['raised_amount_usd'].sum().sort_values(ascending=False).index[0]\n",
    "D2_com0_invt = D2[D2.main_sector == D2_sec0_name].groupby(by='name')['raised_amount_usd'].sum().sort_values(ascending=False).index[0]\n",
    "D3_com0_invt = D3[D3.main_sector == D3_sec0_name].groupby(by='name')['raised_amount_usd'].sum().sort_values(ascending=False).index[0]\n",
    "\n",
    "print('D1_com0_invt : ',D1_com0_invt,'\\nD2_com0_invt : ',D2_com0_invt,'\\nD3_com0_invt : ',D3_com0_invt)"
   ]
  },
  {
   "cell_type": "markdown",
   "metadata": {},
   "source": [
    "#### Q10. For the second-best sector count-wise (point 4), which company received the highest investment?"
   ]
  },
  {
   "cell_type": "code",
<<<<<<< HEAD
   "execution_count": 109,
=======
   "execution_count": 43,
>>>>>>> 31e0e754eedcf0d02ef04b43d660f988cfd12180
   "metadata": {},
   "outputs": [
    {
     "name": "stdout",
     "output_type": "stream",
     "text": [
      "D1_com1_invt :  Juno Therapeutics \n",
      "D2_com1_invt :  ReNeuron Group \n",
      "D3_com1_invt :  LYCOS Internet Limited\n"
     ]
    }
   ],
   "source": [
    "D1_com1_invt = D1[D1.main_sector == D1_sec1_name].groupby(by='name')['raised_amount_usd'].sum().sort_values(ascending=False).index[1]\n",
    "D2_com1_invt = D2[D2.main_sector == D2_sec1_name].groupby(by='name')['raised_amount_usd'].sum().sort_values(ascending=False).index[1]\n",
    "D3_com1_invt = D3[D3.main_sector == D3_sec1_name].groupby(by='name')['raised_amount_usd'].sum().sort_values(ascending=False).index[1]\n",
    "\n",
    "print('D1_com1_invt : ',D1_com1_invt,'\\nD2_com1_invt : ',D2_com1_invt,'\\nD3_com1_invt : ',D3_com1_invt)"
   ]
  },
  {
   "cell_type": "markdown",
   "metadata": {},
   "source": [
    "## Checkpoint 6: Plots"
   ]
  },
  {
   "cell_type": "markdown",
   "metadata": {
    "collapsed": true
   },
   "source": [
    "#### Q1. A plot showing the fraction of total investments (globally) in venture, seed, and private equity, and the average amount of investment in each funding type. This chart should make it clear that a certain funding type (FT) is best suited for Spark Funds."
   ]
  },
  {
   "cell_type": "markdown",
   "metadata": {},
   "source": [
    "#### Using Matplotlib"
   ]
  },
  {
   "cell_type": "code",
<<<<<<< HEAD
   "execution_count": 110,
=======
   "execution_count": 44,
>>>>>>> 31e0e754eedcf0d02ef04b43d660f988cfd12180
   "metadata": {},
   "outputs": [
    {
     "data": {
<<<<<<< HEAD
      "image/png": "iVBORw0KGgoAAAANSUhEUgAAAnAAAAGECAYAAAC2+B0xAAAABHNCSVQICAgIfAhkiAAAAAlwSFlz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\nADAjcAAAMwIHADAjcAAAMwG7vY7Y0MdBQgAAAABJRU5ErkJggg==\n",
      "text/plain": [
       "<matplotlib.figure.Figure at 0x1028a3c8>"
=======
      "image/png": "iVBORw0KGgoAAAANSUhEUgAAAnAAAAGECAYAAAC2+B0xAAAABHNCSVQICAgIfAhkiAAAAAlwSFlz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\n",
      "text/plain": [
       "<matplotlib.figure.Figure at 0x1967bdeea58>"
>>>>>>> 31e0e754eedcf0d02ef04b43d660f988cfd12180
      ]
     },
     "metadata": {},
     "output_type": "display_data"
    }
   ],
   "source": [
    "selected_funding_round_type = ['venture','seed','private_equity']\n",
    "plot_frame = master_frame.loc[master_frame.funding_round_type.isin(selected_funding_round_type)]\n",
    "plot_frame = plot_frame.groupby('funding_round_type')['raised_amount_usd'].mean().sort_values(ascending=True).reset_index()\n",
    "cond = ((plot_frame.raised_amount_usd >= 5000000) & (plot_frame.raised_amount_usd <= 15000000))\n",
    "\n",
    "x = range(len(plot_frame.funding_round_type))\n",
    "y = plot_frame.raised_amount_usd/ 1000000\n",
    "y1 = y[cond]\n",
    "y2 = y[~cond]\n",
    "x1 = list(y1.index)\n",
    "x2 = list(y2.index)\n",
    "\n",
    "plt.figure(figsize=(9,6))\n",
    "\n",
    "# Bar plot\n",
    "#plt.bar(x,y, color=cond.map({True: 'g', False: 'k'}),label ='Suitable' )\n",
    "plt.bar(x1,y1, color='g',label ='Suitable' )\n",
    "plt.bar(x2,y2, color='k',label ='Not Suitable' )\n",
    "\n",
    "\n",
    "# Title\n",
    "plt.title('Most Suitable Funding Type')\n",
    "\n",
    "# Labels\n",
    "plt.xlabel('Funding Round Type')\n",
    "plt.ylabel('Average Raised Amount Used in Million(s)')\n",
    "\n",
    "# Ticks\n",
    "plt.xticks(x, plot_frame.funding_round_type)\n",
    "\n",
    "# Horizontal Line\n",
    "plt.axhline(y=5, color='b', linestyle='-',alpha = 0.5)\n",
    "plt.text(max(x)+.7, 5,'5 Million')\n",
    "plt.axhline(y=15, color='b', linestyle='-',alpha = 0.5)\n",
    "plt.text(max(x)+.7, 15,'15 Million')\n",
    "\n",
    "# Add Values to the bar\n",
    "for i in x:\n",
    "    plt.text(x[i]-.1,y[i]+.75,round(y[i],2))\n",
    "\n",
    "# Legend\n",
    "plt.legend()\n",
    "\n",
    "# Save as image\n",
    "plt.savefig(outDir+'Funding_Type.png',bbox_inches=\"tight\")\n",
    "\n",
    "# Show plot\n",
    "plt.show()"
   ]
  },
  {
   "cell_type": "markdown",
   "metadata": {
    "collapsed": true
   },
   "source": [
    "#### Q2. A plot showing the top 9 countries against the total amount of investments of funding type FT. This should make the top 3 countries (Country 1, Country 2, and Country 3) very clear."
   ]
  },
  {
   "cell_type": "code",
   "execution_count": null,
   "metadata": {},
   "outputs": [],
   "source": []
  },
  {
   "cell_type": "code",
   "execution_count": 75,
   "metadata": {},
   "outputs": [],
   "source": [
    "from bokeh.charts import Bar, output_file, show\n",
    "from bokeh.io import output_notebook\n",
    "from bokeh.models import Axis\n",
    "\n",
    "p = Bar(top9, label='country_code', values='raised_amount_usd', agg='sum', stack='IsOfficialEN',\n",
    "        title=\"Top 9 Countries\", legend='top_left')\n",
    "\n",
    "yaxis = p.select(dict(type=Axis, layout=\"left\"))[0]\n",
    "yaxis.formatter.use_scientific = False\n",
    "\n",
    "output_file(\"bar.html\")\n",
    "\n",
    "show(p)\n",
    "\n",
    "\n",
    "\n",
    "\n"
   ]
  },
  {
   "cell_type": "code",
   "execution_count": 54,
   "metadata": {},
   "outputs": [
    {
     "data": {
      "text/html": [
       "<div>\n",
       "<style>\n",
       "    .dataframe thead tr:only-child th {\n",
       "        text-align: right;\n",
       "    }\n",
       "\n",
       "    .dataframe thead th {\n",
       "        text-align: left;\n",
       "    }\n",
       "\n",
       "    .dataframe tbody tr th {\n",
       "        vertical-align: top;\n",
       "    }\n",
       "</style>\n",
       "<table border=\"1\" class=\"dataframe\">\n",
       "  <thead>\n",
       "    <tr style=\"text-align: right;\">\n",
       "      <th></th>\n",
       "      <th>country_code</th>\n",
       "      <th>raised_amount_usd</th>\n",
       "      <th>IsOfficialEN</th>\n",
       "    </tr>\n",
       "  </thead>\n",
       "  <tbody>\n",
       "    <tr>\n",
       "      <th>0</th>\n",
       "      <td>USA</td>\n",
       "      <td>422510842796.00</td>\n",
       "      <td>True</td>\n",
       "    </tr>\n",
       "    <tr>\n",
       "      <th>1</th>\n",
       "      <td>CHN</td>\n",
       "      <td>39835418773.00</td>\n",
       "      <td>False</td>\n",
       "    </tr>\n",
       "    <tr>\n",
       "      <th>2</th>\n",
       "      <td>GBR</td>\n",
       "      <td>20245627416.00</td>\n",
       "      <td>True</td>\n",
       "    </tr>\n",
       "    <tr>\n",
       "      <th>3</th>\n",
       "      <td>IND</td>\n",
       "      <td>14391858718.00</td>\n",
       "      <td>True</td>\n",
       "    </tr>\n",
       "    <tr>\n",
       "      <th>4</th>\n",
       "      <td>CAN</td>\n",
       "      <td>9583332317.00</td>\n",
       "      <td>True</td>\n",
       "    </tr>\n",
       "    <tr>\n",
       "      <th>5</th>\n",
       "      <td>FRA</td>\n",
       "      <td>7259536732.00</td>\n",
       "      <td>False</td>\n",
       "    </tr>\n",
       "    <tr>\n",
       "      <th>6</th>\n",
       "      <td>ISR</td>\n",
       "      <td>6907514579.00</td>\n",
       "      <td>False</td>\n",
       "    </tr>\n",
       "    <tr>\n",
       "      <th>7</th>\n",
       "      <td>DEU</td>\n",
       "      <td>6346959822.00</td>\n",
       "      <td>False</td>\n",
       "    </tr>\n",
       "    <tr>\n",
       "      <th>8</th>\n",
       "      <td>JPN</td>\n",
       "      <td>3363676611.00</td>\n",
       "      <td>False</td>\n",
       "    </tr>\n",
       "  </tbody>\n",
       "</table>\n",
       "</div>"
      ],
      "text/plain": [
       "  country_code  raised_amount_usd  IsOfficialEN\n",
       "0          USA    422510842796.00          True\n",
       "1          CHN     39835418773.00         False\n",
       "2          GBR     20245627416.00          True\n",
       "3          IND     14391858718.00          True\n",
       "4          CAN      9583332317.00          True\n",
       "5          FRA      7259536732.00         False\n",
       "6          ISR      6907514579.00         False\n",
       "7          DEU      6346959822.00         False\n",
       "8          JPN      3363676611.00         False"
      ]
     },
     "execution_count": 54,
     "metadata": {},
     "output_type": "execute_result"
    }
   ],
   "source": [
    "top9.sort_values(by='raised_amount_usd',ascending=False)"
   ]
  },
  {
   "cell_type": "code",
   "execution_count": 47,
   "metadata": {},
   "outputs": [
    {
     "data": {
      "text/html": [
       "<div>\n",
       "<style>\n",
       "    .dataframe thead tr:only-child th {\n",
       "        text-align: right;\n",
       "    }\n",
       "\n",
       "    .dataframe thead th {\n",
       "        text-align: left;\n",
       "    }\n",
       "\n",
       "    .dataframe tbody tr th {\n",
       "        vertical-align: top;\n",
       "    }\n",
       "</style>\n",
       "<table border=\"1\" class=\"dataframe\">\n",
       "  <thead>\n",
       "    <tr style=\"text-align: right;\">\n",
       "      <th></th>\n",
       "      <th>mpg</th>\n",
       "      <th>cyl</th>\n",
       "      <th>displ</th>\n",
       "      <th>hp</th>\n",
       "      <th>weight</th>\n",
       "      <th>accel</th>\n",
       "      <th>yr</th>\n",
       "      <th>origin</th>\n",
       "      <th>name</th>\n",
       "    </tr>\n",
       "  </thead>\n",
       "  <tbody>\n",
       "    <tr>\n",
       "      <th>0</th>\n",
       "      <td>18.00</td>\n",
       "      <td>8</td>\n",
       "      <td>307.00</td>\n",
       "      <td>130</td>\n",
       "      <td>3504</td>\n",
       "      <td>12.00</td>\n",
       "      <td>70</td>\n",
       "      <td>1</td>\n",
       "      <td>chevrolet chevelle malibu</td>\n",
       "    </tr>\n",
       "    <tr>\n",
       "      <th>1</th>\n",
       "      <td>15.00</td>\n",
       "      <td>8</td>\n",
       "      <td>350.00</td>\n",
       "      <td>165</td>\n",
       "      <td>3693</td>\n",
       "      <td>11.50</td>\n",
       "      <td>70</td>\n",
       "      <td>1</td>\n",
       "      <td>buick skylark 320</td>\n",
       "    </tr>\n",
       "    <tr>\n",
       "      <th>2</th>\n",
       "      <td>18.00</td>\n",
       "      <td>8</td>\n",
       "      <td>318.00</td>\n",
       "      <td>150</td>\n",
       "      <td>3436</td>\n",
       "      <td>11.00</td>\n",
       "      <td>70</td>\n",
       "      <td>1</td>\n",
       "      <td>plymouth satellite</td>\n",
       "    </tr>\n",
       "    <tr>\n",
       "      <th>3</th>\n",
       "      <td>16.00</td>\n",
       "      <td>8</td>\n",
       "      <td>304.00</td>\n",
       "      <td>150</td>\n",
       "      <td>3433</td>\n",
       "      <td>12.00</td>\n",
       "      <td>70</td>\n",
       "      <td>1</td>\n",
       "      <td>amc rebel sst</td>\n",
       "    </tr>\n",
       "    <tr>\n",
       "      <th>4</th>\n",
       "      <td>17.00</td>\n",
       "      <td>8</td>\n",
       "      <td>302.00</td>\n",
       "      <td>140</td>\n",
       "      <td>3449</td>\n",
       "      <td>10.50</td>\n",
       "      <td>70</td>\n",
       "      <td>1</td>\n",
       "      <td>ford torino</td>\n",
       "    </tr>\n",
       "  </tbody>\n",
       "</table>\n",
       "</div>"
      ],
      "text/plain": [
       "    mpg  cyl  displ   hp  weight  accel  yr  origin                       name\n",
       "0 18.00    8 307.00  130    3504  12.00  70       1  chevrolet chevelle malibu\n",
       "1 15.00    8 350.00  165    3693  11.50  70       1          buick skylark 320\n",
       "2 18.00    8 318.00  150    3436  11.00  70       1         plymouth satellite\n",
       "3 16.00    8 304.00  150    3433  12.00  70       1              amc rebel sst\n",
       "4 17.00    8 302.00  140    3449  10.50  70       1                ford torino"
      ]
     },
     "execution_count": 47,
     "metadata": {},
     "output_type": "execute_result"
    }
   ],
   "source": [
    "df.head()"
   ]
  },
  {
   "cell_type": "code",
   "execution_count": null,
   "metadata": {
    "collapsed": true
   },
   "outputs": [],
   "source": []
  }
 ],
 "metadata": {
  "kernelspec": {
   "display_name": "Python 3",
   "language": "python",
   "name": "python3"
  },
  "language_info": {
   "codemirror_mode": {
    "name": "ipython",
    "version": 3
   },
   "file_extension": ".py",
   "mimetype": "text/x-python",
   "name": "python",
   "nbconvert_exporter": "python",
   "pygments_lexer": "ipython3",
   "version": "3.6.1"
  }
 },
 "nbformat": 4,
 "nbformat_minor": 2
}
