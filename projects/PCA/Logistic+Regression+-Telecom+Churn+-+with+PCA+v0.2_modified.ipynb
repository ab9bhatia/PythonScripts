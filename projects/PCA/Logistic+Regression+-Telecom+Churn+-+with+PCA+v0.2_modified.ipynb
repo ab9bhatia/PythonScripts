{
 "cells": [
  {
   "cell_type": "markdown",
   "metadata": {
    "collapsed": true
   },
   "source": [
    "## Telecom Churn: Logistic Regression with PCA\n",
    "\n",
    "With 21 predictor variables, we need to predict whether a particular customer will switch to another telecom provider or not. In telecom terminology, customer attrition is referred to as 'churn'."
   ]
  },
  {
   "cell_type": "markdown",
   "metadata": {},
   "source": [
    "### Importing and Merging Data"
   ]
  },
  {
   "cell_type": "code",
   "execution_count": 1,
   "metadata": {
    "collapsed": true
   },
   "outputs": [],
   "source": [
    "# Importing Pandas and NumPy\n",
    "import pandas as pd\n",
    "import numpy as np\n",
    "import matplotlib.pyplot as plt\n",
    "import seaborn as sns"
   ]
  },
  {
   "cell_type": "code",
   "execution_count": 2,
   "metadata": {},
   "outputs": [
    {
     "ename": "FileNotFoundError",
     "evalue": "File b'internet_data.csv' does not exist",
     "output_type": "error",
     "traceback": [
      "\u001b[1;31m---------------------------------------------------------------------------\u001b[0m",
      "\u001b[1;31mFileNotFoundError\u001b[0m                         Traceback (most recent call last)",
      "\u001b[1;32m<ipython-input-2-c7b776ee09dd>\u001b[0m in \u001b[0;36m<module>\u001b[1;34m()\u001b[0m\n\u001b[0;32m      2\u001b[0m \u001b[0mchurn_data\u001b[0m \u001b[1;33m=\u001b[0m \u001b[0mpd\u001b[0m\u001b[1;33m.\u001b[0m\u001b[0mread_csv\u001b[0m\u001b[1;33m(\u001b[0m\u001b[1;34m\"churn_data.csv\"\u001b[0m\u001b[1;33m)\u001b[0m\u001b[1;33m\u001b[0m\u001b[0m\n\u001b[0;32m      3\u001b[0m \u001b[0mcustomer_data\u001b[0m \u001b[1;33m=\u001b[0m \u001b[0mpd\u001b[0m\u001b[1;33m.\u001b[0m\u001b[0mread_csv\u001b[0m\u001b[1;33m(\u001b[0m\u001b[1;34m\"customer_data.csv\"\u001b[0m\u001b[1;33m)\u001b[0m\u001b[1;33m\u001b[0m\u001b[0m\n\u001b[1;32m----> 4\u001b[1;33m \u001b[0minternet_data\u001b[0m \u001b[1;33m=\u001b[0m \u001b[0mpd\u001b[0m\u001b[1;33m.\u001b[0m\u001b[0mread_csv\u001b[0m\u001b[1;33m(\u001b[0m\u001b[1;34m\"internet_data.csv\"\u001b[0m\u001b[1;33m)\u001b[0m\u001b[1;33m\u001b[0m\u001b[0m\n\u001b[0m",
      "\u001b[1;32m~\\AppData\\Local\\Continuum\\anaconda3\\lib\\site-packages\\pandas\\io\\parsers.py\u001b[0m in \u001b[0;36mparser_f\u001b[1;34m(filepath_or_buffer, sep, delimiter, header, names, index_col, usecols, squeeze, prefix, mangle_dupe_cols, dtype, engine, converters, true_values, false_values, skipinitialspace, skiprows, nrows, na_values, keep_default_na, na_filter, verbose, skip_blank_lines, parse_dates, infer_datetime_format, keep_date_col, date_parser, dayfirst, iterator, chunksize, compression, thousands, decimal, lineterminator, quotechar, quoting, escapechar, comment, encoding, dialect, tupleize_cols, error_bad_lines, warn_bad_lines, skipfooter, skip_footer, doublequote, delim_whitespace, as_recarray, compact_ints, use_unsigned, low_memory, buffer_lines, memory_map, float_precision)\u001b[0m\n\u001b[0;32m    653\u001b[0m                     skip_blank_lines=skip_blank_lines)\n\u001b[0;32m    654\u001b[0m \u001b[1;33m\u001b[0m\u001b[0m\n\u001b[1;32m--> 655\u001b[1;33m         \u001b[1;32mreturn\u001b[0m \u001b[0m_read\u001b[0m\u001b[1;33m(\u001b[0m\u001b[0mfilepath_or_buffer\u001b[0m\u001b[1;33m,\u001b[0m \u001b[0mkwds\u001b[0m\u001b[1;33m)\u001b[0m\u001b[1;33m\u001b[0m\u001b[0m\n\u001b[0m\u001b[0;32m    656\u001b[0m \u001b[1;33m\u001b[0m\u001b[0m\n\u001b[0;32m    657\u001b[0m     \u001b[0mparser_f\u001b[0m\u001b[1;33m.\u001b[0m\u001b[0m__name__\u001b[0m \u001b[1;33m=\u001b[0m \u001b[0mname\u001b[0m\u001b[1;33m\u001b[0m\u001b[0m\n",
      "\u001b[1;32m~\\AppData\\Local\\Continuum\\anaconda3\\lib\\site-packages\\pandas\\io\\parsers.py\u001b[0m in \u001b[0;36m_read\u001b[1;34m(filepath_or_buffer, kwds)\u001b[0m\n\u001b[0;32m    403\u001b[0m \u001b[1;33m\u001b[0m\u001b[0m\n\u001b[0;32m    404\u001b[0m     \u001b[1;31m# Create the parser.\u001b[0m\u001b[1;33m\u001b[0m\u001b[1;33m\u001b[0m\u001b[0m\n\u001b[1;32m--> 405\u001b[1;33m     \u001b[0mparser\u001b[0m \u001b[1;33m=\u001b[0m \u001b[0mTextFileReader\u001b[0m\u001b[1;33m(\u001b[0m\u001b[0mfilepath_or_buffer\u001b[0m\u001b[1;33m,\u001b[0m \u001b[1;33m**\u001b[0m\u001b[0mkwds\u001b[0m\u001b[1;33m)\u001b[0m\u001b[1;33m\u001b[0m\u001b[0m\n\u001b[0m\u001b[0;32m    406\u001b[0m \u001b[1;33m\u001b[0m\u001b[0m\n\u001b[0;32m    407\u001b[0m     \u001b[1;32mif\u001b[0m \u001b[0mchunksize\u001b[0m \u001b[1;32mor\u001b[0m \u001b[0miterator\u001b[0m\u001b[1;33m:\u001b[0m\u001b[1;33m\u001b[0m\u001b[0m\n",
      "\u001b[1;32m~\\AppData\\Local\\Continuum\\anaconda3\\lib\\site-packages\\pandas\\io\\parsers.py\u001b[0m in \u001b[0;36m__init__\u001b[1;34m(self, f, engine, **kwds)\u001b[0m\n\u001b[0;32m    762\u001b[0m             \u001b[0mself\u001b[0m\u001b[1;33m.\u001b[0m\u001b[0moptions\u001b[0m\u001b[1;33m[\u001b[0m\u001b[1;34m'has_index_names'\u001b[0m\u001b[1;33m]\u001b[0m \u001b[1;33m=\u001b[0m \u001b[0mkwds\u001b[0m\u001b[1;33m[\u001b[0m\u001b[1;34m'has_index_names'\u001b[0m\u001b[1;33m]\u001b[0m\u001b[1;33m\u001b[0m\u001b[0m\n\u001b[0;32m    763\u001b[0m \u001b[1;33m\u001b[0m\u001b[0m\n\u001b[1;32m--> 764\u001b[1;33m         \u001b[0mself\u001b[0m\u001b[1;33m.\u001b[0m\u001b[0m_make_engine\u001b[0m\u001b[1;33m(\u001b[0m\u001b[0mself\u001b[0m\u001b[1;33m.\u001b[0m\u001b[0mengine\u001b[0m\u001b[1;33m)\u001b[0m\u001b[1;33m\u001b[0m\u001b[0m\n\u001b[0m\u001b[0;32m    765\u001b[0m \u001b[1;33m\u001b[0m\u001b[0m\n\u001b[0;32m    766\u001b[0m     \u001b[1;32mdef\u001b[0m \u001b[0mclose\u001b[0m\u001b[1;33m(\u001b[0m\u001b[0mself\u001b[0m\u001b[1;33m)\u001b[0m\u001b[1;33m:\u001b[0m\u001b[1;33m\u001b[0m\u001b[0m\n",
      "\u001b[1;32m~\\AppData\\Local\\Continuum\\anaconda3\\lib\\site-packages\\pandas\\io\\parsers.py\u001b[0m in \u001b[0;36m_make_engine\u001b[1;34m(self, engine)\u001b[0m\n\u001b[0;32m    983\u001b[0m     \u001b[1;32mdef\u001b[0m \u001b[0m_make_engine\u001b[0m\u001b[1;33m(\u001b[0m\u001b[0mself\u001b[0m\u001b[1;33m,\u001b[0m \u001b[0mengine\u001b[0m\u001b[1;33m=\u001b[0m\u001b[1;34m'c'\u001b[0m\u001b[1;33m)\u001b[0m\u001b[1;33m:\u001b[0m\u001b[1;33m\u001b[0m\u001b[0m\n\u001b[0;32m    984\u001b[0m         \u001b[1;32mif\u001b[0m \u001b[0mengine\u001b[0m \u001b[1;33m==\u001b[0m \u001b[1;34m'c'\u001b[0m\u001b[1;33m:\u001b[0m\u001b[1;33m\u001b[0m\u001b[0m\n\u001b[1;32m--> 985\u001b[1;33m             \u001b[0mself\u001b[0m\u001b[1;33m.\u001b[0m\u001b[0m_engine\u001b[0m \u001b[1;33m=\u001b[0m \u001b[0mCParserWrapper\u001b[0m\u001b[1;33m(\u001b[0m\u001b[0mself\u001b[0m\u001b[1;33m.\u001b[0m\u001b[0mf\u001b[0m\u001b[1;33m,\u001b[0m \u001b[1;33m**\u001b[0m\u001b[0mself\u001b[0m\u001b[1;33m.\u001b[0m\u001b[0moptions\u001b[0m\u001b[1;33m)\u001b[0m\u001b[1;33m\u001b[0m\u001b[0m\n\u001b[0m\u001b[0;32m    986\u001b[0m         \u001b[1;32melse\u001b[0m\u001b[1;33m:\u001b[0m\u001b[1;33m\u001b[0m\u001b[0m\n\u001b[0;32m    987\u001b[0m             \u001b[1;32mif\u001b[0m \u001b[0mengine\u001b[0m \u001b[1;33m==\u001b[0m \u001b[1;34m'python'\u001b[0m\u001b[1;33m:\u001b[0m\u001b[1;33m\u001b[0m\u001b[0m\n",
      "\u001b[1;32m~\\AppData\\Local\\Continuum\\anaconda3\\lib\\site-packages\\pandas\\io\\parsers.py\u001b[0m in \u001b[0;36m__init__\u001b[1;34m(self, src, **kwds)\u001b[0m\n\u001b[0;32m   1603\u001b[0m         \u001b[0mkwds\u001b[0m\u001b[1;33m[\u001b[0m\u001b[1;34m'allow_leading_cols'\u001b[0m\u001b[1;33m]\u001b[0m \u001b[1;33m=\u001b[0m \u001b[0mself\u001b[0m\u001b[1;33m.\u001b[0m\u001b[0mindex_col\u001b[0m \u001b[1;32mis\u001b[0m \u001b[1;32mnot\u001b[0m \u001b[1;32mFalse\u001b[0m\u001b[1;33m\u001b[0m\u001b[0m\n\u001b[0;32m   1604\u001b[0m \u001b[1;33m\u001b[0m\u001b[0m\n\u001b[1;32m-> 1605\u001b[1;33m         \u001b[0mself\u001b[0m\u001b[1;33m.\u001b[0m\u001b[0m_reader\u001b[0m \u001b[1;33m=\u001b[0m \u001b[0mparsers\u001b[0m\u001b[1;33m.\u001b[0m\u001b[0mTextReader\u001b[0m\u001b[1;33m(\u001b[0m\u001b[0msrc\u001b[0m\u001b[1;33m,\u001b[0m \u001b[1;33m**\u001b[0m\u001b[0mkwds\u001b[0m\u001b[1;33m)\u001b[0m\u001b[1;33m\u001b[0m\u001b[0m\n\u001b[0m\u001b[0;32m   1606\u001b[0m \u001b[1;33m\u001b[0m\u001b[0m\n\u001b[0;32m   1607\u001b[0m         \u001b[1;31m# XXX\u001b[0m\u001b[1;33m\u001b[0m\u001b[1;33m\u001b[0m\u001b[0m\n",
      "\u001b[1;32mpandas/_libs/parsers.pyx\u001b[0m in \u001b[0;36mpandas._libs.parsers.TextReader.__cinit__ (pandas\\_libs\\parsers.c:4209)\u001b[1;34m()\u001b[0m\n",
      "\u001b[1;32mpandas/_libs/parsers.pyx\u001b[0m in \u001b[0;36mpandas._libs.parsers.TextReader._setup_parser_source (pandas\\_libs\\parsers.c:8873)\u001b[1;34m()\u001b[0m\n",
      "\u001b[1;31mFileNotFoundError\u001b[0m: File b'internet_data.csv' does not exist"
     ]
    }
   ],
   "source": [
    "# Importing all datasets\n",
    "churn_data = pd.read_csv(\"churn_data.csv\")\n",
    "customer_data = pd.read_csv(\"customer_data.csv\")\n",
    "internet_data = pd.read_csv(\"internet_data.csv\")"
   ]
  },
  {
   "cell_type": "code",
   "execution_count": null,
   "metadata": {},
   "outputs": [],
   "source": [
    "print(len(churn_data))\n",
    "print(len(customer_data))\n",
    "print(len(internet_data))"
   ]
  },
  {
   "cell_type": "code",
   "execution_count": null,
   "metadata": {
    "collapsed": true
   },
   "outputs": [],
   "source": [
    "#Merging on 'customerID'\n",
    "df_1 = pd.merge(churn_data, customer_data, how='inner', on='customerID')"
   ]
  },
  {
   "cell_type": "code",
   "execution_count": null,
   "metadata": {
    "collapsed": true
   },
   "outputs": [],
   "source": [
    "#Final dataframe with all predictor variables\n",
    "telecom = pd.merge(df_1, internet_data, how='inner', on='customerID')"
   ]
  },
  {
   "cell_type": "markdown",
   "metadata": {},
   "source": [
    "### Let's understand the structure of our dataframe"
   ]
  },
  {
   "cell_type": "code",
   "execution_count": null,
   "metadata": {},
   "outputs": [],
   "source": [
    "# Let's see the head of our master dataset\n",
    "telecom.head()"
   ]
  },
  {
   "cell_type": "code",
   "execution_count": null,
   "metadata": {},
   "outputs": [],
   "source": [
    "telecom.describe()"
   ]
  },
  {
   "cell_type": "markdown",
   "metadata": {},
   "source": [
    "### Data Preparation"
   ]
  },
  {
   "cell_type": "code",
   "execution_count": null,
   "metadata": {
    "collapsed": true
   },
   "outputs": [],
   "source": [
    "# Converting Yes to 1 and No to 0\n",
    "telecom['PhoneService'] = telecom['PhoneService'].map({'Yes': 1, 'No': 0})\n",
    "telecom['PaperlessBilling'] = telecom['PaperlessBilling'].map({'Yes': 1, 'No': 0})\n",
    "telecom['Churn'] = telecom['Churn'].map({'Yes': 1, 'No': 0})\n",
    "telecom['Partner'] = telecom['Partner'].map({'Yes': 1, 'No': 0})\n",
    "telecom['Dependents'] = telecom['Dependents'].map({'Yes': 1, 'No': 0})"
   ]
  },
  {
   "cell_type": "markdown",
   "metadata": {},
   "source": [
    "### Dummy Variable Creation"
   ]
  },
  {
   "cell_type": "code",
   "execution_count": null,
   "metadata": {
    "collapsed": true
   },
   "outputs": [],
   "source": [
    "# Creating a dummy variable for the variable 'Contract' and dropping the first one.\n",
    "cont = pd.get_dummies(telecom['Contract'],prefix='Contract',drop_first=True)\n",
    "#Adding the results to the master dataframe\n",
    "telecom = pd.concat([telecom,cont],axis=1)\n",
    "\n",
    "# Creating a dummy variable for the variable 'PaymentMethod' and dropping the first one.\n",
    "pm = pd.get_dummies(telecom['PaymentMethod'],prefix='PaymentMethod',drop_first=True)\n",
    "#Adding the results to the master dataframe\n",
    "telecom = pd.concat([telecom,pm],axis=1)\n",
    "\n",
    "# Creating a dummy variable for the variable 'gender' and dropping the first one.\n",
    "gen = pd.get_dummies(telecom['gender'],prefix='gender',drop_first=True)\n",
    "#Adding the results to the master dataframe\n",
    "telecom = pd.concat([telecom,gen],axis=1)\n",
    "\n",
    "# Creating a dummy variable for the variable 'MultipleLines' and dropping the first one.\n",
    "ml = pd.get_dummies(telecom['MultipleLines'],prefix='MultipleLines')\n",
    "#  dropping MultipleLines_No phone service column\n",
    "ml1 = ml.drop(['MultipleLines_No phone service'],1)\n",
    "#Adding the results to the master dataframe\n",
    "telecom = pd.concat([telecom,ml1],axis=1)\n",
    "\n",
    "# Creating a dummy variable for the variable 'InternetService' and dropping the first one.\n",
    "iser = pd.get_dummies(telecom['InternetService'],prefix='InternetService',drop_first=True)\n",
    "#Adding the results to the master dataframe\n",
    "telecom = pd.concat([telecom,iser],axis=1)\n",
    "\n",
    "# Creating a dummy variable for the variable 'OnlineSecurity'.\n",
    "os = pd.get_dummies(telecom['OnlineSecurity'],prefix='OnlineSecurity')\n",
    "os1= os.drop(['OnlineSecurity_No internet service'],1)\n",
    "#Adding the results to the master dataframe\n",
    "telecom = pd.concat([telecom,os1],axis=1)\n",
    "\n",
    "# Creating a dummy variable for the variable 'OnlineBackup'.\n",
    "ob =pd.get_dummies(telecom['OnlineBackup'],prefix='OnlineBackup')\n",
    "ob1 =ob.drop(['OnlineBackup_No internet service'],1)\n",
    "#Adding the results to the master dataframe\n",
    "telecom = pd.concat([telecom,ob1],axis=1)\n",
    "\n",
    "# Creating a dummy variable for the variable 'DeviceProtection'. \n",
    "dp =pd.get_dummies(telecom['DeviceProtection'],prefix='DeviceProtection')\n",
    "dp1 = dp.drop(['DeviceProtection_No internet service'],1)\n",
    "#Adding the results to the master dataframe\n",
    "telecom = pd.concat([telecom,dp1],axis=1)\n",
    "\n",
    "# Creating a dummy variable for the variable 'TechSupport'. \n",
    "ts =pd.get_dummies(telecom['TechSupport'],prefix='TechSupport')\n",
    "ts1 = ts.drop(['TechSupport_No internet service'],1)\n",
    "#Adding the results to the master dataframe\n",
    "telecom = pd.concat([telecom,ts1],axis=1)\n",
    "\n",
    "# Creating a dummy variable for the variable 'StreamingTV'.\n",
    "st =pd.get_dummies(telecom['StreamingTV'],prefix='StreamingTV')\n",
    "st1 = st.drop(['StreamingTV_No internet service'],1)\n",
    "#Adding the results to the master dataframe\n",
    "telecom = pd.concat([telecom,st1],axis=1)\n",
    "\n",
    "# Creating a dummy variable for the variable 'StreamingMovies'. \n",
    "sm =pd.get_dummies(telecom['StreamingMovies'],prefix='StreamingMovies')\n",
    "sm1 = sm.drop(['StreamingMovies_No internet service'],1)\n",
    "#Adding the results to the master dataframe\n",
    "telecom = pd.concat([telecom,sm1],axis=1)"
   ]
  },
  {
   "cell_type": "markdown",
   "metadata": {},
   "source": [
    "### Dropping the repeated variables"
   ]
  },
  {
   "cell_type": "code",
   "execution_count": null,
   "metadata": {
    "collapsed": true
   },
   "outputs": [],
   "source": [
    "# We have created dummies for the below variables, so we can drop them\n",
    "telecom = telecom.drop(['Contract','PaymentMethod','gender','MultipleLines','InternetService', 'OnlineSecurity', 'OnlineBackup', 'DeviceProtection',\n",
    "       'TechSupport', 'StreamingTV', 'StreamingMovies'], 1)"
   ]
  },
  {
   "cell_type": "code",
   "execution_count": null,
   "metadata": {},
   "outputs": [],
   "source": [
    "#The varaible was imported as a string we need to convert it to float\n",
    "telecom['TotalCharges'] =telecom['TotalCharges'].convert_objects(convert_numeric=True)\n",
    "#telecom['tenure'] = telecom['tenure'].astype(int).astype(float)"
   ]
  },
  {
   "cell_type": "code",
   "execution_count": null,
   "metadata": {},
   "outputs": [],
   "source": [
    "telecom.info()"
   ]
  },
  {
   "cell_type": "markdown",
   "metadata": {},
   "source": [
    "Now we can see we have all variables as integer."
   ]
  },
  {
   "cell_type": "markdown",
   "metadata": {
    "collapsed": true
   },
   "source": [
    "### Checking for Outliers"
   ]
  },
  {
   "cell_type": "code",
   "execution_count": null,
   "metadata": {
    "collapsed": true
   },
   "outputs": [],
   "source": [
    "# Checking for outliers in the continuous variables\n",
    "num_telecom = telecom[['tenure','MonthlyCharges','SeniorCitizen','TotalCharges']]"
   ]
  },
  {
   "cell_type": "code",
   "execution_count": null,
   "metadata": {},
   "outputs": [],
   "source": [
    "# Checking outliers at 25%,50%,75%,90%,95% and 99%\n",
    "num_telecom.describe(percentiles=[.25,.5,.75,.90,.95,.99])"
   ]
  },
  {
   "cell_type": "markdown",
   "metadata": {},
   "source": [
    "From the distribution shown above, you can see that there no outliner in your data. The numbers are gradually increasing."
   ]
  },
  {
   "cell_type": "markdown",
   "metadata": {},
   "source": [
    "### Checking for Missing Values and Inputing Them"
   ]
  },
  {
   "cell_type": "markdown",
   "metadata": {},
   "source": [
    "It means that 11/7043 = 0.001561834 i.e 0.1%, best is to remove these observations from the analysis"
   ]
  },
  {
   "cell_type": "code",
   "execution_count": null,
   "metadata": {},
   "outputs": [],
   "source": [
    "# Checking the percentage of missing values\n",
    "round(100*(telecom.isnull().sum()/len(telecom.index)), 2)"
   ]
  },
  {
   "cell_type": "code",
   "execution_count": null,
   "metadata": {
    "collapsed": true
   },
   "outputs": [],
   "source": [
    "# Removing NaN TotalCharges rows\n",
    "telecom = telecom[~np.isnan(telecom['TotalCharges'])]"
   ]
  },
  {
   "cell_type": "code",
   "execution_count": null,
   "metadata": {},
   "outputs": [],
   "source": [
    "# Checking percentage of missing values after removing the missing values\n",
    "round(100*(telecom.isnull().sum()/len(telecom.index)), 2)"
   ]
  },
  {
   "cell_type": "markdown",
   "metadata": {},
   "source": [
    "Now we don't have any missing values"
   ]
  },
  {
   "cell_type": "markdown",
   "metadata": {},
   "source": [
    "### Feature Standardisation"
   ]
  },
  {
   "cell_type": "code",
   "execution_count": null,
   "metadata": {
    "collapsed": true
   },
   "outputs": [],
   "source": [
    "# Normalising continuous features\n",
    "df = telecom[['tenure','MonthlyCharges','TotalCharges']]"
   ]
  },
  {
   "cell_type": "code",
   "execution_count": null,
   "metadata": {},
   "outputs": [],
   "source": [
    "normalized_df=(df-df.mean())/df.std()\n",
    "telecom = telecom.drop(['tenure','MonthlyCharges','TotalCharges'], 1)\n",
    "telecom = pd.concat([telecom,normalized_df],axis=1)\n",
    "telecom.head()"
   ]
  },
  {
   "cell_type": "markdown",
   "metadata": {},
   "source": [
    "### Checking the Churn Rate"
   ]
  },
  {
   "cell_type": "code",
   "execution_count": null,
   "metadata": {},
   "outputs": [],
   "source": [
    "churn = (sum(telecom['Churn'])/len(telecom['Churn'].index))*100\n",
    "churn"
   ]
  },
  {
   "cell_type": "markdown",
   "metadata": {},
   "source": [
    "We have almost 27% churn rate"
   ]
  },
  {
   "cell_type": "markdown",
   "metadata": {},
   "source": [
    "## Model Building\n",
    "Let's start by splitting our data into a training set and a test set."
   ]
  },
  {
   "cell_type": "markdown",
   "metadata": {},
   "source": [
    "### Splitting Data into Training and Test Sets"
   ]
  },
  {
   "cell_type": "code",
   "execution_count": null,
   "metadata": {},
   "outputs": [],
   "source": [
    "from sklearn.model_selection import train_test_split\n",
    "\n",
    "# Putting feature variable to X\n",
    "X = telecom.drop(['Churn','customerID'],axis=1)\n",
    "\n",
    "# Putting response variable to y\n",
    "y = telecom['Churn']\n",
    "\n",
    "y.head()"
   ]
  },
  {
   "cell_type": "code",
   "execution_count": null,
   "metadata": {
    "collapsed": true
   },
   "outputs": [],
   "source": [
    "# Splitting the data into train and test\n",
    "X_train, X_test, y_train, y_test = train_test_split(X,y, train_size=0.7,test_size=0.3,random_state=100)"
   ]
  },
  {
   "cell_type": "markdown",
   "metadata": {},
   "source": [
    "### Running Your First Training Model"
   ]
  },
  {
   "cell_type": "code",
   "execution_count": null,
   "metadata": {
<<<<<<< HEAD
    "collapsed": true,
=======
<<<<<<< HEAD
    "collapsed": true,
=======
>>>>>>> 0babd9b7f7856a5c3329236ca5ef143ccacff2db
>>>>>>> 7f40dee0d5012f99e6f249fdeedd9ca1f44783f7
    "scrolled": true
   },
   "outputs": [],
   "source": [
    "import statsmodels.api as sm"
   ]
  },
  {
   "cell_type": "code",
   "execution_count": null,
   "metadata": {
    "scrolled": false
   },
   "outputs": [],
   "source": [
    "# Logistic regression model\n",
    "logm1 = sm.GLM(y_train,(sm.add_constant(X_train)), family = sm.families.Binomial())\n",
    "logm1.fit().summary()"
   ]
  },
  {
   "cell_type": "markdown",
   "metadata": {},
   "source": [
    "### Correlation Matrix"
   ]
  },
  {
   "cell_type": "code",
   "execution_count": null,
   "metadata": {
    "collapsed": true
   },
   "outputs": [],
   "source": [
    "# Importing matplotlib and seaborn\n",
    "import matplotlib.pyplot as plt\n",
    "import seaborn as sns\n",
    "%matplotlib inline"
   ]
  },
  {
   "cell_type": "code",
   "execution_count": null,
   "metadata": {},
   "outputs": [],
   "source": [
    "# Let's see the correlation matrix \n",
    "plt.figure(figsize = (20,10))        # Size of the figure\n",
    "sns.heatmap(telecom.corr(),annot = True)"
   ]
  },
  {
   "cell_type": "markdown",
   "metadata": {},
   "source": [
    "### Dropping highly correlated variables."
   ]
  },
  {
   "cell_type": "code",
   "execution_count": null,
   "metadata": {
    "collapsed": true
   },
   "outputs": [],
   "source": [
    "X_test2 = X_test.drop(['MultipleLines_No','OnlineSecurity_No','OnlineBackup_No','DeviceProtection_No','TechSupport_No','StreamingTV_No','StreamingMovies_No'],1)\n",
    "X_train2 = X_train.drop(['MultipleLines_No','OnlineSecurity_No','OnlineBackup_No','DeviceProtection_No','TechSupport_No','StreamingTV_No','StreamingMovies_No'],1)"
   ]
  },
  {
   "cell_type": "markdown",
   "metadata": {},
   "source": [
    "### Checking the Correlation Matrix"
   ]
  },
  {
   "cell_type": "markdown",
   "metadata": {},
   "source": [
    "After dropping highly correlated variables now let's check the correlation matrix again."
   ]
  },
  {
   "cell_type": "code",
   "execution_count": null,
   "metadata": {},
   "outputs": [],
   "source": [
    "plt.figure(figsize = (20,10))\n",
    "sns.heatmap(X_train2.corr(),annot = True)"
   ]
  },
  {
   "cell_type": "markdown",
   "metadata": {},
   "source": [
    "### Re-Running the Model"
   ]
  },
  {
   "cell_type": "markdown",
   "metadata": {},
   "source": [
    "Now let's run our model again after dropping highly correlated variables"
   ]
  },
  {
   "cell_type": "code",
   "execution_count": null,
   "metadata": {},
   "outputs": [],
   "source": [
    "logm2 = sm.GLM(y_train,(sm.add_constant(X_train2)), family = sm.families.Binomial())\n",
    "logm2.fit().summary()"
   ]
  },
  {
   "cell_type": "markdown",
   "metadata": {},
   "source": [
    "### Feature Selection Using RFE"
   ]
  },
  {
   "cell_type": "code",
   "execution_count": null,
   "metadata": {},
   "outputs": [],
   "source": [
    "from sklearn.linear_model import LogisticRegression\n",
    "logreg = LogisticRegression()\n",
    "from sklearn.feature_selection import RFE\n",
    "rfe = RFE(logreg, 13)             # running RFE with 13 variables as output\n",
    "rfe = rfe.fit(X,y)\n",
    "print(rfe.support_)           # Printing the boolean results\n",
    "print(rfe.ranking_)           # Printing the ranking"
   ]
  },
  {
   "cell_type": "code",
   "execution_count": null,
   "metadata": {
    "collapsed": true
   },
   "outputs": [],
   "source": [
    "# Variables selected by RFE \n",
    "col = ['PhoneService', 'PaperlessBilling', 'Contract_One year', 'Contract_Two year',\n",
    "       'PaymentMethod_Electronic check','MultipleLines_No','InternetService_Fiber optic', 'InternetService_No',\n",
    "       'OnlineSecurity_Yes','TechSupport_Yes','StreamingMovies_No','tenure','TotalCharges']"
   ]
  },
  {
   "cell_type": "code",
   "execution_count": null,
   "metadata": {},
   "outputs": [],
   "source": [
    "# Let's run the model using the selected variables\n",
    "from sklearn.linear_model import LogisticRegression\n",
    "from sklearn import metrics\n",
    "logsk = LogisticRegression(C=1e9)\n",
    "#logsk.fit(X_train[col], y_train)\n",
    "logsk.fit(X_train, y_train)"
   ]
  },
  {
   "cell_type": "code",
   "execution_count": null,
   "metadata": {},
   "outputs": [],
   "source": [
    "#Comparing the model with StatsModels\n",
    "#logm4 = sm.GLM(y_train,(sm.add_constant(X_train[col])), family = sm.families.Binomial())\n",
    "logm4 = sm.GLM(y_train,(sm.add_constant(X_train)), family = sm.families.Binomial())\n",
    "modres = logm4.fit()\n",
    "logm4.fit().summary()"
   ]
  },
  {
   "cell_type": "code",
   "execution_count": null,
   "metadata": {},
   "outputs": [],
   "source": [
    "X_test[col].shape\n",
    "#res = modres.predict(X_test[col])"
   ]
  },
  {
   "cell_type": "markdown",
   "metadata": {},
   "source": [
    "### Making Predictions"
   ]
  },
  {
   "cell_type": "code",
   "execution_count": null,
   "metadata": {},
   "outputs": [],
   "source": [
    "# Predicted probabilities\n",
    "y_pred = logsk.predict_proba(X_test)\n",
    "# Converting y_pred to a dataframe which is an array\n",
    "y_pred_df = pd.DataFrame(y_pred)\n",
    "# Converting to column dataframe\n",
    "y_pred_1 = y_pred_df.iloc[:,[1]]\n",
    "# Let's see the head\n",
    "y_pred_1.head()"
   ]
  },
  {
   "cell_type": "code",
   "execution_count": null,
   "metadata": {},
   "outputs": [],
   "source": [
    "# Converting y_test to dataframe\n",
    "y_test_df = pd.DataFrame(y_test)\n",
    "y_test_df.head()"
   ]
  },
  {
   "cell_type": "code",
   "execution_count": null,
   "metadata": {},
   "outputs": [],
   "source": [
    "# Putting CustID to index\n",
    "y_test_df['CustID'] = y_test_df.index\n",
    "# Removing index for both dataframes to append them side by side \n",
    "y_pred_1.reset_index(drop=True, inplace=True)\n",
    "y_test_df.reset_index(drop=True, inplace=True)\n",
    "# Appending y_test_df and y_pred_1\n",
    "y_pred_final = pd.concat([y_test_df,y_pred_1],axis=1)\n",
    "# Renaming the column \n",
    "y_pred_final= y_pred_final.rename(columns={ 1 : 'Churn_Prob'})\n",
    "# Rearranging the columns\n",
    "y_pred_final = y_pred_final.reindex_axis(['CustID','Churn','Churn_Prob'], axis=1)\n",
    "# Let's see the head of y_pred_final\n",
    "y_pred_final.head()"
   ]
  },
  {
   "cell_type": "code",
   "execution_count": null,
   "metadata": {},
   "outputs": [],
   "source": [
    "# Creating new column 'predicted' with 1 if Churn_Prob>0.5 else 0\n",
    "y_pred_final['predicted'] = y_pred_final.Churn_Prob.map( lambda x: 1 if x > 0.5 else 0)\n",
    "# Let's see the head\n",
    "y_pred_final.head()"
   ]
  },
  {
   "cell_type": "markdown",
   "metadata": {},
   "source": [
    "### Model Evaluation"
   ]
  },
  {
   "cell_type": "code",
   "execution_count": null,
   "metadata": {
    "collapsed": true
   },
   "outputs": [],
   "source": [
    "from sklearn import metrics"
   ]
  },
  {
   "cell_type": "code",
   "execution_count": null,
   "metadata": {},
   "outputs": [],
   "source": [
    "# Confusion matrix \n",
    "confusion = metrics.confusion_matrix( y_pred_final.Churn, y_pred_final.predicted )\n",
    "confusion"
   ]
  },
  {
   "cell_type": "code",
   "execution_count": null,
   "metadata": {
    "collapsed": true
   },
   "outputs": [],
   "source": [
    "# Predicted     Churn  not_churn  __all__\n",
    "# Actual\n",
    "# Churn            1359   169     1528\n",
    "# not_churn         256   326      582\n",
    "# __all__          1615   751     2110"
   ]
  },
  {
   "cell_type": "code",
   "execution_count": null,
   "metadata": {},
   "outputs": [],
   "source": [
    "#Let's check the overall accuracy.\n",
    "metrics.accuracy_score(y_pred_final.Churn, y_pred_final.predicted)"
   ]
  },
  {
   "cell_type": "code",
   "execution_count": null,
   "metadata": {
    "collapsed": true
   },
   "outputs": [],
   "source": [
    "def draw_roc( actual, probs ):\n",
    "    fpr, tpr, thresholds = metrics.roc_curve( actual, probs,\n",
    "                                              drop_intermediate = False )\n",
    "    auc_score = metrics.roc_auc_score( actual, probs )\n",
    "    plt.figure(figsize=(6, 6))\n",
    "    plt.plot( fpr, tpr, label='ROC curve (area = %0.2f)' % auc_score )\n",
    "    plt.plot([0, 1], [0, 1], 'k--')\n",
    "    plt.xlim([0.0, 1.0])\n",
    "    plt.ylim([0.0, 1.05])\n",
    "    plt.xlabel('False Positive Rate or [1 - True Negative Rate]')\n",
    "    plt.ylabel('True Positive Rate')\n",
    "    plt.title('Receiver operating characteristic example')\n",
    "    plt.legend(loc=\"lower right\")\n",
    "    plt.show()\n",
    "\n",
    "    return fpr, tpr, thresholds"
   ]
  },
  {
   "cell_type": "code",
   "execution_count": null,
   "metadata": {},
   "outputs": [],
   "source": [
    "draw_roc(y_pred_final.Churn, y_pred_final.predicted)"
   ]
  },
  {
   "cell_type": "code",
   "execution_count": null,
   "metadata": {},
   "outputs": [],
   "source": [
    "#draw_roc(y_pred_final.Churn, y_pred_final.predicted)\n",
    "\"{:2.2f}\".format(metrics.roc_auc_score(y_pred_final.Churn, y_pred_final.Churn_Prob))"
   ]
  },
  {
   "cell_type": "markdown",
   "metadata": {},
   "source": [
    "#### We see an overall AUC score of 0.83 looks like we did a decent job.\n",
    "- But we did spend a lot of effort on the features and their selection.\n",
    "- Can PCA help reduce our effort?"
   ]
  },
  {
   "cell_type": "markdown",
   "metadata": {},
   "source": [
    "### PCA on the data"
   ]
  },
  {
   "cell_type": "markdown",
   "metadata": {},
   "source": [
    "#### Note - \n",
    "- While computng the principal components, we must not include the entire dataset. Model building is all about doing well on the data we haven't seen yet!\n",
    "- So we'll calculate the PCs using the train data, and apply them later on the test data"
   ]
  },
  {
   "cell_type": "code",
   "execution_count": null,
   "metadata": {},
   "outputs": [],
   "source": [
    "X_train.shape\n",
    "# We have 30 variables after creating our dummy variables for our categories"
   ]
  },
  {
   "cell_type": "code",
   "execution_count": null,
   "metadata": {
    "collapsed": true
   },
   "outputs": [],
   "source": [
    "#Improting the PCA module\n",
    "from sklearn.decomposition import PCA\n",
    "pca = PCA(svd_solver='randomized', random_state=42)"
   ]
  },
  {
   "cell_type": "code",
   "execution_count": null,
   "metadata": {},
   "outputs": [],
   "source": [
    "#Doing the PCA on the train data\n",
    "pca.fit(X_train)"
   ]
  },
  {
   "cell_type": "markdown",
   "metadata": {},
   "source": [
    "#### Let's plot the principal components and try to make sense of them\n",
    "- We'll plot original features on the first 2 principal components as axes"
   ]
  },
  {
   "cell_type": "code",
   "execution_count": null,
   "metadata": {},
   "outputs": [],
   "source": [
    "pca.components_"
   ]
  },
  {
   "cell_type": "code",
   "execution_count": null,
   "metadata": {},
   "outputs": [],
   "source": [
    "colnames = list(X_train.columns)\n",
    "pcs_df = pd.DataFrame({'PC1':pca.components_[0],'PC2':pca.components_[1], 'Feature':colnames})\n",
    "pcs_df.head()"
   ]
  },
  {
   "cell_type": "code",
   "execution_count": null,
   "metadata": {},
   "outputs": [],
   "source": [
    "%matplotlib inline\n",
    "fig = plt.figure(figsize = (8,8))\n",
    "plt.scatter(pcs_df.PC1, pcs_df.PC2)\n",
    "plt.xlabel('Principal Component 1')\n",
    "plt.ylabel('Principal Component 2')\n",
    "for i, txt in enumerate(pcs_df.Feature):\n",
    "    plt.annotate(txt, (pcs_df.PC1[i],pcs_df.PC2[i]))\n",
    "plt.tight_layout()\n",
    "plt.show()"
   ]
  },
  {
   "cell_type": "markdown",
   "metadata": {},
   "source": [
    "We see that the fist component is in the direction where the 'charges' variables are heavy\n",
    " - These 3 components also have the highest of the loadings"
   ]
  },
  {
   "cell_type": "markdown",
   "metadata": {},
   "source": [
    "#### Looking at the screeplot to assess the number of needed principal components"
   ]
  },
  {
   "cell_type": "code",
   "execution_count": null,
   "metadata": {},
   "outputs": [],
   "source": [
    "pca.explained_variance_ratio_"
   ]
  },
  {
   "cell_type": "code",
   "execution_count": null,
   "metadata": {},
   "outputs": [],
   "source": [
    "#Making the screeplot - plotting the cumulative variance against the number of components\n",
    "%matplotlib inline\n",
    "fig = plt.figure(figsize = (12,8))\n",
    "plt.plot(np.cumsum(pca.explained_variance_ratio_))\n",
    "plt.xlabel('number of components')\n",
    "plt.ylabel('cumulative explained variance')\n",
    "plt.show()"
   ]
  },
  {
   "cell_type": "markdown",
   "metadata": {},
   "source": [
    "#### Looks like 16 components are enough to describe 95% of the variance in the dataset\n",
    "- We'll choose 16 components for our modeling"
   ]
  },
  {
   "cell_type": "code",
   "execution_count": null,
   "metadata": {
    "collapsed": true
   },
   "outputs": [],
   "source": [
    "#Using incremental PCA for efficiency - saves a lot of time on larger datasets\n",
    "from sklearn.decomposition import IncrementalPCA\n",
    "pca_final = IncrementalPCA(n_components=16)"
   ]
  },
  {
   "cell_type": "markdown",
   "metadata": {},
   "source": [
    "#### Basis transformation - getting the data onto our PCs"
   ]
  },
  {
   "cell_type": "code",
   "execution_count": null,
   "metadata": {
    "scrolled": true
   },
   "outputs": [],
   "source": [
    "df_train_pca = pca_final.fit_transform(X_train)\n",
    "df_train_pca.shape"
   ]
  },
  {
   "cell_type": "markdown",
   "metadata": {},
   "source": [
    "#### Creating correlation matrix for the principal components - we expect little to no correlation"
   ]
  },
  {
   "cell_type": "code",
   "execution_count": null,
   "metadata": {
    "collapsed": true
   },
   "outputs": [],
   "source": [
    "#creating correlation matrix for the principal components\n",
    "corrmat = np.corrcoef(df_train_pca.transpose())"
   ]
  },
  {
   "cell_type": "code",
   "execution_count": null,
   "metadata": {
    "scrolled": false
   },
   "outputs": [],
   "source": [
    "#plotting the correlation matrix\n",
    "%matplotlib inline\n",
    "plt.figure(figsize = (20,10))\n",
    "sns.heatmap(corrmat,annot = True)"
   ]
  },
  {
   "cell_type": "code",
   "execution_count": null,
   "metadata": {},
   "outputs": [],
   "source": [
    "# 1s -> 0s in diagonals\n",
    "corrmat_nodiag = corrmat - np.diagflat(corrmat.diagonal())\n",
    "print(\"max corr:\",corrmat_nodiag.max(), \", min corr: \", corrmat_nodiag.min(),)\n",
    "# we see that correlations are indeed very close to 0"
   ]
  },
  {
   "cell_type": "markdown",
   "metadata": {},
   "source": [
    "#### Indeed - there is no correlation between any two components! Good job, PCA!\n",
    "- We effectively have removed multicollinearity from our situation, and our models will be much more stable"
   ]
  },
  {
   "cell_type": "code",
   "execution_count": null,
   "metadata": {},
   "outputs": [],
   "source": [
    "#Applying selected components to the test data - 16 components\n",
    "df_test_pca = pca_final.transform(X_test)\n",
    "df_test_pca.shape"
   ]
  },
  {
   "cell_type": "markdown",
   "metadata": {},
   "source": [
    "#### Applying a logistic regression on our Principal Components\n",
    "- We expect to get similar model performance with significantly lower features\n",
    "- If we can do so, we would have done effective dimensionality reduction without losing any import information"
   ]
  },
  {
   "cell_type": "code",
   "execution_count": null,
   "metadata": {
    "collapsed": true
   },
   "outputs": [],
   "source": [
    "#Training the model on the train data\n",
    "from sklearn.linear_model import LogisticRegression\n",
    "from sklearn import metrics\n",
    "\n",
    "learner_pca = LogisticRegression()\n",
    "model_pca = learner_pca.fit(df_train_pca,y_train)"
   ]
  },
  {
   "cell_type": "markdown",
   "metadata": {},
   "source": [
    "**Note**\n",
    "\n",
    "Note that we are fitting the original variable y with the transformed variables (principal components). This is not a problem becuase the transformation done in PCA is *linear*, which implies that you've only changed the way the new x variables are represented, though the nature of relationship between X and Y is still linear. "
   ]
  },
  {
   "cell_type": "code",
   "execution_count": null,
   "metadata": {},
   "outputs": [],
   "source": [
    "#Making prediction on the test data\n",
    "pred_probs_test = model_pca.predict_proba(df_test_pca)[:,1]\n",
    "\"{:2.2}\".format(metrics.roc_auc_score(y_test, pred_probs_test))"
   ]
  },
  {
   "cell_type": "markdown",
   "metadata": {},
   "source": [
    "#### Impressive! The same result, without all the hard work on feature selection!"
   ]
  },
  {
   "cell_type": "markdown",
   "metadata": {},
   "source": [
    "Why not take it a step further and get a little more 'unsupervised' in our approach?\n",
    "This time, we'll let PCA select the number of components basen on a variance cutoff we provide"
   ]
  },
  {
   "cell_type": "code",
   "execution_count": null,
   "metadata": {
    "collapsed": true,
    "scrolled": true
   },
   "outputs": [],
   "source": [
    "pca_again = PCA(0.90)"
   ]
  },
  {
   "cell_type": "code",
   "execution_count": null,
   "metadata": {},
   "outputs": [],
   "source": [
    "df_train_pca2 = pca_again.fit_transform(X_train)\n",
    "df_train_pca2.shape\n",
    "# we see that PCA selected 14 components"
   ]
  },
  {
   "cell_type": "code",
   "execution_count": null,
   "metadata": {
    "collapsed": true
   },
   "outputs": [],
   "source": [
    "#training the regression model\n",
    "learner_pca2 = LogisticRegression()\n",
    "model_pca2 = learner_pca2.fit(df_train_pca2,y_train)"
   ]
  },
  {
   "cell_type": "code",
   "execution_count": null,
   "metadata": {},
   "outputs": [],
   "source": [
    "df_test_pca2 = pca_again.transform(X_test)\n",
    "df_test_pca2.shape"
   ]
  },
  {
   "cell_type": "code",
   "execution_count": null,
   "metadata": {},
   "outputs": [],
   "source": [
    "#Making prediction on the test data\n",
    "pred_probs_test2 = model_pca2.predict_proba(df_test_pca2)[:,1]\n",
    "\"{:2.2f}\".format(metrics.roc_auc_score(y_test, pred_probs_test2))"
   ]
  },
  {
   "cell_type": "markdown",
   "metadata": {},
   "source": [
    "#### So there it is - a very similar result, without all the hassles. We have not only achieved dimensionality reduction, but also saved a lot of effort on feature selection."
   ]
  },
  {
   "cell_type": "markdown",
   "metadata": {},
   "source": [
    "#### Before closing, let's also visualize the data to see if we can spot any patterns"
   ]
  },
  {
   "cell_type": "code",
   "execution_count": 210,
   "metadata": {},
   "outputs": [
    {
     "data": {
      "image/png": "iVBORw0KGgoAAAANSUhEUgAAAjgAAAI4CAYAAABndZP2AAAABHNCSVQICAgIfAhkiAAAAAlwSFlz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\nJjz2NNYAAAAASUVORK5CYII=\n",
      "text/plain": [
       "<matplotlib.figure.Figure at 0x29027e85d68>"
      ]
     },
     "metadata": {},
     "output_type": "display_data"
    }
   ],
   "source": [
    "%matplotlib inline\n",
    "fig = plt.figure(figsize = (8,8))\n",
    "plt.scatter(df_train_pca[:,0], df_train_pca[:,1], c = y_train.map({0:'green',1:'red'}))\n",
    "plt.xlabel('Principal Component 1')\n",
    "plt.ylabel('Principal Component 2')\n",
    "plt.tight_layout()\n",
    "plt.show()"
   ]
  },
  {
   "cell_type": "markdown",
   "metadata": {},
   "source": [
    "Looks like there is a good amount of separation in 2D, but probably not enough\n",
    "\n",
    "Let's look at it in 3D, and we expect spread to be better (dimensions of variance, remember?)"
   ]
  },
  {
   "cell_type": "code",
   "execution_count": 211,
   "metadata": {},
   "outputs": [
    {
     "data": {
      "application/javascript": [
       "/* Put everything inside the global mpl namespace */\n",
       "window.mpl = {};\n",
       "\n",
       "\n",
       "mpl.get_websocket_type = function() {\n",
       "    if (typeof(WebSocket) !== 'undefined') {\n",
       "        return WebSocket;\n",
       "    } else if (typeof(MozWebSocket) !== 'undefined') {\n",
       "        return MozWebSocket;\n",
       "    } else {\n",
       "        alert('Your browser does not have WebSocket support.' +\n",
       "              'Please try Chrome, Safari or Firefox ≥ 6. ' +\n",
       "              'Firefox 4 and 5 are also supported but you ' +\n",
       "              'have to enable WebSockets in about:config.');\n",
       "    };\n",
       "}\n",
       "\n",
       "mpl.figure = function(figure_id, websocket, ondownload, parent_element) {\n",
       "    this.id = figure_id;\n",
       "\n",
       "    this.ws = websocket;\n",
       "\n",
       "    this.supports_binary = (this.ws.binaryType != undefined);\n",
       "\n",
       "    if (!this.supports_binary) {\n",
       "        var warnings = document.getElementById(\"mpl-warnings\");\n",
       "        if (warnings) {\n",
       "            warnings.style.display = 'block';\n",
       "            warnings.textContent = (\n",
       "                \"This browser does not support binary websocket messages. \" +\n",
       "                    \"Performance may be slow.\");\n",
       "        }\n",
       "    }\n",
       "\n",
       "    this.imageObj = new Image();\n",
       "\n",
       "    this.context = undefined;\n",
       "    this.message = undefined;\n",
       "    this.canvas = undefined;\n",
       "    this.rubberband_canvas = undefined;\n",
       "    this.rubberband_context = undefined;\n",
       "    this.format_dropdown = undefined;\n",
       "\n",
       "    this.image_mode = 'full';\n",
       "\n",
       "    this.root = $('<div/>');\n",
       "    this._root_extra_style(this.root)\n",
       "    this.root.attr('style', 'display: inline-block');\n",
       "\n",
       "    $(parent_element).append(this.root);\n",
       "\n",
       "    this._init_header(this);\n",
       "    this._init_canvas(this);\n",
       "    this._init_toolbar(this);\n",
       "\n",
       "    var fig = this;\n",
       "\n",
       "    this.waiting = false;\n",
       "\n",
       "    this.ws.onopen =  function () {\n",
       "            fig.send_message(\"supports_binary\", {value: fig.supports_binary});\n",
       "            fig.send_message(\"send_image_mode\", {});\n",
       "            if (mpl.ratio != 1) {\n",
       "                fig.send_message(\"set_dpi_ratio\", {'dpi_ratio': mpl.ratio});\n",
       "            }\n",
       "            fig.send_message(\"refresh\", {});\n",
       "        }\n",
       "\n",
       "    this.imageObj.onload = function() {\n",
       "            if (fig.image_mode == 'full') {\n",
       "                // Full images could contain transparency (where diff images\n",
       "                // almost always do), so we need to clear the canvas so that\n",
       "                // there is no ghosting.\n",
       "                fig.context.clearRect(0, 0, fig.canvas.width, fig.canvas.height);\n",
       "            }\n",
       "            fig.context.drawImage(fig.imageObj, 0, 0);\n",
       "        };\n",
       "\n",
       "    this.imageObj.onunload = function() {\n",
       "        fig.ws.close();\n",
       "    }\n",
       "\n",
       "    this.ws.onmessage = this._make_on_message_function(this);\n",
       "\n",
       "    this.ondownload = ondownload;\n",
       "}\n",
       "\n",
       "mpl.figure.prototype._init_header = function() {\n",
       "    var titlebar = $(\n",
       "        '<div class=\"ui-dialog-titlebar ui-widget-header ui-corner-all ' +\n",
       "        'ui-helper-clearfix\"/>');\n",
       "    var titletext = $(\n",
       "        '<div class=\"ui-dialog-title\" style=\"width: 100%; ' +\n",
       "        'text-align: center; padding: 3px;\"/>');\n",
       "    titlebar.append(titletext)\n",
       "    this.root.append(titlebar);\n",
       "    this.header = titletext[0];\n",
       "}\n",
       "\n",
       "\n",
       "\n",
       "mpl.figure.prototype._canvas_extra_style = function(canvas_div) {\n",
       "\n",
       "}\n",
       "\n",
       "\n",
       "mpl.figure.prototype._root_extra_style = function(canvas_div) {\n",
       "\n",
       "}\n",
       "\n",
       "mpl.figure.prototype._init_canvas = function() {\n",
       "    var fig = this;\n",
       "\n",
       "    var canvas_div = $('<div/>');\n",
       "\n",
       "    canvas_div.attr('style', 'position: relative; clear: both; outline: 0');\n",
       "\n",
       "    function canvas_keyboard_event(event) {\n",
       "        return fig.key_event(event, event['data']);\n",
       "    }\n",
       "\n",
       "    canvas_div.keydown('key_press', canvas_keyboard_event);\n",
       "    canvas_div.keyup('key_release', canvas_keyboard_event);\n",
       "    this.canvas_div = canvas_div\n",
       "    this._canvas_extra_style(canvas_div)\n",
       "    this.root.append(canvas_div);\n",
       "\n",
       "    var canvas = $('<canvas/>');\n",
       "    canvas.addClass('mpl-canvas');\n",
       "    canvas.attr('style', \"left: 0; top: 0; z-index: 0; outline: 0\")\n",
       "\n",
       "    this.canvas = canvas[0];\n",
       "    this.context = canvas[0].getContext(\"2d\");\n",
       "\n",
       "    var backingStore = this.context.backingStorePixelRatio ||\n",
       "\tthis.context.webkitBackingStorePixelRatio ||\n",
       "\tthis.context.mozBackingStorePixelRatio ||\n",
       "\tthis.context.msBackingStorePixelRatio ||\n",
       "\tthis.context.oBackingStorePixelRatio ||\n",
       "\tthis.context.backingStorePixelRatio || 1;\n",
       "\n",
       "    mpl.ratio = (window.devicePixelRatio || 1) / backingStore;\n",
       "\n",
       "    var rubberband = $('<canvas/>');\n",
       "    rubberband.attr('style', \"position: absolute; left: 0; top: 0; z-index: 1;\")\n",
       "\n",
       "    var pass_mouse_events = true;\n",
       "\n",
       "    canvas_div.resizable({\n",
       "        start: function(event, ui) {\n",
       "            pass_mouse_events = false;\n",
       "        },\n",
       "        resize: function(event, ui) {\n",
       "            fig.request_resize(ui.size.width, ui.size.height);\n",
       "        },\n",
       "        stop: function(event, ui) {\n",
       "            pass_mouse_events = true;\n",
       "            fig.request_resize(ui.size.width, ui.size.height);\n",
       "        },\n",
       "    });\n",
       "\n",
       "    function mouse_event_fn(event) {\n",
       "        if (pass_mouse_events)\n",
       "            return fig.mouse_event(event, event['data']);\n",
       "    }\n",
       "\n",
       "    rubberband.mousedown('button_press', mouse_event_fn);\n",
       "    rubberband.mouseup('button_release', mouse_event_fn);\n",
       "    // Throttle sequential mouse events to 1 every 20ms.\n",
       "    rubberband.mousemove('motion_notify', mouse_event_fn);\n",
       "\n",
       "    rubberband.mouseenter('figure_enter', mouse_event_fn);\n",
       "    rubberband.mouseleave('figure_leave', mouse_event_fn);\n",
       "\n",
       "    canvas_div.on(\"wheel\", function (event) {\n",
       "        event = event.originalEvent;\n",
       "        event['data'] = 'scroll'\n",
       "        if (event.deltaY < 0) {\n",
       "            event.step = 1;\n",
       "        } else {\n",
       "            event.step = -1;\n",
       "        }\n",
       "        mouse_event_fn(event);\n",
       "    });\n",
       "\n",
       "    canvas_div.append(canvas);\n",
       "    canvas_div.append(rubberband);\n",
       "\n",
       "    this.rubberband = rubberband;\n",
       "    this.rubberband_canvas = rubberband[0];\n",
       "    this.rubberband_context = rubberband[0].getContext(\"2d\");\n",
       "    this.rubberband_context.strokeStyle = \"#000000\";\n",
       "\n",
       "    this._resize_canvas = function(width, height) {\n",
       "        // Keep the size of the canvas, canvas container, and rubber band\n",
       "        // canvas in synch.\n",
       "        canvas_div.css('width', width)\n",
       "        canvas_div.css('height', height)\n",
       "\n",
       "        canvas.attr('width', width * mpl.ratio);\n",
       "        canvas.attr('height', height * mpl.ratio);\n",
       "        canvas.attr('style', 'width: ' + width + 'px; height: ' + height + 'px;');\n",
       "\n",
       "        rubberband.attr('width', width);\n",
       "        rubberband.attr('height', height);\n",
       "    }\n",
       "\n",
       "    // Set the figure to an initial 600x600px, this will subsequently be updated\n",
       "    // upon first draw.\n",
       "    this._resize_canvas(600, 600);\n",
       "\n",
       "    // Disable right mouse context menu.\n",
       "    $(this.rubberband_canvas).bind(\"contextmenu\",function(e){\n",
       "        return false;\n",
       "    });\n",
       "\n",
       "    function set_focus () {\n",
       "        canvas.focus();\n",
       "        canvas_div.focus();\n",
       "    }\n",
       "\n",
       "    window.setTimeout(set_focus, 100);\n",
       "}\n",
       "\n",
       "mpl.figure.prototype._init_toolbar = function() {\n",
       "    var fig = this;\n",
       "\n",
       "    var nav_element = $('<div/>')\n",
       "    nav_element.attr('style', 'width: 100%');\n",
       "    this.root.append(nav_element);\n",
       "\n",
       "    // Define a callback function for later on.\n",
       "    function toolbar_event(event) {\n",
       "        return fig.toolbar_button_onclick(event['data']);\n",
       "    }\n",
       "    function toolbar_mouse_event(event) {\n",
       "        return fig.toolbar_button_onmouseover(event['data']);\n",
       "    }\n",
       "\n",
       "    for(var toolbar_ind in mpl.toolbar_items) {\n",
       "        var name = mpl.toolbar_items[toolbar_ind][0];\n",
       "        var tooltip = mpl.toolbar_items[toolbar_ind][1];\n",
       "        var image = mpl.toolbar_items[toolbar_ind][2];\n",
       "        var method_name = mpl.toolbar_items[toolbar_ind][3];\n",
       "\n",
       "        if (!name) {\n",
       "            // put a spacer in here.\n",
       "            continue;\n",
       "        }\n",
       "        var button = $('<button/>');\n",
       "        button.addClass('ui-button ui-widget ui-state-default ui-corner-all ' +\n",
       "                        'ui-button-icon-only');\n",
       "        button.attr('role', 'button');\n",
       "        button.attr('aria-disabled', 'false');\n",
       "        button.click(method_name, toolbar_event);\n",
       "        button.mouseover(tooltip, toolbar_mouse_event);\n",
       "\n",
       "        var icon_img = $('<span/>');\n",
       "        icon_img.addClass('ui-button-icon-primary ui-icon');\n",
       "        icon_img.addClass(image);\n",
       "        icon_img.addClass('ui-corner-all');\n",
       "\n",
       "        var tooltip_span = $('<span/>');\n",
       "        tooltip_span.addClass('ui-button-text');\n",
       "        tooltip_span.html(tooltip);\n",
       "\n",
       "        button.append(icon_img);\n",
       "        button.append(tooltip_span);\n",
       "\n",
       "        nav_element.append(button);\n",
       "    }\n",
       "\n",
       "    var fmt_picker_span = $('<span/>');\n",
       "\n",
       "    var fmt_picker = $('<select/>');\n",
       "    fmt_picker.addClass('mpl-toolbar-option ui-widget ui-widget-content');\n",
       "    fmt_picker_span.append(fmt_picker);\n",
       "    nav_element.append(fmt_picker_span);\n",
       "    this.format_dropdown = fmt_picker[0];\n",
       "\n",
       "    for (var ind in mpl.extensions) {\n",
       "        var fmt = mpl.extensions[ind];\n",
       "        var option = $(\n",
       "            '<option/>', {selected: fmt === mpl.default_extension}).html(fmt);\n",
       "        fmt_picker.append(option)\n",
       "    }\n",
       "\n",
       "    // Add hover states to the ui-buttons\n",
       "    $( \".ui-button\" ).hover(\n",
       "        function() { $(this).addClass(\"ui-state-hover\");},\n",
       "        function() { $(this).removeClass(\"ui-state-hover\");}\n",
       "    );\n",
       "\n",
       "    var status_bar = $('<span class=\"mpl-message\"/>');\n",
       "    nav_element.append(status_bar);\n",
       "    this.message = status_bar[0];\n",
       "}\n",
       "\n",
       "mpl.figure.prototype.request_resize = function(x_pixels, y_pixels) {\n",
       "    // Request matplotlib to resize the figure. Matplotlib will then trigger a resize in the client,\n",
       "    // which will in turn request a refresh of the image.\n",
       "    this.send_message('resize', {'width': x_pixels, 'height': y_pixels});\n",
       "}\n",
       "\n",
       "mpl.figure.prototype.send_message = function(type, properties) {\n",
       "    properties['type'] = type;\n",
       "    properties['figure_id'] = this.id;\n",
       "    this.ws.send(JSON.stringify(properties));\n",
       "}\n",
       "\n",
       "mpl.figure.prototype.send_draw_message = function() {\n",
       "    if (!this.waiting) {\n",
       "        this.waiting = true;\n",
       "        this.ws.send(JSON.stringify({type: \"draw\", figure_id: this.id}));\n",
       "    }\n",
       "}\n",
       "\n",
       "\n",
       "mpl.figure.prototype.handle_save = function(fig, msg) {\n",
       "    var format_dropdown = fig.format_dropdown;\n",
       "    var format = format_dropdown.options[format_dropdown.selectedIndex].value;\n",
       "    fig.ondownload(fig, format);\n",
       "}\n",
       "\n",
       "\n",
       "mpl.figure.prototype.handle_resize = function(fig, msg) {\n",
       "    var size = msg['size'];\n",
       "    if (size[0] != fig.canvas.width || size[1] != fig.canvas.height) {\n",
       "        fig._resize_canvas(size[0], size[1]);\n",
       "        fig.send_message(\"refresh\", {});\n",
       "    };\n",
       "}\n",
       "\n",
       "mpl.figure.prototype.handle_rubberband = function(fig, msg) {\n",
       "    var x0 = msg['x0'] / mpl.ratio;\n",
       "    var y0 = (fig.canvas.height - msg['y0']) / mpl.ratio;\n",
       "    var x1 = msg['x1'] / mpl.ratio;\n",
       "    var y1 = (fig.canvas.height - msg['y1']) / mpl.ratio;\n",
       "    x0 = Math.floor(x0) + 0.5;\n",
       "    y0 = Math.floor(y0) + 0.5;\n",
       "    x1 = Math.floor(x1) + 0.5;\n",
       "    y1 = Math.floor(y1) + 0.5;\n",
       "    var min_x = Math.min(x0, x1);\n",
       "    var min_y = Math.min(y0, y1);\n",
       "    var width = Math.abs(x1 - x0);\n",
       "    var height = Math.abs(y1 - y0);\n",
       "\n",
       "    fig.rubberband_context.clearRect(\n",
       "        0, 0, fig.canvas.width, fig.canvas.height);\n",
       "\n",
       "    fig.rubberband_context.strokeRect(min_x, min_y, width, height);\n",
       "}\n",
       "\n",
       "mpl.figure.prototype.handle_figure_label = function(fig, msg) {\n",
       "    // Updates the figure title.\n",
       "    fig.header.textContent = msg['label'];\n",
       "}\n",
       "\n",
       "mpl.figure.prototype.handle_cursor = function(fig, msg) {\n",
       "    var cursor = msg['cursor'];\n",
       "    switch(cursor)\n",
       "    {\n",
       "    case 0:\n",
       "        cursor = 'pointer';\n",
       "        break;\n",
       "    case 1:\n",
       "        cursor = 'default';\n",
       "        break;\n",
       "    case 2:\n",
       "        cursor = 'crosshair';\n",
       "        break;\n",
       "    case 3:\n",
       "        cursor = 'move';\n",
       "        break;\n",
       "    }\n",
       "    fig.rubberband_canvas.style.cursor = cursor;\n",
       "}\n",
       "\n",
       "mpl.figure.prototype.handle_message = function(fig, msg) {\n",
       "    fig.message.textContent = msg['message'];\n",
       "}\n",
       "\n",
       "mpl.figure.prototype.handle_draw = function(fig, msg) {\n",
       "    // Request the server to send over a new figure.\n",
       "    fig.send_draw_message();\n",
       "}\n",
       "\n",
       "mpl.figure.prototype.handle_image_mode = function(fig, msg) {\n",
       "    fig.image_mode = msg['mode'];\n",
       "}\n",
       "\n",
       "mpl.figure.prototype.updated_canvas_event = function() {\n",
       "    // Called whenever the canvas gets updated.\n",
       "    this.send_message(\"ack\", {});\n",
       "}\n",
       "\n",
       "// A function to construct a web socket function for onmessage handling.\n",
       "// Called in the figure constructor.\n",
       "mpl.figure.prototype._make_on_message_function = function(fig) {\n",
       "    return function socket_on_message(evt) {\n",
       "        if (evt.data instanceof Blob) {\n",
       "            /* FIXME: We get \"Resource interpreted as Image but\n",
       "             * transferred with MIME type text/plain:\" errors on\n",
       "             * Chrome.  But how to set the MIME type?  It doesn't seem\n",
       "             * to be part of the websocket stream */\n",
       "            evt.data.type = \"image/png\";\n",
       "\n",
       "            /* Free the memory for the previous frames */\n",
       "            if (fig.imageObj.src) {\n",
       "                (window.URL || window.webkitURL).revokeObjectURL(\n",
       "                    fig.imageObj.src);\n",
       "            }\n",
       "\n",
       "            fig.imageObj.src = (window.URL || window.webkitURL).createObjectURL(\n",
       "                evt.data);\n",
       "            fig.updated_canvas_event();\n",
       "            fig.waiting = false;\n",
       "            return;\n",
       "        }\n",
       "        else if (typeof evt.data === 'string' && evt.data.slice(0, 21) == \"data:image/png;base64\") {\n",
       "            fig.imageObj.src = evt.data;\n",
       "            fig.updated_canvas_event();\n",
       "            fig.waiting = false;\n",
       "            return;\n",
       "        }\n",
       "\n",
       "        var msg = JSON.parse(evt.data);\n",
       "        var msg_type = msg['type'];\n",
       "\n",
       "        // Call the  \"handle_{type}\" callback, which takes\n",
       "        // the figure and JSON message as its only arguments.\n",
       "        try {\n",
       "            var callback = fig[\"handle_\" + msg_type];\n",
       "        } catch (e) {\n",
       "            console.log(\"No handler for the '\" + msg_type + \"' message type: \", msg);\n",
       "            return;\n",
       "        }\n",
       "\n",
       "        if (callback) {\n",
       "            try {\n",
       "                // console.log(\"Handling '\" + msg_type + \"' message: \", msg);\n",
       "                callback(fig, msg);\n",
       "            } catch (e) {\n",
       "                console.log(\"Exception inside the 'handler_\" + msg_type + \"' callback:\", e, e.stack, msg);\n",
       "            }\n",
       "        }\n",
       "    };\n",
       "}\n",
       "\n",
       "// from http://stackoverflow.com/questions/1114465/getting-mouse-location-in-canvas\n",
       "mpl.findpos = function(e) {\n",
       "    //this section is from http://www.quirksmode.org/js/events_properties.html\n",
       "    var targ;\n",
       "    if (!e)\n",
       "        e = window.event;\n",
       "    if (e.target)\n",
       "        targ = e.target;\n",
       "    else if (e.srcElement)\n",
       "        targ = e.srcElement;\n",
       "    if (targ.nodeType == 3) // defeat Safari bug\n",
       "        targ = targ.parentNode;\n",
       "\n",
       "    // jQuery normalizes the pageX and pageY\n",
       "    // pageX,Y are the mouse positions relative to the document\n",
       "    // offset() returns the position of the element relative to the document\n",
       "    var x = e.pageX - $(targ).offset().left;\n",
       "    var y = e.pageY - $(targ).offset().top;\n",
       "\n",
       "    return {\"x\": x, \"y\": y};\n",
       "};\n",
       "\n",
       "/*\n",
       " * return a copy of an object with only non-object keys\n",
       " * we need this to avoid circular references\n",
       " * http://stackoverflow.com/a/24161582/3208463\n",
       " */\n",
       "function simpleKeys (original) {\n",
       "  return Object.keys(original).reduce(function (obj, key) {\n",
       "    if (typeof original[key] !== 'object')\n",
       "        obj[key] = original[key]\n",
       "    return obj;\n",
       "  }, {});\n",
       "}\n",
       "\n",
       "mpl.figure.prototype.mouse_event = function(event, name) {\n",
       "    var canvas_pos = mpl.findpos(event)\n",
       "\n",
       "    if (name === 'button_press')\n",
       "    {\n",
       "        this.canvas.focus();\n",
       "        this.canvas_div.focus();\n",
       "    }\n",
       "\n",
       "    var x = canvas_pos.x * mpl.ratio;\n",
       "    var y = canvas_pos.y * mpl.ratio;\n",
       "\n",
       "    this.send_message(name, {x: x, y: y, button: event.button,\n",
       "                             step: event.step,\n",
       "                             guiEvent: simpleKeys(event)});\n",
       "\n",
       "    /* This prevents the web browser from automatically changing to\n",
       "     * the text insertion cursor when the button is pressed.  We want\n",
       "     * to control all of the cursor setting manually through the\n",
       "     * 'cursor' event from matplotlib */\n",
       "    event.preventDefault();\n",
       "    return false;\n",
       "}\n",
       "\n",
       "mpl.figure.prototype._key_event_extra = function(event, name) {\n",
       "    // Handle any extra behaviour associated with a key event\n",
       "}\n",
       "\n",
       "mpl.figure.prototype.key_event = function(event, name) {\n",
       "\n",
       "    // Prevent repeat events\n",
       "    if (name == 'key_press')\n",
       "    {\n",
       "        if (event.which === this._key)\n",
       "            return;\n",
       "        else\n",
       "            this._key = event.which;\n",
       "    }\n",
       "    if (name == 'key_release')\n",
       "        this._key = null;\n",
       "\n",
       "    var value = '';\n",
       "    if (event.ctrlKey && event.which != 17)\n",
       "        value += \"ctrl+\";\n",
       "    if (event.altKey && event.which != 18)\n",
       "        value += \"alt+\";\n",
       "    if (event.shiftKey && event.which != 16)\n",
       "        value += \"shift+\";\n",
       "\n",
       "    value += 'k';\n",
       "    value += event.which.toString();\n",
       "\n",
       "    this._key_event_extra(event, name);\n",
       "\n",
       "    this.send_message(name, {key: value,\n",
       "                             guiEvent: simpleKeys(event)});\n",
       "    return false;\n",
       "}\n",
       "\n",
       "mpl.figure.prototype.toolbar_button_onclick = function(name) {\n",
       "    if (name == 'download') {\n",
       "        this.handle_save(this, null);\n",
       "    } else {\n",
       "        this.send_message(\"toolbar_button\", {name: name});\n",
       "    }\n",
       "};\n",
       "\n",
       "mpl.figure.prototype.toolbar_button_onmouseover = function(tooltip) {\n",
       "    this.message.textContent = tooltip;\n",
       "};\n",
       "mpl.toolbar_items = [[\"Home\", \"Reset original view\", \"fa fa-home icon-home\", \"home\"], [\"Back\", \"Back to  previous view\", \"fa fa-arrow-left icon-arrow-left\", \"back\"], [\"Forward\", \"Forward to next view\", \"fa fa-arrow-right icon-arrow-right\", \"forward\"], [\"\", \"\", \"\", \"\"], [\"Pan\", \"Pan axes with left mouse, zoom with right\", \"fa fa-arrows icon-move\", \"pan\"], [\"Zoom\", \"Zoom to rectangle\", \"fa fa-square-o icon-check-empty\", \"zoom\"], [\"\", \"\", \"\", \"\"], [\"Download\", \"Download plot\", \"fa fa-floppy-o icon-save\", \"download\"]];\n",
       "\n",
       "mpl.extensions = [\"eps\", \"jpeg\", \"pdf\", \"png\", \"ps\", \"raw\", \"svg\", \"tif\"];\n",
       "\n",
       "mpl.default_extension = \"png\";var comm_websocket_adapter = function(comm) {\n",
       "    // Create a \"websocket\"-like object which calls the given IPython comm\n",
       "    // object with the appropriate methods. Currently this is a non binary\n",
       "    // socket, so there is still some room for performance tuning.\n",
       "    var ws = {};\n",
       "\n",
       "    ws.close = function() {\n",
       "        comm.close()\n",
       "    };\n",
       "    ws.send = function(m) {\n",
       "        //console.log('sending', m);\n",
       "        comm.send(m);\n",
       "    };\n",
       "    // Register the callback with on_msg.\n",
       "    comm.on_msg(function(msg) {\n",
       "        //console.log('receiving', msg['content']['data'], msg);\n",
       "        // Pass the mpl event to the overriden (by mpl) onmessage function.\n",
       "        ws.onmessage(msg['content']['data'])\n",
       "    });\n",
       "    return ws;\n",
       "}\n",
       "\n",
       "mpl.mpl_figure_comm = function(comm, msg) {\n",
       "    // This is the function which gets called when the mpl process\n",
       "    // starts-up an IPython Comm through the \"matplotlib\" channel.\n",
       "\n",
       "    var id = msg.content.data.id;\n",
       "    // Get hold of the div created by the display call when the Comm\n",
       "    // socket was opened in Python.\n",
       "    var element = $(\"#\" + id);\n",
       "    var ws_proxy = comm_websocket_adapter(comm)\n",
       "\n",
       "    function ondownload(figure, format) {\n",
       "        window.open(figure.imageObj.src);\n",
       "    }\n",
       "\n",
       "    var fig = new mpl.figure(id, ws_proxy,\n",
       "                           ondownload,\n",
       "                           element.get(0));\n",
       "\n",
       "    // Call onopen now - mpl needs it, as it is assuming we've passed it a real\n",
       "    // web socket which is closed, not our websocket->open comm proxy.\n",
       "    ws_proxy.onopen();\n",
       "\n",
       "    fig.parent_element = element.get(0);\n",
       "    fig.cell_info = mpl.find_output_cell(\"<div id='\" + id + \"'></div>\");\n",
       "    if (!fig.cell_info) {\n",
       "        console.error(\"Failed to find cell for figure\", id, fig);\n",
       "        return;\n",
       "    }\n",
       "\n",
       "    var output_index = fig.cell_info[2]\n",
       "    var cell = fig.cell_info[0];\n",
       "\n",
       "};\n",
       "\n",
       "mpl.figure.prototype.handle_close = function(fig, msg) {\n",
       "    var width = fig.canvas.width/mpl.ratio\n",
       "    fig.root.unbind('remove')\n",
       "\n",
       "    // Update the output cell to use the data from the current canvas.\n",
       "    fig.push_to_output();\n",
       "    var dataURL = fig.canvas.toDataURL();\n",
       "    // Re-enable the keyboard manager in IPython - without this line, in FF,\n",
       "    // the notebook keyboard shortcuts fail.\n",
       "    IPython.keyboard_manager.enable()\n",
       "    $(fig.parent_element).html('<img src=\"' + dataURL + '\" width=\"' + width + '\">');\n",
       "    fig.close_ws(fig, msg);\n",
       "}\n",
       "\n",
       "mpl.figure.prototype.close_ws = function(fig, msg){\n",
       "    fig.send_message('closing', msg);\n",
       "    // fig.ws.close()\n",
       "}\n",
       "\n",
       "mpl.figure.prototype.push_to_output = function(remove_interactive) {\n",
       "    // Turn the data on the canvas into data in the output cell.\n",
       "    var width = this.canvas.width/mpl.ratio\n",
       "    var dataURL = this.canvas.toDataURL();\n",
       "    this.cell_info[1]['text/html'] = '<img src=\"' + dataURL + '\" width=\"' + width + '\">';\n",
       "}\n",
       "\n",
       "mpl.figure.prototype.updated_canvas_event = function() {\n",
       "    // Tell IPython that the notebook contents must change.\n",
       "    IPython.notebook.set_dirty(true);\n",
       "    this.send_message(\"ack\", {});\n",
       "    var fig = this;\n",
       "    // Wait a second, then push the new image to the DOM so\n",
       "    // that it is saved nicely (might be nice to debounce this).\n",
       "    setTimeout(function () { fig.push_to_output() }, 1000);\n",
       "}\n",
       "\n",
       "mpl.figure.prototype._init_toolbar = function() {\n",
       "    var fig = this;\n",
       "\n",
       "    var nav_element = $('<div/>')\n",
       "    nav_element.attr('style', 'width: 100%');\n",
       "    this.root.append(nav_element);\n",
       "\n",
       "    // Define a callback function for later on.\n",
       "    function toolbar_event(event) {\n",
       "        return fig.toolbar_button_onclick(event['data']);\n",
       "    }\n",
       "    function toolbar_mouse_event(event) {\n",
       "        return fig.toolbar_button_onmouseover(event['data']);\n",
       "    }\n",
       "\n",
       "    for(var toolbar_ind in mpl.toolbar_items){\n",
       "        var name = mpl.toolbar_items[toolbar_ind][0];\n",
       "        var tooltip = mpl.toolbar_items[toolbar_ind][1];\n",
       "        var image = mpl.toolbar_items[toolbar_ind][2];\n",
       "        var method_name = mpl.toolbar_items[toolbar_ind][3];\n",
       "\n",
       "        if (!name) { continue; };\n",
       "\n",
       "        var button = $('<button class=\"btn btn-default\" href=\"#\" title=\"' + name + '\"><i class=\"fa ' + image + ' fa-lg\"></i></button>');\n",
       "        button.click(method_name, toolbar_event);\n",
       "        button.mouseover(tooltip, toolbar_mouse_event);\n",
       "        nav_element.append(button);\n",
       "    }\n",
       "\n",
       "    // Add the status bar.\n",
       "    var status_bar = $('<span class=\"mpl-message\" style=\"text-align:right; float: right;\"/>');\n",
       "    nav_element.append(status_bar);\n",
       "    this.message = status_bar[0];\n",
       "\n",
       "    // Add the close button to the window.\n",
       "    var buttongrp = $('<div class=\"btn-group inline pull-right\"></div>');\n",
       "    var button = $('<button class=\"btn btn-mini btn-primary\" href=\"#\" title=\"Stop Interaction\"><i class=\"fa fa-power-off icon-remove icon-large\"></i></button>');\n",
       "    button.click(function (evt) { fig.handle_close(fig, {}); } );\n",
       "    button.mouseover('Stop Interaction', toolbar_mouse_event);\n",
       "    buttongrp.append(button);\n",
       "    var titlebar = this.root.find($('.ui-dialog-titlebar'));\n",
       "    titlebar.prepend(buttongrp);\n",
       "}\n",
       "\n",
       "mpl.figure.prototype._root_extra_style = function(el){\n",
       "    var fig = this\n",
       "    el.on(\"remove\", function(){\n",
       "\tfig.close_ws(fig, {});\n",
       "    });\n",
       "}\n",
       "\n",
       "mpl.figure.prototype._canvas_extra_style = function(el){\n",
       "    // this is important to make the div 'focusable\n",
       "    el.attr('tabindex', 0)\n",
       "    // reach out to IPython and tell the keyboard manager to turn it's self\n",
       "    // off when our div gets focus\n",
       "\n",
       "    // location in version 3\n",
       "    if (IPython.notebook.keyboard_manager) {\n",
       "        IPython.notebook.keyboard_manager.register_events(el);\n",
       "    }\n",
       "    else {\n",
       "        // location in version 2\n",
       "        IPython.keyboard_manager.register_events(el);\n",
       "    }\n",
       "\n",
       "}\n",
       "\n",
       "mpl.figure.prototype._key_event_extra = function(event, name) {\n",
       "    var manager = IPython.notebook.keyboard_manager;\n",
       "    if (!manager)\n",
       "        manager = IPython.keyboard_manager;\n",
       "\n",
       "    // Check for shift+enter\n",
       "    if (event.shiftKey && event.which == 13) {\n",
       "        this.canvas_div.blur();\n",
       "        event.shiftKey = false;\n",
       "        // Send a \"J\" for go to next cell\n",
       "        event.which = 74;\n",
       "        event.keyCode = 74;\n",
       "        manager.command_mode();\n",
       "        manager.handle_keydown(event);\n",
       "    }\n",
       "}\n",
       "\n",
       "mpl.figure.prototype.handle_save = function(fig, msg) {\n",
       "    fig.ondownload(fig, null);\n",
       "}\n",
       "\n",
       "\n",
       "mpl.find_output_cell = function(html_output) {\n",
       "    // Return the cell and output element which can be found *uniquely* in the notebook.\n",
       "    // Note - this is a bit hacky, but it is done because the \"notebook_saving.Notebook\"\n",
       "    // IPython event is triggered only after the cells have been serialised, which for\n",
       "    // our purposes (turning an active figure into a static one), is too late.\n",
       "    var cells = IPython.notebook.get_cells();\n",
       "    var ncells = cells.length;\n",
       "    for (var i=0; i<ncells; i++) {\n",
       "        var cell = cells[i];\n",
       "        if (cell.cell_type === 'code'){\n",
       "            for (var j=0; j<cell.output_area.outputs.length; j++) {\n",
       "                var data = cell.output_area.outputs[j];\n",
       "                if (data.data) {\n",
       "                    // IPython >= 3 moved mimebundle to data attribute of output\n",
       "                    data = data.data;\n",
       "                }\n",
       "                if (data['text/html'] == html_output) {\n",
       "                    return [cell, data, j];\n",
       "                }\n",
       "            }\n",
       "        }\n",
       "    }\n",
       "}\n",
       "\n",
       "// Register the function which deals with the matplotlib target/channel.\n",
       "// The kernel may be null if the page has been refreshed.\n",
       "if (IPython.notebook.kernel != null) {\n",
       "    IPython.notebook.kernel.comm_manager.register_target('matplotlib', mpl.mpl_figure_comm);\n",
       "}\n"
      ],
      "text/plain": [
       "<IPython.core.display.Javascript object>"
      ]
     },
     "metadata": {},
     "output_type": "display_data"
    },
    {
     "data": {
      "text/html": [
       "<img src=\"data:image/png;base64,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\" width=\"576\">"
      ],
      "text/plain": [
       "<IPython.core.display.HTML object>"
      ]
     },
     "metadata": {},
     "output_type": "display_data"
    },
    {
     "data": {
      "text/plain": [
       "<mpl_toolkits.mplot3d.art3d.Path3DCollection at 0x29028f9a320>"
      ]
     },
     "execution_count": 211,
     "metadata": {},
     "output_type": "execute_result"
    },
    {
     "data": {
      "application/javascript": [
       "/* Put everything inside the global mpl namespace */\n",
       "window.mpl = {};\n",
       "\n",
       "\n",
       "mpl.get_websocket_type = function() {\n",
       "    if (typeof(WebSocket) !== 'undefined') {\n",
       "        return WebSocket;\n",
       "    } else if (typeof(MozWebSocket) !== 'undefined') {\n",
       "        return MozWebSocket;\n",
       "    } else {\n",
       "        alert('Your browser does not have WebSocket support.' +\n",
       "              'Please try Chrome, Safari or Firefox ≥ 6. ' +\n",
       "              'Firefox 4 and 5 are also supported but you ' +\n",
       "              'have to enable WebSockets in about:config.');\n",
       "    };\n",
       "}\n",
       "\n",
       "mpl.figure = function(figure_id, websocket, ondownload, parent_element) {\n",
       "    this.id = figure_id;\n",
       "\n",
       "    this.ws = websocket;\n",
       "\n",
       "    this.supports_binary = (this.ws.binaryType != undefined);\n",
       "\n",
       "    if (!this.supports_binary) {\n",
       "        var warnings = document.getElementById(\"mpl-warnings\");\n",
       "        if (warnings) {\n",
       "            warnings.style.display = 'block';\n",
       "            warnings.textContent = (\n",
       "                \"This browser does not support binary websocket messages. \" +\n",
       "                    \"Performance may be slow.\");\n",
       "        }\n",
       "    }\n",
       "\n",
       "    this.imageObj = new Image();\n",
       "\n",
       "    this.context = undefined;\n",
       "    this.message = undefined;\n",
       "    this.canvas = undefined;\n",
       "    this.rubberband_canvas = undefined;\n",
       "    this.rubberband_context = undefined;\n",
       "    this.format_dropdown = undefined;\n",
       "\n",
       "    this.image_mode = 'full';\n",
       "\n",
       "    this.root = $('<div/>');\n",
       "    this._root_extra_style(this.root)\n",
       "    this.root.attr('style', 'display: inline-block');\n",
       "\n",
       "    $(parent_element).append(this.root);\n",
       "\n",
       "    this._init_header(this);\n",
       "    this._init_canvas(this);\n",
       "    this._init_toolbar(this);\n",
       "\n",
       "    var fig = this;\n",
       "\n",
       "    this.waiting = false;\n",
       "\n",
       "    this.ws.onopen =  function () {\n",
       "            fig.send_message(\"supports_binary\", {value: fig.supports_binary});\n",
       "            fig.send_message(\"send_image_mode\", {});\n",
       "            if (mpl.ratio != 1) {\n",
       "                fig.send_message(\"set_dpi_ratio\", {'dpi_ratio': mpl.ratio});\n",
       "            }\n",
       "            fig.send_message(\"refresh\", {});\n",
       "        }\n",
       "\n",
       "    this.imageObj.onload = function() {\n",
       "            if (fig.image_mode == 'full') {\n",
       "                // Full images could contain transparency (where diff images\n",
       "                // almost always do), so we need to clear the canvas so that\n",
       "                // there is no ghosting.\n",
       "                fig.context.clearRect(0, 0, fig.canvas.width, fig.canvas.height);\n",
       "            }\n",
       "            fig.context.drawImage(fig.imageObj, 0, 0);\n",
       "        };\n",
       "\n",
       "    this.imageObj.onunload = function() {\n",
       "        fig.ws.close();\n",
       "    }\n",
       "\n",
       "    this.ws.onmessage = this._make_on_message_function(this);\n",
       "\n",
       "    this.ondownload = ondownload;\n",
       "}\n",
       "\n",
       "mpl.figure.prototype._init_header = function() {\n",
       "    var titlebar = $(\n",
       "        '<div class=\"ui-dialog-titlebar ui-widget-header ui-corner-all ' +\n",
       "        'ui-helper-clearfix\"/>');\n",
       "    var titletext = $(\n",
       "        '<div class=\"ui-dialog-title\" style=\"width: 100%; ' +\n",
       "        'text-align: center; padding: 3px;\"/>');\n",
       "    titlebar.append(titletext)\n",
       "    this.root.append(titlebar);\n",
       "    this.header = titletext[0];\n",
       "}\n",
       "\n",
       "\n",
       "\n",
       "mpl.figure.prototype._canvas_extra_style = function(canvas_div) {\n",
       "\n",
       "}\n",
       "\n",
       "\n",
       "mpl.figure.prototype._root_extra_style = function(canvas_div) {\n",
       "\n",
       "}\n",
       "\n",
       "mpl.figure.prototype._init_canvas = function() {\n",
       "    var fig = this;\n",
       "\n",
       "    var canvas_div = $('<div/>');\n",
       "\n",
       "    canvas_div.attr('style', 'position: relative; clear: both; outline: 0');\n",
       "\n",
       "    function canvas_keyboard_event(event) {\n",
       "        return fig.key_event(event, event['data']);\n",
       "    }\n",
       "\n",
       "    canvas_div.keydown('key_press', canvas_keyboard_event);\n",
       "    canvas_div.keyup('key_release', canvas_keyboard_event);\n",
       "    this.canvas_div = canvas_div\n",
       "    this._canvas_extra_style(canvas_div)\n",
       "    this.root.append(canvas_div);\n",
       "\n",
       "    var canvas = $('<canvas/>');\n",
       "    canvas.addClass('mpl-canvas');\n",
       "    canvas.attr('style', \"left: 0; top: 0; z-index: 0; outline: 0\")\n",
       "\n",
       "    this.canvas = canvas[0];\n",
       "    this.context = canvas[0].getContext(\"2d\");\n",
       "\n",
       "    var backingStore = this.context.backingStorePixelRatio ||\n",
       "\tthis.context.webkitBackingStorePixelRatio ||\n",
       "\tthis.context.mozBackingStorePixelRatio ||\n",
       "\tthis.context.msBackingStorePixelRatio ||\n",
       "\tthis.context.oBackingStorePixelRatio ||\n",
       "\tthis.context.backingStorePixelRatio || 1;\n",
       "\n",
       "    mpl.ratio = (window.devicePixelRatio || 1) / backingStore;\n",
       "\n",
       "    var rubberband = $('<canvas/>');\n",
       "    rubberband.attr('style', \"position: absolute; left: 0; top: 0; z-index: 1;\")\n",
       "\n",
       "    var pass_mouse_events = true;\n",
       "\n",
       "    canvas_div.resizable({\n",
       "        start: function(event, ui) {\n",
       "            pass_mouse_events = false;\n",
       "        },\n",
       "        resize: function(event, ui) {\n",
       "            fig.request_resize(ui.size.width, ui.size.height);\n",
       "        },\n",
       "        stop: function(event, ui) {\n",
       "            pass_mouse_events = true;\n",
       "            fig.request_resize(ui.size.width, ui.size.height);\n",
       "        },\n",
       "    });\n",
       "\n",
       "    function mouse_event_fn(event) {\n",
       "        if (pass_mouse_events)\n",
       "            return fig.mouse_event(event, event['data']);\n",
       "    }\n",
       "\n",
       "    rubberband.mousedown('button_press', mouse_event_fn);\n",
       "    rubberband.mouseup('button_release', mouse_event_fn);\n",
       "    // Throttle sequential mouse events to 1 every 20ms.\n",
       "    rubberband.mousemove('motion_notify', mouse_event_fn);\n",
       "\n",
       "    rubberband.mouseenter('figure_enter', mouse_event_fn);\n",
       "    rubberband.mouseleave('figure_leave', mouse_event_fn);\n",
       "\n",
       "    canvas_div.on(\"wheel\", function (event) {\n",
       "        event = event.originalEvent;\n",
       "        event['data'] = 'scroll'\n",
       "        if (event.deltaY < 0) {\n",
       "            event.step = 1;\n",
       "        } else {\n",
       "            event.step = -1;\n",
       "        }\n",
       "        mouse_event_fn(event);\n",
       "    });\n",
       "\n",
       "    canvas_div.append(canvas);\n",
       "    canvas_div.append(rubberband);\n",
       "\n",
       "    this.rubberband = rubberband;\n",
       "    this.rubberband_canvas = rubberband[0];\n",
       "    this.rubberband_context = rubberband[0].getContext(\"2d\");\n",
       "    this.rubberband_context.strokeStyle = \"#000000\";\n",
       "\n",
       "    this._resize_canvas = function(width, height) {\n",
       "        // Keep the size of the canvas, canvas container, and rubber band\n",
       "        // canvas in synch.\n",
       "        canvas_div.css('width', width)\n",
       "        canvas_div.css('height', height)\n",
       "\n",
       "        canvas.attr('width', width * mpl.ratio);\n",
       "        canvas.attr('height', height * mpl.ratio);\n",
       "        canvas.attr('style', 'width: ' + width + 'px; height: ' + height + 'px;');\n",
       "\n",
       "        rubberband.attr('width', width);\n",
       "        rubberband.attr('height', height);\n",
       "    }\n",
       "\n",
       "    // Set the figure to an initial 600x600px, this will subsequently be updated\n",
       "    // upon first draw.\n",
       "    this._resize_canvas(600, 600);\n",
       "\n",
       "    // Disable right mouse context menu.\n",
       "    $(this.rubberband_canvas).bind(\"contextmenu\",function(e){\n",
       "        return false;\n",
       "    });\n",
       "\n",
       "    function set_focus () {\n",
       "        canvas.focus();\n",
       "        canvas_div.focus();\n",
       "    }\n",
       "\n",
       "    window.setTimeout(set_focus, 100);\n",
       "}\n",
       "\n",
       "mpl.figure.prototype._init_toolbar = function() {\n",
       "    var fig = this;\n",
       "\n",
       "    var nav_element = $('<div/>')\n",
       "    nav_element.attr('style', 'width: 100%');\n",
       "    this.root.append(nav_element);\n",
       "\n",
       "    // Define a callback function for later on.\n",
       "    function toolbar_event(event) {\n",
       "        return fig.toolbar_button_onclick(event['data']);\n",
       "    }\n",
       "    function toolbar_mouse_event(event) {\n",
       "        return fig.toolbar_button_onmouseover(event['data']);\n",
       "    }\n",
       "\n",
       "    for(var toolbar_ind in mpl.toolbar_items) {\n",
       "        var name = mpl.toolbar_items[toolbar_ind][0];\n",
       "        var tooltip = mpl.toolbar_items[toolbar_ind][1];\n",
       "        var image = mpl.toolbar_items[toolbar_ind][2];\n",
       "        var method_name = mpl.toolbar_items[toolbar_ind][3];\n",
       "\n",
       "        if (!name) {\n",
       "            // put a spacer in here.\n",
       "            continue;\n",
       "        }\n",
       "        var button = $('<button/>');\n",
       "        button.addClass('ui-button ui-widget ui-state-default ui-corner-all ' +\n",
       "                        'ui-button-icon-only');\n",
       "        button.attr('role', 'button');\n",
       "        button.attr('aria-disabled', 'false');\n",
       "        button.click(method_name, toolbar_event);\n",
       "        button.mouseover(tooltip, toolbar_mouse_event);\n",
       "\n",
       "        var icon_img = $('<span/>');\n",
       "        icon_img.addClass('ui-button-icon-primary ui-icon');\n",
       "        icon_img.addClass(image);\n",
       "        icon_img.addClass('ui-corner-all');\n",
       "\n",
       "        var tooltip_span = $('<span/>');\n",
       "        tooltip_span.addClass('ui-button-text');\n",
       "        tooltip_span.html(tooltip);\n",
       "\n",
       "        button.append(icon_img);\n",
       "        button.append(tooltip_span);\n",
       "\n",
       "        nav_element.append(button);\n",
       "    }\n",
       "\n",
       "    var fmt_picker_span = $('<span/>');\n",
       "\n",
       "    var fmt_picker = $('<select/>');\n",
       "    fmt_picker.addClass('mpl-toolbar-option ui-widget ui-widget-content');\n",
       "    fmt_picker_span.append(fmt_picker);\n",
       "    nav_element.append(fmt_picker_span);\n",
       "    this.format_dropdown = fmt_picker[0];\n",
       "\n",
       "    for (var ind in mpl.extensions) {\n",
       "        var fmt = mpl.extensions[ind];\n",
       "        var option = $(\n",
       "            '<option/>', {selected: fmt === mpl.default_extension}).html(fmt);\n",
       "        fmt_picker.append(option)\n",
       "    }\n",
       "\n",
       "    // Add hover states to the ui-buttons\n",
       "    $( \".ui-button\" ).hover(\n",
       "        function() { $(this).addClass(\"ui-state-hover\");},\n",
       "        function() { $(this).removeClass(\"ui-state-hover\");}\n",
       "    );\n",
       "\n",
       "    var status_bar = $('<span class=\"mpl-message\"/>');\n",
       "    nav_element.append(status_bar);\n",
       "    this.message = status_bar[0];\n",
       "}\n",
       "\n",
       "mpl.figure.prototype.request_resize = function(x_pixels, y_pixels) {\n",
       "    // Request matplotlib to resize the figure. Matplotlib will then trigger a resize in the client,\n",
       "    // which will in turn request a refresh of the image.\n",
       "    this.send_message('resize', {'width': x_pixels, 'height': y_pixels});\n",
       "}\n",
       "\n",
       "mpl.figure.prototype.send_message = function(type, properties) {\n",
       "    properties['type'] = type;\n",
       "    properties['figure_id'] = this.id;\n",
       "    this.ws.send(JSON.stringify(properties));\n",
       "}\n",
       "\n",
       "mpl.figure.prototype.send_draw_message = function() {\n",
       "    if (!this.waiting) {\n",
       "        this.waiting = true;\n",
       "        this.ws.send(JSON.stringify({type: \"draw\", figure_id: this.id}));\n",
       "    }\n",
       "}\n",
       "\n",
       "\n",
       "mpl.figure.prototype.handle_save = function(fig, msg) {\n",
       "    var format_dropdown = fig.format_dropdown;\n",
       "    var format = format_dropdown.options[format_dropdown.selectedIndex].value;\n",
       "    fig.ondownload(fig, format);\n",
       "}\n",
       "\n",
       "\n",
       "mpl.figure.prototype.handle_resize = function(fig, msg) {\n",
       "    var size = msg['size'];\n",
       "    if (size[0] != fig.canvas.width || size[1] != fig.canvas.height) {\n",
       "        fig._resize_canvas(size[0], size[1]);\n",
       "        fig.send_message(\"refresh\", {});\n",
       "    };\n",
       "}\n",
       "\n",
       "mpl.figure.prototype.handle_rubberband = function(fig, msg) {\n",
       "    var x0 = msg['x0'] / mpl.ratio;\n",
       "    var y0 = (fig.canvas.height - msg['y0']) / mpl.ratio;\n",
       "    var x1 = msg['x1'] / mpl.ratio;\n",
       "    var y1 = (fig.canvas.height - msg['y1']) / mpl.ratio;\n",
       "    x0 = Math.floor(x0) + 0.5;\n",
       "    y0 = Math.floor(y0) + 0.5;\n",
       "    x1 = Math.floor(x1) + 0.5;\n",
       "    y1 = Math.floor(y1) + 0.5;\n",
       "    var min_x = Math.min(x0, x1);\n",
       "    var min_y = Math.min(y0, y1);\n",
       "    var width = Math.abs(x1 - x0);\n",
       "    var height = Math.abs(y1 - y0);\n",
       "\n",
       "    fig.rubberband_context.clearRect(\n",
       "        0, 0, fig.canvas.width, fig.canvas.height);\n",
       "\n",
       "    fig.rubberband_context.strokeRect(min_x, min_y, width, height);\n",
       "}\n",
       "\n",
       "mpl.figure.prototype.handle_figure_label = function(fig, msg) {\n",
       "    // Updates the figure title.\n",
       "    fig.header.textContent = msg['label'];\n",
       "}\n",
       "\n",
       "mpl.figure.prototype.handle_cursor = function(fig, msg) {\n",
       "    var cursor = msg['cursor'];\n",
       "    switch(cursor)\n",
       "    {\n",
       "    case 0:\n",
       "        cursor = 'pointer';\n",
       "        break;\n",
       "    case 1:\n",
       "        cursor = 'default';\n",
       "        break;\n",
       "    case 2:\n",
       "        cursor = 'crosshair';\n",
       "        break;\n",
       "    case 3:\n",
       "        cursor = 'move';\n",
       "        break;\n",
       "    }\n",
       "    fig.rubberband_canvas.style.cursor = cursor;\n",
       "}\n",
       "\n",
       "mpl.figure.prototype.handle_message = function(fig, msg) {\n",
       "    fig.message.textContent = msg['message'];\n",
       "}\n",
       "\n",
       "mpl.figure.prototype.handle_draw = function(fig, msg) {\n",
       "    // Request the server to send over a new figure.\n",
       "    fig.send_draw_message();\n",
       "}\n",
       "\n",
       "mpl.figure.prototype.handle_image_mode = function(fig, msg) {\n",
       "    fig.image_mode = msg['mode'];\n",
       "}\n",
       "\n",
       "mpl.figure.prototype.updated_canvas_event = function() {\n",
       "    // Called whenever the canvas gets updated.\n",
       "    this.send_message(\"ack\", {});\n",
       "}\n",
       "\n",
       "// A function to construct a web socket function for onmessage handling.\n",
       "// Called in the figure constructor.\n",
       "mpl.figure.prototype._make_on_message_function = function(fig) {\n",
       "    return function socket_on_message(evt) {\n",
       "        if (evt.data instanceof Blob) {\n",
       "            /* FIXME: We get \"Resource interpreted as Image but\n",
       "             * transferred with MIME type text/plain:\" errors on\n",
       "             * Chrome.  But how to set the MIME type?  It doesn't seem\n",
       "             * to be part of the websocket stream */\n",
       "            evt.data.type = \"image/png\";\n",
       "\n",
       "            /* Free the memory for the previous frames */\n",
       "            if (fig.imageObj.src) {\n",
       "                (window.URL || window.webkitURL).revokeObjectURL(\n",
       "                    fig.imageObj.src);\n",
       "            }\n",
       "\n",
       "            fig.imageObj.src = (window.URL || window.webkitURL).createObjectURL(\n",
       "                evt.data);\n",
       "            fig.updated_canvas_event();\n",
       "            fig.waiting = false;\n",
       "            return;\n",
       "        }\n",
       "        else if (typeof evt.data === 'string' && evt.data.slice(0, 21) == \"data:image/png;base64\") {\n",
       "            fig.imageObj.src = evt.data;\n",
       "            fig.updated_canvas_event();\n",
       "            fig.waiting = false;\n",
       "            return;\n",
       "        }\n",
       "\n",
       "        var msg = JSON.parse(evt.data);\n",
       "        var msg_type = msg['type'];\n",
       "\n",
       "        // Call the  \"handle_{type}\" callback, which takes\n",
       "        // the figure and JSON message as its only arguments.\n",
       "        try {\n",
       "            var callback = fig[\"handle_\" + msg_type];\n",
       "        } catch (e) {\n",
       "            console.log(\"No handler for the '\" + msg_type + \"' message type: \", msg);\n",
       "            return;\n",
       "        }\n",
       "\n",
       "        if (callback) {\n",
       "            try {\n",
       "                // console.log(\"Handling '\" + msg_type + \"' message: \", msg);\n",
       "                callback(fig, msg);\n",
       "            } catch (e) {\n",
       "                console.log(\"Exception inside the 'handler_\" + msg_type + \"' callback:\", e, e.stack, msg);\n",
       "            }\n",
       "        }\n",
       "    };\n",
       "}\n",
       "\n",
       "// from http://stackoverflow.com/questions/1114465/getting-mouse-location-in-canvas\n",
       "mpl.findpos = function(e) {\n",
       "    //this section is from http://www.quirksmode.org/js/events_properties.html\n",
       "    var targ;\n",
       "    if (!e)\n",
       "        e = window.event;\n",
       "    if (e.target)\n",
       "        targ = e.target;\n",
       "    else if (e.srcElement)\n",
       "        targ = e.srcElement;\n",
       "    if (targ.nodeType == 3) // defeat Safari bug\n",
       "        targ = targ.parentNode;\n",
       "\n",
       "    // jQuery normalizes the pageX and pageY\n",
       "    // pageX,Y are the mouse positions relative to the document\n",
       "    // offset() returns the position of the element relative to the document\n",
       "    var x = e.pageX - $(targ).offset().left;\n",
       "    var y = e.pageY - $(targ).offset().top;\n",
       "\n",
       "    return {\"x\": x, \"y\": y};\n",
       "};\n",
       "\n",
       "/*\n",
       " * return a copy of an object with only non-object keys\n",
       " * we need this to avoid circular references\n",
       " * http://stackoverflow.com/a/24161582/3208463\n",
       " */\n",
       "function simpleKeys (original) {\n",
       "  return Object.keys(original).reduce(function (obj, key) {\n",
       "    if (typeof original[key] !== 'object')\n",
       "        obj[key] = original[key]\n",
       "    return obj;\n",
       "  }, {});\n",
       "}\n",
       "\n",
       "mpl.figure.prototype.mouse_event = function(event, name) {\n",
       "    var canvas_pos = mpl.findpos(event)\n",
       "\n",
       "    if (name === 'button_press')\n",
       "    {\n",
       "        this.canvas.focus();\n",
       "        this.canvas_div.focus();\n",
       "    }\n",
       "\n",
       "    var x = canvas_pos.x * mpl.ratio;\n",
       "    var y = canvas_pos.y * mpl.ratio;\n",
       "\n",
       "    this.send_message(name, {x: x, y: y, button: event.button,\n",
       "                             step: event.step,\n",
       "                             guiEvent: simpleKeys(event)});\n",
       "\n",
       "    /* This prevents the web browser from automatically changing to\n",
       "     * the text insertion cursor when the button is pressed.  We want\n",
       "     * to control all of the cursor setting manually through the\n",
       "     * 'cursor' event from matplotlib */\n",
       "    event.preventDefault();\n",
       "    return false;\n",
       "}\n",
       "\n",
       "mpl.figure.prototype._key_event_extra = function(event, name) {\n",
       "    // Handle any extra behaviour associated with a key event\n",
       "}\n",
       "\n",
       "mpl.figure.prototype.key_event = function(event, name) {\n",
       "\n",
       "    // Prevent repeat events\n",
       "    if (name == 'key_press')\n",
       "    {\n",
       "        if (event.which === this._key)\n",
       "            return;\n",
       "        else\n",
       "            this._key = event.which;\n",
       "    }\n",
       "    if (name == 'key_release')\n",
       "        this._key = null;\n",
       "\n",
       "    var value = '';\n",
       "    if (event.ctrlKey && event.which != 17)\n",
       "        value += \"ctrl+\";\n",
       "    if (event.altKey && event.which != 18)\n",
       "        value += \"alt+\";\n",
       "    if (event.shiftKey && event.which != 16)\n",
       "        value += \"shift+\";\n",
       "\n",
       "    value += 'k';\n",
       "    value += event.which.toString();\n",
       "\n",
       "    this._key_event_extra(event, name);\n",
       "\n",
       "    this.send_message(name, {key: value,\n",
       "                             guiEvent: simpleKeys(event)});\n",
       "    return false;\n",
       "}\n",
       "\n",
       "mpl.figure.prototype.toolbar_button_onclick = function(name) {\n",
       "    if (name == 'download') {\n",
       "        this.handle_save(this, null);\n",
       "    } else {\n",
       "        this.send_message(\"toolbar_button\", {name: name});\n",
       "    }\n",
       "};\n",
       "\n",
       "mpl.figure.prototype.toolbar_button_onmouseover = function(tooltip) {\n",
       "    this.message.textContent = tooltip;\n",
       "};\n",
       "mpl.toolbar_items = [[\"Home\", \"Reset original view\", \"fa fa-home icon-home\", \"home\"], [\"Back\", \"Back to  previous view\", \"fa fa-arrow-left icon-arrow-left\", \"back\"], [\"Forward\", \"Forward to next view\", \"fa fa-arrow-right icon-arrow-right\", \"forward\"], [\"\", \"\", \"\", \"\"], [\"Pan\", \"Pan axes with left mouse, zoom with right\", \"fa fa-arrows icon-move\", \"pan\"], [\"Zoom\", \"Zoom to rectangle\", \"fa fa-square-o icon-check-empty\", \"zoom\"], [\"\", \"\", \"\", \"\"], [\"Download\", \"Download plot\", \"fa fa-floppy-o icon-save\", \"download\"]];\n",
       "\n",
       "mpl.extensions = [\"eps\", \"jpeg\", \"pdf\", \"png\", \"ps\", \"raw\", \"svg\", \"tif\"];\n",
       "\n",
       "mpl.default_extension = \"png\";var comm_websocket_adapter = function(comm) {\n",
       "    // Create a \"websocket\"-like object which calls the given IPython comm\n",
       "    // object with the appropriate methods. Currently this is a non binary\n",
       "    // socket, so there is still some room for performance tuning.\n",
       "    var ws = {};\n",
       "\n",
       "    ws.close = function() {\n",
       "        comm.close()\n",
       "    };\n",
       "    ws.send = function(m) {\n",
       "        //console.log('sending', m);\n",
       "        comm.send(m);\n",
       "    };\n",
       "    // Register the callback with on_msg.\n",
       "    comm.on_msg(function(msg) {\n",
       "        //console.log('receiving', msg['content']['data'], msg);\n",
       "        // Pass the mpl event to the overriden (by mpl) onmessage function.\n",
       "        ws.onmessage(msg['content']['data'])\n",
       "    });\n",
       "    return ws;\n",
       "}\n",
       "\n",
       "mpl.mpl_figure_comm = function(comm, msg) {\n",
       "    // This is the function which gets called when the mpl process\n",
       "    // starts-up an IPython Comm through the \"matplotlib\" channel.\n",
       "\n",
       "    var id = msg.content.data.id;\n",
       "    // Get hold of the div created by the display call when the Comm\n",
       "    // socket was opened in Python.\n",
       "    var element = $(\"#\" + id);\n",
       "    var ws_proxy = comm_websocket_adapter(comm)\n",
       "\n",
       "    function ondownload(figure, format) {\n",
       "        window.open(figure.imageObj.src);\n",
       "    }\n",
       "\n",
       "    var fig = new mpl.figure(id, ws_proxy,\n",
       "                           ondownload,\n",
       "                           element.get(0));\n",
       "\n",
       "    // Call onopen now - mpl needs it, as it is assuming we've passed it a real\n",
       "    // web socket which is closed, not our websocket->open comm proxy.\n",
       "    ws_proxy.onopen();\n",
       "\n",
       "    fig.parent_element = element.get(0);\n",
       "    fig.cell_info = mpl.find_output_cell(\"<div id='\" + id + \"'></div>\");\n",
       "    if (!fig.cell_info) {\n",
       "        console.error(\"Failed to find cell for figure\", id, fig);\n",
       "        return;\n",
       "    }\n",
       "\n",
       "    var output_index = fig.cell_info[2]\n",
       "    var cell = fig.cell_info[0];\n",
       "\n",
       "};\n",
       "\n",
       "mpl.figure.prototype.handle_close = function(fig, msg) {\n",
       "    var width = fig.canvas.width/mpl.ratio\n",
       "    fig.root.unbind('remove')\n",
       "\n",
       "    // Update the output cell to use the data from the current canvas.\n",
       "    fig.push_to_output();\n",
       "    var dataURL = fig.canvas.toDataURL();\n",
       "    // Re-enable the keyboard manager in IPython - without this line, in FF,\n",
       "    // the notebook keyboard shortcuts fail.\n",
       "    IPython.keyboard_manager.enable()\n",
       "    $(fig.parent_element).html('<img src=\"' + dataURL + '\" width=\"' + width + '\">');\n",
       "    fig.close_ws(fig, msg);\n",
       "}\n",
       "\n",
       "mpl.figure.prototype.close_ws = function(fig, msg){\n",
       "    fig.send_message('closing', msg);\n",
       "    // fig.ws.close()\n",
       "}\n",
       "\n",
       "mpl.figure.prototype.push_to_output = function(remove_interactive) {\n",
       "    // Turn the data on the canvas into data in the output cell.\n",
       "    var width = this.canvas.width/mpl.ratio\n",
       "    var dataURL = this.canvas.toDataURL();\n",
       "    this.cell_info[1]['text/html'] = '<img src=\"' + dataURL + '\" width=\"' + width + '\">';\n",
       "}\n",
       "\n",
       "mpl.figure.prototype.updated_canvas_event = function() {\n",
       "    // Tell IPython that the notebook contents must change.\n",
       "    IPython.notebook.set_dirty(true);\n",
       "    this.send_message(\"ack\", {});\n",
       "    var fig = this;\n",
       "    // Wait a second, then push the new image to the DOM so\n",
       "    // that it is saved nicely (might be nice to debounce this).\n",
       "    setTimeout(function () { fig.push_to_output() }, 1000);\n",
       "}\n",
       "\n",
       "mpl.figure.prototype._init_toolbar = function() {\n",
       "    var fig = this;\n",
       "\n",
       "    var nav_element = $('<div/>')\n",
       "    nav_element.attr('style', 'width: 100%');\n",
       "    this.root.append(nav_element);\n",
       "\n",
       "    // Define a callback function for later on.\n",
       "    function toolbar_event(event) {\n",
       "        return fig.toolbar_button_onclick(event['data']);\n",
       "    }\n",
       "    function toolbar_mouse_event(event) {\n",
       "        return fig.toolbar_button_onmouseover(event['data']);\n",
       "    }\n",
       "\n",
       "    for(var toolbar_ind in mpl.toolbar_items){\n",
       "        var name = mpl.toolbar_items[toolbar_ind][0];\n",
       "        var tooltip = mpl.toolbar_items[toolbar_ind][1];\n",
       "        var image = mpl.toolbar_items[toolbar_ind][2];\n",
       "        var method_name = mpl.toolbar_items[toolbar_ind][3];\n",
       "\n",
       "        if (!name) { continue; };\n",
       "\n",
       "        var button = $('<button class=\"btn btn-default\" href=\"#\" title=\"' + name + '\"><i class=\"fa ' + image + ' fa-lg\"></i></button>');\n",
       "        button.click(method_name, toolbar_event);\n",
       "        button.mouseover(tooltip, toolbar_mouse_event);\n",
       "        nav_element.append(button);\n",
       "    }\n",
       "\n",
       "    // Add the status bar.\n",
       "    var status_bar = $('<span class=\"mpl-message\" style=\"text-align:right; float: right;\"/>');\n",
       "    nav_element.append(status_bar);\n",
       "    this.message = status_bar[0];\n",
       "\n",
       "    // Add the close button to the window.\n",
       "    var buttongrp = $('<div class=\"btn-group inline pull-right\"></div>');\n",
       "    var button = $('<button class=\"btn btn-mini btn-primary\" href=\"#\" title=\"Stop Interaction\"><i class=\"fa fa-power-off icon-remove icon-large\"></i></button>');\n",
       "    button.click(function (evt) { fig.handle_close(fig, {}); } );\n",
       "    button.mouseover('Stop Interaction', toolbar_mouse_event);\n",
       "    buttongrp.append(button);\n",
       "    var titlebar = this.root.find($('.ui-dialog-titlebar'));\n",
       "    titlebar.prepend(buttongrp);\n",
       "}\n",
       "\n",
       "mpl.figure.prototype._root_extra_style = function(el){\n",
       "    var fig = this\n",
       "    el.on(\"remove\", function(){\n",
       "\tfig.close_ws(fig, {});\n",
       "    });\n",
       "}\n",
       "\n",
       "mpl.figure.prototype._canvas_extra_style = function(el){\n",
       "    // this is important to make the div 'focusable\n",
       "    el.attr('tabindex', 0)\n",
       "    // reach out to IPython and tell the keyboard manager to turn it's self\n",
       "    // off when our div gets focus\n",
       "\n",
       "    // location in version 3\n",
       "    if (IPython.notebook.keyboard_manager) {\n",
       "        IPython.notebook.keyboard_manager.register_events(el);\n",
       "    }\n",
       "    else {\n",
       "        // location in version 2\n",
       "        IPython.keyboard_manager.register_events(el);\n",
       "    }\n",
       "\n",
       "}\n",
       "\n",
       "mpl.figure.prototype._key_event_extra = function(event, name) {\n",
       "    var manager = IPython.notebook.keyboard_manager;\n",
       "    if (!manager)\n",
       "        manager = IPython.keyboard_manager;\n",
       "\n",
       "    // Check for shift+enter\n",
       "    if (event.shiftKey && event.which == 13) {\n",
       "        this.canvas_div.blur();\n",
       "        event.shiftKey = false;\n",
       "        // Send a \"J\" for go to next cell\n",
       "        event.which = 74;\n",
       "        event.keyCode = 74;\n",
       "        manager.command_mode();\n",
       "        manager.handle_keydown(event);\n",
       "    }\n",
       "}\n",
       "\n",
       "mpl.figure.prototype.handle_save = function(fig, msg) {\n",
       "    fig.ondownload(fig, null);\n",
       "}\n",
       "\n",
       "\n",
       "mpl.find_output_cell = function(html_output) {\n",
       "    // Return the cell and output element which can be found *uniquely* in the notebook.\n",
       "    // Note - this is a bit hacky, but it is done because the \"notebook_saving.Notebook\"\n",
       "    // IPython event is triggered only after the cells have been serialised, which for\n",
       "    // our purposes (turning an active figure into a static one), is too late.\n",
       "    var cells = IPython.notebook.get_cells();\n",
       "    var ncells = cells.length;\n",
       "    for (var i=0; i<ncells; i++) {\n",
       "        var cell = cells[i];\n",
       "        if (cell.cell_type === 'code'){\n",
       "            for (var j=0; j<cell.output_area.outputs.length; j++) {\n",
       "                var data = cell.output_area.outputs[j];\n",
       "                if (data.data) {\n",
       "                    // IPython >= 3 moved mimebundle to data attribute of output\n",
       "                    data = data.data;\n",
       "                }\n",
       "                if (data['text/html'] == html_output) {\n",
       "                    return [cell, data, j];\n",
       "                }\n",
       "            }\n",
       "        }\n",
       "    }\n",
       "}\n",
       "\n",
       "// Register the function which deals with the matplotlib target/channel.\n",
       "// The kernel may be null if the page has been refreshed.\n",
       "if (IPython.notebook.kernel != null) {\n",
       "    IPython.notebook.kernel.comm_manager.register_target('matplotlib', mpl.mpl_figure_comm);\n",
       "}\n"
      ],
      "text/plain": [
       "<IPython.core.display.Javascript object>"
      ]
     },
     "metadata": {},
     "output_type": "display_data"
    },
    {
     "data": {
      "text/html": [
       "<img src=\"data:image/png;base64,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\" width=\"576\">"
      ],
      "text/plain": [
       "<IPython.core.display.HTML object>"
      ]
     },
     "metadata": {},
     "output_type": "display_data"
    }
   ],
   "source": [
    "%matplotlib notebook\n",
    "from mpl_toolkits.mplot3d import Axes3D\n",
    "fig = plt.figure(figsize=(8,8))\n",
    "ax = Axes3D(fig)\n",
    "# ax = plt.axes(projection='3d')\n",
    "ax.scatter(df_train_pca[:,2], df_train_pca[:,0], df_train_pca[:,1], c=y_train.map({0:'green',1:'red'}))"
   ]
  },
  {
   "cell_type": "markdown",
   "metadata": {},
   "source": [
    "#### So let's try building the model with just 3 principal components!"
   ]
  },
  {
   "cell_type": "code",
   "execution_count": 212,
   "metadata": {},
   "outputs": [
    {
     "data": {
      "text/plain": [
       "(2110, 3)"
      ]
     },
     "execution_count": 212,
     "metadata": {},
     "output_type": "execute_result"
    }
   ],
   "source": [
    "pca_last = PCA(n_components=3)\n",
    "df_train_pca3 = pca_last.fit_transform(X_train)\n",
    "df_test_pca3 = pca_last.transform(X_test)\n",
    "df_test_pca3.shape"
   ]
  },
  {
   "cell_type": "code",
   "execution_count": 213,
   "metadata": {
    "scrolled": true
   },
   "outputs": [
    {
     "data": {
      "text/plain": [
       "'0.82'"
      ]
     },
     "execution_count": 213,
     "metadata": {},
     "output_type": "execute_result"
    }
   ],
   "source": [
    "#training the regression model\n",
    "learner_pca3 = LogisticRegression()\n",
    "model_pca3 = learner_pca3.fit(df_train_pca3,y_train)\n",
    "#Making prediction on the test data\n",
    "pred_probs_test3 = model_pca3.predict_proba(df_test_pca3)[:,1]\n",
    "\"{:2.2f}\".format(metrics.roc_auc_score(y_test, pred_probs_test3))"
   ]
  },
  {
   "cell_type": "markdown",
   "metadata": {},
   "source": [
    "#### 0.82! Isn't that just amazing!"
   ]
  }
 ],
 "metadata": {
  "kernelspec": {
   "display_name": "Python 3",
   "language": "python",
   "name": "python3"
  },
  "language_info": {
   "codemirror_mode": {
    "name": "ipython",
    "version": 3
   },
   "file_extension": ".py",
   "mimetype": "text/x-python",
   "name": "python",
   "nbconvert_exporter": "python",
   "pygments_lexer": "ipython3",
<<<<<<< HEAD
   "version": "3.6.4"
=======
   "version": "3.6.3"
>>>>>>> 0babd9b7f7856a5c3329236ca5ef143ccacff2db
  }
 },
 "nbformat": 4,
 "nbformat_minor": 2
}
