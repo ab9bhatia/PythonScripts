{
 "cells": [
  {
   "cell_type": "markdown",
   "metadata": {},
   "source": [
    "# Part-1 HMMs and Viterbi algorithm for POS tagging\n",
    "***"
   ]
  },
  {
   "cell_type": "markdown",
   "metadata": {},
   "source": [
    "__[Ankit Bhatia](https://www.linkedin.com/in/ab9bhatia/)__"
   ]
  },
  {
   "cell_type": "markdown",
   "metadata": {},
   "source": [
    "## Import Libraries"
   ]
  },
  {
   "cell_type": "code",
   "execution_count": 34,
   "metadata": {},
   "outputs": [],
   "source": [
    "# import libaries\n",
    "import numpy as np\n",
    "import pandas as pd\n",
    "import nltk, pprint\n",
    "import matplotlib.pyplot as plt\n",
    "%matplotlib inline\n",
    "from nltk.tokenize import word_tokenize\n",
    "\n",
    "import seaborn as sns\n",
    "import random\n",
    "\n",
    "import gzip, os, pickle # gzip for reading the gz files, pickle to save/dump trained model \n",
    "import _pickle as cPickle\n",
    "\n",
    "import sklearn\n",
    "from sklearn.model_selection import GridSearchCV\n",
    "from sklearn.grid_search import RandomizedSearchCV\n",
    "\n",
    "# train-test split\n",
    "from sklearn.model_selection import train_test_split\n",
    "\n",
    "import time"
   ]
  },
  {
   "cell_type": "markdown",
   "metadata": {},
   "source": [
    "## Data Preprocessing"
   ]
  },
  {
   "cell_type": "code",
   "execution_count": 35,
   "metadata": {},
   "outputs": [],
   "source": [
    "# reading the Treebank tagged sentences\n",
    "data = list(nltk.corpus.treebank.tagged_sents(tagset='universal'))"
   ]
  },
  {
   "cell_type": "code",
   "execution_count": 36,
   "metadata": {},
   "outputs": [
    {
     "name": "stdout",
     "output_type": "stream",
     "text": [
      "Number of Sentences in the corpus:: 3914 \n",
      "\n",
      "[[('Pierre', 'NOUN'), ('Vinken', 'NOUN'), (',', '.'), ('61', 'NUM'), ('years', 'NOUN'), ('old', 'ADJ'), (',', '.'), ('will', 'VERB'), ('join', 'VERB'), ('the', 'DET'), ('board', 'NOUN'), ('as', 'ADP'), ('a', 'DET'), ('nonexecutive', 'ADJ'), ('director', 'NOUN'), ('Nov.', 'NOUN'), ('29', 'NUM'), ('.', '.')], [('Mr.', 'NOUN'), ('Vinken', 'NOUN'), ('is', 'VERB'), ('chairman', 'NOUN'), ('of', 'ADP'), ('Elsevier', 'NOUN'), ('N.V.', 'NOUN'), (',', '.'), ('the', 'DET'), ('Dutch', 'NOUN'), ('publishing', 'VERB'), ('group', 'NOUN'), ('.', '.')]]\n"
     ]
    }
   ],
   "source": [
    "print('Number of Sentences in the corpus::',len(data),'\\n')\n",
    "# print first two tagged sentences\n",
    "print(data[0:2])"
   ]
  },
  {
   "cell_type": "code",
   "execution_count": 37,
   "metadata": {},
   "outputs": [],
   "source": [
    "# Splitting into train and test\n",
    "train_set, test_set = train_test_split(data,test_size=0.05, random_state=27)"
   ]
  },
  {
   "cell_type": "code",
   "execution_count": 38,
   "metadata": {},
   "outputs": [
    {
     "name": "stdout",
     "output_type": "stream",
     "text": [
      "Number of tagged words in the training set:: 95783\n"
     ]
    }
   ],
   "source": [
    "# Getting list of tagged words\n",
    "train_tagged_words = [tup for sent in train_set for tup in sent]\n",
    "print('Number of tagged words in the training set::',len(train_tagged_words))"
   ]
  },
  {
   "cell_type": "code",
   "execution_count": 39,
   "metadata": {},
   "outputs": [
    {
     "name": "stdout",
     "output_type": "stream",
     "text": [
      "Number of unique words:: 12083 \n",
      "\n",
      "['*-1', 'Funded', '*-2', 'by', 'a', '$', '1', 'million', '*U*', 'gift']\n"
     ]
    }
   ],
   "source": [
    "# Vocabulary \n",
    "tokens = [pair[0] for pair in train_tagged_words]\n",
    "V = set(tokens)\n",
    "print('Number of unique words::',len(V),'\\n')\n",
    "print(tokens[0:10])"
   ]
  },
  {
   "cell_type": "code",
   "execution_count": 40,
   "metadata": {},
   "outputs": [
    {
     "name": "stdout",
     "output_type": "stream",
     "text": [
      "Number of tags:: 12 \n",
      "\n",
      "{'DET', 'X', 'PRON', '.', 'PRT', 'CONJ', 'ADJ', 'NUM', 'VERB', 'NOUN', 'ADP', 'ADV'}\n"
     ]
    }
   ],
   "source": [
    "# Number of Tags\n",
    "T = set([pair[1] for pair in train_tagged_words])\n",
    "print('Number of tags::',len(T),'\\n')\n",
    "print(T)"
   ]
  },
  {
   "cell_type": "markdown",
   "metadata": {},
   "source": [
    "### POS Tagging Algorithm - HMM\n",
    "\n",
    "We'll use the HMM algorithm to tag the words. Given a sequence of words to be tagged, the task is to assign the most probable tag to the word. \n",
    "\n",
    "In other words, to every word w, assign the tag t that maximises the likelihood P(t/w). Since P(t/w) = P(w/t). P(t) / P(w), after ignoring P(w), we have to compute P(w/t) and P(t).\n",
    "\n",
    "\n",
    "P(w/t) is basically the probability that given a tag (say NN), what is the probability of it being w (say 'building'). This can be computed by computing the fraction of all NNs which are equal to w, i.e. \n",
    "\n",
    "P(w/t) = count(w, t) / count(t). \n",
    "\n",
    "\n",
    "The term P(t) is the probability of tag t, and in a tagging task, we assume that a tag will depend only on the previous tag. In other words, the probability of a tag being NN will depend only on the previous tag t(n-1). So for e.g. if t(n-1) is a JJ, then t(n) is likely to be an NN since adjectives often precede a noun (blue coat, tall building etc.).\n",
    "\n",
    "\n",
    "Given the penn treebank tagged dataset, we can compute the two terms P(w/t) and P(t) and store them in two large matrices. The matrix of P(w/t) will be sparse, since each word will not be seen with most tags ever, and those terms will thus be zero. \n"
   ]
  },
  {
   "cell_type": "markdown",
   "metadata": {},
   "source": [
    "### Emission Probabilities"
   ]
  },
  {
   "cell_type": "code",
   "execution_count": 41,
   "metadata": {},
   "outputs": [],
   "source": [
    "# computing P(w/t) and storing in T x V matrix\n",
    "t = len(T)\n",
    "v = len(V)\n",
    "w_given_t = np.zeros((t, v))"
   ]
  },
  {
   "cell_type": "code",
   "execution_count": 42,
   "metadata": {},
   "outputs": [],
   "source": [
    "# compute word given tag: Emission Probability\n",
    "def word_given_tag(word, tag, train_bag = train_tagged_words):\n",
    "    tag_list = [pair for pair in train_bag if pair[1]==tag]\n",
    "    count_tag = len(tag_list)\n",
    "    w_given_tag_list = [pair[0] for pair in tag_list if pair[0]==word]\n",
    "    count_w_given_tag = len(w_given_tag_list)\n",
    "    \n",
    "    return (count_w_given_tag, count_tag)"
   ]
  },
  {
   "cell_type": "markdown",
   "metadata": {},
   "source": [
    "### Transition Probabilities"
   ]
  },
  {
   "cell_type": "code",
   "execution_count": 43,
   "metadata": {},
   "outputs": [],
   "source": [
    "# compute tag given tag: tag2(t2) given tag1 (t1), i.e. Transition Probability\n",
    "\n",
    "def t2_given_t1(t2, t1, train_bag = train_tagged_words):\n",
    "    tags = [pair[1] for pair in train_bag]\n",
    "    count_t1 = len([t for t in tags if t==t1])\n",
    "    count_t2_t1 = 0\n",
    "    for index in range(len(tags)-1):\n",
    "        if tags[index]==t1 and tags[index+1] == t2:\n",
    "            count_t2_t1 += 1\n",
    "    return (count_t2_t1, count_t1)"
   ]
  },
  {
   "cell_type": "code",
   "execution_count": 44,
   "metadata": {},
   "outputs": [],
   "source": [
    "# creating t x t transition matrix of tags\n",
    "# each column is t2, each row is t1\n",
    "# thus M(i, j) represents P(tj given ti)\n",
    "\n",
    "tags_matrix = np.zeros((len(T), len(T)), dtype='float32')\n",
    "for i, t1 in enumerate(list(T)):\n",
    "    for j, t2 in enumerate(list(T)): \n",
    "        tags_matrix[i, j] = t2_given_t1(t2, t1)[0]/t2_given_t1(t2, t1)[1]"
   ]
  },
  {
   "cell_type": "markdown",
   "metadata": {},
   "source": [
    "## Exploratory Data Analysis"
   ]
  },
  {
   "cell_type": "code",
   "execution_count": 45,
   "metadata": {},
   "outputs": [
    {
     "data": {
      "text/html": [
       "<div>\n",
       "<style scoped>\n",
       "    .dataframe tbody tr th:only-of-type {\n",
       "        vertical-align: middle;\n",
       "    }\n",
       "\n",
       "    .dataframe tbody tr th {\n",
       "        vertical-align: top;\n",
       "    }\n",
       "\n",
       "    .dataframe thead th {\n",
       "        text-align: right;\n",
       "    }\n",
       "</style>\n",
       "<table border=\"1\" class=\"dataframe\">\n",
       "  <thead>\n",
       "    <tr style=\"text-align: right;\">\n",
       "      <th></th>\n",
       "      <th>DET</th>\n",
       "      <th>X</th>\n",
       "      <th>PRON</th>\n",
       "      <th>.</th>\n",
       "      <th>PRT</th>\n",
       "      <th>CONJ</th>\n",
       "      <th>ADJ</th>\n",
       "      <th>NUM</th>\n",
       "      <th>VERB</th>\n",
       "      <th>NOUN</th>\n",
       "      <th>ADP</th>\n",
       "      <th>ADV</th>\n",
       "    </tr>\n",
       "  </thead>\n",
       "  <tbody>\n",
       "    <tr>\n",
       "      <th>DET</th>\n",
       "      <td>0.005671</td>\n",
       "      <td>0.046211</td>\n",
       "      <td>0.003378</td>\n",
       "      <td>0.017616</td>\n",
       "      <td>0.000241</td>\n",
       "      <td>0.000362</td>\n",
       "      <td>0.204151</td>\n",
       "      <td>0.022201</td>\n",
       "      <td>0.039213</td>\n",
       "      <td>0.639479</td>\n",
       "      <td>0.008567</td>\n",
       "      <td>0.012910</td>\n",
       "    </tr>\n",
       "    <tr>\n",
       "      <th>X</th>\n",
       "      <td>0.054779</td>\n",
       "      <td>0.075262</td>\n",
       "      <td>0.055414</td>\n",
       "      <td>0.164814</td>\n",
       "      <td>0.182915</td>\n",
       "      <td>0.009844</td>\n",
       "      <td>0.017466</td>\n",
       "      <td>0.002858</td>\n",
       "      <td>0.204827</td>\n",
       "      <td>0.062083</td>\n",
       "      <td>0.143538</td>\n",
       "      <td>0.026199</td>\n",
       "    </tr>\n",
       "    <tr>\n",
       "      <th>PRON</th>\n",
       "      <td>0.009590</td>\n",
       "      <td>0.093594</td>\n",
       "      <td>0.007672</td>\n",
       "      <td>0.041427</td>\n",
       "      <td>0.013042</td>\n",
       "      <td>0.004987</td>\n",
       "      <td>0.071730</td>\n",
       "      <td>0.006521</td>\n",
       "      <td>0.484465</td>\n",
       "      <td>0.209820</td>\n",
       "      <td>0.023782</td>\n",
       "      <td>0.033372</td>\n",
       "    </tr>\n",
       "    <tr>\n",
       "      <th>.</th>\n",
       "      <td>0.174201</td>\n",
       "      <td>0.027661</td>\n",
       "      <td>0.066064</td>\n",
       "      <td>0.093098</td>\n",
       "      <td>0.002506</td>\n",
       "      <td>0.057828</td>\n",
       "      <td>0.044311</td>\n",
       "      <td>0.081103</td>\n",
       "      <td>0.088801</td>\n",
       "      <td>0.221466</td>\n",
       "      <td>0.091039</td>\n",
       "      <td>0.051831</td>\n",
       "    </tr>\n",
       "    <tr>\n",
       "      <th>PRT</th>\n",
       "      <td>0.100000</td>\n",
       "      <td>0.013399</td>\n",
       "      <td>0.017647</td>\n",
       "      <td>0.043137</td>\n",
       "      <td>0.001961</td>\n",
       "      <td>0.002288</td>\n",
       "      <td>0.085621</td>\n",
       "      <td>0.058497</td>\n",
       "      <td>0.400327</td>\n",
       "      <td>0.246732</td>\n",
       "      <td>0.020588</td>\n",
       "      <td>0.009804</td>\n",
       "    </tr>\n",
       "    <tr>\n",
       "      <th>CONJ</th>\n",
       "      <td>0.118110</td>\n",
       "      <td>0.008800</td>\n",
       "      <td>0.058360</td>\n",
       "      <td>0.037054</td>\n",
       "      <td>0.004632</td>\n",
       "      <td>0.000463</td>\n",
       "      <td>0.117184</td>\n",
       "      <td>0.040760</td>\n",
       "      <td>0.157017</td>\n",
       "      <td>0.351088</td>\n",
       "      <td>0.050950</td>\n",
       "      <td>0.055581</td>\n",
       "    </tr>\n",
       "    <tr>\n",
       "      <th>ADJ</th>\n",
       "      <td>0.004618</td>\n",
       "      <td>0.021112</td>\n",
       "      <td>0.000660</td>\n",
       "      <td>0.065149</td>\n",
       "      <td>0.010886</td>\n",
       "      <td>0.017153</td>\n",
       "      <td>0.066304</td>\n",
       "      <td>0.020617</td>\n",
       "      <td>0.012040</td>\n",
       "      <td>0.698334</td>\n",
       "      <td>0.078179</td>\n",
       "      <td>0.004948</td>\n",
       "    </tr>\n",
       "    <tr>\n",
       "      <th>NUM</th>\n",
       "      <td>0.002960</td>\n",
       "      <td>0.210776</td>\n",
       "      <td>0.001480</td>\n",
       "      <td>0.116933</td>\n",
       "      <td>0.028123</td>\n",
       "      <td>0.013914</td>\n",
       "      <td>0.032564</td>\n",
       "      <td>0.185909</td>\n",
       "      <td>0.018058</td>\n",
       "      <td>0.352279</td>\n",
       "      <td>0.034340</td>\n",
       "      <td>0.002664</td>\n",
       "    </tr>\n",
       "    <tr>\n",
       "      <th>VERB</th>\n",
       "      <td>0.134532</td>\n",
       "      <td>0.217529</td>\n",
       "      <td>0.035725</td>\n",
       "      <td>0.034950</td>\n",
       "      <td>0.030998</td>\n",
       "      <td>0.005502</td>\n",
       "      <td>0.064864</td>\n",
       "      <td>0.022706</td>\n",
       "      <td>0.169637</td>\n",
       "      <td>0.110431</td>\n",
       "      <td>0.091057</td>\n",
       "      <td>0.082068</td>\n",
       "    </tr>\n",
       "    <tr>\n",
       "      <th>NOUN</th>\n",
       "      <td>0.013100</td>\n",
       "      <td>0.028638</td>\n",
       "      <td>0.004767</td>\n",
       "      <td>0.240130</td>\n",
       "      <td>0.044067</td>\n",
       "      <td>0.042793</td>\n",
       "      <td>0.011972</td>\n",
       "      <td>0.009607</td>\n",
       "      <td>0.146283</td>\n",
       "      <td>0.264947</td>\n",
       "      <td>0.176449</td>\n",
       "      <td>0.017248</td>\n",
       "    </tr>\n",
       "    <tr>\n",
       "      <th>ADP</th>\n",
       "      <td>0.323105</td>\n",
       "      <td>0.035069</td>\n",
       "      <td>0.068962</td>\n",
       "      <td>0.039987</td>\n",
       "      <td>0.001390</td>\n",
       "      <td>0.000748</td>\n",
       "      <td>0.106276</td>\n",
       "      <td>0.062119</td>\n",
       "      <td>0.008446</td>\n",
       "      <td>0.324174</td>\n",
       "      <td>0.016679</td>\n",
       "      <td>0.013044</td>\n",
       "    </tr>\n",
       "    <tr>\n",
       "      <th>ADV</th>\n",
       "      <td>0.068851</td>\n",
       "      <td>0.021516</td>\n",
       "      <td>0.015227</td>\n",
       "      <td>0.136710</td>\n",
       "      <td>0.014234</td>\n",
       "      <td>0.007282</td>\n",
       "      <td>0.129758</td>\n",
       "      <td>0.031447</td>\n",
       "      <td>0.346905</td>\n",
       "      <td>0.031116</td>\n",
       "      <td>0.117842</td>\n",
       "      <td>0.079113</td>\n",
       "    </tr>\n",
       "  </tbody>\n",
       "</table>\n",
       "</div>"
      ],
      "text/plain": [
       "           DET         X      PRON         .       PRT      CONJ       ADJ  \\\n",
       "DET   0.005671  0.046211  0.003378  0.017616  0.000241  0.000362  0.204151   \n",
       "X     0.054779  0.075262  0.055414  0.164814  0.182915  0.009844  0.017466   \n",
       "PRON  0.009590  0.093594  0.007672  0.041427  0.013042  0.004987  0.071730   \n",
       ".     0.174201  0.027661  0.066064  0.093098  0.002506  0.057828  0.044311   \n",
       "PRT   0.100000  0.013399  0.017647  0.043137  0.001961  0.002288  0.085621   \n",
       "CONJ  0.118110  0.008800  0.058360  0.037054  0.004632  0.000463  0.117184   \n",
       "ADJ   0.004618  0.021112  0.000660  0.065149  0.010886  0.017153  0.066304   \n",
       "NUM   0.002960  0.210776  0.001480  0.116933  0.028123  0.013914  0.032564   \n",
       "VERB  0.134532  0.217529  0.035725  0.034950  0.030998  0.005502  0.064864   \n",
       "NOUN  0.013100  0.028638  0.004767  0.240130  0.044067  0.042793  0.011972   \n",
       "ADP   0.323105  0.035069  0.068962  0.039987  0.001390  0.000748  0.106276   \n",
       "ADV   0.068851  0.021516  0.015227  0.136710  0.014234  0.007282  0.129758   \n",
       "\n",
       "           NUM      VERB      NOUN       ADP       ADV  \n",
       "DET   0.022201  0.039213  0.639479  0.008567  0.012910  \n",
       "X     0.002858  0.204827  0.062083  0.143538  0.026199  \n",
       "PRON  0.006521  0.484465  0.209820  0.023782  0.033372  \n",
       ".     0.081103  0.088801  0.221466  0.091039  0.051831  \n",
       "PRT   0.058497  0.400327  0.246732  0.020588  0.009804  \n",
       "CONJ  0.040760  0.157017  0.351088  0.050950  0.055581  \n",
       "ADJ   0.020617  0.012040  0.698334  0.078179  0.004948  \n",
       "NUM   0.185909  0.018058  0.352279  0.034340  0.002664  \n",
       "VERB  0.022706  0.169637  0.110431  0.091057  0.082068  \n",
       "NOUN  0.009607  0.146283  0.264947  0.176449  0.017248  \n",
       "ADP   0.062119  0.008446  0.324174  0.016679  0.013044  \n",
       "ADV   0.031447  0.346905  0.031116  0.117842  0.079113  "
      ]
     },
     "execution_count": 45,
     "metadata": {},
     "output_type": "execute_result"
    }
   ],
   "source": [
    "# convert the matrix to a df for better readability\n",
    "tags_df = pd.DataFrame(tags_matrix, columns = list(T), index=list(T))\n",
    "tags_df"
   ]
  },
  {
   "cell_type": "code",
   "execution_count": 46,
   "metadata": {},
   "outputs": [
    {
     "data": {
      "text/plain": [
       "DET     0.174201\n",
       "X       0.027661\n",
       "PRON    0.066064\n",
       ".       0.093098\n",
       "PRT     0.002506\n",
       "CONJ    0.057828\n",
       "ADJ     0.044311\n",
       "NUM     0.081103\n",
       "VERB    0.088801\n",
       "NOUN    0.221466\n",
       "ADP     0.091039\n",
       "ADV     0.051831\n",
       "Name: ., dtype: float32"
      ]
     },
     "execution_count": 46,
     "metadata": {},
     "output_type": "execute_result"
    }
   ],
   "source": [
    "tags_df.loc['.', :]"
   ]
  },
  {
   "cell_type": "code",
   "execution_count": 47,
   "metadata": {},
   "outputs": [
    {
     "data": {
      "image/png": "[encoded data removed]",
      "text/plain": [
       "<matplotlib.figure.Figure at 0x2386594cbe0>"
      ]
     },
     "metadata": {},
     "output_type": "display_data"
    }
   ],
   "source": [
    "# heatmap of tags matrix\n",
    "# T(i, j) means P(tag j given tag i)\n",
    "plt.figure(figsize=(18, 10))\n",
    "sns.heatmap(tags_df, cmap=\"YlGnBu\",annot=True)\n",
    "plt.show()"
   ]
  },
  {
   "cell_type": "code",
   "execution_count": 48,
   "metadata": {},
   "outputs": [
    {
     "data": {
      "image/png": "[encoded data removed]",
      "text/plain": [
       "<matplotlib.figure.Figure at 0x23866072438>"
      ]
     },
     "metadata": {},
     "output_type": "display_data"
    }
   ],
   "source": [
    "# frequent tags\n",
    "# filter the df to get P(t2, t1) > 0.5\n",
    "tags_frequent = tags_df[tags_df>0.5]\n",
    "plt.figure(figsize=(18, 10))\n",
    "sns.heatmap(tags_frequent, cmap=\"YlGnBu\",annot=True)\n",
    "plt.show()"
   ]
  },
  {
   "cell_type": "markdown",
   "metadata": {},
   "source": [
    "## Build the vanilla Viterbi based POS tagger"
   ]
  },
  {
   "cell_type": "markdown",
   "metadata": {},
   "source": [
    "### Viterbi Algorithm\n",
    "\n",
    "Let's now use the computed probabilities P(w, tag) and P(t2, t1) to assign tags to each word in the document. We'll run through each word w and compute P(tag/w)=P(w/tag).P(tag) for each tag in the tag set, and then assign the tag having the max P(tag/w).\n",
    "\n",
    "We'll store the assigned tags in a list of tuples, similar to the list 'train_tagged_words'. Each tuple will be a (token, assigned_tag). As we progress further in the list, each tag to be assigned will use the tag of the previous token.\n",
    "\n",
    "Note: P(tag|start) = P(tag|'.') "
   ]
  },
  {
   "cell_type": "markdown",
   "metadata": {},
   "source": [
    "### Vanila Viterbi"
   ]
  },
  {
   "cell_type": "code",
   "execution_count": 49,
   "metadata": {},
   "outputs": [],
   "source": [
    "def Viterbi(test_bag, train_bag = train_tagged_words):\n",
    "    start = time.time()\n",
    "    state = []\n",
    "    T = list(set([pair[1] for pair in train_bag]))\n",
    "    \n",
    "    for key, word in enumerate(test_bag):\n",
    "        #initialise list of probability column for a given observation\n",
    "        p = [] \n",
    "        for tag in T:\n",
    "            if key == 0:\n",
    "                transition_p = tags_df.loc['.', tag]\n",
    "            else:\n",
    "                transition_p = tags_df.loc[state[-1], tag]\n",
    "                \n",
    "            # compute emission and state probabilities\n",
    "            emission_p = word_given_tag(test_bag[key], tag)[0]/word_given_tag(test_bag[key], tag)[1]\n",
    "            state_probability = emission_p * transition_p    \n",
    "            p.append(state_probability)\n",
    "            \n",
    "        pmax = max(p)\n",
    "        # getting state for which probability is maximum\n",
    "        state_max = T[p.index(pmax)] \n",
    "        state.append(state_max)\n",
    "        end = time.time()\n",
    "        Execution_Time = end-start\n",
    "    return list(zip(test_bag, state)),Execution_Time"
   ]
  },
  {
   "cell_type": "markdown",
   "metadata": {},
   "source": [
    "### Test Data preparion\n",
    "#### Running on entire test dataset would take more than 3-4hrs. \n",
    "#### So we will run Viterbi algorithm on 5 random sample sentences of test dataset"
   ]
  },
  {
   "cell_type": "code",
   "execution_count": 50,
   "metadata": {},
   "outputs": [],
   "source": [
    "random.seed(27)\n",
    "\n",
    "# choose random 5 sents\n",
    "rndom = [random.randint(1,len(test_set)) for x in range(5)]\n",
    "\n",
    "# list of sents\n",
    "test_run = [test_set[i] for i in rndom]\n",
    "\n",
    "# list of tagged words\n",
    "test_run_base = [tup for sent in test_run for tup in sent]\n",
    "\n",
    "# list of untagged words\n",
    "test_tagged_words = [tup[0] for sent in test_run for tup in sent]"
   ]
  },
  {
   "cell_type": "markdown",
   "metadata": {},
   "source": [
    "### Define Evaluation function to get the Accuracy & Incorrect Tageed cases"
   ]
  },
  {
   "cell_type": "code",
   "execution_count": 51,
   "metadata": {},
   "outputs": [],
   "source": [
    "def getEvaluation(tagged_seq,test_run_base):\n",
    "    check = [i for i, j in zip(tagged_seq, test_run_base) if i == j] \n",
    "    accuracy = len(check)/len(tagged_seq)\n",
    "    incorrect_tagged_cases = [[test_run_base[i-1],j] for i, j in enumerate(zip(tagged_seq, test_run_base)) if j[0]!=j[1]]\n",
    "    count_incorrect_tagged_cases = len(incorrect_tagged_cases)\n",
    "    return accuracy,incorrect_tagged_cases,count_incorrect_tagged_cases"
   ]
  },
  {
   "cell_type": "markdown",
   "metadata": {},
   "source": [
    "### Create a Dataframe to save the Performance matrix."
   ]
  },
  {
   "cell_type": "code",
   "execution_count": 52,
   "metadata": {},
   "outputs": [],
   "source": [
    "model_summary = pd.DataFrame(columns=['Accuracy','Count Incorrect Tagged Cases','Execution Time'])"
   ]
  },
  {
   "cell_type": "markdown",
   "metadata": {},
   "source": [
    "## Model Summary of Vanila Viterbi"
   ]
  },
  {
   "cell_type": "code",
   "execution_count": 53,
   "metadata": {},
   "outputs": [
    {
     "data": {
      "text/html": [
       "<div>\n",
       "<style scoped>\n",
       "    .dataframe tbody tr th:only-of-type {\n",
       "        vertical-align: middle;\n",
       "    }\n",
       "\n",
       "    .dataframe tbody tr th {\n",
       "        vertical-align: top;\n",
       "    }\n",
       "\n",
       "    .dataframe thead th {\n",
       "        text-align: right;\n",
       "    }\n",
       "</style>\n",
       "<table border=\"1\" class=\"dataframe\">\n",
       "  <thead>\n",
       "    <tr style=\"text-align: right;\">\n",
       "      <th></th>\n",
       "      <th>Accuracy</th>\n",
       "      <th>Count Incorrect Tagged Cases</th>\n",
       "      <th>Execution Time</th>\n",
       "    </tr>\n",
       "  </thead>\n",
       "  <tbody>\n",
       "    <tr>\n",
       "      <th>Viterbi Vanila</th>\n",
       "      <td>0.872093</td>\n",
       "      <td>11.0</td>\n",
       "      <td>15.005658</td>\n",
       "    </tr>\n",
       "  </tbody>\n",
       "</table>\n",
       "</div>"
      ],
      "text/plain": [
       "                Accuracy  Count Incorrect Tagged Cases  Execution Time\n",
       "Viterbi Vanila  0.872093                          11.0       15.005658"
      ]
     },
     "metadata": {},
     "output_type": "display_data"
    },
    {
     "name": "stdout",
     "output_type": "stream",
     "text": [
      "\n",
      " Incorrect Tagges Cases::\n"
     ]
    },
    {
     "data": {
      "text/plain": [
       "[[('The', 'DET'), (('FT', 'DET'), ('FT', 'NOUN'))],\n",
       " [('FT', 'NOUN'), (('30-share', 'DET'), ('30-share', 'ADJ'))],\n",
       " [('at', 'ADP'), (('1738.1', 'DET'), ('1738.1', 'NUM'))],\n",
       " [('not', 'ADV'), (('profit', 'VERB'), ('profit', 'NOUN'))],\n",
       " [('The', 'DET'), (('average', 'ADJ'), ('average', 'NOUN'))],\n",
       " [('on', 'ADP'), (('quotations', 'DET'), ('quotations', 'NOUN'))],\n",
       " [('electronic', 'ADJ'), (('giveaways', 'DET'), ('giveaways', 'NOUN'))],\n",
       " [('to', 'PRT'), (('subscribers', 'DET'), ('subscribers', 'NOUN'))],\n",
       " [('as', 'ADP'), (('telephones', 'DET'), ('telephones', 'NOUN'))],\n",
       " [('are', 'VERB'), (('unneeded', 'DET'), ('unneeded', 'ADJ'))],\n",
       " [('even', 'ADV'), (('harmful', 'DET'), ('harmful', 'ADJ'))]]"
      ]
     },
     "execution_count": 53,
     "metadata": {},
     "output_type": "execute_result"
    }
   ],
   "source": [
    "# Execute Viterbi-Advance\n",
    "tagged_seq,Execution_Time = Viterbi(test_bag = test_tagged_words)\n",
    "\n",
    "# Performance Matrix\n",
    "accuracy,incorrect_tagged_cases,count_incorrect_tagged_cases = getEvaluation(tagged_seq,test_run_base)\n",
    "\n",
    "#Save in Dataframe\n",
    "model_summary.loc['Viterbi Vanila'] = [accuracy,count_incorrect_tagged_cases,Execution_Time]\n",
    "\n",
    "# Display Results\n",
    "display(model_summary[model_summary.index=='Viterbi Vanila'])\n",
    "print('\\n','Incorrect Tagges Cases::')\n",
    "incorrect_tagged_cases"
   ]
  },
  {
   "cell_type": "markdown",
   "metadata": {},
   "source": [
    "## Solve the Problem of Unknown Words :: Improve the performance \n",
    "The vanilla Viterbi algorithm we had written had resulted in ~87% accuracy. The approx. 13% loss of accuracy was majorly due to the fact that when the algorithm encountered an unknown word (i.e. not present in the training set, such as 'Twitter'), it assigned an incorrect tag arbitrarily.\n",
    "Let's modify the Viterbi Algorithm by including the methods that can resolve the issue of unknown words."
   ]
  },
  {
   "cell_type": "markdown",
   "metadata": {},
   "source": [
    "### 1. Unigram Tagging\n",
    "Unigram taggers are based on a simple statistical algorithm: for each token, assign the tag that is most likely for that particular token. For example, it will assign the tag JJ to any occurrence of the word _frequent_, since _frequent_ is used as an adjective (e.g. a _frequent_ word) more often than it is used as a verb (e.g. I _frequent_ this cafe). A unigram tagger behaves just like a lookup tagger (4), except there is a more convenient technique for setting it up, called training. In the following code sample, we train a unigram tagger, use it to tag a sentence, then evaluate:"
   ]
  },
  {
   "cell_type": "code",
   "execution_count": 54,
   "metadata": {},
   "outputs": [],
   "source": [
    "unigram_tagger = nltk.UnigramTagger(train_set)"
   ]
  },
  {
   "cell_type": "markdown",
   "metadata": {},
   "source": [
    "### 2. N-Gram Tagging\n",
    "An n-gram tagger is a generalization of a unigram tagger whose context is the current word together with the part-of-speech tags of the n-1 preceding tokens."
   ]
  },
  {
   "cell_type": "code",
   "execution_count": 55,
   "metadata": {},
   "outputs": [],
   "source": [
    "bigram_tagger = nltk.BigramTagger(train_set)"
   ]
  },
  {
   "cell_type": "markdown",
   "metadata": {},
   "source": [
    "### 3. Rule Based changes to improve the performance.\n",
    "\n",
    "The regular expression tagger assigns tags to tokens on the basis of matching patterns. For instance, we might guess that any word ending in ed is the past participle of a verb, and any word ending with 's is a possessive noun. We can express these as a list of regular expressions:"
   ]
  },
  {
   "cell_type": "code",
   "execution_count": 56,
   "metadata": {},
   "outputs": [],
   "source": [
    "patterns = [\n",
    "    (r'.*ing$', 'VERB'),              # gerund\n",
    "    (r'.*ed$', 'VERB'),               # past tense\n",
    "    (r'.*es$', 'VERB'),               # 3rd singular present\n",
    "    (r'.*ould$', 'VERB'),              # modals\n",
    "    (r'.*\\'s$', 'NOUN'),              # possessive nouns\n",
    "    (r'.*s$', 'NOUN'),                # plural nouns\n",
    "    (r'^-?[0-9]+(.[0-9]+)?$', 'NUM'), # cardinal numbers\n",
    "    (r'.*', 'NOUN')                    # nouns\n",
    "]"
   ]
  },
  {
   "cell_type": "markdown",
   "metadata": {},
   "source": [
    "The final regular expression «.*» is a catch-all that tags everything as a noun."
   ]
  },
  {
   "cell_type": "code",
   "execution_count": 57,
   "metadata": {},
   "outputs": [],
   "source": [
    "rule_based_tagger = nltk.RegexpTagger(patterns)"
   ]
  },
  {
   "cell_type": "markdown",
   "metadata": {},
   "source": [
    "### 4. Combination of Taggers\n",
    "One way to address the trade-off between accuracy and coverage is to use the more accurate algorithms when we can, but to fall back on algorithms with wider coverage when necessary. For example, we could combine the results of a bigram tagger, a unigram tagger, and a default tagger."
   ]
  },
  {
   "cell_type": "code",
   "execution_count": 58,
   "metadata": {},
   "outputs": [],
   "source": [
    "combo_tagger = nltk.UnigramTagger(train_set, backoff=rule_based_tagger)"
   ]
  },
  {
   "cell_type": "markdown",
   "metadata": {},
   "source": [
    "## Modification in Viterbi algorithm to incorporate the above changes"
   ]
  },
  {
   "cell_type": "code",
   "execution_count": 59,
   "metadata": {},
   "outputs": [],
   "source": [
    "def Viterbi_Advance(test_bag,train_bag = train_tagged_words, tagger=0):\n",
    "    \"\"\"\n",
    "    tagger = 0 for default Viterbi Algorithm-default\n",
    "             1 for Unigram Tagger\n",
    "             2 for Bigram Tagger\n",
    "             3 for Rule Based Tagged\n",
    "             4 for Combination taggers(combination of Unigram & Rule-based )\n",
    "    \"\"\"\n",
    "    start = time.time()\n",
    "    state = []\n",
    "    newTag = []\n",
    "    T = list(set([pair[1] for pair in train_bag]))\n",
    "    \n",
    "    wordsSet = set([pair[0] for pair in train_bag])\n",
    "    \n",
    "    for key, word in enumerate(test_bag):\n",
    "        #initialise list of probability column for a given observation\n",
    "        p = [] \n",
    "        \n",
    "        unknownWord = word  not in  wordsSet   \n",
    "        \n",
    "        if(unknownWord == True):\n",
    "            if tagger == 1:\n",
    "                newTag = unigram_tagger.tag([word])[0][1]\n",
    "            elif tagger == 2:\n",
    "                newTag = bigram_tagger.tag([word])[0][1]\n",
    "            elif tagger == 3:\n",
    "                newTag = rule_based_tagger.tag([word])[0][1] \n",
    "            elif tagger == 4:\n",
    "                newTag = combo_tagger.tag([word])[0][1]\n",
    "            else:\n",
    "                pass\n",
    "            \n",
    "       \n",
    "        for tag in T:\n",
    "            if(unknownWord == True):\n",
    "                if ( tag == newTag):\n",
    "                    state_probability = 1;\n",
    "                else:\n",
    "                    state_probability = 0\n",
    "                                   \n",
    "            else:\n",
    "                                       \n",
    "                if key == 0:\n",
    "                    transition_p = tags_df.loc['.', tag]\n",
    "                else:\n",
    "                    transition_p = tags_df.loc[state[-1], tag]\n",
    "                    # compute emission and state probabilities\n",
    "                result = word_given_tag(test_bag[key], tag)\n",
    "                emission_p = result[0]/result[1]\n",
    "                state_probability = emission_p * transition_p   \n",
    "                \n",
    "            p.append(state_probability)\n",
    "            \n",
    "        pmax = max(p)\n",
    "        # getting state for which probability is maximum\n",
    "        state_max = T[p.index(pmax)] \n",
    "        state.append(state_max)\n",
    "        end = time.time()\n",
    "        Execution_Time = end-start\n",
    "    return list(zip(test_bag, state)),Execution_Time"
   ]
  },
  {
   "cell_type": "markdown",
   "metadata": {},
   "source": [
    "### Model Summary of  Viterbi Unigram Tagger"
   ]
  },
  {
   "cell_type": "code",
   "execution_count": 60,
   "metadata": {},
   "outputs": [
    {
     "data": {
      "text/html": [
       "<div>\n",
       "<style scoped>\n",
       "    .dataframe tbody tr th:only-of-type {\n",
       "        vertical-align: middle;\n",
       "    }\n",
       "\n",
       "    .dataframe tbody tr th {\n",
       "        vertical-align: top;\n",
       "    }\n",
       "\n",
       "    .dataframe thead th {\n",
       "        text-align: right;\n",
       "    }\n",
       "</style>\n",
       "<table border=\"1\" class=\"dataframe\">\n",
       "  <thead>\n",
       "    <tr style=\"text-align: right;\">\n",
       "      <th></th>\n",
       "      <th>Accuracy</th>\n",
       "      <th>Count Incorrect Tagged Cases</th>\n",
       "      <th>Execution Time</th>\n",
       "    </tr>\n",
       "  </thead>\n",
       "  <tbody>\n",
       "    <tr>\n",
       "      <th>Viterbi Unigram</th>\n",
       "      <td>0.872093</td>\n",
       "      <td>11.0</td>\n",
       "      <td>6.804796</td>\n",
       "    </tr>\n",
       "  </tbody>\n",
       "</table>\n",
       "</div>"
      ],
      "text/plain": [
       "                 Accuracy  Count Incorrect Tagged Cases  Execution Time\n",
       "Viterbi Unigram  0.872093                          11.0        6.804796"
      ]
     },
     "metadata": {},
     "output_type": "display_data"
    }
   ],
   "source": [
    "# Execute Viterbi-Advance\n",
    "tagged_seq,Execution_Time = Viterbi_Advance(test_bag = test_tagged_words,tagger=1)\n",
    "\n",
    "# Performance Matrix\n",
    "accuracy,incorrect_tagged_cases_unigram,count_incorrect_tagged_cases = getEvaluation(tagged_seq,test_run_base)\n",
    "\n",
    "#Save in Dataframe\n",
    "model_summary.loc['Viterbi Unigram'] = [accuracy,count_incorrect_tagged_cases,Execution_Time]\n",
    "\n",
    "# Display Results\n",
    "display(model_summary[model_summary.index=='Viterbi Unigram'])"
   ]
  },
  {
   "cell_type": "markdown",
   "metadata": {},
   "source": [
    "### Model Summary of  Bigram Tagger"
   ]
  },
  {
   "cell_type": "code",
   "execution_count": 61,
   "metadata": {},
   "outputs": [
    {
     "data": {
      "text/html": [
       "<div>\n",
       "<style scoped>\n",
       "    .dataframe tbody tr th:only-of-type {\n",
       "        vertical-align: middle;\n",
       "    }\n",
       "\n",
       "    .dataframe tbody tr th {\n",
       "        vertical-align: top;\n",
       "    }\n",
       "\n",
       "    .dataframe thead th {\n",
       "        text-align: right;\n",
       "    }\n",
       "</style>\n",
       "<table border=\"1\" class=\"dataframe\">\n",
       "  <thead>\n",
       "    <tr style=\"text-align: right;\">\n",
       "      <th></th>\n",
       "      <th>Accuracy</th>\n",
       "      <th>Count Incorrect Tagged Cases</th>\n",
       "      <th>Execution Time</th>\n",
       "    </tr>\n",
       "  </thead>\n",
       "  <tbody>\n",
       "    <tr>\n",
       "      <th>Viterbi Bigram</th>\n",
       "      <td>0.872093</td>\n",
       "      <td>11.0</td>\n",
       "      <td>6.917703</td>\n",
       "    </tr>\n",
       "  </tbody>\n",
       "</table>\n",
       "</div>"
      ],
      "text/plain": [
       "                Accuracy  Count Incorrect Tagged Cases  Execution Time\n",
       "Viterbi Bigram  0.872093                          11.0        6.917703"
      ]
     },
     "metadata": {},
     "output_type": "display_data"
    }
   ],
   "source": [
    "# Execute Viterbi-Advance\n",
    "tagged_seq,Execution_Time = Viterbi_Advance(test_bag = test_tagged_words,tagger=2)\n",
    "\n",
    "# Performance Matrix\n",
    "accuracy,incorrect_tagged_cases_bigram,count_incorrect_tagged_cases = getEvaluation(tagged_seq,test_run_base)\n",
    "\n",
    "#Save in Dataframe\n",
    "model_summary.loc['Viterbi Bigram'] = [accuracy,count_incorrect_tagged_cases,Execution_Time]\n",
    "\n",
    "# Display Results\n",
    "display(model_summary[model_summary.index=='Viterbi Bigram'])"
   ]
  },
  {
   "cell_type": "markdown",
   "metadata": {},
   "source": [
    "### Model Summary of  Rule Based Tagger"
   ]
  },
  {
   "cell_type": "code",
   "execution_count": 62,
   "metadata": {},
   "outputs": [
    {
     "data": {
      "text/html": [
       "<div>\n",
       "<style scoped>\n",
       "    .dataframe tbody tr th:only-of-type {\n",
       "        vertical-align: middle;\n",
       "    }\n",
       "\n",
       "    .dataframe tbody tr th {\n",
       "        vertical-align: top;\n",
       "    }\n",
       "\n",
       "    .dataframe thead th {\n",
       "        text-align: right;\n",
       "    }\n",
       "</style>\n",
       "<table border=\"1\" class=\"dataframe\">\n",
       "  <thead>\n",
       "    <tr style=\"text-align: right;\">\n",
       "      <th></th>\n",
       "      <th>Accuracy</th>\n",
       "      <th>Count Incorrect Tagged Cases</th>\n",
       "      <th>Execution Time</th>\n",
       "    </tr>\n",
       "  </thead>\n",
       "  <tbody>\n",
       "    <tr>\n",
       "      <th>Viterbi Rule Based</th>\n",
       "      <td>0.930233</td>\n",
       "      <td>6.0</td>\n",
       "      <td>6.829791</td>\n",
       "    </tr>\n",
       "  </tbody>\n",
       "</table>\n",
       "</div>"
      ],
      "text/plain": [
       "                    Accuracy  Count Incorrect Tagged Cases  Execution Time\n",
       "Viterbi Rule Based  0.930233                           6.0        6.829791"
      ]
     },
     "metadata": {},
     "output_type": "display_data"
    }
   ],
   "source": [
    "# Execute Viterbi-Advance\n",
    "tagged_seq,Execution_Time = Viterbi_Advance(test_bag = test_tagged_words,tagger=3)\n",
    "\n",
    "# Performance Matrix\n",
    "accuracy,incorrect_tagged_cases_rule_based,count_incorrect_tagged_cases = getEvaluation(tagged_seq,test_run_base)\n",
    "\n",
    "#Save in Dataframe\n",
    "model_summary.loc['Viterbi Rule Based'] = [accuracy,count_incorrect_tagged_cases,Execution_Time]\n",
    "\n",
    "# Display Results\n",
    "display(model_summary[model_summary.index=='Viterbi Rule Based'])"
   ]
  },
  {
   "cell_type": "markdown",
   "metadata": {},
   "source": [
    "### Model Summary of  Combined Tagger(Combination of Unigram & Rule Based Tagger)"
   ]
  },
  {
   "cell_type": "code",
   "execution_count": 63,
   "metadata": {},
   "outputs": [
    {
     "data": {
      "text/html": [
       "<div>\n",
       "<style scoped>\n",
       "    .dataframe tbody tr th:only-of-type {\n",
       "        vertical-align: middle;\n",
       "    }\n",
       "\n",
       "    .dataframe tbody tr th {\n",
       "        vertical-align: top;\n",
       "    }\n",
       "\n",
       "    .dataframe thead th {\n",
       "        text-align: right;\n",
       "    }\n",
       "</style>\n",
       "<table border=\"1\" class=\"dataframe\">\n",
       "  <thead>\n",
       "    <tr style=\"text-align: right;\">\n",
       "      <th></th>\n",
       "      <th>Accuracy</th>\n",
       "      <th>Count Incorrect Tagged Cases</th>\n",
       "      <th>Execution Time</th>\n",
       "    </tr>\n",
       "  </thead>\n",
       "  <tbody>\n",
       "    <tr>\n",
       "      <th>Viterbi Combination of Unigram and Rule Based</th>\n",
       "      <td>0.930233</td>\n",
       "      <td>6.0</td>\n",
       "      <td>6.879919</td>\n",
       "    </tr>\n",
       "  </tbody>\n",
       "</table>\n",
       "</div>"
      ],
      "text/plain": [
       "                                               Accuracy  \\\n",
       "Viterbi Combination of Unigram and Rule Based  0.930233   \n",
       "\n",
       "                                               Count Incorrect Tagged Cases  \\\n",
       "Viterbi Combination of Unigram and Rule Based                           6.0   \n",
       "\n",
       "                                               Execution Time  \n",
       "Viterbi Combination of Unigram and Rule Based        6.879919  "
      ]
     },
     "metadata": {},
     "output_type": "display_data"
    }
   ],
   "source": [
    "# Execute Viterbi-Advance\n",
    "tagged_seq,Execution_Time = Viterbi_Advance(test_bag = test_tagged_words,tagger=4)\n",
    "\n",
    "# Performance Matrix\n",
    "accuracy,incorrect_tagged_cases_combo,count_incorrect_tagged_cases = getEvaluation(tagged_seq,test_run_base)\n",
    "\n",
    "#Save in Dataframe\n",
    "model_summary.loc['Viterbi Combination of Unigram and Rule Based'] = [accuracy,count_incorrect_tagged_cases,Execution_Time]\n",
    "\n",
    "# Display Results\n",
    "display(model_summary[model_summary.index=='Viterbi Combination of Unigram and Rule Based'])"
   ]
  },
  {
   "cell_type": "markdown",
   "metadata": {},
   "source": [
    "## Compare the tagging accuracies of the modifications with the vanilla Viterbi algorithm"
   ]
  },
  {
   "cell_type": "markdown",
   "metadata": {},
   "source": [
    "#### If we compare the Vanila Viterbi Algorithm with Viterbi_Advanced_Combination, Accuracy has been increased from 89% to 95% & Count of Incorrect Tagged Cases has been reduced from 15 to 6."
   ]
  },
  {
   "cell_type": "code",
   "execution_count": 64,
   "metadata": {},
   "outputs": [
    {
     "data": {
      "text/html": [
       "<div>\n",
       "<style scoped>\n",
       "    .dataframe tbody tr th:only-of-type {\n",
       "        vertical-align: middle;\n",
       "    }\n",
       "\n",
       "    .dataframe tbody tr th {\n",
       "        vertical-align: top;\n",
       "    }\n",
       "\n",
       "    .dataframe thead th {\n",
       "        text-align: right;\n",
       "    }\n",
       "</style>\n",
       "<table border=\"1\" class=\"dataframe\">\n",
       "  <thead>\n",
       "    <tr style=\"text-align: right;\">\n",
       "      <th></th>\n",
       "      <th>Accuracy</th>\n",
       "      <th>Count Incorrect Tagged Cases</th>\n",
       "      <th>Execution Time</th>\n",
       "    </tr>\n",
       "  </thead>\n",
       "  <tbody>\n",
       "    <tr>\n",
       "      <th>Viterbi Vanila</th>\n",
       "      <td>0.872093</td>\n",
       "      <td>11.0</td>\n",
       "      <td>15.005658</td>\n",
       "    </tr>\n",
       "    <tr>\n",
       "      <th>Viterbi Unigram</th>\n",
       "      <td>0.872093</td>\n",
       "      <td>11.0</td>\n",
       "      <td>6.804796</td>\n",
       "    </tr>\n",
       "    <tr>\n",
       "      <th>Viterbi Bigram</th>\n",
       "      <td>0.872093</td>\n",
       "      <td>11.0</td>\n",
       "      <td>6.917703</td>\n",
       "    </tr>\n",
       "    <tr>\n",
       "      <th>Viterbi Rule Based</th>\n",
       "      <td>0.930233</td>\n",
       "      <td>6.0</td>\n",
       "      <td>6.829791</td>\n",
       "    </tr>\n",
       "    <tr>\n",
       "      <th>Viterbi Combination of Unigram and Rule Based</th>\n",
       "      <td>0.930233</td>\n",
       "      <td>6.0</td>\n",
       "      <td>6.879919</td>\n",
       "    </tr>\n",
       "  </tbody>\n",
       "</table>\n",
       "</div>"
      ],
      "text/plain": [
       "                                               Accuracy  \\\n",
       "Viterbi Vanila                                 0.872093   \n",
       "Viterbi Unigram                                0.872093   \n",
       "Viterbi Bigram                                 0.872093   \n",
       "Viterbi Rule Based                             0.930233   \n",
       "Viterbi Combination of Unigram and Rule Based  0.930233   \n",
       "\n",
       "                                               Count Incorrect Tagged Cases  \\\n",
       "Viterbi Vanila                                                         11.0   \n",
       "Viterbi Unigram                                                        11.0   \n",
       "Viterbi Bigram                                                         11.0   \n",
       "Viterbi Rule Based                                                      6.0   \n",
       "Viterbi Combination of Unigram and Rule Based                           6.0   \n",
       "\n",
       "                                               Execution Time  \n",
       "Viterbi Vanila                                      15.005658  \n",
       "Viterbi Unigram                                      6.804796  \n",
       "Viterbi Bigram                                       6.917703  \n",
       "Viterbi Rule Based                                   6.829791  \n",
       "Viterbi Combination of Unigram and Rule Based        6.879919  "
      ]
     },
     "execution_count": 64,
     "metadata": {},
     "output_type": "execute_result"
    }
   ],
   "source": [
    "model_summary"
   ]
  },
  {
   "cell_type": "markdown",
   "metadata": {},
   "source": [
    "### Testing on Sample Sentences"
   ]
  },
  {
   "cell_type": "code",
   "execution_count": 65,
   "metadata": {},
   "outputs": [],
   "source": [
    "test_sentences = [\"Android is a mobile operating system developed by Google.\",\n",
    "\"Android has been the best-selling OS worldwide on smartphones since 2011 and on tablets since 2013.\",\n",
    "\"Google and Twitter made a deal in 2015 that gave Google access to Twitter's firehose.\",\n",
    "\"Twitter is an online news and social networking service on which users post and interact with messages known as tweets.\",\n",
    "\"Before entering politics, Donald Trump was a domineering businessman and a television personality.\",\n",
    "\"The 2018 FIFA World Cup is the 21st FIFA World Cup, an international football tournament contested once every four years.\",\n",
    "\"This is the first World Cup to be held in Eastern Europe and the 11th time that it has been held in Europe.\",\n",
    "\"Show me the cheapest round trips from Dallas to Atlanta\",\n",
    "\"I would like to see flights from Denver to Philadelphia.\",\n",
    "\"Show me the price of the flights leaving Atlanta at about 3 in the afternoon and arriving in San Francisco.\",\n",
    "\"NASA invited social media users to experience the launch of ICESAT-2 Satellite.\"]"
   ]
  },
  {
   "cell_type": "code",
   "execution_count": 66,
   "metadata": {},
   "outputs": [
    {
     "name": "stdout",
     "output_type": "stream",
     "text": [
      "Tagging with Vanila Veterbi\n",
      "----------------------------\n",
      "[('Android', 'DET'), ('is', 'VERB'), ('a', 'DET'), ('mobile', 'ADJ'), ('operating', 'NOUN'), ('system', 'NOUN'), ('developed', 'VERB'), ('by', 'ADP'), ('Google', 'DET'), ('.', '.')] \n",
      "\n",
      "Tagging with Vanila Advance Combination of Unigram and Rule Based\n",
      "-------------------------------------------------------------------\n",
      "[('Android', 'NOUN'), ('is', 'VERB'), ('a', 'DET'), ('mobile', 'ADJ'), ('operating', 'NOUN'), ('system', 'NOUN'), ('developed', 'VERB'), ('by', 'ADP'), ('Google', 'NOUN'), ('.', '.')] \n",
      "\n",
      "*****************************************************************************************************************************\n",
      "Tagging with Vanila Veterbi\n",
      "----------------------------\n",
      "[('Android', 'DET'), ('has', 'VERB'), ('been', 'VERB'), ('the', 'DET'), ('best-selling', 'ADJ'), ('OS', 'DET'), ('worldwide', 'DET'), ('on', 'ADP'), ('smartphones', 'DET'), ('since', 'ADP'), ('2011', 'DET'), ('and', 'CONJ'), ('on', 'ADP'), ('tablets', 'NOUN'), ('since', 'ADP'), ('2013', 'DET'), ('.', '.')] \n",
      "\n",
      "Tagging with Vanila Advance Combination of Unigram and Rule Based\n",
      "-------------------------------------------------------------------\n",
      "[('Android', 'NOUN'), ('has', 'VERB'), ('been', 'VERB'), ('the', 'DET'), ('best-selling', 'ADJ'), ('OS', 'NOUN'), ('worldwide', 'NOUN'), ('on', 'ADP'), ('smartphones', 'VERB'), ('since', 'ADP'), ('2011', 'NUM'), ('and', 'CONJ'), ('on', 'ADP'), ('tablets', 'NOUN'), ('since', 'ADP'), ('2013', 'NUM'), ('.', '.')] \n",
      "\n",
      "*****************************************************************************************************************************\n",
      "Tagging with Vanila Veterbi\n",
      "----------------------------\n",
      "[('Google', 'DET'), ('and', 'CONJ'), ('Twitter', 'DET'), ('made', 'VERB'), ('a', 'DET'), ('deal', 'NOUN'), ('in', 'ADP'), ('2015', 'DET'), ('that', 'ADP'), ('gave', 'VERB'), ('Google', 'DET'), ('access', 'NOUN'), ('to', 'PRT'), ('Twitter', 'DET'), (\"'s\", 'VERB'), ('firehose', 'DET'), ('.', '.')] \n",
      "\n",
      "Tagging with Vanila Advance Combination of Unigram and Rule Based\n",
      "-------------------------------------------------------------------\n",
      "[('Google', 'NOUN'), ('and', 'CONJ'), ('Twitter', 'NOUN'), ('made', 'VERB'), ('a', 'DET'), ('deal', 'NOUN'), ('in', 'ADP'), ('2015', 'NUM'), ('that', 'ADP'), ('gave', 'VERB'), ('Google', 'NOUN'), ('access', 'NOUN'), ('to', 'PRT'), ('Twitter', 'NOUN'), (\"'s\", 'PRT'), ('firehose', 'NOUN'), ('.', '.')] \n",
      "\n",
      "*****************************************************************************************************************************\n",
      "Tagging with Vanila Veterbi\n",
      "----------------------------\n",
      "[('Twitter', 'DET'), ('is', 'VERB'), ('an', 'DET'), ('online', 'DET'), ('news', 'NOUN'), ('and', 'CONJ'), ('social', 'ADJ'), ('networking', 'NOUN'), ('service', 'NOUN'), ('on', 'ADP'), ('which', 'DET'), ('users', 'NOUN'), ('post', 'NOUN'), ('and', 'CONJ'), ('interact', 'DET'), ('with', 'ADP'), ('messages', 'DET'), ('known', 'ADJ'), ('as', 'ADP'), ('tweets', 'DET'), ('.', '.')] \n",
      "\n",
      "Tagging with Vanila Advance Combination of Unigram and Rule Based\n",
      "-------------------------------------------------------------------\n",
      "[('Twitter', 'NOUN'), ('is', 'VERB'), ('an', 'DET'), ('online', 'NOUN'), ('news', 'NOUN'), ('and', 'CONJ'), ('social', 'ADJ'), ('networking', 'NOUN'), ('service', 'NOUN'), ('on', 'ADP'), ('which', 'DET'), ('users', 'NOUN'), ('post', 'NOUN'), ('and', 'CONJ'), ('interact', 'NOUN'), ('with', 'ADP'), ('messages', 'VERB'), ('known', 'VERB'), ('as', 'ADP'), ('tweets', 'NOUN'), ('.', '.')] \n",
      "\n",
      "*****************************************************************************************************************************\n",
      "Tagging with Vanila Veterbi\n",
      "----------------------------\n",
      "[('Before', 'ADP'), ('entering', 'VERB'), ('politics', 'NOUN'), (',', '.'), ('Donald', 'NOUN'), ('Trump', 'NOUN'), ('was', 'VERB'), ('a', 'DET'), ('domineering', 'DET'), ('businessman', 'NOUN'), ('and', 'CONJ'), ('a', 'DET'), ('television', 'NOUN'), ('personality', 'DET'), ('.', '.')] \n",
      "\n",
      "Tagging with Vanila Advance Combination of Unigram and Rule Based\n",
      "-------------------------------------------------------------------\n",
      "[('Before', 'ADP'), ('entering', 'VERB'), ('politics', 'NOUN'), (',', '.'), ('Donald', 'NOUN'), ('Trump', 'NOUN'), ('was', 'VERB'), ('a', 'DET'), ('domineering', 'VERB'), ('businessman', 'NOUN'), ('and', 'CONJ'), ('a', 'DET'), ('television', 'NOUN'), ('personality', 'NOUN'), ('.', '.')] \n",
      "\n",
      "*****************************************************************************************************************************\n",
      "Tagging with Vanila Veterbi\n",
      "----------------------------\n",
      "[('The', 'DET'), ('2018', 'DET'), ('FIFA', 'DET'), ('World', 'NOUN'), ('Cup', 'DET'), ('is', 'VERB'), ('the', 'DET'), ('21st', 'DET'), ('FIFA', 'DET'), ('World', 'NOUN'), ('Cup', 'DET'), (',', '.'), ('an', 'DET'), ('international', 'ADJ'), ('football', 'NOUN'), ('tournament', 'DET'), ('contested', 'DET'), ('once', 'ADV'), ('every', 'DET'), ('four', 'NUM'), ('years', 'NOUN'), ('.', '.')] \n",
      "\n",
      "Tagging with Vanila Advance Combination of Unigram and Rule Based\n",
      "-------------------------------------------------------------------\n",
      "[('The', 'DET'), ('2018', 'NUM'), ('FIFA', 'NOUN'), ('World', 'NOUN'), ('Cup', 'NOUN'), ('is', 'VERB'), ('the', 'DET'), ('21st', 'NOUN'), ('FIFA', 'NOUN'), ('World', 'NOUN'), ('Cup', 'NOUN'), (',', '.'), ('an', 'DET'), ('international', 'ADJ'), ('football', 'NOUN'), ('tournament', 'NOUN'), ('contested', 'VERB'), ('once', 'ADV'), ('every', 'DET'), ('four', 'NUM'), ('years', 'NOUN'), ('.', '.')] \n",
      "\n",
      "*****************************************************************************************************************************\n",
      "Tagging with Vanila Veterbi\n",
      "----------------------------\n",
      "[('This', 'DET'), ('is', 'VERB'), ('the', 'DET'), ('first', 'ADJ'), ('World', 'NOUN'), ('Cup', 'DET'), ('to', 'PRT'), ('be', 'VERB'), ('held', 'VERB'), ('in', 'ADP'), ('Eastern', 'NOUN'), ('Europe', 'NOUN'), ('and', 'CONJ'), ('the', 'DET'), ('11th', 'ADJ'), ('time', 'NOUN'), ('that', 'ADP'), ('it', 'PRON'), ('has', 'VERB'), ('been', 'VERB'), ('held', 'VERB'), ('in', 'ADP'), ('Europe', 'NOUN'), ('.', '.')] \n",
      "\n",
      "Tagging with Vanila Advance Combination of Unigram and Rule Based\n",
      "-------------------------------------------------------------------\n",
      "[('This', 'DET'), ('is', 'VERB'), ('the', 'DET'), ('first', 'ADJ'), ('World', 'NOUN'), ('Cup', 'NOUN'), ('to', 'PRT'), ('be', 'VERB'), ('held', 'VERB'), ('in', 'ADP'), ('Eastern', 'NOUN'), ('Europe', 'NOUN'), ('and', 'CONJ'), ('the', 'DET'), ('11th', 'ADJ'), ('time', 'NOUN'), ('that', 'ADP'), ('it', 'PRON'), ('has', 'VERB'), ('been', 'VERB'), ('held', 'VERB'), ('in', 'ADP'), ('Europe', 'NOUN'), ('.', '.')] \n",
      "\n",
      "*****************************************************************************************************************************\n",
      "Tagging with Vanila Veterbi\n",
      "----------------------------\n",
      "[('Show', 'NOUN'), ('me', 'PRON'), ('the', 'DET'), ('cheapest', 'ADJ'), ('round', 'NOUN'), ('trips', 'DET'), ('from', 'ADP'), ('Dallas', 'NOUN'), ('to', 'PRT'), ('Atlanta', 'NOUN')] \n",
      "\n",
      "Tagging with Vanila Advance Combination of Unigram and Rule Based\n",
      "-------------------------------------------------------------------\n",
      "[('Show', 'NOUN'), ('me', 'PRON'), ('the', 'DET'), ('cheapest', 'ADJ'), ('round', 'NOUN'), ('trips', 'NOUN'), ('from', 'ADP'), ('Dallas', 'NOUN'), ('to', 'PRT'), ('Atlanta', 'NOUN')] \n",
      "\n",
      "*****************************************************************************************************************************\n",
      "Tagging with Vanila Veterbi\n",
      "----------------------------\n",
      "[('I', 'PRON'), ('would', 'VERB'), ('like', 'ADP'), ('to', 'PRT'), ('see', 'VERB'), ('flights', 'NOUN'), ('from', 'ADP'), ('Denver', 'NOUN'), ('to', 'PRT'), ('Philadelphia', 'NOUN'), ('.', '.')] \n",
      "\n",
      "Tagging with Vanila Advance Combination of Unigram and Rule Based\n",
      "-------------------------------------------------------------------\n",
      "[('I', 'PRON'), ('would', 'VERB'), ('like', 'ADP'), ('to', 'PRT'), ('see', 'VERB'), ('flights', 'NOUN'), ('from', 'ADP'), ('Denver', 'NOUN'), ('to', 'PRT'), ('Philadelphia', 'NOUN'), ('.', '.')] \n",
      "\n",
      "*****************************************************************************************************************************\n",
      "Tagging with Vanila Veterbi\n",
      "----------------------------\n"
     ]
    },
    {
     "name": "stdout",
     "output_type": "stream",
     "text": [
      "[('Show', 'NOUN'), ('me', 'PRON'), ('the', 'DET'), ('price', 'NOUN'), ('of', 'ADP'), ('the', 'DET'), ('flights', 'NOUN'), ('leaving', 'VERB'), ('Atlanta', 'NOUN'), ('at', 'ADP'), ('about', 'ADP'), ('3', 'NUM'), ('in', 'ADP'), ('the', 'DET'), ('afternoon', 'NOUN'), ('and', 'CONJ'), ('arriving', 'DET'), ('in', 'ADP'), ('San', 'NOUN'), ('Francisco', 'NOUN'), ('.', '.')] \n",
      "\n",
      "Tagging with Vanila Advance Combination of Unigram and Rule Based\n",
      "-------------------------------------------------------------------\n",
      "[('Show', 'NOUN'), ('me', 'PRON'), ('the', 'DET'), ('price', 'NOUN'), ('of', 'ADP'), ('the', 'DET'), ('flights', 'NOUN'), ('leaving', 'VERB'), ('Atlanta', 'NOUN'), ('at', 'ADP'), ('about', 'ADP'), ('3', 'NUM'), ('in', 'ADP'), ('the', 'DET'), ('afternoon', 'NOUN'), ('and', 'CONJ'), ('arriving', 'VERB'), ('in', 'ADP'), ('San', 'NOUN'), ('Francisco', 'NOUN'), ('.', '.')] \n",
      "\n",
      "*****************************************************************************************************************************\n",
      "Tagging with Vanila Veterbi\n",
      "----------------------------\n",
      "[('NASA', 'DET'), ('invited', 'DET'), ('social', 'ADJ'), ('media', 'NOUN'), ('users', 'NOUN'), ('to', 'PRT'), ('experience', 'NOUN'), ('the', 'DET'), ('launch', 'NOUN'), ('of', 'ADP'), ('ICESAT-2', 'DET'), ('Satellite', 'DET'), ('.', '.')] \n",
      "\n",
      "Tagging with Vanila Advance Combination of Unigram and Rule Based\n",
      "-------------------------------------------------------------------\n",
      "[('NASA', 'NOUN'), ('invited', 'VERB'), ('social', 'ADJ'), ('media', 'NOUN'), ('users', 'NOUN'), ('to', 'PRT'), ('experience', 'NOUN'), ('the', 'DET'), ('launch', 'NOUN'), ('of', 'ADP'), ('ICESAT-2', 'NOUN'), ('Satellite', 'NOUN'), ('.', '.')] \n",
      "\n",
      "*****************************************************************************************************************************\n"
     ]
    }
   ],
   "source": [
    "## Testing With Vanilla_Viterbi\n",
    "for sentence  in test_sentences:\n",
    "    words = word_tokenize(sentence)\n",
    "    print(\"Tagging with Vanila Veterbi\")\n",
    "    print(\"-\"*28)\n",
    "    tagged_seq_vanila = Viterbi(words)\n",
    "    print(tagged_seq_vanila[0],'\\n')\n",
    "    print(\"Tagging with Vanila Advance Combination of Unigram and Rule Based\")\n",
    "    print(\"-\"*67)\n",
    "    tagged_seq_advance = Viterbi_Advance(words,tagger=4)\n",
    "    print(tagged_seq_advance[0],'\\n')\n",
    "    print(\"*\"*125)"
   ]
  },
  {
   "cell_type": "markdown",
   "metadata": {},
   "source": [
    "# CONCLUSION"
   ]
  },
  {
   "cell_type": "markdown",
   "metadata": {},
   "source": [
    "Most of the words in the test sentences such as Android, Google, FIFA were tagged as VERB in the Vanila Viterbi algorithm.This is corrected by using Advance Viterbi algorithm which consits of the combination of Unigram and Rule based tagging."
   ]
  }
 ],
 "metadata": {
  "kernelspec": {
   "display_name": "Python 3",
   "language": "python",
   "name": "python3"
  },
  "language_info": {
   "codemirror_mode": {
    "name": "ipython",
    "version": 3
   },
   "file_extension": ".py",
   "mimetype": "text/x-python",
   "name": "python",
   "nbconvert_exporter": "python",
   "pygments_lexer": "ipython3",
   "version": "3.6.4"
  }
 },
 "nbformat": 4,
 "nbformat_minor": 2
}
