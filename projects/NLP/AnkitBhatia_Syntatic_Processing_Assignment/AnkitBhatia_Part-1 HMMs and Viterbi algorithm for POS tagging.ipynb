{
 "cells": [
  {
   "cell_type": "markdown",
   "metadata": {},
   "source": [
    "# Part-1 HMMs and Viterbi algorithm for POS tagging\n",
    "***"
   ]
  },
  {
   "cell_type": "markdown",
   "metadata": {},
   "source": [
    "__[Ankit Bhatia](https://www.linkedin.com/in/ab9bhatia/)__"
   ]
  },
  {
   "cell_type": "markdown",
   "metadata": {},
   "source": [
    "## Prerequisite"
   ]
  },
  {
   "cell_type": "markdown",
   "metadata": {},
   "source": [
    "Download all __NLTK__ modules using __nltk.download()__"
   ]
  },
  {
   "cell_type": "markdown",
   "metadata": {},
   "source": [
    "## Import Libraries"
   ]
  },
  {
   "cell_type": "code",
   "execution_count": 1,
   "metadata": {},
   "outputs": [
    {
     "name": "stderr",
     "output_type": "stream",
     "text": [
      "C:\\Anaconda3_5.1\\lib\\site-packages\\sklearn\\cross_validation.py:41: DeprecationWarning: This module was deprecated in version 0.18 in favor of the model_selection module into which all the refactored classes and functions are moved. Also note that the interface of the new CV iterators are different from that of this module. This module will be removed in 0.20.\n",
      "  \"This module will be removed in 0.20.\", DeprecationWarning)\n",
      "C:\\Anaconda3_5.1\\lib\\site-packages\\sklearn\\grid_search.py:42: DeprecationWarning: This module was deprecated in version 0.18 in favor of the model_selection module into which all the refactored classes and functions are moved. This module will be removed in 0.20.\n",
      "  DeprecationWarning)\n"
     ]
    }
   ],
   "source": [
    "# import libaries\n",
    "import numpy as np\n",
    "import pandas as pd\n",
    "import nltk, pprint\n",
    "import matplotlib.pyplot as plt\n",
    "%matplotlib inline\n",
    "from nltk.tokenize import word_tokenize\n",
    "\n",
    "import seaborn as sns\n",
    "import random\n",
    "\n",
    "import gzip, os, pickle # gzip for reading the gz files, pickle to save/dump trained model \n",
    "import _pickle as cPickle\n",
    "\n",
    "import sklearn\n",
    "from sklearn.model_selection import GridSearchCV\n",
    "from sklearn.grid_search import RandomizedSearchCV\n",
    "\n",
    "# train-test split\n",
    "from sklearn.model_selection import train_test_split\n",
    "\n",
    "import time"
   ]
  },
  {
   "cell_type": "markdown",
   "metadata": {},
   "source": [
    "## Data Preprocessing"
   ]
  },
  {
   "cell_type": "code",
   "execution_count": 2,
   "metadata": {},
   "outputs": [],
   "source": [
    "# reading the Treebank tagged sentences\n",
    "data = list(nltk.corpus.treebank.tagged_sents(tagset='universal'))"
   ]
  },
  {
   "cell_type": "code",
   "execution_count": 3,
   "metadata": {},
   "outputs": [
    {
     "name": "stdout",
     "output_type": "stream",
     "text": [
      "Number of Sentences in the corpus:: 3914 \n",
      "\n",
      "[[('Pierre', 'NOUN'), ('Vinken', 'NOUN'), (',', '.'), ('61', 'NUM'), ('years', 'NOUN'), ('old', 'ADJ'), (',', '.'), ('will', 'VERB'), ('join', 'VERB'), ('the', 'DET'), ('board', 'NOUN'), ('as', 'ADP'), ('a', 'DET'), ('nonexecutive', 'ADJ'), ('director', 'NOUN'), ('Nov.', 'NOUN'), ('29', 'NUM'), ('.', '.')], [('Mr.', 'NOUN'), ('Vinken', 'NOUN'), ('is', 'VERB'), ('chairman', 'NOUN'), ('of', 'ADP'), ('Elsevier', 'NOUN'), ('N.V.', 'NOUN'), (',', '.'), ('the', 'DET'), ('Dutch', 'NOUN'), ('publishing', 'VERB'), ('group', 'NOUN'), ('.', '.')]]\n"
     ]
    }
   ],
   "source": [
    "print('Number of Sentences in the corpus::',len(data),'\\n')\n",
    "# print first two tagged sentences\n",
    "print(data[0:2])"
   ]
  },
  {
   "cell_type": "code",
   "execution_count": 4,
   "metadata": {},
   "outputs": [],
   "source": [
    "# Splitting into train and test\n",
    "train_set, test_set = train_test_split(data,test_size=0.05, random_state=27)"
   ]
  },
  {
   "cell_type": "code",
   "execution_count": 5,
   "metadata": {},
   "outputs": [
    {
     "name": "stdout",
     "output_type": "stream",
     "text": [
      "Number of tagged words in the training set:: 95475\n"
     ]
    }
   ],
   "source": [
    "# Getting list of tagged words\n",
    "train_tagged_words = [tup for sent in train_set for tup in sent]\n",
    "print('Number of tagged words in the training set::',len(train_tagged_words))"
   ]
  },
  {
   "cell_type": "code",
   "execution_count": 6,
   "metadata": {},
   "outputs": [
    {
     "name": "stdout",
     "output_type": "stream",
     "text": [
      "Number of unique words:: 12042 \n",
      "\n",
      "['Nissan', 'Motor', 'Co.', ',', 'Japan', \"'s\", 'second-largest', 'car', 'maker', ',']\n"
     ]
    }
   ],
   "source": [
    "# Vocabulary \n",
    "tokens = [pair[0] for pair in train_tagged_words]\n",
    "V = set(tokens)\n",
    "print('Number of unique words::',len(V),'\\n')\n",
    "print(tokens[0:10])"
   ]
  },
  {
   "cell_type": "code",
   "execution_count": 7,
   "metadata": {},
   "outputs": [
    {
     "name": "stdout",
     "output_type": "stream",
     "text": [
      "Number of tags:: 12 \n",
      "\n",
      "{'PRT', 'ADJ', 'CONJ', 'NUM', '.', 'X', 'ADV', 'VERB', 'ADP', 'PRON', 'NOUN', 'DET'}\n"
     ]
    }
   ],
   "source": [
    "# Number of Tags\n",
    "T = set([pair[1] for pair in train_tagged_words])\n",
    "print('Number of tags::',len(T),'\\n')\n",
    "print(T)"
   ]
  },
  {
   "cell_type": "markdown",
   "metadata": {},
   "source": [
    "### POS Tagging Algorithm - HMM\n",
    "\n",
    "We'll use the HMM algorithm to tag the words. Given a sequence of words to be tagged, the task is to assign the most probable tag to the word. \n",
    "\n",
    "In other words, to every word w, assign the tag t that maximises the likelihood P(t/w). Since P(t/w) = P(w/t). P(t) / P(w), after ignoring P(w), we have to compute P(w/t) and P(t).\n",
    "\n",
    "\n",
    "P(w/t) is basically the probability that given a tag (say NN), what is the probability of it being w (say 'building'). This can be computed by computing the fraction of all NNs which are equal to w, i.e. \n",
    "\n",
    "P(w/t) = count(w, t) / count(t). \n",
    "\n",
    "\n",
    "The term P(t) is the probability of tag t, and in a tagging task, we assume that a tag will depend only on the previous tag. In other words, the probability of a tag being NN will depend only on the previous tag t(n-1). So for e.g. if t(n-1) is a JJ, then t(n) is likely to be an NN since adjectives often precede a noun (blue coat, tall building etc.).\n",
    "\n",
    "\n",
    "Given the penn treebank tagged dataset, we can compute the two terms P(w/t) and P(t) and store them in two large matrices. The matrix of P(w/t) will be sparse, since each word will not be seen with most tags ever, and those terms will thus be zero. \n"
   ]
  },
  {
   "cell_type": "markdown",
   "metadata": {},
   "source": [
    "### Emission Probabilities"
   ]
  },
  {
   "cell_type": "code",
   "execution_count": 8,
   "metadata": {},
   "outputs": [],
   "source": [
    "# computing P(w/t) and storing in T x V matrix\n",
    "t = len(T)\n",
    "v = len(V)\n",
    "w_given_t = np.zeros((t, v))"
   ]
  },
  {
   "cell_type": "code",
   "execution_count": 9,
   "metadata": {},
   "outputs": [],
   "source": [
    "# compute word given tag: Emission Probability\n",
    "def word_given_tag(word, tag, train_bag = train_tagged_words):\n",
    "    tag_list = [pair for pair in train_bag if pair[1]==tag]\n",
    "    count_tag = len(tag_list)\n",
    "    w_given_tag_list = [pair[0] for pair in tag_list if pair[0]==word]\n",
    "    count_w_given_tag = len(w_given_tag_list)\n",
    "    \n",
    "    return (count_w_given_tag, count_tag)"
   ]
  },
  {
   "cell_type": "markdown",
   "metadata": {},
   "source": [
    "### Transition Probabilities"
   ]
  },
  {
   "cell_type": "code",
   "execution_count": 10,
   "metadata": {},
   "outputs": [],
   "source": [
    "# compute tag given tag: tag2(t2) given tag1 (t1), i.e. Transition Probability\n",
    "\n",
    "def t2_given_t1(t2, t1, train_bag = train_tagged_words):\n",
    "    tags = [pair[1] for pair in train_bag]\n",
    "    count_t1 = len([t for t in tags if t==t1])\n",
    "    count_t2_t1 = 0\n",
    "    for index in range(len(tags)-1):\n",
    "        if tags[index]==t1 and tags[index+1] == t2:\n",
    "            count_t2_t1 += 1\n",
    "    return (count_t2_t1, count_t1)"
   ]
  },
  {
   "cell_type": "code",
   "execution_count": 11,
   "metadata": {},
   "outputs": [],
   "source": [
    "# creating t x t transition matrix of tags\n",
    "# each column is t2, each row is t1\n",
    "# thus M(i, j) represents P(tj given ti)\n",
    "\n",
    "tags_matrix = np.zeros((len(T), len(T)), dtype='float32')\n",
    "for i, t1 in enumerate(list(T)):\n",
    "    for j, t2 in enumerate(list(T)): \n",
    "        tags_matrix[i, j] = t2_given_t1(t2, t1)[0]/t2_given_t1(t2, t1)[1]"
   ]
  },
  {
   "cell_type": "markdown",
   "metadata": {},
   "source": [
    "## Exploratory Data Analysis"
   ]
  },
  {
   "cell_type": "code",
   "execution_count": 12,
   "metadata": {},
   "outputs": [
    {
     "data": {
      "text/html": [
       "<div>\n",
       "<style scoped>\n",
       "    .dataframe tbody tr th:only-of-type {\n",
       "        vertical-align: middle;\n",
       "    }\n",
       "\n",
       "    .dataframe tbody tr th {\n",
       "        vertical-align: top;\n",
       "    }\n",
       "\n",
       "    .dataframe thead th {\n",
       "        text-align: right;\n",
       "    }\n",
       "</style>\n",
       "<table border=\"1\" class=\"dataframe\">\n",
       "  <thead>\n",
       "    <tr style=\"text-align: right;\">\n",
       "      <th></th>\n",
       "      <th>PRT</th>\n",
       "      <th>ADJ</th>\n",
       "      <th>CONJ</th>\n",
       "      <th>NUM</th>\n",
       "      <th>.</th>\n",
       "      <th>X</th>\n",
       "      <th>ADV</th>\n",
       "      <th>VERB</th>\n",
       "      <th>ADP</th>\n",
       "      <th>PRON</th>\n",
       "      <th>NOUN</th>\n",
       "      <th>DET</th>\n",
       "    </tr>\n",
       "  </thead>\n",
       "  <tbody>\n",
       "    <tr>\n",
       "      <th>PRT</th>\n",
       "      <td>0.001965</td>\n",
       "      <td>0.085789</td>\n",
       "      <td>0.001965</td>\n",
       "      <td>0.055992</td>\n",
       "      <td>0.043222</td>\n",
       "      <td>0.012443</td>\n",
       "      <td>0.009496</td>\n",
       "      <td>0.402423</td>\n",
       "      <td>0.020301</td>\n",
       "      <td>0.018009</td>\n",
       "      <td>0.246889</td>\n",
       "      <td>0.101506</td>\n",
       "    </tr>\n",
       "    <tr>\n",
       "      <th>ADJ</th>\n",
       "      <td>0.010772</td>\n",
       "      <td>0.066291</td>\n",
       "      <td>0.016573</td>\n",
       "      <td>0.020882</td>\n",
       "      <td>0.064965</td>\n",
       "      <td>0.021213</td>\n",
       "      <td>0.004475</td>\n",
       "      <td>0.012264</td>\n",
       "      <td>0.077395</td>\n",
       "      <td>0.000663</td>\n",
       "      <td>0.699867</td>\n",
       "      <td>0.004640</td>\n",
       "    </tr>\n",
       "    <tr>\n",
       "      <th>CONJ</th>\n",
       "      <td>0.005086</td>\n",
       "      <td>0.116967</td>\n",
       "      <td>0.000462</td>\n",
       "      <td>0.040222</td>\n",
       "      <td>0.036061</td>\n",
       "      <td>0.008784</td>\n",
       "      <td>0.054092</td>\n",
       "      <td>0.156264</td>\n",
       "      <td>0.054092</td>\n",
       "      <td>0.059177</td>\n",
       "      <td>0.349977</td>\n",
       "      <td>0.118816</td>\n",
       "    </tr>\n",
       "    <tr>\n",
       "      <th>NUM</th>\n",
       "      <td>0.026635</td>\n",
       "      <td>0.032850</td>\n",
       "      <td>0.013318</td>\n",
       "      <td>0.186150</td>\n",
       "      <td>0.116307</td>\n",
       "      <td>0.208642</td>\n",
       "      <td>0.001776</td>\n",
       "      <td>0.017757</td>\n",
       "      <td>0.035513</td>\n",
       "      <td>0.001480</td>\n",
       "      <td>0.356318</td>\n",
       "      <td>0.003255</td>\n",
       "    </tr>\n",
       "    <tr>\n",
       "      <th>.</th>\n",
       "      <td>0.002345</td>\n",
       "      <td>0.044192</td>\n",
       "      <td>0.058532</td>\n",
       "      <td>0.081710</td>\n",
       "      <td>0.092172</td>\n",
       "      <td>0.027507</td>\n",
       "      <td>0.052579</td>\n",
       "      <td>0.088654</td>\n",
       "      <td>0.091540</td>\n",
       "      <td>0.065206</td>\n",
       "      <td>0.221140</td>\n",
       "      <td>0.174333</td>\n",
       "    </tr>\n",
       "    <tr>\n",
       "      <th>X</th>\n",
       "      <td>0.185486</td>\n",
       "      <td>0.017225</td>\n",
       "      <td>0.010686</td>\n",
       "      <td>0.002711</td>\n",
       "      <td>0.161563</td>\n",
       "      <td>0.073844</td>\n",
       "      <td>0.025678</td>\n",
       "      <td>0.205582</td>\n",
       "      <td>0.144019</td>\n",
       "      <td>0.054864</td>\n",
       "      <td>0.063477</td>\n",
       "      <td>0.054864</td>\n",
       "    </tr>\n",
       "    <tr>\n",
       "      <th>ADV</th>\n",
       "      <td>0.014681</td>\n",
       "      <td>0.128128</td>\n",
       "      <td>0.006673</td>\n",
       "      <td>0.031698</td>\n",
       "      <td>0.136470</td>\n",
       "      <td>0.024024</td>\n",
       "      <td>0.078412</td>\n",
       "      <td>0.343677</td>\n",
       "      <td>0.118118</td>\n",
       "      <td>0.016016</td>\n",
       "      <td>0.033033</td>\n",
       "      <td>0.069069</td>\n",
       "    </tr>\n",
       "    <tr>\n",
       "      <th>VERB</th>\n",
       "      <td>0.031413</td>\n",
       "      <td>0.064847</td>\n",
       "      <td>0.005598</td>\n",
       "      <td>0.023326</td>\n",
       "      <td>0.034523</td>\n",
       "      <td>0.217790</td>\n",
       "      <td>0.082031</td>\n",
       "      <td>0.168261</td>\n",
       "      <td>0.091206</td>\n",
       "      <td>0.035767</td>\n",
       "      <td>0.110256</td>\n",
       "      <td>0.134982</td>\n",
       "    </tr>\n",
       "    <tr>\n",
       "      <th>ADP</th>\n",
       "      <td>0.001391</td>\n",
       "      <td>0.106012</td>\n",
       "      <td>0.000856</td>\n",
       "      <td>0.063222</td>\n",
       "      <td>0.039902</td>\n",
       "      <td>0.034446</td>\n",
       "      <td>0.013800</td>\n",
       "      <td>0.008344</td>\n",
       "      <td>0.017330</td>\n",
       "      <td>0.069106</td>\n",
       "      <td>0.322636</td>\n",
       "      <td>0.322957</td>\n",
       "    </tr>\n",
       "    <tr>\n",
       "      <th>PRON</th>\n",
       "      <td>0.012317</td>\n",
       "      <td>0.071594</td>\n",
       "      <td>0.004619</td>\n",
       "      <td>0.007313</td>\n",
       "      <td>0.041186</td>\n",
       "      <td>0.093918</td>\n",
       "      <td>0.034642</td>\n",
       "      <td>0.485758</td>\n",
       "      <td>0.021555</td>\n",
       "      <td>0.008083</td>\n",
       "      <td>0.209392</td>\n",
       "      <td>0.009623</td>\n",
       "    </tr>\n",
       "    <tr>\n",
       "      <th>NOUN</th>\n",
       "      <td>0.043708</td>\n",
       "      <td>0.012003</td>\n",
       "      <td>0.043088</td>\n",
       "      <td>0.009449</td>\n",
       "      <td>0.239921</td>\n",
       "      <td>0.029115</td>\n",
       "      <td>0.016929</td>\n",
       "      <td>0.146850</td>\n",
       "      <td>0.176657</td>\n",
       "      <td>0.004852</td>\n",
       "      <td>0.264366</td>\n",
       "      <td>0.013061</td>\n",
       "    </tr>\n",
       "    <tr>\n",
       "      <th>DET</th>\n",
       "      <td>0.000242</td>\n",
       "      <td>0.203771</td>\n",
       "      <td>0.000242</td>\n",
       "      <td>0.021634</td>\n",
       "      <td>0.018008</td>\n",
       "      <td>0.045323</td>\n",
       "      <td>0.012207</td>\n",
       "      <td>0.039763</td>\n",
       "      <td>0.009306</td>\n",
       "      <td>0.003747</td>\n",
       "      <td>0.640198</td>\n",
       "      <td>0.005560</td>\n",
       "    </tr>\n",
       "  </tbody>\n",
       "</table>\n",
       "</div>"
      ],
      "text/plain": [
       "           PRT       ADJ      CONJ       NUM         .         X       ADV  \\\n",
       "PRT   0.001965  0.085789  0.001965  0.055992  0.043222  0.012443  0.009496   \n",
       "ADJ   0.010772  0.066291  0.016573  0.020882  0.064965  0.021213  0.004475   \n",
       "CONJ  0.005086  0.116967  0.000462  0.040222  0.036061  0.008784  0.054092   \n",
       "NUM   0.026635  0.032850  0.013318  0.186150  0.116307  0.208642  0.001776   \n",
       ".     0.002345  0.044192  0.058532  0.081710  0.092172  0.027507  0.052579   \n",
       "X     0.185486  0.017225  0.010686  0.002711  0.161563  0.073844  0.025678   \n",
       "ADV   0.014681  0.128128  0.006673  0.031698  0.136470  0.024024  0.078412   \n",
       "VERB  0.031413  0.064847  0.005598  0.023326  0.034523  0.217790  0.082031   \n",
       "ADP   0.001391  0.106012  0.000856  0.063222  0.039902  0.034446  0.013800   \n",
       "PRON  0.012317  0.071594  0.004619  0.007313  0.041186  0.093918  0.034642   \n",
       "NOUN  0.043708  0.012003  0.043088  0.009449  0.239921  0.029115  0.016929   \n",
       "DET   0.000242  0.203771  0.000242  0.021634  0.018008  0.045323  0.012207   \n",
       "\n",
       "          VERB       ADP      PRON      NOUN       DET  \n",
       "PRT   0.402423  0.020301  0.018009  0.246889  0.101506  \n",
       "ADJ   0.012264  0.077395  0.000663  0.699867  0.004640  \n",
       "CONJ  0.156264  0.054092  0.059177  0.349977  0.118816  \n",
       "NUM   0.017757  0.035513  0.001480  0.356318  0.003255  \n",
       ".     0.088654  0.091540  0.065206  0.221140  0.174333  \n",
       "X     0.205582  0.144019  0.054864  0.063477  0.054864  \n",
       "ADV   0.343677  0.118118  0.016016  0.033033  0.069069  \n",
       "VERB  0.168261  0.091206  0.035767  0.110256  0.134982  \n",
       "ADP   0.008344  0.017330  0.069106  0.322636  0.322957  \n",
       "PRON  0.485758  0.021555  0.008083  0.209392  0.009623  \n",
       "NOUN  0.146850  0.176657  0.004852  0.264366  0.013061  \n",
       "DET   0.039763  0.009306  0.003747  0.640198  0.005560  "
      ]
     },
     "execution_count": 12,
     "metadata": {},
     "output_type": "execute_result"
    }
   ],
   "source": [
    "# convert the matrix to a df for better readability\n",
    "tags_df = pd.DataFrame(tags_matrix, columns = list(T), index=list(T))\n",
    "tags_df"
   ]
  },
  {
   "cell_type": "code",
   "execution_count": 13,
   "metadata": {},
   "outputs": [
    {
     "data": {
      "text/plain": [
       "PRT     0.002345\n",
       "ADJ     0.044192\n",
       "CONJ    0.058532\n",
       "NUM     0.081710\n",
       ".       0.092172\n",
       "X       0.027507\n",
       "ADV     0.052579\n",
       "VERB    0.088654\n",
       "ADP     0.091540\n",
       "PRON    0.065206\n",
       "NOUN    0.221140\n",
       "DET     0.174333\n",
       "Name: ., dtype: float32"
      ]
     },
     "execution_count": 13,
     "metadata": {},
     "output_type": "execute_result"
    }
   ],
   "source": [
    "tags_df.loc['.', :]"
   ]
  },
  {
   "cell_type": "code",
   "execution_count": 14,
   "metadata": {},
   "outputs": [
    {
     "data": {
      "image/png": "[encoded data removed]",
      "text/plain": [
       "<matplotlib.figure.Figure at 0x17afe90f630>"
      ]
     },
     "metadata": {},
     "output_type": "display_data"
    }
   ],
   "source": [
    "# heatmap of tags matrix\n",
    "# T(i, j) means P(tag j given tag i)\n",
    "plt.figure(figsize=(18, 10))\n",
    "sns.heatmap(tags_df, cmap=\"YlGnBu\",annot=True)\n",
    "plt.show()"
   ]
  },
  {
   "cell_type": "code",
   "execution_count": 15,
   "metadata": {},
   "outputs": [
    {
     "data": {
      "image/png": "[encoded data removed]",
      "text/plain": [
       "<matplotlib.figure.Figure at 0x17affecc9b0>"
      ]
     },
     "metadata": {},
     "output_type": "display_data"
    }
   ],
   "source": [
    "# frequent tags\n",
    "# filter the df to get P(t2, t1) > 0.5\n",
    "tags_frequent = tags_df[tags_df>0.5]\n",
    "plt.figure(figsize=(18, 10))\n",
    "sns.heatmap(tags_frequent, cmap=\"YlGnBu\",annot=True)\n",
    "plt.show()"
   ]
  },
  {
   "cell_type": "markdown",
   "metadata": {},
   "source": [
    "## Build the vanilla Viterbi based POS tagger"
   ]
  },
  {
   "cell_type": "markdown",
   "metadata": {},
   "source": [
    "### Viterbi Algorithm\n",
    "\n",
    "Let's now use the computed probabilities P(w, tag) and P(t2, t1) to assign tags to each word in the document. We'll run through each word w and compute P(tag/w)=P(w/tag).P(tag) for each tag in the tag set, and then assign the tag having the max P(tag/w).\n",
    "\n",
    "We'll store the assigned tags in a list of tuples, similar to the list 'train_tagged_words'. Each tuple will be a (token, assigned_tag). As we progress further in the list, each tag to be assigned will use the tag of the previous token.\n",
    "\n",
    "Note: P(tag|start) = P(tag|'.') "
   ]
  },
  {
   "cell_type": "markdown",
   "metadata": {},
   "source": [
    "### Vanila Viterbi"
   ]
  },
  {
   "cell_type": "code",
   "execution_count": 16,
   "metadata": {},
   "outputs": [],
   "source": [
    "def Viterbi(test_bag, train_bag = train_tagged_words):\n",
    "    start = time.time()\n",
    "    state = []\n",
    "    T = list(set([pair[1] for pair in train_bag]))\n",
    "    \n",
    "    for key, word in enumerate(test_bag):\n",
    "        #initialise list of probability column for a given observation\n",
    "        p = [] \n",
    "        for tag in T:\n",
    "            if key == 0:\n",
    "                transition_p = tags_df.loc['.', tag]\n",
    "            else:\n",
    "                transition_p = tags_df.loc[state[-1], tag]\n",
    "                \n",
    "            # compute emission and state probabilities\n",
    "            emission_p = word_given_tag(test_bag[key], tag)[0]/word_given_tag(test_bag[key], tag)[1]\n",
    "            state_probability = emission_p * transition_p    \n",
    "            p.append(state_probability)\n",
    "            \n",
    "        pmax = max(p)\n",
    "        # getting state for which probability is maximum\n",
    "        state_max = T[p.index(pmax)] \n",
    "        state.append(state_max)\n",
    "        end = time.time()\n",
    "        Execution_Time = end-start\n",
    "    return list(zip(test_bag, state)),Execution_Time"
   ]
  },
  {
   "cell_type": "markdown",
   "metadata": {},
   "source": [
    "### Test Data preparion\n",
    "#### Running on entire test dataset would take more than 3-4hrs. \n",
    "#### So we will run Viterbi algorithm on 5 random sample sentences of test dataset"
   ]
  },
  {
   "cell_type": "code",
   "execution_count": 17,
   "metadata": {},
   "outputs": [],
   "source": [
    "random.seed(27)\n",
    "\n",
    "# choose random 5 sents\n",
    "rndom = [random.randint(1,len(test_set)) for x in range(5)]\n",
    "\n",
    "# list of sents\n",
    "test_run = [test_set[i] for i in rndom]\n",
    "\n",
    "# list of tagged words\n",
    "test_run_base = [tup for sent in test_run for tup in sent]\n",
    "\n",
    "# list of untagged words\n",
    "test_tagged_words = [tup[0] for sent in test_run for tup in sent]"
   ]
  },
  {
   "cell_type": "markdown",
   "metadata": {},
   "source": [
    "### Define Evaluation function to get the Accuracy & Incorrect Tageed cases"
   ]
  },
  {
   "cell_type": "code",
   "execution_count": 18,
   "metadata": {},
   "outputs": [],
   "source": [
    "def getEvaluation(tagged_seq,test_run_base):\n",
    "    check = [i for i, j in zip(tagged_seq, test_run_base) if i == j] \n",
    "    accuracy = len(check)/len(tagged_seq)\n",
    "    incorrect_tagged_cases = [[test_run_base[i-1],j] for i, j in enumerate(zip(tagged_seq, test_run_base)) if j[0]!=j[1]]\n",
    "    count_incorrect_tagged_cases = len(incorrect_tagged_cases)\n",
    "    return accuracy,incorrect_tagged_cases,count_incorrect_tagged_cases"
   ]
  },
  {
   "cell_type": "markdown",
   "metadata": {},
   "source": [
    "### Create a Dataframe to save the Performance matrix."
   ]
  },
  {
   "cell_type": "code",
   "execution_count": 19,
   "metadata": {},
   "outputs": [],
   "source": [
    "model_summary = pd.DataFrame(columns=['Accuracy','Count Incorrect Tagged Cases','Execution Time'])"
   ]
  },
  {
   "cell_type": "markdown",
   "metadata": {},
   "source": [
    "## Model Summary of Vanila Viterbi"
   ]
  },
  {
   "cell_type": "code",
   "execution_count": 20,
   "metadata": {},
   "outputs": [
    {
     "data": {
      "text/html": [
       "<div>\n",
       "<style scoped>\n",
       "    .dataframe tbody tr th:only-of-type {\n",
       "        vertical-align: middle;\n",
       "    }\n",
       "\n",
       "    .dataframe tbody tr th {\n",
       "        vertical-align: top;\n",
       "    }\n",
       "\n",
       "    .dataframe thead th {\n",
       "        text-align: right;\n",
       "    }\n",
       "</style>\n",
       "<table border=\"1\" class=\"dataframe\">\n",
       "  <thead>\n",
       "    <tr style=\"text-align: right;\">\n",
       "      <th></th>\n",
       "      <th>Accuracy</th>\n",
       "      <th>Count Incorrect Tagged Cases</th>\n",
       "      <th>Execution Time</th>\n",
       "    </tr>\n",
       "  </thead>\n",
       "  <tbody>\n",
       "    <tr>\n",
       "      <th>Viterbi Vanila</th>\n",
       "      <td>0.886525</td>\n",
       "      <td>16.0</td>\n",
       "      <td>24.624727</td>\n",
       "    </tr>\n",
       "  </tbody>\n",
       "</table>\n",
       "</div>"
      ],
      "text/plain": [
       "                Accuracy  Count Incorrect Tagged Cases  Execution Time\n",
       "Viterbi Vanila  0.886525                          16.0       24.624727"
      ]
     },
     "metadata": {},
     "output_type": "display_data"
    },
    {
     "name": "stdout",
     "output_type": "stream",
     "text": [
      "\n",
      " Incorrect Tagges Cases::\n"
     ]
    },
    {
     "data": {
      "text/plain": [
       "[[(\"'s\", 'PRT'), (('firm', 'NOUN'), ('firm', 'ADJ'))],\n",
       " [('steady', 'ADJ'), (('opening', 'VERB'), ('opening', 'NOUN'))],\n",
       " [('also', 'ADV'), (('tempted', 'PRT'), ('tempted', 'VERB'))],\n",
       " [('and', 'CONJ'), (('potentially', 'PRT'), ('potentially', 'ADV'))],\n",
       " [('potentially', 'ADV'), (('more', 'ADJ'), ('more', 'ADV'))],\n",
       " [('For', 'ADP'), (('starters', 'PRT'), ('starters', 'NOUN'))],\n",
       " [('H.', 'NOUN'), (('Hudnut', 'PRT'), ('Hudnut', 'NOUN'))],\n",
       " [('Indianapolis', 'NOUN'), (('Symphony', 'PRT'), ('Symphony', 'NOUN'))],\n",
       " [('Symphony', 'NOUN'), (('Orchestra', 'PRT'), ('Orchestra', 'NOUN'))],\n",
       " [('a', 'DET'), (('guest', 'PRT'), ('guest', 'NOUN'))],\n",
       " [('guest', 'NOUN'),\n",
       "  (('pianist-comedian', 'PRT'), ('pianist-comedian', 'NOUN'))],\n",
       " [('pianist-comedian', 'NOUN'), (('Victor', 'PRT'), ('Victor', 'NOUN'))],\n",
       " [('Victor', 'NOUN'), (('Borge', 'PRT'), ('Borge', 'NOUN'))],\n",
       " [('from', 'ADP'), (('soured', 'PRT'), ('soured', 'ADJ'))],\n",
       " [('something', 'NOUN'), (('structurally', 'PRT'), ('structurally', 'ADV'))],\n",
       " [('and', 'CONJ'), (('radically', 'PRT'), ('radically', 'ADV'))]]"
      ]
     },
     "execution_count": 20,
     "metadata": {},
     "output_type": "execute_result"
    }
   ],
   "source": [
    "# Execute Viterbi-Advance\n",
    "tagged_seq,Execution_Time = Viterbi(test_bag = test_tagged_words)\n",
    "\n",
    "# Performance Matrix\n",
    "accuracy,incorrect_tagged_cases,count_incorrect_tagged_cases = getEvaluation(tagged_seq,test_run_base)\n",
    "\n",
    "#Save in Dataframe\n",
    "model_summary.loc['Viterbi Vanila'] = [accuracy,count_incorrect_tagged_cases,Execution_Time]\n",
    "\n",
    "# Display Results\n",
    "display(model_summary[model_summary.index=='Viterbi Vanila'])\n",
    "print('\\n','Incorrect Tagges Cases::')\n",
    "incorrect_tagged_cases"
   ]
  },
  {
   "cell_type": "markdown",
   "metadata": {},
   "source": [
    "## Solve the Problem of Unknown Words :: Improve the performance \n",
    "The vanilla Viterbi algorithm we had written had resulted in ~87% accuracy. The approx. 13% loss of accuracy was majorly due to the fact that when the algorithm encountered an unknown word (i.e. not present in the training set, such as 'Twitter'), it assigned an incorrect tag arbitrarily.\n",
    "Let's modify the Viterbi Algorithm by including the methods that can resolve the issue of unknown words."
   ]
  },
  {
   "cell_type": "markdown",
   "metadata": {},
   "source": [
    "### 1. Unigram Tagging\n",
    "Unigram taggers are based on a simple statistical algorithm: for each token, assign the tag that is most likely for that particular token. For example, it will assign the tag JJ to any occurrence of the word _frequent_, since _frequent_ is used as an adjective (e.g. a _frequent_ word) more often than it is used as a verb (e.g. I _frequent_ this cafe). A unigram tagger behaves just like a lookup tagger (4), except there is a more convenient technique for setting it up, called training. In the following code sample, we train a unigram tagger, use it to tag a sentence, then evaluate:"
   ]
  },
  {
   "cell_type": "code",
   "execution_count": 21,
   "metadata": {},
   "outputs": [],
   "source": [
    "unigram_tagger = nltk.UnigramTagger(train_set)"
   ]
  },
  {
   "cell_type": "markdown",
   "metadata": {},
   "source": [
    "### 2. N-Gram Tagging\n",
    "An n-gram tagger is a generalization of a unigram tagger whose context is the current word together with the part-of-speech tags of the n-1 preceding tokens."
   ]
  },
  {
   "cell_type": "code",
   "execution_count": 22,
   "metadata": {},
   "outputs": [],
   "source": [
    "bigram_tagger = nltk.BigramTagger(train_set)"
   ]
  },
  {
   "cell_type": "markdown",
   "metadata": {},
   "source": [
    "### 3. Rule Based changes to improve the performance.\n",
    "\n",
    "The regular expression tagger assigns tags to tokens on the basis of matching patterns. For instance, we might guess that any word ending in ed is the past participle of a verb, and any word ending with 's is a possessive noun. We can express these as a list of regular expressions:"
   ]
  },
  {
   "cell_type": "code",
   "execution_count": 23,
   "metadata": {},
   "outputs": [],
   "source": [
    "patterns = [\n",
    "    (r'.*ing$', 'VERB'),              # gerund\n",
    "    (r'.*ed$', 'VERB'),               # past tense\n",
    "    (r'.*es$', 'VERB'),               # 3rd singular present\n",
    "    (r'.*ould$', 'VERB'),              # modals\n",
    "    (r'.*\\'s$', 'NOUN'),              # possessive nouns\n",
    "    (r'.*s$', 'NOUN'),                # plural nouns\n",
    "    (r'^-?[0-9]+(.[0-9]+)?$', 'NUM'), # cardinal numbers\n",
    "    (r'.*', 'NOUN')                    # nouns\n",
    "]"
   ]
  },
  {
   "cell_type": "markdown",
   "metadata": {},
   "source": [
    "The final regular expression «.*» is a catch-all that tags everything as a noun."
   ]
  },
  {
   "cell_type": "code",
   "execution_count": 24,
   "metadata": {},
   "outputs": [],
   "source": [
    "rule_based_tagger = nltk.RegexpTagger(patterns)"
   ]
  },
  {
   "cell_type": "markdown",
   "metadata": {},
   "source": [
    "### 4. Combination of Taggers\n",
    "One way to address the trade-off between accuracy and coverage is to use the more accurate algorithms when we can, but to fall back on algorithms with wider coverage when necessary. For example, we could combine the results of a bigram tagger, a unigram tagger, and a default tagger."
   ]
  },
  {
   "cell_type": "code",
   "execution_count": 25,
   "metadata": {},
   "outputs": [],
   "source": [
    "combo_tagger = nltk.UnigramTagger(train_set, backoff=rule_based_tagger)"
   ]
  },
  {
   "cell_type": "markdown",
   "metadata": {},
   "source": [
    "## Modification in Viterbi algorithm to incorporate the above changes"
   ]
  },
  {
   "cell_type": "code",
   "execution_count": 26,
   "metadata": {},
   "outputs": [],
   "source": [
    "def Viterbi_Advance(test_bag,train_bag = train_tagged_words, tagger=0):\n",
    "    \"\"\"\n",
    "    tagger = 0 for default Viterbi Algorithm-default\n",
    "             1 for Unigram Tagger\n",
    "             2 for Bigram Tagger\n",
    "             3 for Rule Based Tagged\n",
    "             4 for Combination taggers(combination of Unigram & Rule-based )\n",
    "    \"\"\"\n",
    "    start = time.time()\n",
    "    state = []\n",
    "    newTag = []\n",
    "    T = list(set([pair[1] for pair in train_bag]))\n",
    "    \n",
    "    wordsSet = set([pair[0] for pair in train_bag])\n",
    "    \n",
    "    for key, word in enumerate(test_bag):\n",
    "        #initialise list of probability column for a given observation\n",
    "        p = [] \n",
    "        \n",
    "        unknownWord = word  not in  wordsSet   \n",
    "        \n",
    "        if(unknownWord == True):\n",
    "            if tagger == 1:\n",
    "                newTag = unigram_tagger.tag([word])[0][1]\n",
    "            elif tagger == 2:\n",
    "                newTag = bigram_tagger.tag([word])[0][1]\n",
    "            elif tagger == 3:\n",
    "                newTag = rule_based_tagger.tag([word])[0][1] \n",
    "            elif tagger == 4:\n",
    "                newTag = combo_tagger.tag([word])[0][1]\n",
    "            else:\n",
    "                pass\n",
    "            \n",
    "       \n",
    "        for tag in T:\n",
    "            if(unknownWord == True):\n",
    "                if ( tag == newTag):\n",
    "                    state_probability = 1;\n",
    "                else:\n",
    "                    state_probability = 0\n",
    "                                   \n",
    "            else:\n",
    "                                       \n",
    "                if key == 0:\n",
    "                    transition_p = tags_df.loc['.', tag]\n",
    "                else:\n",
    "                    transition_p = tags_df.loc[state[-1], tag]\n",
    "                    # compute emission and state probabilities\n",
    "                result = word_given_tag(test_bag[key], tag)\n",
    "                emission_p = result[0]/result[1]\n",
    "                state_probability = emission_p * transition_p   \n",
    "                \n",
    "            p.append(state_probability)\n",
    "            \n",
    "        pmax = max(p)\n",
    "        # getting state for which probability is maximum\n",
    "        state_max = T[p.index(pmax)] \n",
    "        state.append(state_max)\n",
    "        end = time.time()\n",
    "        Execution_Time = end-start\n",
    "    return list(zip(test_bag, state)),Execution_Time"
   ]
  },
  {
   "cell_type": "markdown",
   "metadata": {},
   "source": [
    "### Model Summary of  Viterbi Unigram Tagger"
   ]
  },
  {
   "cell_type": "code",
   "execution_count": 27,
   "metadata": {},
   "outputs": [
    {
     "data": {
      "text/html": [
       "<div>\n",
       "<style scoped>\n",
       "    .dataframe tbody tr th:only-of-type {\n",
       "        vertical-align: middle;\n",
       "    }\n",
       "\n",
       "    .dataframe tbody tr th {\n",
       "        vertical-align: top;\n",
       "    }\n",
       "\n",
       "    .dataframe thead th {\n",
       "        text-align: right;\n",
       "    }\n",
       "</style>\n",
       "<table border=\"1\" class=\"dataframe\">\n",
       "  <thead>\n",
       "    <tr style=\"text-align: right;\">\n",
       "      <th></th>\n",
       "      <th>Accuracy</th>\n",
       "      <th>Count Incorrect Tagged Cases</th>\n",
       "      <th>Execution Time</th>\n",
       "    </tr>\n",
       "  </thead>\n",
       "  <tbody>\n",
       "    <tr>\n",
       "      <th>Viterbi Unigram</th>\n",
       "      <td>0.886525</td>\n",
       "      <td>16.0</td>\n",
       "      <td>11.338914</td>\n",
       "    </tr>\n",
       "  </tbody>\n",
       "</table>\n",
       "</div>"
      ],
      "text/plain": [
       "                 Accuracy  Count Incorrect Tagged Cases  Execution Time\n",
       "Viterbi Unigram  0.886525                          16.0       11.338914"
      ]
     },
     "metadata": {},
     "output_type": "display_data"
    }
   ],
   "source": [
    "# Execute Viterbi-Advance\n",
    "tagged_seq,Execution_Time = Viterbi_Advance(test_bag = test_tagged_words,tagger=1)\n",
    "\n",
    "# Performance Matrix\n",
    "accuracy,incorrect_tagged_cases_unigram,count_incorrect_tagged_cases = getEvaluation(tagged_seq,test_run_base)\n",
    "\n",
    "#Save in Dataframe\n",
    "model_summary.loc['Viterbi Unigram'] = [accuracy,count_incorrect_tagged_cases,Execution_Time]\n",
    "\n",
    "# Display Results\n",
    "display(model_summary[model_summary.index=='Viterbi Unigram'])"
   ]
  },
  {
   "cell_type": "markdown",
   "metadata": {},
   "source": [
    "### Model Summary of  Bigram Tagger"
   ]
  },
  {
   "cell_type": "code",
   "execution_count": 28,
   "metadata": {},
   "outputs": [
    {
     "data": {
      "text/html": [
       "<div>\n",
       "<style scoped>\n",
       "    .dataframe tbody tr th:only-of-type {\n",
       "        vertical-align: middle;\n",
       "    }\n",
       "\n",
       "    .dataframe tbody tr th {\n",
       "        vertical-align: top;\n",
       "    }\n",
       "\n",
       "    .dataframe thead th {\n",
       "        text-align: right;\n",
       "    }\n",
       "</style>\n",
       "<table border=\"1\" class=\"dataframe\">\n",
       "  <thead>\n",
       "    <tr style=\"text-align: right;\">\n",
       "      <th></th>\n",
       "      <th>Accuracy</th>\n",
       "      <th>Count Incorrect Tagged Cases</th>\n",
       "      <th>Execution Time</th>\n",
       "    </tr>\n",
       "  </thead>\n",
       "  <tbody>\n",
       "    <tr>\n",
       "      <th>Viterbi Bigram</th>\n",
       "      <td>0.886525</td>\n",
       "      <td>16.0</td>\n",
       "      <td>11.108408</td>\n",
       "    </tr>\n",
       "  </tbody>\n",
       "</table>\n",
       "</div>"
      ],
      "text/plain": [
       "                Accuracy  Count Incorrect Tagged Cases  Execution Time\n",
       "Viterbi Bigram  0.886525                          16.0       11.108408"
      ]
     },
     "metadata": {},
     "output_type": "display_data"
    }
   ],
   "source": [
    "# Execute Viterbi-Advance\n",
    "tagged_seq,Execution_Time = Viterbi_Advance(test_bag = test_tagged_words,tagger=2)\n",
    "\n",
    "# Performance Matrix\n",
    "accuracy,incorrect_tagged_cases_bigram,count_incorrect_tagged_cases = getEvaluation(tagged_seq,test_run_base)\n",
    "\n",
    "#Save in Dataframe\n",
    "model_summary.loc['Viterbi Bigram'] = [accuracy,count_incorrect_tagged_cases,Execution_Time]\n",
    "\n",
    "# Display Results\n",
    "display(model_summary[model_summary.index=='Viterbi Bigram'])"
   ]
  },
  {
   "cell_type": "markdown",
   "metadata": {},
   "source": [
    "### Model Summary of  Rule Based Tagger"
   ]
  },
  {
   "cell_type": "code",
   "execution_count": 29,
   "metadata": {},
   "outputs": [
    {
     "data": {
      "text/html": [
       "<div>\n",
       "<style scoped>\n",
       "    .dataframe tbody tr th:only-of-type {\n",
       "        vertical-align: middle;\n",
       "    }\n",
       "\n",
       "    .dataframe tbody tr th {\n",
       "        vertical-align: top;\n",
       "    }\n",
       "\n",
       "    .dataframe thead th {\n",
       "        text-align: right;\n",
       "    }\n",
       "</style>\n",
       "<table border=\"1\" class=\"dataframe\">\n",
       "  <thead>\n",
       "    <tr style=\"text-align: right;\">\n",
       "      <th></th>\n",
       "      <th>Accuracy</th>\n",
       "      <th>Count Incorrect Tagged Cases</th>\n",
       "      <th>Execution Time</th>\n",
       "    </tr>\n",
       "  </thead>\n",
       "  <tbody>\n",
       "    <tr>\n",
       "      <th>Viterbi Rule Based</th>\n",
       "      <td>0.957447</td>\n",
       "      <td>6.0</td>\n",
       "      <td>11.179746</td>\n",
       "    </tr>\n",
       "  </tbody>\n",
       "</table>\n",
       "</div>"
      ],
      "text/plain": [
       "                    Accuracy  Count Incorrect Tagged Cases  Execution Time\n",
       "Viterbi Rule Based  0.957447                           6.0       11.179746"
      ]
     },
     "metadata": {},
     "output_type": "display_data"
    }
   ],
   "source": [
    "# Execute Viterbi-Advance\n",
    "tagged_seq,Execution_Time = Viterbi_Advance(test_bag = test_tagged_words,tagger=3)\n",
    "\n",
    "# Performance Matrix\n",
    "accuracy,incorrect_tagged_cases_rule_based,count_incorrect_tagged_cases = getEvaluation(tagged_seq,test_run_base)\n",
    "\n",
    "#Save in Dataframe\n",
    "model_summary.loc['Viterbi Rule Based'] = [accuracy,count_incorrect_tagged_cases,Execution_Time]\n",
    "\n",
    "# Display Results\n",
    "display(model_summary[model_summary.index=='Viterbi Rule Based'])"
   ]
  },
  {
   "cell_type": "markdown",
   "metadata": {},
   "source": [
    "### Model Summary of  Combined Tagger(Combination of Unigram & Rule Based Tagger)"
   ]
  },
  {
   "cell_type": "code",
   "execution_count": 30,
   "metadata": {},
   "outputs": [
    {
     "data": {
      "text/html": [
       "<div>\n",
       "<style scoped>\n",
       "    .dataframe tbody tr th:only-of-type {\n",
       "        vertical-align: middle;\n",
       "    }\n",
       "\n",
       "    .dataframe tbody tr th {\n",
       "        vertical-align: top;\n",
       "    }\n",
       "\n",
       "    .dataframe thead th {\n",
       "        text-align: right;\n",
       "    }\n",
       "</style>\n",
       "<table border=\"1\" class=\"dataframe\">\n",
       "  <thead>\n",
       "    <tr style=\"text-align: right;\">\n",
       "      <th></th>\n",
       "      <th>Accuracy</th>\n",
       "      <th>Count Incorrect Tagged Cases</th>\n",
       "      <th>Execution Time</th>\n",
       "    </tr>\n",
       "  </thead>\n",
       "  <tbody>\n",
       "    <tr>\n",
       "      <th>Viterbi Combination of Unigram and Rule Based</th>\n",
       "      <td>0.957447</td>\n",
       "      <td>6.0</td>\n",
       "      <td>11.254428</td>\n",
       "    </tr>\n",
       "  </tbody>\n",
       "</table>\n",
       "</div>"
      ],
      "text/plain": [
       "                                               Accuracy  \\\n",
       "Viterbi Combination of Unigram and Rule Based  0.957447   \n",
       "\n",
       "                                               Count Incorrect Tagged Cases  \\\n",
       "Viterbi Combination of Unigram and Rule Based                           6.0   \n",
       "\n",
       "                                               Execution Time  \n",
       "Viterbi Combination of Unigram and Rule Based       11.254428  "
      ]
     },
     "metadata": {},
     "output_type": "display_data"
    }
   ],
   "source": [
    "# Execute Viterbi-Advance\n",
    "tagged_seq,Execution_Time = Viterbi_Advance(test_bag = test_tagged_words,tagger=4)\n",
    "\n",
    "# Performance Matrix\n",
    "accuracy,incorrect_tagged_cases_combo,count_incorrect_tagged_cases = getEvaluation(tagged_seq,test_run_base)\n",
    "\n",
    "#Save in Dataframe\n",
    "model_summary.loc['Viterbi Combination of Unigram and Rule Based'] = [accuracy,count_incorrect_tagged_cases,Execution_Time]\n",
    "\n",
    "# Display Results\n",
    "display(model_summary[model_summary.index=='Viterbi Combination of Unigram and Rule Based'])"
   ]
  },
  {
   "cell_type": "markdown",
   "metadata": {},
   "source": [
    "## Compare the tagging accuracies of the modifications with the vanilla Viterbi algorithm"
   ]
  },
  {
   "cell_type": "markdown",
   "metadata": {},
   "source": [
    "#### If we compare the Vanila Viterbi Algorithm with Viterbi_Advanced_Combination, Accuracy has been increased from 89% to 95% & Count of Incorrect Tagged Cases has been reduced from 15 to 6."
   ]
  },
  {
   "cell_type": "code",
   "execution_count": 31,
   "metadata": {},
   "outputs": [
    {
     "data": {
      "text/html": [
       "<div>\n",
       "<style scoped>\n",
       "    .dataframe tbody tr th:only-of-type {\n",
       "        vertical-align: middle;\n",
       "    }\n",
       "\n",
       "    .dataframe tbody tr th {\n",
       "        vertical-align: top;\n",
       "    }\n",
       "\n",
       "    .dataframe thead th {\n",
       "        text-align: right;\n",
       "    }\n",
       "</style>\n",
       "<table border=\"1\" class=\"dataframe\">\n",
       "  <thead>\n",
       "    <tr style=\"text-align: right;\">\n",
       "      <th></th>\n",
       "      <th>Accuracy</th>\n",
       "      <th>Count Incorrect Tagged Cases</th>\n",
       "      <th>Execution Time</th>\n",
       "    </tr>\n",
       "  </thead>\n",
       "  <tbody>\n",
       "    <tr>\n",
       "      <th>Viterbi Vanila</th>\n",
       "      <td>0.886525</td>\n",
       "      <td>16.0</td>\n",
       "      <td>24.624727</td>\n",
       "    </tr>\n",
       "    <tr>\n",
       "      <th>Viterbi Unigram</th>\n",
       "      <td>0.886525</td>\n",
       "      <td>16.0</td>\n",
       "      <td>11.338914</td>\n",
       "    </tr>\n",
       "    <tr>\n",
       "      <th>Viterbi Bigram</th>\n",
       "      <td>0.886525</td>\n",
       "      <td>16.0</td>\n",
       "      <td>11.108408</td>\n",
       "    </tr>\n",
       "    <tr>\n",
       "      <th>Viterbi Rule Based</th>\n",
       "      <td>0.957447</td>\n",
       "      <td>6.0</td>\n",
       "      <td>11.179746</td>\n",
       "    </tr>\n",
       "    <tr>\n",
       "      <th>Viterbi Combination of Unigram and Rule Based</th>\n",
       "      <td>0.957447</td>\n",
       "      <td>6.0</td>\n",
       "      <td>11.254428</td>\n",
       "    </tr>\n",
       "  </tbody>\n",
       "</table>\n",
       "</div>"
      ],
      "text/plain": [
       "                                               Accuracy  \\\n",
       "Viterbi Vanila                                 0.886525   \n",
       "Viterbi Unigram                                0.886525   \n",
       "Viterbi Bigram                                 0.886525   \n",
       "Viterbi Rule Based                             0.957447   \n",
       "Viterbi Combination of Unigram and Rule Based  0.957447   \n",
       "\n",
       "                                               Count Incorrect Tagged Cases  \\\n",
       "Viterbi Vanila                                                         16.0   \n",
       "Viterbi Unigram                                                        16.0   \n",
       "Viterbi Bigram                                                         16.0   \n",
       "Viterbi Rule Based                                                      6.0   \n",
       "Viterbi Combination of Unigram and Rule Based                           6.0   \n",
       "\n",
       "                                               Execution Time  \n",
       "Viterbi Vanila                                      24.624727  \n",
       "Viterbi Unigram                                     11.338914  \n",
       "Viterbi Bigram                                      11.108408  \n",
       "Viterbi Rule Based                                  11.179746  \n",
       "Viterbi Combination of Unigram and Rule Based       11.254428  "
      ]
     },
     "execution_count": 31,
     "metadata": {},
     "output_type": "execute_result"
    }
   ],
   "source": [
    "model_summary"
   ]
  },
  {
   "cell_type": "markdown",
   "metadata": {},
   "source": [
    "### Testing on Sample Sentences"
   ]
  },
  {
   "cell_type": "code",
   "execution_count": 32,
   "metadata": {},
   "outputs": [],
   "source": [
    "test_sentences = [\"Android is a mobile operating system developed by Google.\",\n",
    "\"Android has been the best-selling OS worldwide on smartphones since 2011 and on tablets since 2013.\",\n",
    "\"Google and Twitter made a deal in 2015 that gave Google access to Twitter's firehose.\",\n",
    "\"Twitter is an online news and social networking service on which users post and interact with messages known as tweets.\",\n",
    "\"Before entering politics, Donald Trump was a domineering businessman and a television personality.\",\n",
    "\"The 2018 FIFA World Cup is the 21st FIFA World Cup, an international football tournament contested once every four years.\",\n",
    "\"This is the first World Cup to be held in Eastern Europe and the 11th time that it has been held in Europe.\",\n",
    "\"Show me the cheapest round trips from Dallas to Atlanta\",\n",
    "\"I would like to see flights from Denver to Philadelphia.\",\n",
    "\"Show me the price of the flights leaving Atlanta at about 3 in the afternoon and arriving in San Francisco.\",\n",
    "\"NASA invited social media users to experience the launch of ICESAT-2 Satellite.\"]"
   ]
  },
  {
   "cell_type": "code",
   "execution_count": 33,
   "metadata": {},
   "outputs": [
    {
     "name": "stdout",
     "output_type": "stream",
     "text": [
      "Tagging with Vanila Veterbi\n",
      "----------------------------\n",
      "[('Android', 'PRT'), ('is', 'VERB'), ('a', 'DET'), ('mobile', 'ADJ'), ('operating', 'NOUN'), ('system', 'NOUN'), ('developed', 'VERB'), ('by', 'ADP'), ('Google', 'PRT'), ('.', '.')] \n",
      "\n",
      "Tagging with Vanila Advance Combination of Unigram and Rule Based\n",
      "-------------------------------------------------------------------\n",
      "[('Android', 'NOUN'), ('is', 'VERB'), ('a', 'DET'), ('mobile', 'ADJ'), ('operating', 'NOUN'), ('system', 'NOUN'), ('developed', 'VERB'), ('by', 'ADP'), ('Google', 'NOUN'), ('.', '.')] \n",
      "\n",
      "*****************************************************************************************************************************\n",
      "Tagging with Vanila Veterbi\n",
      "----------------------------\n",
      "[('Android', 'PRT'), ('has', 'VERB'), ('been', 'VERB'), ('the', 'DET'), ('best-selling', 'ADJ'), ('OS', 'PRT'), ('worldwide', 'PRT'), ('on', 'ADP'), ('smartphones', 'PRT'), ('since', 'ADP'), ('2011', 'PRT'), ('and', 'CONJ'), ('on', 'ADP'), ('tablets', 'NOUN'), ('since', 'ADP'), ('2013', 'PRT'), ('.', '.')] \n",
      "\n",
      "Tagging with Vanila Advance Combination of Unigram and Rule Based\n",
      "-------------------------------------------------------------------\n",
      "[('Android', 'NOUN'), ('has', 'VERB'), ('been', 'VERB'), ('the', 'DET'), ('best-selling', 'ADJ'), ('OS', 'NOUN'), ('worldwide', 'NOUN'), ('on', 'ADP'), ('smartphones', 'VERB'), ('since', 'ADP'), ('2011', 'NUM'), ('and', 'CONJ'), ('on', 'ADP'), ('tablets', 'NOUN'), ('since', 'ADP'), ('2013', 'NUM'), ('.', '.')] \n",
      "\n",
      "*****************************************************************************************************************************\n",
      "Tagging with Vanila Veterbi\n",
      "----------------------------\n",
      "[('Google', 'PRT'), ('and', 'CONJ'), ('Twitter', 'PRT'), ('made', 'VERB'), ('a', 'DET'), ('deal', 'NOUN'), ('in', 'ADP'), ('2015', 'PRT'), ('that', 'DET'), ('gave', 'VERB'), ('Google', 'PRT'), ('access', 'NOUN'), ('to', 'PRT'), ('Twitter', 'PRT'), (\"'s\", 'VERB'), ('firehose', 'PRT'), ('.', '.')] \n",
      "\n",
      "Tagging with Vanila Advance Combination of Unigram and Rule Based\n",
      "-------------------------------------------------------------------\n",
      "[('Google', 'NOUN'), ('and', 'CONJ'), ('Twitter', 'NOUN'), ('made', 'VERB'), ('a', 'DET'), ('deal', 'NOUN'), ('in', 'ADP'), ('2015', 'NUM'), ('that', 'ADP'), ('gave', 'VERB'), ('Google', 'NOUN'), ('access', 'NOUN'), ('to', 'PRT'), ('Twitter', 'NOUN'), (\"'s\", 'PRT'), ('firehose', 'NOUN'), ('.', '.')] \n",
      "\n",
      "*****************************************************************************************************************************\n",
      "Tagging with Vanila Veterbi\n",
      "----------------------------\n",
      "[('Twitter', 'PRT'), ('is', 'VERB'), ('an', 'DET'), ('online', 'PRT'), ('news', 'NOUN'), ('and', 'CONJ'), ('social', 'ADJ'), ('networking', 'NOUN'), ('service', 'NOUN'), ('on', 'ADP'), ('which', 'DET'), ('users', 'NOUN'), ('post', 'NOUN'), ('and', 'CONJ'), ('interact', 'PRT'), ('with', 'ADP'), ('messages', 'PRT'), ('known', 'VERB'), ('as', 'ADP'), ('tweets', 'PRT'), ('.', '.')] \n",
      "\n",
      "Tagging with Vanila Advance Combination of Unigram and Rule Based\n",
      "-------------------------------------------------------------------\n",
      "[('Twitter', 'NOUN'), ('is', 'VERB'), ('an', 'DET'), ('online', 'NOUN'), ('news', 'NOUN'), ('and', 'CONJ'), ('social', 'ADJ'), ('networking', 'NOUN'), ('service', 'NOUN'), ('on', 'ADP'), ('which', 'DET'), ('users', 'NOUN'), ('post', 'NOUN'), ('and', 'CONJ'), ('interact', 'NOUN'), ('with', 'ADP'), ('messages', 'VERB'), ('known', 'VERB'), ('as', 'ADP'), ('tweets', 'NOUN'), ('.', '.')] \n",
      "\n",
      "*****************************************************************************************************************************\n",
      "Tagging with Vanila Veterbi\n",
      "----------------------------\n",
      "[('Before', 'ADP'), ('entering', 'VERB'), ('politics', 'NOUN'), (',', '.'), ('Donald', 'NOUN'), ('Trump', 'NOUN'), ('was', 'VERB'), ('a', 'DET'), ('domineering', 'PRT'), ('businessman', 'NOUN'), ('and', 'CONJ'), ('a', 'DET'), ('television', 'NOUN'), ('personality', 'PRT'), ('.', '.')] \n",
      "\n",
      "Tagging with Vanila Advance Combination of Unigram and Rule Based\n",
      "-------------------------------------------------------------------\n",
      "[('Before', 'ADP'), ('entering', 'VERB'), ('politics', 'NOUN'), (',', '.'), ('Donald', 'NOUN'), ('Trump', 'NOUN'), ('was', 'VERB'), ('a', 'DET'), ('domineering', 'VERB'), ('businessman', 'NOUN'), ('and', 'CONJ'), ('a', 'DET'), ('television', 'NOUN'), ('personality', 'NOUN'), ('.', '.')] \n",
      "\n",
      "*****************************************************************************************************************************\n",
      "Tagging with Vanila Veterbi\n",
      "----------------------------\n",
      "[('The', 'DET'), ('2018', 'PRT'), ('FIFA', 'PRT'), ('World', 'NOUN'), ('Cup', 'PRT'), ('is', 'VERB'), ('the', 'DET'), ('21st', 'PRT'), ('FIFA', 'PRT'), ('World', 'NOUN'), ('Cup', 'PRT'), (',', '.'), ('an', 'DET'), ('international', 'ADJ'), ('football', 'NOUN'), ('tournament', 'PRT'), ('contested', 'PRT'), ('once', 'ADV'), ('every', 'DET'), ('four', 'NUM'), ('years', 'NOUN'), ('.', '.')] \n",
      "\n",
      "Tagging with Vanila Advance Combination of Unigram and Rule Based\n",
      "-------------------------------------------------------------------\n",
      "[('The', 'DET'), ('2018', 'NUM'), ('FIFA', 'NOUN'), ('World', 'NOUN'), ('Cup', 'NOUN'), ('is', 'VERB'), ('the', 'DET'), ('21st', 'NOUN'), ('FIFA', 'NOUN'), ('World', 'NOUN'), ('Cup', 'NOUN'), (',', '.'), ('an', 'DET'), ('international', 'ADJ'), ('football', 'NOUN'), ('tournament', 'NOUN'), ('contested', 'VERB'), ('once', 'ADV'), ('every', 'DET'), ('four', 'NUM'), ('years', 'NOUN'), ('.', '.')] \n",
      "\n",
      "*****************************************************************************************************************************\n",
      "Tagging with Vanila Veterbi\n",
      "----------------------------\n",
      "[('This', 'DET'), ('is', 'VERB'), ('the', 'DET'), ('first', 'ADJ'), ('World', 'NOUN'), ('Cup', 'PRT'), ('to', 'PRT'), ('be', 'VERB'), ('held', 'VERB'), ('in', 'ADP'), ('Eastern', 'NOUN'), ('Europe', 'NOUN'), ('and', 'CONJ'), ('the', 'DET'), ('11th', 'ADJ'), ('time', 'NOUN'), ('that', 'ADP'), ('it', 'PRON'), ('has', 'VERB'), ('been', 'VERB'), ('held', 'VERB'), ('in', 'ADP'), ('Europe', 'NOUN'), ('.', '.')] \n",
      "\n",
      "Tagging with Vanila Advance Combination of Unigram and Rule Based\n",
      "-------------------------------------------------------------------\n",
      "[('This', 'DET'), ('is', 'VERB'), ('the', 'DET'), ('first', 'ADJ'), ('World', 'NOUN'), ('Cup', 'NOUN'), ('to', 'PRT'), ('be', 'VERB'), ('held', 'VERB'), ('in', 'ADP'), ('Eastern', 'NOUN'), ('Europe', 'NOUN'), ('and', 'CONJ'), ('the', 'DET'), ('11th', 'ADJ'), ('time', 'NOUN'), ('that', 'ADP'), ('it', 'PRON'), ('has', 'VERB'), ('been', 'VERB'), ('held', 'VERB'), ('in', 'ADP'), ('Europe', 'NOUN'), ('.', '.')] \n",
      "\n",
      "*****************************************************************************************************************************\n",
      "Tagging with Vanila Veterbi\n",
      "----------------------------\n",
      "[('Show', 'PRT'), ('me', 'PRON'), ('the', 'DET'), ('cheapest', 'ADJ'), ('round', 'NOUN'), ('trips', 'PRT'), ('from', 'ADP'), ('Dallas', 'NOUN'), ('to', 'PRT'), ('Atlanta', 'NOUN')] \n",
      "\n",
      "Tagging with Vanila Advance Combination of Unigram and Rule Based\n",
      "-------------------------------------------------------------------\n",
      "[('Show', 'NOUN'), ('me', 'PRON'), ('the', 'DET'), ('cheapest', 'ADJ'), ('round', 'NOUN'), ('trips', 'NOUN'), ('from', 'ADP'), ('Dallas', 'NOUN'), ('to', 'PRT'), ('Atlanta', 'NOUN')] \n",
      "\n",
      "*****************************************************************************************************************************\n",
      "Tagging with Vanila Veterbi\n",
      "----------------------------\n",
      "[('I', 'PRON'), ('would', 'VERB'), ('like', 'ADP'), ('to', 'PRT'), ('see', 'VERB'), ('flights', 'NOUN'), ('from', 'ADP'), ('Denver', 'NOUN'), ('to', 'PRT'), ('Philadelphia', 'NOUN'), ('.', '.')] \n",
      "\n",
      "Tagging with Vanila Advance Combination of Unigram and Rule Based\n",
      "-------------------------------------------------------------------\n",
      "[('I', 'PRON'), ('would', 'VERB'), ('like', 'ADP'), ('to', 'PRT'), ('see', 'VERB'), ('flights', 'NOUN'), ('from', 'ADP'), ('Denver', 'NOUN'), ('to', 'PRT'), ('Philadelphia', 'NOUN'), ('.', '.')] \n",
      "\n",
      "*****************************************************************************************************************************\n",
      "Tagging with Vanila Veterbi\n",
      "----------------------------\n"
     ]
    },
    {
     "name": "stdout",
     "output_type": "stream",
     "text": [
      "[('Show', 'PRT'), ('me', 'PRON'), ('the', 'DET'), ('price', 'NOUN'), ('of', 'ADP'), ('the', 'DET'), ('flights', 'NOUN'), ('leaving', 'VERB'), ('Atlanta', 'NOUN'), ('at', 'ADP'), ('about', 'ADP'), ('3', 'NUM'), ('in', 'ADP'), ('the', 'DET'), ('afternoon', 'NOUN'), ('and', 'CONJ'), ('arriving', 'PRT'), ('in', 'ADP'), ('San', 'NOUN'), ('Francisco', 'NOUN'), ('.', '.')] \n",
      "\n",
      "Tagging with Vanila Advance Combination of Unigram and Rule Based\n",
      "-------------------------------------------------------------------\n",
      "[('Show', 'NOUN'), ('me', 'PRON'), ('the', 'DET'), ('price', 'NOUN'), ('of', 'ADP'), ('the', 'DET'), ('flights', 'NOUN'), ('leaving', 'VERB'), ('Atlanta', 'NOUN'), ('at', 'ADP'), ('about', 'ADP'), ('3', 'NUM'), ('in', 'ADP'), ('the', 'DET'), ('afternoon', 'NOUN'), ('and', 'CONJ'), ('arriving', 'VERB'), ('in', 'ADP'), ('San', 'NOUN'), ('Francisco', 'NOUN'), ('.', '.')] \n",
      "\n",
      "*****************************************************************************************************************************\n",
      "Tagging with Vanila Veterbi\n",
      "----------------------------\n",
      "[('NASA', 'PRT'), ('invited', 'PRT'), ('social', 'ADJ'), ('media', 'NOUN'), ('users', 'NOUN'), ('to', 'PRT'), ('experience', 'NOUN'), ('the', 'DET'), ('launch', 'NOUN'), ('of', 'ADP'), ('ICESAT-2', 'PRT'), ('Satellite', 'PRT'), ('.', '.')] \n",
      "\n",
      "Tagging with Vanila Advance Combination of Unigram and Rule Based\n",
      "-------------------------------------------------------------------\n",
      "[('NASA', 'NOUN'), ('invited', 'VERB'), ('social', 'ADJ'), ('media', 'NOUN'), ('users', 'NOUN'), ('to', 'PRT'), ('experience', 'NOUN'), ('the', 'DET'), ('launch', 'NOUN'), ('of', 'ADP'), ('ICESAT-2', 'NOUN'), ('Satellite', 'NOUN'), ('.', '.')] \n",
      "\n",
      "*****************************************************************************************************************************\n"
     ]
    }
   ],
   "source": [
    "## Testing With Vanilla_Viterbi\n",
    "for sentence  in test_sentences:\n",
    "    words = word_tokenize(sentence)\n",
    "    print(\"Tagging with Vanila Veterbi\")\n",
    "    print(\"-\"*28)\n",
    "    tagged_seq_vanila = Viterbi(words)\n",
    "    print(tagged_seq_vanila[0],'\\n')\n",
    "    print(\"Tagging with Vanila Advance Combination of Unigram and Rule Based\")\n",
    "    print(\"-\"*67)\n",
    "    tagged_seq_advance = Viterbi_Advance(words,tagger=4)\n",
    "    print(tagged_seq_advance[0],'\\n')\n",
    "    print(\"*\"*125)"
   ]
  },
  {
   "cell_type": "markdown",
   "metadata": {},
   "source": [
    "# CONCLUSION"
   ]
  },
  {
   "cell_type": "markdown",
   "metadata": {},
   "source": [
    "Most of the words in the test sentences such as Android, Google, FIFA were tagged as VERB in the Vanila Viterbi algorithm.This is corrected by using Advance Viterbi algorithm which consits of the combination of Unigram and Rule based tagging."
   ]
  }
 ],
 "metadata": {
  "kernelspec": {
   "display_name": "Python 3",
   "language": "python",
   "name": "python3"
  },
  "language_info": {
   "codemirror_mode": {
    "name": "ipython",
    "version": 3
   },
   "file_extension": ".py",
   "mimetype": "text/x-python",
   "name": "python",
   "nbconvert_exporter": "python",
   "pygments_lexer": "ipython3",
   "version": "3.6.4"
  }
 },
 "nbformat": 4,
 "nbformat_minor": 2
}
