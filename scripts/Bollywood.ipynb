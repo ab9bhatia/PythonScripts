{
 "cells": [
  {
   "cell_type": "markdown",
   "metadata": {},
   "source": [
    "Import Libraries"
   ]
  },
  {
   "cell_type": "code",
   "execution_count": 2,
   "metadata": {
    "collapsed": true
   },
   "outputs": [],
   "source": [
    "import pandas as pd\n",
    "dirpath = 'C:/Users/ankit.bhatia/Documents/GitHub/PythonScripts/data/'\n",
    "filename = 'bollywood.csv'"
   ]
  },
  {
   "cell_type": "markdown",
   "metadata": {},
   "source": [
    "Import Dataset"
   ]
  },
  {
   "cell_type": "code",
   "execution_count": 3,
   "metadata": {},
   "outputs": [
    {
     "data": {
      "text/html": [
       "<div>\n",
       "<style>\n",
       "    .dataframe thead tr:only-child th {\n",
       "        text-align: right;\n",
       "    }\n",
       "\n",
       "    .dataframe thead th {\n",
       "        text-align: left;\n",
       "    }\n",
       "\n",
       "    .dataframe tbody tr th {\n",
       "        vertical-align: top;\n",
       "    }\n",
       "</style>\n",
       "<table border=\"1\" class=\"dataframe\">\n",
       "  <thead>\n",
       "    <tr style=\"text-align: right;\">\n",
       "      <th></th>\n",
       "      <th>Movie</th>\n",
       "      <th>Lead</th>\n",
       "      <th>Rdate</th>\n",
       "      <th>Ocollection</th>\n",
       "      <th>Wcollection</th>\n",
       "      <th>Fwcollection</th>\n",
       "      <th>Tcollection</th>\n",
       "      <th>Verdict</th>\n",
       "    </tr>\n",
       "  </thead>\n",
       "  <tbody>\n",
       "    <tr>\n",
       "      <th>0</th>\n",
       "      <td>Dangal</td>\n",
       "      <td>Aamir</td>\n",
       "      <td>23-Dec-16</td>\n",
       "      <td>29.78</td>\n",
       "      <td>106.95</td>\n",
       "      <td>197.53</td>\n",
       "      <td>386.68</td>\n",
       "      <td>Super Hit</td>\n",
       "    </tr>\n",
       "    <tr>\n",
       "      <th>1</th>\n",
       "      <td>Wajah Tum Ho</td>\n",
       "      <td>Sharman</td>\n",
       "      <td>16-Dec-16</td>\n",
       "      <td>2.86</td>\n",
       "      <td>7.79</td>\n",
       "      <td>10.29</td>\n",
       "      <td>10.29</td>\n",
       "      <td>Flop</td>\n",
       "    </tr>\n",
       "    <tr>\n",
       "      <th>2</th>\n",
       "      <td>Befikre</td>\n",
       "      <td>Ranveer</td>\n",
       "      <td>09-Dec-16</td>\n",
       "      <td>10.36</td>\n",
       "      <td>34.36</td>\n",
       "      <td>48.75</td>\n",
       "      <td>59.30</td>\n",
       "      <td>Average</td>\n",
       "    </tr>\n",
       "    <tr>\n",
       "      <th>3</th>\n",
       "      <td>Kahaani 2</td>\n",
       "      <td>Vidya</td>\n",
       "      <td>02-Dec-16</td>\n",
       "      <td>4.25</td>\n",
       "      <td>16.97</td>\n",
       "      <td>24.26</td>\n",
       "      <td>30.56</td>\n",
       "      <td>Average</td>\n",
       "    </tr>\n",
       "    <tr>\n",
       "      <th>4</th>\n",
       "      <td>Dear Zindagi</td>\n",
       "      <td>Shahrukh</td>\n",
       "      <td>25-Nov-16</td>\n",
       "      <td>8.75</td>\n",
       "      <td>32.50</td>\n",
       "      <td>47.00</td>\n",
       "      <td>64.44</td>\n",
       "      <td>Hit</td>\n",
       "    </tr>\n",
       "  </tbody>\n",
       "</table>\n",
       "</div>"
      ],
      "text/plain": [
       "          Movie      Lead      Rdate  Ocollection  Wcollection  Fwcollection  \\\n",
       "0        Dangal     Aamir  23-Dec-16        29.78       106.95        197.53   \n",
       "1  Wajah Tum Ho   Sharman  16-Dec-16         2.86         7.79         10.29   \n",
       "2       Befikre   Ranveer  09-Dec-16        10.36        34.36         48.75   \n",
       "3     Kahaani 2     Vidya  02-Dec-16         4.25        16.97         24.26   \n",
       "4  Dear Zindagi  Shahrukh  25-Nov-16         8.75        32.50         47.00   \n",
       "\n",
       "   Tcollection    Verdict  \n",
       "0       386.68  Super Hit  \n",
       "1        10.29       Flop  \n",
       "2        59.30    Average  \n",
       "3        30.56    Average  \n",
       "4        64.44        Hit  "
      ]
     },
     "execution_count": 3,
     "metadata": {},
     "output_type": "execute_result"
    }
   ],
   "source": [
    "data = pd.read_csv(dirpath+filename)\n",
    "data.head()"
   ]
  },
  {
   "cell_type": "markdown",
   "metadata": {},
   "source": [
    "#### Q1. Access the last 10 movies (from the bottom of the Bollywood data frame), Store the names of those movies in last_10 (in the same order)"
   ]
  },
  {
   "cell_type": "code",
   "execution_count": 4,
   "metadata": {},
   "outputs": [
    {
     "data": {
      "text/plain": [
       "60                   Wazir\n",
       "59    Kyaa Kool Hain Hum 3\n",
       "58                 Airlift\n",
       "57              Mastizaade\n",
       "56           Saala Khadoos\n",
       "55       Ghayal Once Again\n",
       "54        Sanam Teri Kasam\n",
       "53                Sanam Re\n",
       "52                  Fitoor\n",
       "51                  Neerja\n",
       "Name: Movie, dtype: object"
      ]
     },
     "execution_count": 4,
     "metadata": {},
     "output_type": "execute_result"
    }
   ],
   "source": [
    "last_10=data.Movie.tail(10).iloc[::-1]     # .iloc[::-1] is used to reverse (from the bottom of the Bollywood data frame).\n",
    "last_10"
   ]
  },
  {
   "cell_type": "markdown",
   "metadata": {},
   "source": [
    "#### Q2. Find out the total number of  missing values (NA) in the bollywood data. Store the result in na_bollywood."
   ]
  },
  {
   "cell_type": "code",
   "execution_count": 11,
   "metadata": {},
   "outputs": [
    {
     "data": {
      "text/plain": [
       "3"
      ]
     },
     "execution_count": 11,
     "metadata": {},
     "output_type": "execute_result"
    }
   ],
   "source": [
    "na_bollywood = data.isnull().sum().sum()\n",
    "na_bollywood"
   ]
  },
  {
   "cell_type": "markdown",
   "metadata": {},
   "source": [
    "#### Q3 Write the command to find out which movie tops the list in terms of Total Collections,Store the movie name top_movie."
   ]
  },
  {
   "cell_type": "code",
   "execution_count": 6,
   "metadata": {},
   "outputs": [
    {
     "name": "stdout",
     "output_type": "stream",
     "text": [
      "['Dangal']\n"
     ]
    }
   ],
   "source": [
    "top_movie = data[data['Tcollection']==max(data['Tcollection'])]['Movie'].values\n",
    "print(top_movie)"
   ]
  },
  {
   "cell_type": "markdown",
   "metadata": {},
   "source": [
    "#### Q4 Write the command to find out which movie comes second on the list in terms of Total Collections.Store the movie name in variable named top_2_movie"
   ]
  },
  {
   "cell_type": "code",
   "execution_count": 7,
   "metadata": {},
   "outputs": [
    {
     "data": {
      "text/plain": [
       "'Sultan'"
      ]
     },
     "execution_count": 7,
     "metadata": {},
     "output_type": "execute_result"
    }
   ],
   "source": [
    "top_2_movie =data.sort_values(by='Tcollection').iloc[-2][0]\n",
    "top_2_movie"
   ]
  },
  {
   "cell_type": "markdown",
   "metadata": {},
   "source": [
    "#### Q5 What is the total collection of Shahrukh, Akshay and Amitabh movies individually? You can use\ta column named 'Tcollection' for this "
   ]
  },
  {
   "cell_type": "code",
   "execution_count": 8,
   "metadata": {},
   "outputs": [
    {
     "name": "stdout",
     "output_type": "stream",
     "text": [
      "148.54\n",
      "364.27\n",
      "121.91\n"
     ]
    }
   ],
   "source": [
    "shahrukh_collection= data[data.Lead=='Shahrukh']['Tcollection'].sum()\n",
    "akshay_collection= data[data.Lead=='Akshay']['Tcollection'].sum()\n",
    "amitabh_collection= data[data.Lead=='Amitabh']['Tcollection'].sum()\n",
    "print(shahrukh_collection)\n",
    "print(akshay_collection)\n",
    "print(amitabh_collection)"
   ]
  },
  {
   "cell_type": "markdown",
   "metadata": {},
   "source": [
    "#### Q6  Write command/s to find out how many movies are in Flop, Average, Hit and Superhit categories in the entire Bollywood data set.\n"
   ]
  },
  {
   "cell_type": "code",
   "execution_count": 9,
   "metadata": {},
   "outputs": [
    {
     "data": {
      "text/plain": [
       "Verdict\n",
       "Average      17\n",
       "Flop         30\n",
       "Hit           7\n",
       "Super Hit     7\n",
       "Name: Movie, dtype: int64"
      ]
     },
     "execution_count": 9,
     "metadata": {},
     "output_type": "execute_result"
    }
   ],
   "source": [
    "data.groupby(by='Verdict').count()['Movie']"
   ]
  },
  {
   "cell_type": "markdown",
   "metadata": {},
   "source": [
    "#### Q7 Write a command to find the names of the movies which have the maximum Ocollection, Wcollection, Fwcollection & Tcollection, Store the names of 4 movies in same sequence in movie_result vector"
   ]
  },
  {
   "cell_type": "code",
   "execution_count": 10,
   "metadata": {},
   "outputs": [
    {
     "name": "stdout",
     "output_type": "stream",
     "text": [
      "[array(['Sultan'], dtype=object), array(['Sultan'], dtype=object), array(['Sultan'], dtype=object), array(['Dangal'], dtype=object)]\n"
     ]
    }
   ],
   "source": [
    "Ocollection= data[data['Ocollection']==max(data['Ocollection'])]['Movie'].values\n",
    "Wcollection= data[data['Wcollection']==max(data['Wcollection'])]['Movie'].values\n",
    "Fwcollection= data[data['Fwcollection']==max(data['Fwcollection'])]['Movie'].values\n",
    "Tcollection= data[data['Tcollection']==max(data['Tcollection'])]['Movie'].values\n",
    "\n",
    "movie_result =[Ocollection,Wcollection,Fwcollection,Tcollection]\n",
    "print(movie_result)"
   ]
  },
  {
   "cell_type": "code",
   "execution_count": null,
   "metadata": {
    "collapsed": true
   },
   "outputs": [],
   "source": []
  }
 ],
 "metadata": {
  "anaconda-cloud": {},
  "kernelspec": {
   "display_name": "Python 3",
   "language": "python",
   "name": "python3"
  },
  "language_info": {
   "codemirror_mode": {
    "name": "ipython",
    "version": 3
   },
   "file_extension": ".py",
   "mimetype": "text/x-python",
   "name": "python",
   "nbconvert_exporter": "python",
   "pygments_lexer": "ipython3",
   "version": "3.6.1"
  }
 },
 "nbformat": 4,
 "nbformat_minor": 1
}
