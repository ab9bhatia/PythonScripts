{
 "cells": [
  {
   "cell_type": "markdown",
   "metadata": {},
   "source": [
    "### POS Tagging"
   ]
  },
  {
   "cell_type": "code",
   "execution_count": 1,
   "metadata": {},
   "outputs": [],
   "source": [
    "import re\n",
    "import pandas as pd\n",
    "import numpy as np\n",
    "from nltk import pos_tag\n",
    "from nltk.tokenize import sent_tokenize, word_tokenize\n",
    "from nltk.corpus import stopwords\n",
    "dirpath = 'C:/Users/ankit.bhatia/Documents/GitHub/PythonScripts/data/'\n",
    "filename = 'wiki.txt'"
   ]
  },
  {
   "cell_type": "markdown",
   "metadata": {},
   "source": [
    "#### Read File\n",
    "#### Remove regular expressions from the data\n",
    "#### Tokenize the data into words\n",
    "#### Remove stopwords\n",
    "#### POS tagging"
   ]
  },
  {
   "cell_type": "code",
   "execution_count": 12,
   "metadata": {},
   "outputs": [
    {
     "data": {
      "text/plain": [
       "[('concept', 'NN'),\n",
       " ('super', 'NN'),\n",
       " ('mario', 'NN'),\n",
       " ('galaxy', 'NN'),\n",
       " ('gameplay', 'NN'),\n",
       " ('originated', 'VBD'),\n",
       " ('ideas', 'NNS'),\n",
       " ('taken', 'VBN'),\n",
       " ('super', 'JJ'),\n",
       " ('mario', 'NN')]"
      ]
     },
     "execution_count": 12,
     "metadata": {},
     "output_type": "execute_result"
    }
   ],
   "source": [
    "data = read_file(dirpath, filename) \n",
    "data = removeExpression(data,\"[^0-9A-Za-z\\+]\")\n",
    "data = tokenize(data)\n",
    "data = removeStopWords(data)\n",
    "data = pos(data)\n",
    "data[:10]"
   ]
  },
  {
   "cell_type": "markdown",
   "metadata": {},
   "source": [
    "#### Define functions"
   ]
  },
  {
   "cell_type": "code",
   "execution_count": null,
   "metadata": {
    "collapsed": true
   },
   "outputs": [],
   "source": [
    "def read_file(dirpath, filename):\n",
    "    with open(dirpath+filename) as out:\n",
    "        return out.read()\n",
    "    \n",
    "def removeExpression(data,regex):\n",
    "    return re.sub(regex, \" \",data)\n",
    "\n",
    "def tokenize(data):\n",
    "    phrases = sent_tokenize(data)\n",
    "    for word in phrases:\n",
    "        words = word_tokenize(word.lower())\n",
    "    return words\n",
    "\n",
    "def removeStopWords(data):\n",
    "    OUT=[]\n",
    "    for word in data:\n",
    "        if word not in set(stopwords.words('english')):\n",
    "            OUT.append(word)\n",
    "    return OUT\n",
    "\n",
    "def pos(data):\n",
    "    return pos_tag(data)"
   ]
  }
 ],
 "metadata": {
  "kernelspec": {
   "display_name": "Python 3",
   "language": "python",
   "name": "python3"
  },
  "language_info": {
   "codemirror_mode": {
    "name": "ipython",
    "version": 3
   },
   "file_extension": ".py",
   "mimetype": "text/x-python",
   "name": "python",
   "nbconvert_exporter": "python",
   "pygments_lexer": "ipython3",
   "version": "3.6.1"
  }
 },
 "nbformat": 4,
 "nbformat_minor": 2
}
