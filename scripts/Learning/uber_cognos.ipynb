{
 "cells": [
  {
   "cell_type": "code",
   "execution_count": 30,
   "metadata": {
    "collapsed": true
   },
   "outputs": [],
   "source": [
    "import pandas as pd\n",
    "import calendar"
   ]
  },
  {
   "cell_type": "code",
   "execution_count": null,
   "metadata": {
    "collapsed": true
   },
   "outputs": [],
   "source": [
    "uber['Year'] = uber['TIMESTAMP'].apply(lambda x: x.year)\n",
    "uber['Month'] = uber['TIMESTAMP'].apply(lambda x: x.month)\n",
    "uber['Quarter'] = uber['TIMESTAMP'].apply(lambda x: x.quarter)\n",
    "uber['Week'] = uber['TIMESTAMP'].apply(lambda x: x.week)\n",
    "uber['Day'] = uber['TIMESTAMP'].apply(lambda x: x.weekday_name)\n",
    "uber.head()"
   ]
  },
  {
   "cell_type": "code",
   "execution_count": 66,
   "metadata": {},
   "outputs": [
    {
     "data": {
      "text/html": [
       "<div>\n",
       "<style>\n",
       "    .dataframe thead tr:only-child th {\n",
       "        text-align: right;\n",
       "    }\n",
       "\n",
       "    .dataframe thead th {\n",
       "        text-align: left;\n",
       "    }\n",
       "\n",
       "    .dataframe tbody tr th {\n",
       "        vertical-align: top;\n",
       "    }\n",
       "</style>\n",
       "<table border=\"1\" class=\"dataframe\">\n",
       "  <thead>\n",
       "    <tr style=\"text-align: right;\">\n",
       "      <th></th>\n",
       "      <th>Latitude</th>\n",
       "      <th>Longitude</th>\n",
       "      <th>Base</th>\n",
       "      <th>Timestamp</th>\n",
       "      <th>Year</th>\n",
       "      <th>Quarter</th>\n",
       "      <th>Month</th>\n",
       "      <th>DayName</th>\n",
       "      <th>Cluster</th>\n",
       "      <th>Week</th>\n",
       "    </tr>\n",
       "  </thead>\n",
       "  <tbody>\n",
       "    <tr>\n",
       "      <th>0</th>\n",
       "      <td>40.7293</td>\n",
       "      <td>-73.9920</td>\n",
       "      <td>B02512</td>\n",
       "      <td>2014-06-01 00:00:00</td>\n",
       "      <td>2014</td>\n",
       "      <td>Q6</td>\n",
       "      <td>February</td>\n",
       "      <td>Sunday</td>\n",
       "      <td>0</td>\n",
       "      <td>Week22</td>\n",
       "    </tr>\n",
       "    <tr>\n",
       "      <th>1</th>\n",
       "      <td>40.7131</td>\n",
       "      <td>-74.0097</td>\n",
       "      <td>B02512</td>\n",
       "      <td>2014-06-01 00:01:00</td>\n",
       "      <td>2014</td>\n",
       "      <td>Q6</td>\n",
       "      <td>February</td>\n",
       "      <td>Sunday</td>\n",
       "      <td>0</td>\n",
       "      <td>Week22</td>\n",
       "    </tr>\n",
       "    <tr>\n",
       "      <th>2</th>\n",
       "      <td>40.3461</td>\n",
       "      <td>-74.6610</td>\n",
       "      <td>B02512</td>\n",
       "      <td>2014-06-01 00:04:00</td>\n",
       "      <td>2014</td>\n",
       "      <td>Q6</td>\n",
       "      <td>February</td>\n",
       "      <td>Sunday</td>\n",
       "      <td>2</td>\n",
       "      <td>Week22</td>\n",
       "    </tr>\n",
       "    <tr>\n",
       "      <th>3</th>\n",
       "      <td>40.7555</td>\n",
       "      <td>-73.9833</td>\n",
       "      <td>B02512</td>\n",
       "      <td>2014-06-01 00:04:00</td>\n",
       "      <td>2014</td>\n",
       "      <td>Q6</td>\n",
       "      <td>February</td>\n",
       "      <td>Sunday</td>\n",
       "      <td>5</td>\n",
       "      <td>Week22</td>\n",
       "    </tr>\n",
       "    <tr>\n",
       "      <th>4</th>\n",
       "      <td>40.6880</td>\n",
       "      <td>-74.1831</td>\n",
       "      <td>B02512</td>\n",
       "      <td>2014-06-01 00:07:00</td>\n",
       "      <td>2014</td>\n",
       "      <td>Q6</td>\n",
       "      <td>February</td>\n",
       "      <td>Sunday</td>\n",
       "      <td>2</td>\n",
       "      <td>Week22</td>\n",
       "    </tr>\n",
       "  </tbody>\n",
       "</table>\n",
       "</div>"
      ],
      "text/plain": [
       "   Latitude  Longitude    Base           Timestamp  Year Quarter     Month  \\\n",
       "0   40.7293   -73.9920  B02512 2014-06-01 00:00:00  2014      Q6  February   \n",
       "1   40.7131   -74.0097  B02512 2014-06-01 00:01:00  2014      Q6  February   \n",
       "2   40.3461   -74.6610  B02512 2014-06-01 00:04:00  2014      Q6  February   \n",
       "3   40.7555   -73.9833  B02512 2014-06-01 00:04:00  2014      Q6  February   \n",
       "4   40.6880   -74.1831  B02512 2014-06-01 00:07:00  2014      Q6  February   \n",
       "\n",
       "  DayName  Cluster    Week  \n",
       "0  Sunday        0  Week22  \n",
       "1  Sunday        0  Week22  \n",
       "2  Sunday        2  Week22  \n",
       "3  Sunday        5  Week22  \n",
       "4  Sunday        2  Week22  "
      ]
     },
     "execution_count": 66,
     "metadata": {},
     "output_type": "execute_result"
    }
   ],
   "source": [
    "uber = pd.read_csv('C:/Users/ankit.bhatia/Documents/Cognos/Uber Final.csv')\n",
    "uber['Timestamp'] = pd.to_datetime(uber.Timestamp)\n",
    "uber['Week'] = uber['Timestamp'].apply(lambda x: 'Week'+ str(x.week))\n",
    "uber.head()\n"
   ]
  },
  {
   "cell_type": "code",
   "execution_count": 69,
   "metadata": {},
   "outputs": [
    {
     "data": {
      "text/html": [
       "<div>\n",
       "<style>\n",
       "    .dataframe thead tr:only-child th {\n",
       "        text-align: right;\n",
       "    }\n",
       "\n",
       "    .dataframe thead th {\n",
       "        text-align: left;\n",
       "    }\n",
       "\n",
       "    .dataframe tbody tr th {\n",
       "        vertical-align: top;\n",
       "    }\n",
       "</style>\n",
       "<table border=\"1\" class=\"dataframe\">\n",
       "  <thead>\n",
       "    <tr style=\"text-align: right;\">\n",
       "      <th></th>\n",
       "      <th>TIMESTAMP</th>\n",
       "      <th>CLUSTER</th>\n",
       "      <th>COUNT</th>\n",
       "      <th>Year</th>\n",
       "      <th>Month</th>\n",
       "      <th>Quarter</th>\n",
       "      <th>Week</th>\n",
       "      <th>Day</th>\n",
       "    </tr>\n",
       "  </thead>\n",
       "  <tbody>\n",
       "    <tr>\n",
       "      <th>0</th>\n",
       "      <td>04-07-2014 00:00</td>\n",
       "      <td>7</td>\n",
       "      <td>50</td>\n",
       "      <td>2014</td>\n",
       "      <td>July</td>\n",
       "      <td>Q3</td>\n",
       "      <td>Week27</td>\n",
       "      <td>Friday</td>\n",
       "    </tr>\n",
       "    <tr>\n",
       "      <th>1</th>\n",
       "      <td>04-07-2014 00:00</td>\n",
       "      <td>7</td>\n",
       "      <td>45</td>\n",
       "      <td>2014</td>\n",
       "      <td>July</td>\n",
       "      <td>Q3</td>\n",
       "      <td>Week27</td>\n",
       "      <td>Friday</td>\n",
       "    </tr>\n",
       "    <tr>\n",
       "      <th>2</th>\n",
       "      <td>30-04-2014 17:45</td>\n",
       "      <td>7</td>\n",
       "      <td>36</td>\n",
       "      <td>2014</td>\n",
       "      <td>April</td>\n",
       "      <td>Q2</td>\n",
       "      <td>Week18</td>\n",
       "      <td>Wednesday</td>\n",
       "    </tr>\n",
       "    <tr>\n",
       "      <th>3</th>\n",
       "      <td>30-04-2014 18:39</td>\n",
       "      <td>7</td>\n",
       "      <td>34</td>\n",
       "      <td>2014</td>\n",
       "      <td>April</td>\n",
       "      <td>Q2</td>\n",
       "      <td>Week18</td>\n",
       "      <td>Wednesday</td>\n",
       "    </tr>\n",
       "    <tr>\n",
       "      <th>4</th>\n",
       "      <td>30-04-2014 19:05</td>\n",
       "      <td>4</td>\n",
       "      <td>34</td>\n",
       "      <td>2014</td>\n",
       "      <td>April</td>\n",
       "      <td>Q2</td>\n",
       "      <td>Week18</td>\n",
       "      <td>Wednesday</td>\n",
       "    </tr>\n",
       "  </tbody>\n",
       "</table>\n",
       "</div>"
      ],
      "text/plain": [
       "          TIMESTAMP  CLUSTER  COUNT  Year  Month Quarter    Week        Day\n",
       "0  04-07-2014 00:00        7     50  2014   July      Q3  Week27     Friday\n",
       "1  04-07-2014 00:00        7     45  2014   July      Q3  Week27     Friday\n",
       "2  30-04-2014 17:45        7     36  2014  April      Q2  Week18  Wednesday\n",
       "3  30-04-2014 18:39        7     34  2014  April      Q2  Week18  Wednesday\n",
       "4  30-04-2014 19:05        4     34  2014  April      Q2  Week18  Wednesday"
      ]
     },
     "execution_count": 69,
     "metadata": {},
     "output_type": "execute_result"
    }
   ],
   "source": [
    "uber2 = pd.read_csv('C:/Users/ankit.bhatia/Documents/Cognos/UBER2.csv')\n",
    "uber2['Week'] = 'Week'+ uber2['Week'].map(str)\n",
    "uber2.head()"
   ]
  },
  {
   "cell_type": "code",
   "execution_count": 55,
   "metadata": {},
   "outputs": [],
   "source": [
    "#uber['Day'] = 'Day'+ uber['Day'].map(str)\n",
    "#uber['Quarter'] = 'Q'+ uber['Quarter'].map(str)\n",
    "#uber.drop(labels ='Day',axis =1,inplace=True)\n",
    "#uber['Month'] = uber['Month'].apply(lambda x : calendar.month_name[x])\n",
    "#pd.Timestamp(uber['Timestamp'])\n",
    "#uber.head()"
   ]
  },
  {
   "cell_type": "code",
   "execution_count": 62,
   "metadata": {
    "collapsed": true
   },
   "outputs": [],
   "source": [
    "uber.to_csv(path_or_buf = 'C:/Users/ankit.bhatia/Documents/Cognos/Uber Final.csv',index= False)"
   ]
  },
  {
   "cell_type": "code",
   "execution_count": 70,
   "metadata": {
    "collapsed": true
   },
   "outputs": [],
   "source": [
    "uber2.to_csv(path_or_buf = 'C:/Users/ankit.bhatia/Documents/Cognos/UBER2.csv',index= False)"
   ]
  },
  {
   "cell_type": "code",
   "execution_count": null,
   "metadata": {
    "collapsed": true
   },
   "outputs": [],
   "source": []
  }
 ],
 "metadata": {
  "kernelspec": {
   "display_name": "Python 3",
   "language": "python",
   "name": "python3"
  },
  "language_info": {
   "codemirror_mode": {
    "name": "ipython",
    "version": 3
   },
   "file_extension": ".py",
   "mimetype": "text/x-python",
   "name": "python",
   "nbconvert_exporter": "python",
   "pygments_lexer": "ipython3",
   "version": "3.6.3"
  }
 },
 "nbformat": 4,
 "nbformat_minor": 2
}
