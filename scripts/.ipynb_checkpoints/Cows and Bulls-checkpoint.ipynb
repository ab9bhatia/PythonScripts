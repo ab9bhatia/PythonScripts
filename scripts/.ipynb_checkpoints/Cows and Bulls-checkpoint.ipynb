{
 "cells": [
  {
   "cell_type": "markdown",
   "metadata": {},
   "source": [
    "# Cows and Bulls\n",
    "\n",
    "### Game Rules\n",
    "\n",
    "The numerical version of the game is usually played with 4 digits.\n",
    "One palyer write a 4-digit secret number. The digits must be all different. Then, in turn, the players try to guess their opponent's number who gives the number of matches & matching positions. \n",
    "For examples, if the secret number was 3 7 8 1, and opponent guessed it as 4 7 1 8, then in this case count of Matching number is  3 and count of Matching position is 1. Based on this matching numbers & matching positions the opponent will guess another number till opponent guessed the right number. The Goal here is to guess the number in minimum number of attempts."
   ]
  },
  {
   "cell_type": "code",
   "execution_count": 1,
   "metadata": {},
   "outputs": [],
   "source": [
    "import sqlite3\n",
    "import numpy as np\n",
    "import random\n",
    "import time\n",
    "import datetime\n",
    "import matplotlib.pyplot as plt\n",
    "%matplotlib inline\n",
    "import pandas as pd"
   ]
  },
  {
   "cell_type": "code",
   "execution_count": 13,
   "metadata": {},
   "outputs": [
    {
     "name": "stdout",
     "output_type": "stream",
     "text": [
      "Hi, Enter your Name : atul\n",
      "\n",
      "Welcome  ATUL\n",
      "[9, 5, 6, 7]\n",
      "Enter four numbers to guess : 9 6 5 3\n",
      "[9 6 5 3] \n",
      "\n",
      "Matching Number(s) :  3        Matching Position(s) :  1 \n",
      "\n",
      "Enter four numbers to guess : 9 4 3 5\n",
      "[9 4 3 5] \n",
      "\n",
      "Matching Number(s) :  2        Matching Position(s) :  1 \n",
      "\n",
      "Enter four numbers to guess : 9 6 7 4\n",
      "[9 6 7 4] \n",
      "\n",
      "Matching Number(s) :  3        Matching Position(s) :  1 \n",
      "\n",
      "Enter four numbers to guess : 9 5 6 7\n",
      "[9 5 6 7] \n",
      "\n",
      "Matching Number(s) :  4        Matching Position(s) :  4 \n",
      "\n",
      "Congratulations,  ATUL , You have guessed the number in  4  attempts and took 29.79  seconds\n",
      "\n",
      "Saving data into database\n",
      "\n"
     ]
    },
    {
     "data": {
      "text/html": [
       "<div>\n",
       "<style>\n",
       "    .dataframe thead tr:only-child th {\n",
       "        text-align: right;\n",
       "    }\n",
       "\n",
       "    .dataframe thead th {\n",
       "        text-align: left;\n",
       "    }\n",
       "\n",
       "    .dataframe tbody tr th {\n",
       "        vertical-align: top;\n",
       "    }\n",
       "</style>\n",
       "<table border=\"1\" class=\"dataframe\">\n",
       "  <thead>\n",
       "    <tr style=\"text-align: right;\">\n",
       "      <th></th>\n",
       "      <th>USER</th>\n",
       "      <th>NUMBER</th>\n",
       "      <th>ATTEMPTS</th>\n",
       "      <th>DURATION</th>\n",
       "      <th>EVENTTIME</th>\n",
       "    </tr>\n",
       "  </thead>\n",
       "  <tbody>\n",
       "    <tr>\n",
       "      <th>0</th>\n",
       "      <td>ATUL</td>\n",
       "      <td>[9, 5, 6, 7]</td>\n",
       "      <td>4</td>\n",
       "      <td>29.79</td>\n",
       "      <td>2017-10-28 16:30:38.353943</td>\n",
       "    </tr>\n",
       "    <tr>\n",
       "      <th>1</th>\n",
       "      <td>ANKIT</td>\n",
       "      <td>[6, 8, 4, 1]</td>\n",
       "      <td>4</td>\n",
       "      <td>44.18</td>\n",
       "      <td>2017-10-28 16:24:00.755377</td>\n",
       "    </tr>\n",
       "  </tbody>\n",
       "</table>\n",
       "</div>"
      ],
      "text/plain": [
       "    USER        NUMBER  ATTEMPTS  DURATION                   EVENTTIME\n",
       "0   ATUL  [9, 5, 6, 7]         4     29.79  2017-10-28 16:30:38.353943\n",
       "1  ANKIT  [6, 8, 4, 1]         4     44.18  2017-10-28 16:24:00.755377"
      ]
     },
     "execution_count": 13,
     "metadata": {},
     "output_type": "execute_result"
    }
   ],
   "source": [
    "eventtime = datetime.datetime.now()\n",
    "#eventtime = '{:%Y-%m-%d %H:%M:%S}'.format(datetime.datetime.now())\n",
    "USER = (input('Hi, Enter your Name : ').upper())\n",
    "print('\\nWelcome ',USER)\n",
    "computerGivenNo = random.sample(range(10), 4)\n",
    "NUMBER = \"\".join(str(computerGivenNo))\n",
    "print(computerGivenNo)  \n",
    "\n",
    "notGuessed = True\n",
    "attempts = 0\n",
    "tic = time.time()\n",
    "while(notGuessed):\n",
    "    matching = 0\n",
    "    position = 0\n",
    "    userGivenNo = np.array(input('Enter four numbers to guess : ').strip().split(),int)\n",
    "    attempts += 1\n",
    "    print(userGivenNo,'\\n')\n",
    "    for i in range(4):\n",
    "        if(computerGivenNo[i]==userGivenNo[i]):\n",
    "                position += 1\n",
    "\n",
    "    for i in computerGivenNo:\n",
    "        if i in userGivenNo:\n",
    "            matching += 1\n",
    "\n",
    "    print('Matching Number(s) : ',matching, '       Matching Position(s) : ',position,'\\n') \n",
    "    if(position ==4):\n",
    "        notGuessed = False\n",
    "        \n",
    "toc = time.time()\n",
    "duration = round((toc -tic),2)\n",
    "\n",
    "print('Congratulations, ',USER, ', You have guessed the number in ',attempts,' attempts and took', duration,' seconds\\n')\n",
    "\n",
    "# Database connection\n",
    "conn = sqlite3.connect('example.db')\n",
    "c = conn.cursor()\n",
    "\n",
    "print('Saving data into database\\n')\n",
    "time.sleep(3)\n",
    "\n",
    "# Create table\n",
    "c.execute(\"CREATE TABLE IF NOT EXISTS COWBULL(USER varchar(20),NUMBER varchar(4),ATTEMPTS int,DURATION real,EVENTTIME text UNIQUE) \")\n",
    "\n",
    "# Insert into table\n",
    "istmnt = '''INSERT INTO COWBULL (USER,NUMBER,ATTEMPTS,DURATION,EVENTTIME) VALUES(?,?,?,?,?)'''\n",
    "c.execute(istmnt,(USER,NUMBER,attempts,duration,eventtime))\n",
    "conn.commit()\n",
    "\n",
    "# Accessing the data through Dataframe\n",
    "#GameData = c.execute(\"SELECT * FROM COWBULL ORDER BY EVENTTIME DESC\");\n",
    "GameData = pd.read_sql_query(\"SELECT * FROM COWBULL ORDER BY EVENTTIME DESC\",conn);\n",
    "GameData"
   ]
  },
  {
   "cell_type": "code",
   "execution_count": 18,
   "metadata": {},
   "outputs": [
    {
     "data": {
      "image/png": "[encoded data removed]",
      "text/plain": [
       "<matplotlib.figure.Figure at 0x4ad88f7400>"
      ]
     },
     "metadata": {},
     "output_type": "display_data"
    }
   ],
   "source": [
    "plt.plot(GameData.DURATION,GameData.ATTEMPTS)\n",
    "plt.show()"
   ]
  },
  {
   "cell_type": "code",
   "execution_count": 21,
   "metadata": {},
   "outputs": [
    {
     "data": {
      "text/plain": [
       "4"
      ]
     },
     "execution_count": 21,
     "metadata": {},
     "output_type": "execute_result"
    }
   ],
   "source": [
    "userGivenNo.size"
   ]
  },
  {
   "cell_type": "code",
   "execution_count": null,
   "metadata": {},
   "outputs": [],
   "source": []
  }
 ],
 "metadata": {
  "anaconda-cloud": {},
  "kernelspec": {
   "display_name": "Python [default]",
   "language": "python",
   "name": "python3"
  },
  "language_info": {
   "codemirror_mode": {
    "name": "ipython",
    "version": 3
   },
   "file_extension": ".py",
   "mimetype": "text/x-python",
   "name": "python",
   "nbconvert_exporter": "python",
   "pygments_lexer": "ipython3",
   "version": "3.5.2"
  }
 },
 "nbformat": 4,
 "nbformat_minor": 2
}
