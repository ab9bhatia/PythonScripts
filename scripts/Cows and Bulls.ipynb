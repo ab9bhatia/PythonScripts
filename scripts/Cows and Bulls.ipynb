{
 "cells": [
  {
   "cell_type": "markdown",
   "metadata": {},
   "source": [
    "# Cows and Bulls\n",
    "\n",
    "### Game Rules\n",
    "\n",
    "The numerical version of the game is usually played with 4 digits.\n",
    "One palyer write a 4-digit secret number. The digits must be all different. Then, in turn, the players try to guess their opponent's number who gives the number of matches & matching positions. \n",
    "For examples, if the secret number was 3 7 8 1, and opponent guessed it as 4 7 1 8, then in this case count of Matching number is  3 and count of Matching position is 1. Based on this matching numbers & matching positions the opponent will guess another number till opponent guessed the right number. The Goal here is to guess the number in minimum number of attempts."
   ]
  },
  {
   "cell_type": "code",
   "execution_count": 2,
   "metadata": {
    "collapsed": true
   },
   "outputs": [],
   "source": [
    "import sqlite3\n",
    "import numpy as np\n",
    "import random\n",
    "import time\n",
    "import datetime\n",
    "import matplotlib.pyplot as plt\n",
    "%matplotlib inline\n",
    "import pandas as pd"
   ]
  },
  {
   "cell_type": "code",
   "execution_count": 3,
   "metadata": {},
   "outputs": [
    {
     "name": "stdout",
     "output_type": "stream",
     "text": [
      "Hi, Enter your Name : ankit\n",
      "\n",
      "Welcome  ANKIT\n",
      "[2, 8, 9, 6]\n",
      "Enter four numbers to guess : 8 0 9 6\n",
      "[8 0 9 6] \n",
      "\n",
      "Matching Number(s) :  3        Matching Position(s) :  2 \n",
      "\n",
      "Enter four numbers to guess : 2 8 9 5\n",
      "[2 8 9 5] \n",
      "\n",
      "Matching Number(s) :  3        Matching Position(s) :  3 \n",
      "\n",
      "Enter four numbers to guess : 2 8 9 6\n",
      "[2 8 9 6] \n",
      "\n",
      "Matching Number(s) :  4        Matching Position(s) :  4 \n",
      "\n",
      "Congratulations,  ANKIT , You have guessed the number in  3  attempts and took 33.35  seconds\n",
      "\n",
      "Saving data into database\n",
      "\n"
     ]
    },
    {
     "ename": "OperationalError",
     "evalue": "database is locked",
     "output_type": "error",
     "traceback": [
      "\u001b[1;31m---------------------------------------------------------------------------\u001b[0m",
      "\u001b[1;31mOperationalError\u001b[0m                          Traceback (most recent call last)",
      "\u001b[1;32m<ipython-input-3-6aa08996ed09>\u001b[0m in \u001b[0;36m<module>\u001b[1;34m()\u001b[0m\n\u001b[0;32m     45\u001b[0m \u001b[1;31m# Insert into table\u001b[0m\u001b[1;33m\u001b[0m\u001b[1;33m\u001b[0m\u001b[0m\n\u001b[0;32m     46\u001b[0m \u001b[0mistmnt\u001b[0m \u001b[1;33m=\u001b[0m \u001b[1;34m'''INSERT INTO COWBULL (USER,NUMBER,ATTEMPTS,DURATION,EVENTTIME) VALUES(?,?,?,?,?)'''\u001b[0m\u001b[1;33m\u001b[0m\u001b[0m\n\u001b[1;32m---> 47\u001b[1;33m \u001b[0mc\u001b[0m\u001b[1;33m.\u001b[0m\u001b[0mexecute\u001b[0m\u001b[1;33m(\u001b[0m\u001b[0mistmnt\u001b[0m\u001b[1;33m,\u001b[0m\u001b[1;33m(\u001b[0m\u001b[0mUSER\u001b[0m\u001b[1;33m,\u001b[0m\u001b[0mNUMBER\u001b[0m\u001b[1;33m,\u001b[0m\u001b[0mattempts\u001b[0m\u001b[1;33m,\u001b[0m\u001b[0mduration\u001b[0m\u001b[1;33m,\u001b[0m\u001b[0meventtime\u001b[0m\u001b[1;33m)\u001b[0m\u001b[1;33m)\u001b[0m\u001b[1;33m\u001b[0m\u001b[0m\n\u001b[0m\u001b[0;32m     48\u001b[0m \u001b[0mconn\u001b[0m\u001b[1;33m.\u001b[0m\u001b[0mcommit\u001b[0m\u001b[1;33m(\u001b[0m\u001b[1;33m)\u001b[0m\u001b[1;33m\u001b[0m\u001b[0m\n\u001b[0;32m     49\u001b[0m \u001b[1;31m# Accessing the data through Dataframe\u001b[0m\u001b[1;33m\u001b[0m\u001b[1;33m\u001b[0m\u001b[0m\n",
      "\u001b[1;31mOperationalError\u001b[0m: database is locked"
     ]
    }
   ],
   "source": [
    "eventtime = datetime.datetime.now()\n",
    "#eventtime = '{:%Y-%m-%d %H:%M:%S}'.format(datetime.datetime.now())\n",
    "USER = (input('Hi, Enter your Name : ').upper())\n",
    "print('\\nWelcome ',USER)\n",
    "computerGivenNo = random.sample(range(10), 4)\n",
    "NUMBER = \"\".join(str(computerGivenNo))\n",
    "print(computerGivenNo)  \n",
    "\n",
    "notGuessed = True\n",
    "attempts = 0\n",
    "tic = time.time()\n",
    "while(notGuessed):\n",
    "    matching = 0\n",
    "    position = 0\n",
    "    userGivenNo = np.array(input('Enter four numbers to guess : ').strip().split(),int)\n",
    "    attempts += 1\n",
    "    print(userGivenNo,'\\n')\n",
    "    for i in range(4):\n",
    "        if(computerGivenNo[i]==userGivenNo[i]):\n",
    "                position += 1\n",
    "\n",
    "    for i in computerGivenNo:\n",
    "        if i in userGivenNo:\n",
    "            matching += 1\n",
    "\n",
    "    print('Matching Number(s) : ',matching, '       Matching Position(s) : ',position,'\\n') \n",
    "    if(position ==4):\n",
    "        notGuessed = False\n",
    "        \n",
    "toc = time.time()\n",
    "duration = round((toc -tic),2)\n",
    "\n",
    "print('Congratulations, ',USER, ', You have guessed the number in ',attempts,' attempts and took', duration,' seconds\\n')\n",
    "\n",
    "# Database connection\n",
    "conn = sqlite3.connect('example.db')\n",
    "c = conn.cursor()\n",
    "\n",
    "print('Saving data into database\\n')\n",
    "time.sleep(3)\n",
    "\n",
    "# Create table\n",
    "#c.execute(\"CREATE TABLE IF NOT EXISTS COWBULL(USER varchar(20),NUMBER varchar(4),ATTEMPTS int,DURATION real,EVENTTIME text UNIQUE) \")\n",
    "\n",
    "# Insert into table\n",
    "istmnt = '''INSERT INTO COWBULL (USER,NUMBER,ATTEMPTS,DURATION,EVENTTIME) VALUES(?,?,?,?,?)'''\n",
    "c.execute(istmnt,(USER,NUMBER,attempts,duration,eventtime))\n",
    "conn.commit()\n",
    "# Accessing the data through Dataframe\n",
    "#GameData = c.execute(\"SELECT * FROM COWBULL ORDER BY EVENTTIME DESC\");\n",
    "GameData = pd.read_sql_query(\"SELECT * FROM COWBULL ORDER BY EVENTTIME DESC\",conn);\n",
    "conn.close()\n",
    "GameData"
   ]
  },
  {
   "cell_type": "code",
   "execution_count": 4,
   "metadata": {},
   "outputs": [
    {
     "ename": "NameError",
     "evalue": "name 'GameData' is not defined",
     "output_type": "error",
     "traceback": [
      "\u001b[1;31m---------------------------------------------------------------------------\u001b[0m",
      "\u001b[1;31mNameError\u001b[0m                                 Traceback (most recent call last)",
      "\u001b[1;32m<ipython-input-4-10f9e8ecc693>\u001b[0m in \u001b[0;36m<module>\u001b[1;34m()\u001b[0m\n\u001b[1;32m----> 1\u001b[1;33m \u001b[0mplt\u001b[0m\u001b[1;33m.\u001b[0m\u001b[0mplot\u001b[0m\u001b[1;33m(\u001b[0m\u001b[0mGameData\u001b[0m\u001b[1;33m.\u001b[0m\u001b[0mDURATION\u001b[0m\u001b[1;33m,\u001b[0m\u001b[0mGameData\u001b[0m\u001b[1;33m.\u001b[0m\u001b[0mATTEMPTS\u001b[0m\u001b[1;33m)\u001b[0m\u001b[1;33m\u001b[0m\u001b[0m\n\u001b[0m\u001b[0;32m      2\u001b[0m \u001b[0mplt\u001b[0m\u001b[1;33m.\u001b[0m\u001b[0mshow\u001b[0m\u001b[1;33m(\u001b[0m\u001b[1;33m)\u001b[0m\u001b[1;33m\u001b[0m\u001b[0m\n",
      "\u001b[1;31mNameError\u001b[0m: name 'GameData' is not defined"
     ]
    }
   ],
   "source": [
    "plt.plot(GameData.DURATION,GameData.ATTEMPTS)\n",
    "plt.show()"
   ]
  },
  {
   "cell_type": "code",
   "execution_count": null,
   "metadata": {
    "collapsed": true
   },
   "outputs": [],
   "source": []
  }
 ],
 "metadata": {
  "kernelspec": {
   "display_name": "Python 3",
   "language": "python",
   "name": "python3"
  },
  "language_info": {
   "codemirror_mode": {
    "name": "ipython",
    "version": 3
   },
   "file_extension": ".py",
   "mimetype": "text/x-python",
   "name": "python",
   "nbconvert_exporter": "python",
   "pygments_lexer": "ipython3",
   "version": "3.6.1"
  }
 },
 "nbformat": 4,
 "nbformat_minor": 2
}
