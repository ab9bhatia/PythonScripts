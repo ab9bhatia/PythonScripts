{
 "cells": [
  {
   "cell_type": "code",
   "execution_count": 679,
   "metadata": {},
   "outputs": [],
   "source": [
    "# import libaries\n",
    "import numpy as np\n",
    "import pandas as pd\n",
    "import nltk, pprint\n",
    "import matplotlib.pyplot as plt\n",
    "%matplotlib inline\n",
    "\n",
    "import seaborn as sns\n",
    "import random\n",
    "\n",
    "import gzip, os, pickle # gzip for reading the gz files, pickle to save/dump trained model \n",
    "import _pickle as cPickle\n",
    "\n",
    "import sklearn\n",
    "from sklearn.model_selection import GridSearchCV\n",
    "from sklearn.grid_search import RandomizedSearchCV\n",
    "\n",
    "# train-test split\n",
    "from sklearn.model_selection import train_test_split\n",
    "\n",
    "import time\n",
    "\n",
    "# supress warnings\n",
    "import warnings\n",
    "warnings.filterwarnings('ignore')"
   ]
  },
  {
   "cell_type": "markdown",
   "metadata": {},
   "source": [
    "### Import Data"
   ]
  },
  {
   "cell_type": "code",
   "execution_count": 680,
   "metadata": {},
   "outputs": [],
   "source": [
    "# reading the Treebank tagged sentences\n",
    "data = list(nltk.corpus.treebank.tagged_sents(tagset='universal'))"
   ]
  },
  {
   "cell_type": "code",
   "execution_count": 681,
   "metadata": {},
   "outputs": [
    {
     "name": "stdout",
     "output_type": "stream",
     "text": [
      "Number of Sentences in the corpus:: 3914 \n",
      "\n",
      "[[('Pierre', 'NOUN'), ('Vinken', 'NOUN'), (',', '.'), ('61', 'NUM'), ('years', 'NOUN'), ('old', 'ADJ'), (',', '.'), ('will', 'VERB'), ('join', 'VERB'), ('the', 'DET'), ('board', 'NOUN'), ('as', 'ADP'), ('a', 'DET'), ('nonexecutive', 'ADJ'), ('director', 'NOUN'), ('Nov.', 'NOUN'), ('29', 'NUM'), ('.', '.')], [('Mr.', 'NOUN'), ('Vinken', 'NOUN'), ('is', 'VERB'), ('chairman', 'NOUN'), ('of', 'ADP'), ('Elsevier', 'NOUN'), ('N.V.', 'NOUN'), (',', '.'), ('the', 'DET'), ('Dutch', 'NOUN'), ('publishing', 'VERB'), ('group', 'NOUN'), ('.', '.')]]\n"
     ]
    }
   ],
   "source": [
    "print('Number of Sentences in the corpus::',len(data),'\\n')\n",
    "# print first two tagged sentences\n",
    "print(data[0:2])"
   ]
  },
  {
   "cell_type": "code",
   "execution_count": 682,
   "metadata": {},
   "outputs": [],
   "source": [
    "# Splitting into train and test\n",
    "train_set, test_set = train_test_split(data,test_size=0.05, random_state=27)"
   ]
  },
  {
   "cell_type": "code",
   "execution_count": 683,
   "metadata": {},
   "outputs": [
    {
     "name": "stdout",
     "output_type": "stream",
     "text": [
      "Number of tagged words in the training set:: 95475\n"
     ]
    }
   ],
   "source": [
    "# Getting list of tagged words\n",
    "train_tagged_words = [tup for sent in train_set for tup in sent]\n",
    "print('Number of tagged words in the training set::',len(train_tagged_words))"
   ]
  },
  {
   "cell_type": "code",
   "execution_count": 684,
   "metadata": {},
   "outputs": [],
   "source": [
    "\n",
    "#train_tagged_words = [(tup[0],'VBN') if (tup[1]=='VBD' and [i-1] not in('VP','VB'))  else tup for i,tup in enumerate(train_tagged_words)]#train_ta"
   ]
  },
  {
   "cell_type": "code",
   "execution_count": 685,
   "metadata": {},
   "outputs": [],
   "source": [
    "#If a word X is '.' preceded by a 'cc' then '.' should be replaced by RB as conjuction(example 'and') can't come in end of the sentence. \n",
    "\n",
    "#train_tagged_words = [(tup[0],'RB') if (tup[1]=='.' and ([i-1]=='CC'))  else tup for i,tup in enumerate(train_tagged_words)]"
   ]
  },
  {
   "cell_type": "code",
   "execution_count": 686,
   "metadata": {},
   "outputs": [],
   "source": [
    "#If a word X is preceded by a determiner and followed by a noun, tag it as an adjective (contextual rule). \n",
    "\n",
    "#train_tagged_words = [(tup[0],'JJ') if (([i-1]=='DT') and ([i+1] in('NN','NNP','NNS')))  else tup for i,tup in enumerate(train_tagged_words)]"
   ]
  },
  {
   "cell_type": "code",
   "execution_count": 687,
   "metadata": {},
   "outputs": [],
   "source": [
    "# If a word ends with -ous, tag it as an adjective (morphological rule)\n",
    "#train_tagged_words = [(tup[0],'JJ') if (tup[0].endswith('ous'))  else tup for tup in train_tagged_words]"
   ]
  },
  {
   "cell_type": "code",
   "execution_count": 688,
   "metadata": {},
   "outputs": [
    {
     "name": "stdout",
     "output_type": "stream",
     "text": [
      "Number of unique words:: 12042 \n",
      "\n",
      "['Nissan', 'Motor', 'Co.', ',', 'Japan', \"'s\", 'second-largest', 'car', 'maker', ',']\n"
     ]
    }
   ],
   "source": [
    "# Vocabulary \n",
    "tokens = [pair[0] for pair in train_tagged_words]\n",
    "V = set(tokens)\n",
    "print('Number of unique words::',len(V),'\\n')\n",
    "print(tokens[0:10])"
   ]
  },
  {
   "cell_type": "code",
   "execution_count": 689,
   "metadata": {},
   "outputs": [
    {
     "name": "stdout",
     "output_type": "stream",
     "text": [
      "Number of tags:: 12 \n",
      "\n",
      "{'.', 'VERB', 'ADV', 'PRON', 'X', 'PRT', 'NUM', 'ADJ', 'CONJ', 'ADP', 'DET', 'NOUN'}\n"
     ]
    }
   ],
   "source": [
    "# Number of Tags\n",
    "T = set([pair[1] for pair in train_tagged_words])\n",
    "print('Number of tags::',len(T),'\\n')\n",
    "print(T)"
   ]
  },
  {
   "cell_type": "markdown",
   "metadata": {},
   "source": [
    "### POS Tagging Algorithm - HMM\n",
    "\n",
    "We'll use the HMM algorithm to tag the words. Given a sequence of words to be tagged, the task is to assign the most probable tag to the word. \n",
    "\n",
    "In other words, to every word w, assign the tag t that maximises the likelihood P(t/w). Since P(t/w) = P(w/t). P(t) / P(w), after ignoring P(w), we have to compute P(w/t) and P(t).\n",
    "\n",
    "\n",
    "P(w/t) is basically the probability that given a tag (say NN), what is the probability of it being w (say 'building'). This can be computed by computing the fraction of all NNs which are equal to w, i.e. \n",
    "\n",
    "P(w/t) = count(w, t) / count(t). \n",
    "\n",
    "\n",
    "The term P(t) is the probability of tag t, and in a tagging task, we assume that a tag will depend only on the previous tag. In other words, the probability of a tag being NN will depend only on the previous tag t(n-1). So for e.g. if t(n-1) is a JJ, then t(n) is likely to be an NN since adjectives often precede a noun (blue coat, tall building etc.).\n",
    "\n",
    "\n",
    "Given the penn treebank tagged dataset, we can compute the two terms P(w/t) and P(t) and store them in two large matrices. The matrix of P(w/t) will be sparse, since each word will not be seen with most tags ever, and those terms will thus be zero. \n"
   ]
  },
  {
   "cell_type": "markdown",
   "metadata": {},
   "source": [
    "### Emission Probabilities"
   ]
  },
  {
   "cell_type": "code",
   "execution_count": 690,
   "metadata": {},
   "outputs": [],
   "source": [
    "# computing P(w/t) and storing in T x V matrix\n",
    "t = len(T)\n",
    "v = len(V)\n",
    "w_given_t = np.zeros((t, v))"
   ]
  },
  {
   "cell_type": "code",
   "execution_count": 691,
   "metadata": {},
   "outputs": [],
   "source": [
    "# compute word given tag: Emission Probability\n",
    "def word_given_tag(word, tag, train_bag = train_tagged_words):\n",
    "    tag_list = [pair for pair in train_bag if pair[1]==tag]\n",
    "    count_tag = len(tag_list)\n",
    "    w_given_tag_list = [pair[0] for pair in tag_list if pair[0]==word]\n",
    "    count_w_given_tag = len(w_given_tag_list)\n",
    "    \n",
    "    return (count_w_given_tag, count_tag)"
   ]
  },
  {
   "cell_type": "markdown",
   "metadata": {},
   "source": [
    "### Transition Probabilities"
   ]
  },
  {
   "cell_type": "code",
   "execution_count": 692,
   "metadata": {},
   "outputs": [],
   "source": [
    "# compute tag given tag: tag2(t2) given tag1 (t1), i.e. Transition Probability\n",
    "\n",
    "def t2_given_t1(t2, t1, train_bag = train_tagged_words):\n",
    "    tags = [pair[1] for pair in train_bag]\n",
    "    count_t1 = len([t for t in tags if t==t1])\n",
    "    count_t2_t1 = 0\n",
    "    for index in range(len(tags)-1):\n",
    "        if tags[index]==t1 and tags[index+1] == t2:\n",
    "            count_t2_t1 += 1\n",
    "    return (count_t2_t1, count_t1)"
   ]
  },
  {
   "cell_type": "code",
   "execution_count": 693,
   "metadata": {},
   "outputs": [],
   "source": [
    "# creating t x t transition matrix of tags\n",
    "# each column is t2, each row is t1\n",
    "# thus M(i, j) represents P(tj given ti)\n",
    "\n",
    "tags_matrix = np.zeros((len(T), len(T)), dtype='float32')\n",
    "for i, t1 in enumerate(list(T)):\n",
    "    for j, t2 in enumerate(list(T)): \n",
    "        tags_matrix[i, j] = t2_given_t1(t2, t1)[0]/t2_given_t1(t2, t1)[1]"
   ]
  },
  {
   "cell_type": "code",
   "execution_count": 694,
   "metadata": {},
   "outputs": [
    {
     "data": {
      "text/html": [
       "<div>\n",
       "<style scoped>\n",
       "    .dataframe tbody tr th:only-of-type {\n",
       "        vertical-align: middle;\n",
       "    }\n",
       "\n",
       "    .dataframe tbody tr th {\n",
       "        vertical-align: top;\n",
       "    }\n",
       "\n",
       "    .dataframe thead th {\n",
       "        text-align: right;\n",
       "    }\n",
       "</style>\n",
       "<table border=\"1\" class=\"dataframe\">\n",
       "  <thead>\n",
       "    <tr style=\"text-align: right;\">\n",
       "      <th></th>\n",
       "      <th>.</th>\n",
       "      <th>VERB</th>\n",
       "      <th>ADV</th>\n",
       "      <th>PRON</th>\n",
       "      <th>X</th>\n",
       "      <th>PRT</th>\n",
       "      <th>NUM</th>\n",
       "      <th>ADJ</th>\n",
       "      <th>CONJ</th>\n",
       "      <th>ADP</th>\n",
       "      <th>DET</th>\n",
       "      <th>NOUN</th>\n",
       "    </tr>\n",
       "  </thead>\n",
       "  <tbody>\n",
       "    <tr>\n",
       "      <th>.</th>\n",
       "      <td>0.092172</td>\n",
       "      <td>0.088654</td>\n",
       "      <td>0.052579</td>\n",
       "      <td>0.065206</td>\n",
       "      <td>0.027507</td>\n",
       "      <td>0.002345</td>\n",
       "      <td>0.081710</td>\n",
       "      <td>0.044192</td>\n",
       "      <td>0.058532</td>\n",
       "      <td>0.091540</td>\n",
       "      <td>0.174333</td>\n",
       "      <td>0.221140</td>\n",
       "    </tr>\n",
       "    <tr>\n",
       "      <th>VERB</th>\n",
       "      <td>0.034523</td>\n",
       "      <td>0.168261</td>\n",
       "      <td>0.082031</td>\n",
       "      <td>0.035767</td>\n",
       "      <td>0.217790</td>\n",
       "      <td>0.031413</td>\n",
       "      <td>0.023326</td>\n",
       "      <td>0.064847</td>\n",
       "      <td>0.005598</td>\n",
       "      <td>0.091206</td>\n",
       "      <td>0.134982</td>\n",
       "      <td>0.110256</td>\n",
       "    </tr>\n",
       "    <tr>\n",
       "      <th>ADV</th>\n",
       "      <td>0.136470</td>\n",
       "      <td>0.343677</td>\n",
       "      <td>0.078412</td>\n",
       "      <td>0.016016</td>\n",
       "      <td>0.024024</td>\n",
       "      <td>0.014681</td>\n",
       "      <td>0.031698</td>\n",
       "      <td>0.128128</td>\n",
       "      <td>0.006673</td>\n",
       "      <td>0.118118</td>\n",
       "      <td>0.069069</td>\n",
       "      <td>0.033033</td>\n",
       "    </tr>\n",
       "    <tr>\n",
       "      <th>PRON</th>\n",
       "      <td>0.041186</td>\n",
       "      <td>0.485758</td>\n",
       "      <td>0.034642</td>\n",
       "      <td>0.008083</td>\n",
       "      <td>0.093918</td>\n",
       "      <td>0.012317</td>\n",
       "      <td>0.007313</td>\n",
       "      <td>0.071594</td>\n",
       "      <td>0.004619</td>\n",
       "      <td>0.021555</td>\n",
       "      <td>0.009623</td>\n",
       "      <td>0.209392</td>\n",
       "    </tr>\n",
       "    <tr>\n",
       "      <th>X</th>\n",
       "      <td>0.161563</td>\n",
       "      <td>0.205582</td>\n",
       "      <td>0.025678</td>\n",
       "      <td>0.054864</td>\n",
       "      <td>0.073844</td>\n",
       "      <td>0.185486</td>\n",
       "      <td>0.002711</td>\n",
       "      <td>0.017225</td>\n",
       "      <td>0.010686</td>\n",
       "      <td>0.144019</td>\n",
       "      <td>0.054864</td>\n",
       "      <td>0.063477</td>\n",
       "    </tr>\n",
       "    <tr>\n",
       "      <th>PRT</th>\n",
       "      <td>0.043222</td>\n",
       "      <td>0.402423</td>\n",
       "      <td>0.009496</td>\n",
       "      <td>0.018009</td>\n",
       "      <td>0.012443</td>\n",
       "      <td>0.001965</td>\n",
       "      <td>0.055992</td>\n",
       "      <td>0.085789</td>\n",
       "      <td>0.001965</td>\n",
       "      <td>0.020301</td>\n",
       "      <td>0.101506</td>\n",
       "      <td>0.246889</td>\n",
       "    </tr>\n",
       "    <tr>\n",
       "      <th>NUM</th>\n",
       "      <td>0.116307</td>\n",
       "      <td>0.017757</td>\n",
       "      <td>0.001776</td>\n",
       "      <td>0.001480</td>\n",
       "      <td>0.208642</td>\n",
       "      <td>0.026635</td>\n",
       "      <td>0.186150</td>\n",
       "      <td>0.032850</td>\n",
       "      <td>0.013318</td>\n",
       "      <td>0.035513</td>\n",
       "      <td>0.003255</td>\n",
       "      <td>0.356318</td>\n",
       "    </tr>\n",
       "    <tr>\n",
       "      <th>ADJ</th>\n",
       "      <td>0.064965</td>\n",
       "      <td>0.012264</td>\n",
       "      <td>0.004475</td>\n",
       "      <td>0.000663</td>\n",
       "      <td>0.021213</td>\n",
       "      <td>0.010772</td>\n",
       "      <td>0.020882</td>\n",
       "      <td>0.066291</td>\n",
       "      <td>0.016573</td>\n",
       "      <td>0.077395</td>\n",
       "      <td>0.004640</td>\n",
       "      <td>0.699867</td>\n",
       "    </tr>\n",
       "    <tr>\n",
       "      <th>CONJ</th>\n",
       "      <td>0.036061</td>\n",
       "      <td>0.156264</td>\n",
       "      <td>0.054092</td>\n",
       "      <td>0.059177</td>\n",
       "      <td>0.008784</td>\n",
       "      <td>0.005086</td>\n",
       "      <td>0.040222</td>\n",
       "      <td>0.116967</td>\n",
       "      <td>0.000462</td>\n",
       "      <td>0.054092</td>\n",
       "      <td>0.118816</td>\n",
       "      <td>0.349977</td>\n",
       "    </tr>\n",
       "    <tr>\n",
       "      <th>ADP</th>\n",
       "      <td>0.039902</td>\n",
       "      <td>0.008344</td>\n",
       "      <td>0.013800</td>\n",
       "      <td>0.069106</td>\n",
       "      <td>0.034446</td>\n",
       "      <td>0.001391</td>\n",
       "      <td>0.063222</td>\n",
       "      <td>0.106012</td>\n",
       "      <td>0.000856</td>\n",
       "      <td>0.017330</td>\n",
       "      <td>0.322957</td>\n",
       "      <td>0.322636</td>\n",
       "    </tr>\n",
       "    <tr>\n",
       "      <th>DET</th>\n",
       "      <td>0.018008</td>\n",
       "      <td>0.039763</td>\n",
       "      <td>0.012207</td>\n",
       "      <td>0.003747</td>\n",
       "      <td>0.045323</td>\n",
       "      <td>0.000242</td>\n",
       "      <td>0.021634</td>\n",
       "      <td>0.203771</td>\n",
       "      <td>0.000242</td>\n",
       "      <td>0.009306</td>\n",
       "      <td>0.005560</td>\n",
       "      <td>0.640198</td>\n",
       "    </tr>\n",
       "    <tr>\n",
       "      <th>NOUN</th>\n",
       "      <td>0.239921</td>\n",
       "      <td>0.146850</td>\n",
       "      <td>0.016929</td>\n",
       "      <td>0.004852</td>\n",
       "      <td>0.029115</td>\n",
       "      <td>0.043708</td>\n",
       "      <td>0.009449</td>\n",
       "      <td>0.012003</td>\n",
       "      <td>0.043088</td>\n",
       "      <td>0.176657</td>\n",
       "      <td>0.013061</td>\n",
       "      <td>0.264366</td>\n",
       "    </tr>\n",
       "  </tbody>\n",
       "</table>\n",
       "</div>"
      ],
      "text/plain": [
       "             .      VERB       ADV      PRON         X       PRT       NUM  \\\n",
       ".     0.092172  0.088654  0.052579  0.065206  0.027507  0.002345  0.081710   \n",
       "VERB  0.034523  0.168261  0.082031  0.035767  0.217790  0.031413  0.023326   \n",
       "ADV   0.136470  0.343677  0.078412  0.016016  0.024024  0.014681  0.031698   \n",
       "PRON  0.041186  0.485758  0.034642  0.008083  0.093918  0.012317  0.007313   \n",
       "X     0.161563  0.205582  0.025678  0.054864  0.073844  0.185486  0.002711   \n",
       "PRT   0.043222  0.402423  0.009496  0.018009  0.012443  0.001965  0.055992   \n",
       "NUM   0.116307  0.017757  0.001776  0.001480  0.208642  0.026635  0.186150   \n",
       "ADJ   0.064965  0.012264  0.004475  0.000663  0.021213  0.010772  0.020882   \n",
       "CONJ  0.036061  0.156264  0.054092  0.059177  0.008784  0.005086  0.040222   \n",
       "ADP   0.039902  0.008344  0.013800  0.069106  0.034446  0.001391  0.063222   \n",
       "DET   0.018008  0.039763  0.012207  0.003747  0.045323  0.000242  0.021634   \n",
       "NOUN  0.239921  0.146850  0.016929  0.004852  0.029115  0.043708  0.009449   \n",
       "\n",
       "           ADJ      CONJ       ADP       DET      NOUN  \n",
       ".     0.044192  0.058532  0.091540  0.174333  0.221140  \n",
       "VERB  0.064847  0.005598  0.091206  0.134982  0.110256  \n",
       "ADV   0.128128  0.006673  0.118118  0.069069  0.033033  \n",
       "PRON  0.071594  0.004619  0.021555  0.009623  0.209392  \n",
       "X     0.017225  0.010686  0.144019  0.054864  0.063477  \n",
       "PRT   0.085789  0.001965  0.020301  0.101506  0.246889  \n",
       "NUM   0.032850  0.013318  0.035513  0.003255  0.356318  \n",
       "ADJ   0.066291  0.016573  0.077395  0.004640  0.699867  \n",
       "CONJ  0.116967  0.000462  0.054092  0.118816  0.349977  \n",
       "ADP   0.106012  0.000856  0.017330  0.322957  0.322636  \n",
       "DET   0.203771  0.000242  0.009306  0.005560  0.640198  \n",
       "NOUN  0.012003  0.043088  0.176657  0.013061  0.264366  "
      ]
     },
     "execution_count": 694,
     "metadata": {},
     "output_type": "execute_result"
    }
   ],
   "source": [
    "# convert the matrix to a df for better readability\n",
    "tags_df = pd.DataFrame(tags_matrix, columns = list(T), index=list(T))\n",
    "tags_df"
   ]
  },
  {
   "cell_type": "code",
   "execution_count": 695,
   "metadata": {},
   "outputs": [
    {
     "data": {
      "text/plain": [
       ".       0.092172\n",
       "VERB    0.088654\n",
       "ADV     0.052579\n",
       "PRON    0.065206\n",
       "X       0.027507\n",
       "PRT     0.002345\n",
       "NUM     0.081710\n",
       "ADJ     0.044192\n",
       "CONJ    0.058532\n",
       "ADP     0.091540\n",
       "DET     0.174333\n",
       "NOUN    0.221140\n",
       "Name: ., dtype: float32"
      ]
     },
     "execution_count": 695,
     "metadata": {},
     "output_type": "execute_result"
    }
   ],
   "source": [
    "tags_df.loc['.', :]"
   ]
  },
  {
   "cell_type": "code",
   "execution_count": 696,
   "metadata": {},
   "outputs": [
    {
     "data": {
      "image/png": "[encoded data removed]",
      "text/plain": [
       "<matplotlib.figure.Figure at 0x204ae8a8cc0>"
      ]
     },
     "metadata": {},
     "output_type": "display_data"
    }
   ],
   "source": [
    "# heatmap of tags matrix\n",
    "# T(i, j) means P(tag j given tag i)\n",
    "plt.figure(figsize=(18, 10))\n",
    "sns.heatmap(tags_df, cmap=\"YlGnBu\",annot=True)\n",
    "plt.show()"
   ]
  },
  {
   "cell_type": "code",
   "execution_count": 697,
   "metadata": {},
   "outputs": [
    {
     "data": {
      "image/png": "[encoded data removed]",
      "text/plain": [
       "<matplotlib.figure.Figure at 0x204a7f8c518>"
      ]
     },
     "metadata": {},
     "output_type": "display_data"
    }
   ],
   "source": [
    "# frequent tags\n",
    "# filter the df to get P(t2, t1) > 0.5\n",
    "tags_frequent = tags_df[tags_df>0.5]\n",
    "plt.figure(figsize=(18, 10))\n",
    "sns.heatmap(tags_frequent, cmap=\"YlGnBu\",annot=True)\n",
    "plt.show()"
   ]
  },
  {
   "cell_type": "markdown",
   "metadata": {},
   "source": [
    "### Build the vanilla Viterbi based POS tagger"
   ]
  },
  {
   "cell_type": "markdown",
   "metadata": {},
   "source": [
    "### Viterbi Algorithm\n",
    "\n",
    "Let's now use the computed probabilities P(w, tag) and P(t2, t1) to assign tags to each word in the document. We'll run through each word w and compute P(tag/w)=P(w/tag).P(tag) for each tag in the tag set, and then assign the tag having the max P(tag/w).\n",
    "\n",
    "We'll store the assigned tags in a list of tuples, similar to the list 'train_tagged_words'. Each tuple will be a (token, assigned_tag). As we progress further in the list, each tag to be assigned will use the tag of the previous token.\n",
    "\n",
    "Note: P(tag|start) = P(tag|'.') "
   ]
  },
  {
   "cell_type": "code",
   "execution_count": 698,
   "metadata": {},
   "outputs": [],
   "source": [
    "# Viterbi Heuristic\n",
    "def Viterbi(words, train_bag = train_tagged_words):\n",
    "    state = []\n",
    "    T = list(set([pair[1] for pair in train_bag]))\n",
    "    \n",
    "    for key, word in enumerate(words):\n",
    "        #initialise list of probability column for a given observation\n",
    "        p = [] \n",
    "        for tag in T:\n",
    "            if key == 0:\n",
    "                transition_p = tags_df.loc['.', tag]\n",
    "            else:\n",
    "                transition_p = tags_df.loc[state[-1], tag]\n",
    "                \n",
    "            # compute emission and state probabilities\n",
    "            emission_p = word_given_tag(words[key], tag)[0]/word_given_tag(words[key], tag)[1]\n",
    "            state_probability = emission_p * transition_p    \n",
    "            p.append(state_probability)\n",
    "            \n",
    "        pmax = max(p)\n",
    "        # getting state for which probability is maximum\n",
    "        state_max = T[p.index(pmax)] \n",
    "        state.append(state_max)\n",
    "    return list(zip(words, state))\n",
    "\n"
   ]
  },
  {
   "cell_type": "markdown",
   "metadata": {},
   "source": [
    "### Evaluation on Test Set\n",
    "#### Running on entire test dataset would take more than 3-4hrs. \n",
    "#### So we will run Viterbi algorithm on 5 random sample sentences of test dataset"
   ]
  },
  {
   "cell_type": "code",
   "execution_count": 699,
   "metadata": {},
   "outputs": [],
   "source": [
    "random.seed(27)\n",
    "\n",
    "# choose random 5 sents\n",
    "rndom = [random.randint(1,len(test_set)) for x in range(5)]\n",
    "\n",
    "# list of sents\n",
    "test_run = [test_set[i] for i in rndom]\n",
    "\n",
    "# list of tagged words\n",
    "test_run_base = [tup for sent in test_run for tup in sent]\n",
    "\n",
    "# list of untagged words\n",
    "test_tagged_words = [tup[0] for sent in test_run for tup in sent]"
   ]
  },
  {
   "cell_type": "code",
   "execution_count": 582,
   "metadata": {},
   "outputs": [
    {
     "name": "stdout",
     "output_type": "stream",
     "text": [
      "Time taken in seconds:  22.390422105789185 \n",
      "\n",
      "Tagged Reults \n",
      " [('Sterling', 'NOUN'), (\"'s\", 'PRT'), ('firm', 'NOUN'), ('tone', 'NOUN'), (',', '.'), ('combined', 'VERB'), ('with', 'ADP'), ('a', 'DET'), ('steady', 'ADJ'), ('opening', 'VERB')]\n"
     ]
    }
   ],
   "source": [
    "# tagging the test sentences\n",
    "start = time.time()\n",
    "tagged_seq = Viterbi(test_tagged_words) \n",
    "end = time.time()\n",
    "difference = end-start\n",
    "print(\"Time taken in seconds: \", difference,'\\n')\n",
    "print('Tagged Reults','\\n',tagged_seq[0:10])"
   ]
  },
  {
   "cell_type": "markdown",
   "metadata": {},
   "source": [
    "### Accuracy"
   ]
  },
  {
   "cell_type": "code",
   "execution_count": 583,
   "metadata": {},
   "outputs": [
    {
     "data": {
      "text/plain": [
       "0.8936170212765957"
      ]
     },
     "execution_count": 583,
     "metadata": {},
     "output_type": "execute_result"
    }
   ],
   "source": [
    "check = [i for i, j in zip(tagged_seq, test_run_base) if i == j] \n",
    "accuracy = len(check)/len(tagged_seq)\n",
    "accuracy"
   ]
  },
  {
   "cell_type": "markdown",
   "metadata": {},
   "source": [
    "### Incorrect Tagged Cases"
   ]
  },
  {
   "cell_type": "code",
   "execution_count": 584,
   "metadata": {},
   "outputs": [
    {
     "name": "stdout",
     "output_type": "stream",
     "text": [
      "Incorrect Tagged words count 15 \n",
      "\n"
     ]
    },
    {
     "data": {
      "text/plain": [
       "[[(\"'s\", 'PRT'), (('firm', 'NOUN'), ('firm', 'ADJ'))],\n",
       " [('steady', 'ADJ'), (('opening', 'VERB'), ('opening', 'NOUN'))],\n",
       " [('also', 'ADV'), (('tempted', '.'), ('tempted', 'VERB'))],\n",
       " [('and', 'CONJ'), (('potentially', '.'), ('potentially', 'ADV'))],\n",
       " [('For', 'ADP'), (('starters', '.'), ('starters', 'NOUN'))],\n",
       " [('H.', 'NOUN'), (('Hudnut', '.'), ('Hudnut', 'NOUN'))],\n",
       " [('Indianapolis', 'NOUN'), (('Symphony', '.'), ('Symphony', 'NOUN'))],\n",
       " [('Symphony', 'NOUN'), (('Orchestra', '.'), ('Orchestra', 'NOUN'))],\n",
       " [('a', 'DET'), (('guest', '.'), ('guest', 'NOUN'))],\n",
       " [('guest', 'NOUN'),\n",
       "  (('pianist-comedian', '.'), ('pianist-comedian', 'NOUN'))],\n",
       " [('pianist-comedian', 'NOUN'), (('Victor', '.'), ('Victor', 'NOUN'))],\n",
       " [('Victor', 'NOUN'), (('Borge', '.'), ('Borge', 'NOUN'))],\n",
       " [('from', 'ADP'), (('soured', '.'), ('soured', 'ADJ'))],\n",
       " [('something', 'NOUN'), (('structurally', '.'), ('structurally', 'ADV'))],\n",
       " [('and', 'CONJ'), (('radically', '.'), ('radically', 'ADV'))]]"
      ]
     },
     "execution_count": 584,
     "metadata": {},
     "output_type": "execute_result"
    }
   ],
   "source": [
    "incorrect_tagged_cases = [[test_run_base[i-1],j] for i, j in enumerate(zip(tagged_seq, test_run_base)) if j[0]!=j[1]]\n",
    "print('Incorrect Tagged words count',len(incorrect_tagged_cases),'\\n')\n",
    "incorrect_tagged_cases"
   ]
  },
  {
   "cell_type": "markdown",
   "metadata": {},
   "source": [
    "### Rule Based changes to improve the performance.\n",
    "\n",
    "The regular expression tagger assigns tags to tokens on the basis of matching patterns. For instance, we might guess that any word ending in ed is the past participle of a verb, and any word ending with 's is a possessive noun. We can express these as a list of regular expressions:"
   ]
  },
  {
   "cell_type": "code",
   "execution_count": 587,
   "metadata": {},
   "outputs": [],
   "source": [
    "patterns = [\n",
    "     (r'.*ing$', 'VBG'),               # gerunds\n",
    "     (r'.*ed$', 'VBD'),                # simple past\n",
    "     (r'.*es$', 'VBZ'),                # 3rd singular present\n",
    "     (r'.*ould$', 'MD'),               # modals\n",
    "     (r'.*\\'s$', 'NN$'),               # possessive nouns\n",
    "     (r'.*s$', 'NNS'),                 # plural nouns\n",
    "     (r'^-?[0-9]+(.[0-9]+)?$', 'CD'),  # cardinal numbers\n",
    "     (r'.*', 'NN')                     # nouns (default)\n",
    " ]"
   ]
  },
  {
   "cell_type": "markdown",
   "metadata": {},
   "source": [
    "The final regular expression «.*» is a catch-all that tags everything as a noun."
   ]
  },
  {
   "cell_type": "code",
   "execution_count": 595,
   "metadata": {},
   "outputs": [],
   "source": [
    "regexp_tagger = nltk.RegexpTagger(patterns)"
   ]
  },
  {
   "cell_type": "markdown",
   "metadata": {},
   "source": [
    "### Unigram Tagging\n",
    "Unigram taggers are based on a simple statistical algorithm: for each token, assign the tag that is most likely for that particular token. For example, it will assign the tag JJ to any occurrence of the word _frequent_, since _frequent_ is used as an adjective (e.g. a _frequent_ word) more often than it is used as a verb (e.g. I _frequent_ this cafe). A unigram tagger behaves just like a lookup tagger (4), except there is a more convenient technique for setting it up, called training. In the following code sample, we train a unigram tagger, use it to tag a sentence, then evaluate:"
   ]
  },
  {
   "cell_type": "code",
   "execution_count": 700,
   "metadata": {},
   "outputs": [],
   "source": [
    "unigram_tagger = nltk.UnigramTagger(train_set)\n",
    "#unigram_tagger.evaluate(test_set)"
   ]
  },
  {
   "cell_type": "markdown",
   "metadata": {},
   "source": [
    "### N-Gram Tagging\n",
    "An n-gram tagger is a generalization of a unigram tagger whose context is the current word together with the part-of-speech tags of the n-1 preceding tokens."
   ]
  },
  {
   "cell_type": "code",
   "execution_count": 701,
   "metadata": {},
   "outputs": [],
   "source": [
    "bigram_tagger = nltk.BigramTagger(train_set)\n",
    "#bigram_tagger.evaluate(test_set)"
   ]
  },
  {
   "cell_type": "markdown",
   "metadata": {},
   "source": [
    "### Combining Taggers\n",
    "One way to address the trade-off between accuracy and coverage is to use the more accurate algorithms when we can, but to fall back on algorithms with wider coverage when necessary. For example, we could combine the results of a bigram tagger, a unigram tagger, and a default tagger, as follows:\n",
    "\n",
    "    1. Try tagging the token with the bigram tagger.\n",
    "    2. If the bigram tagger is unable to find a tag for the token, try the unigram tagger.\n",
    "    3. If the unigram tagger is also unable to find a tag, use a default tagger."
   ]
  },
  {
   "cell_type": "code",
   "execution_count": 702,
   "metadata": {},
   "outputs": [],
   "source": [
    "combo_tagger = nltk.UnigramTagger(train_set, backoff=regexp_tagger)"
   ]
  },
  {
   "cell_type": "markdown",
   "metadata": {},
   "source": [
    "### Modification in Viterbi algorithm to incorporate the above changes"
   ]
  },
  {
   "cell_type": "code",
   "execution_count": 703,
   "metadata": {},
   "outputs": [],
   "source": [
    "def Viterbi_Advance(words, train_bag = train_tagged_words, tagger=3):\n",
    "    \"\"\"\n",
    "    tagger = 0 for defaul Viterbi Algorithm\n",
    "             1 for Unigram Tagger\n",
    "             2 for Bigram Tagger\n",
    "             3 for Rule Based Tagged\n",
    "             4 for Combination taggers(combination of Unigram & Rule-based )-default\n",
    "    \"\"\"\n",
    "    UnknownTags='' \n",
    "        \n",
    "    state = []\n",
    "    T = list(set([pair[1] for pair in train_bag]))\n",
    "    \n",
    "    wordsSet = set([pair[0] for pair in train_bag])\n",
    "    \n",
    "    for key, word in enumerate(words):\n",
    "        #initialise list of probability column for a given observation\n",
    "        p = [] \n",
    "        \n",
    "        if tagger == 1:\n",
    "            UnknownTags = unigram_tagger.tag([word])[0][1]\n",
    "        elif tagger == 2:\n",
    "            UnknownTags = bigram_tagger.tag([word])[0][1]\n",
    "        elif tagger == 3:\n",
    "            UnknownTags = regexp_tagger.tag([word])[0][1] \n",
    "        elif tagger == 4:\n",
    "            UnknownTags = combo_tagger.tag([word])[0][1]\n",
    "        else:\n",
    "            UnknownTags = bigram_tagger.tag([word])[0][1] \n",
    "        \n",
    "        unknownWord = word  not in  wordsSet   \n",
    "            \n",
    "       \n",
    "        for tag in T:\n",
    "            if((unknownWord == True) and (tagger!=0)):\n",
    "                if ( tag == UnknownTags):\n",
    "                    state_probability = 1;\n",
    "                else:\n",
    "                    state_probability = 0\n",
    "                                   \n",
    "            else:\n",
    "                                       \n",
    "                if key == 0:\n",
    "                    transition_p = tags_df.loc['.', tag]\n",
    "                else:\n",
    "                    transition_p = tags_df.loc[state[-1], tag]\n",
    "                    # compute emission and state probabilities\n",
    "                result = word_given_tag(words[key], tag)\n",
    "                #emission_p = word_given_tag(words[key], tag)[0]/word_given_tag(words[key], tag)[1]\n",
    "                emission_p = result[0]/result[1]\n",
    "                state_probability = emission_p * transition_p   \n",
    "                \n",
    "            p.append(state_probability)\n",
    "            \n",
    "        pmax = max(p)\n",
    "        # getting state for which probability is maximum\n",
    "        state_max = T[p.index(pmax)] \n",
    "        state.append(state_max)\n",
    "    return list(zip(words, state))\n"
   ]
  },
  {
   "cell_type": "code",
   "execution_count": 705,
   "metadata": {},
   "outputs": [
    {
     "name": "stdout",
     "output_type": "stream",
     "text": [
      "Time taken in seconds:  10.554118871688843\n",
      "The percentage accuracy is  0.8936170212765957\n",
      "The number of incorrectly tag words is:\n",
      "15\n"
     ]
    }
   ],
   "source": [
    "# tagging the test sentences\n",
    "start = time.time()\n",
    "\n",
    "\n",
    "tagged_seq = Viterbi_Advance(test_tagged_words,tagger=3)\n",
    "end = time.time()\n",
    "difference = end-start\n",
    "print(\"Time taken in seconds: \", difference)\n",
    "#print(tagged_seq)\n",
    "#print(test_run_base)\n",
    "\n",
    "# accuracy\n",
    "check = [i for i, j in zip(tagged_seq, test_run_base) if i == j] \n",
    "accuracy = len(check)/len(tagged_seq)\n",
    "print(\"The percentage accuracy is \",accuracy )\n",
    "incorrect_tagged_cases = [[test_run_base[i-1],j] for i, j in enumerate(zip(tagged_seq, test_run_base)) if j[0]!=j[1]]\n",
    "\n",
    "print(\"The number of incorrectly tag words is:\")\n",
    "print(len(incorrect_tagged_cases))"
   ]
  },
  {
   "cell_type": "code",
   "execution_count": null,
   "metadata": {},
   "outputs": [],
   "source": []
  }
 ],
 "metadata": {
  "kernelspec": {
   "display_name": "Python 3",
   "language": "python",
   "name": "python3"
  },
  "language_info": {
   "codemirror_mode": {
    "name": "ipython",
    "version": 3
   },
   "file_extension": ".py",
   "mimetype": "text/x-python",
   "name": "python",
   "nbconvert_exporter": "python",
   "pygments_lexer": "ipython3",
   "version": "3.6.4"
  }
 },
 "nbformat": 4,
 "nbformat_minor": 2
}
