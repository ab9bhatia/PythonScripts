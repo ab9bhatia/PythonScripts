{
 "cells": [
  {
   "cell_type": "markdown",
   "metadata": {},
   "source": [
    "# Machine Learning Steps\n",
    "\n",
    "## 1. Import Libraries\n",
    "## 2. Import Dataset\n",
    "## 3. Feature Selection\n",
    "       # Identify dependent and independent variables\n",
    "       # Backward elimination of independent variables\n",
    "           # Import statsmodel.api as sm\n",
    "           # regressor_ols = sm.OLS(enddog = y, exog = X_all).fit()\n",
    "           # regressor_ols.summary() will give us the p-value for each independent variable x1,x2....xn\n",
    "           # variables with high values (>0.05) we can remove those variables.\n",
    "## 4. Handle missing data\n",
    "## 5. Encoding categorical data\n",
    "## 6. Feature scaling\n",
    "## 7. Splitiing the dataset into training and test set\n",
    "## 8. Fitting model\n",
    "      # from sklearn.linear_model import LinearRegression"
   ]
  },
  {
   "cell_type": "code",
   "execution_count": null,
   "metadata": {
    "collapsed": true
   },
   "outputs": [],
   "source": []
  },
  {
   "cell_type": "code",
   "execution_count": null,
   "metadata": {
    "collapsed": true
   },
   "outputs": [],
   "source": []
  }
 ],
 "metadata": {
  "kernelspec": {
   "display_name": "Python 3",
   "language": "python",
   "name": "python3"
  },
  "language_info": {
   "codemirror_mode": {
    "name": "ipython",
    "version": 3
   },
   "file_extension": ".py",
   "mimetype": "text/x-python",
   "name": "python",
   "nbconvert_exporter": "python",
   "pygments_lexer": "ipython3",
   "version": "3.6.1"
  }
 },
 "nbformat": 4,
 "nbformat_minor": 2
}
