{
 "cells": [
  {
   "cell_type": "markdown",
   "metadata": {},
   "source": [
    "# Regression: Car price Prediction\n",
    "***"
   ]
  },
  {
   "cell_type": "markdown",
   "metadata": {},
   "source": [
    "[I. Prerequisite](#prerequisite)\n",
    "\n",
    "[II. Import Libraries and set required parameters](#library)\n",
    "\n",
    "[III. Data Sourcing](#sourcing)\n",
    "\n",
    "[IV. Data Preprocessing](#preprocessing)\n",
    "\n",
    "[V. Exploratory Data Analysis](#eda)\n",
    "\n",
    "[VI. Convert Categorical Variables to Continuos](#cat)\n",
    "\n",
    "[VII. Feature Scaling](#scaling)\n",
    "\n",
    "[VII. Feature Selection](#feature)\n",
    "\n",
    "[VIII. Bivariate/Multivariate Analysis](#bivariate)\n",
    "\n",
    "[IX. Bivariate/Multivariate Analysis with Probability of Charged off](#bivariate_prob)\n",
    "\n",
    "[X. Conclusion](#Conclusion)"
   ]
  },
  {
   "cell_type": "markdown",
   "metadata": {},
   "source": [
    "<a id='prerequisite'></a>"
   ]
  },
  {
   "cell_type": "markdown",
   "metadata": {},
   "source": [
    "## I. Prerequisite"
   ]
  },
  {
   "cell_type": "markdown",
   "metadata": {},
   "source": [
    "1. Place 'CarPrice_Assignment.csv' input file at your current working directory before running this code.\n",
    "\n",
    "2. Please make sure that you have following python libraries imported/installed at your system:\n",
    "\n",
    "    * numpy version\t: 1.12.1 or higher\n",
    "    * pandas version\t: 0.20.3 or higher\n",
    "    * seaborn version\t: 0.8.0 or higher"
   ]
  },
  {
   "cell_type": "markdown",
   "metadata": {},
   "source": [
    "<a id='library'></a>"
   ]
  },
  {
   "cell_type": "markdown",
   "metadata": {},
   "source": [
    "## II. Import Libraries and set required parameters"
   ]
  },
  {
   "cell_type": "code",
   "execution_count": 363,
   "metadata": {
    "collapsed": true,
    "scrolled": false
   },
   "outputs": [],
   "source": [
    "import numpy as np\n",
    "import pandas as pd\n",
    "import matplotlib.pyplot as plt\n",
    "%matplotlib inline\n",
    "\n",
    "import seaborn as sns\n",
    "# train-test split\n",
    "from sklearn.model_selection import train_test_split\n",
    "\n",
    "# LinearRegression\n",
    "from sklearn.linear_model import LinearRegression\n",
    "\n",
    "# rmse and r-square\n",
    "from sklearn.metrics import mean_squared_error, r2_score\n",
    "\n",
    "pd.options.mode.chained_assignment = None #set it to None to remove SettingWithCopyWarning\n",
    "pd.options.display.float_format = '{:.3f}'.format #set it to convert scientific noations such as 4.225108e+11 to 422510842796.00\n",
    "pd.set_option('display.max_columns', 100) # to display all the columns\n",
    "import warnings\n",
    "warnings.filterwarnings('ignore') # if there are any warning due to version mismatch, it will be ignored"
   ]
  },
  {
   "cell_type": "markdown",
   "metadata": {},
   "source": [
    "<a id='sourcing'></a>"
   ]
  },
  {
   "cell_type": "markdown",
   "metadata": {},
   "source": [
    "## III. Data Sourcing"
   ]
  },
  {
   "cell_type": "code",
   "execution_count": 364,
   "metadata": {
    "scrolled": false
   },
   "outputs": [
    {
     "name": "stdout",
     "output_type": "stream",
     "text": [
      "Rows & Columns :: (205, 26)\n"
     ]
    },
    {
     "data": {
      "text/html": [
       "<div>\n",
       "<style>\n",
       "    .dataframe thead tr:only-child th {\n",
       "        text-align: right;\n",
       "    }\n",
       "\n",
       "    .dataframe thead th {\n",
       "        text-align: left;\n",
       "    }\n",
       "\n",
       "    .dataframe tbody tr th {\n",
       "        vertical-align: top;\n",
       "    }\n",
       "</style>\n",
       "<table border=\"1\" class=\"dataframe\">\n",
       "  <thead>\n",
       "    <tr style=\"text-align: right;\">\n",
       "      <th></th>\n",
       "      <th>car_ID</th>\n",
       "      <th>symboling</th>\n",
       "      <th>CarName</th>\n",
       "      <th>fueltype</th>\n",
       "      <th>aspiration</th>\n",
       "      <th>doornumber</th>\n",
       "      <th>carbody</th>\n",
       "      <th>drivewheel</th>\n",
       "      <th>enginelocation</th>\n",
       "      <th>wheelbase</th>\n",
       "      <th>carlength</th>\n",
       "      <th>carwidth</th>\n",
       "      <th>carheight</th>\n",
       "      <th>curbweight</th>\n",
       "      <th>enginetype</th>\n",
       "      <th>cylindernumber</th>\n",
       "      <th>enginesize</th>\n",
       "      <th>fuelsystem</th>\n",
       "      <th>boreratio</th>\n",
       "      <th>stroke</th>\n",
       "      <th>compressionratio</th>\n",
       "      <th>horsepower</th>\n",
       "      <th>peakrpm</th>\n",
       "      <th>citympg</th>\n",
       "      <th>highwaympg</th>\n",
       "      <th>price</th>\n",
       "    </tr>\n",
       "  </thead>\n",
       "  <tbody>\n",
       "    <tr>\n",
       "      <th>0</th>\n",
       "      <td>1</td>\n",
       "      <td>3</td>\n",
       "      <td>alfa-romero giulia</td>\n",
       "      <td>gas</td>\n",
       "      <td>std</td>\n",
       "      <td>two</td>\n",
       "      <td>convertible</td>\n",
       "      <td>rwd</td>\n",
       "      <td>front</td>\n",
       "      <td>88.600</td>\n",
       "      <td>168.800</td>\n",
       "      <td>64.100</td>\n",
       "      <td>48.800</td>\n",
       "      <td>2548</td>\n",
       "      <td>dohc</td>\n",
       "      <td>four</td>\n",
       "      <td>130</td>\n",
       "      <td>mpfi</td>\n",
       "      <td>3.470</td>\n",
       "      <td>2.680</td>\n",
       "      <td>9.000</td>\n",
       "      <td>111</td>\n",
       "      <td>5000</td>\n",
       "      <td>21</td>\n",
       "      <td>27</td>\n",
       "      <td>13495.000</td>\n",
       "    </tr>\n",
       "    <tr>\n",
       "      <th>1</th>\n",
       "      <td>2</td>\n",
       "      <td>3</td>\n",
       "      <td>alfa-romero stelvio</td>\n",
       "      <td>gas</td>\n",
       "      <td>std</td>\n",
       "      <td>two</td>\n",
       "      <td>convertible</td>\n",
       "      <td>rwd</td>\n",
       "      <td>front</td>\n",
       "      <td>88.600</td>\n",
       "      <td>168.800</td>\n",
       "      <td>64.100</td>\n",
       "      <td>48.800</td>\n",
       "      <td>2548</td>\n",
       "      <td>dohc</td>\n",
       "      <td>four</td>\n",
       "      <td>130</td>\n",
       "      <td>mpfi</td>\n",
       "      <td>3.470</td>\n",
       "      <td>2.680</td>\n",
       "      <td>9.000</td>\n",
       "      <td>111</td>\n",
       "      <td>5000</td>\n",
       "      <td>21</td>\n",
       "      <td>27</td>\n",
       "      <td>16500.000</td>\n",
       "    </tr>\n",
       "    <tr>\n",
       "      <th>2</th>\n",
       "      <td>3</td>\n",
       "      <td>1</td>\n",
       "      <td>alfa-romero Quadrifoglio</td>\n",
       "      <td>gas</td>\n",
       "      <td>std</td>\n",
       "      <td>two</td>\n",
       "      <td>hatchback</td>\n",
       "      <td>rwd</td>\n",
       "      <td>front</td>\n",
       "      <td>94.500</td>\n",
       "      <td>171.200</td>\n",
       "      <td>65.500</td>\n",
       "      <td>52.400</td>\n",
       "      <td>2823</td>\n",
       "      <td>ohcv</td>\n",
       "      <td>six</td>\n",
       "      <td>152</td>\n",
       "      <td>mpfi</td>\n",
       "      <td>2.680</td>\n",
       "      <td>3.470</td>\n",
       "      <td>9.000</td>\n",
       "      <td>154</td>\n",
       "      <td>5000</td>\n",
       "      <td>19</td>\n",
       "      <td>26</td>\n",
       "      <td>16500.000</td>\n",
       "    </tr>\n",
       "    <tr>\n",
       "      <th>3</th>\n",
       "      <td>4</td>\n",
       "      <td>2</td>\n",
       "      <td>audi 100 ls</td>\n",
       "      <td>gas</td>\n",
       "      <td>std</td>\n",
       "      <td>four</td>\n",
       "      <td>sedan</td>\n",
       "      <td>fwd</td>\n",
       "      <td>front</td>\n",
       "      <td>99.800</td>\n",
       "      <td>176.600</td>\n",
       "      <td>66.200</td>\n",
       "      <td>54.300</td>\n",
       "      <td>2337</td>\n",
       "      <td>ohc</td>\n",
       "      <td>four</td>\n",
       "      <td>109</td>\n",
       "      <td>mpfi</td>\n",
       "      <td>3.190</td>\n",
       "      <td>3.400</td>\n",
       "      <td>10.000</td>\n",
       "      <td>102</td>\n",
       "      <td>5500</td>\n",
       "      <td>24</td>\n",
       "      <td>30</td>\n",
       "      <td>13950.000</td>\n",
       "    </tr>\n",
       "    <tr>\n",
       "      <th>4</th>\n",
       "      <td>5</td>\n",
       "      <td>2</td>\n",
       "      <td>audi 100ls</td>\n",
       "      <td>gas</td>\n",
       "      <td>std</td>\n",
       "      <td>four</td>\n",
       "      <td>sedan</td>\n",
       "      <td>4wd</td>\n",
       "      <td>front</td>\n",
       "      <td>99.400</td>\n",
       "      <td>176.600</td>\n",
       "      <td>66.400</td>\n",
       "      <td>54.300</td>\n",
       "      <td>2824</td>\n",
       "      <td>ohc</td>\n",
       "      <td>five</td>\n",
       "      <td>136</td>\n",
       "      <td>mpfi</td>\n",
       "      <td>3.190</td>\n",
       "      <td>3.400</td>\n",
       "      <td>8.000</td>\n",
       "      <td>115</td>\n",
       "      <td>5500</td>\n",
       "      <td>18</td>\n",
       "      <td>22</td>\n",
       "      <td>17450.000</td>\n",
       "    </tr>\n",
       "  </tbody>\n",
       "</table>\n",
       "</div>"
      ],
      "text/plain": [
       "   car_ID  symboling                   CarName fueltype aspiration doornumber  \\\n",
       "0       1          3        alfa-romero giulia      gas        std        two   \n",
       "1       2          3       alfa-romero stelvio      gas        std        two   \n",
       "2       3          1  alfa-romero Quadrifoglio      gas        std        two   \n",
       "3       4          2               audi 100 ls      gas        std       four   \n",
       "4       5          2                audi 100ls      gas        std       four   \n",
       "\n",
       "       carbody drivewheel enginelocation  wheelbase  carlength  carwidth  \\\n",
       "0  convertible        rwd          front     88.600    168.800    64.100   \n",
       "1  convertible        rwd          front     88.600    168.800    64.100   \n",
       "2    hatchback        rwd          front     94.500    171.200    65.500   \n",
       "3        sedan        fwd          front     99.800    176.600    66.200   \n",
       "4        sedan        4wd          front     99.400    176.600    66.400   \n",
       "\n",
       "   carheight  curbweight enginetype cylindernumber  enginesize fuelsystem  \\\n",
       "0     48.800        2548       dohc           four         130       mpfi   \n",
       "1     48.800        2548       dohc           four         130       mpfi   \n",
       "2     52.400        2823       ohcv            six         152       mpfi   \n",
       "3     54.300        2337        ohc           four         109       mpfi   \n",
       "4     54.300        2824        ohc           five         136       mpfi   \n",
       "\n",
       "   boreratio  stroke  compressionratio  horsepower  peakrpm  citympg  \\\n",
       "0      3.470   2.680             9.000         111     5000       21   \n",
       "1      3.470   2.680             9.000         111     5000       21   \n",
       "2      2.680   3.470             9.000         154     5000       19   \n",
       "3      3.190   3.400            10.000         102     5500       24   \n",
       "4      3.190   3.400             8.000         115     5500       18   \n",
       "\n",
       "   highwaympg     price  \n",
       "0          27 13495.000  \n",
       "1          27 16500.000  \n",
       "2          26 16500.000  \n",
       "3          30 13950.000  \n",
       "4          22 17450.000  "
      ]
     },
     "execution_count": 364,
     "metadata": {},
     "output_type": "execute_result"
    }
   ],
   "source": [
    "car = pd.read_csv('CarPrice_Assignment.csv')\n",
    "print('Rows & Columns ::',car.shape)\n",
    "car.head()"
   ]
  },
  {
   "cell_type": "markdown",
   "metadata": {},
   "source": [
    "<a id='preprocessing'></a>"
   ]
  },
  {
   "cell_type": "markdown",
   "metadata": {},
   "source": [
    "## IV. Data Preprocessing"
   ]
  },
  {
   "cell_type": "code",
   "execution_count": 365,
   "metadata": {
    "scrolled": false
   },
   "outputs": [
    {
     "data": {
      "text/plain": [
       "0"
      ]
     },
     "execution_count": 365,
     "metadata": {},
     "output_type": "execute_result"
    }
   ],
   "source": [
    "# check if there are any null values\n",
    "car.isnull().sum().sum()"
   ]
  },
  {
   "cell_type": "code",
   "execution_count": 366,
   "metadata": {
    "scrolled": false
   },
   "outputs": [
    {
     "data": {
      "text/plain": [
       "Index(['symboling'], dtype='object')"
      ]
     },
     "execution_count": 366,
     "metadata": {},
     "output_type": "execute_result"
    }
   ],
   "source": [
    "# check if there are any negative values(in numeric columns)\n",
    "numeric_columns = car.select_dtypes(include=['number'])\n",
    "numeric_columns.columns[(numeric_columns < 0).any()]"
   ]
  },
  {
   "cell_type": "code",
   "execution_count": 367,
   "metadata": {
    "collapsed": true,
    "scrolled": false
   },
   "outputs": [],
   "source": [
    "# As per the problem statement variable name 'CarName'  comprised of two parts:\n",
    "# first word is the name of 'car company' and the second is the 'car model'.\n",
    "car['company'],car['model'] = car['CarName'].str.split(' ', 1).str"
   ]
  },
  {
   "cell_type": "code",
   "execution_count": 368,
   "metadata": {
    "scrolled": false
   },
   "outputs": [
    {
     "data": {
      "text/html": [
       "<div>\n",
       "<style>\n",
       "    .dataframe thead tr:only-child th {\n",
       "        text-align: right;\n",
       "    }\n",
       "\n",
       "    .dataframe thead th {\n",
       "        text-align: left;\n",
       "    }\n",
       "\n",
       "    .dataframe tbody tr th {\n",
       "        vertical-align: top;\n",
       "    }\n",
       "</style>\n",
       "<table border=\"1\" class=\"dataframe\">\n",
       "  <thead>\n",
       "    <tr style=\"text-align: right;\">\n",
       "      <th></th>\n",
       "      <th>CarName</th>\n",
       "      <th>company</th>\n",
       "    </tr>\n",
       "  </thead>\n",
       "  <tbody>\n",
       "    <tr>\n",
       "      <th>195</th>\n",
       "      <td>volvo 144ea</td>\n",
       "      <td>volvo</td>\n",
       "    </tr>\n",
       "    <tr>\n",
       "      <th>203</th>\n",
       "      <td>volvo 246</td>\n",
       "      <td>volvo</td>\n",
       "    </tr>\n",
       "    <tr>\n",
       "      <th>20</th>\n",
       "      <td>chevrolet vega 2300</td>\n",
       "      <td>chevrolet</td>\n",
       "    </tr>\n",
       "    <tr>\n",
       "      <th>18</th>\n",
       "      <td>chevrolet impala</td>\n",
       "      <td>chevrolet</td>\n",
       "    </tr>\n",
       "  </tbody>\n",
       "</table>\n",
       "</div>"
      ],
      "text/plain": [
       "                 CarName    company\n",
       "195          volvo 144ea      volvo\n",
       "203            volvo 246      volvo\n",
       "20   chevrolet vega 2300  chevrolet\n",
       "18      chevrolet impala  chevrolet"
      ]
     },
     "execution_count": 368,
     "metadata": {},
     "output_type": "execute_result"
    }
   ],
   "source": [
    "car[['CarName','company']].sample(4)"
   ]
  },
  {
   "cell_type": "code",
   "execution_count": 369,
   "metadata": {
    "collapsed": true,
    "scrolled": false
   },
   "outputs": [],
   "source": [
    "# drop CarName column now\n",
    "car.drop(labels=['CarName','model'],axis=1, inplace=True)"
   ]
  },
  {
   "cell_type": "markdown",
   "metadata": {},
   "source": [
    "### data quality issues"
   ]
  },
  {
   "cell_type": "code",
   "execution_count": 370,
   "metadata": {
    "scrolled": false
   },
   "outputs": [
    {
     "data": {
      "text/plain": [
       "array(['alfa-romero', 'audi', 'bmw', 'chevrolet', 'dodge', 'honda',\n",
       "       'isuzu', 'jaguar', 'maxda', 'mazda', 'buick', 'mercury',\n",
       "       'mitsubishi', 'Nissan', 'nissan', 'peugeot', 'plymouth', 'porsche',\n",
       "       'porcshce', 'renault', 'saab', 'subaru', 'toyota', 'toyouta',\n",
       "       'vokswagen', 'volkswagen', 'vw', 'volvo'], dtype=object)"
      ]
     },
     "execution_count": 370,
     "metadata": {},
     "output_type": "execute_result"
    }
   ],
   "source": [
    "# data cleaning in company column\n",
    "car.company.unique()\n",
    "# mazda is mis-spelled as maxda\n",
    "# toyota is mis-spelled as toyouta\n",
    "# porsche is mis-spelled as porcshce\n",
    "# volkswagen is mis-spelled as vokswagen\n",
    "# volkswagen in short form written as vw\n",
    "# Nissan & nissan considered as two differnt company"
   ]
  },
  {
   "cell_type": "code",
   "execution_count": 371,
   "metadata": {
    "collapsed": true,
    "scrolled": false
   },
   "outputs": [],
   "source": [
    "car['company'] = car['company'].str.lower()\n",
    "car['company'] = car.loc[:, 'company'].replace(['maxda', 'toyouta', 'porcshce','vokswagen','vw'], \\\n",
    "                              ['mazda', 'toyota', 'porsche','volkswagen','volkswagen'])"
   ]
  },
  {
   "cell_type": "code",
   "execution_count": 372,
   "metadata": {
    "scrolled": false
   },
   "outputs": [
    {
     "data": {
      "text/plain": [
       "array(['alfa-romero', 'audi', 'bmw', 'chevrolet', 'dodge', 'honda',\n",
       "       'isuzu', 'jaguar', 'mazda', 'buick', 'mercury', 'mitsubishi',\n",
       "       'nissan', 'peugeot', 'plymouth', 'porsche', 'renault', 'saab',\n",
       "       'subaru', 'toyota', 'volkswagen', 'volvo'], dtype=object)"
      ]
     },
     "execution_count": 372,
     "metadata": {},
     "output_type": "execute_result"
    }
   ],
   "source": [
    "car.company.unique()"
   ]
  },
  {
   "cell_type": "markdown",
   "metadata": {},
   "source": [
    "<a id='eda'></a>"
   ]
  },
  {
   "cell_type": "markdown",
   "metadata": {},
   "source": [
    "## V. Exploratory Data Analysis"
   ]
  },
  {
   "cell_type": "markdown",
   "metadata": {},
   "source": [
    "### Univariate Analysis"
   ]
  },
  {
   "cell_type": "markdown",
   "metadata": {},
   "source": [
    "##### Car price Distribution"
   ]
  },
  {
   "cell_type": "code",
   "execution_count": 373,
   "metadata": {
    "scrolled": false
   },
   "outputs": [
    {
     "data": {
      "image/png": "[encoded data removed]",
      "text/plain": [
       "<matplotlib.figure.Figure at 0x220659beb70>"
      ]
     },
     "metadata": {},
     "output_type": "display_data"
    }
   ],
   "source": [
    "fig, ax=plt.subplots(nrows =1,ncols=3,figsize=(20,8))\n",
    "sns.set(style=\"darkgrid\")\n",
    "ax[0].set_title(\"Distribution Plot\")\n",
    "sns.distplot(car['price'],ax=ax[0])\n",
    "ax[1].set_title(\"Violin Plot\")\n",
    "sns.violinplot(car['price'],ax=ax[1], inner=\"quartile\")\n",
    "ax[2].set_title(\"Box Plot\")\n",
    "sns.boxplot(car['price'],ax=ax[2])\n",
    "plt.show()"
   ]
  },
  {
   "cell_type": "markdown",
   "metadata": {},
   "source": [
    "<font color='blue'><b>Insights</b>: Most of the car prices are distributed between 5000 to 15000 USD.</font> "
   ]
  },
  {
   "cell_type": "markdown",
   "metadata": {},
   "source": [
    "##### Pie Chart of different categorical variables."
   ]
  },
  {
   "cell_type": "code",
   "execution_count": 374,
   "metadata": {
    "scrolled": false
   },
   "outputs": [
    {
     "data": {
      "image/png": "[encoded data removed]",
      "text/plain": [
       "<matplotlib.figure.Figure at 0x220640bfb00>"
      ]
     },
     "metadata": {},
     "output_type": "display_data"
    }
   ],
   "source": [
    "fig, ax = plt.subplots(nrows=1, ncols=3,figsize=(21,7))\n",
    "car['cylindernumber'].value_counts().plot.pie(autopct='%.2f',ax=ax[0])\n",
    "ax[0].set_title(\"No of Cylinders\")\n",
    "car['fueltype'].value_counts().plot.pie(autopct='%.2f',ax=ax[1])\n",
    "ax[1].set_title(\"Fuel type\")\n",
    "car['enginetype'].value_counts().plot.pie(autopct='%.2f',ax=ax[2])\n",
    "ax[2].set_title(\"Engine type\")\n",
    "plt.show()"
   ]
  },
  {
   "cell_type": "markdown",
   "metadata": {},
   "source": [
    "<font color='blue'><b>Insights::</b></font> \n",
    "1. __77%__ of the cars have __four__ cylinders.\n",
    "2. __90%__ of the cars have __gas__ as a fuel type.\n",
    "3. __72%__ of the cars have __ohc__ engine type."
   ]
  },
  {
   "cell_type": "markdown",
   "metadata": {},
   "source": [
    "##### Heatmap :: Correlation between continuos variables."
   ]
  },
  {
   "cell_type": "code",
   "execution_count": 375,
   "metadata": {
    "scrolled": false
   },
   "outputs": [
    {
     "data": {
      "image/png": "[encoded data removed]",
      "text/plain": [
       "<matplotlib.figure.Figure at 0x220651db278>"
      ]
     },
     "metadata": {},
     "output_type": "display_data"
    }
   ],
   "source": [
    "corr = car.corr()\n",
    "plt.figure(figsize=(17,9))\n",
    "ax = sns.heatmap(corr, annot=True)\n",
    "rotx = ax.set_xticklabels(ax.get_xticklabels(), rotation=90)\n",
    "roty = ax.set_yticklabels(ax.get_yticklabels(), rotation=30)"
   ]
  },
  {
   "cell_type": "markdown",
   "metadata": {},
   "source": [
    "#### Insights:\n",
    "1. Price is more correlated with engine size and curb weight of the car\n",
    "2. Curb weight is mostly correlated with car length & car width.\n",
    "3. Wheel base is highly correlated with car length & car width."
   ]
  },
  {
   "cell_type": "code",
   "execution_count": 376,
   "metadata": {
    "collapsed": true,
    "scrolled": false
   },
   "outputs": [],
   "source": [
    "#car.select_dtypes(exclude=['number']).head()\n",
    "# Alternatively we can use the below statement as well to get the categorical columns\n",
    "#car.select_dtypes(include=['object']).head()"
   ]
  },
  {
   "cell_type": "code",
   "execution_count": 377,
   "metadata": {
    "collapsed": true,
    "scrolled": false
   },
   "outputs": [],
   "source": [
    "#derived metrics\n"
   ]
  },
  {
   "cell_type": "code",
   "execution_count": 378,
   "metadata": {
    "scrolled": false
   },
   "outputs": [
    {
     "data": {
      "text/html": [
       "<div>\n",
       "<style>\n",
       "    .dataframe thead tr:only-child th {\n",
       "        text-align: right;\n",
       "    }\n",
       "\n",
       "    .dataframe thead th {\n",
       "        text-align: left;\n",
       "    }\n",
       "\n",
       "    .dataframe tbody tr th {\n",
       "        vertical-align: top;\n",
       "    }\n",
       "</style>\n",
       "<table border=\"1\" class=\"dataframe\">\n",
       "  <thead>\n",
       "    <tr style=\"text-align: right;\">\n",
       "      <th></th>\n",
       "      <th>car_ID</th>\n",
       "      <th>symboling</th>\n",
       "      <th>fueltype</th>\n",
       "      <th>aspiration</th>\n",
       "      <th>doornumber</th>\n",
       "      <th>carbody</th>\n",
       "      <th>drivewheel</th>\n",
       "      <th>enginelocation</th>\n",
       "      <th>wheelbase</th>\n",
       "      <th>carlength</th>\n",
       "      <th>carwidth</th>\n",
       "      <th>carheight</th>\n",
       "      <th>curbweight</th>\n",
       "      <th>enginetype</th>\n",
       "      <th>cylindernumber</th>\n",
       "      <th>enginesize</th>\n",
       "      <th>fuelsystem</th>\n",
       "      <th>boreratio</th>\n",
       "      <th>stroke</th>\n",
       "      <th>compressionratio</th>\n",
       "      <th>horsepower</th>\n",
       "      <th>peakrpm</th>\n",
       "      <th>citympg</th>\n",
       "      <th>highwaympg</th>\n",
       "      <th>price</th>\n",
       "      <th>company</th>\n",
       "    </tr>\n",
       "  </thead>\n",
       "  <tbody>\n",
       "    <tr>\n",
       "      <th>128</th>\n",
       "      <td>129</td>\n",
       "      <td>3</td>\n",
       "      <td>gas</td>\n",
       "      <td>std</td>\n",
       "      <td>two</td>\n",
       "      <td>convertible</td>\n",
       "      <td>rwd</td>\n",
       "      <td>rear</td>\n",
       "      <td>89.500</td>\n",
       "      <td>168.900</td>\n",
       "      <td>65.000</td>\n",
       "      <td>51.600</td>\n",
       "      <td>2800</td>\n",
       "      <td>ohcf</td>\n",
       "      <td>six</td>\n",
       "      <td>194</td>\n",
       "      <td>mpfi</td>\n",
       "      <td>3.740</td>\n",
       "      <td>2.900</td>\n",
       "      <td>9.500</td>\n",
       "      <td>207</td>\n",
       "      <td>5900</td>\n",
       "      <td>17</td>\n",
       "      <td>25</td>\n",
       "      <td>37028.000</td>\n",
       "      <td>porsche</td>\n",
       "    </tr>\n",
       "    <tr>\n",
       "      <th>93</th>\n",
       "      <td>94</td>\n",
       "      <td>1</td>\n",
       "      <td>gas</td>\n",
       "      <td>std</td>\n",
       "      <td>four</td>\n",
       "      <td>wagon</td>\n",
       "      <td>fwd</td>\n",
       "      <td>front</td>\n",
       "      <td>94.500</td>\n",
       "      <td>170.200</td>\n",
       "      <td>63.800</td>\n",
       "      <td>53.500</td>\n",
       "      <td>2024</td>\n",
       "      <td>ohc</td>\n",
       "      <td>four</td>\n",
       "      <td>97</td>\n",
       "      <td>2bbl</td>\n",
       "      <td>3.150</td>\n",
       "      <td>3.290</td>\n",
       "      <td>9.400</td>\n",
       "      <td>69</td>\n",
       "      <td>5200</td>\n",
       "      <td>31</td>\n",
       "      <td>37</td>\n",
       "      <td>7349.000</td>\n",
       "      <td>nissan</td>\n",
       "    </tr>\n",
       "    <tr>\n",
       "      <th>99</th>\n",
       "      <td>100</td>\n",
       "      <td>0</td>\n",
       "      <td>gas</td>\n",
       "      <td>std</td>\n",
       "      <td>four</td>\n",
       "      <td>hatchback</td>\n",
       "      <td>fwd</td>\n",
       "      <td>front</td>\n",
       "      <td>97.200</td>\n",
       "      <td>173.400</td>\n",
       "      <td>65.200</td>\n",
       "      <td>54.700</td>\n",
       "      <td>2324</td>\n",
       "      <td>ohc</td>\n",
       "      <td>four</td>\n",
       "      <td>120</td>\n",
       "      <td>2bbl</td>\n",
       "      <td>3.330</td>\n",
       "      <td>3.470</td>\n",
       "      <td>8.500</td>\n",
       "      <td>97</td>\n",
       "      <td>5200</td>\n",
       "      <td>27</td>\n",
       "      <td>34</td>\n",
       "      <td>8949.000</td>\n",
       "      <td>nissan</td>\n",
       "    </tr>\n",
       "    <tr>\n",
       "      <th>176</th>\n",
       "      <td>177</td>\n",
       "      <td>-1</td>\n",
       "      <td>gas</td>\n",
       "      <td>std</td>\n",
       "      <td>four</td>\n",
       "      <td>sedan</td>\n",
       "      <td>fwd</td>\n",
       "      <td>front</td>\n",
       "      <td>102.400</td>\n",
       "      <td>175.600</td>\n",
       "      <td>66.500</td>\n",
       "      <td>54.900</td>\n",
       "      <td>2414</td>\n",
       "      <td>ohc</td>\n",
       "      <td>four</td>\n",
       "      <td>122</td>\n",
       "      <td>mpfi</td>\n",
       "      <td>3.310</td>\n",
       "      <td>3.540</td>\n",
       "      <td>8.700</td>\n",
       "      <td>92</td>\n",
       "      <td>4200</td>\n",
       "      <td>27</td>\n",
       "      <td>32</td>\n",
       "      <td>10898.000</td>\n",
       "      <td>toyota</td>\n",
       "    </tr>\n",
       "    <tr>\n",
       "      <th>77</th>\n",
       "      <td>78</td>\n",
       "      <td>2</td>\n",
       "      <td>gas</td>\n",
       "      <td>std</td>\n",
       "      <td>two</td>\n",
       "      <td>hatchback</td>\n",
       "      <td>fwd</td>\n",
       "      <td>front</td>\n",
       "      <td>93.700</td>\n",
       "      <td>157.300</td>\n",
       "      <td>64.400</td>\n",
       "      <td>50.800</td>\n",
       "      <td>1944</td>\n",
       "      <td>ohc</td>\n",
       "      <td>four</td>\n",
       "      <td>92</td>\n",
       "      <td>2bbl</td>\n",
       "      <td>2.970</td>\n",
       "      <td>3.230</td>\n",
       "      <td>9.400</td>\n",
       "      <td>68</td>\n",
       "      <td>5500</td>\n",
       "      <td>31</td>\n",
       "      <td>38</td>\n",
       "      <td>6189.000</td>\n",
       "      <td>mitsubishi</td>\n",
       "    </tr>\n",
       "  </tbody>\n",
       "</table>\n",
       "</div>"
      ],
      "text/plain": [
       "     car_ID  symboling fueltype aspiration doornumber      carbody drivewheel  \\\n",
       "128     129          3      gas        std        two  convertible        rwd   \n",
       "93       94          1      gas        std       four        wagon        fwd   \n",
       "99      100          0      gas        std       four    hatchback        fwd   \n",
       "176     177         -1      gas        std       four        sedan        fwd   \n",
       "77       78          2      gas        std        two    hatchback        fwd   \n",
       "\n",
       "    enginelocation  wheelbase  carlength  carwidth  carheight  curbweight  \\\n",
       "128           rear     89.500    168.900    65.000     51.600        2800   \n",
       "93           front     94.500    170.200    63.800     53.500        2024   \n",
       "99           front     97.200    173.400    65.200     54.700        2324   \n",
       "176          front    102.400    175.600    66.500     54.900        2414   \n",
       "77           front     93.700    157.300    64.400     50.800        1944   \n",
       "\n",
       "    enginetype cylindernumber  enginesize fuelsystem  boreratio  stroke  \\\n",
       "128       ohcf            six         194       mpfi      3.740   2.900   \n",
       "93         ohc           four          97       2bbl      3.150   3.290   \n",
       "99         ohc           four         120       2bbl      3.330   3.470   \n",
       "176        ohc           four         122       mpfi      3.310   3.540   \n",
       "77         ohc           four          92       2bbl      2.970   3.230   \n",
       "\n",
       "     compressionratio  horsepower  peakrpm  citympg  highwaympg     price  \\\n",
       "128             9.500         207     5900       17          25 37028.000   \n",
       "93              9.400          69     5200       31          37  7349.000   \n",
       "99              8.500          97     5200       27          34  8949.000   \n",
       "176             8.700          92     4200       27          32 10898.000   \n",
       "77              9.400          68     5500       31          38  6189.000   \n",
       "\n",
       "        company  \n",
       "128     porsche  \n",
       "93       nissan  \n",
       "99       nissan  \n",
       "176      toyota  \n",
       "77   mitsubishi  "
      ]
     },
     "execution_count": 378,
     "metadata": {},
     "output_type": "execute_result"
    }
   ],
   "source": [
    "car.sample(5)"
   ]
  },
  {
   "cell_type": "code",
   "execution_count": 379,
   "metadata": {
    "scrolled": false
   },
   "outputs": [
    {
     "data": {
      "image/png": "[encoded data removed]",
      "text/plain": [
       "<matplotlib.figure.Figure at 0x220650933c8>"
      ]
     },
     "metadata": {},
     "output_type": "display_data"
    }
   ],
   "source": [
    "fig, ax=plt.subplots(nrows =1,ncols=2,figsize=(20,7))\n",
    "ax[0].set_title('Engine Size vs Price',fontsize=16,weight=\"bold\")\n",
    "sns.regplot(x='enginesize',y='price', data =car,ax=ax[0])\n",
    "ax[1].set_title(\"Curb Weight vs Price\",fontsize=16,weight=\"bold\")\n",
    "sns.regplot(x='curbweight',y='price', data =car,ax=ax[1])\n",
    "plt.show()"
   ]
  },
  {
   "cell_type": "markdown",
   "metadata": {},
   "source": [
    "### Bivariate/Multivariate Analysis"
   ]
  },
  {
   "cell_type": "code",
   "execution_count": 380,
   "metadata": {
    "scrolled": false
   },
   "outputs": [
    {
     "data": {
      "text/plain": [
       "Index(['car_ID', 'symboling', 'fueltype', 'aspiration', 'doornumber',\n",
       "       'carbody', 'drivewheel', 'enginelocation', 'wheelbase', 'carlength',\n",
       "       'carwidth', 'carheight', 'curbweight', 'enginetype', 'cylindernumber',\n",
       "       'enginesize', 'fuelsystem', 'boreratio', 'stroke', 'compressionratio',\n",
       "       'horsepower', 'peakrpm', 'citympg', 'highwaympg', 'price', 'company'],\n",
       "      dtype='object')"
      ]
     },
     "execution_count": 380,
     "metadata": {},
     "output_type": "execute_result"
    }
   ],
   "source": [
    "car.columns"
   ]
  },
  {
   "cell_type": "code",
   "execution_count": null,
   "metadata": {
    "collapsed": true,
    "scrolled": false
   },
   "outputs": [],
   "source": []
  },
  {
   "cell_type": "code",
   "execution_count": 381,
   "metadata": {
    "scrolled": false
   },
   "outputs": [
    {
     "data": {
      "image/png": "[encoded data removed]",
      "text/plain": [
       "<matplotlib.figure.Figure at 0x22065093b70>"
      ]
     },
     "metadata": {},
     "output_type": "display_data"
    }
   ],
   "source": [
    "# Price distribution of the cars company-wise\n",
    "plt.figure(figsize=(18,9))\n",
    "ax = sns.boxplot(x='company',y='price',data=car)\n",
    "ax.set_title('Company vs Price distribution',fontsize=18,weight=\"bold\")\n",
    "rotx = ax.set_xticklabels(ax.get_xticklabels(), rotation=45)"
   ]
  },
  {
   "cell_type": "code",
   "execution_count": 382,
   "metadata": {
    "scrolled": false
   },
   "outputs": [
    {
     "data": {
      "image/png": "[encoded data removed]",
      "text/plain": [
       "<matplotlib.figure.Figure at 0x2205cb37128>"
      ]
     },
     "metadata": {},
     "output_type": "display_data"
    }
   ],
   "source": [
    "plt.figure(figsize=(20,8))\n",
    "sns.countplot(data = car, x = 'company',hue='carbody')\n",
    "plt.title('Company wise count for each type of carbody',fontsize=18,weight=\"bold\")\n",
    "plt.show()"
   ]
  },
  {
   "cell_type": "markdown",
   "metadata": {},
   "source": [
    "##### Company/Engine Size vs ['price','carwidth','horsepower','citympg', 'highwaympg']"
   ]
  },
  {
   "cell_type": "code",
   "execution_count": 383,
   "metadata": {
    "scrolled": false
   },
   "outputs": [
    {
     "data": {
      "text/html": [
       "<div>\n",
       "<style>\n",
       "    .dataframe thead tr:only-child th {\n",
       "        text-align: right;\n",
       "    }\n",
       "\n",
       "    .dataframe thead th {\n",
       "        text-align: left;\n",
       "    }\n",
       "\n",
       "    .dataframe tbody tr th {\n",
       "        vertical-align: top;\n",
       "    }\n",
       "</style>\n",
       "<table border=\"1\" class=\"dataframe\">\n",
       "  <thead>\n",
       "    <tr>\n",
       "      <th>company</th>\n",
       "      <th colspan=\"2\" halign=\"left\">alfa-romero</th>\n",
       "      <th colspan=\"3\" halign=\"left\">audi</th>\n",
       "      <th colspan=\"3\" halign=\"left\">bmw</th>\n",
       "      <th colspan=\"4\" halign=\"left\">buick</th>\n",
       "      <th colspan=\"2\" halign=\"left\">chevrolet</th>\n",
       "      <th colspan=\"4\" halign=\"left\">dodge</th>\n",
       "      <th colspan=\"3\" halign=\"left\">honda</th>\n",
       "      <th colspan=\"3\" halign=\"left\">isuzu</th>\n",
       "      <th colspan=\"2\" halign=\"left\">jaguar</th>\n",
       "      <th colspan=\"6\" halign=\"left\">mazda</th>\n",
       "      <th>mercury</th>\n",
       "      <th colspan=\"5\" halign=\"left\">mitsubishi</th>\n",
       "      <th colspan=\"4\" halign=\"left\">nissan</th>\n",
       "      <th colspan=\"3\" halign=\"left\">peugeot</th>\n",
       "      <th colspan=\"4\" halign=\"left\">plymouth</th>\n",
       "      <th colspan=\"3\" halign=\"left\">porsche</th>\n",
       "      <th>renault</th>\n",
       "      <th>saab</th>\n",
       "      <th colspan=\"2\" halign=\"left\">subaru</th>\n",
       "      <th colspan=\"7\" halign=\"left\">toyota</th>\n",
       "      <th colspan=\"3\" halign=\"left\">volkswagen</th>\n",
       "      <th colspan=\"4\" halign=\"left\">volvo</th>\n",
       "    </tr>\n",
       "    <tr>\n",
       "      <th>enginesize</th>\n",
       "      <th>130</th>\n",
       "      <th>152</th>\n",
       "      <th>109</th>\n",
       "      <th>131</th>\n",
       "      <th>136</th>\n",
       "      <th>108</th>\n",
       "      <th>164</th>\n",
       "      <th>209</th>\n",
       "      <th>183</th>\n",
       "      <th>234</th>\n",
       "      <th>304</th>\n",
       "      <th>308</th>\n",
       "      <th>61</th>\n",
       "      <th>90</th>\n",
       "      <th>90</th>\n",
       "      <th>98</th>\n",
       "      <th>122</th>\n",
       "      <th>156</th>\n",
       "      <th>79</th>\n",
       "      <th>92</th>\n",
       "      <th>110</th>\n",
       "      <th>90</th>\n",
       "      <th>111</th>\n",
       "      <th>119</th>\n",
       "      <th>258</th>\n",
       "      <th>326</th>\n",
       "      <th>70</th>\n",
       "      <th>80</th>\n",
       "      <th>91</th>\n",
       "      <th>122</th>\n",
       "      <th>134</th>\n",
       "      <th>140</th>\n",
       "      <th>140</th>\n",
       "      <th>92</th>\n",
       "      <th>98</th>\n",
       "      <th>110</th>\n",
       "      <th>122</th>\n",
       "      <th>156</th>\n",
       "      <th>97</th>\n",
       "      <th>103</th>\n",
       "      <th>120</th>\n",
       "      <th>181</th>\n",
       "      <th>120</th>\n",
       "      <th>134</th>\n",
       "      <th>152</th>\n",
       "      <th>90</th>\n",
       "      <th>98</th>\n",
       "      <th>122</th>\n",
       "      <th>156</th>\n",
       "      <th>151</th>\n",
       "      <th>194</th>\n",
       "      <th>203</th>\n",
       "      <th>132</th>\n",
       "      <th>121</th>\n",
       "      <th>97</th>\n",
       "      <th>108</th>\n",
       "      <th>92</th>\n",
       "      <th>98</th>\n",
       "      <th>110</th>\n",
       "      <th>122</th>\n",
       "      <th>146</th>\n",
       "      <th>161</th>\n",
       "      <th>171</th>\n",
       "      <th>97</th>\n",
       "      <th>109</th>\n",
       "      <th>136</th>\n",
       "      <th>130</th>\n",
       "      <th>141</th>\n",
       "      <th>145</th>\n",
       "      <th>173</th>\n",
       "    </tr>\n",
       "  </thead>\n",
       "  <tbody>\n",
       "    <tr>\n",
       "      <th>price</th>\n",
       "      <td>14997.500</td>\n",
       "      <td>16500.000</td>\n",
       "      <td>13950.000</td>\n",
       "      <td>20867.084</td>\n",
       "      <td>17332.500</td>\n",
       "      <td>16677.500</td>\n",
       "      <td>22213.333</td>\n",
       "      <td>36318.333</td>\n",
       "      <td>28394.000</td>\n",
       "      <td>34620.000</td>\n",
       "      <td>45400.000</td>\n",
       "      <td>40960.000</td>\n",
       "      <td>5151.000</td>\n",
       "      <td>6435.000</td>\n",
       "      <td>6495.800</td>\n",
       "      <td>8257.500</td>\n",
       "      <td>8921.000</td>\n",
       "      <td>12964.000</td>\n",
       "      <td>5399.000</td>\n",
       "      <td>6930.333</td>\n",
       "      <td>9903.333</td>\n",
       "      <td>8916.500</td>\n",
       "      <td>6785.000</td>\n",
       "      <td>11048.000</td>\n",
       "      <td>33900.000</td>\n",
       "      <td>36000.000</td>\n",
       "      <td>12145.000</td>\n",
       "      <td>15645.000</td>\n",
       "      <td>6435.000</td>\n",
       "      <td>10036.667</td>\n",
       "      <td>18344.000</td>\n",
       "      <td>18280.000</td>\n",
       "      <td>16503.000</td>\n",
       "      <td>6082.333</td>\n",
       "      <td>7689.000</td>\n",
       "      <td>9505.667</td>\n",
       "      <td>7892.333</td>\n",
       "      <td>13995.667</td>\n",
       "      <td>7243.444</td>\n",
       "      <td>7099.000</td>\n",
       "      <td>9249.000</td>\n",
       "      <td>16115.667</td>\n",
       "      <td>14649.000</td>\n",
       "      <td>18150.000</td>\n",
       "      <td>15797.000</td>\n",
       "      <td>6164.333</td>\n",
       "      <td>7783.000</td>\n",
       "      <td>8921.000</td>\n",
       "      <td>12764.000</td>\n",
       "      <td>22018.000</td>\n",
       "      <td>34528.000</td>\n",
       "      <td>31400.500</td>\n",
       "      <td>9595.000</td>\n",
       "      <td>15223.333</td>\n",
       "      <td>5118.000</td>\n",
       "      <td>8852.455</td>\n",
       "      <td>6961.333</td>\n",
       "      <td>8291.333</td>\n",
       "      <td>8794.667</td>\n",
       "      <td>10270.500</td>\n",
       "      <td>11415.667</td>\n",
       "      <td>15750.000</td>\n",
       "      <td>16082.000</td>\n",
       "      <td>9777.500</td>\n",
       "      <td>9789.286</td>\n",
       "      <td>13295.000</td>\n",
       "      <td>18685.000</td>\n",
       "      <td>16767.143</td>\n",
       "      <td>22470.000</td>\n",
       "      <td>21485.000</td>\n",
       "    </tr>\n",
       "    <tr>\n",
       "      <th>carwidth</th>\n",
       "      <td>64.100</td>\n",
       "      <td>65.500</td>\n",
       "      <td>66.200</td>\n",
       "      <td>69.650</td>\n",
       "      <td>68.875</td>\n",
       "      <td>64.800</td>\n",
       "      <td>65.500</td>\n",
       "      <td>68.567</td>\n",
       "      <td>70.650</td>\n",
       "      <td>71.100</td>\n",
       "      <td>72.000</td>\n",
       "      <td>71.700</td>\n",
       "      <td>60.300</td>\n",
       "      <td>63.600</td>\n",
       "      <td>63.800</td>\n",
       "      <td>63.800</td>\n",
       "      <td>64.600</td>\n",
       "      <td>66.300</td>\n",
       "      <td>64.000</td>\n",
       "      <td>63.950</td>\n",
       "      <td>64.883</td>\n",
       "      <td>63.600</td>\n",
       "      <td>61.800</td>\n",
       "      <td>65.200</td>\n",
       "      <td>69.600</td>\n",
       "      <td>70.600</td>\n",
       "      <td>65.700</td>\n",
       "      <td>65.700</td>\n",
       "      <td>64.200</td>\n",
       "      <td>66.500</td>\n",
       "      <td>66.100</td>\n",
       "      <td>66.100</td>\n",
       "      <td>68.000</td>\n",
       "      <td>64.400</td>\n",
       "      <td>63.800</td>\n",
       "      <td>65.400</td>\n",
       "      <td>65.400</td>\n",
       "      <td>66.300</td>\n",
       "      <td>63.800</td>\n",
       "      <td>63.800</td>\n",
       "      <td>65.200</td>\n",
       "      <td>67.200</td>\n",
       "      <td>68.400</td>\n",
       "      <td>68.300</td>\n",
       "      <td>68.400</td>\n",
       "      <td>63.800</td>\n",
       "      <td>63.800</td>\n",
       "      <td>64.600</td>\n",
       "      <td>66.300</td>\n",
       "      <td>68.300</td>\n",
       "      <td>65.000</td>\n",
       "      <td>72.300</td>\n",
       "      <td>66.550</td>\n",
       "      <td>66.500</td>\n",
       "      <td>63.400</td>\n",
       "      <td>65.091</td>\n",
       "      <td>63.600</td>\n",
       "      <td>64.222</td>\n",
       "      <td>65.100</td>\n",
       "      <td>66.500</td>\n",
       "      <td>65.600</td>\n",
       "      <td>66.500</td>\n",
       "      <td>67.300</td>\n",
       "      <td>65.850</td>\n",
       "      <td>65.300</td>\n",
       "      <td>66.900</td>\n",
       "      <td>67.200</td>\n",
       "      <td>67.914</td>\n",
       "      <td>68.900</td>\n",
       "      <td>68.900</td>\n",
       "    </tr>\n",
       "    <tr>\n",
       "      <th>horsepower</th>\n",
       "      <td>111.000</td>\n",
       "      <td>154.000</td>\n",
       "      <td>102.000</td>\n",
       "      <td>150.000</td>\n",
       "      <td>111.250</td>\n",
       "      <td>101.000</td>\n",
       "      <td>121.000</td>\n",
       "      <td>182.000</td>\n",
       "      <td>123.000</td>\n",
       "      <td>155.000</td>\n",
       "      <td>184.000</td>\n",
       "      <td>184.000</td>\n",
       "      <td>48.000</td>\n",
       "      <td>70.000</td>\n",
       "      <td>68.000</td>\n",
       "      <td>102.000</td>\n",
       "      <td>88.000</td>\n",
       "      <td>145.000</td>\n",
       "      <td>60.000</td>\n",
       "      <td>73.000</td>\n",
       "      <td>90.833</td>\n",
       "      <td>70.000</td>\n",
       "      <td>78.000</td>\n",
       "      <td>90.000</td>\n",
       "      <td>176.000</td>\n",
       "      <td>262.000</td>\n",
       "      <td>101.000</td>\n",
       "      <td>135.000</td>\n",
       "      <td>68.000</td>\n",
       "      <td>80.667</td>\n",
       "      <td>72.000</td>\n",
       "      <td>120.000</td>\n",
       "      <td>175.000</td>\n",
       "      <td>68.000</td>\n",
       "      <td>102.000</td>\n",
       "      <td>116.000</td>\n",
       "      <td>88.000</td>\n",
       "      <td>145.000</td>\n",
       "      <td>69.000</td>\n",
       "      <td>55.000</td>\n",
       "      <td>97.000</td>\n",
       "      <td>162.667</td>\n",
       "      <td>96.200</td>\n",
       "      <td>142.000</td>\n",
       "      <td>95.000</td>\n",
       "      <td>68.000</td>\n",
       "      <td>85.000</td>\n",
       "      <td>88.000</td>\n",
       "      <td>145.000</td>\n",
       "      <td>143.000</td>\n",
       "      <td>207.000</td>\n",
       "      <td>288.000</td>\n",
       "      <td>90.000</td>\n",
       "      <td>126.667</td>\n",
       "      <td>69.000</td>\n",
       "      <td>87.818</td>\n",
       "      <td>62.000</td>\n",
       "      <td>79.333</td>\n",
       "      <td>61.667</td>\n",
       "      <td>92.000</td>\n",
       "      <td>116.000</td>\n",
       "      <td>156.000</td>\n",
       "      <td>159.333</td>\n",
       "      <td>60.000</td>\n",
       "      <td>89.000</td>\n",
       "      <td>110.000</td>\n",
       "      <td>162.000</td>\n",
       "      <td>120.571</td>\n",
       "      <td>106.000</td>\n",
       "      <td>134.000</td>\n",
       "    </tr>\n",
       "    <tr>\n",
       "      <th>citympg</th>\n",
       "      <td>21.000</td>\n",
       "      <td>19.000</td>\n",
       "      <td>24.000</td>\n",
       "      <td>16.500</td>\n",
       "      <td>18.750</td>\n",
       "      <td>23.000</td>\n",
       "      <td>20.667</td>\n",
       "      <td>15.667</td>\n",
       "      <td>22.000</td>\n",
       "      <td>16.000</td>\n",
       "      <td>14.000</td>\n",
       "      <td>14.000</td>\n",
       "      <td>47.000</td>\n",
       "      <td>38.000</td>\n",
       "      <td>32.200</td>\n",
       "      <td>24.000</td>\n",
       "      <td>24.000</td>\n",
       "      <td>19.000</td>\n",
       "      <td>38.000</td>\n",
       "      <td>33.333</td>\n",
       "      <td>26.167</td>\n",
       "      <td>38.000</td>\n",
       "      <td>24.000</td>\n",
       "      <td>24.000</td>\n",
       "      <td>15.000</td>\n",
       "      <td>13.000</td>\n",
       "      <td>17.000</td>\n",
       "      <td>16.000</td>\n",
       "      <td>30.800</td>\n",
       "      <td>27.667</td>\n",
       "      <td>31.000</td>\n",
       "      <td>19.000</td>\n",
       "      <td>19.000</td>\n",
       "      <td>33.000</td>\n",
       "      <td>24.000</td>\n",
       "      <td>23.000</td>\n",
       "      <td>25.000</td>\n",
       "      <td>19.000</td>\n",
       "      <td>31.000</td>\n",
       "      <td>45.000</td>\n",
       "      <td>27.000</td>\n",
       "      <td>18.000</td>\n",
       "      <td>19.000</td>\n",
       "      <td>18.000</td>\n",
       "      <td>26.800</td>\n",
       "      <td>33.000</td>\n",
       "      <td>27.500</td>\n",
       "      <td>24.000</td>\n",
       "      <td>19.000</td>\n",
       "      <td>19.000</td>\n",
       "      <td>17.000</td>\n",
       "      <td>17.000</td>\n",
       "      <td>23.000</td>\n",
       "      <td>20.333</td>\n",
       "      <td>31.000</td>\n",
       "      <td>25.909</td>\n",
       "      <td>30.333</td>\n",
       "      <td>29.333</td>\n",
       "      <td>34.000</td>\n",
       "      <td>27.500</td>\n",
       "      <td>24.000</td>\n",
       "      <td>19.000</td>\n",
       "      <td>19.667</td>\n",
       "      <td>36.000</td>\n",
       "      <td>25.714</td>\n",
       "      <td>19.000</td>\n",
       "      <td>17.000</td>\n",
       "      <td>22.143</td>\n",
       "      <td>26.000</td>\n",
       "      <td>18.000</td>\n",
       "    </tr>\n",
       "    <tr>\n",
       "      <th>highwaympg</th>\n",
       "      <td>27.000</td>\n",
       "      <td>26.000</td>\n",
       "      <td>30.000</td>\n",
       "      <td>21.000</td>\n",
       "      <td>24.250</td>\n",
       "      <td>29.000</td>\n",
       "      <td>27.000</td>\n",
       "      <td>21.333</td>\n",
       "      <td>25.000</td>\n",
       "      <td>18.000</td>\n",
       "      <td>16.000</td>\n",
       "      <td>16.000</td>\n",
       "      <td>53.000</td>\n",
       "      <td>43.000</td>\n",
       "      <td>38.600</td>\n",
       "      <td>30.000</td>\n",
       "      <td>30.000</td>\n",
       "      <td>24.000</td>\n",
       "      <td>42.000</td>\n",
       "      <td>38.000</td>\n",
       "      <td>31.833</td>\n",
       "      <td>43.000</td>\n",
       "      <td>29.000</td>\n",
       "      <td>29.000</td>\n",
       "      <td>19.000</td>\n",
       "      <td>17.000</td>\n",
       "      <td>23.000</td>\n",
       "      <td>23.000</td>\n",
       "      <td>36.600</td>\n",
       "      <td>33.667</td>\n",
       "      <td>39.000</td>\n",
       "      <td>27.000</td>\n",
       "      <td>24.000</td>\n",
       "      <td>39.000</td>\n",
       "      <td>30.000</td>\n",
       "      <td>30.000</td>\n",
       "      <td>32.000</td>\n",
       "      <td>24.000</td>\n",
       "      <td>37.000</td>\n",
       "      <td>50.000</td>\n",
       "      <td>34.000</td>\n",
       "      <td>23.667</td>\n",
       "      <td>24.000</td>\n",
       "      <td>24.000</td>\n",
       "      <td>29.800</td>\n",
       "      <td>39.000</td>\n",
       "      <td>34.000</td>\n",
       "      <td>30.000</td>\n",
       "      <td>24.000</td>\n",
       "      <td>27.000</td>\n",
       "      <td>25.000</td>\n",
       "      <td>28.000</td>\n",
       "      <td>31.000</td>\n",
       "      <td>27.333</td>\n",
       "      <td>36.000</td>\n",
       "      <td>30.273</td>\n",
       "      <td>36.000</td>\n",
       "      <td>35.000</td>\n",
       "      <td>38.667</td>\n",
       "      <td>32.500</td>\n",
       "      <td>30.000</td>\n",
       "      <td>24.000</td>\n",
       "      <td>24.000</td>\n",
       "      <td>43.000</td>\n",
       "      <td>31.857</td>\n",
       "      <td>24.000</td>\n",
       "      <td>22.000</td>\n",
       "      <td>27.143</td>\n",
       "      <td>27.000</td>\n",
       "      <td>23.000</td>\n",
       "    </tr>\n",
       "  </tbody>\n",
       "</table>\n",
       "</div>"
      ],
      "text/plain": [
       "company    alfa-romero                audi                           bmw  \\\n",
       "enginesize         130       152       109       131       136       108   \n",
       "price        14997.500 16500.000 13950.000 20867.084 17332.500 16677.500   \n",
       "carwidth        64.100    65.500    66.200    69.650    68.875    64.800   \n",
       "horsepower     111.000   154.000   102.000   150.000   111.250   101.000   \n",
       "citympg         21.000    19.000    24.000    16.500    18.750    23.000   \n",
       "highwaympg      27.000    26.000    30.000    21.000    24.250    29.000   \n",
       "\n",
       "company                            buick                                \\\n",
       "enginesize       164       209       183       234       304       308   \n",
       "price      22213.333 36318.333 28394.000 34620.000 45400.000 40960.000   \n",
       "carwidth      65.500    68.567    70.650    71.100    72.000    71.700   \n",
       "horsepower   121.000   182.000   123.000   155.000   184.000   184.000   \n",
       "citympg       20.667    15.667    22.000    16.000    14.000    14.000   \n",
       "highwaympg    27.000    21.333    25.000    18.000    16.000    16.000   \n",
       "\n",
       "company    chevrolet             dodge                                honda  \\\n",
       "enginesize       61       90       90       98       122       156      79    \n",
       "price       5151.000 6435.000 6495.800 8257.500 8921.000 12964.000 5399.000   \n",
       "carwidth      60.300   63.600   63.800   63.800   64.600    66.300   64.000   \n",
       "horsepower    48.000   70.000   68.000  102.000   88.000   145.000   60.000   \n",
       "citympg       47.000   38.000   32.200   24.000   24.000    19.000   38.000   \n",
       "highwaympg    53.000   43.000   38.600   30.000   30.000    24.000   42.000   \n",
       "\n",
       "company                         isuzu                       jaguar            \\\n",
       "enginesize      92       110      90       111       119       258       326   \n",
       "price      6930.333 9903.333 8916.500 6785.000 11048.000 33900.000 36000.000   \n",
       "carwidth     63.950   64.883   63.600   61.800    65.200    69.600    70.600   \n",
       "horsepower   73.000   90.833   70.000   78.000    90.000   176.000   262.000   \n",
       "citympg      33.333   26.167   38.000   24.000    24.000    15.000    13.000   \n",
       "highwaympg   38.000   31.833   43.000   29.000    29.000    19.000    17.000   \n",
       "\n",
       "company        mazda                                                   \\\n",
       "enginesize       70        80       91        122       134       140   \n",
       "price      12145.000 15645.000 6435.000 10036.667 18344.000 18280.000   \n",
       "carwidth      65.700    65.700   64.200    66.500    66.100    66.100   \n",
       "horsepower   101.000   135.000   68.000    80.667    72.000   120.000   \n",
       "citympg       17.000    16.000   30.800    27.667    31.000    19.000   \n",
       "highwaympg    23.000    23.000   36.600    33.667    39.000    27.000   \n",
       "\n",
       "company      mercury mitsubishi                                        nissan  \\\n",
       "enginesize       140        92       98       110      122       156      97    \n",
       "price      16503.000   6082.333 7689.000 9505.667 7892.333 13995.667 7243.444   \n",
       "carwidth      68.000     64.400   63.800   65.400   65.400    66.300   63.800   \n",
       "horsepower   175.000     68.000  102.000  116.000   88.000   145.000   69.000   \n",
       "citympg       19.000     33.000   24.000   23.000   25.000    19.000   31.000   \n",
       "highwaympg    24.000     39.000   30.000   30.000   32.000    24.000   37.000   \n",
       "\n",
       "company                                  peugeot                     plymouth  \\\n",
       "enginesize      103      120       181       120       134       152      90    \n",
       "price      7099.000 9249.000 16115.667 14649.000 18150.000 15797.000 6164.333   \n",
       "carwidth     63.800   65.200    67.200    68.400    68.300    68.400   63.800   \n",
       "horsepower   55.000   97.000   162.667    96.200   142.000    95.000   68.000   \n",
       "citympg      45.000   27.000    18.000    19.000    18.000    26.800   33.000   \n",
       "highwaympg   50.000   34.000    23.667    24.000    24.000    29.800   39.000   \n",
       "\n",
       "company                                  porsche                      renault  \\\n",
       "enginesize      98       122       156       151       194       203      132   \n",
       "price      7783.000 8921.000 12764.000 22018.000 34528.000 31400.500 9595.000   \n",
       "carwidth     63.800   64.600    66.300    68.300    65.000    72.300   66.550   \n",
       "horsepower   85.000   88.000   145.000   143.000   207.000   288.000   90.000   \n",
       "citympg      27.500   24.000    19.000    19.000    17.000    17.000   23.000   \n",
       "highwaympg   34.000   30.000    24.000    27.000    25.000    28.000   31.000   \n",
       "\n",
       "company         saab   subaru            toyota                              \\\n",
       "enginesize       121      97       108      92       98       110       122   \n",
       "price      15223.333 5118.000 8852.455 6961.333 8291.333 8794.667 10270.500   \n",
       "carwidth      66.500   63.400   65.091   63.600   64.222   65.100    66.500   \n",
       "horsepower   126.667   69.000   87.818   62.000   79.333   61.667    92.000   \n",
       "citympg       20.333   31.000   25.909   30.333   29.333   34.000    27.500   \n",
       "highwaympg    27.333   36.000   30.273   36.000   35.000   38.667    32.500   \n",
       "\n",
       "company                                  volkswagen                     \\\n",
       "enginesize       146       161       171        97       109       136   \n",
       "price      11415.667 15750.000 16082.000   9777.500 9789.286 13295.000   \n",
       "carwidth      65.600    66.500    67.300     65.850   65.300    66.900   \n",
       "horsepower   116.000   156.000   159.333     60.000   89.000   110.000   \n",
       "citympg       24.000    19.000    19.667     36.000   25.714    19.000   \n",
       "highwaympg    30.000    24.000    24.000     43.000   31.857    24.000   \n",
       "\n",
       "company        volvo                                \n",
       "enginesize       130       141       145       173  \n",
       "price      18685.000 16767.143 22470.000 21485.000  \n",
       "carwidth      67.200    67.914    68.900    68.900  \n",
       "horsepower   162.000   120.571   106.000   134.000  \n",
       "citympg       17.000    22.143    26.000    18.000  \n",
       "highwaympg    22.000    27.143    27.000    23.000  "
      ]
     },
     "execution_count": 383,
     "metadata": {},
     "output_type": "execute_result"
    }
   ],
   "source": [
    "crosstab = car.groupby(by=['company','enginesize'])['price','carwidth','horsepower','citympg', 'highwaympg'].mean().transpose()\n",
    "crosstab"
   ]
  },
  {
   "cell_type": "markdown",
   "metadata": {},
   "source": [
    "<a id='cat'></a>"
   ]
  },
  {
   "cell_type": "markdown",
   "metadata": {},
   "source": [
    "## VI. Convert Categorical Variables to Continuos"
   ]
  },
  {
   "cell_type": "code",
   "execution_count": 384,
   "metadata": {
    "scrolled": false
   },
   "outputs": [
    {
     "data": {
      "text/plain": [
       "fueltype           2\n",
       "aspiration         2\n",
       "doornumber         2\n",
       "carbody            5\n",
       "drivewheel         3\n",
       "enginelocation     2\n",
       "enginetype         7\n",
       "cylindernumber     7\n",
       "fuelsystem         8\n",
       "company           22\n",
       "dtype: int64"
      ]
     },
     "execution_count": 384,
     "metadata": {},
     "output_type": "execute_result"
    }
   ],
   "source": [
    "categorical_cols = car.select_dtypes(include=['object'])\n",
    "categorical_cols.nunique()"
   ]
  },
  {
   "cell_type": "code",
   "execution_count": 385,
   "metadata": {
    "collapsed": true,
    "scrolled": false
   },
   "outputs": [],
   "source": [
    "# first convert categorical columns where there are only two distinct values to numeric(0 or 1)\n",
    "car['fueltype'] = car['fueltype'].map({'gas':0, 'diesel':1})\n",
    "car['aspiration'] = car['aspiration'].map({'std':0, 'turbo':1})\n",
    "car['doornumber'] = car['doornumber'].map({'two':0, 'four':1})\n",
    "car['enginelocation'] = car['enginelocation'].map({'front':0, 'rear':1})"
   ]
  },
  {
   "cell_type": "code",
   "execution_count": 386,
   "metadata": {
    "collapsed": true,
    "scrolled": false
   },
   "outputs": [],
   "source": [
    "def add_dummy(df,colname):\n",
    "    \"\"\"\n",
    "    This function will convert the categorical column to continuos by adding dummy variables to the dataframe and \n",
    "    drop the original categorical column.\n",
    "    df      :: dataframe\n",
    "    colname :: name of categorical column\n",
    "    \"\"\"\n",
    "    df_new = df.copy()\n",
    "    dummy = pd.get_dummies(df_new[colname],drop_first=True)\n",
    "    df_new = pd.concat([df_new,dummy],axis=1)\n",
    "    df_new.drop(labels=colname,axis=1,inplace=True)\n",
    "    print(colname,':::',dummy.columns.values,'\\n')\n",
    "    del dummy\n",
    "    return df_new"
   ]
  },
  {
   "cell_type": "code",
   "execution_count": 387,
   "metadata": {
    "scrolled": false
   },
   "outputs": [
    {
     "name": "stdout",
     "output_type": "stream",
     "text": [
      "carbody ::: ['hardtop' 'hatchback' 'sedan' 'wagon'] \n",
      "\n",
      "drivewheel ::: ['fwd' 'rwd'] \n",
      "\n",
      "enginetype ::: ['dohcv' 'l' 'ohc' 'ohcf' 'ohcv' 'rotor'] \n",
      "\n",
      "fuelsystem ::: ['2bbl' '4bbl' 'idi' 'mfi' 'mpfi' 'spdi' 'spfi'] \n",
      "\n",
      "company ::: ['audi' 'bmw' 'buick' 'chevrolet' 'dodge' 'honda' 'isuzu' 'jaguar' 'mazda'\n",
      " 'mercury' 'mitsubishi' 'nissan' 'peugeot' 'plymouth' 'porsche' 'renault'\n",
      " 'saab' 'subaru' 'toyota' 'volkswagen' 'volvo'] \n",
      "\n",
      "cylindernumber ::: ['five' 'four' 'six' 'three' 'twelve' 'two'] \n",
      "\n"
     ]
    }
   ],
   "source": [
    "car = add_dummy(car,'carbody')\n",
    "car = add_dummy(car,'drivewheel')\n",
    "car = add_dummy(car,'enginetype')\n",
    "car = add_dummy(car,'fuelsystem')\n",
    "car = add_dummy(car,'company')\n",
    "car = add_dummy(car,'cylindernumber')"
   ]
  },
  {
   "cell_type": "markdown",
   "metadata": {},
   "source": [
    "<a id='scaling'></a>"
   ]
  },
  {
   "cell_type": "markdown",
   "metadata": {},
   "source": [
    "## VII. Feature Scaling"
   ]
  },
  {
   "cell_type": "code",
   "execution_count": 388,
   "metadata": {
    "collapsed": true,
    "scrolled": false
   },
   "outputs": [],
   "source": [
    "car=(car-car.min())/(car.max()-car.min())"
   ]
  },
  {
   "cell_type": "markdown",
   "metadata": {},
   "source": [
    "<a id='feature'></a>"
   ]
  },
  {
   "cell_type": "markdown",
   "metadata": {},
   "source": [
    "## VIII. Feature Selection"
   ]
  },
  {
   "cell_type": "code",
   "execution_count": 389,
   "metadata": {
    "collapsed": true,
    "scrolled": false
   },
   "outputs": [],
   "source": [
    "# Putting feature variable to X(remove car_ID & price)\n",
    "X = car.loc[:, ~car.columns.isin(['car_ID','price'])]\n",
    "\n",
    "# Putting target variable to y\n",
    "y = car['price']"
   ]
  },
  {
   "cell_type": "code",
   "execution_count": 390,
   "metadata": {
    "collapsed": true,
    "scrolled": false
   },
   "outputs": [],
   "source": [
    "from sklearn.cross_validation import train_test_split\n",
    "X_train, X_test, y_train, y_test = train_test_split(X, y, train_size=0.70 , random_state=100)"
   ]
  },
  {
   "cell_type": "code",
   "execution_count": 391,
   "metadata": {
    "collapsed": true,
    "scrolled": false
   },
   "outputs": [],
   "source": [
    "regression = LinearRegression()"
   ]
  },
  {
   "cell_type": "code",
   "execution_count": 392,
   "metadata": {
    "scrolled": false
   },
   "outputs": [
    {
     "name": "stdout",
     "output_type": "stream",
     "text": [
      "Features sorted by their rank::::\n",
      "\n",
      "[(1, 'enginesize'), (2, 'curbweight'), (3, 'enginelocation'), (4, 'carwidth'), (5, 'bmw'), (6, 'three'), (7, 'rotor'), (8, 'porsche'), (9, 'boreratio'), (10, 'twelve'), (11, 'stroke'), (12, 'two'), (13, 'four'), (14, 'five'), (15, 'peugeot'), (16, 'l'), (17, 'mitsubishi'), (18, 'wheelbase'), (19, 'aspiration'), (20, 'peakrpm'), (21, 'dohcv'), (22, 'horsepower'), (23, 'saab'), (24, 'carheight'), (25, 'plymouth'), (26, 'dodge'), (27, 'fueltype'), (28, 'idi'), (29, 'compressionratio'), (30, 'volvo'), (31, 'ohcf'), (32, 'honda'), (33, 'six'), (34, 'buick'), (35, 'audi'), (36, 'renault'), (37, 'highwaympg'), (38, 'citympg'), (39, 'carlength'), (40, 'jaguar'), (41, 'ohcv'), (42, 'subaru'), (43, 'chevrolet'), (44, '2bbl'), (45, 'doornumber'), (46, 'mpfi'), (47, 'rwd'), (48, 'toyota'), (49, 'isuzu'), (50, '4bbl'), (51, 'ohc'), (52, 'spdi'), (53, 'sedan'), (54, 'symboling'), (55, 'spfi'), (56, 'mfi'), (57, 'mercury'), (58, 'hatchback'), (59, 'wagon'), (60, 'fwd'), (61, 'nissan'), (62, 'hardtop'), (63, 'volkswagen'), (64, 'mazda')]\n"
     ]
    }
   ],
   "source": [
    "#rank all features\n",
    "from sklearn.feature_selection import RFE\n",
    "rfe = RFE(regression, n_features_to_select=1)\n",
    "rfe.fit(X_train,y_train)\n",
    "\n",
    "print (\"Features sorted by their rank::::\\n\")\n",
    "feature_ranking = sorted(list(zip(rfe.ranking_,X_train.columns)))\n",
    "print(feature_ranking)"
   ]
  },
  {
   "cell_type": "code",
   "execution_count": 393,
   "metadata": {
    "collapsed": true,
    "scrolled": false
   },
   "outputs": [],
   "source": [
    "# There are 64 features, we will select top 25 features from it and then mannualy do the backward elimination based on its\n",
    "# p-value & VIF"
   ]
  },
  {
   "cell_type": "code",
   "execution_count": 394,
   "metadata": {
    "scrolled": false
   },
   "outputs": [
    {
     "data": {
      "text/html": [
       "<div>\n",
       "<style>\n",
       "    .dataframe thead tr:only-child th {\n",
       "        text-align: right;\n",
       "    }\n",
       "\n",
       "    .dataframe thead th {\n",
       "        text-align: left;\n",
       "    }\n",
       "\n",
       "    .dataframe tbody tr th {\n",
       "        vertical-align: top;\n",
       "    }\n",
       "</style>\n",
       "<table border=\"1\" class=\"dataframe\">\n",
       "  <thead>\n",
       "    <tr style=\"text-align: right;\">\n",
       "      <th></th>\n",
       "      <th>enginesize</th>\n",
       "      <th>curbweight</th>\n",
       "      <th>enginelocation</th>\n",
       "      <th>carwidth</th>\n",
       "      <th>bmw</th>\n",
       "      <th>three</th>\n",
       "      <th>rotor</th>\n",
       "      <th>porsche</th>\n",
       "      <th>boreratio</th>\n",
       "      <th>twelve</th>\n",
       "      <th>stroke</th>\n",
       "      <th>two</th>\n",
       "      <th>four</th>\n",
       "      <th>five</th>\n",
       "      <th>peugeot</th>\n",
       "      <th>l</th>\n",
       "      <th>mitsubishi</th>\n",
       "      <th>wheelbase</th>\n",
       "      <th>aspiration</th>\n",
       "      <th>peakrpm</th>\n",
       "      <th>dohcv</th>\n",
       "      <th>horsepower</th>\n",
       "      <th>saab</th>\n",
       "      <th>carheight</th>\n",
       "      <th>plymouth</th>\n",
       "      <th>dodge</th>\n",
       "      <th>fueltype</th>\n",
       "      <th>idi</th>\n",
       "      <th>compressionratio</th>\n",
       "      <th>volvo</th>\n",
       "    </tr>\n",
       "  </thead>\n",
       "  <tbody>\n",
       "    <tr>\n",
       "      <th>122</th>\n",
       "      <td>0.140</td>\n",
       "      <td>0.273</td>\n",
       "      <td>0.000</td>\n",
       "      <td>0.292</td>\n",
       "      <td>0.000</td>\n",
       "      <td>0.000</td>\n",
       "      <td>0.000</td>\n",
       "      <td>0.000</td>\n",
       "      <td>0.307</td>\n",
       "      <td>0.000</td>\n",
       "      <td>0.552</td>\n",
       "      <td>0.000</td>\n",
       "      <td>1.000</td>\n",
       "      <td>0.000</td>\n",
       "      <td>0.000</td>\n",
       "      <td>0.000</td>\n",
       "      <td>0.000</td>\n",
       "      <td>0.207</td>\n",
       "      <td>0.000</td>\n",
       "      <td>0.551</td>\n",
       "      <td>0.000</td>\n",
       "      <td>0.083</td>\n",
       "      <td>0.000</td>\n",
       "      <td>0.250</td>\n",
       "      <td>1.000</td>\n",
       "      <td>0.000</td>\n",
       "      <td>0.000</td>\n",
       "      <td>0.000</td>\n",
       "      <td>0.150</td>\n",
       "      <td>0.000</td>\n",
       "    </tr>\n",
       "    <tr>\n",
       "      <th>125</th>\n",
       "      <td>0.340</td>\n",
       "      <td>0.500</td>\n",
       "      <td>0.000</td>\n",
       "      <td>0.667</td>\n",
       "      <td>0.000</td>\n",
       "      <td>0.000</td>\n",
       "      <td>0.000</td>\n",
       "      <td>1.000</td>\n",
       "      <td>1.000</td>\n",
       "      <td>0.000</td>\n",
       "      <td>0.495</td>\n",
       "      <td>0.000</td>\n",
       "      <td>1.000</td>\n",
       "      <td>0.000</td>\n",
       "      <td>0.000</td>\n",
       "      <td>0.000</td>\n",
       "      <td>0.000</td>\n",
       "      <td>0.230</td>\n",
       "      <td>0.000</td>\n",
       "      <td>0.551</td>\n",
       "      <td>0.000</td>\n",
       "      <td>0.396</td>\n",
       "      <td>0.000</td>\n",
       "      <td>0.200</td>\n",
       "      <td>0.000</td>\n",
       "      <td>0.000</td>\n",
       "      <td>0.000</td>\n",
       "      <td>0.000</td>\n",
       "      <td>0.156</td>\n",
       "      <td>0.000</td>\n",
       "    </tr>\n",
       "    <tr>\n",
       "      <th>166</th>\n",
       "      <td>0.140</td>\n",
       "      <td>0.315</td>\n",
       "      <td>0.000</td>\n",
       "      <td>0.308</td>\n",
       "      <td>0.000</td>\n",
       "      <td>0.000</td>\n",
       "      <td>0.000</td>\n",
       "      <td>0.000</td>\n",
       "      <td>0.500</td>\n",
       "      <td>0.000</td>\n",
       "      <td>0.481</td>\n",
       "      <td>0.000</td>\n",
       "      <td>1.000</td>\n",
       "      <td>0.000</td>\n",
       "      <td>0.000</td>\n",
       "      <td>0.000</td>\n",
       "      <td>0.000</td>\n",
       "      <td>0.230</td>\n",
       "      <td>0.000</td>\n",
       "      <td>1.000</td>\n",
       "      <td>0.000</td>\n",
       "      <td>0.267</td>\n",
       "      <td>0.000</td>\n",
       "      <td>0.400</td>\n",
       "      <td>0.000</td>\n",
       "      <td>0.000</td>\n",
       "      <td>0.000</td>\n",
       "      <td>0.000</td>\n",
       "      <td>0.150</td>\n",
       "      <td>0.000</td>\n",
       "    </tr>\n",
       "    <tr>\n",
       "      <th>1</th>\n",
       "      <td>0.260</td>\n",
       "      <td>0.411</td>\n",
       "      <td>0.000</td>\n",
       "      <td>0.317</td>\n",
       "      <td>0.000</td>\n",
       "      <td>0.000</td>\n",
       "      <td>0.000</td>\n",
       "      <td>0.000</td>\n",
       "      <td>0.664</td>\n",
       "      <td>0.000</td>\n",
       "      <td>0.290</td>\n",
       "      <td>0.000</td>\n",
       "      <td>1.000</td>\n",
       "      <td>0.000</td>\n",
       "      <td>0.000</td>\n",
       "      <td>0.000</td>\n",
       "      <td>0.000</td>\n",
       "      <td>0.058</td>\n",
       "      <td>0.000</td>\n",
       "      <td>0.347</td>\n",
       "      <td>0.000</td>\n",
       "      <td>0.263</td>\n",
       "      <td>0.000</td>\n",
       "      <td>0.083</td>\n",
       "      <td>0.000</td>\n",
       "      <td>0.000</td>\n",
       "      <td>0.000</td>\n",
       "      <td>0.000</td>\n",
       "      <td>0.125</td>\n",
       "      <td>0.000</td>\n",
       "    </tr>\n",
       "    <tr>\n",
       "      <th>199</th>\n",
       "      <td>0.260</td>\n",
       "      <td>0.647</td>\n",
       "      <td>0.000</td>\n",
       "      <td>0.575</td>\n",
       "      <td>0.000</td>\n",
       "      <td>0.000</td>\n",
       "      <td>0.000</td>\n",
       "      <td>0.000</td>\n",
       "      <td>0.771</td>\n",
       "      <td>0.000</td>\n",
       "      <td>0.514</td>\n",
       "      <td>0.000</td>\n",
       "      <td>1.000</td>\n",
       "      <td>0.000</td>\n",
       "      <td>0.000</td>\n",
       "      <td>0.000</td>\n",
       "      <td>0.000</td>\n",
       "      <td>0.516</td>\n",
       "      <td>1.000</td>\n",
       "      <td>0.388</td>\n",
       "      <td>0.000</td>\n",
       "      <td>0.475</td>\n",
       "      <td>0.000</td>\n",
       "      <td>0.808</td>\n",
       "      <td>0.000</td>\n",
       "      <td>0.000</td>\n",
       "      <td>0.000</td>\n",
       "      <td>0.000</td>\n",
       "      <td>0.031</td>\n",
       "      <td>1.000</td>\n",
       "    </tr>\n",
       "  </tbody>\n",
       "</table>\n",
       "</div>"
      ],
      "text/plain": [
       "     enginesize  curbweight  enginelocation  carwidth   bmw  three  rotor  \\\n",
       "122       0.140       0.273           0.000     0.292 0.000  0.000  0.000   \n",
       "125       0.340       0.500           0.000     0.667 0.000  0.000  0.000   \n",
       "166       0.140       0.315           0.000     0.308 0.000  0.000  0.000   \n",
       "1         0.260       0.411           0.000     0.317 0.000  0.000  0.000   \n",
       "199       0.260       0.647           0.000     0.575 0.000  0.000  0.000   \n",
       "\n",
       "     porsche  boreratio  twelve  stroke   two  four  five  peugeot     l  \\\n",
       "122    0.000      0.307   0.000   0.552 0.000 1.000 0.000    0.000 0.000   \n",
       "125    1.000      1.000   0.000   0.495 0.000 1.000 0.000    0.000 0.000   \n",
       "166    0.000      0.500   0.000   0.481 0.000 1.000 0.000    0.000 0.000   \n",
       "1      0.000      0.664   0.000   0.290 0.000 1.000 0.000    0.000 0.000   \n",
       "199    0.000      0.771   0.000   0.514 0.000 1.000 0.000    0.000 0.000   \n",
       "\n",
       "     mitsubishi  wheelbase  aspiration  peakrpm  dohcv  horsepower  saab  \\\n",
       "122       0.000      0.207       0.000    0.551  0.000       0.083 0.000   \n",
       "125       0.000      0.230       0.000    0.551  0.000       0.396 0.000   \n",
       "166       0.000      0.230       0.000    1.000  0.000       0.267 0.000   \n",
       "1         0.000      0.058       0.000    0.347  0.000       0.263 0.000   \n",
       "199       0.000      0.516       1.000    0.388  0.000       0.475 0.000   \n",
       "\n",
       "     carheight  plymouth  dodge  fueltype   idi  compressionratio  volvo  \n",
       "122      0.250     1.000  0.000     0.000 0.000             0.150  0.000  \n",
       "125      0.200     0.000  0.000     0.000 0.000             0.156  0.000  \n",
       "166      0.400     0.000  0.000     0.000 0.000             0.150  0.000  \n",
       "1        0.083     0.000  0.000     0.000 0.000             0.125  0.000  \n",
       "199      0.808     0.000  0.000     0.000 0.000             0.031  1.000  "
      ]
     },
     "execution_count": 394,
     "metadata": {},
     "output_type": "execute_result"
    }
   ],
   "source": [
    "top_features = [x[1] for x in feature_ranking[0:30]]\n",
    "X_train = X_train[top_features]\n",
    "vif_data = car[top_features]\n",
    "X_test = X_test[top_features]\n",
    "X_train.head()"
   ]
  },
  {
   "cell_type": "code",
   "execution_count": 395,
   "metadata": {
    "collapsed": true,
    "scrolled": false
   },
   "outputs": [],
   "source": [
    "import statsmodels.api as sm          # Importing statsmodels\n",
    "import statsmodels\n",
    "X_train = sm.add_constant(X_train)    # Adding a constant column to our dataframe\n",
    "X_test = sm.add_constant(X_test)\n",
    "# create a first fitted model"
   ]
  },
  {
   "cell_type": "code",
   "execution_count": 396,
   "metadata": {
    "collapsed": true
   },
   "outputs": [],
   "source": [
    "# UDF for calculating vif value\n",
    "def vif_cal(vif_data):\n",
    "    vif_df = pd.DataFrame( columns = ['Var', 'Vif'])\n",
    "    x_vars=vif_data\n",
    "    xvar_names=x_vars.columns\n",
    "    for i in range(0,xvar_names.shape[0]):\n",
    "        y=x_vars[xvar_names[i]] \n",
    "        x=x_vars[xvar_names.drop(xvar_names[i])]\n",
    "        rsq=sm.OLS(y,x).fit().rsquared  \n",
    "        vif=round(1/(1-rsq),2)\n",
    "        vif_df.loc[i] = [xvar_names[i], vif]\n",
    "    return vif_df.sort_values(by = 'Vif', axis=0, ascending=False, inplace=False)"
   ]
  },
  {
   "cell_type": "code",
   "execution_count": 397,
   "metadata": {
    "collapsed": true,
    "scrolled": false
   },
   "outputs": [],
   "source": [
    "# Significance(p-value) is more important than multicollinearity(VIF value).\n",
    "#So we will remove those features(one by one) which are having low significance(p-value > significant level).For multicollinearity\n",
    "#we will check for VIF value & parallely check for it's p-value , if it is greater than significant level we\n",
    "#will remove that column and if p-value < significant level, we will keep that column."
   ]
  },
  {
   "cell_type": "code",
   "execution_count": 398,
   "metadata": {
    "collapsed": true,
    "scrolled": false
   },
   "outputs": [],
   "source": [
    "def feature_to_drop(model,SF=0.05,VF=2):\n",
    "    pvalue = model.pvalues[model.pvalues >= SF]\n",
    "    pvalue = pd.DataFrame(pvalue,columns=['pvalue']).sort_values(by='pvalue',ascending=False)\n",
    "  \n",
    "    if pvalue.index[0] == 'const':\n",
    "        pvalue = pvalue.drop(pvalue.head(1).index)\n",
    "    vif = vif_cal(vif_data).set_index('Var')\n",
    "    matrix =pd.concat([pvalue,vif[vif.index.isin(pvalue.index)]['Vif']],axis=1)\n",
    "    matrix = matrix[matrix.Vif >=VF]\n",
    "    matrix = matrix.sort_values(by='pvalue',ascending=False)\n",
    "    if(len(matrix)>0):\n",
    "        feature = matrix[0:1]\n",
    "        return feature\n",
    "    else:\n",
    "        return 'No feature to drop'"
   ]
  },
  {
   "cell_type": "code",
   "execution_count": 399,
   "metadata": {
    "collapsed": true,
    "scrolled": false
   },
   "outputs": [],
   "source": [
    "# Create new dataframe model_summary that will contain important information for each model.\n",
    "model_summary = pd.DataFrame(columns=['Model','No_Features','R-squared','Adj_R-squared','Column_to_Drop','p-value','VIF'])\n",
    "model_summary = model_summary.set_index('Model')"
   ]
  },
  {
   "cell_type": "code",
   "execution_count": 400,
   "metadata": {},
   "outputs": [
    {
     "data": {
      "text/html": [
       "<div>\n",
       "<style>\n",
       "    .dataframe thead tr:only-child th {\n",
       "        text-align: right;\n",
       "    }\n",
       "\n",
       "    .dataframe thead th {\n",
       "        text-align: left;\n",
       "    }\n",
       "\n",
       "    .dataframe tbody tr th {\n",
       "        vertical-align: top;\n",
       "    }\n",
       "</style>\n",
       "<table border=\"1\" class=\"dataframe\">\n",
       "  <thead>\n",
       "    <tr style=\"text-align: right;\">\n",
       "      <th></th>\n",
       "      <th>pvalue</th>\n",
       "      <th>Vif</th>\n",
       "    </tr>\n",
       "  </thead>\n",
       "  <tbody>\n",
       "    <tr>\n",
       "      <th>dohcv</th>\n",
       "      <td>0.137</td>\n",
       "      <td>2.660</td>\n",
       "    </tr>\n",
       "  </tbody>\n",
       "</table>\n",
       "</div>"
      ],
      "text/plain": [
       "       pvalue   Vif\n",
       "dohcv   0.137 2.660"
      ]
     },
     "execution_count": 400,
     "metadata": {},
     "output_type": "execute_result"
    }
   ],
   "source": [
    "col = feature_to_drop(model1)\n",
    "col"
   ]
  },
  {
   "cell_type": "code",
   "execution_count": 401,
   "metadata": {
    "scrolled": false
   },
   "outputs": [],
   "source": [
    "def add_model_summary(model,name):\n",
    "    col = feature_to_drop(model)\n",
    "    if type(col)=='str':\n",
    "        model_summary.loc[name] = [X_train.shape[1],model.rsquared,model.rsquared_adj,'Nothing to Drop',np.NaN,np.NaN]\n",
    "    else:\n",
    "        model_summary.loc[name] = [X_train.shape[1],model.rsquared,model.rsquared_adj,col.index[0],col.pvalue[0],col.Vif[0]]\n",
    "    display(model_summary)"
   ]
  },
  {
   "cell_type": "markdown",
   "metadata": {},
   "source": [
    "#### Model 1"
   ]
  },
  {
   "cell_type": "code",
   "execution_count": 402,
   "metadata": {
    "scrolled": false
   },
   "outputs": [
    {
     "data": {
      "text/html": [
       "<table class=\"simpletable\">\n",
       "<caption>OLS Regression Results</caption>\n",
       "<tr>\n",
       "  <th>Dep. Variable:</th>          <td>price</td>      <th>  R-squared:         </th> <td>   0.962</td>\n",
       "</tr>\n",
       "<tr>\n",
       "  <th>Model:</th>                   <td>OLS</td>       <th>  Adj. R-squared:    </th> <td>   0.953</td>\n",
       "</tr>\n",
       "<tr>\n",
       "  <th>Method:</th>             <td>Least Squares</td>  <th>  F-statistic:       </th> <td>   108.3</td>\n",
       "</tr>\n",
       "<tr>\n",
       "  <th>Date:</th>             <td>Sat, 17 Mar 2018</td> <th>  Prob (F-statistic):</th> <td>2.44e-69</td>\n",
       "</tr>\n",
       "<tr>\n",
       "  <th>Time:</th>                 <td>10:33:02</td>     <th>  Log-Likelihood:    </th> <td>  266.34</td>\n",
       "</tr>\n",
       "<tr>\n",
       "  <th>No. Observations:</th>      <td>   143</td>      <th>  AIC:               </th> <td>  -476.7</td>\n",
       "</tr>\n",
       "<tr>\n",
       "  <th>Df Residuals:</th>          <td>   115</td>      <th>  BIC:               </th> <td>  -393.7</td>\n",
       "</tr>\n",
       "<tr>\n",
       "  <th>Df Model:</th>              <td>    27</td>      <th>                     </th>     <td> </td>   \n",
       "</tr>\n",
       "<tr>\n",
       "  <th>Covariance Type:</th>      <td>nonrobust</td>    <th>                     </th>     <td> </td>   \n",
       "</tr>\n",
       "</table>\n",
       "<table class=\"simpletable\">\n",
       "<tr>\n",
       "          <td></td>            <th>coef</th>     <th>std err</th>      <th>t</th>      <th>P>|t|</th>  <th>[0.025</th>    <th>0.975]</th>  \n",
       "</tr>\n",
       "<tr>\n",
       "  <th>const</th>            <td>   -0.1386</td> <td>    0.055</td> <td>   -2.541</td> <td> 0.012</td> <td>   -0.247</td> <td>   -0.031</td>\n",
       "</tr>\n",
       "<tr>\n",
       "  <th>enginesize</th>       <td>    1.4686</td> <td>    0.149</td> <td>    9.842</td> <td> 0.000</td> <td>    1.173</td> <td>    1.764</td>\n",
       "</tr>\n",
       "<tr>\n",
       "  <th>curbweight</th>       <td>    0.2248</td> <td>    0.076</td> <td>    2.941</td> <td> 0.004</td> <td>    0.073</td> <td>    0.376</td>\n",
       "</tr>\n",
       "<tr>\n",
       "  <th>enginelocation</th>   <td>    0.3030</td> <td>    0.067</td> <td>    4.516</td> <td> 0.000</td> <td>    0.170</td> <td>    0.436</td>\n",
       "</tr>\n",
       "<tr>\n",
       "  <th>carwidth</th>         <td>    0.2007</td> <td>    0.057</td> <td>    3.548</td> <td> 0.001</td> <td>    0.089</td> <td>    0.313</td>\n",
       "</tr>\n",
       "<tr>\n",
       "  <th>bmw</th>              <td>    0.2729</td> <td>    0.021</td> <td>   12.905</td> <td> 0.000</td> <td>    0.231</td> <td>    0.315</td>\n",
       "</tr>\n",
       "<tr>\n",
       "  <th>three</th>            <td>    0.3108</td> <td>    0.041</td> <td>    7.505</td> <td> 0.000</td> <td>    0.229</td> <td>    0.393</td>\n",
       "</tr>\n",
       "<tr>\n",
       "  <th>rotor</th>            <td>    0.2429</td> <td>    0.030</td> <td>    7.989</td> <td> 0.000</td> <td>    0.183</td> <td>    0.303</td>\n",
       "</tr>\n",
       "<tr>\n",
       "  <th>porsche</th>          <td>    0.1715</td> <td>    0.048</td> <td>    3.557</td> <td> 0.001</td> <td>    0.076</td> <td>    0.267</td>\n",
       "</tr>\n",
       "<tr>\n",
       "  <th>boreratio</th>        <td>   -0.4339</td> <td>    0.052</td> <td>   -8.376</td> <td> 0.000</td> <td>   -0.536</td> <td>   -0.331</td>\n",
       "</tr>\n",
       "<tr>\n",
       "  <th>twelve</th>           <td>   -0.4880</td> <td>    0.099</td> <td>   -4.929</td> <td> 0.000</td> <td>   -0.684</td> <td>   -0.292</td>\n",
       "</tr>\n",
       "<tr>\n",
       "  <th>stroke</th>           <td>   -0.3040</td> <td>    0.041</td> <td>   -7.472</td> <td> 0.000</td> <td>   -0.385</td> <td>   -0.223</td>\n",
       "</tr>\n",
       "<tr>\n",
       "  <th>two</th>              <td>    0.2429</td> <td>    0.030</td> <td>    7.989</td> <td> 0.000</td> <td>    0.183</td> <td>    0.303</td>\n",
       "</tr>\n",
       "<tr>\n",
       "  <th>four</th>             <td>    0.2357</td> <td>    0.037</td> <td>    6.408</td> <td> 0.000</td> <td>    0.163</td> <td>    0.309</td>\n",
       "</tr>\n",
       "<tr>\n",
       "  <th>five</th>             <td>    0.1588</td> <td>    0.032</td> <td>    5.007</td> <td> 0.000</td> <td>    0.096</td> <td>    0.222</td>\n",
       "</tr>\n",
       "<tr>\n",
       "  <th>peugeot</th>          <td>   -0.2035</td> <td>    0.027</td> <td>   -7.631</td> <td> 0.000</td> <td>   -0.256</td> <td>   -0.151</td>\n",
       "</tr>\n",
       "<tr>\n",
       "  <th>l</th>                <td>    0.1073</td> <td>    0.021</td> <td>    5.025</td> <td> 0.000</td> <td>    0.065</td> <td>    0.150</td>\n",
       "</tr>\n",
       "<tr>\n",
       "  <th>mitsubishi</th>       <td>   -0.0947</td> <td>    0.019</td> <td>   -4.953</td> <td> 0.000</td> <td>   -0.133</td> <td>   -0.057</td>\n",
       "</tr>\n",
       "<tr>\n",
       "  <th>wheelbase</th>        <td>    0.1131</td> <td>    0.059</td> <td>    1.933</td> <td> 0.056</td> <td>   -0.003</td> <td>    0.229</td>\n",
       "</tr>\n",
       "<tr>\n",
       "  <th>aspiration</th>       <td>    0.0638</td> <td>    0.020</td> <td>    3.252</td> <td> 0.002</td> <td>    0.025</td> <td>    0.103</td>\n",
       "</tr>\n",
       "<tr>\n",
       "  <th>peakrpm</th>          <td>    0.0843</td> <td>    0.031</td> <td>    2.744</td> <td> 0.007</td> <td>    0.023</td> <td>    0.145</td>\n",
       "</tr>\n",
       "<tr>\n",
       "  <th>dohcv</th>            <td>    0.1124</td> <td>    0.074</td> <td>    1.521</td> <td> 0.131</td> <td>   -0.034</td> <td>    0.259</td>\n",
       "</tr>\n",
       "<tr>\n",
       "  <th>horsepower</th>       <td>   -0.1078</td> <td>    0.109</td> <td>   -0.991</td> <td> 0.324</td> <td>   -0.323</td> <td>    0.108</td>\n",
       "</tr>\n",
       "<tr>\n",
       "  <th>saab</th>             <td>    0.0811</td> <td>    0.030</td> <td>    2.709</td> <td> 0.008</td> <td>    0.022</td> <td>    0.140</td>\n",
       "</tr>\n",
       "<tr>\n",
       "  <th>carheight</th>        <td>   -0.0965</td> <td>    0.036</td> <td>   -2.683</td> <td> 0.008</td> <td>   -0.168</td> <td>   -0.025</td>\n",
       "</tr>\n",
       "<tr>\n",
       "  <th>plymouth</th>         <td>   -0.0613</td> <td>    0.025</td> <td>   -2.490</td> <td> 0.014</td> <td>   -0.110</td> <td>   -0.013</td>\n",
       "</tr>\n",
       "<tr>\n",
       "  <th>dodge</th>            <td>   -0.0561</td> <td>    0.021</td> <td>   -2.614</td> <td> 0.010</td> <td>   -0.099</td> <td>   -0.014</td>\n",
       "</tr>\n",
       "<tr>\n",
       "  <th>fueltype</th>         <td>    0.0662</td> <td>    0.079</td> <td>    0.833</td> <td> 0.407</td> <td>   -0.091</td> <td>    0.224</td>\n",
       "</tr>\n",
       "<tr>\n",
       "  <th>idi</th>              <td>    0.0662</td> <td>    0.079</td> <td>    0.833</td> <td> 0.407</td> <td>   -0.091</td> <td>    0.224</td>\n",
       "</tr>\n",
       "<tr>\n",
       "  <th>compressionratio</th> <td>   -0.1296</td> <td>    0.184</td> <td>   -0.705</td> <td> 0.482</td> <td>   -0.494</td> <td>    0.235</td>\n",
       "</tr>\n",
       "<tr>\n",
       "  <th>volvo</th>            <td>    0.0541</td> <td>    0.023</td> <td>    2.315</td> <td> 0.022</td> <td>    0.008</td> <td>    0.100</td>\n",
       "</tr>\n",
       "</table>\n",
       "<table class=\"simpletable\">\n",
       "<tr>\n",
       "  <th>Omnibus:</th>       <td>37.078</td> <th>  Durbin-Watson:     </th> <td>   1.778</td>\n",
       "</tr>\n",
       "<tr>\n",
       "  <th>Prob(Omnibus):</th> <td> 0.000</td> <th>  Jarque-Bera (JB):  </th> <td> 143.851</td>\n",
       "</tr>\n",
       "<tr>\n",
       "  <th>Skew:</th>          <td> 0.856</td> <th>  Prob(JB):          </th> <td>5.80e-32</td>\n",
       "</tr>\n",
       "<tr>\n",
       "  <th>Kurtosis:</th>      <td> 7.606</td> <th>  Cond. No.          </th> <td>1.21e+16</td>\n",
       "</tr>\n",
       "</table>"
      ],
      "text/plain": [
       "<class 'statsmodels.iolib.summary.Summary'>\n",
       "\"\"\"\n",
       "                            OLS Regression Results                            \n",
       "==============================================================================\n",
       "Dep. Variable:                  price   R-squared:                       0.962\n",
       "Model:                            OLS   Adj. R-squared:                  0.953\n",
       "Method:                 Least Squares   F-statistic:                     108.3\n",
       "Date:                Sat, 17 Mar 2018   Prob (F-statistic):           2.44e-69\n",
       "Time:                        10:33:02   Log-Likelihood:                 266.34\n",
       "No. Observations:                 143   AIC:                            -476.7\n",
       "Df Residuals:                     115   BIC:                            -393.7\n",
       "Df Model:                          27                                         \n",
       "Covariance Type:            nonrobust                                         \n",
       "====================================================================================\n",
       "                       coef    std err          t      P>|t|      [0.025      0.975]\n",
       "------------------------------------------------------------------------------------\n",
       "const               -0.1386      0.055     -2.541      0.012      -0.247      -0.031\n",
       "enginesize           1.4686      0.149      9.842      0.000       1.173       1.764\n",
       "curbweight           0.2248      0.076      2.941      0.004       0.073       0.376\n",
       "enginelocation       0.3030      0.067      4.516      0.000       0.170       0.436\n",
       "carwidth             0.2007      0.057      3.548      0.001       0.089       0.313\n",
       "bmw                  0.2729      0.021     12.905      0.000       0.231       0.315\n",
       "three                0.3108      0.041      7.505      0.000       0.229       0.393\n",
       "rotor                0.2429      0.030      7.989      0.000       0.183       0.303\n",
       "porsche              0.1715      0.048      3.557      0.001       0.076       0.267\n",
       "boreratio           -0.4339      0.052     -8.376      0.000      -0.536      -0.331\n",
       "twelve              -0.4880      0.099     -4.929      0.000      -0.684      -0.292\n",
       "stroke              -0.3040      0.041     -7.472      0.000      -0.385      -0.223\n",
       "two                  0.2429      0.030      7.989      0.000       0.183       0.303\n",
       "four                 0.2357      0.037      6.408      0.000       0.163       0.309\n",
       "five                 0.1588      0.032      5.007      0.000       0.096       0.222\n",
       "peugeot             -0.2035      0.027     -7.631      0.000      -0.256      -0.151\n",
       "l                    0.1073      0.021      5.025      0.000       0.065       0.150\n",
       "mitsubishi          -0.0947      0.019     -4.953      0.000      -0.133      -0.057\n",
       "wheelbase            0.1131      0.059      1.933      0.056      -0.003       0.229\n",
       "aspiration           0.0638      0.020      3.252      0.002       0.025       0.103\n",
       "peakrpm              0.0843      0.031      2.744      0.007       0.023       0.145\n",
       "dohcv                0.1124      0.074      1.521      0.131      -0.034       0.259\n",
       "horsepower          -0.1078      0.109     -0.991      0.324      -0.323       0.108\n",
       "saab                 0.0811      0.030      2.709      0.008       0.022       0.140\n",
       "carheight           -0.0965      0.036     -2.683      0.008      -0.168      -0.025\n",
       "plymouth            -0.0613      0.025     -2.490      0.014      -0.110      -0.013\n",
       "dodge               -0.0561      0.021     -2.614      0.010      -0.099      -0.014\n",
       "fueltype             0.0662      0.079      0.833      0.407      -0.091       0.224\n",
       "idi                  0.0662      0.079      0.833      0.407      -0.091       0.224\n",
       "compressionratio    -0.1296      0.184     -0.705      0.482      -0.494       0.235\n",
       "volvo                0.0541      0.023      2.315      0.022       0.008       0.100\n",
       "==============================================================================\n",
       "Omnibus:                       37.078   Durbin-Watson:                   1.778\n",
       "Prob(Omnibus):                  0.000   Jarque-Bera (JB):              143.851\n",
       "Skew:                           0.856   Prob(JB):                     5.80e-32\n",
       "Kurtosis:                       7.606   Cond. No.                     1.21e+16\n",
       "==============================================================================\n",
       "\n",
       "Warnings:\n",
       "[1] Standard Errors assume that the covariance matrix of the errors is correctly specified.\n",
       "[2] The smallest eigenvalue is 3.25e-30. This might indicate that there are\n",
       "strong multicollinearity problems or that the design matrix is singular.\n",
       "\"\"\""
      ]
     },
     "execution_count": 402,
     "metadata": {},
     "output_type": "execute_result"
    }
   ],
   "source": [
    "#Let's see the summary of our first linear model\n",
    "model1 = sm.OLS(y_train,X_train).fit()\n",
    "model1.summary()"
   ]
  },
  {
   "cell_type": "code",
   "execution_count": 403,
   "metadata": {
    "scrolled": false
   },
   "outputs": [
    {
     "data": {
      "text/html": [
       "<div>\n",
       "<style>\n",
       "    .dataframe thead tr:only-child th {\n",
       "        text-align: right;\n",
       "    }\n",
       "\n",
       "    .dataframe thead th {\n",
       "        text-align: left;\n",
       "    }\n",
       "\n",
       "    .dataframe tbody tr th {\n",
       "        vertical-align: top;\n",
       "    }\n",
       "</style>\n",
       "<table border=\"1\" class=\"dataframe\">\n",
       "  <thead>\n",
       "    <tr style=\"text-align: right;\">\n",
       "      <th></th>\n",
       "      <th>15</th>\n",
       "      <th>11</th>\n",
       "      <th>27</th>\n",
       "      <th>26</th>\n",
       "      <th>5</th>\n",
       "      <th>6</th>\n",
       "      <th>14</th>\n",
       "      <th>28</th>\n",
       "      <th>1</th>\n",
       "      <th>0</th>\n",
       "      <th>3</th>\n",
       "      <th>21</th>\n",
       "      <th>8</th>\n",
       "      <th>17</th>\n",
       "      <th>12</th>\n",
       "      <th>10</th>\n",
       "      <th>23</th>\n",
       "      <th>19</th>\n",
       "      <th>7</th>\n",
       "      <th>2</th>\n",
       "      <th>18</th>\n",
       "      <th>13</th>\n",
       "      <th>20</th>\n",
       "      <th>9</th>\n",
       "      <th>29</th>\n",
       "      <th>16</th>\n",
       "      <th>22</th>\n",
       "      <th>4</th>\n",
       "      <th>25</th>\n",
       "      <th>24</th>\n",
       "    </tr>\n",
       "  </thead>\n",
       "  <tbody>\n",
       "    <tr>\n",
       "      <th>Var</th>\n",
       "      <td>l</td>\n",
       "      <td>two</td>\n",
       "      <td>idi</td>\n",
       "      <td>fueltype</td>\n",
       "      <td>three</td>\n",
       "      <td>rotor</td>\n",
       "      <td>peugeot</td>\n",
       "      <td>compressionratio</td>\n",
       "      <td>curbweight</td>\n",
       "      <td>enginesize</td>\n",
       "      <td>carwidth</td>\n",
       "      <td>horsepower</td>\n",
       "      <td>boreratio</td>\n",
       "      <td>wheelbase</td>\n",
       "      <td>four</td>\n",
       "      <td>stroke</td>\n",
       "      <td>carheight</td>\n",
       "      <td>peakrpm</td>\n",
       "      <td>porsche</td>\n",
       "      <td>enginelocation</td>\n",
       "      <td>aspiration</td>\n",
       "      <td>five</td>\n",
       "      <td>dohcv</td>\n",
       "      <td>twelve</td>\n",
       "      <td>volvo</td>\n",
       "      <td>mitsubishi</td>\n",
       "      <td>saab</td>\n",
       "      <td>bmw</td>\n",
       "      <td>dodge</td>\n",
       "      <td>plymouth</td>\n",
       "    </tr>\n",
       "    <tr>\n",
       "      <th>Vif</th>\n",
       "      <td>inf</td>\n",
       "      <td>inf</td>\n",
       "      <td>inf</td>\n",
       "      <td>inf</td>\n",
       "      <td>inf</td>\n",
       "      <td>inf</td>\n",
       "      <td>inf</td>\n",
       "      <td>115.470</td>\n",
       "      <td>81.880</td>\n",
       "      <td>67.500</td>\n",
       "      <td>63.540</td>\n",
       "      <td>61.380</td>\n",
       "      <td>45.560</td>\n",
       "      <td>39.180</td>\n",
       "      <td>37.110</td>\n",
       "      <td>27.410</td>\n",
       "      <td>19.920</td>\n",
       "      <td>14.690</td>\n",
       "      <td>5.700</td>\n",
       "      <td>5.070</td>\n",
       "      <td>4.890</td>\n",
       "      <td>3.490</td>\n",
       "      <td>2.660</td>\n",
       "      <td>2.200</td>\n",
       "      <td>1.880</td>\n",
       "      <td>1.670</td>\n",
       "      <td>1.430</td>\n",
       "      <td>1.390</td>\n",
       "      <td>1.330</td>\n",
       "      <td>1.240</td>\n",
       "    </tr>\n",
       "  </tbody>\n",
       "</table>\n",
       "</div>"
      ],
      "text/plain": [
       "     15   11   27        26     5      6        14                28  \\\n",
       "Var   l  two  idi  fueltype  three  rotor  peugeot  compressionratio   \n",
       "Vif inf  inf  inf       inf    inf    inf      inf           115.470   \n",
       "\n",
       "             1           0         3           21         8          17  \\\n",
       "Var  curbweight  enginesize  carwidth  horsepower  boreratio  wheelbase   \n",
       "Vif      81.880      67.500    63.540      61.380     45.560     39.180   \n",
       "\n",
       "        12      10         23       19       7               2           18  \\\n",
       "Var   four  stroke  carheight  peakrpm  porsche  enginelocation  aspiration   \n",
       "Vif 37.110  27.410     19.920   14.690    5.700           5.070       4.890   \n",
       "\n",
       "       13     20      9      29          16    22    4      25        24  \n",
       "Var  five  dohcv  twelve  volvo  mitsubishi  saab   bmw  dodge  plymouth  \n",
       "Vif 3.490  2.660   2.200  1.880       1.670 1.430 1.390  1.330     1.240  "
      ]
     },
     "execution_count": 403,
     "metadata": {},
     "output_type": "execute_result"
    }
   ],
   "source": [
    "# Calculating Vif value\n",
    "vif_cal(vif_data).transpose() # used transpose to utilize the space."
   ]
  },
  {
   "cell_type": "code",
   "execution_count": 404,
   "metadata": {},
   "outputs": [
    {
     "data": {
      "text/html": [
       "<div>\n",
       "<style>\n",
       "    .dataframe thead tr:only-child th {\n",
       "        text-align: right;\n",
       "    }\n",
       "\n",
       "    .dataframe thead th {\n",
       "        text-align: left;\n",
       "    }\n",
       "\n",
       "    .dataframe tbody tr th {\n",
       "        vertical-align: top;\n",
       "    }\n",
       "</style>\n",
       "<table border=\"1\" class=\"dataframe\">\n",
       "  <thead>\n",
       "    <tr style=\"text-align: right;\">\n",
       "      <th></th>\n",
       "      <th>pvalue</th>\n",
       "      <th>Vif</th>\n",
       "    </tr>\n",
       "  </thead>\n",
       "  <tbody>\n",
       "    <tr>\n",
       "      <th>compressionratio</th>\n",
       "      <td>0.482</td>\n",
       "      <td>115.470</td>\n",
       "    </tr>\n",
       "  </tbody>\n",
       "</table>\n",
       "</div>"
      ],
      "text/plain": [
       "                  pvalue     Vif\n",
       "compressionratio   0.482 115.470"
      ]
     },
     "execution_count": 404,
     "metadata": {},
     "output_type": "execute_result"
    }
   ],
   "source": [
    "# Feature to Drop based on p-value and VIF\n",
    "drop = feature_to_drop(model = model1, SF=0.05, VF=2)\n",
    "drop"
   ]
  },
  {
   "cell_type": "code",
   "execution_count": 405,
   "metadata": {},
   "outputs": [
    {
     "data": {
      "text/html": [
       "<div>\n",
       "<style>\n",
       "    .dataframe thead tr:only-child th {\n",
       "        text-align: right;\n",
       "    }\n",
       "\n",
       "    .dataframe thead th {\n",
       "        text-align: left;\n",
       "    }\n",
       "\n",
       "    .dataframe tbody tr th {\n",
       "        vertical-align: top;\n",
       "    }\n",
       "</style>\n",
       "<table border=\"1\" class=\"dataframe\">\n",
       "  <thead>\n",
       "    <tr style=\"text-align: right;\">\n",
       "      <th></th>\n",
       "      <th>No_Features</th>\n",
       "      <th>R-squared</th>\n",
       "      <th>Adj_R-squared</th>\n",
       "      <th>Column_to_Drop</th>\n",
       "      <th>p-value</th>\n",
       "      <th>VIF</th>\n",
       "    </tr>\n",
       "    <tr>\n",
       "      <th>Model</th>\n",
       "      <th></th>\n",
       "      <th></th>\n",
       "      <th></th>\n",
       "      <th></th>\n",
       "      <th></th>\n",
       "      <th></th>\n",
       "    </tr>\n",
       "  </thead>\n",
       "  <tbody>\n",
       "    <tr>\n",
       "      <th>model1</th>\n",
       "      <td>31</td>\n",
       "      <td>0.962</td>\n",
       "      <td>0.953</td>\n",
       "      <td>compressionratio</td>\n",
       "      <td>0.482</td>\n",
       "      <td>115.470</td>\n",
       "    </tr>\n",
       "  </tbody>\n",
       "</table>\n",
       "</div>"
      ],
      "text/plain": [
       "       No_Features  R-squared  Adj_R-squared    Column_to_Drop  p-value  \\\n",
       "Model                                                                     \n",
       "model1          31      0.962          0.953  compressionratio    0.482   \n",
       "\n",
       "           VIF  \n",
       "Model           \n",
       "model1 115.470  "
      ]
     },
     "metadata": {},
     "output_type": "display_data"
    }
   ],
   "source": [
    "# Add key information of this model to model_summary table.\n",
    "add_model_summary(model = model1, name = 'model1')"
   ]
  },
  {
   "cell_type": "markdown",
   "metadata": {},
   "source": [
    "#### Model 2"
   ]
  },
  {
   "cell_type": "code",
   "execution_count": 406,
   "metadata": {
    "collapsed": true,
    "scrolled": false
   },
   "outputs": [],
   "source": [
    "# Dropping highly correlated variables and insignificant variables\n",
    "X_train = X_train.drop(feature_to_drop(model1).index[0], axis =1)\n",
    "vif_data = vif_data.drop(feature_to_drop(model1).index[0], axis =1)"
   ]
  },
  {
   "cell_type": "code",
   "execution_count": 407,
   "metadata": {
    "scrolled": true
   },
   "outputs": [
    {
     "data": {
      "text/html": [
       "<table class=\"simpletable\">\n",
       "<caption>OLS Regression Results</caption>\n",
       "<tr>\n",
       "  <th>Dep. Variable:</th>          <td>price</td>      <th>  R-squared:         </th> <td>   0.962</td>\n",
       "</tr>\n",
       "<tr>\n",
       "  <th>Model:</th>                   <td>OLS</td>       <th>  Adj. R-squared:    </th> <td>   0.953</td>\n",
       "</tr>\n",
       "<tr>\n",
       "  <th>Method:</th>             <td>Least Squares</td>  <th>  F-statistic:       </th> <td>   112.9</td>\n",
       "</tr>\n",
       "<tr>\n",
       "  <th>Date:</th>             <td>Sat, 17 Mar 2018</td> <th>  Prob (F-statistic):</th> <td>2.91e-70</td>\n",
       "</tr>\n",
       "<tr>\n",
       "  <th>Time:</th>                 <td>10:33:02</td>     <th>  Log-Likelihood:    </th> <td>  266.04</td>\n",
       "</tr>\n",
       "<tr>\n",
       "  <th>No. Observations:</th>      <td>   143</td>      <th>  AIC:               </th> <td>  -478.1</td>\n",
       "</tr>\n",
       "<tr>\n",
       "  <th>Df Residuals:</th>          <td>   116</td>      <th>  BIC:               </th> <td>  -398.1</td>\n",
       "</tr>\n",
       "<tr>\n",
       "  <th>Df Model:</th>              <td>    26</td>      <th>                     </th>     <td> </td>   \n",
       "</tr>\n",
       "<tr>\n",
       "  <th>Covariance Type:</th>      <td>nonrobust</td>    <th>                     </th>     <td> </td>   \n",
       "</tr>\n",
       "</table>\n",
       "<table class=\"simpletable\">\n",
       "<tr>\n",
       "         <td></td>           <th>coef</th>     <th>std err</th>      <th>t</th>      <th>P>|t|</th>  <th>[0.025</th>    <th>0.975]</th>  \n",
       "</tr>\n",
       "<tr>\n",
       "  <th>const</th>          <td>   -0.1673</td> <td>    0.036</td> <td>   -4.625</td> <td> 0.000</td> <td>   -0.239</td> <td>   -0.096</td>\n",
       "</tr>\n",
       "<tr>\n",
       "  <th>enginesize</th>     <td>    1.4948</td> <td>    0.144</td> <td>   10.366</td> <td> 0.000</td> <td>    1.209</td> <td>    1.780</td>\n",
       "</tr>\n",
       "<tr>\n",
       "  <th>curbweight</th>     <td>    0.2202</td> <td>    0.076</td> <td>    2.897</td> <td> 0.005</td> <td>    0.070</td> <td>    0.371</td>\n",
       "</tr>\n",
       "<tr>\n",
       "  <th>enginelocation</th> <td>    0.2993</td> <td>    0.067</td> <td>    4.484</td> <td> 0.000</td> <td>    0.167</td> <td>    0.431</td>\n",
       "</tr>\n",
       "<tr>\n",
       "  <th>carwidth</th>       <td>    0.1967</td> <td>    0.056</td> <td>    3.503</td> <td> 0.001</td> <td>    0.085</td> <td>    0.308</td>\n",
       "</tr>\n",
       "<tr>\n",
       "  <th>bmw</th>            <td>    0.2746</td> <td>    0.021</td> <td>   13.100</td> <td> 0.000</td> <td>    0.233</td> <td>    0.316</td>\n",
       "</tr>\n",
       "<tr>\n",
       "  <th>three</th>          <td>    0.3141</td> <td>    0.041</td> <td>    7.652</td> <td> 0.000</td> <td>    0.233</td> <td>    0.395</td>\n",
       "</tr>\n",
       "<tr>\n",
       "  <th>rotor</th>          <td>    0.2482</td> <td>    0.029</td> <td>    8.447</td> <td> 0.000</td> <td>    0.190</td> <td>    0.306</td>\n",
       "</tr>\n",
       "<tr>\n",
       "  <th>porsche</th>        <td>    0.1639</td> <td>    0.047</td> <td>    3.495</td> <td> 0.001</td> <td>    0.071</td> <td>    0.257</td>\n",
       "</tr>\n",
       "<tr>\n",
       "  <th>boreratio</th>      <td>   -0.4365</td> <td>    0.052</td> <td>   -8.468</td> <td> 0.000</td> <td>   -0.539</td> <td>   -0.334</td>\n",
       "</tr>\n",
       "<tr>\n",
       "  <th>twelve</th>         <td>   -0.5270</td> <td>    0.082</td> <td>   -6.434</td> <td> 0.000</td> <td>   -0.689</td> <td>   -0.365</td>\n",
       "</tr>\n",
       "<tr>\n",
       "  <th>stroke</th>         <td>   -0.3043</td> <td>    0.041</td> <td>   -7.495</td> <td> 0.000</td> <td>   -0.385</td> <td>   -0.224</td>\n",
       "</tr>\n",
       "<tr>\n",
       "  <th>two</th>            <td>    0.2482</td> <td>    0.029</td> <td>    8.447</td> <td> 0.000</td> <td>    0.190</td> <td>    0.306</td>\n",
       "</tr>\n",
       "<tr>\n",
       "  <th>four</th>           <td>    0.2441</td> <td>    0.035</td> <td>    7.027</td> <td> 0.000</td> <td>    0.175</td> <td>    0.313</td>\n",
       "</tr>\n",
       "<tr>\n",
       "  <th>five</th>           <td>    0.1676</td> <td>    0.029</td> <td>    5.766</td> <td> 0.000</td> <td>    0.110</td> <td>    0.225</td>\n",
       "</tr>\n",
       "<tr>\n",
       "  <th>peugeot</th>        <td>   -0.2024</td> <td>    0.027</td> <td>   -7.619</td> <td> 0.000</td> <td>   -0.255</td> <td>   -0.150</td>\n",
       "</tr>\n",
       "<tr>\n",
       "  <th>l</th>              <td>    0.1117</td> <td>    0.020</td> <td>    5.487</td> <td> 0.000</td> <td>    0.071</td> <td>    0.152</td>\n",
       "</tr>\n",
       "<tr>\n",
       "  <th>mitsubishi</th>     <td>   -0.0909</td> <td>    0.018</td> <td>   -4.968</td> <td> 0.000</td> <td>   -0.127</td> <td>   -0.055</td>\n",
       "</tr>\n",
       "<tr>\n",
       "  <th>wheelbase</th>      <td>    0.1085</td> <td>    0.058</td> <td>    1.870</td> <td> 0.064</td> <td>   -0.006</td> <td>    0.223</td>\n",
       "</tr>\n",
       "<tr>\n",
       "  <th>aspiration</th>     <td>    0.0700</td> <td>    0.018</td> <td>    3.994</td> <td> 0.000</td> <td>    0.035</td> <td>    0.105</td>\n",
       "</tr>\n",
       "<tr>\n",
       "  <th>peakrpm</th>        <td>    0.0811</td> <td>    0.030</td> <td>    2.674</td> <td> 0.009</td> <td>    0.021</td> <td>    0.141</td>\n",
       "</tr>\n",
       "<tr>\n",
       "  <th>dohcv</th>          <td>    0.1024</td> <td>    0.072</td> <td>    1.415</td> <td> 0.160</td> <td>   -0.041</td> <td>    0.246</td>\n",
       "</tr>\n",
       "<tr>\n",
       "  <th>horsepower</th>     <td>   -0.0875</td> <td>    0.105</td> <td>   -0.836</td> <td> 0.405</td> <td>   -0.295</td> <td>    0.120</td>\n",
       "</tr>\n",
       "<tr>\n",
       "  <th>saab</th>           <td>    0.0738</td> <td>    0.028</td> <td>    2.632</td> <td> 0.010</td> <td>    0.018</td> <td>    0.129</td>\n",
       "</tr>\n",
       "<tr>\n",
       "  <th>carheight</th>      <td>   -0.0898</td> <td>    0.035</td> <td>   -2.595</td> <td> 0.011</td> <td>   -0.158</td> <td>   -0.021</td>\n",
       "</tr>\n",
       "<tr>\n",
       "  <th>plymouth</th>       <td>   -0.0597</td> <td>    0.024</td> <td>   -2.440</td> <td> 0.016</td> <td>   -0.108</td> <td>   -0.011</td>\n",
       "</tr>\n",
       "<tr>\n",
       "  <th>dodge</th>          <td>   -0.0539</td> <td>    0.021</td> <td>   -2.546</td> <td> 0.012</td> <td>   -0.096</td> <td>   -0.012</td>\n",
       "</tr>\n",
       "<tr>\n",
       "  <th>fueltype</th>       <td>    0.0107</td> <td>    0.011</td> <td>    1.007</td> <td> 0.316</td> <td>   -0.010</td> <td>    0.032</td>\n",
       "</tr>\n",
       "<tr>\n",
       "  <th>idi</th>            <td>    0.0107</td> <td>    0.011</td> <td>    1.007</td> <td> 0.316</td> <td>   -0.010</td> <td>    0.032</td>\n",
       "</tr>\n",
       "<tr>\n",
       "  <th>volvo</th>          <td>    0.0501</td> <td>    0.023</td> <td>    2.215</td> <td> 0.029</td> <td>    0.005</td> <td>    0.095</td>\n",
       "</tr>\n",
       "</table>\n",
       "<table class=\"simpletable\">\n",
       "<tr>\n",
       "  <th>Omnibus:</th>       <td>39.201</td> <th>  Durbin-Watson:     </th> <td>   1.777</td>\n",
       "</tr>\n",
       "<tr>\n",
       "  <th>Prob(Omnibus):</th> <td> 0.000</td> <th>  Jarque-Bera (JB):  </th> <td> 161.097</td>\n",
       "</tr>\n",
       "<tr>\n",
       "  <th>Skew:</th>          <td> 0.894</td> <th>  Prob(JB):          </th> <td>1.04e-35</td>\n",
       "</tr>\n",
       "<tr>\n",
       "  <th>Kurtosis:</th>      <td> 7.883</td> <th>  Cond. No.          </th> <td>1.21e+16</td>\n",
       "</tr>\n",
       "</table>"
      ],
      "text/plain": [
       "<class 'statsmodels.iolib.summary.Summary'>\n",
       "\"\"\"\n",
       "                            OLS Regression Results                            \n",
       "==============================================================================\n",
       "Dep. Variable:                  price   R-squared:                       0.962\n",
       "Model:                            OLS   Adj. R-squared:                  0.953\n",
       "Method:                 Least Squares   F-statistic:                     112.9\n",
       "Date:                Sat, 17 Mar 2018   Prob (F-statistic):           2.91e-70\n",
       "Time:                        10:33:02   Log-Likelihood:                 266.04\n",
       "No. Observations:                 143   AIC:                            -478.1\n",
       "Df Residuals:                     116   BIC:                            -398.1\n",
       "Df Model:                          26                                         \n",
       "Covariance Type:            nonrobust                                         \n",
       "==================================================================================\n",
       "                     coef    std err          t      P>|t|      [0.025      0.975]\n",
       "----------------------------------------------------------------------------------\n",
       "const             -0.1673      0.036     -4.625      0.000      -0.239      -0.096\n",
       "enginesize         1.4948      0.144     10.366      0.000       1.209       1.780\n",
       "curbweight         0.2202      0.076      2.897      0.005       0.070       0.371\n",
       "enginelocation     0.2993      0.067      4.484      0.000       0.167       0.431\n",
       "carwidth           0.1967      0.056      3.503      0.001       0.085       0.308\n",
       "bmw                0.2746      0.021     13.100      0.000       0.233       0.316\n",
       "three              0.3141      0.041      7.652      0.000       0.233       0.395\n",
       "rotor              0.2482      0.029      8.447      0.000       0.190       0.306\n",
       "porsche            0.1639      0.047      3.495      0.001       0.071       0.257\n",
       "boreratio         -0.4365      0.052     -8.468      0.000      -0.539      -0.334\n",
       "twelve            -0.5270      0.082     -6.434      0.000      -0.689      -0.365\n",
       "stroke            -0.3043      0.041     -7.495      0.000      -0.385      -0.224\n",
       "two                0.2482      0.029      8.447      0.000       0.190       0.306\n",
       "four               0.2441      0.035      7.027      0.000       0.175       0.313\n",
       "five               0.1676      0.029      5.766      0.000       0.110       0.225\n",
       "peugeot           -0.2024      0.027     -7.619      0.000      -0.255      -0.150\n",
       "l                  0.1117      0.020      5.487      0.000       0.071       0.152\n",
       "mitsubishi        -0.0909      0.018     -4.968      0.000      -0.127      -0.055\n",
       "wheelbase          0.1085      0.058      1.870      0.064      -0.006       0.223\n",
       "aspiration         0.0700      0.018      3.994      0.000       0.035       0.105\n",
       "peakrpm            0.0811      0.030      2.674      0.009       0.021       0.141\n",
       "dohcv              0.1024      0.072      1.415      0.160      -0.041       0.246\n",
       "horsepower        -0.0875      0.105     -0.836      0.405      -0.295       0.120\n",
       "saab               0.0738      0.028      2.632      0.010       0.018       0.129\n",
       "carheight         -0.0898      0.035     -2.595      0.011      -0.158      -0.021\n",
       "plymouth          -0.0597      0.024     -2.440      0.016      -0.108      -0.011\n",
       "dodge             -0.0539      0.021     -2.546      0.012      -0.096      -0.012\n",
       "fueltype           0.0107      0.011      1.007      0.316      -0.010       0.032\n",
       "idi                0.0107      0.011      1.007      0.316      -0.010       0.032\n",
       "volvo              0.0501      0.023      2.215      0.029       0.005       0.095\n",
       "==============================================================================\n",
       "Omnibus:                       39.201   Durbin-Watson:                   1.777\n",
       "Prob(Omnibus):                  0.000   Jarque-Bera (JB):              161.097\n",
       "Skew:                           0.894   Prob(JB):                     1.04e-35\n",
       "Kurtosis:                       7.883   Cond. No.                     1.21e+16\n",
       "==============================================================================\n",
       "\n",
       "Warnings:\n",
       "[1] Standard Errors assume that the covariance matrix of the errors is correctly specified.\n",
       "[2] The smallest eigenvalue is 3.2e-30. This might indicate that there are\n",
       "strong multicollinearity problems or that the design matrix is singular.\n",
       "\"\"\""
      ]
     },
     "execution_count": 407,
     "metadata": {},
     "output_type": "execute_result"
    }
   ],
   "source": [
    "model2 = sm.OLS(y_train,X_train).fit()\n",
    "model2.summary()"
   ]
  },
  {
   "cell_type": "code",
   "execution_count": 408,
   "metadata": {
    "scrolled": false
   },
   "outputs": [
    {
     "data": {
      "text/html": [
       "<div>\n",
       "<style>\n",
       "    .dataframe thead tr:only-child th {\n",
       "        text-align: right;\n",
       "    }\n",
       "\n",
       "    .dataframe thead th {\n",
       "        text-align: left;\n",
       "    }\n",
       "\n",
       "    .dataframe tbody tr th {\n",
       "        vertical-align: top;\n",
       "    }\n",
       "</style>\n",
       "<table border=\"1\" class=\"dataframe\">\n",
       "  <thead>\n",
       "    <tr style=\"text-align: right;\">\n",
       "      <th></th>\n",
       "      <th>14</th>\n",
       "      <th>11</th>\n",
       "      <th>27</th>\n",
       "      <th>26</th>\n",
       "      <th>15</th>\n",
       "      <th>5</th>\n",
       "      <th>6</th>\n",
       "      <th>1</th>\n",
       "      <th>0</th>\n",
       "      <th>21</th>\n",
       "      <th>3</th>\n",
       "      <th>8</th>\n",
       "      <th>17</th>\n",
       "      <th>12</th>\n",
       "      <th>10</th>\n",
       "      <th>23</th>\n",
       "      <th>19</th>\n",
       "      <th>7</th>\n",
       "      <th>2</th>\n",
       "      <th>18</th>\n",
       "      <th>13</th>\n",
       "      <th>20</th>\n",
       "      <th>9</th>\n",
       "      <th>28</th>\n",
       "      <th>16</th>\n",
       "      <th>22</th>\n",
       "      <th>4</th>\n",
       "      <th>25</th>\n",
       "      <th>24</th>\n",
       "    </tr>\n",
       "  </thead>\n",
       "  <tbody>\n",
       "    <tr>\n",
       "      <th>Var</th>\n",
       "      <td>peugeot</td>\n",
       "      <td>two</td>\n",
       "      <td>idi</td>\n",
       "      <td>fueltype</td>\n",
       "      <td>l</td>\n",
       "      <td>three</td>\n",
       "      <td>rotor</td>\n",
       "      <td>curbweight</td>\n",
       "      <td>enginesize</td>\n",
       "      <td>horsepower</td>\n",
       "      <td>carwidth</td>\n",
       "      <td>boreratio</td>\n",
       "      <td>wheelbase</td>\n",
       "      <td>four</td>\n",
       "      <td>stroke</td>\n",
       "      <td>carheight</td>\n",
       "      <td>peakrpm</td>\n",
       "      <td>porsche</td>\n",
       "      <td>enginelocation</td>\n",
       "      <td>aspiration</td>\n",
       "      <td>five</td>\n",
       "      <td>dohcv</td>\n",
       "      <td>twelve</td>\n",
       "      <td>volvo</td>\n",
       "      <td>mitsubishi</td>\n",
       "      <td>saab</td>\n",
       "      <td>bmw</td>\n",
       "      <td>dodge</td>\n",
       "      <td>plymouth</td>\n",
       "    </tr>\n",
       "    <tr>\n",
       "      <th>Vif</th>\n",
       "      <td>inf</td>\n",
       "      <td>inf</td>\n",
       "      <td>inf</td>\n",
       "      <td>inf</td>\n",
       "      <td>inf</td>\n",
       "      <td>inf</td>\n",
       "      <td>inf</td>\n",
       "      <td>81.560</td>\n",
       "      <td>67.170</td>\n",
       "      <td>60.750</td>\n",
       "      <td>58.910</td>\n",
       "      <td>45.500</td>\n",
       "      <td>39.050</td>\n",
       "      <td>36.140</td>\n",
       "      <td>27.120</td>\n",
       "      <td>19.780</td>\n",
       "      <td>12.790</td>\n",
       "      <td>5.700</td>\n",
       "      <td>4.950</td>\n",
       "      <td>4.110</td>\n",
       "      <td>3.390</td>\n",
       "      <td>2.630</td>\n",
       "      <td>1.900</td>\n",
       "      <td>1.880</td>\n",
       "      <td>1.580</td>\n",
       "      <td>1.430</td>\n",
       "      <td>1.390</td>\n",
       "      <td>1.330</td>\n",
       "      <td>1.230</td>\n",
       "    </tr>\n",
       "  </tbody>\n",
       "</table>\n",
       "</div>"
      ],
      "text/plain": [
       "          14   11   27        26  15     5      6           1           0   \\\n",
       "Var  peugeot  two  idi  fueltype   l  three  rotor  curbweight  enginesize   \n",
       "Vif      inf  inf  inf       inf inf    inf    inf      81.560      67.170   \n",
       "\n",
       "             21        3          8          17     12      10         23  \\\n",
       "Var  horsepower  carwidth  boreratio  wheelbase   four  stroke  carheight   \n",
       "Vif      60.750    58.910     45.500     39.050 36.140  27.120     19.780   \n",
       "\n",
       "          19       7               2           18    13     20      9      28  \\\n",
       "Var  peakrpm  porsche  enginelocation  aspiration  five  dohcv  twelve  volvo   \n",
       "Vif   12.790    5.700           4.950       4.110 3.390  2.630   1.900  1.880   \n",
       "\n",
       "             16    22    4      25        24  \n",
       "Var  mitsubishi  saab   bmw  dodge  plymouth  \n",
       "Vif       1.580 1.430 1.390  1.330     1.230  "
      ]
     },
     "execution_count": 408,
     "metadata": {},
     "output_type": "execute_result"
    }
   ],
   "source": [
    "# Calculating Vif value\n",
    "vif_cal(vif_data).transpose() # used transpose to utilize the space."
   ]
  },
  {
   "cell_type": "code",
   "execution_count": 409,
   "metadata": {},
   "outputs": [
    {
     "data": {
      "text/html": [
       "<div>\n",
       "<style>\n",
       "    .dataframe thead tr:only-child th {\n",
       "        text-align: right;\n",
       "    }\n",
       "\n",
       "    .dataframe thead th {\n",
       "        text-align: left;\n",
       "    }\n",
       "\n",
       "    .dataframe tbody tr th {\n",
       "        vertical-align: top;\n",
       "    }\n",
       "</style>\n",
       "<table border=\"1\" class=\"dataframe\">\n",
       "  <thead>\n",
       "    <tr style=\"text-align: right;\">\n",
       "      <th></th>\n",
       "      <th>pvalue</th>\n",
       "      <th>Vif</th>\n",
       "    </tr>\n",
       "  </thead>\n",
       "  <tbody>\n",
       "    <tr>\n",
       "      <th>horsepower</th>\n",
       "      <td>0.405</td>\n",
       "      <td>60.750</td>\n",
       "    </tr>\n",
       "  </tbody>\n",
       "</table>\n",
       "</div>"
      ],
      "text/plain": [
       "            pvalue    Vif\n",
       "horsepower   0.405 60.750"
      ]
     },
     "execution_count": 409,
     "metadata": {},
     "output_type": "execute_result"
    }
   ],
   "source": [
    "# Feature to Drop based on p-value and VIF\n",
    "drop = feature_to_drop(model = model2, SF=0.05, VF=2)\n",
    "drop"
   ]
  },
  {
   "cell_type": "code",
   "execution_count": 410,
   "metadata": {
    "scrolled": false
   },
   "outputs": [
    {
     "data": {
      "text/html": [
       "<div>\n",
       "<style>\n",
       "    .dataframe thead tr:only-child th {\n",
       "        text-align: right;\n",
       "    }\n",
       "\n",
       "    .dataframe thead th {\n",
       "        text-align: left;\n",
       "    }\n",
       "\n",
       "    .dataframe tbody tr th {\n",
       "        vertical-align: top;\n",
       "    }\n",
       "</style>\n",
       "<table border=\"1\" class=\"dataframe\">\n",
       "  <thead>\n",
       "    <tr style=\"text-align: right;\">\n",
       "      <th></th>\n",
       "      <th>No_Features</th>\n",
       "      <th>R-squared</th>\n",
       "      <th>Adj_R-squared</th>\n",
       "      <th>Column_to_Drop</th>\n",
       "      <th>p-value</th>\n",
       "      <th>VIF</th>\n",
       "    </tr>\n",
       "    <tr>\n",
       "      <th>Model</th>\n",
       "      <th></th>\n",
       "      <th></th>\n",
       "      <th></th>\n",
       "      <th></th>\n",
       "      <th></th>\n",
       "      <th></th>\n",
       "    </tr>\n",
       "  </thead>\n",
       "  <tbody>\n",
       "    <tr>\n",
       "      <th>model1</th>\n",
       "      <td>31</td>\n",
       "      <td>0.962</td>\n",
       "      <td>0.953</td>\n",
       "      <td>compressionratio</td>\n",
       "      <td>0.482</td>\n",
       "      <td>115.470</td>\n",
       "    </tr>\n",
       "    <tr>\n",
       "      <th>model2</th>\n",
       "      <td>30</td>\n",
       "      <td>0.962</td>\n",
       "      <td>0.953</td>\n",
       "      <td>horsepower</td>\n",
       "      <td>0.405</td>\n",
       "      <td>60.750</td>\n",
       "    </tr>\n",
       "  </tbody>\n",
       "</table>\n",
       "</div>"
      ],
      "text/plain": [
       "       No_Features  R-squared  Adj_R-squared    Column_to_Drop  p-value  \\\n",
       "Model                                                                     \n",
       "model1          31      0.962          0.953  compressionratio    0.482   \n",
       "model2          30      0.962          0.953        horsepower    0.405   \n",
       "\n",
       "           VIF  \n",
       "Model           \n",
       "model1 115.470  \n",
       "model2  60.750  "
      ]
     },
     "metadata": {},
     "output_type": "display_data"
    }
   ],
   "source": [
    "# Add key information of this model to model_summary table.\n",
    "add_model_summary(model = model2, name = 'model2')"
   ]
  },
  {
   "cell_type": "markdown",
   "metadata": {},
   "source": [
    "#### Model 3"
   ]
  },
  {
   "cell_type": "code",
   "execution_count": 411,
   "metadata": {
    "collapsed": true,
    "scrolled": false
   },
   "outputs": [],
   "source": [
    "# Dropping highly correlated variables and insignificant variables\n",
    "X_train = X_train.drop(feature_to_drop(model2).index[0], axis =1)\n",
    "vif_data = vif_data.drop(feature_to_drop(model2).index[0], axis =1)"
   ]
  },
  {
   "cell_type": "code",
   "execution_count": 412,
   "metadata": {
    "scrolled": true
   },
   "outputs": [
    {
     "data": {
      "text/html": [
       "<table class=\"simpletable\">\n",
       "<caption>OLS Regression Results</caption>\n",
       "<tr>\n",
       "  <th>Dep. Variable:</th>          <td>price</td>      <th>  R-squared:         </th> <td>   0.962</td>\n",
       "</tr>\n",
       "<tr>\n",
       "  <th>Model:</th>                   <td>OLS</td>       <th>  Adj. R-squared:    </th> <td>   0.954</td>\n",
       "</tr>\n",
       "<tr>\n",
       "  <th>Method:</th>             <td>Least Squares</td>  <th>  F-statistic:       </th> <td>   117.7</td>\n",
       "</tr>\n",
       "<tr>\n",
       "  <th>Date:</th>             <td>Sat, 17 Mar 2018</td> <th>  Prob (F-statistic):</th> <td>3.74e-71</td>\n",
       "</tr>\n",
       "<tr>\n",
       "  <th>Time:</th>                 <td>10:33:03</td>     <th>  Log-Likelihood:    </th> <td>  265.61</td>\n",
       "</tr>\n",
       "<tr>\n",
       "  <th>No. Observations:</th>      <td>   143</td>      <th>  AIC:               </th> <td>  -479.2</td>\n",
       "</tr>\n",
       "<tr>\n",
       "  <th>Df Residuals:</th>          <td>   117</td>      <th>  BIC:               </th> <td>  -402.2</td>\n",
       "</tr>\n",
       "<tr>\n",
       "  <th>Df Model:</th>              <td>    25</td>      <th>                     </th>     <td> </td>   \n",
       "</tr>\n",
       "<tr>\n",
       "  <th>Covariance Type:</th>      <td>nonrobust</td>    <th>                     </th>     <td> </td>   \n",
       "</tr>\n",
       "</table>\n",
       "<table class=\"simpletable\">\n",
       "<tr>\n",
       "         <td></td>           <th>coef</th>     <th>std err</th>      <th>t</th>      <th>P>|t|</th>  <th>[0.025</th>    <th>0.975]</th>  \n",
       "</tr>\n",
       "<tr>\n",
       "  <th>const</th>          <td>   -0.1749</td> <td>    0.035</td> <td>   -5.002</td> <td> 0.000</td> <td>   -0.244</td> <td>   -0.106</td>\n",
       "</tr>\n",
       "<tr>\n",
       "  <th>enginesize</th>     <td>    1.4852</td> <td>    0.144</td> <td>   10.346</td> <td> 0.000</td> <td>    1.201</td> <td>    1.769</td>\n",
       "</tr>\n",
       "<tr>\n",
       "  <th>curbweight</th>     <td>    0.1961</td> <td>    0.070</td> <td>    2.792</td> <td> 0.006</td> <td>    0.057</td> <td>    0.335</td>\n",
       "</tr>\n",
       "<tr>\n",
       "  <th>enginelocation</th> <td>    0.2899</td> <td>    0.066</td> <td>    4.412</td> <td> 0.000</td> <td>    0.160</td> <td>    0.420</td>\n",
       "</tr>\n",
       "<tr>\n",
       "  <th>carwidth</th>       <td>    0.1961</td> <td>    0.056</td> <td>    3.498</td> <td> 0.001</td> <td>    0.085</td> <td>    0.307</td>\n",
       "</tr>\n",
       "<tr>\n",
       "  <th>bmw</th>            <td>    0.2735</td> <td>    0.021</td> <td>   13.090</td> <td> 0.000</td> <td>    0.232</td> <td>    0.315</td>\n",
       "</tr>\n",
       "<tr>\n",
       "  <th>three</th>          <td>    0.3237</td> <td>    0.039</td> <td>    8.220</td> <td> 0.000</td> <td>    0.246</td> <td>    0.402</td>\n",
       "</tr>\n",
       "<tr>\n",
       "  <th>rotor</th>          <td>    0.2543</td> <td>    0.028</td> <td>    8.944</td> <td> 0.000</td> <td>    0.198</td> <td>    0.311</td>\n",
       "</tr>\n",
       "<tr>\n",
       "  <th>porsche</th>        <td>    0.1593</td> <td>    0.047</td> <td>    3.425</td> <td> 0.001</td> <td>    0.067</td> <td>    0.251</td>\n",
       "</tr>\n",
       "<tr>\n",
       "  <th>boreratio</th>      <td>   -0.4496</td> <td>    0.049</td> <td>   -9.161</td> <td> 0.000</td> <td>   -0.547</td> <td>   -0.352</td>\n",
       "</tr>\n",
       "<tr>\n",
       "  <th>twelve</th>         <td>   -0.5509</td> <td>    0.077</td> <td>   -7.189</td> <td> 0.000</td> <td>   -0.703</td> <td>   -0.399</td>\n",
       "</tr>\n",
       "<tr>\n",
       "  <th>stroke</th>         <td>   -0.3107</td> <td>    0.040</td> <td>   -7.800</td> <td> 0.000</td> <td>   -0.390</td> <td>   -0.232</td>\n",
       "</tr>\n",
       "<tr>\n",
       "  <th>two</th>            <td>    0.2543</td> <td>    0.028</td> <td>    8.944</td> <td> 0.000</td> <td>    0.198</td> <td>    0.311</td>\n",
       "</tr>\n",
       "<tr>\n",
       "  <th>four</th>           <td>    0.2575</td> <td>    0.031</td> <td>    8.370</td> <td> 0.000</td> <td>    0.197</td> <td>    0.318</td>\n",
       "</tr>\n",
       "<tr>\n",
       "  <th>five</th>           <td>    0.1766</td> <td>    0.027</td> <td>    6.542</td> <td> 0.000</td> <td>    0.123</td> <td>    0.230</td>\n",
       "</tr>\n",
       "<tr>\n",
       "  <th>peugeot</th>        <td>   -0.2067</td> <td>    0.026</td> <td>   -7.946</td> <td> 0.000</td> <td>   -0.258</td> <td>   -0.155</td>\n",
       "</tr>\n",
       "<tr>\n",
       "  <th>l</th>              <td>    0.1169</td> <td>    0.019</td> <td>    6.039</td> <td> 0.000</td> <td>    0.079</td> <td>    0.155</td>\n",
       "</tr>\n",
       "<tr>\n",
       "  <th>mitsubishi</th>     <td>   -0.0882</td> <td>    0.018</td> <td>   -4.904</td> <td> 0.000</td> <td>   -0.124</td> <td>   -0.053</td>\n",
       "</tr>\n",
       "<tr>\n",
       "  <th>wheelbase</th>      <td>    0.1138</td> <td>    0.058</td> <td>    1.974</td> <td> 0.051</td> <td>   -0.000</td> <td>    0.228</td>\n",
       "</tr>\n",
       "<tr>\n",
       "  <th>aspiration</th>     <td>    0.0606</td> <td>    0.013</td> <td>    4.508</td> <td> 0.000</td> <td>    0.034</td> <td>    0.087</td>\n",
       "</tr>\n",
       "<tr>\n",
       "  <th>peakrpm</th>        <td>    0.0687</td> <td>    0.026</td> <td>    2.599</td> <td> 0.011</td> <td>    0.016</td> <td>    0.121</td>\n",
       "</tr>\n",
       "<tr>\n",
       "  <th>dohcv</th>          <td>    0.0710</td> <td>    0.062</td> <td>    1.149</td> <td> 0.253</td> <td>   -0.051</td> <td>    0.193</td>\n",
       "</tr>\n",
       "<tr>\n",
       "  <th>saab</th>           <td>    0.0675</td> <td>    0.027</td> <td>    2.503</td> <td> 0.014</td> <td>    0.014</td> <td>    0.121</td>\n",
       "</tr>\n",
       "<tr>\n",
       "  <th>carheight</th>      <td>   -0.0815</td> <td>    0.033</td> <td>   -2.461</td> <td> 0.015</td> <td>   -0.147</td> <td>   -0.016</td>\n",
       "</tr>\n",
       "<tr>\n",
       "  <th>plymouth</th>       <td>   -0.0553</td> <td>    0.024</td> <td>   -2.318</td> <td> 0.022</td> <td>   -0.103</td> <td>   -0.008</td>\n",
       "</tr>\n",
       "<tr>\n",
       "  <th>dodge</th>          <td>   -0.0503</td> <td>    0.021</td> <td>   -2.429</td> <td> 0.017</td> <td>   -0.091</td> <td>   -0.009</td>\n",
       "</tr>\n",
       "<tr>\n",
       "  <th>fueltype</th>       <td>    0.0157</td> <td>    0.009</td> <td>    1.820</td> <td> 0.071</td> <td>   -0.001</td> <td>    0.033</td>\n",
       "</tr>\n",
       "<tr>\n",
       "  <th>idi</th>            <td>    0.0157</td> <td>    0.009</td> <td>    1.820</td> <td> 0.071</td> <td>   -0.001</td> <td>    0.033</td>\n",
       "</tr>\n",
       "<tr>\n",
       "  <th>volvo</th>          <td>    0.0520</td> <td>    0.022</td> <td>    2.313</td> <td> 0.022</td> <td>    0.007</td> <td>    0.096</td>\n",
       "</tr>\n",
       "</table>\n",
       "<table class=\"simpletable\">\n",
       "<tr>\n",
       "  <th>Omnibus:</th>       <td>35.349</td> <th>  Durbin-Watson:     </th> <td>   1.814</td>\n",
       "</tr>\n",
       "<tr>\n",
       "  <th>Prob(Omnibus):</th> <td> 0.000</td> <th>  Jarque-Bera (JB):  </th> <td> 134.036</td>\n",
       "</tr>\n",
       "<tr>\n",
       "  <th>Skew:</th>          <td> 0.816</td> <th>  Prob(JB):          </th> <td>7.84e-30</td>\n",
       "</tr>\n",
       "<tr>\n",
       "  <th>Kurtosis:</th>      <td> 7.454</td> <th>  Cond. No.          </th> <td>1.22e+16</td>\n",
       "</tr>\n",
       "</table>"
      ],
      "text/plain": [
       "<class 'statsmodels.iolib.summary.Summary'>\n",
       "\"\"\"\n",
       "                            OLS Regression Results                            \n",
       "==============================================================================\n",
       "Dep. Variable:                  price   R-squared:                       0.962\n",
       "Model:                            OLS   Adj. R-squared:                  0.954\n",
       "Method:                 Least Squares   F-statistic:                     117.7\n",
       "Date:                Sat, 17 Mar 2018   Prob (F-statistic):           3.74e-71\n",
       "Time:                        10:33:03   Log-Likelihood:                 265.61\n",
       "No. Observations:                 143   AIC:                            -479.2\n",
       "Df Residuals:                     117   BIC:                            -402.2\n",
       "Df Model:                          25                                         \n",
       "Covariance Type:            nonrobust                                         \n",
       "==================================================================================\n",
       "                     coef    std err          t      P>|t|      [0.025      0.975]\n",
       "----------------------------------------------------------------------------------\n",
       "const             -0.1749      0.035     -5.002      0.000      -0.244      -0.106\n",
       "enginesize         1.4852      0.144     10.346      0.000       1.201       1.769\n",
       "curbweight         0.1961      0.070      2.792      0.006       0.057       0.335\n",
       "enginelocation     0.2899      0.066      4.412      0.000       0.160       0.420\n",
       "carwidth           0.1961      0.056      3.498      0.001       0.085       0.307\n",
       "bmw                0.2735      0.021     13.090      0.000       0.232       0.315\n",
       "three              0.3237      0.039      8.220      0.000       0.246       0.402\n",
       "rotor              0.2543      0.028      8.944      0.000       0.198       0.311\n",
       "porsche            0.1593      0.047      3.425      0.001       0.067       0.251\n",
       "boreratio         -0.4496      0.049     -9.161      0.000      -0.547      -0.352\n",
       "twelve            -0.5509      0.077     -7.189      0.000      -0.703      -0.399\n",
       "stroke            -0.3107      0.040     -7.800      0.000      -0.390      -0.232\n",
       "two                0.2543      0.028      8.944      0.000       0.198       0.311\n",
       "four               0.2575      0.031      8.370      0.000       0.197       0.318\n",
       "five               0.1766      0.027      6.542      0.000       0.123       0.230\n",
       "peugeot           -0.2067      0.026     -7.946      0.000      -0.258      -0.155\n",
       "l                  0.1169      0.019      6.039      0.000       0.079       0.155\n",
       "mitsubishi        -0.0882      0.018     -4.904      0.000      -0.124      -0.053\n",
       "wheelbase          0.1138      0.058      1.974      0.051      -0.000       0.228\n",
       "aspiration         0.0606      0.013      4.508      0.000       0.034       0.087\n",
       "peakrpm            0.0687      0.026      2.599      0.011       0.016       0.121\n",
       "dohcv              0.0710      0.062      1.149      0.253      -0.051       0.193\n",
       "saab               0.0675      0.027      2.503      0.014       0.014       0.121\n",
       "carheight         -0.0815      0.033     -2.461      0.015      -0.147      -0.016\n",
       "plymouth          -0.0553      0.024     -2.318      0.022      -0.103      -0.008\n",
       "dodge             -0.0503      0.021     -2.429      0.017      -0.091      -0.009\n",
       "fueltype           0.0157      0.009      1.820      0.071      -0.001       0.033\n",
       "idi                0.0157      0.009      1.820      0.071      -0.001       0.033\n",
       "volvo              0.0520      0.022      2.313      0.022       0.007       0.096\n",
       "==============================================================================\n",
       "Omnibus:                       35.349   Durbin-Watson:                   1.814\n",
       "Prob(Omnibus):                  0.000   Jarque-Bera (JB):              134.036\n",
       "Skew:                           0.816   Prob(JB):                     7.84e-30\n",
       "Kurtosis:                       7.454   Cond. No.                     1.22e+16\n",
       "==============================================================================\n",
       "\n",
       "Warnings:\n",
       "[1] Standard Errors assume that the covariance matrix of the errors is correctly specified.\n",
       "[2] The smallest eigenvalue is 3.12e-30. This might indicate that there are\n",
       "strong multicollinearity problems or that the design matrix is singular.\n",
       "\"\"\""
      ]
     },
     "execution_count": 412,
     "metadata": {},
     "output_type": "execute_result"
    }
   ],
   "source": [
    "model3 = sm.OLS(y_train,X_train).fit()\n",
    "model3.summary()"
   ]
  },
  {
   "cell_type": "code",
   "execution_count": 413,
   "metadata": {
    "scrolled": false
   },
   "outputs": [
    {
     "data": {
      "text/html": [
       "<div>\n",
       "<style>\n",
       "    .dataframe thead tr:only-child th {\n",
       "        text-align: right;\n",
       "    }\n",
       "\n",
       "    .dataframe thead th {\n",
       "        text-align: left;\n",
       "    }\n",
       "\n",
       "    .dataframe tbody tr th {\n",
       "        vertical-align: top;\n",
       "    }\n",
       "</style>\n",
       "<table border=\"1\" class=\"dataframe\">\n",
       "  <thead>\n",
       "    <tr style=\"text-align: right;\">\n",
       "      <th></th>\n",
       "      <th>14</th>\n",
       "      <th>11</th>\n",
       "      <th>26</th>\n",
       "      <th>25</th>\n",
       "      <th>15</th>\n",
       "      <th>5</th>\n",
       "      <th>6</th>\n",
       "      <th>1</th>\n",
       "      <th>0</th>\n",
       "      <th>3</th>\n",
       "      <th>8</th>\n",
       "      <th>17</th>\n",
       "      <th>12</th>\n",
       "      <th>10</th>\n",
       "      <th>22</th>\n",
       "      <th>19</th>\n",
       "      <th>7</th>\n",
       "      <th>2</th>\n",
       "      <th>13</th>\n",
       "      <th>18</th>\n",
       "      <th>20</th>\n",
       "      <th>27</th>\n",
       "      <th>9</th>\n",
       "      <th>16</th>\n",
       "      <th>4</th>\n",
       "      <th>21</th>\n",
       "      <th>24</th>\n",
       "      <th>23</th>\n",
       "    </tr>\n",
       "  </thead>\n",
       "  <tbody>\n",
       "    <tr>\n",
       "      <th>Var</th>\n",
       "      <td>peugeot</td>\n",
       "      <td>two</td>\n",
       "      <td>idi</td>\n",
       "      <td>fueltype</td>\n",
       "      <td>l</td>\n",
       "      <td>three</td>\n",
       "      <td>rotor</td>\n",
       "      <td>curbweight</td>\n",
       "      <td>enginesize</td>\n",
       "      <td>carwidth</td>\n",
       "      <td>boreratio</td>\n",
       "      <td>wheelbase</td>\n",
       "      <td>four</td>\n",
       "      <td>stroke</td>\n",
       "      <td>carheight</td>\n",
       "      <td>peakrpm</td>\n",
       "      <td>porsche</td>\n",
       "      <td>enginelocation</td>\n",
       "      <td>five</td>\n",
       "      <td>aspiration</td>\n",
       "      <td>dohcv</td>\n",
       "      <td>volvo</td>\n",
       "      <td>twelve</td>\n",
       "      <td>mitsubishi</td>\n",
       "      <td>bmw</td>\n",
       "      <td>saab</td>\n",
       "      <td>dodge</td>\n",
       "      <td>plymouth</td>\n",
       "    </tr>\n",
       "    <tr>\n",
       "      <th>Vif</th>\n",
       "      <td>inf</td>\n",
       "      <td>inf</td>\n",
       "      <td>inf</td>\n",
       "      <td>inf</td>\n",
       "      <td>inf</td>\n",
       "      <td>inf</td>\n",
       "      <td>inf</td>\n",
       "      <td>70.050</td>\n",
       "      <td>63.280</td>\n",
       "      <td>58.640</td>\n",
       "      <td>41.590</td>\n",
       "      <td>38.750</td>\n",
       "      <td>30.510</td>\n",
       "      <td>26.550</td>\n",
       "      <td>19.250</td>\n",
       "      <td>9.100</td>\n",
       "      <td>5.670</td>\n",
       "      <td>4.760</td>\n",
       "      <td>3.020</td>\n",
       "      <td>2.300</td>\n",
       "      <td>2.130</td>\n",
       "      <td>1.860</td>\n",
       "      <td>1.720</td>\n",
       "      <td>1.550</td>\n",
       "      <td>1.380</td>\n",
       "      <td>1.330</td>\n",
       "      <td>1.300</td>\n",
       "      <td>1.210</td>\n",
       "    </tr>\n",
       "  </tbody>\n",
       "</table>\n",
       "</div>"
      ],
      "text/plain": [
       "          14   11   26        25  15     5      6           1           0   \\\n",
       "Var  peugeot  two  idi  fueltype   l  three  rotor  curbweight  enginesize   \n",
       "Vif      inf  inf  inf       inf inf    inf    inf      70.050      63.280   \n",
       "\n",
       "           3          8          17     12      10         22       19  \\\n",
       "Var  carwidth  boreratio  wheelbase   four  stroke  carheight  peakrpm   \n",
       "Vif    58.640     41.590     38.750 30.510  26.550     19.250    9.100   \n",
       "\n",
       "          7               2     13          18     20     27      9   \\\n",
       "Var  porsche  enginelocation  five  aspiration  dohcv  volvo  twelve   \n",
       "Vif    5.670           4.760 3.020       2.300  2.130  1.860   1.720   \n",
       "\n",
       "             16    4     21     24        23  \n",
       "Var  mitsubishi   bmw  saab  dodge  plymouth  \n",
       "Vif       1.550 1.380 1.330  1.300     1.210  "
      ]
     },
     "execution_count": 413,
     "metadata": {},
     "output_type": "execute_result"
    }
   ],
   "source": [
    "# Calculating Vif value\n",
    "vif_cal(vif_data).transpose() # used transpose to utilize the space."
   ]
  },
  {
   "cell_type": "code",
   "execution_count": 414,
   "metadata": {},
   "outputs": [
    {
     "data": {
      "text/html": [
       "<div>\n",
       "<style>\n",
       "    .dataframe thead tr:only-child th {\n",
       "        text-align: right;\n",
       "    }\n",
       "\n",
       "    .dataframe thead th {\n",
       "        text-align: left;\n",
       "    }\n",
       "\n",
       "    .dataframe tbody tr th {\n",
       "        vertical-align: top;\n",
       "    }\n",
       "</style>\n",
       "<table border=\"1\" class=\"dataframe\">\n",
       "  <thead>\n",
       "    <tr style=\"text-align: right;\">\n",
       "      <th></th>\n",
       "      <th>pvalue</th>\n",
       "      <th>Vif</th>\n",
       "    </tr>\n",
       "  </thead>\n",
       "  <tbody>\n",
       "    <tr>\n",
       "      <th>dohcv</th>\n",
       "      <td>0.253</td>\n",
       "      <td>2.130</td>\n",
       "    </tr>\n",
       "  </tbody>\n",
       "</table>\n",
       "</div>"
      ],
      "text/plain": [
       "       pvalue   Vif\n",
       "dohcv   0.253 2.130"
      ]
     },
     "execution_count": 414,
     "metadata": {},
     "output_type": "execute_result"
    }
   ],
   "source": [
    "# Feature to Drop based on p-value and VIF\n",
    "drop = feature_to_drop(model = model3, SF=0.05, VF=2)\n",
    "drop"
   ]
  },
  {
   "cell_type": "code",
   "execution_count": 415,
   "metadata": {
    "scrolled": false
   },
   "outputs": [
    {
     "data": {
      "text/html": [
       "<div>\n",
       "<style>\n",
       "    .dataframe thead tr:only-child th {\n",
       "        text-align: right;\n",
       "    }\n",
       "\n",
       "    .dataframe thead th {\n",
       "        text-align: left;\n",
       "    }\n",
       "\n",
       "    .dataframe tbody tr th {\n",
       "        vertical-align: top;\n",
       "    }\n",
       "</style>\n",
       "<table border=\"1\" class=\"dataframe\">\n",
       "  <thead>\n",
       "    <tr style=\"text-align: right;\">\n",
       "      <th></th>\n",
       "      <th>No_Features</th>\n",
       "      <th>R-squared</th>\n",
       "      <th>Adj_R-squared</th>\n",
       "      <th>Column_to_Drop</th>\n",
       "      <th>p-value</th>\n",
       "      <th>VIF</th>\n",
       "    </tr>\n",
       "    <tr>\n",
       "      <th>Model</th>\n",
       "      <th></th>\n",
       "      <th></th>\n",
       "      <th></th>\n",
       "      <th></th>\n",
       "      <th></th>\n",
       "      <th></th>\n",
       "    </tr>\n",
       "  </thead>\n",
       "  <tbody>\n",
       "    <tr>\n",
       "      <th>model1</th>\n",
       "      <td>31</td>\n",
       "      <td>0.962</td>\n",
       "      <td>0.953</td>\n",
       "      <td>compressionratio</td>\n",
       "      <td>0.482</td>\n",
       "      <td>115.470</td>\n",
       "    </tr>\n",
       "    <tr>\n",
       "      <th>model2</th>\n",
       "      <td>30</td>\n",
       "      <td>0.962</td>\n",
       "      <td>0.953</td>\n",
       "      <td>horsepower</td>\n",
       "      <td>0.405</td>\n",
       "      <td>60.750</td>\n",
       "    </tr>\n",
       "    <tr>\n",
       "      <th>model3</th>\n",
       "      <td>29</td>\n",
       "      <td>0.962</td>\n",
       "      <td>0.954</td>\n",
       "      <td>dohcv</td>\n",
       "      <td>0.253</td>\n",
       "      <td>2.130</td>\n",
       "    </tr>\n",
       "  </tbody>\n",
       "</table>\n",
       "</div>"
      ],
      "text/plain": [
       "       No_Features  R-squared  Adj_R-squared    Column_to_Drop  p-value  \\\n",
       "Model                                                                     \n",
       "model1          31      0.962          0.953  compressionratio    0.482   \n",
       "model2          30      0.962          0.953        horsepower    0.405   \n",
       "model3          29      0.962          0.954             dohcv    0.253   \n",
       "\n",
       "           VIF  \n",
       "Model           \n",
       "model1 115.470  \n",
       "model2  60.750  \n",
       "model3   2.130  "
      ]
     },
     "metadata": {},
     "output_type": "display_data"
    }
   ],
   "source": [
    "# Add key information of this model to model_summary table.\n",
    "add_model_summary(model = model3, name = 'model3')"
   ]
  },
  {
   "cell_type": "markdown",
   "metadata": {},
   "source": [
    "#### Model 4"
   ]
  },
  {
   "cell_type": "code",
   "execution_count": 416,
   "metadata": {
    "collapsed": true,
    "scrolled": false
   },
   "outputs": [],
   "source": [
    "# Dropping highly correlated variables and insignificant variables\n",
    "X_train = X_train.drop(feature_to_drop(model3).index[0], axis =1)\n",
    "vif_data = vif_data.drop(feature_to_drop(model3).index[0], axis =1)"
   ]
  },
  {
   "cell_type": "code",
   "execution_count": 417,
   "metadata": {
    "scrolled": true
   },
   "outputs": [
    {
     "data": {
      "text/html": [
       "<table class=\"simpletable\">\n",
       "<caption>OLS Regression Results</caption>\n",
       "<tr>\n",
       "  <th>Dep. Variable:</th>          <td>price</td>      <th>  R-squared:         </th> <td>   0.961</td>\n",
       "</tr>\n",
       "<tr>\n",
       "  <th>Model:</th>                   <td>OLS</td>       <th>  Adj. R-squared:    </th> <td>   0.953</td>\n",
       "</tr>\n",
       "<tr>\n",
       "  <th>Method:</th>             <td>Least Squares</td>  <th>  F-statistic:       </th> <td>   122.2</td>\n",
       "</tr>\n",
       "<tr>\n",
       "  <th>Date:</th>             <td>Sat, 17 Mar 2018</td> <th>  Prob (F-statistic):</th> <td>6.40e-72</td>\n",
       "</tr>\n",
       "<tr>\n",
       "  <th>Time:</th>                 <td>10:33:04</td>     <th>  Log-Likelihood:    </th> <td>  264.80</td>\n",
       "</tr>\n",
       "<tr>\n",
       "  <th>No. Observations:</th>      <td>   143</td>      <th>  AIC:               </th> <td>  -479.6</td>\n",
       "</tr>\n",
       "<tr>\n",
       "  <th>Df Residuals:</th>          <td>   118</td>      <th>  BIC:               </th> <td>  -405.5</td>\n",
       "</tr>\n",
       "<tr>\n",
       "  <th>Df Model:</th>              <td>    24</td>      <th>                     </th>     <td> </td>   \n",
       "</tr>\n",
       "<tr>\n",
       "  <th>Covariance Type:</th>      <td>nonrobust</td>    <th>                     </th>     <td> </td>   \n",
       "</tr>\n",
       "</table>\n",
       "<table class=\"simpletable\">\n",
       "<tr>\n",
       "         <td></td>           <th>coef</th>     <th>std err</th>      <th>t</th>      <th>P>|t|</th>  <th>[0.025</th>    <th>0.975]</th>  \n",
       "</tr>\n",
       "<tr>\n",
       "  <th>const</th>          <td>   -0.1731</td> <td>    0.035</td> <td>   -4.947</td> <td> 0.000</td> <td>   -0.242</td> <td>   -0.104</td>\n",
       "</tr>\n",
       "<tr>\n",
       "  <th>enginesize</th>     <td>    1.4694</td> <td>    0.143</td> <td>   10.269</td> <td> 0.000</td> <td>    1.186</td> <td>    1.753</td>\n",
       "</tr>\n",
       "<tr>\n",
       "  <th>curbweight</th>     <td>    0.1926</td> <td>    0.070</td> <td>    2.741</td> <td> 0.007</td> <td>    0.053</td> <td>    0.332</td>\n",
       "</tr>\n",
       "<tr>\n",
       "  <th>enginelocation</th> <td>    0.2556</td> <td>    0.059</td> <td>    4.360</td> <td> 0.000</td> <td>    0.140</td> <td>    0.372</td>\n",
       "</tr>\n",
       "<tr>\n",
       "  <th>carwidth</th>       <td>    0.2070</td> <td>    0.055</td> <td>    3.739</td> <td> 0.000</td> <td>    0.097</td> <td>    0.317</td>\n",
       "</tr>\n",
       "<tr>\n",
       "  <th>bmw</th>            <td>    0.2715</td> <td>    0.021</td> <td>   13.022</td> <td> 0.000</td> <td>    0.230</td> <td>    0.313</td>\n",
       "</tr>\n",
       "<tr>\n",
       "  <th>three</th>          <td>    0.3196</td> <td>    0.039</td> <td>    8.138</td> <td> 0.000</td> <td>    0.242</td> <td>    0.397</td>\n",
       "</tr>\n",
       "<tr>\n",
       "  <th>rotor</th>          <td>    0.2497</td> <td>    0.028</td> <td>    8.859</td> <td> 0.000</td> <td>    0.194</td> <td>    0.306</td>\n",
       "</tr>\n",
       "<tr>\n",
       "  <th>porsche</th>        <td>    0.1898</td> <td>    0.038</td> <td>    4.959</td> <td> 0.000</td> <td>    0.114</td> <td>    0.266</td>\n",
       "</tr>\n",
       "<tr>\n",
       "  <th>boreratio</th>      <td>   -0.4435</td> <td>    0.049</td> <td>   -9.078</td> <td> 0.000</td> <td>   -0.540</td> <td>   -0.347</td>\n",
       "</tr>\n",
       "<tr>\n",
       "  <th>twelve</th>         <td>   -0.5456</td> <td>    0.077</td> <td>   -7.123</td> <td> 0.000</td> <td>   -0.697</td> <td>   -0.394</td>\n",
       "</tr>\n",
       "<tr>\n",
       "  <th>stroke</th>         <td>   -0.3087</td> <td>    0.040</td> <td>   -7.747</td> <td> 0.000</td> <td>   -0.388</td> <td>   -0.230</td>\n",
       "</tr>\n",
       "<tr>\n",
       "  <th>two</th>            <td>    0.2497</td> <td>    0.028</td> <td>    8.859</td> <td> 0.000</td> <td>    0.194</td> <td>    0.306</td>\n",
       "</tr>\n",
       "<tr>\n",
       "  <th>four</th>           <td>    0.2506</td> <td>    0.030</td> <td>    8.295</td> <td> 0.000</td> <td>    0.191</td> <td>    0.310</td>\n",
       "</tr>\n",
       "<tr>\n",
       "  <th>five</th>           <td>    0.1705</td> <td>    0.027</td> <td>    6.433</td> <td> 0.000</td> <td>    0.118</td> <td>    0.223</td>\n",
       "</tr>\n",
       "<tr>\n",
       "  <th>peugeot</th>        <td>   -0.2044</td> <td>    0.026</td> <td>   -7.869</td> <td> 0.000</td> <td>   -0.256</td> <td>   -0.153</td>\n",
       "</tr>\n",
       "<tr>\n",
       "  <th>l</th>              <td>    0.1152</td> <td>    0.019</td> <td>    5.959</td> <td> 0.000</td> <td>    0.077</td> <td>    0.153</td>\n",
       "</tr>\n",
       "<tr>\n",
       "  <th>mitsubishi</th>     <td>   -0.0869</td> <td>    0.018</td> <td>   -4.834</td> <td> 0.000</td> <td>   -0.122</td> <td>   -0.051</td>\n",
       "</tr>\n",
       "<tr>\n",
       "  <th>wheelbase</th>      <td>    0.1075</td> <td>    0.057</td> <td>    1.872</td> <td> 0.064</td> <td>   -0.006</td> <td>    0.221</td>\n",
       "</tr>\n",
       "<tr>\n",
       "  <th>aspiration</th>     <td>    0.0602</td> <td>    0.013</td> <td>    4.473</td> <td> 0.000</td> <td>    0.034</td> <td>    0.087</td>\n",
       "</tr>\n",
       "<tr>\n",
       "  <th>peakrpm</th>        <td>    0.0701</td> <td>    0.026</td> <td>    2.651</td> <td> 0.009</td> <td>    0.018</td> <td>    0.122</td>\n",
       "</tr>\n",
       "<tr>\n",
       "  <th>saab</th>           <td>    0.0667</td> <td>    0.027</td> <td>    2.472</td> <td> 0.015</td> <td>    0.013</td> <td>    0.120</td>\n",
       "</tr>\n",
       "<tr>\n",
       "  <th>carheight</th>      <td>   -0.0786</td> <td>    0.033</td> <td>   -2.377</td> <td> 0.019</td> <td>   -0.144</td> <td>   -0.013</td>\n",
       "</tr>\n",
       "<tr>\n",
       "  <th>plymouth</th>       <td>   -0.0537</td> <td>    0.024</td> <td>   -2.253</td> <td> 0.026</td> <td>   -0.101</td> <td>   -0.007</td>\n",
       "</tr>\n",
       "<tr>\n",
       "  <th>dodge</th>          <td>   -0.0489</td> <td>    0.021</td> <td>   -2.363</td> <td> 0.020</td> <td>   -0.090</td> <td>   -0.008</td>\n",
       "</tr>\n",
       "<tr>\n",
       "  <th>fueltype</th>       <td>    0.0162</td> <td>    0.009</td> <td>    1.871</td> <td> 0.064</td> <td>   -0.001</td> <td>    0.033</td>\n",
       "</tr>\n",
       "<tr>\n",
       "  <th>idi</th>            <td>    0.0162</td> <td>    0.009</td> <td>    1.871</td> <td> 0.064</td> <td>   -0.001</td> <td>    0.033</td>\n",
       "</tr>\n",
       "<tr>\n",
       "  <th>volvo</th>          <td>    0.0504</td> <td>    0.022</td> <td>    2.244</td> <td> 0.027</td> <td>    0.006</td> <td>    0.095</td>\n",
       "</tr>\n",
       "</table>\n",
       "<table class=\"simpletable\">\n",
       "<tr>\n",
       "  <th>Omnibus:</th>       <td>34.638</td> <th>  Durbin-Watson:     </th> <td>   1.844</td>\n",
       "</tr>\n",
       "<tr>\n",
       "  <th>Prob(Omnibus):</th> <td> 0.000</td> <th>  Jarque-Bera (JB):  </th> <td> 124.393</td>\n",
       "</tr>\n",
       "<tr>\n",
       "  <th>Skew:</th>          <td> 0.817</td> <th>  Prob(JB):          </th> <td>9.74e-28</td>\n",
       "</tr>\n",
       "<tr>\n",
       "  <th>Kurtosis:</th>      <td> 7.267</td> <th>  Cond. No.          </th> <td>1.22e+16</td>\n",
       "</tr>\n",
       "</table>"
      ],
      "text/plain": [
       "<class 'statsmodels.iolib.summary.Summary'>\n",
       "\"\"\"\n",
       "                            OLS Regression Results                            \n",
       "==============================================================================\n",
       "Dep. Variable:                  price   R-squared:                       0.961\n",
       "Model:                            OLS   Adj. R-squared:                  0.953\n",
       "Method:                 Least Squares   F-statistic:                     122.2\n",
       "Date:                Sat, 17 Mar 2018   Prob (F-statistic):           6.40e-72\n",
       "Time:                        10:33:04   Log-Likelihood:                 264.80\n",
       "No. Observations:                 143   AIC:                            -479.6\n",
       "Df Residuals:                     118   BIC:                            -405.5\n",
       "Df Model:                          24                                         \n",
       "Covariance Type:            nonrobust                                         \n",
       "==================================================================================\n",
       "                     coef    std err          t      P>|t|      [0.025      0.975]\n",
       "----------------------------------------------------------------------------------\n",
       "const             -0.1731      0.035     -4.947      0.000      -0.242      -0.104\n",
       "enginesize         1.4694      0.143     10.269      0.000       1.186       1.753\n",
       "curbweight         0.1926      0.070      2.741      0.007       0.053       0.332\n",
       "enginelocation     0.2556      0.059      4.360      0.000       0.140       0.372\n",
       "carwidth           0.2070      0.055      3.739      0.000       0.097       0.317\n",
       "bmw                0.2715      0.021     13.022      0.000       0.230       0.313\n",
       "three              0.3196      0.039      8.138      0.000       0.242       0.397\n",
       "rotor              0.2497      0.028      8.859      0.000       0.194       0.306\n",
       "porsche            0.1898      0.038      4.959      0.000       0.114       0.266\n",
       "boreratio         -0.4435      0.049     -9.078      0.000      -0.540      -0.347\n",
       "twelve            -0.5456      0.077     -7.123      0.000      -0.697      -0.394\n",
       "stroke            -0.3087      0.040     -7.747      0.000      -0.388      -0.230\n",
       "two                0.2497      0.028      8.859      0.000       0.194       0.306\n",
       "four               0.2506      0.030      8.295      0.000       0.191       0.310\n",
       "five               0.1705      0.027      6.433      0.000       0.118       0.223\n",
       "peugeot           -0.2044      0.026     -7.869      0.000      -0.256      -0.153\n",
       "l                  0.1152      0.019      5.959      0.000       0.077       0.153\n",
       "mitsubishi        -0.0869      0.018     -4.834      0.000      -0.122      -0.051\n",
       "wheelbase          0.1075      0.057      1.872      0.064      -0.006       0.221\n",
       "aspiration         0.0602      0.013      4.473      0.000       0.034       0.087\n",
       "peakrpm            0.0701      0.026      2.651      0.009       0.018       0.122\n",
       "saab               0.0667      0.027      2.472      0.015       0.013       0.120\n",
       "carheight         -0.0786      0.033     -2.377      0.019      -0.144      -0.013\n",
       "plymouth          -0.0537      0.024     -2.253      0.026      -0.101      -0.007\n",
       "dodge             -0.0489      0.021     -2.363      0.020      -0.090      -0.008\n",
       "fueltype           0.0162      0.009      1.871      0.064      -0.001       0.033\n",
       "idi                0.0162      0.009      1.871      0.064      -0.001       0.033\n",
       "volvo              0.0504      0.022      2.244      0.027       0.006       0.095\n",
       "==============================================================================\n",
       "Omnibus:                       34.638   Durbin-Watson:                   1.844\n",
       "Prob(Omnibus):                  0.000   Jarque-Bera (JB):              124.393\n",
       "Skew:                           0.817   Prob(JB):                     9.74e-28\n",
       "Kurtosis:                       7.267   Cond. No.                     1.22e+16\n",
       "==============================================================================\n",
       "\n",
       "Warnings:\n",
       "[1] Standard Errors assume that the covariance matrix of the errors is correctly specified.\n",
       "[2] The smallest eigenvalue is 3.12e-30. This might indicate that there are\n",
       "strong multicollinearity problems or that the design matrix is singular.\n",
       "\"\"\""
      ]
     },
     "execution_count": 417,
     "metadata": {},
     "output_type": "execute_result"
    }
   ],
   "source": [
    "model4 = sm.OLS(y_train,X_train).fit()\n",
    "model4.summary()"
   ]
  },
  {
   "cell_type": "code",
   "execution_count": 418,
   "metadata": {
    "scrolled": false
   },
   "outputs": [
    {
     "data": {
      "text/html": [
       "<div>\n",
       "<style>\n",
       "    .dataframe thead tr:only-child th {\n",
       "        text-align: right;\n",
       "    }\n",
       "\n",
       "    .dataframe thead th {\n",
       "        text-align: left;\n",
       "    }\n",
       "\n",
       "    .dataframe tbody tr th {\n",
       "        vertical-align: top;\n",
       "    }\n",
       "</style>\n",
       "<table border=\"1\" class=\"dataframe\">\n",
       "  <thead>\n",
       "    <tr style=\"text-align: right;\">\n",
       "      <th></th>\n",
       "      <th>24</th>\n",
       "      <th>11</th>\n",
       "      <th>15</th>\n",
       "      <th>14</th>\n",
       "      <th>25</th>\n",
       "      <th>5</th>\n",
       "      <th>6</th>\n",
       "      <th>1</th>\n",
       "      <th>0</th>\n",
       "      <th>3</th>\n",
       "      <th>8</th>\n",
       "      <th>17</th>\n",
       "      <th>12</th>\n",
       "      <th>10</th>\n",
       "      <th>21</th>\n",
       "      <th>19</th>\n",
       "      <th>7</th>\n",
       "      <th>2</th>\n",
       "      <th>13</th>\n",
       "      <th>18</th>\n",
       "      <th>26</th>\n",
       "      <th>9</th>\n",
       "      <th>16</th>\n",
       "      <th>4</th>\n",
       "      <th>20</th>\n",
       "      <th>23</th>\n",
       "      <th>22</th>\n",
       "    </tr>\n",
       "  </thead>\n",
       "  <tbody>\n",
       "    <tr>\n",
       "      <th>Var</th>\n",
       "      <td>fueltype</td>\n",
       "      <td>two</td>\n",
       "      <td>l</td>\n",
       "      <td>peugeot</td>\n",
       "      <td>idi</td>\n",
       "      <td>three</td>\n",
       "      <td>rotor</td>\n",
       "      <td>curbweight</td>\n",
       "      <td>enginesize</td>\n",
       "      <td>carwidth</td>\n",
       "      <td>boreratio</td>\n",
       "      <td>wheelbase</td>\n",
       "      <td>four</td>\n",
       "      <td>stroke</td>\n",
       "      <td>carheight</td>\n",
       "      <td>peakrpm</td>\n",
       "      <td>porsche</td>\n",
       "      <td>enginelocation</td>\n",
       "      <td>five</td>\n",
       "      <td>aspiration</td>\n",
       "      <td>volvo</td>\n",
       "      <td>twelve</td>\n",
       "      <td>mitsubishi</td>\n",
       "      <td>bmw</td>\n",
       "      <td>saab</td>\n",
       "      <td>dodge</td>\n",
       "      <td>plymouth</td>\n",
       "    </tr>\n",
       "    <tr>\n",
       "      <th>Vif</th>\n",
       "      <td>inf</td>\n",
       "      <td>inf</td>\n",
       "      <td>inf</td>\n",
       "      <td>inf</td>\n",
       "      <td>inf</td>\n",
       "      <td>inf</td>\n",
       "      <td>inf</td>\n",
       "      <td>69.910</td>\n",
       "      <td>62.850</td>\n",
       "      <td>57.180</td>\n",
       "      <td>41.280</td>\n",
       "      <td>38.570</td>\n",
       "      <td>29.510</td>\n",
       "      <td>26.540</td>\n",
       "      <td>19.130</td>\n",
       "      <td>9.060</td>\n",
       "      <td>3.540</td>\n",
       "      <td>3.270</td>\n",
       "      <td>2.930</td>\n",
       "      <td>2.300</td>\n",
       "      <td>1.850</td>\n",
       "      <td>1.720</td>\n",
       "      <td>1.550</td>\n",
       "      <td>1.370</td>\n",
       "      <td>1.330</td>\n",
       "      <td>1.300</td>\n",
       "      <td>1.200</td>\n",
       "    </tr>\n",
       "  </tbody>\n",
       "</table>\n",
       "</div>"
      ],
      "text/plain": [
       "           24   11  15       14   25     5      6           1           0   \\\n",
       "Var  fueltype  two   l  peugeot  idi  three  rotor  curbweight  enginesize   \n",
       "Vif       inf  inf inf      inf  inf    inf    inf      69.910      62.850   \n",
       "\n",
       "           3          8          17     12      10         21       19  \\\n",
       "Var  carwidth  boreratio  wheelbase   four  stroke  carheight  peakrpm   \n",
       "Vif    57.180     41.280     38.570 29.510  26.540     19.130    9.060   \n",
       "\n",
       "          7               2     13          18     26      9           16  \\\n",
       "Var  porsche  enginelocation  five  aspiration  volvo  twelve  mitsubishi   \n",
       "Vif    3.540           3.270 2.930       2.300  1.850   1.720       1.550   \n",
       "\n",
       "       4     20     23        22  \n",
       "Var   bmw  saab  dodge  plymouth  \n",
       "Vif 1.370 1.330  1.300     1.200  "
      ]
     },
     "execution_count": 418,
     "metadata": {},
     "output_type": "execute_result"
    }
   ],
   "source": [
    "# Calculating Vif value\n",
    "vif_cal(vif_data).transpose() # used transpose to utilize the space."
   ]
  },
  {
   "cell_type": "code",
   "execution_count": 419,
   "metadata": {},
   "outputs": [
    {
     "data": {
      "text/html": [
       "<div>\n",
       "<style>\n",
       "    .dataframe thead tr:only-child th {\n",
       "        text-align: right;\n",
       "    }\n",
       "\n",
       "    .dataframe thead th {\n",
       "        text-align: left;\n",
       "    }\n",
       "\n",
       "    .dataframe tbody tr th {\n",
       "        vertical-align: top;\n",
       "    }\n",
       "</style>\n",
       "<table border=\"1\" class=\"dataframe\">\n",
       "  <thead>\n",
       "    <tr style=\"text-align: right;\">\n",
       "      <th></th>\n",
       "      <th>pvalue</th>\n",
       "      <th>Vif</th>\n",
       "    </tr>\n",
       "  </thead>\n",
       "  <tbody>\n",
       "    <tr>\n",
       "      <th>idi</th>\n",
       "      <td>0.064</td>\n",
       "      <td>inf</td>\n",
       "    </tr>\n",
       "  </tbody>\n",
       "</table>\n",
       "</div>"
      ],
      "text/plain": [
       "     pvalue  Vif\n",
       "idi   0.064  inf"
      ]
     },
     "execution_count": 419,
     "metadata": {},
     "output_type": "execute_result"
    }
   ],
   "source": [
    "# Feature to Drop based on p-value and VIF\n",
    "drop = feature_to_drop(model = model4, SF=0.05, VF=2)\n",
    "drop"
   ]
  },
  {
   "cell_type": "code",
   "execution_count": 420,
   "metadata": {
    "scrolled": false
   },
   "outputs": [
    {
     "data": {
      "text/html": [
       "<div>\n",
       "<style>\n",
       "    .dataframe thead tr:only-child th {\n",
       "        text-align: right;\n",
       "    }\n",
       "\n",
       "    .dataframe thead th {\n",
       "        text-align: left;\n",
       "    }\n",
       "\n",
       "    .dataframe tbody tr th {\n",
       "        vertical-align: top;\n",
       "    }\n",
       "</style>\n",
       "<table border=\"1\" class=\"dataframe\">\n",
       "  <thead>\n",
       "    <tr style=\"text-align: right;\">\n",
       "      <th></th>\n",
       "      <th>No_Features</th>\n",
       "      <th>R-squared</th>\n",
       "      <th>Adj_R-squared</th>\n",
       "      <th>Column_to_Drop</th>\n",
       "      <th>p-value</th>\n",
       "      <th>VIF</th>\n",
       "    </tr>\n",
       "    <tr>\n",
       "      <th>Model</th>\n",
       "      <th></th>\n",
       "      <th></th>\n",
       "      <th></th>\n",
       "      <th></th>\n",
       "      <th></th>\n",
       "      <th></th>\n",
       "    </tr>\n",
       "  </thead>\n",
       "  <tbody>\n",
       "    <tr>\n",
       "      <th>model1</th>\n",
       "      <td>31</td>\n",
       "      <td>0.962</td>\n",
       "      <td>0.953</td>\n",
       "      <td>compressionratio</td>\n",
       "      <td>0.482</td>\n",
       "      <td>115.470</td>\n",
       "    </tr>\n",
       "    <tr>\n",
       "      <th>model2</th>\n",
       "      <td>30</td>\n",
       "      <td>0.962</td>\n",
       "      <td>0.953</td>\n",
       "      <td>horsepower</td>\n",
       "      <td>0.405</td>\n",
       "      <td>60.750</td>\n",
       "    </tr>\n",
       "    <tr>\n",
       "      <th>model3</th>\n",
       "      <td>29</td>\n",
       "      <td>0.962</td>\n",
       "      <td>0.954</td>\n",
       "      <td>dohcv</td>\n",
       "      <td>0.253</td>\n",
       "      <td>2.130</td>\n",
       "    </tr>\n",
       "    <tr>\n",
       "      <th>model4</th>\n",
       "      <td>28</td>\n",
       "      <td>0.961</td>\n",
       "      <td>0.953</td>\n",
       "      <td>idi</td>\n",
       "      <td>0.064</td>\n",
       "      <td>inf</td>\n",
       "    </tr>\n",
       "  </tbody>\n",
       "</table>\n",
       "</div>"
      ],
      "text/plain": [
       "       No_Features  R-squared  Adj_R-squared    Column_to_Drop  p-value  \\\n",
       "Model                                                                     \n",
       "model1          31      0.962          0.953  compressionratio    0.482   \n",
       "model2          30      0.962          0.953        horsepower    0.405   \n",
       "model3          29      0.962          0.954             dohcv    0.253   \n",
       "model4          28      0.961          0.953               idi    0.064   \n",
       "\n",
       "           VIF  \n",
       "Model           \n",
       "model1 115.470  \n",
       "model2  60.750  \n",
       "model3   2.130  \n",
       "model4     inf  "
      ]
     },
     "metadata": {},
     "output_type": "display_data"
    }
   ],
   "source": [
    "# Add key information of this model to model_summary table.\n",
    "add_model_summary(model = model4, name = 'model4')"
   ]
  },
  {
   "cell_type": "markdown",
   "metadata": {},
   "source": [
    "#### Model 5"
   ]
  },
  {
   "cell_type": "code",
   "execution_count": 421,
   "metadata": {
    "collapsed": true,
    "scrolled": false
   },
   "outputs": [],
   "source": [
    "# Dropping highly correlated variables and insignificant variables\n",
    "X_train = X_train.drop(feature_to_drop(model4).index[0], axis =1)\n",
    "vif_data = vif_data.drop(feature_to_drop(model4).index[0], axis =1)"
   ]
  },
  {
   "cell_type": "code",
   "execution_count": 354,
   "metadata": {
    "scrolled": true
   },
   "outputs": [
    {
     "data": {
      "text/html": [
       "<table class=\"simpletable\">\n",
       "<caption>OLS Regression Results</caption>\n",
       "<tr>\n",
       "  <th>Dep. Variable:</th>          <td>price</td>      <th>  R-squared:         </th> <td>   0.955</td>\n",
       "</tr>\n",
       "<tr>\n",
       "  <th>Model:</th>                   <td>OLS</td>       <th>  Adj. R-squared:    </th> <td>   0.948</td>\n",
       "</tr>\n",
       "<tr>\n",
       "  <th>Method:</th>             <td>Least Squares</td>  <th>  F-statistic:       </th> <td>   136.3</td>\n",
       "</tr>\n",
       "<tr>\n",
       "  <th>Date:</th>             <td>Sat, 17 Mar 2018</td> <th>  Prob (F-statistic):</th> <td>4.03e-73</td>\n",
       "</tr>\n",
       "<tr>\n",
       "  <th>Time:</th>                 <td>10:29:30</td>     <th>  Log-Likelihood:    </th> <td>  253.43</td>\n",
       "</tr>\n",
       "<tr>\n",
       "  <th>No. Observations:</th>      <td>   143</td>      <th>  AIC:               </th> <td>  -466.9</td>\n",
       "</tr>\n",
       "<tr>\n",
       "  <th>Df Residuals:</th>          <td>   123</td>      <th>  BIC:               </th> <td>  -407.6</td>\n",
       "</tr>\n",
       "<tr>\n",
       "  <th>Df Model:</th>              <td>    19</td>      <th>                     </th>     <td> </td>   \n",
       "</tr>\n",
       "<tr>\n",
       "  <th>Covariance Type:</th>      <td>nonrobust</td>    <th>                     </th>     <td> </td>   \n",
       "</tr>\n",
       "</table>\n",
       "<table class=\"simpletable\">\n",
       "<tr>\n",
       "         <td></td>           <th>coef</th>     <th>std err</th>      <th>t</th>      <th>P>|t|</th>  <th>[0.025</th>    <th>0.975]</th>  \n",
       "</tr>\n",
       "<tr>\n",
       "  <th>const</th>          <td>   -0.2196</td> <td>    0.033</td> <td>   -6.578</td> <td> 0.000</td> <td>   -0.286</td> <td>   -0.153</td>\n",
       "</tr>\n",
       "<tr>\n",
       "  <th>enginesize</th>     <td>    1.3960</td> <td>    0.135</td> <td>   10.357</td> <td> 0.000</td> <td>    1.129</td> <td>    1.663</td>\n",
       "</tr>\n",
       "<tr>\n",
       "  <th>curbweight</th>     <td>    0.2138</td> <td>    0.065</td> <td>    3.303</td> <td> 0.001</td> <td>    0.086</td> <td>    0.342</td>\n",
       "</tr>\n",
       "<tr>\n",
       "  <th>enginelocation</th> <td>    0.2693</td> <td>    0.060</td> <td>    4.498</td> <td> 0.000</td> <td>    0.151</td> <td>    0.388</td>\n",
       "</tr>\n",
       "<tr>\n",
       "  <th>carwidth</th>       <td>    0.2853</td> <td>    0.050</td> <td>    5.704</td> <td> 0.000</td> <td>    0.186</td> <td>    0.384</td>\n",
       "</tr>\n",
       "<tr>\n",
       "  <th>bmw</th>            <td>    0.2620</td> <td>    0.021</td> <td>   12.420</td> <td> 0.000</td> <td>    0.220</td> <td>    0.304</td>\n",
       "</tr>\n",
       "<tr>\n",
       "  <th>three</th>          <td>    0.3180</td> <td>    0.042</td> <td>    7.657</td> <td> 0.000</td> <td>    0.236</td> <td>    0.400</td>\n",
       "</tr>\n",
       "<tr>\n",
       "  <th>rotor</th>          <td>    0.2441</td> <td>    0.027</td> <td>    9.019</td> <td> 0.000</td> <td>    0.190</td> <td>    0.298</td>\n",
       "</tr>\n",
       "<tr>\n",
       "  <th>porsche</th>        <td>    0.1585</td> <td>    0.037</td> <td>    4.325</td> <td> 0.000</td> <td>    0.086</td> <td>    0.231</td>\n",
       "</tr>\n",
       "<tr>\n",
       "  <th>boreratio</th>      <td>   -0.3942</td> <td>    0.049</td> <td>   -8.063</td> <td> 0.000</td> <td>   -0.491</td> <td>   -0.297</td>\n",
       "</tr>\n",
       "<tr>\n",
       "  <th>twelve</th>         <td>   -0.5046</td> <td>    0.080</td> <td>   -6.334</td> <td> 0.000</td> <td>   -0.662</td> <td>   -0.347</td>\n",
       "</tr>\n",
       "<tr>\n",
       "  <th>stroke</th>         <td>   -0.2818</td> <td>    0.040</td> <td>   -6.969</td> <td> 0.000</td> <td>   -0.362</td> <td>   -0.202</td>\n",
       "</tr>\n",
       "<tr>\n",
       "  <th>two</th>            <td>    0.2441</td> <td>    0.027</td> <td>    9.019</td> <td> 0.000</td> <td>    0.190</td> <td>    0.298</td>\n",
       "</tr>\n",
       "<tr>\n",
       "  <th>four</th>           <td>    0.2320</td> <td>    0.031</td> <td>    7.402</td> <td> 0.000</td> <td>    0.170</td> <td>    0.294</td>\n",
       "</tr>\n",
       "<tr>\n",
       "  <th>five</th>           <td>    0.1485</td> <td>    0.026</td> <td>    5.673</td> <td> 0.000</td> <td>    0.097</td> <td>    0.200</td>\n",
       "</tr>\n",
       "<tr>\n",
       "  <th>peugeot</th>        <td>   -0.2051</td> <td>    0.026</td> <td>   -7.750</td> <td> 0.000</td> <td>   -0.257</td> <td>   -0.153</td>\n",
       "</tr>\n",
       "<tr>\n",
       "  <th>l</th>              <td>    0.1130</td> <td>    0.020</td> <td>    5.662</td> <td> 0.000</td> <td>    0.073</td> <td>    0.152</td>\n",
       "</tr>\n",
       "<tr>\n",
       "  <th>mitsubishi</th>     <td>   -0.0766</td> <td>    0.017</td> <td>   -4.490</td> <td> 0.000</td> <td>   -0.110</td> <td>   -0.043</td>\n",
       "</tr>\n",
       "<tr>\n",
       "  <th>aspiration</th>     <td>    0.0634</td> <td>    0.013</td> <td>    5.054</td> <td> 0.000</td> <td>    0.039</td> <td>    0.088</td>\n",
       "</tr>\n",
       "<tr>\n",
       "  <th>peakrpm</th>        <td>    0.0577</td> <td>    0.023</td> <td>    2.491</td> <td> 0.014</td> <td>    0.012</td> <td>    0.104</td>\n",
       "</tr>\n",
       "<tr>\n",
       "  <th>saab</th>           <td>    0.0393</td> <td>    0.027</td> <td>    1.435</td> <td> 0.154</td> <td>   -0.015</td> <td>    0.094</td>\n",
       "</tr>\n",
       "<tr>\n",
       "  <th>plymouth</th>       <td>   -0.0292</td> <td>    0.024</td> <td>   -1.236</td> <td> 0.219</td> <td>   -0.076</td> <td>    0.018</td>\n",
       "</tr>\n",
       "</table>\n",
       "<table class=\"simpletable\">\n",
       "<tr>\n",
       "  <th>Omnibus:</th>       <td>34.557</td> <th>  Durbin-Watson:     </th> <td>   1.882</td>\n",
       "</tr>\n",
       "<tr>\n",
       "  <th>Prob(Omnibus):</th> <td> 0.000</td> <th>  Jarque-Bera (JB):  </th> <td>  87.460</td>\n",
       "</tr>\n",
       "<tr>\n",
       "  <th>Skew:</th>          <td> 0.955</td> <th>  Prob(JB):          </th> <td>1.02e-19</td>\n",
       "</tr>\n",
       "<tr>\n",
       "  <th>Kurtosis:</th>      <td> 6.321</td> <th>  Cond. No.          </th> <td>1.43e+17</td>\n",
       "</tr>\n",
       "</table>"
      ],
      "text/plain": [
       "<class 'statsmodels.iolib.summary.Summary'>\n",
       "\"\"\"\n",
       "                            OLS Regression Results                            \n",
       "==============================================================================\n",
       "Dep. Variable:                  price   R-squared:                       0.955\n",
       "Model:                            OLS   Adj. R-squared:                  0.948\n",
       "Method:                 Least Squares   F-statistic:                     136.3\n",
       "Date:                Sat, 17 Mar 2018   Prob (F-statistic):           4.03e-73\n",
       "Time:                        10:29:30   Log-Likelihood:                 253.43\n",
       "No. Observations:                 143   AIC:                            -466.9\n",
       "Df Residuals:                     123   BIC:                            -407.6\n",
       "Df Model:                          19                                         \n",
       "Covariance Type:            nonrobust                                         \n",
       "==================================================================================\n",
       "                     coef    std err          t      P>|t|      [0.025      0.975]\n",
       "----------------------------------------------------------------------------------\n",
       "const             -0.2196      0.033     -6.578      0.000      -0.286      -0.153\n",
       "enginesize         1.3960      0.135     10.357      0.000       1.129       1.663\n",
       "curbweight         0.2138      0.065      3.303      0.001       0.086       0.342\n",
       "enginelocation     0.2693      0.060      4.498      0.000       0.151       0.388\n",
       "carwidth           0.2853      0.050      5.704      0.000       0.186       0.384\n",
       "bmw                0.2620      0.021     12.420      0.000       0.220       0.304\n",
       "three              0.3180      0.042      7.657      0.000       0.236       0.400\n",
       "rotor              0.2441      0.027      9.019      0.000       0.190       0.298\n",
       "porsche            0.1585      0.037      4.325      0.000       0.086       0.231\n",
       "boreratio         -0.3942      0.049     -8.063      0.000      -0.491      -0.297\n",
       "twelve            -0.5046      0.080     -6.334      0.000      -0.662      -0.347\n",
       "stroke            -0.2818      0.040     -6.969      0.000      -0.362      -0.202\n",
       "two                0.2441      0.027      9.019      0.000       0.190       0.298\n",
       "four               0.2320      0.031      7.402      0.000       0.170       0.294\n",
       "five               0.1485      0.026      5.673      0.000       0.097       0.200\n",
       "peugeot           -0.2051      0.026     -7.750      0.000      -0.257      -0.153\n",
       "l                  0.1130      0.020      5.662      0.000       0.073       0.152\n",
       "mitsubishi        -0.0766      0.017     -4.490      0.000      -0.110      -0.043\n",
       "aspiration         0.0634      0.013      5.054      0.000       0.039       0.088\n",
       "peakrpm            0.0577      0.023      2.491      0.014       0.012       0.104\n",
       "saab               0.0393      0.027      1.435      0.154      -0.015       0.094\n",
       "plymouth          -0.0292      0.024     -1.236      0.219      -0.076       0.018\n",
       "==============================================================================\n",
       "Omnibus:                       34.557   Durbin-Watson:                   1.882\n",
       "Prob(Omnibus):                  0.000   Jarque-Bera (JB):               87.460\n",
       "Skew:                           0.955   Prob(JB):                     1.02e-19\n",
       "Kurtosis:                       6.321   Cond. No.                     1.43e+17\n",
       "==============================================================================\n",
       "\n",
       "Warnings:\n",
       "[1] Standard Errors assume that the covariance matrix of the errors is correctly specified.\n",
       "[2] The smallest eigenvalue is 1.98e-32. This might indicate that there are\n",
       "strong multicollinearity problems or that the design matrix is singular.\n",
       "\"\"\""
      ]
     },
     "execution_count": 354,
     "metadata": {},
     "output_type": "execute_result"
    }
   ],
   "source": [
    "model5 = sm.OLS(y_train,X_train).fit()\n",
    "model5.summary()"
   ]
  },
  {
   "cell_type": "code",
   "execution_count": 355,
   "metadata": {
    "scrolled": false
   },
   "outputs": [
    {
     "data": {
      "text/html": [
       "<div>\n",
       "<style>\n",
       "    .dataframe thead tr:only-child th {\n",
       "        text-align: right;\n",
       "    }\n",
       "\n",
       "    .dataframe thead th {\n",
       "        text-align: left;\n",
       "    }\n",
       "\n",
       "    .dataframe tbody tr th {\n",
       "        vertical-align: top;\n",
       "    }\n",
       "</style>\n",
       "<table border=\"1\" class=\"dataframe\">\n",
       "  <thead>\n",
       "    <tr style=\"text-align: right;\">\n",
       "      <th></th>\n",
       "      <th>15</th>\n",
       "      <th>14</th>\n",
       "      <th>5</th>\n",
       "      <th>6</th>\n",
       "      <th>11</th>\n",
       "      <th>1</th>\n",
       "      <th>0</th>\n",
       "      <th>3</th>\n",
       "      <th>8</th>\n",
       "      <th>12</th>\n",
       "      <th>10</th>\n",
       "      <th>18</th>\n",
       "      <th>7</th>\n",
       "      <th>2</th>\n",
       "      <th>13</th>\n",
       "      <th>17</th>\n",
       "      <th>9</th>\n",
       "      <th>16</th>\n",
       "      <th>4</th>\n",
       "      <th>19</th>\n",
       "      <th>20</th>\n",
       "    </tr>\n",
       "  </thead>\n",
       "  <tbody>\n",
       "    <tr>\n",
       "      <th>Var</th>\n",
       "      <td>l</td>\n",
       "      <td>peugeot</td>\n",
       "      <td>three</td>\n",
       "      <td>rotor</td>\n",
       "      <td>two</td>\n",
       "      <td>curbweight</td>\n",
       "      <td>enginesize</td>\n",
       "      <td>carwidth</td>\n",
       "      <td>boreratio</td>\n",
       "      <td>four</td>\n",
       "      <td>stroke</td>\n",
       "      <td>peakrpm</td>\n",
       "      <td>porsche</td>\n",
       "      <td>enginelocation</td>\n",
       "      <td>five</td>\n",
       "      <td>aspiration</td>\n",
       "      <td>twelve</td>\n",
       "      <td>mitsubishi</td>\n",
       "      <td>bmw</td>\n",
       "      <td>saab</td>\n",
       "      <td>plymouth</td>\n",
       "    </tr>\n",
       "    <tr>\n",
       "      <th>Vif</th>\n",
       "      <td>inf</td>\n",
       "      <td>inf</td>\n",
       "      <td>inf</td>\n",
       "      <td>inf</td>\n",
       "      <td>inf</td>\n",
       "      <td>58.410</td>\n",
       "      <td>52.420</td>\n",
       "      <td>43.700</td>\n",
       "      <td>36.530</td>\n",
       "      <td>23.970</td>\n",
       "      <td>23.910</td>\n",
       "      <td>6.310</td>\n",
       "      <td>3.070</td>\n",
       "      <td>2.990</td>\n",
       "      <td>2.470</td>\n",
       "      <td>1.870</td>\n",
       "      <td>1.630</td>\n",
       "      <td>1.240</td>\n",
       "      <td>1.230</td>\n",
       "      <td>1.230</td>\n",
       "      <td>1.120</td>\n",
       "    </tr>\n",
       "  </tbody>\n",
       "</table>\n",
       "</div>"
      ],
      "text/plain": [
       "     15       14     5      6    11          1           0         3   \\\n",
       "Var   l  peugeot  three  rotor  two  curbweight  enginesize  carwidth   \n",
       "Vif inf      inf    inf    inf  inf      58.410      52.420    43.700   \n",
       "\n",
       "            8      12      10       18       7               2     13  \\\n",
       "Var  boreratio   four  stroke  peakrpm  porsche  enginelocation  five   \n",
       "Vif     36.530 23.970  23.910    6.310    3.070           2.990 2.470   \n",
       "\n",
       "             17      9           16    4     19        20  \n",
       "Var  aspiration  twelve  mitsubishi   bmw  saab  plymouth  \n",
       "Vif       1.870   1.630       1.240 1.230 1.230     1.120  "
      ]
     },
     "execution_count": 355,
     "metadata": {},
     "output_type": "execute_result"
    }
   ],
   "source": [
    "# Calculating Vif value\n",
    "vif_cal(vif_data).transpose() # used transpose to utilize the space."
   ]
  },
  {
   "cell_type": "code",
   "execution_count": 356,
   "metadata": {},
   "outputs": [
    {
     "data": {
      "text/plain": [
       "'No feature to drop'"
      ]
     },
     "execution_count": 356,
     "metadata": {},
     "output_type": "execute_result"
    }
   ],
   "source": [
    "# Feature to Drop based on p-value and VIF\n",
    "drop = feature_to_drop(model = model5, SF=0.05, VF=2)\n",
    "drop"
   ]
  },
  {
   "cell_type": "code",
   "execution_count": 357,
   "metadata": {
    "scrolled": false
   },
   "outputs": [
    {
     "ename": "TypeError",
     "evalue": "'builtin_function_or_method' object is not subscriptable",
     "output_type": "error",
     "traceback": [
      "\u001b[1;31m---------------------------------------------------------------------------\u001b[0m",
      "\u001b[1;31mTypeError\u001b[0m                                 Traceback (most recent call last)",
      "\u001b[1;32m<ipython-input-357-8def9a0cf4fe>\u001b[0m in \u001b[0;36m<module>\u001b[1;34m()\u001b[0m\n\u001b[0;32m      1\u001b[0m \u001b[1;31m# Add key information of this model to model_summary table.\u001b[0m\u001b[1;33m\u001b[0m\u001b[1;33m\u001b[0m\u001b[0m\n\u001b[0;32m      2\u001b[0m \u001b[1;32mif\u001b[0m \u001b[0mtype\u001b[0m\u001b[1;33m(\u001b[0m\u001b[0mdrop\u001b[0m\u001b[1;33m)\u001b[0m\u001b[1;33m!=\u001b[0m\u001b[1;34m'str'\u001b[0m\u001b[1;33m:\u001b[0m\u001b[1;33m\u001b[0m\u001b[0m\n\u001b[1;32m----> 3\u001b[1;33m     \u001b[0madd_model_summary\u001b[0m\u001b[1;33m(\u001b[0m\u001b[0mmodel\u001b[0m \u001b[1;33m=\u001b[0m \u001b[0mmodel5\u001b[0m\u001b[1;33m,\u001b[0m \u001b[0mname\u001b[0m \u001b[1;33m=\u001b[0m \u001b[1;34m'model5'\u001b[0m\u001b[1;33m)\u001b[0m\u001b[1;33m\u001b[0m\u001b[0m\n\u001b[0m\u001b[0;32m      4\u001b[0m \u001b[1;32melse\u001b[0m\u001b[1;33m:\u001b[0m\u001b[1;33m\u001b[0m\u001b[0m\n\u001b[0;32m      5\u001b[0m     \u001b[0mprint\u001b[0m\u001b[1;33m(\u001b[0m\u001b[1;34m'Model is Ready'\u001b[0m\u001b[1;33m)\u001b[0m\u001b[1;33m\u001b[0m\u001b[0m\n",
      "\u001b[1;32m<ipython-input-332-6d43d8d6aebb>\u001b[0m in \u001b[0;36madd_model_summary\u001b[1;34m(model, name)\u001b[0m\n\u001b[0;32m      4\u001b[0m         \u001b[0mmodel_summary\u001b[0m\u001b[1;33m.\u001b[0m\u001b[0mloc\u001b[0m\u001b[1;33m[\u001b[0m\u001b[0mname\u001b[0m\u001b[1;33m]\u001b[0m \u001b[1;33m=\u001b[0m \u001b[1;33m[\u001b[0m\u001b[0mX_train\u001b[0m\u001b[1;33m.\u001b[0m\u001b[0mshape\u001b[0m\u001b[1;33m[\u001b[0m\u001b[1;36m1\u001b[0m\u001b[1;33m]\u001b[0m\u001b[1;33m,\u001b[0m\u001b[0mmodel\u001b[0m\u001b[1;33m.\u001b[0m\u001b[0mrsquared\u001b[0m\u001b[1;33m,\u001b[0m\u001b[0mmodel\u001b[0m\u001b[1;33m.\u001b[0m\u001b[0mrsquared_adj\u001b[0m\u001b[1;33m,\u001b[0m\u001b[1;34m'Nothing to Drop'\u001b[0m\u001b[1;33m,\u001b[0m\u001b[0mnp\u001b[0m\u001b[1;33m.\u001b[0m\u001b[0mNaN\u001b[0m\u001b[1;33m,\u001b[0m\u001b[0mnp\u001b[0m\u001b[1;33m.\u001b[0m\u001b[0mNaN\u001b[0m\u001b[1;33m]\u001b[0m\u001b[1;33m\u001b[0m\u001b[0m\n\u001b[0;32m      5\u001b[0m     \u001b[1;32melse\u001b[0m\u001b[1;33m:\u001b[0m\u001b[1;33m\u001b[0m\u001b[0m\n\u001b[1;32m----> 6\u001b[1;33m         \u001b[0mmodel_summary\u001b[0m\u001b[1;33m.\u001b[0m\u001b[0mloc\u001b[0m\u001b[1;33m[\u001b[0m\u001b[0mname\u001b[0m\u001b[1;33m]\u001b[0m \u001b[1;33m=\u001b[0m \u001b[1;33m[\u001b[0m\u001b[0mX_train\u001b[0m\u001b[1;33m.\u001b[0m\u001b[0mshape\u001b[0m\u001b[1;33m[\u001b[0m\u001b[1;36m1\u001b[0m\u001b[1;33m]\u001b[0m\u001b[1;33m,\u001b[0m\u001b[0mmodel\u001b[0m\u001b[1;33m.\u001b[0m\u001b[0mrsquared\u001b[0m\u001b[1;33m,\u001b[0m\u001b[0mmodel\u001b[0m\u001b[1;33m.\u001b[0m\u001b[0mrsquared_adj\u001b[0m\u001b[1;33m,\u001b[0m\u001b[0mcol\u001b[0m\u001b[1;33m.\u001b[0m\u001b[0mindex\u001b[0m\u001b[1;33m[\u001b[0m\u001b[1;36m0\u001b[0m\u001b[1;33m]\u001b[0m\u001b[1;33m,\u001b[0m\u001b[0mcol\u001b[0m\u001b[1;33m.\u001b[0m\u001b[0mpvalue\u001b[0m\u001b[1;33m[\u001b[0m\u001b[1;36m0\u001b[0m\u001b[1;33m]\u001b[0m\u001b[1;33m,\u001b[0m\u001b[0mcol\u001b[0m\u001b[1;33m.\u001b[0m\u001b[0mVif\u001b[0m\u001b[1;33m[\u001b[0m\u001b[1;36m0\u001b[0m\u001b[1;33m]\u001b[0m\u001b[1;33m]\u001b[0m\u001b[1;33m\u001b[0m\u001b[0m\n\u001b[0m\u001b[0;32m      7\u001b[0m     \u001b[0mdisplay\u001b[0m\u001b[1;33m(\u001b[0m\u001b[0mmodel_summary\u001b[0m\u001b[1;33m)\u001b[0m\u001b[1;33m\u001b[0m\u001b[0m\n",
      "\u001b[1;31mTypeError\u001b[0m: 'builtin_function_or_method' object is not subscriptable"
     ]
    }
   ],
   "source": [
    "# Add key information of this model to model_summary table.\n",
    "add_model_summary(model = model5, name = 'model5')"
   ]
  },
  {
   "cell_type": "markdown",
   "metadata": {},
   "source": [
    "#### Model 6"
   ]
  },
  {
   "cell_type": "code",
   "execution_count": null,
   "metadata": {
    "collapsed": true,
    "scrolled": false
   },
   "outputs": [],
   "source": [
    "# Dropping highly correlated variables and insignificant variables\n",
    "X_train = X_train.drop(feature_to_drop(model5).index[0], axis =1)\n",
    "vif_data = vif_data.drop(feature_to_drop(model5).index[0], axis =1)"
   ]
  },
  {
   "cell_type": "code",
   "execution_count": null,
   "metadata": {
    "scrolled": true
   },
   "outputs": [],
   "source": [
    "model6 = sm.OLS(y_train,X_train).fit()\n",
    "model6.summary()"
   ]
  },
  {
   "cell_type": "code",
   "execution_count": null,
   "metadata": {
    "scrolled": false
   },
   "outputs": [],
   "source": [
    "# Calculating Vif value\n",
    "vif_cal(vif_data).transpose() # used transpose to utilize the space."
   ]
  },
  {
   "cell_type": "code",
   "execution_count": null,
   "metadata": {
    "collapsed": true
   },
   "outputs": [],
   "source": [
    "# Feature to Drop based on p-value and VIF\n",
    "drop = feature_to_drop(model = model6, SF=0.05, VF=2)\n",
    "drop"
   ]
  },
  {
   "cell_type": "code",
   "execution_count": null,
   "metadata": {
    "scrolled": false
   },
   "outputs": [],
   "source": [
    "# Add key information of this model to model_summary table.\n",
    "add_model_summary(model = model6, name = 'model6')"
   ]
  },
  {
   "cell_type": "markdown",
   "metadata": {},
   "source": [
    "#### Model 7"
   ]
  },
  {
   "cell_type": "code",
   "execution_count": null,
   "metadata": {
    "collapsed": true,
    "scrolled": false
   },
   "outputs": [],
   "source": [
    "# Dropping highly correlated variables and insignificant variables\n",
    "X_train = X_train.drop(feature_to_drop(model6).index[0], axis =1)\n",
    "vif_data = vif_data.drop(feature_to_drop(model6).index[0], axis =1)"
   ]
  },
  {
   "cell_type": "code",
   "execution_count": null,
   "metadata": {
    "scrolled": true
   },
   "outputs": [],
   "source": [
    "model7 = sm.OLS(y_train,X_train).fit()\n",
    "model7.summary()"
   ]
  },
  {
   "cell_type": "code",
   "execution_count": null,
   "metadata": {
    "scrolled": false
   },
   "outputs": [],
   "source": [
    "# Calculating Vif value\n",
    "vif_cal(vif_data).transpose() # used transpose to utilize the space."
   ]
  },
  {
   "cell_type": "code",
   "execution_count": null,
   "metadata": {
    "collapsed": true
   },
   "outputs": [],
   "source": [
    "# Feature to Drop based on p-value and VIF\n",
    "drop = feature_to_drop(model = model7, SF=0.05, VF=2)\n",
    "drop"
   ]
  },
  {
   "cell_type": "code",
   "execution_count": null,
   "metadata": {
    "scrolled": false
   },
   "outputs": [],
   "source": [
    "# Add key information of this model to model_summary table.\n",
    "add_model_summary(model = model7, name = 'model7')"
   ]
  },
  {
   "cell_type": "markdown",
   "metadata": {},
   "source": [
    "***\n",
    "***\n",
    "***"
   ]
  },
  {
   "cell_type": "markdown",
   "metadata": {},
   "source": [
    "#### Model 8"
   ]
  },
  {
   "cell_type": "code",
   "execution_count": null,
   "metadata": {
    "collapsed": true,
    "scrolled": false
   },
   "outputs": [],
   "source": [
    "# Dropping highly correlated variables and insignificant variables\n",
    "X_train = X_train.drop(feature_to_drop(model7).index[0], axis =1)\n",
    "vif_data = vif_data.drop(feature_to_drop(model7).index[0], axis =1)"
   ]
  },
  {
   "cell_type": "code",
   "execution_count": null,
   "metadata": {
    "scrolled": false
   },
   "outputs": [],
   "source": [
    "model8 = sm.OLS(y_train,X_train).fit()\n",
    "model8.summary()"
   ]
  },
  {
   "cell_type": "code",
   "execution_count": null,
   "metadata": {
    "scrolled": true
   },
   "outputs": [],
   "source": [
    "# Calculating Vif value\n",
    "vif_cal(vif_data).transpose() # used transpose to utilize the space."
   ]
  },
  {
   "cell_type": "code",
   "execution_count": null,
   "metadata": {
    "scrolled": false
   },
   "outputs": [],
   "source": [
    "# Add key information of this model to model_summary table.\n",
    "add_model_summary(model = model8, name = 'model8')"
   ]
  },
  {
   "cell_type": "markdown",
   "metadata": {},
   "source": [
    "#### Model 9"
   ]
  },
  {
   "cell_type": "code",
   "execution_count": null,
   "metadata": {
    "collapsed": true,
    "scrolled": false
   },
   "outputs": [],
   "source": [
    "# Dropping highly correlated variables and insignificant variables\n",
    "X_train = X_train.drop(feature_to_drop(model8).index[0], axis =1)\n",
    "vif_data = vif_data.drop(feature_to_drop(model8).index[0], axis =1)"
   ]
  },
  {
   "cell_type": "code",
   "execution_count": null,
   "metadata": {
    "collapsed": true,
    "scrolled": false
   },
   "outputs": [],
   "source": [
    "model9 = sm.OLS(y_train,X_train).fit()\n",
    "model9.summary()"
   ]
  },
  {
   "cell_type": "code",
   "execution_count": null,
   "metadata": {
    "collapsed": true,
    "scrolled": false
   },
   "outputs": [],
   "source": [
    "# Calculating Vif value\n",
    "vif_cal(vif_data).transpose() # used transpose to utilize the space."
   ]
  },
  {
   "cell_type": "code",
   "execution_count": null,
   "metadata": {
    "collapsed": true,
    "scrolled": false
   },
   "outputs": [],
   "source": [
    "# Add key information of this model to model_summary table.\n",
    "add_model_summary(model = model9, name = 'model9')"
   ]
  },
  {
   "cell_type": "markdown",
   "metadata": {},
   "source": [
    "#### Model 10"
   ]
  },
  {
   "cell_type": "code",
   "execution_count": null,
   "metadata": {
    "collapsed": true,
    "scrolled": false
   },
   "outputs": [],
   "source": [
    "# Dropping highly correlated variables and insignificant variables\n",
    "X_train = X_train.drop(feature_to_drop(model9).index[0], axis =1)\n",
    "vif_data = vif_data.drop(feature_to_drop(model9).index[0], axis =1)"
   ]
  },
  {
   "cell_type": "code",
   "execution_count": null,
   "metadata": {
    "collapsed": true,
    "scrolled": false
   },
   "outputs": [],
   "source": [
    "model10 = sm.OLS(y_train,X_train).fit()\n",
    "model10.summary()"
   ]
  },
  {
   "cell_type": "code",
   "execution_count": null,
   "metadata": {
    "collapsed": true,
    "scrolled": false
   },
   "outputs": [],
   "source": [
    "# Calculating Vif value\n",
    "vif_cal(vif_data).transpose() # used transpose to utilize the space."
   ]
  },
  {
   "cell_type": "code",
   "execution_count": null,
   "metadata": {
    "collapsed": true,
    "scrolled": false
   },
   "outputs": [],
   "source": [
    "# Add key information of this model to model_summary table.\n",
    "add_model_summary(model = model10, name = 'model10')"
   ]
  },
  {
   "cell_type": "markdown",
   "metadata": {},
   "source": [
    "#### Model 11"
   ]
  },
  {
   "cell_type": "code",
   "execution_count": null,
   "metadata": {
    "collapsed": true,
    "scrolled": false
   },
   "outputs": [],
   "source": [
    "# Dropping highly correlated variables and insignificant variables\n",
    "X_train = X_train.drop(feature_to_drop(model10).index[0], axis =1)\n",
    "vif_data = vif_data.drop(feature_to_drop(model10).index[0], axis =1)"
   ]
  },
  {
   "cell_type": "code",
   "execution_count": null,
   "metadata": {
    "collapsed": true,
    "scrolled": false
   },
   "outputs": [],
   "source": [
    "model11 = sm.OLS(y_train,X_train).fit()\n",
    "model11.summary()"
   ]
  },
  {
   "cell_type": "code",
   "execution_count": null,
   "metadata": {
    "collapsed": true,
    "scrolled": false
   },
   "outputs": [],
   "source": [
    "# Calculating Vif value\n",
    "vif_cal(vif_data).transpose() # used transpose to utilize the space."
   ]
  },
  {
   "cell_type": "code",
   "execution_count": null,
   "metadata": {
    "collapsed": true,
    "scrolled": false
   },
   "outputs": [],
   "source": [
    "# Add key information of this model to model_summary table.\n",
    "add_model_summary(model = model11, name = 'model11')"
   ]
  },
  {
   "cell_type": "markdown",
   "metadata": {},
   "source": [
    "#### Model 12"
   ]
  },
  {
   "cell_type": "code",
   "execution_count": null,
   "metadata": {
    "collapsed": true,
    "scrolled": false
   },
   "outputs": [],
   "source": [
    "# Dropping highly correlated variables and insignificant variables\n",
    "X_train = X_train.drop(feature_to_drop(model11).index[0], axis =1)\n",
    "vif_data = vif_data.drop(feature_to_drop(model11).index[0], axis =1)"
   ]
  },
  {
   "cell_type": "code",
   "execution_count": null,
   "metadata": {
    "collapsed": true,
    "scrolled": false
   },
   "outputs": [],
   "source": [
    "model12 = sm.OLS(y_train,X_train).fit()\n",
    "model12.summary()"
   ]
  },
  {
   "cell_type": "code",
   "execution_count": null,
   "metadata": {
    "collapsed": true,
    "scrolled": false
   },
   "outputs": [],
   "source": [
    "# Calculating Vif value\n",
    "vif_cal(vif_data).transpose() # used transpose to utilize the space."
   ]
  },
  {
   "cell_type": "code",
   "execution_count": null,
   "metadata": {
    "collapsed": true,
    "scrolled": false
   },
   "outputs": [],
   "source": [
    "# Add key information of this model to model_summary table.\n",
    "add_model_summary(model = model12, name = 'model12')"
   ]
  },
  {
   "cell_type": "code",
   "execution_count": null,
   "metadata": {
    "collapsed": true,
    "scrolled": false
   },
   "outputs": [],
   "source": []
  },
  {
   "cell_type": "code",
   "execution_count": null,
   "metadata": {
    "collapsed": true,
    "scrolled": false
   },
   "outputs": [],
   "source": [
    "# Making predictions\n",
    "X_test = X_test[X_train.columns]\n",
    "y_pred = model7.predict(X_test)"
   ]
  },
  {
   "cell_type": "code",
   "execution_count": null,
   "metadata": {
    "scrolled": false
   },
   "outputs": [],
   "source": [
    "# computing rmse and r^2\n",
    "mse = mean_squared_error(y_test,y_pred)\n",
    "print(mse)\n",
    "r_square = r2_score(y_test,y_pred)\n",
    "print(r_square)"
   ]
  },
  {
   "cell_type": "code",
   "execution_count": null,
   "metadata": {},
   "outputs": [],
   "source": [
    "display(model_summary)"
   ]
  },
  {
   "cell_type": "code",
   "execution_count": null,
   "metadata": {},
   "outputs": [],
   "source": [
    "len(y_pred)\n",
    "len(y_test)"
   ]
  },
  {
   "cell_type": "code",
   "execution_count": null,
   "metadata": {},
   "outputs": [],
   "source": [
    "for i in range(1,len(y_pred),1):\n",
    "    print(i)"
   ]
  },
  {
   "cell_type": "code",
   "execution_count": null,
   "metadata": {
    "scrolled": false
   },
   "outputs": [],
   "source": [
    "#Actual vs Predicted\n",
    "c = [i for i in range(0,len(y_pred),1)]\n",
    "fig = plt.figure(figsize=(14,7))\n",
    "plt.plot(c,y_test, color=\"blue\", linewidth=2.5, linestyle=\"-\",label='Actual')\n",
    "plt.plot(c,y_pred, color=\"red\",  linewidth=2.5, linestyle=\"-\",label='Predicted')\n",
    "fig.suptitle('Actual and Predicted', fontsize=20)              # Plot heading \n",
    "plt.xlabel('Index', fontsize=18)                               # X-label\n",
    "plt.ylabel('Price', fontsize=16)                               # Y-label\n",
    "plt.legend()\n",
    "plt.show()"
   ]
  },
  {
   "cell_type": "code",
   "execution_count": 565,
   "metadata": {},
   "outputs": [
    {
     "ename": "NameError",
     "evalue": "name 'media' is not defined",
     "output_type": "error",
     "traceback": [
      "\u001b[1;31m---------------------------------------------------------------------------\u001b[0m",
      "\u001b[1;31mNameError\u001b[0m                                 Traceback (most recent call last)",
      "\u001b[1;32m<ipython-input-565-0bbe9cbf64ee>\u001b[0m in \u001b[0;36m<module>\u001b[1;34m()\u001b[0m\n\u001b[0;32m      2\u001b[0m \u001b[0mc\u001b[0m \u001b[1;33m=\u001b[0m \u001b[1;33m[\u001b[0m\u001b[0mi\u001b[0m \u001b[1;32mfor\u001b[0m \u001b[0mi\u001b[0m \u001b[1;32min\u001b[0m \u001b[0mrange\u001b[0m\u001b[1;33m(\u001b[0m\u001b[1;36m0\u001b[0m\u001b[1;33m,\u001b[0m\u001b[0mlen\u001b[0m\u001b[1;33m(\u001b[0m\u001b[0my_pred\u001b[0m\u001b[1;33m)\u001b[0m\u001b[1;33m,\u001b[0m\u001b[1;36m1\u001b[0m\u001b[1;33m)\u001b[0m\u001b[1;33m]\u001b[0m\u001b[1;33m\u001b[0m\u001b[0m\n\u001b[0;32m      3\u001b[0m \u001b[0mfig\u001b[0m \u001b[1;33m=\u001b[0m \u001b[0mplt\u001b[0m\u001b[1;33m.\u001b[0m\u001b[0mfigure\u001b[0m\u001b[1;33m(\u001b[0m\u001b[0mfigsize\u001b[0m\u001b[1;33m=\u001b[0m\u001b[1;33m(\u001b[0m\u001b[1;36m14\u001b[0m\u001b[1;33m,\u001b[0m\u001b[1;36m7\u001b[0m\u001b[1;33m)\u001b[0m\u001b[1;33m)\u001b[0m\u001b[1;33m\u001b[0m\u001b[0m\n\u001b[1;32m----> 4\u001b[1;33m \u001b[0mplt\u001b[0m\u001b[1;33m.\u001b[0m\u001b[0mplot\u001b[0m\u001b[1;33m(\u001b[0m\u001b[0mc\u001b[0m\u001b[1;33m,\u001b[0m\u001b[0mmedia\u001b[0m\u001b[1;33m.\u001b[0m\u001b[0mViews_show\u001b[0m\u001b[1;33m-\u001b[0m\u001b[0mPredicted_views\u001b[0m\u001b[1;33m,\u001b[0m \u001b[0mcolor\u001b[0m\u001b[1;33m=\u001b[0m\u001b[1;34m\"blue\"\u001b[0m\u001b[1;33m,\u001b[0m \u001b[0mlinewidth\u001b[0m\u001b[1;33m=\u001b[0m\u001b[1;36m2.5\u001b[0m\u001b[1;33m,\u001b[0m \u001b[0mlinestyle\u001b[0m\u001b[1;33m=\u001b[0m\u001b[1;34m\"-\"\u001b[0m\u001b[1;33m)\u001b[0m\u001b[1;33m\u001b[0m\u001b[0m\n\u001b[0m\u001b[0;32m      5\u001b[0m \u001b[0mfig\u001b[0m\u001b[1;33m.\u001b[0m\u001b[0msuptitle\u001b[0m\u001b[1;33m(\u001b[0m\u001b[1;34m'Error Terms'\u001b[0m\u001b[1;33m,\u001b[0m \u001b[0mfontsize\u001b[0m\u001b[1;33m=\u001b[0m\u001b[1;36m20\u001b[0m\u001b[1;33m)\u001b[0m              \u001b[1;31m# Plot heading\u001b[0m\u001b[1;33m\u001b[0m\u001b[0m\n\u001b[0;32m      6\u001b[0m \u001b[0mplt\u001b[0m\u001b[1;33m.\u001b[0m\u001b[0mxlabel\u001b[0m\u001b[1;33m(\u001b[0m\u001b[1;34m'Index'\u001b[0m\u001b[1;33m,\u001b[0m \u001b[0mfontsize\u001b[0m\u001b[1;33m=\u001b[0m\u001b[1;36m18\u001b[0m\u001b[1;33m)\u001b[0m                      \u001b[1;31m# X-label\u001b[0m\u001b[1;33m\u001b[0m\u001b[0m\n",
      "\u001b[1;31mNameError\u001b[0m: name 'media' is not defined"
     ]
    },
    {
     "data": {
      "text/plain": [
       "<matplotlib.figure.Figure at 0x1fab930e1d0>"
      ]
     },
     "metadata": {},
     "output_type": "display_data"
    }
   ],
   "source": [
    "# Error terms\n",
    "c = [i for i in range(0,len(y_pred),1)]\n",
    "fig = plt.figure(figsize=(14,7))\n",
    "plt.plot(c,media.Views_show-Predicted_views, color=\"blue\", linewidth=2.5, linestyle=\"-\")\n",
    "fig.suptitle('Error Terms', fontsize=20)              # Plot heading \n",
    "plt.xlabel('Index', fontsize=18)                      # X-label\n",
    "plt.ylabel('Views_show-Predicted_views', fontsize=16)                # Y-label\n",
    "plt.show()"
   ]
  },
  {
   "cell_type": "code",
   "execution_count": null,
   "metadata": {
    "collapsed": true
   },
   "outputs": [],
   "source": []
  }
 ],
 "metadata": {
  "kernelspec": {
   "display_name": "Python 3",
   "language": "python",
   "name": "python3"
  },
  "language_info": {
   "codemirror_mode": {
    "name": "ipython",
    "version": 3
   },
   "file_extension": ".py",
   "mimetype": "text/x-python",
   "name": "python",
   "nbconvert_exporter": "python",
   "pygments_lexer": "ipython3",
   "version": "3.6.4"
  }
 },
 "nbformat": 4,
 "nbformat_minor": 2
}
