{
 "cells": [
  {
   "cell_type": "markdown",
   "metadata": {},
   "source": [
    "### Quora Competition\n",
    "https://www.kaggle.com/c/quora-question-intent"
   ]
  },
  {
   "cell_type": "code",
   "execution_count": 43,
   "metadata": {
    "collapsed": true
   },
   "outputs": [],
   "source": [
    "from gensim.models import word2vec\n",
    "import numpy as np\n",
    "import os\n",
    "import nltk\n",
    "import pandas as pd\n",
    "import re\n",
    "import time\n",
    "pd.options.mode.chained_assignment = None #set it to None to remove SettingWithCopyWarning\n",
    "from sklearn.manifold import TSNE\n",
    "import matplotlib.pyplot as plt\n",
    "%matplotlib inline\n",
    "import seaborn as sns\n",
    "sns.set()\n",
    "pal = sns.hls_palette(10, h=.5)\n",
    "sns.set_palette(pal)\n",
    "#nltk.download('stopwords')"
   ]
  },
  {
   "cell_type": "code",
   "execution_count": 20,
   "metadata": {
    "collapsed": true
   },
   "outputs": [],
   "source": [
    "STOP_WORDS = nltk.corpus.stopwords.words()"
   ]
  },
  {
   "cell_type": "code",
   "execution_count": 36,
   "metadata": {},
   "outputs": [
    {
     "name": "stdout",
     "output_type": "stream",
     "text": [
      "(50000, 6)\n"
     ]
    },
    {
     "data": {
      "text/html": [
       "<div>\n",
       "<style>\n",
       "    .dataframe thead tr:only-child th {\n",
       "        text-align: right;\n",
       "    }\n",
       "\n",
       "    .dataframe thead th {\n",
       "        text-align: left;\n",
       "    }\n",
       "\n",
       "    .dataframe tbody tr th {\n",
       "        vertical-align: top;\n",
       "    }\n",
       "</style>\n",
       "<table border=\"1\" class=\"dataframe\">\n",
       "  <thead>\n",
       "    <tr style=\"text-align: right;\">\n",
       "      <th></th>\n",
       "      <th>id</th>\n",
       "      <th>qid1</th>\n",
       "      <th>qid2</th>\n",
       "      <th>question1</th>\n",
       "      <th>question2</th>\n",
       "      <th>is_duplicate</th>\n",
       "    </tr>\n",
       "  </thead>\n",
       "  <tbody>\n",
       "    <tr>\n",
       "      <th>237921</th>\n",
       "      <td>237921</td>\n",
       "      <td>9732</td>\n",
       "      <td>79801</td>\n",
       "      <td>Is sex necessary in a relationship?</td>\n",
       "      <td>Why is sex important in a good relationship?</td>\n",
       "      <td>1</td>\n",
       "    </tr>\n",
       "    <tr>\n",
       "      <th>181001</th>\n",
       "      <td>181001</td>\n",
       "      <td>277377</td>\n",
       "      <td>277378</td>\n",
       "      <td>What are the most inspiring start up stories?</td>\n",
       "      <td>What are the most inspirational stories ever?</td>\n",
       "      <td>0</td>\n",
       "    </tr>\n",
       "    <tr>\n",
       "      <th>294691</th>\n",
       "      <td>294691</td>\n",
       "      <td>150129</td>\n",
       "      <td>93109</td>\n",
       "      <td>What is your best way to do digital marketing?</td>\n",
       "      <td>What are the best unique ways to do Digital Ma...</td>\n",
       "      <td>1</td>\n",
       "    </tr>\n",
       "    <tr>\n",
       "      <th>104145</th>\n",
       "      <td>104145</td>\n",
       "      <td>171986</td>\n",
       "      <td>171987</td>\n",
       "      <td>What is the best way to grow a Facebook fan page?</td>\n",
       "      <td>How do I get more followers on my Facebook page?</td>\n",
       "      <td>1</td>\n",
       "    </tr>\n",
       "    <tr>\n",
       "      <th>357893</th>\n",
       "      <td>357893</td>\n",
       "      <td>487310</td>\n",
       "      <td>487311</td>\n",
       "      <td>Suppose Host A sends two TCP segments back to ...</td>\n",
       "      <td>Suppose Host A sends two TCP segments back to ...</td>\n",
       "      <td>1</td>\n",
       "    </tr>\n",
       "  </tbody>\n",
       "</table>\n",
       "</div>"
      ],
      "text/plain": [
       "            id    qid1    qid2  \\\n",
       "237921  237921    9732   79801   \n",
       "181001  181001  277377  277378   \n",
       "294691  294691  150129   93109   \n",
       "104145  104145  171986  171987   \n",
       "357893  357893  487310  487311   \n",
       "\n",
       "                                                question1  \\\n",
       "237921                Is sex necessary in a relationship?   \n",
       "181001      What are the most inspiring start up stories?   \n",
       "294691     What is your best way to do digital marketing?   \n",
       "104145  What is the best way to grow a Facebook fan page?   \n",
       "357893  Suppose Host A sends two TCP segments back to ...   \n",
       "\n",
       "                                                question2  is_duplicate  \n",
       "237921       Why is sex important in a good relationship?             1  \n",
       "181001      What are the most inspirational stories ever?             0  \n",
       "294691  What are the best unique ways to do Digital Ma...             1  \n",
       "104145   How do I get more followers on my Facebook page?             1  \n",
       "357893  Suppose Host A sends two TCP segments back to ...             1  "
      ]
     },
     "execution_count": 36,
     "metadata": {},
     "output_type": "execute_result"
    }
   ],
   "source": [
    "data = pd.read_csv('./data/train.csv').sample(50000, random_state=23)\n",
    "#data = pd.read_csv('./data/train.csv')\n",
    "print(data.shape)\n",
    "data.head()"
   ]
  },
  {
   "cell_type": "code",
   "execution_count": 44,
   "metadata": {},
   "outputs": [
    {
     "name": "stdout",
     "output_type": "stream",
     "text": [
      "Training data: 50000\n",
      "Duplicate pairs: 37.15%\n",
      "Count of unique question in the training data: 88754\n",
      "Count of duplicate question: 7397\n"
     ]
    },
    {
     "data": {
      "image/png": "[encoded data removed]",
      "text/plain": [
       "<matplotlib.figure.Figure at 0x293b33d8898>"
      ]
     },
     "metadata": {},
     "output_type": "display_data"
    }
   ],
   "source": [
    "# Number of rows in training data\n",
    "print('Training data: {}'.format(len(data)))\n",
    "\n",
    "# Number of rows in testing data\n",
    "#print('Testing data: {}'.format(len(data)))\n",
    "\n",
    "# Percentage of duplicate records in training data\n",
    "print('Duplicate pairs: {}%'.format(round(data['is_duplicate'].mean()*100, 2)))\n",
    "\n",
    "# Count of unique question from qid1 & qid2\n",
    "qids = pd.Series(data['qid1'].tolist() + data['qid2'].tolist())\n",
    "print('Count of unique question in the training data: {}'.format(len(\n",
    "    np.unique(qids))))\n",
    "\n",
    "# Count of duplicate question from qid1 & qid2\n",
    "print('Count of duplicate question: {}'.format(np.sum(qids.value_counts() > 1)))\n",
    "\n",
    "plt.figure(figsize=(12, 5))\n",
    "plt.hist(qids.value_counts(), bins=50)\n",
    "plt.yscale('log', nonposy='clip')\n",
    "plt.title('Log-Histogram of question appearance counts')\n",
    "plt.xlabel('Frequency')\n",
    "plt.ylabel('Number of questions')\n",
    "plt.show()"
   ]
  },
  {
   "cell_type": "markdown",
   "metadata": {},
   "source": [
    "#### Define functions for cleaning sentences and dataframes"
   ]
  },
  {
   "cell_type": "code",
   "execution_count": 22,
   "metadata": {
    "collapsed": true
   },
   "outputs": [],
   "source": [
    "def clean_sentence(val):\n",
    "    \"remove chars that are not letters or numbers, downcase, then remove stop words\"\n",
    "    regex = re.compile('([^\\s\\w]|_)+')\n",
    "    sentence = regex.sub('', val).lower()\n",
    "    sentence = sentence.split(\" \")\n",
    "    \n",
    "    for word in list(sentence):\n",
    "        if word in STOP_WORDS:\n",
    "            sentence.remove(word)  \n",
    "            \n",
    "    sentence = \" \".join(sentence)\n",
    "    return sentence\n",
    "\n",
    "\n",
    "def clean_dataframe(data):\n",
    "    \"drop nans, then apply 'clean_sentence' function to question1 and 2\"\n",
    "    data = data.dropna(how=\"any\")\n",
    "    \n",
    "    for col in ['question1', 'question2']:\n",
    "        data[col] = data[col].apply(clean_sentence)\n",
    "    \n",
    "    return data"
   ]
  },
  {
   "cell_type": "markdown",
   "metadata": {},
   "source": [
    "#### Fetch clean data"
   ]
  },
  {
   "cell_type": "code",
   "execution_count": 23,
   "metadata": {},
   "outputs": [
    {
     "name": "stdout",
     "output_type": "stream",
     "text": [
      "Time taken to clean the dataset: 27 Second(s)\n"
     ]
    },
    {
     "data": {
      "text/html": [
       "<div>\n",
       "<style>\n",
       "    .dataframe thead tr:only-child th {\n",
       "        text-align: right;\n",
       "    }\n",
       "\n",
       "    .dataframe thead th {\n",
       "        text-align: left;\n",
       "    }\n",
       "\n",
       "    .dataframe tbody tr th {\n",
       "        vertical-align: top;\n",
       "    }\n",
       "</style>\n",
       "<table border=\"1\" class=\"dataframe\">\n",
       "  <thead>\n",
       "    <tr style=\"text-align: right;\">\n",
       "      <th></th>\n",
       "      <th>id</th>\n",
       "      <th>qid1</th>\n",
       "      <th>qid2</th>\n",
       "      <th>question1</th>\n",
       "      <th>question2</th>\n",
       "      <th>is_duplicate</th>\n",
       "    </tr>\n",
       "  </thead>\n",
       "  <tbody>\n",
       "    <tr>\n",
       "      <th>237921</th>\n",
       "      <td>237921</td>\n",
       "      <td>9732</td>\n",
       "      <td>79801</td>\n",
       "      <td>sex necessary relationship</td>\n",
       "      <td>sex important good relationship</td>\n",
       "      <td>1</td>\n",
       "    </tr>\n",
       "    <tr>\n",
       "      <th>181001</th>\n",
       "      <td>181001</td>\n",
       "      <td>277377</td>\n",
       "      <td>277378</td>\n",
       "      <td>inspiring start stories</td>\n",
       "      <td>inspirational stories ever</td>\n",
       "      <td>0</td>\n",
       "    </tr>\n",
       "    <tr>\n",
       "      <th>294691</th>\n",
       "      <td>294691</td>\n",
       "      <td>150129</td>\n",
       "      <td>93109</td>\n",
       "      <td>best way digital marketing</td>\n",
       "      <td>best unique ways digital marketing</td>\n",
       "      <td>1</td>\n",
       "    </tr>\n",
       "    <tr>\n",
       "      <th>104145</th>\n",
       "      <td>104145</td>\n",
       "      <td>171986</td>\n",
       "      <td>171987</td>\n",
       "      <td>best way grow facebook fan page</td>\n",
       "      <td>get followers facebook page</td>\n",
       "      <td>1</td>\n",
       "    </tr>\n",
       "    <tr>\n",
       "      <th>357893</th>\n",
       "      <td>357893</td>\n",
       "      <td>487310</td>\n",
       "      <td>487311</td>\n",
       "      <td>suppose host sends two tcp segments back back ...</td>\n",
       "      <td>suppose host sends two tcp segments back back ...</td>\n",
       "      <td>1</td>\n",
       "    </tr>\n",
       "  </tbody>\n",
       "</table>\n",
       "</div>"
      ],
      "text/plain": [
       "            id    qid1    qid2  \\\n",
       "237921  237921    9732   79801   \n",
       "181001  181001  277377  277378   \n",
       "294691  294691  150129   93109   \n",
       "104145  104145  171986  171987   \n",
       "357893  357893  487310  487311   \n",
       "\n",
       "                                                question1  \\\n",
       "237921                         sex necessary relationship   \n",
       "181001                            inspiring start stories   \n",
       "294691                         best way digital marketing   \n",
       "104145                    best way grow facebook fan page   \n",
       "357893  suppose host sends two tcp segments back back ...   \n",
       "\n",
       "                                                question2  is_duplicate  \n",
       "237921                    sex important good relationship             1  \n",
       "181001                         inspirational stories ever             0  \n",
       "294691                 best unique ways digital marketing             1  \n",
       "104145                        get followers facebook page             1  \n",
       "357893  suppose host sends two tcp segments back back ...             1  "
      ]
     },
     "execution_count": 23,
     "metadata": {},
     "output_type": "execute_result"
    }
   ],
   "source": [
    "tic = time.time()\n",
    "data = clean_dataframe(data)\n",
    "toc = time.time()\n",
    "duration = str(round((toc -tic)))\n",
    "print('Time taken to clean the dataset: '+duration+' Second(s)')\n",
    "data.head(5)"
   ]
  },
  {
   "cell_type": "markdown",
   "metadata": {},
   "source": [
    "#### prepare gensim-friendly data, that is iterable list of sentences"
   ]
  },
  {
   "cell_type": "code",
   "execution_count": 24,
   "metadata": {
    "collapsed": true
   },
   "outputs": [],
   "source": [
    "def build_corpus(data):\n",
    "    \"Creates a list of lists containing words from each sentence\"\n",
    "    corpus = []\n",
    "    for col in ['question1', 'question2']:\n",
    "        for sentence in data[col].iteritems():\n",
    "            word_list = sentence[1].split(\" \")\n",
    "            corpus.append(word_list)\n",
    "            \n",
    "    return corpus"
   ]
  },
  {
   "cell_type": "code",
   "execution_count": 25,
   "metadata": {},
   "outputs": [
    {
     "data": {
      "text/plain": [
       "[['sex', 'necessary', 'relationship'], ['inspiring', 'start', 'stories']]"
      ]
     },
     "execution_count": 25,
     "metadata": {},
     "output_type": "execute_result"
    }
   ],
   "source": [
    "corpus = build_corpus(data)        \n",
    "corpus[0:2]"
   ]
  },
  {
   "cell_type": "code",
   "execution_count": null,
   "metadata": {
    "collapsed": true
   },
   "outputs": [],
   "source": []
  }
 ],
 "metadata": {
  "anaconda-cloud": {},
  "kernelspec": {
   "display_name": "Python 3",
   "language": "python",
   "name": "python3"
  },
  "language_info": {
   "codemirror_mode": {
    "name": "ipython",
    "version": 3
   },
   "file_extension": ".py",
   "mimetype": "text/x-python",
   "name": "python",
   "nbconvert_exporter": "python",
   "pygments_lexer": "ipython3",
   "version": "3.6.3"
  }
 },
 "nbformat": 4,
 "nbformat_minor": 1
}
