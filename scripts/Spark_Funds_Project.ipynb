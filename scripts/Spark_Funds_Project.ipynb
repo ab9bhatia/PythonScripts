{
 "cells": [
  {
   "cell_type": "markdown",
   "metadata": {},
   "source": [
    "# Investment Case Group Project"
   ]
  },
  {
   "cell_type": "code",
   "execution_count": 1,
   "metadata": {
    "collapsed": true
   },
   "outputs": [],
   "source": [
    "import pandas as pd\n",
    "import numpy as np\n",
    "import os\n",
    "import re\n",
    "import matplotlib.pyplot as plt\n",
    "%matplotlib inline\n",
    "pd.options.mode.chained_assignment = None #set it to None to remove SettingWithCopyWarning\n",
    "pd.options.display.float_format = '{:.2f}'.format #set it to convert scientific noations such as 4.225108e+11 to 422510842796.00\n",
    "\n",
    "# IMPORTANT: Replace inputDir & outDir path with your directory path.\n",
    "inputDir = 'C:/Users/ankit.bhatia/Documents/GitHub/PythonScripts/data/spark_funds/'\n",
    "outDir = 'C:/Users/ankit.bhatia/Documents/GitHub/PythonScripts/data/spark_funds/outDir/'\n",
    "file1 = 'companies.txt'\n",
    "file2 = 'rounds2.csv'\n",
    "file3 = 'mapping.csv'"
   ]
  },
  {
   "cell_type": "markdown",
   "metadata": {},
   "source": [
    "## Checkpoint 1: Data Cleaning"
   ]
  },
  {
   "cell_type": "code",
   "execution_count": 2,
   "metadata": {
    "collapsed": true
   },
   "outputs": [],
   "source": [
    "# Loading datasets into pandas dataframe.\n",
    "companies = pd.read_csv(inputDir+file1,sep='\\t',encoding='iso-8859-1')\n",
    "rounds2 = pd.read_csv(inputDir+file2,encoding='iso-8859-1') # Use 'iso-8859-1' for accented characters"
   ]
  },
  {
   "cell_type": "code",
   "execution_count": 3,
   "metadata": {},
   "outputs": [
    {
     "data": {
      "text/html": [
       "<div>\n",
       "<style>\n",
       "    .dataframe thead tr:only-child th {\n",
       "        text-align: right;\n",
       "    }\n",
       "\n",
       "    .dataframe thead th {\n",
       "        text-align: left;\n",
       "    }\n",
       "\n",
       "    .dataframe tbody tr th {\n",
       "        vertical-align: top;\n",
       "    }\n",
       "</style>\n",
       "<table border=\"1\" class=\"dataframe\">\n",
       "  <thead>\n",
       "    <tr style=\"text-align: right;\">\n",
       "      <th></th>\n",
       "      <th>permalink</th>\n",
       "      <th>name</th>\n",
       "      <th>homepage_url</th>\n",
       "      <th>category_list</th>\n",
       "      <th>status</th>\n",
       "      <th>country_code</th>\n",
       "      <th>state_code</th>\n",
       "      <th>region</th>\n",
       "      <th>city</th>\n",
       "      <th>founded_at</th>\n",
       "    </tr>\n",
       "  </thead>\n",
       "  <tbody>\n",
       "    <tr>\n",
       "      <th>0</th>\n",
       "      <td>/Organization/-Fame</td>\n",
       "      <td>#fame</td>\n",
       "      <td>http://livfame.com</td>\n",
       "      <td>Media</td>\n",
       "      <td>operating</td>\n",
       "      <td>IND</td>\n",
       "      <td>16</td>\n",
       "      <td>Mumbai</td>\n",
       "      <td>Mumbai</td>\n",
       "      <td>NaN</td>\n",
       "    </tr>\n",
       "    <tr>\n",
       "      <th>1</th>\n",
       "      <td>/Organization/-Qounter</td>\n",
       "      <td>:Qounter</td>\n",
       "      <td>http://www.qounter.com</td>\n",
       "      <td>Application Platforms|Real Time|Social Network...</td>\n",
       "      <td>operating</td>\n",
       "      <td>USA</td>\n",
       "      <td>DE</td>\n",
       "      <td>DE - Other</td>\n",
       "      <td>Delaware City</td>\n",
       "      <td>04-09-2014</td>\n",
       "    </tr>\n",
       "  </tbody>\n",
       "</table>\n",
       "</div>"
      ],
      "text/plain": [
       "                permalink      name            homepage_url  \\\n",
       "0     /Organization/-Fame     #fame      http://livfame.com   \n",
       "1  /Organization/-Qounter  :Qounter  http://www.qounter.com   \n",
       "\n",
       "                                       category_list     status country_code  \\\n",
       "0                                              Media  operating          IND   \n",
       "1  Application Platforms|Real Time|Social Network...  operating          USA   \n",
       "\n",
       "  state_code      region           city  founded_at  \n",
       "0         16      Mumbai         Mumbai         NaN  \n",
       "1         DE  DE - Other  Delaware City  04-09-2014  "
      ]
     },
     "execution_count": 3,
     "metadata": {},
     "output_type": "execute_result"
    }
   ],
   "source": [
    "# Get some insight\n",
    "companies.head(2)"
   ]
  },
  {
   "cell_type": "code",
   "execution_count": 4,
   "metadata": {},
   "outputs": [
    {
     "data": {
      "text/html": [
       "<div>\n",
       "<style>\n",
       "    .dataframe thead tr:only-child th {\n",
       "        text-align: right;\n",
       "    }\n",
       "\n",
       "    .dataframe thead th {\n",
       "        text-align: left;\n",
       "    }\n",
       "\n",
       "    .dataframe tbody tr th {\n",
       "        vertical-align: top;\n",
       "    }\n",
       "</style>\n",
       "<table border=\"1\" class=\"dataframe\">\n",
       "  <thead>\n",
       "    <tr style=\"text-align: right;\">\n",
       "      <th></th>\n",
       "      <th>company_permalink</th>\n",
       "      <th>funding_round_permalink</th>\n",
       "      <th>funding_round_type</th>\n",
       "      <th>funding_round_code</th>\n",
       "      <th>funded_at</th>\n",
       "      <th>raised_amount_usd</th>\n",
       "    </tr>\n",
       "  </thead>\n",
       "  <tbody>\n",
       "    <tr>\n",
       "      <th>0</th>\n",
       "      <td>/organization/-fame</td>\n",
       "      <td>/funding-round/9a01d05418af9f794eebff7ace91f638</td>\n",
       "      <td>venture</td>\n",
       "      <td>B</td>\n",
       "      <td>05-01-2015</td>\n",
       "      <td>10000000.00</td>\n",
       "    </tr>\n",
       "    <tr>\n",
       "      <th>1</th>\n",
       "      <td>/ORGANIZATION/-QOUNTER</td>\n",
       "      <td>/funding-round/22dacff496eb7acb2b901dec1dfe5633</td>\n",
       "      <td>venture</td>\n",
       "      <td>A</td>\n",
       "      <td>14-10-2014</td>\n",
       "      <td>nan</td>\n",
       "    </tr>\n",
       "  </tbody>\n",
       "</table>\n",
       "</div>"
      ],
      "text/plain": [
       "        company_permalink                          funding_round_permalink  \\\n",
       "0     /organization/-fame  /funding-round/9a01d05418af9f794eebff7ace91f638   \n",
       "1  /ORGANIZATION/-QOUNTER  /funding-round/22dacff496eb7acb2b901dec1dfe5633   \n",
       "\n",
       "  funding_round_type funding_round_code   funded_at  raised_amount_usd  \n",
       "0            venture                  B  05-01-2015        10000000.00  \n",
       "1            venture                  A  14-10-2014                nan  "
      ]
     },
     "execution_count": 4,
     "metadata": {},
     "output_type": "execute_result"
    }
   ],
   "source": [
    "rounds2.head(2)"
   ]
  },
  {
   "cell_type": "markdown",
   "metadata": {},
   "source": [
    "### Table 1.1\n",
    "#### Q1. How many unique companies are present in rounds2?"
   ]
  },
  {
   "cell_type": "code",
   "execution_count": 5,
   "metadata": {},
   "outputs": [
    {
     "data": {
      "text/plain": [
       "66370"
      ]
     },
     "execution_count": 5,
     "metadata": {},
     "output_type": "execute_result"
    }
   ],
   "source": [
    "# .count() will give the total no of rows.\n",
    "#rounds2.company_permalink.count()\n",
    "\n",
    "# Unique count which excludes NA as well by default, use .lower() , in case of duplicate enties in different case.\n",
    "rounds2.company_permalink.str.lower().nunique()"
   ]
  },
  {
   "cell_type": "markdown",
   "metadata": {},
   "source": [
    "#### Q2. How many unique companies are present in companies?"
   ]
  },
  {
   "cell_type": "code",
   "execution_count": 6,
   "metadata": {},
   "outputs": [
    {
     "data": {
      "text/plain": [
       "66368"
      ]
     },
     "execution_count": 6,
     "metadata": {},
     "output_type": "execute_result"
    }
   ],
   "source": [
    "companies.permalink.str.lower().nunique()"
   ]
  },
  {
   "cell_type": "markdown",
   "metadata": {},
   "source": [
    "#### Q3. In the companies data frame, which column can be used as the unique key for each company? Write the name of the column."
   ]
  },
  {
   "cell_type": "code",
   "execution_count": 7,
   "metadata": {},
   "outputs": [
    {
     "data": {
      "text/plain": [
       "permalink    66368\n",
       "dtype: int64"
      ]
     },
     "execution_count": 7,
     "metadata": {},
     "output_type": "execute_result"
    }
   ],
   "source": [
    "# Ist Method\n",
    "#nunique() will give unique values for each column, column with maximum unique counts can be considered as unique column#### \n",
    "companies.nunique().sort_values(ascending=False).iloc[0:1]\n",
    "\n",
    "# IInd Method\n",
    "# Companies.describe() will give count, unique, top etc information, we store count & unique values in a temp df and\n",
    "# then subtracting unique values(1) from count(0) and giving the column name where difference is 0\n",
    "#companies.describe().iloc[0:2]\n"
   ]
  },
  {
   "cell_type": "markdown",
   "metadata": {},
   "source": [
    "#### Q4. Are there any companies in the rounds2 file which are not  present in companies ?"
   ]
  },
  {
   "cell_type": "code",
   "execution_count": 8,
   "metadata": {},
   "outputs": [
    {
     "data": {
      "text/html": [
       "<div>\n",
       "<style>\n",
       "    .dataframe thead tr:only-child th {\n",
       "        text-align: right;\n",
       "    }\n",
       "\n",
       "    .dataframe thead th {\n",
       "        text-align: left;\n",
       "    }\n",
       "\n",
       "    .dataframe tbody tr th {\n",
       "        vertical-align: top;\n",
       "    }\n",
       "</style>\n",
       "<table border=\"1\" class=\"dataframe\">\n",
       "  <thead>\n",
       "    <tr style=\"text-align: right;\">\n",
       "      <th></th>\n",
       "      <th>company_permalink</th>\n",
       "      <th>funding_round_permalink</th>\n",
       "      <th>funding_round_type</th>\n",
       "      <th>funding_round_code</th>\n",
       "      <th>funded_at</th>\n",
       "      <th>raised_amount_usd</th>\n",
       "    </tr>\n",
       "  </thead>\n",
       "  <tbody>\n",
       "    <tr>\n",
       "      <th>29597</th>\n",
       "      <td>/ORGANIZATION/E-CÃBICA</td>\n",
       "      <td>/funding-round/8491f74869e4fe8ba9c378394f8fbdea</td>\n",
       "      <td>seed</td>\n",
       "      <td>NaN</td>\n",
       "      <td>01-02-2015</td>\n",
       "      <td>nan</td>\n",
       "    </tr>\n",
       "    <tr>\n",
       "      <th>31863</th>\n",
       "      <td>/ORGANIZATION/ENERGYSTONE-GAMES-ÇµÇ³Æ¸¸Æ</td>\n",
       "      <td>/funding-round/b89553f3d2279c5683ae93f45a21cfe0</td>\n",
       "      <td>seed</td>\n",
       "      <td>NaN</td>\n",
       "      <td>09-08-2014</td>\n",
       "      <td>nan</td>\n",
       "    </tr>\n",
       "    <tr>\n",
       "      <th>45176</th>\n",
       "      <td>/organization/huizuche-com-æ ç§ÿè½¦</td>\n",
       "      <td>/funding-round/8f8a32dbeeb0f831a78702f83af78a36</td>\n",
       "      <td>seed</td>\n",
       "      <td>NaN</td>\n",
       "      <td>18-09-2014</td>\n",
       "      <td>nan</td>\n",
       "    </tr>\n",
       "    <tr>\n",
       "      <th>58473</th>\n",
       "      <td>/ORGANIZATION/MAGNET-TECH-Ç£Ç³Ç§Æ</td>\n",
       "      <td>/funding-round/8fc91fbb32bc95e97f151dd0cb4166bf</td>\n",
       "      <td>seed</td>\n",
       "      <td>NaN</td>\n",
       "      <td>16-08-2014</td>\n",
       "      <td>1625585.00</td>\n",
       "    </tr>\n",
       "    <tr>\n",
       "      <th>101036</th>\n",
       "      <td>/organization/tipcat-interactive-æ²èÿä¿¡æ¯ç...</td>\n",
       "      <td>/funding-round/41005928a1439cb2d706a43cb661f60f</td>\n",
       "      <td>seed</td>\n",
       "      <td>NaN</td>\n",
       "      <td>06-09-2010</td>\n",
       "      <td>nan</td>\n",
       "    </tr>\n",
       "    <tr>\n",
       "      <th>109969</th>\n",
       "      <td>/ORGANIZATION/WEICHE-TECH-ÅÈ½¦Ç§Æ</td>\n",
       "      <td>/funding-round/f74e457f838b81fa0b29649740f186d8</td>\n",
       "      <td>venture</td>\n",
       "      <td>A</td>\n",
       "      <td>06-09-2015</td>\n",
       "      <td>nan</td>\n",
       "    </tr>\n",
       "    <tr>\n",
       "      <th>113839</th>\n",
       "      <td>/ORGANIZATION/ZENGAME-Ç¦",
       "Æ¸¸Ç§Æ</td>\n",
       "      <td>/funding-round/6ba28fb4f3eadf5a9c6c81bc5dde6cdf</td>\n",
       "      <td>seed</td>\n",
       "      <td>NaN</td>\n",
       "      <td>17-07-2010</td>\n",
       "      <td>nan</td>\n",
       "    </tr>\n",
       "  </tbody>\n",
       "</table>\n",
       "</div>"
      ],
      "text/plain": [
       "                                        company_permalink  \\\n",
       "29597                             /ORGANIZATION/E-CÃBICA   \n",
       "31863        /ORGANIZATION/ENERGYSTONE-GAMES-ÇµÇ³Æ¸¸Æ   \n",
       "45176                /organization/huizuche-com-æ ç§ÿè½¦   \n",
       "58473              /ORGANIZATION/MAGNET-TECH-Ç£Ç³Ç§Æ   \n",
       "101036  /organization/tipcat-interactive-æ²èÿä¿¡æ¯ç...   \n",
       "109969             /ORGANIZATION/WEICHE-TECH-ÅÈ½¦Ç§Æ   \n",
       "113839                 /ORGANIZATION/ZENGAME-Ç¦\n",
       "Æ¸¸Ç§Æ   \n",
       "\n",
       "                                funding_round_permalink funding_round_type  \\\n",
       "29597   /funding-round/8491f74869e4fe8ba9c378394f8fbdea               seed   \n",
       "31863   /funding-round/b89553f3d2279c5683ae93f45a21cfe0               seed   \n",
       "45176   /funding-round/8f8a32dbeeb0f831a78702f83af78a36               seed   \n",
       "58473   /funding-round/8fc91fbb32bc95e97f151dd0cb4166bf               seed   \n",
       "101036  /funding-round/41005928a1439cb2d706a43cb661f60f               seed   \n",
       "109969  /funding-round/f74e457f838b81fa0b29649740f186d8            venture   \n",
       "113839  /funding-round/6ba28fb4f3eadf5a9c6c81bc5dde6cdf               seed   \n",
       "\n",
       "       funding_round_code   funded_at  raised_amount_usd  \n",
       "29597                 NaN  01-02-2015                nan  \n",
       "31863                 NaN  09-08-2014                nan  \n",
       "45176                 NaN  18-09-2014                nan  \n",
       "58473                 NaN  16-08-2014         1625585.00  \n",
       "101036                NaN  06-09-2010                nan  \n",
       "109969                  A  06-09-2015                nan  \n",
       "113839                NaN  17-07-2010                nan  "
      ]
     },
     "execution_count": 8,
     "metadata": {},
     "output_type": "execute_result"
    }
   ],
   "source": [
    "# Check the existacce of a column of dataframe1 in column1 of dataframe2\n",
    "rounds2[rounds2['company_permalink'].str.lower().isin(companies['permalink'].str.lower())== False]"
   ]
  },
  {
   "cell_type": "markdown",
   "metadata": {},
   "source": [
    "#### Q5. Merge the two data frames so that all  variables (columns)  in the companies frame are added to the rounds2 data frame. Name the merged frame master_frame. How many observations are present in master_frame ?"
   ]
  },
  {
   "cell_type": "code",
   "execution_count": 9,
   "metadata": {},
   "outputs": [
    {
     "name": "stdout",
     "output_type": "stream",
     "text": [
      "\n",
      "Number of Records:  114942\n"
     ]
    }
   ],
   "source": [
    "# lower() the key columns of both dataframes, so they can match in case of diffence in case.\n",
    "companies['permalink'] = companies['permalink'].str.lower()\n",
    "rounds2['company_permalink'] = rounds2['company_permalink'].str.lower()\n",
    "master_frame = pd.merge(left = companies,right = rounds2, how ='inner', left_on='permalink',right_on='company_permalink')\n",
    "#print('\\nNumber of Records: ',master_frame.shape[0])\n",
    "print('\\nNumber of Records: ',master_frame.count()[0])\n",
    "# From here we will work with master_frame only"
   ]
  },
  {
   "cell_type": "code",
   "execution_count": 10,
   "metadata": {
    "collapsed": true
   },
   "outputs": [],
   "source": [
    "# Drop Rows from master_frame where raised_amount_usd is null\n",
    "master_frame = master_frame.drop(master_frame[master_frame.raised_amount_usd.isnull()].index)"
   ]
  },
  {
   "cell_type": "markdown",
   "metadata": {},
   "source": [
    "#### Define Function"
   ]
  },
  {
   "cell_type": "code",
   "execution_count": 11,
   "metadata": {
    "collapsed": true
   },
   "outputs": [],
   "source": [
    "# Defining a method to wite(.csv) a file to the user location.\n",
    "def writeDF(dataframe,filename,dir_path):\n",
    "    dataframe.to_csv(path_or_buf = outDir+filename+'.csv')\n",
    "    size = str(round((os.path.getsize(outDir+filename+'.csv')/1000),1))\n",
    "    print('File: '+filename+'.csv created at '+outDir+ '\\nSize of file :'+size+ ' KB' )"
   ]
  },
  {
   "cell_type": "code",
   "execution_count": 12,
   "metadata": {
    "collapsed": true
   },
   "outputs": [],
   "source": [
    "# Defining a method to wite(.xlsx) a file to the user location.\n",
    "def writeDF_xl(dataframe,filename,dir_path):\n",
    "    writer = pd.ExcelWriter(outDir+filename+'.xlsx', engine='xlsxwriter',options={'strings_to_urls': False})\n",
    "    dataframe.to_excel(writer,sheet_name= filename)\n",
    "    writer.close()\n",
    "    size = str(round((os.path.getsize(outDir+filename+'.xlsx')/1000),1))\n",
    "    print('File: '+filename+'.xlsx created at '+outDir+ '\\nSize of file :'+size+ ' KB' )"
   ]
  },
  {
   "cell_type": "code",
   "execution_count": 13,
   "metadata": {
    "collapsed": true
   },
   "outputs": [],
   "source": [
    "# Test to write & read in .xlsx format\n",
    "#writeDF_xl(master_frame,'master_frame_xl',outDir)\n",
    "#test_xl = pd.read_excel(outDir+'master_frame_xl.xlsx')\n",
    "#test_xl.head()"
   ]
  },
  {
   "cell_type": "code",
   "execution_count": null,
   "metadata": {
    "collapsed": true
   },
   "outputs": [],
   "source": []
  },
  {
   "cell_type": "markdown",
   "metadata": {},
   "source": [
    "#### Storing Data"
   ]
  },
  {
   "cell_type": "code",
   "execution_count": 14,
   "metadata": {},
   "outputs": [
    {
     "name": "stdout",
     "output_type": "stream",
     "text": [
      "File: master_frame.csv created at C:/Users/ankit.bhatia/Documents/GitHub/PythonScripts/data/spark_funds/outDir/\n",
      "Size of file :23784.3 KB\n"
     ]
    }
   ],
   "source": [
    "# Storing master_frame dataframe at user location\n",
    "writeDF(master_frame,'master_frame',outDir)"
   ]
  },
  {
   "cell_type": "markdown",
   "metadata": {},
   "source": [
    "## Checkpoint 2: Funding Type Analysis\n",
    "### Table 2.1 ( Average Values of Investments for Each of these Funding Types)"
   ]
  },
  {
   "cell_type": "markdown",
   "metadata": {},
   "source": [
    "#### Define Function"
   ]
  },
  {
   "cell_type": "code",
   "execution_count": 15,
   "metadata": {
    "collapsed": true
   },
   "outputs": [],
   "source": [
    "# defining a function to get average funding amount for any funding type.\n",
    "def avg_funding_amount(funding_type):\n",
    "    return master_frame[master_frame['funding_round_type']==funding_type]['raised_amount_usd'].mean()"
   ]
  },
  {
   "cell_type": "markdown",
   "metadata": {},
   "source": [
    "#### Q1/2/3/4. Average funding amount of different funding type ?"
   ]
  },
  {
   "cell_type": "code",
   "execution_count": 16,
   "metadata": {
    "scrolled": true
   },
   "outputs": [
    {
     "name": "stdout",
     "output_type": "stream",
     "text": [
      "venture 11748949.129489528\n",
      "angel 958694.4697530865\n",
      "seed 719779.6202016778\n",
      "private_equity 73308593.02944215\n"
     ]
    }
   ],
   "source": [
    "venture = avg_funding_amount('venture')\n",
    "angel = avg_funding_amount('angel')\n",
    "seed = avg_funding_amount('seed')\n",
    "private_equity = avg_funding_amount('private_equity')\n",
    "\n",
    "print('venture' ,avg_funding_amount('venture'))\n",
    "print('angel' ,avg_funding_amount('angel'))\n",
    "print('seed' ,avg_funding_amount('seed'))\n",
    "print('private_equity' ,avg_funding_amount('private_equity'))"
   ]
  },
  {
   "cell_type": "markdown",
   "metadata": {},
   "source": [
    "#### Q5. Considering that Spark Funds wants to invest between 5 to 15 million USD per  investment round, which investment type is the most suitable for them?"
   ]
  },
  {
   "cell_type": "code",
   "execution_count": 17,
   "metadata": {},
   "outputs": [
    {
     "data": {
      "text/html": [
       "<div>\n",
       "<style>\n",
       "    .dataframe thead tr:only-child th {\n",
       "        text-align: right;\n",
       "    }\n",
       "\n",
       "    .dataframe thead th {\n",
       "        text-align: left;\n",
       "    }\n",
       "\n",
       "    .dataframe tbody tr th {\n",
       "        vertical-align: top;\n",
       "    }\n",
       "</style>\n",
       "<table border=\"1\" class=\"dataframe\">\n",
       "  <thead>\n",
       "    <tr style=\"text-align: right;\">\n",
       "      <th></th>\n",
       "      <th>raised_amount_usd</th>\n",
       "    </tr>\n",
       "    <tr>\n",
       "      <th>funding_round_type</th>\n",
       "      <th></th>\n",
       "    </tr>\n",
       "  </thead>\n",
       "  <tbody>\n",
       "    <tr>\n",
       "      <th>venture</th>\n",
       "      <td>11748949.13</td>\n",
       "    </tr>\n",
       "  </tbody>\n",
       "</table>\n",
       "</div>"
      ],
      "text/plain": [
       "                    raised_amount_usd\n",
       "funding_round_type                   \n",
       "venture                   11748949.13"
      ]
     },
     "execution_count": 17,
     "metadata": {},
     "output_type": "execute_result"
    }
   ],
   "source": [
    "# We can check from the last step that only venture funding type lies between 5 to 15 million.\n",
    "# Alternatively we can find the funding type through below code:\n",
    "## [['']] double brackets or (.reset_index()) are used to keep the dataframe , if we use [''], it will be converted into series\n",
    "most_suitable = master_frame.groupby(by='funding_round_type')[['raised_amount_usd']].mean()\n",
    "most_suitable = most_suitable[(most_suitable.raised_amount_usd >= 5000000) & (most_suitable.raised_amount_usd <= 15000000)]\n",
    "most_suitable"
   ]
  },
  {
   "cell_type": "code",
   "execution_count": 18,
   "metadata": {},
   "outputs": [
    {
     "name": "stdout",
     "output_type": "stream",
     "text": [
      "\n",
      "Number of Records:  50228\n"
     ]
    },
    {
     "data": {
      "text/html": [
       "<div>\n",
       "<style>\n",
       "    .dataframe thead tr:only-child th {\n",
       "        text-align: right;\n",
       "    }\n",
       "\n",
       "    .dataframe thead th {\n",
       "        text-align: left;\n",
       "    }\n",
       "\n",
       "    .dataframe tbody tr th {\n",
       "        vertical-align: top;\n",
       "    }\n",
       "</style>\n",
       "<table border=\"1\" class=\"dataframe\">\n",
       "  <thead>\n",
       "    <tr style=\"text-align: right;\">\n",
       "      <th></th>\n",
       "      <th>permalink</th>\n",
       "      <th>name</th>\n",
       "      <th>homepage_url</th>\n",
       "      <th>category_list</th>\n",
       "      <th>status</th>\n",
       "      <th>country_code</th>\n",
       "      <th>state_code</th>\n",
       "      <th>region</th>\n",
       "      <th>city</th>\n",
       "      <th>founded_at</th>\n",
       "      <th>company_permalink</th>\n",
       "      <th>funding_round_permalink</th>\n",
       "      <th>funding_round_type</th>\n",
       "      <th>funding_round_code</th>\n",
       "      <th>funded_at</th>\n",
       "      <th>raised_amount_usd</th>\n",
       "    </tr>\n",
       "  </thead>\n",
       "  <tbody>\n",
       "    <tr>\n",
       "      <th>0</th>\n",
       "      <td>/organization/-fame</td>\n",
       "      <td>#fame</td>\n",
       "      <td>http://livfame.com</td>\n",
       "      <td>Media</td>\n",
       "      <td>operating</td>\n",
       "      <td>IND</td>\n",
       "      <td>16</td>\n",
       "      <td>Mumbai</td>\n",
       "      <td>Mumbai</td>\n",
       "      <td>NaN</td>\n",
       "      <td>/organization/-fame</td>\n",
       "      <td>/funding-round/9a01d05418af9f794eebff7ace91f638</td>\n",
       "      <td>venture</td>\n",
       "      <td>B</td>\n",
       "      <td>05-01-2015</td>\n",
       "      <td>10000000.00</td>\n",
       "    </tr>\n",
       "    <tr>\n",
       "      <th>3</th>\n",
       "      <td>/organization/-the-one-of-them-inc-</td>\n",
       "      <td>(THE) ONE of THEM,Inc.</td>\n",
       "      <td>http://oneofthem.jp</td>\n",
       "      <td>Apps|Games|Mobile</td>\n",
       "      <td>operating</td>\n",
       "      <td>NaN</td>\n",
       "      <td>NaN</td>\n",
       "      <td>NaN</td>\n",
       "      <td>NaN</td>\n",
       "      <td>NaN</td>\n",
       "      <td>/organization/-the-one-of-them-inc-</td>\n",
       "      <td>/funding-round/650b8f704416801069bb178a1418776b</td>\n",
       "      <td>venture</td>\n",
       "      <td>B</td>\n",
       "      <td>30-01-2014</td>\n",
       "      <td>3406878.00</td>\n",
       "    </tr>\n",
       "    <tr>\n",
       "      <th>4</th>\n",
       "      <td>/organization/0-6-com</td>\n",
       "      <td>0-6.com</td>\n",
       "      <td>http://www.0-6.com</td>\n",
       "      <td>Curated Web</td>\n",
       "      <td>operating</td>\n",
       "      <td>CHN</td>\n",
       "      <td>22</td>\n",
       "      <td>Beijing</td>\n",
       "      <td>Beijing</td>\n",
       "      <td>01-01-2007</td>\n",
       "      <td>/organization/0-6-com</td>\n",
       "      <td>/funding-round/5727accaeaa57461bd22a9bdd945382d</td>\n",
       "      <td>venture</td>\n",
       "      <td>A</td>\n",
       "      <td>19-03-2008</td>\n",
       "      <td>2000000.00</td>\n",
       "    </tr>\n",
       "  </tbody>\n",
       "</table>\n",
       "</div>"
      ],
      "text/plain": [
       "                             permalink                    name  \\\n",
       "0                  /organization/-fame                   #fame   \n",
       "3  /organization/-the-one-of-them-inc-  (THE) ONE of THEM,Inc.   \n",
       "4                /organization/0-6-com                 0-6.com   \n",
       "\n",
       "          homepage_url      category_list     status country_code state_code  \\\n",
       "0   http://livfame.com              Media  operating          IND         16   \n",
       "3  http://oneofthem.jp  Apps|Games|Mobile  operating          NaN        NaN   \n",
       "4   http://www.0-6.com        Curated Web  operating          CHN         22   \n",
       "\n",
       "    region     city  founded_at                    company_permalink  \\\n",
       "0   Mumbai   Mumbai         NaN                  /organization/-fame   \n",
       "3      NaN      NaN         NaN  /organization/-the-one-of-them-inc-   \n",
       "4  Beijing  Beijing  01-01-2007                /organization/0-6-com   \n",
       "\n",
       "                           funding_round_permalink funding_round_type  \\\n",
       "0  /funding-round/9a01d05418af9f794eebff7ace91f638            venture   \n",
       "3  /funding-round/650b8f704416801069bb178a1418776b            venture   \n",
       "4  /funding-round/5727accaeaa57461bd22a9bdd945382d            venture   \n",
       "\n",
       "  funding_round_code   funded_at  raised_amount_usd  \n",
       "0                  B  05-01-2015        10000000.00  \n",
       "3                  B  30-01-2014         3406878.00  \n",
       "4                  A  19-03-2008         2000000.00  "
      ]
     },
     "execution_count": 18,
     "metadata": {},
     "output_type": "execute_result"
    }
   ],
   "source": [
    "# Filter the master_frame dataset based on the above conditions(funding_round_type)\n",
    "master_frame_filtered = master_frame[master_frame.funding_round_type == most_suitable.index[0]]\n",
    "\n",
    "print('\\nNumber of Records: ',master_frame_filtered.count()[0])\n",
    "master_frame_filtered.head(3)\n",
    "# Now master_frame_filtered contains the data where funding_round_type ='venture' & raised_amount_usd between 5 to 15 million."
   ]
  },
  {
   "cell_type": "markdown",
   "metadata": {},
   "source": [
    "## Checkpoint 3: Country Analysis\n",
    "### Table 3.1 ( Analysing the Top 3 English-Speaking Countries)"
   ]
  },
  {
   "cell_type": "code",
   "execution_count": 19,
   "metadata": {},
   "outputs": [
    {
     "data": {
      "text/plain": [
       "country_code         9\n",
       "raised_amount_usd    9\n",
       "dtype: int64"
      ]
     },
     "execution_count": 19,
     "metadata": {},
     "output_type": "execute_result"
    }
   ],
   "source": [
    "top9 = master_frame_filtered.groupby('country_code')['raised_amount_usd'].sum().sort_values(ascending=False).reset_index()[0:9]\n",
    "top9.count()"
   ]
  },
  {
   "cell_type": "code",
   "execution_count": 20,
   "metadata": {
    "collapsed": true
   },
   "outputs": [],
   "source": [
    "# Now the requirement is to fetch top 3 countries from top 9 dataframe where official language is English, we will fetch this \n",
    "# information from MySQl > world database > country & country language table. Alternatively we can check this information\n",
    "# from the pdf provided, but there we have to hardcode the information.\n",
    "# Note : To match the countries in the countrylanguage table data with pdf data, I have inserted one entry of IND with\n",
    "# official language is English.INSERT INTO COUNTRYLANGUAGE VALUES('IND','English','T',4.5)\n",
    "# installed mysql connector for python using conda install -c anaconda mysql-connector-python\n",
    "\n",
    "import mysql.connector as con\n",
    "db_connection = con.connect(host='localhost', database='world', user='root', password='mysql@123')\n",
    "query = 'select code,name from country where code in(SELECT countrycode FROM COUNTRYLANGUAGE WHERE LANGUAGE=%s AND ISOFFICIAL=%s)'\n",
    "\n",
    "#countryEN contains all the country codes where official language is English\n",
    "countryEN =  pd.read_sql(sql =query,con =db_connection,params=['English','T'])"
   ]
  },
  {
   "cell_type": "code",
   "execution_count": 21,
   "metadata": {},
   "outputs": [
    {
     "data": {
      "text/html": [
       "<div>\n",
       "<style>\n",
       "    .dataframe thead tr:only-child th {\n",
       "        text-align: right;\n",
       "    }\n",
       "\n",
       "    .dataframe thead th {\n",
       "        text-align: left;\n",
       "    }\n",
       "\n",
       "    .dataframe tbody tr th {\n",
       "        vertical-align: top;\n",
       "    }\n",
       "</style>\n",
       "<table border=\"1\" class=\"dataframe\">\n",
       "  <thead>\n",
       "    <tr style=\"text-align: right;\">\n",
       "      <th></th>\n",
       "      <th>country_code</th>\n",
       "      <th>raised_amount_usd</th>\n",
       "      <th>IsOfficialEN</th>\n",
       "    </tr>\n",
       "  </thead>\n",
       "  <tbody>\n",
       "    <tr>\n",
       "      <th>0</th>\n",
       "      <td>USA</td>\n",
       "      <td>422510842796.00</td>\n",
       "      <td>True</td>\n",
       "    </tr>\n",
       "    <tr>\n",
       "      <th>1</th>\n",
       "      <td>CHN</td>\n",
       "      <td>39835418773.00</td>\n",
       "      <td>False</td>\n",
       "    </tr>\n",
       "    <tr>\n",
       "      <th>2</th>\n",
       "      <td>GBR</td>\n",
       "      <td>20245627416.00</td>\n",
       "      <td>True</td>\n",
       "    </tr>\n",
       "    <tr>\n",
       "      <th>3</th>\n",
       "      <td>IND</td>\n",
       "      <td>14391858718.00</td>\n",
       "      <td>True</td>\n",
       "    </tr>\n",
       "    <tr>\n",
       "      <th>4</th>\n",
       "      <td>CAN</td>\n",
       "      <td>9583332317.00</td>\n",
       "      <td>True</td>\n",
       "    </tr>\n",
       "    <tr>\n",
       "      <th>5</th>\n",
       "      <td>FRA</td>\n",
       "      <td>7259536732.00</td>\n",
       "      <td>False</td>\n",
       "    </tr>\n",
       "    <tr>\n",
       "      <th>6</th>\n",
       "      <td>ISR</td>\n",
       "      <td>6907514579.00</td>\n",
       "      <td>False</td>\n",
       "    </tr>\n",
       "    <tr>\n",
       "      <th>7</th>\n",
       "      <td>DEU</td>\n",
       "      <td>6346959822.00</td>\n",
       "      <td>False</td>\n",
       "    </tr>\n",
       "    <tr>\n",
       "      <th>8</th>\n",
       "      <td>JPN</td>\n",
       "      <td>3363676611.00</td>\n",
       "      <td>False</td>\n",
       "    </tr>\n",
       "  </tbody>\n",
       "</table>\n",
       "</div>"
      ],
      "text/plain": [
       "  country_code  raised_amount_usd  IsOfficialEN\n",
       "0          USA    422510842796.00          True\n",
       "1          CHN     39835418773.00         False\n",
       "2          GBR     20245627416.00          True\n",
       "3          IND     14391858718.00          True\n",
       "4          CAN      9583332317.00          True\n",
       "5          FRA      7259536732.00         False\n",
       "6          ISR      6907514579.00         False\n",
       "7          DEU      6346959822.00         False\n",
       "8          JPN      3363676611.00         False"
      ]
     },
     "execution_count": 21,
     "metadata": {},
     "output_type": "execute_result"
    }
   ],
   "source": [
    "# Add a new column identifier, IsOfficialEN in top9 dataframe.\n",
    "top9['IsOfficialEN'] = top9.country_code.isin(countryEN['code'])\n",
    "top9"
   ]
  },
  {
   "cell_type": "markdown",
   "metadata": {},
   "source": [
    "#### Storing Data"
   ]
  },
  {
   "cell_type": "code",
   "execution_count": 22,
   "metadata": {},
   "outputs": [
    {
     "name": "stdout",
     "output_type": "stream",
     "text": [
      "File: top9.csv created at C:/Users/ankit.bhatia/Documents/GitHub/PythonScripts/data/spark_funds/outDir/\n",
      "Size of file :0.3 KB\n"
     ]
    }
   ],
   "source": [
    "# Storing top9 dataframe at user location\n",
    "writeDF(top9,'top9',outDir)"
   ]
  },
  {
   "cell_type": "markdown",
   "metadata": {},
   "source": [
    "#### Q1/2/3. Top/Second/Third English speaking country ?"
   ]
  },
  {
   "cell_type": "code",
   "execution_count": 23,
   "metadata": {},
   "outputs": [
    {
     "name": "stdout",
     "output_type": "stream",
     "text": [
      "top  USA\n",
      "second  GBR\n",
      "third  IND\n"
     ]
    }
   ],
   "source": [
    "top3 = top9[top9.IsOfficialEN].iloc[0:3,0:2].reset_index()\n",
    "top = top3.country_code[0]\n",
    "second = top3.country_code[1]\n",
    "third = top3.country_code[2]\n",
    "\n",
    "print('top ',top)\n",
    "print('second ',second)\n",
    "print('third ',third)"
   ]
  },
  {
   "cell_type": "code",
   "execution_count": 24,
   "metadata": {},
   "outputs": [
    {
     "name": "stdout",
     "output_type": "stream",
     "text": [
      "\n",
      "Number of Records:  39018\n"
     ]
    },
    {
     "data": {
      "text/html": [
       "<div>\n",
       "<style>\n",
       "    .dataframe thead tr:only-child th {\n",
       "        text-align: right;\n",
       "    }\n",
       "\n",
       "    .dataframe thead th {\n",
       "        text-align: left;\n",
       "    }\n",
       "\n",
       "    .dataframe tbody tr th {\n",
       "        vertical-align: top;\n",
       "    }\n",
       "</style>\n",
       "<table border=\"1\" class=\"dataframe\">\n",
       "  <thead>\n",
       "    <tr style=\"text-align: right;\">\n",
       "      <th></th>\n",
       "      <th>permalink</th>\n",
       "      <th>name</th>\n",
       "      <th>homepage_url</th>\n",
       "      <th>category_list</th>\n",
       "      <th>status</th>\n",
       "      <th>country_code</th>\n",
       "      <th>state_code</th>\n",
       "      <th>region</th>\n",
       "      <th>city</th>\n",
       "      <th>founded_at</th>\n",
       "      <th>company_permalink</th>\n",
       "      <th>funding_round_permalink</th>\n",
       "      <th>funding_round_type</th>\n",
       "      <th>funding_round_code</th>\n",
       "      <th>funded_at</th>\n",
       "      <th>raised_amount_usd</th>\n",
       "    </tr>\n",
       "  </thead>\n",
       "  <tbody>\n",
       "    <tr>\n",
       "      <th>0</th>\n",
       "      <td>/organization/-fame</td>\n",
       "      <td>#fame</td>\n",
       "      <td>http://livfame.com</td>\n",
       "      <td>Media</td>\n",
       "      <td>operating</td>\n",
       "      <td>IND</td>\n",
       "      <td>16</td>\n",
       "      <td>Mumbai</td>\n",
       "      <td>Mumbai</td>\n",
       "      <td>NaN</td>\n",
       "      <td>/organization/-fame</td>\n",
       "      <td>/funding-round/9a01d05418af9f794eebff7ace91f638</td>\n",
       "      <td>venture</td>\n",
       "      <td>B</td>\n",
       "      <td>05-01-2015</td>\n",
       "      <td>10000000.00</td>\n",
       "    </tr>\n",
       "    <tr>\n",
       "      <th>10</th>\n",
       "      <td>/organization/0xdata</td>\n",
       "      <td>H2O.ai</td>\n",
       "      <td>http://h2o.ai/</td>\n",
       "      <td>Analytics</td>\n",
       "      <td>operating</td>\n",
       "      <td>USA</td>\n",
       "      <td>CA</td>\n",
       "      <td>SF Bay Area</td>\n",
       "      <td>Mountain View</td>\n",
       "      <td>01-01-2011</td>\n",
       "      <td>/organization/0xdata</td>\n",
       "      <td>/funding-round/3bb2ee4a2d89251a10aaa735b1180e44</td>\n",
       "      <td>venture</td>\n",
       "      <td>B</td>\n",
       "      <td>09-11-2015</td>\n",
       "      <td>20000000.00</td>\n",
       "    </tr>\n",
       "    <tr>\n",
       "      <th>11</th>\n",
       "      <td>/organization/0xdata</td>\n",
       "      <td>H2O.ai</td>\n",
       "      <td>http://h2o.ai/</td>\n",
       "      <td>Analytics</td>\n",
       "      <td>operating</td>\n",
       "      <td>USA</td>\n",
       "      <td>CA</td>\n",
       "      <td>SF Bay Area</td>\n",
       "      <td>Mountain View</td>\n",
       "      <td>01-01-2011</td>\n",
       "      <td>/organization/0xdata</td>\n",
       "      <td>/funding-round/ae2a174c06517c2394aed45006322a7e</td>\n",
       "      <td>venture</td>\n",
       "      <td>NaN</td>\n",
       "      <td>03-01-2013</td>\n",
       "      <td>1700000.00</td>\n",
       "    </tr>\n",
       "  </tbody>\n",
       "</table>\n",
       "</div>"
      ],
      "text/plain": [
       "               permalink    name        homepage_url category_list     status  \\\n",
       "0    /organization/-fame   #fame  http://livfame.com         Media  operating   \n",
       "10  /organization/0xdata  H2O.ai      http://h2o.ai/     Analytics  operating   \n",
       "11  /organization/0xdata  H2O.ai      http://h2o.ai/     Analytics  operating   \n",
       "\n",
       "   country_code state_code       region           city  founded_at  \\\n",
       "0           IND         16       Mumbai         Mumbai         NaN   \n",
       "10          USA         CA  SF Bay Area  Mountain View  01-01-2011   \n",
       "11          USA         CA  SF Bay Area  Mountain View  01-01-2011   \n",
       "\n",
       "       company_permalink                          funding_round_permalink  \\\n",
       "0    /organization/-fame  /funding-round/9a01d05418af9f794eebff7ace91f638   \n",
       "10  /organization/0xdata  /funding-round/3bb2ee4a2d89251a10aaa735b1180e44   \n",
       "11  /organization/0xdata  /funding-round/ae2a174c06517c2394aed45006322a7e   \n",
       "\n",
       "   funding_round_type funding_round_code   funded_at  raised_amount_usd  \n",
       "0             venture                  B  05-01-2015        10000000.00  \n",
       "10            venture                  B  09-11-2015        20000000.00  \n",
       "11            venture                NaN  03-01-2013         1700000.00  "
      ]
     },
     "execution_count": 24,
     "metadata": {},
     "output_type": "execute_result"
    }
   ],
   "source": [
    "# Filter master_frame_filtered dataset based on top 3 english speaking countries\n",
    "top3_data = master_frame_filtered.loc[master_frame_filtered.country_code.isin(top3.country_code)]\n",
    "print('\\nNumber of Records: ',top3_data.count()[0])\n",
    "top3_data.head(3)"
   ]
  },
  {
   "cell_type": "markdown",
   "metadata": {},
   "source": [
    "## Checkpoint 4: Sector Analysis 1\n",
    "### Table 5.1 ( Sector-wise Investment Analysis)"
   ]
  },
  {
   "cell_type": "code",
   "execution_count": 25,
   "metadata": {},
   "outputs": [
    {
     "name": "stdout",
     "output_type": "stream",
     "text": [
      "\n",
      "Number of Records:  39018\n"
     ]
    },
    {
     "data": {
      "text/html": [
       "<div>\n",
       "<style>\n",
       "    .dataframe thead tr:only-child th {\n",
       "        text-align: right;\n",
       "    }\n",
       "\n",
       "    .dataframe thead th {\n",
       "        text-align: left;\n",
       "    }\n",
       "\n",
       "    .dataframe tbody tr th {\n",
       "        vertical-align: top;\n",
       "    }\n",
       "</style>\n",
       "<table border=\"1\" class=\"dataframe\">\n",
       "  <thead>\n",
       "    <tr style=\"text-align: right;\">\n",
       "      <th></th>\n",
       "      <th>permalink</th>\n",
       "      <th>name</th>\n",
       "      <th>homepage_url</th>\n",
       "      <th>category_list</th>\n",
       "      <th>status</th>\n",
       "      <th>country_code</th>\n",
       "      <th>state_code</th>\n",
       "      <th>region</th>\n",
       "      <th>city</th>\n",
       "      <th>founded_at</th>\n",
       "      <th>company_permalink</th>\n",
       "      <th>funding_round_permalink</th>\n",
       "      <th>funding_round_type</th>\n",
       "      <th>funding_round_code</th>\n",
       "      <th>funded_at</th>\n",
       "      <th>raised_amount_usd</th>\n",
       "      <th>primary_sector</th>\n",
       "    </tr>\n",
       "  </thead>\n",
       "  <tbody>\n",
       "    <tr>\n",
       "      <th>0</th>\n",
       "      <td>/organization/-fame</td>\n",
       "      <td>#fame</td>\n",
       "      <td>http://livfame.com</td>\n",
       "      <td>Media</td>\n",
       "      <td>operating</td>\n",
       "      <td>IND</td>\n",
       "      <td>16</td>\n",
       "      <td>Mumbai</td>\n",
       "      <td>Mumbai</td>\n",
       "      <td>NaN</td>\n",
       "      <td>/organization/-fame</td>\n",
       "      <td>/funding-round/9a01d05418af9f794eebff7ace91f638</td>\n",
       "      <td>venture</td>\n",
       "      <td>B</td>\n",
       "      <td>05-01-2015</td>\n",
       "      <td>10000000.00</td>\n",
       "      <td>Media</td>\n",
       "    </tr>\n",
       "    <tr>\n",
       "      <th>10</th>\n",
       "      <td>/organization/0xdata</td>\n",
       "      <td>H2O.ai</td>\n",
       "      <td>http://h2o.ai/</td>\n",
       "      <td>Analytics</td>\n",
       "      <td>operating</td>\n",
       "      <td>USA</td>\n",
       "      <td>CA</td>\n",
       "      <td>SF Bay Area</td>\n",
       "      <td>Mountain View</td>\n",
       "      <td>01-01-2011</td>\n",
       "      <td>/organization/0xdata</td>\n",
       "      <td>/funding-round/3bb2ee4a2d89251a10aaa735b1180e44</td>\n",
       "      <td>venture</td>\n",
       "      <td>B</td>\n",
       "      <td>09-11-2015</td>\n",
       "      <td>20000000.00</td>\n",
       "      <td>Analytics</td>\n",
       "    </tr>\n",
       "    <tr>\n",
       "      <th>11</th>\n",
       "      <td>/organization/0xdata</td>\n",
       "      <td>H2O.ai</td>\n",
       "      <td>http://h2o.ai/</td>\n",
       "      <td>Analytics</td>\n",
       "      <td>operating</td>\n",
       "      <td>USA</td>\n",
       "      <td>CA</td>\n",
       "      <td>SF Bay Area</td>\n",
       "      <td>Mountain View</td>\n",
       "      <td>01-01-2011</td>\n",
       "      <td>/organization/0xdata</td>\n",
       "      <td>/funding-round/ae2a174c06517c2394aed45006322a7e</td>\n",
       "      <td>venture</td>\n",
       "      <td>NaN</td>\n",
       "      <td>03-01-2013</td>\n",
       "      <td>1700000.00</td>\n",
       "      <td>Analytics</td>\n",
       "    </tr>\n",
       "  </tbody>\n",
       "</table>\n",
       "</div>"
      ],
      "text/plain": [
       "               permalink    name        homepage_url category_list     status  \\\n",
       "0    /organization/-fame   #fame  http://livfame.com         Media  operating   \n",
       "10  /organization/0xdata  H2O.ai      http://h2o.ai/     Analytics  operating   \n",
       "11  /organization/0xdata  H2O.ai      http://h2o.ai/     Analytics  operating   \n",
       "\n",
       "   country_code state_code       region           city  founded_at  \\\n",
       "0           IND         16       Mumbai         Mumbai         NaN   \n",
       "10          USA         CA  SF Bay Area  Mountain View  01-01-2011   \n",
       "11          USA         CA  SF Bay Area  Mountain View  01-01-2011   \n",
       "\n",
       "       company_permalink                          funding_round_permalink  \\\n",
       "0    /organization/-fame  /funding-round/9a01d05418af9f794eebff7ace91f638   \n",
       "10  /organization/0xdata  /funding-round/3bb2ee4a2d89251a10aaa735b1180e44   \n",
       "11  /organization/0xdata  /funding-round/ae2a174c06517c2394aed45006322a7e   \n",
       "\n",
       "   funding_round_type funding_round_code   funded_at  raised_amount_usd  \\\n",
       "0             venture                  B  05-01-2015        10000000.00   \n",
       "10            venture                  B  09-11-2015        20000000.00   \n",
       "11            venture                NaN  03-01-2013         1700000.00   \n",
       "\n",
       "   primary_sector  \n",
       "0           Media  \n",
       "10      Analytics  \n",
       "11      Analytics  "
      ]
     },
     "execution_count": 25,
     "metadata": {},
     "output_type": "execute_result"
    }
   ],
   "source": [
    "# first string before the | will be considered the primary sector.\n",
    "# Add the new column in master_frame_filtered dataframe named as 'primary_sector'\n",
    "top3_data['primary_sector'] = top3_data['category_list'].str.split('|').str.get(0)\n",
    "\n",
    "print('\\nNumber of Records: ',top3_data.count()[0])\n",
    "top3_data.head(3)"
   ]
  },
  {
   "cell_type": "code",
   "execution_count": 26,
   "metadata": {},
   "outputs": [
    {
     "name": "stdout",
     "output_type": "stream",
     "text": [
      "\n",
      "Number of Records:  688\n"
     ]
    },
    {
     "data": {
      "text/html": [
       "<div>\n",
       "<style>\n",
       "    .dataframe thead tr:only-child th {\n",
       "        text-align: right;\n",
       "    }\n",
       "\n",
       "    .dataframe thead th {\n",
       "        text-align: left;\n",
       "    }\n",
       "\n",
       "    .dataframe tbody tr th {\n",
       "        vertical-align: top;\n",
       "    }\n",
       "</style>\n",
       "<table border=\"1\" class=\"dataframe\">\n",
       "  <thead>\n",
       "    <tr style=\"text-align: right;\">\n",
       "      <th></th>\n",
       "      <th>category_list</th>\n",
       "      <th>Automotive &amp; Sports</th>\n",
       "      <th>Blanks</th>\n",
       "      <th>Cleantech / Semiconductors</th>\n",
       "      <th>Entertainment</th>\n",
       "      <th>Health</th>\n",
       "      <th>Manufacturing</th>\n",
       "      <th>News, Search and Messaging</th>\n",
       "      <th>Others</th>\n",
       "      <th>Social, Finance, Analytics, Advertising</th>\n",
       "    </tr>\n",
       "  </thead>\n",
       "  <tbody>\n",
       "    <tr>\n",
       "      <th>0</th>\n",
       "      <td>NaN</td>\n",
       "      <td>0</td>\n",
       "      <td>1</td>\n",
       "      <td>0</td>\n",
       "      <td>0</td>\n",
       "      <td>0</td>\n",
       "      <td>0</td>\n",
       "      <td>0</td>\n",
       "      <td>0</td>\n",
       "      <td>0</td>\n",
       "    </tr>\n",
       "    <tr>\n",
       "      <th>1</th>\n",
       "      <td>3D</td>\n",
       "      <td>0</td>\n",
       "      <td>0</td>\n",
       "      <td>0</td>\n",
       "      <td>0</td>\n",
       "      <td>0</td>\n",
       "      <td>1</td>\n",
       "      <td>0</td>\n",
       "      <td>0</td>\n",
       "      <td>0</td>\n",
       "    </tr>\n",
       "    <tr>\n",
       "      <th>2</th>\n",
       "      <td>3D Printing</td>\n",
       "      <td>0</td>\n",
       "      <td>0</td>\n",
       "      <td>0</td>\n",
       "      <td>0</td>\n",
       "      <td>0</td>\n",
       "      <td>1</td>\n",
       "      <td>0</td>\n",
       "      <td>0</td>\n",
       "      <td>0</td>\n",
       "    </tr>\n",
       "    <tr>\n",
       "      <th>3</th>\n",
       "      <td>3D Technology</td>\n",
       "      <td>0</td>\n",
       "      <td>0</td>\n",
       "      <td>0</td>\n",
       "      <td>0</td>\n",
       "      <td>0</td>\n",
       "      <td>1</td>\n",
       "      <td>0</td>\n",
       "      <td>0</td>\n",
       "      <td>0</td>\n",
       "    </tr>\n",
       "    <tr>\n",
       "      <th>4</th>\n",
       "      <td>Accounting</td>\n",
       "      <td>0</td>\n",
       "      <td>0</td>\n",
       "      <td>0</td>\n",
       "      <td>0</td>\n",
       "      <td>0</td>\n",
       "      <td>0</td>\n",
       "      <td>0</td>\n",
       "      <td>0</td>\n",
       "      <td>1</td>\n",
       "    </tr>\n",
       "  </tbody>\n",
       "</table>\n",
       "</div>"
      ],
      "text/plain": [
       "   category_list  Automotive & Sports  Blanks  Cleantech / Semiconductors  \\\n",
       "0            NaN                    0       1                           0   \n",
       "1             3D                    0       0                           0   \n",
       "2    3D Printing                    0       0                           0   \n",
       "3  3D Technology                    0       0                           0   \n",
       "4     Accounting                    0       0                           0   \n",
       "\n",
       "   Entertainment  Health  Manufacturing  News, Search and Messaging  Others  \\\n",
       "0              0       0              0                           0       0   \n",
       "1              0       0              1                           0       0   \n",
       "2              0       0              1                           0       0   \n",
       "3              0       0              1                           0       0   \n",
       "4              0       0              0                           0       0   \n",
       "\n",
       "   Social, Finance, Analytics, Advertising  \n",
       "0                                        0  \n",
       "1                                        0  \n",
       "2                                        0  \n",
       "3                                        0  \n",
       "4                                        1  "
      ]
     },
     "execution_count": 26,
     "metadata": {},
     "output_type": "execute_result"
    }
   ],
   "source": [
    "mapping =  pd.read_csv(inputDir+file3,encoding='iso-8859-1') # Use 'iso-8859-1' for accented characters\n",
    "print('\\nNumber of Records: ',mapping.shape[0]) # shape includes NA\n",
    "\n",
    "# There are multiple records in the dataset column category_list where 'na' is replaced by 0, so we have to replace 0 with na,\n",
    "# we have to make sure if data contains 2.0 or v3.0 we should not replace it.\n",
    "# '.*' is for zero or more occurances before 0, '.+ is for one or more occurance after 0.\n",
    "\n",
    "regex = (mapping.category_list.str.contains('[.*0]')==True) &  (mapping.category_list.str.endswith('0')==False)\n",
    "mapping_cleaned = mapping.copy()\n",
    "mapping_cleaned.loc[regex,'category_list'] = mapping_cleaned.loc[regex,'category_list'].replace('0','na',regex=True)\n",
    "mapping_cleaned.head()"
   ]
  },
  {
   "cell_type": "markdown",
   "metadata": {},
   "source": [
    "#### Define Function"
   ]
  },
  {
   "cell_type": "code",
   "execution_count": 27,
   "metadata": {
    "collapsed": true
   },
   "outputs": [],
   "source": [
    "# Defining function demap, which will convert data in mapping dataframe above to two columns output.\n",
    "def demap(df,outColName):\n",
    "    l = list()\n",
    "    c = int(df.count().sort_values(ascending=False)[0])\n",
    "    for i in range(c):\n",
    "        for col_name in df.columns:\n",
    "            if df[col_name][i]==1:\n",
    "               l.append(col_name)\n",
    "    df2 = df.copy()\n",
    "    df2[outColName] = l\n",
    "    return df2.iloc[:,[0,-1]]"
   ]
  },
  {
   "cell_type": "code",
   "execution_count": 28,
   "metadata": {},
   "outputs": [
    {
     "name": "stdout",
     "output_type": "stream",
     "text": [
      "\n",
      "Number of Records:  687\n"
     ]
    },
    {
     "data": {
      "text/html": [
       "<div>\n",
       "<style>\n",
       "    .dataframe thead tr:only-child th {\n",
       "        text-align: right;\n",
       "    }\n",
       "\n",
       "    .dataframe thead th {\n",
       "        text-align: left;\n",
       "    }\n",
       "\n",
       "    .dataframe tbody tr th {\n",
       "        vertical-align: top;\n",
       "    }\n",
       "</style>\n",
       "<table border=\"1\" class=\"dataframe\">\n",
       "  <thead>\n",
       "    <tr style=\"text-align: right;\">\n",
       "      <th></th>\n",
       "      <th>category_list</th>\n",
       "      <th>main_sector</th>\n",
       "    </tr>\n",
       "  </thead>\n",
       "  <tbody>\n",
       "    <tr>\n",
       "      <th>0</th>\n",
       "      <td>NaN</td>\n",
       "      <td>Blanks</td>\n",
       "    </tr>\n",
       "    <tr>\n",
       "      <th>1</th>\n",
       "      <td>3D</td>\n",
       "      <td>Manufacturing</td>\n",
       "    </tr>\n",
       "    <tr>\n",
       "      <th>2</th>\n",
       "      <td>3D Printing</td>\n",
       "      <td>Manufacturing</td>\n",
       "    </tr>\n",
       "    <tr>\n",
       "      <th>3</th>\n",
       "      <td>3D Technology</td>\n",
       "      <td>Manufacturing</td>\n",
       "    </tr>\n",
       "    <tr>\n",
       "      <th>4</th>\n",
       "      <td>Accounting</td>\n",
       "      <td>Social, Finance, Analytics, Advertising</td>\n",
       "    </tr>\n",
       "  </tbody>\n",
       "</table>\n",
       "</div>"
      ],
      "text/plain": [
       "   category_list                              main_sector\n",
       "0            NaN                                   Blanks\n",
       "1             3D                            Manufacturing\n",
       "2    3D Printing                            Manufacturing\n",
       "3  3D Technology                            Manufacturing\n",
       "4     Accounting  Social, Finance, Analytics, Advertising"
      ]
     },
     "execution_count": 28,
     "metadata": {},
     "output_type": "execute_result"
    }
   ],
   "source": [
    "mapping_new = demap(mapping_cleaned,'main_sector')\n",
    "print('\\nNumber of Records: ',mapping_new.count()[0])\n",
    "mapping_new.head()"
   ]
  },
  {
   "cell_type": "code",
   "execution_count": 29,
   "metadata": {
    "collapsed": true
   },
   "outputs": [],
   "source": [
    "top3_data_sector_wise = pd.merge(left=top3_data, right=mapping_new,left_on='primary_sector',right_on='category_list')\n",
    "# Drop unnecessary columns\n",
    "top3_data_sector_wise.drop(labels=['category_list_x', 'category_list_y'],axis=1, inplace=True)"
   ]
  },
  {
   "cell_type": "code",
   "execution_count": 30,
   "metadata": {},
   "outputs": [
    {
     "name": "stdout",
     "output_type": "stream",
     "text": [
      "\n",
      "Number of Records:  38857\n"
     ]
    },
    {
     "data": {
      "text/html": [
       "<div>\n",
       "<style>\n",
       "    .dataframe thead tr:only-child th {\n",
       "        text-align: right;\n",
       "    }\n",
       "\n",
       "    .dataframe thead th {\n",
       "        text-align: left;\n",
       "    }\n",
       "\n",
       "    .dataframe tbody tr th {\n",
       "        vertical-align: top;\n",
       "    }\n",
       "</style>\n",
       "<table border=\"1\" class=\"dataframe\">\n",
       "  <thead>\n",
       "    <tr style=\"text-align: right;\">\n",
       "      <th></th>\n",
       "      <th>permalink</th>\n",
       "      <th>name</th>\n",
       "      <th>homepage_url</th>\n",
       "      <th>status</th>\n",
       "      <th>country_code</th>\n",
       "      <th>state_code</th>\n",
       "      <th>region</th>\n",
       "      <th>city</th>\n",
       "      <th>founded_at</th>\n",
       "      <th>company_permalink</th>\n",
       "      <th>funding_round_permalink</th>\n",
       "      <th>funding_round_type</th>\n",
       "      <th>funding_round_code</th>\n",
       "      <th>funded_at</th>\n",
       "      <th>raised_amount_usd</th>\n",
       "      <th>primary_sector</th>\n",
       "      <th>main_sector</th>\n",
       "    </tr>\n",
       "  </thead>\n",
       "  <tbody>\n",
       "    <tr>\n",
       "      <th>0</th>\n",
       "      <td>/organization/-fame</td>\n",
       "      <td>#fame</td>\n",
       "      <td>http://livfame.com</td>\n",
       "      <td>operating</td>\n",
       "      <td>IND</td>\n",
       "      <td>16</td>\n",
       "      <td>Mumbai</td>\n",
       "      <td>Mumbai</td>\n",
       "      <td>NaN</td>\n",
       "      <td>/organization/-fame</td>\n",
       "      <td>/funding-round/9a01d05418af9f794eebff7ace91f638</td>\n",
       "      <td>venture</td>\n",
       "      <td>B</td>\n",
       "      <td>05-01-2015</td>\n",
       "      <td>10000000.00</td>\n",
       "      <td>Media</td>\n",
       "      <td>Entertainment</td>\n",
       "    </tr>\n",
       "    <tr>\n",
       "      <th>1</th>\n",
       "      <td>/organization/90min</td>\n",
       "      <td>90min</td>\n",
       "      <td>http://www.90min.com</td>\n",
       "      <td>operating</td>\n",
       "      <td>GBR</td>\n",
       "      <td>H9</td>\n",
       "      <td>London</td>\n",
       "      <td>London</td>\n",
       "      <td>01-01-2011</td>\n",
       "      <td>/organization/90min</td>\n",
       "      <td>/funding-round/21a2cbf6f2fb2a1c2a61e04bf930dfe6</td>\n",
       "      <td>venture</td>\n",
       "      <td>NaN</td>\n",
       "      <td>06-10-2015</td>\n",
       "      <td>15000000.00</td>\n",
       "      <td>Media</td>\n",
       "      <td>Entertainment</td>\n",
       "    </tr>\n",
       "    <tr>\n",
       "      <th>2</th>\n",
       "      <td>/organization/90min</td>\n",
       "      <td>90min</td>\n",
       "      <td>http://www.90min.com</td>\n",
       "      <td>operating</td>\n",
       "      <td>GBR</td>\n",
       "      <td>H9</td>\n",
       "      <td>London</td>\n",
       "      <td>London</td>\n",
       "      <td>01-01-2011</td>\n",
       "      <td>/organization/90min</td>\n",
       "      <td>/funding-round/bd626ed022f5c66574b1afe234f3c90d</td>\n",
       "      <td>venture</td>\n",
       "      <td>NaN</td>\n",
       "      <td>07-05-2013</td>\n",
       "      <td>5800000.00</td>\n",
       "      <td>Media</td>\n",
       "      <td>Entertainment</td>\n",
       "    </tr>\n",
       "  </tbody>\n",
       "</table>\n",
       "</div>"
      ],
      "text/plain": [
       "             permalink   name          homepage_url     status country_code  \\\n",
       "0  /organization/-fame  #fame    http://livfame.com  operating          IND   \n",
       "1  /organization/90min  90min  http://www.90min.com  operating          GBR   \n",
       "2  /organization/90min  90min  http://www.90min.com  operating          GBR   \n",
       "\n",
       "  state_code  region    city  founded_at    company_permalink  \\\n",
       "0         16  Mumbai  Mumbai         NaN  /organization/-fame   \n",
       "1         H9  London  London  01-01-2011  /organization/90min   \n",
       "2         H9  London  London  01-01-2011  /organization/90min   \n",
       "\n",
       "                           funding_round_permalink funding_round_type  \\\n",
       "0  /funding-round/9a01d05418af9f794eebff7ace91f638            venture   \n",
       "1  /funding-round/21a2cbf6f2fb2a1c2a61e04bf930dfe6            venture   \n",
       "2  /funding-round/bd626ed022f5c66574b1afe234f3c90d            venture   \n",
       "\n",
       "  funding_round_code   funded_at  raised_amount_usd primary_sector  \\\n",
       "0                  B  05-01-2015        10000000.00          Media   \n",
       "1                NaN  06-10-2015        15000000.00          Media   \n",
       "2                NaN  07-05-2013         5800000.00          Media   \n",
       "\n",
       "     main_sector  \n",
       "0  Entertainment  \n",
       "1  Entertainment  \n",
       "2  Entertainment  "
      ]
     },
     "execution_count": 30,
     "metadata": {},
     "output_type": "execute_result"
    }
   ],
   "source": [
    "print('\\nNumber of Records: ',top3_data_sector_wise.count()[0])\n",
    "top3_data_sector_wise.head(3)"
   ]
  },
  {
   "cell_type": "markdown",
   "metadata": {},
   "source": [
    "#### Storing Data"
   ]
  },
  {
   "cell_type": "code",
   "execution_count": 31,
   "metadata": {},
   "outputs": [
    {
     "name": "stdout",
     "output_type": "stream",
     "text": [
      "File: top3_data_sector_wise.csv created at C:/Users/ankit.bhatia/Documents/GitHub/PythonScripts/data/spark_funds/outDir/\n",
      "Size of file :10044.0 KB\n"
     ]
    }
   ],
   "source": [
    "# Storing master_frame_sector_wise dataframe at user location\n",
    "# master_frame_sector_wise :: Contains the data for top3 english speaking countries where a particular funding type falling \n",
    "#within the 5-15 million USD range.\n",
    "\n",
    "writeDF(top3_data_sector_wise,'top3_data_sector_wise',outDir)"
   ]
  },
  {
   "cell_type": "markdown",
   "metadata": {},
   "source": [
    "## Checkpoint 5: Sector Analysis 2"
   ]
  },
  {
   "cell_type": "markdown",
   "metadata": {},
   "source": [
    "Created three separate data frames D1, D2 and D3 for each of the three english countries containing the observations of funding type falling within the 5-15 million USD range.\n",
    "The three data frames should contain:\n",
    "1. All the columns of the master_frame along with the primary sector and the main sector\n",
    "2. The total number (or count) of investments for each main sector in a separate column\n",
    "3. The total amount invested in each main sector in a separate column"
   ]
  },
  {
   "cell_type": "code",
   "execution_count": 32,
   "metadata": {},
   "outputs": [
    {
     "data": {
      "text/html": [
       "<div>\n",
       "<style>\n",
       "    .dataframe thead tr:only-child th {\n",
       "        text-align: right;\n",
       "    }\n",
       "\n",
       "    .dataframe thead th {\n",
       "        text-align: left;\n",
       "    }\n",
       "\n",
       "    .dataframe tbody tr th {\n",
       "        vertical-align: top;\n",
       "    }\n",
       "</style>\n",
       "<table border=\"1\" class=\"dataframe\">\n",
       "  <thead>\n",
       "    <tr style=\"text-align: right;\">\n",
       "      <th></th>\n",
       "      <th>permalink</th>\n",
       "      <th>name</th>\n",
       "      <th>homepage_url</th>\n",
       "      <th>status</th>\n",
       "      <th>country_code</th>\n",
       "      <th>state_code</th>\n",
       "      <th>region</th>\n",
       "      <th>city</th>\n",
       "      <th>founded_at</th>\n",
       "      <th>company_permalink</th>\n",
       "      <th>funding_round_permalink</th>\n",
       "      <th>funding_round_type</th>\n",
       "      <th>funding_round_code</th>\n",
       "      <th>funded_at</th>\n",
       "      <th>raised_amount_usd</th>\n",
       "      <th>primary_sector</th>\n",
       "      <th>main_sector</th>\n",
       "    </tr>\n",
       "  </thead>\n",
       "  <tbody>\n",
       "    <tr>\n",
       "      <th>4</th>\n",
       "      <td>/organization/all-def-digital</td>\n",
       "      <td>All Def Digital</td>\n",
       "      <td>http://alldefdigital.com</td>\n",
       "      <td>operating</td>\n",
       "      <td>USA</td>\n",
       "      <td>CA</td>\n",
       "      <td>Los Angeles</td>\n",
       "      <td>Los Angeles</td>\n",
       "      <td>NaN</td>\n",
       "      <td>/organization/all-def-digital</td>\n",
       "      <td>/funding-round/452a2342fe720285c3b92e9bd927d9ba</td>\n",
       "      <td>venture</td>\n",
       "      <td>A</td>\n",
       "      <td>06-08-2014</td>\n",
       "      <td>5000000.00</td>\n",
       "      <td>Media</td>\n",
       "      <td>Entertainment</td>\n",
       "    </tr>\n",
       "    <tr>\n",
       "      <th>5</th>\n",
       "      <td>/organization/audiosocket</td>\n",
       "      <td>Audiosocket</td>\n",
       "      <td>http://audiosocket.com</td>\n",
       "      <td>operating</td>\n",
       "      <td>USA</td>\n",
       "      <td>WA</td>\n",
       "      <td>Seattle</td>\n",
       "      <td>Seattle</td>\n",
       "      <td>01-05-2008</td>\n",
       "      <td>/organization/audiosocket</td>\n",
       "      <td>/funding-round/0959f59e3a89bc8db8c6ed9c646349fd</td>\n",
       "      <td>venture</td>\n",
       "      <td>NaN</td>\n",
       "      <td>02-05-2013</td>\n",
       "      <td>650000.00</td>\n",
       "      <td>Media</td>\n",
       "      <td>Entertainment</td>\n",
       "    </tr>\n",
       "    <tr>\n",
       "      <th>6</th>\n",
       "      <td>/organization/audiosocket</td>\n",
       "      <td>Audiosocket</td>\n",
       "      <td>http://audiosocket.com</td>\n",
       "      <td>operating</td>\n",
       "      <td>USA</td>\n",
       "      <td>WA</td>\n",
       "      <td>Seattle</td>\n",
       "      <td>Seattle</td>\n",
       "      <td>01-05-2008</td>\n",
       "      <td>/organization/audiosocket</td>\n",
       "      <td>/funding-round/4e3a53eec6c609943df752206070b23f</td>\n",
       "      <td>venture</td>\n",
       "      <td>A</td>\n",
       "      <td>02-09-2009</td>\n",
       "      <td>750000.00</td>\n",
       "      <td>Media</td>\n",
       "      <td>Entertainment</td>\n",
       "    </tr>\n",
       "  </tbody>\n",
       "</table>\n",
       "</div>"
      ],
      "text/plain": [
       "                       permalink             name              homepage_url  \\\n",
       "4  /organization/all-def-digital  All Def Digital  http://alldefdigital.com   \n",
       "5      /organization/audiosocket      Audiosocket    http://audiosocket.com   \n",
       "6      /organization/audiosocket      Audiosocket    http://audiosocket.com   \n",
       "\n",
       "      status country_code state_code       region         city  founded_at  \\\n",
       "4  operating          USA         CA  Los Angeles  Los Angeles         NaN   \n",
       "5  operating          USA         WA      Seattle      Seattle  01-05-2008   \n",
       "6  operating          USA         WA      Seattle      Seattle  01-05-2008   \n",
       "\n",
       "               company_permalink  \\\n",
       "4  /organization/all-def-digital   \n",
       "5      /organization/audiosocket   \n",
       "6      /organization/audiosocket   \n",
       "\n",
       "                           funding_round_permalink funding_round_type  \\\n",
       "4  /funding-round/452a2342fe720285c3b92e9bd927d9ba            venture   \n",
       "5  /funding-round/0959f59e3a89bc8db8c6ed9c646349fd            venture   \n",
       "6  /funding-round/4e3a53eec6c609943df752206070b23f            venture   \n",
       "\n",
       "  funding_round_code   funded_at  raised_amount_usd primary_sector  \\\n",
       "4                  A  06-08-2014         5000000.00          Media   \n",
       "5                NaN  02-05-2013          650000.00          Media   \n",
       "6                  A  02-09-2009          750000.00          Media   \n",
       "\n",
       "     main_sector  \n",
       "4  Entertainment  \n",
       "5  Entertainment  \n",
       "6  Entertainment  "
      ]
     },
     "execution_count": 32,
     "metadata": {},
     "output_type": "execute_result"
    }
   ],
   "source": [
    "#USA\n",
    "D1 = top3_data_sector_wise[top3_data_sector_wise['country_code']==top]\n",
    "\n",
    "#GBR\n",
    "D2 = top3_data_sector_wise[top3_data_sector_wise['country_code']==second]\n",
    "\n",
    "#IND\n",
    "D3 = top3_data_sector_wise[top3_data_sector_wise['country_code']==third]\n",
    "\n",
    "D1.head(3)"
   ]
  },
  {
   "cell_type": "markdown",
   "metadata": {
    "collapsed": true
   },
   "source": [
    "#### Q1. Total number of Investments (count)"
   ]
  },
  {
   "cell_type": "code",
   "execution_count": 33,
   "metadata": {},
   "outputs": [
    {
     "name": "stdout",
     "output_type": "stream",
     "text": [
      "35984\n",
      "2049\n",
      "824\n"
     ]
    }
   ],
   "source": [
    "print(D1.count()[0])\n",
    "print(D2.count()[0])\n",
    "print(D3.count()[0])"
   ]
  },
  {
   "cell_type": "markdown",
   "metadata": {},
   "source": [
    " #### Q2. Total amount of investment (USD)"
   ]
  },
  {
   "cell_type": "code",
   "execution_count": 34,
   "metadata": {},
   "outputs": [
    {
     "name": "stdout",
     "output_type": "stream",
     "text": [
      "421038036896.0\n",
      "20156617818.0\n",
      "14391858718.0\n"
     ]
    }
   ],
   "source": [
    "print(D1.raised_amount_usd.sum())\n",
    "print(D2.raised_amount_usd.sum())\n",
    "print(D3.raised_amount_usd.sum())"
   ]
  },
  {
   "cell_type": "code",
   "execution_count": 35,
   "metadata": {
    "collapsed": true
   },
   "outputs": [],
   "source": [
    "# Define function to get top sectors count and name\n",
    "def getSector(dataset,n,identifier):\n",
    "    # dataset     :: datframe\n",
    "    # n           :: n represents nth order, 0 for top, 1 for second top and so on.\n",
    "    # identifier  :: identifier = 'count' to get the count, identifier = 'name' to get the sector name.\n",
    "    if identifier == 'name':\n",
    "        return (dataset.groupby(by='main_sector')['main_sector'].count().sort_values(ascending=False).index[n])\n",
    "    elif identifier == 'count':\n",
    "        return (dataset.groupby(by='main_sector')['main_sector'].count().sort_values(ascending=False)[n])"
   ]
  },
  {
   "cell_type": "markdown",
   "metadata": {},
   "source": [
    "#### Q3. Top sector (based on count of investments)"
   ]
  },
  {
   "cell_type": "code",
   "execution_count": 36,
   "metadata": {},
   "outputs": [
    {
     "name": "stdout",
     "output_type": "stream",
     "text": [
      "D1_sec0_name :  Others \n",
      "D2_sec0_name :  Others \n",
      "D3_sec0_name :  Others\n"
     ]
    }
   ],
   "source": [
    "D1_sec0_name = getSector(dataset=D1,n=0,identifier='name')\n",
    "D2_sec0_name = getSector(D2,0,'name')\n",
    "D3_sec0_name = getSector(D3,0,'name')\n",
    "\n",
    "print('D1_sec0_name : ',D1_sec0_name,'\\nD2_sec0_name : ',D2_sec0_name,'\\nD3_sec0_name : ',D3_sec0_name)"
   ]
  },
  {
   "cell_type": "markdown",
   "metadata": {},
   "source": [
    "#### Q4. Second-best sector (based on count of investments)"
   ]
  },
  {
   "cell_type": "code",
   "execution_count": 37,
   "metadata": {},
   "outputs": [
    {
     "name": "stdout",
     "output_type": "stream",
     "text": [
      "D1_sec1_name :  Cleantech / Semiconductors \n",
      "D2_sec1_name :  Cleantech / Semiconductors \n",
      "D3_sec1_name :  Social, Finance, Analytics, Advertising\n"
     ]
    }
   ],
   "source": [
    "D1_sec1_name = getSector(D1,1,'name')\n",
    "D2_sec1_name = getSector(D2,1,'name')\n",
    "D3_sec1_name = getSector(D3,1,'name')\n",
    "\n",
    "print('D1_sec1_name : ',D1_sec1_name,'\\nD2_sec1_name : ',D2_sec1_name,'\\nD3_sec1_name : ',D3_sec1_name)"
   ]
  },
  {
   "cell_type": "markdown",
   "metadata": {},
   "source": [
    "#### Q5. Third-best sector (based on count of investments)"
   ]
  },
  {
   "cell_type": "code",
   "execution_count": 38,
   "metadata": {},
   "outputs": [
    {
     "name": "stdout",
     "output_type": "stream",
     "text": [
      "D1_sec2_name :  Social, Finance, Analytics, Advertising \n",
      "D2_sec2_name :  Social, Finance, Analytics, Advertising \n",
      "D3_sec2_name :  News, Search and Messaging\n"
     ]
    }
   ],
   "source": [
    "D1_sec2_name = getSector(D1,2,'name')\n",
    "D2_sec2_name = getSector(D2,2,'name')\n",
    "D3_sec2_name = getSector(D3,2,'name')\n",
    "\n",
    "print('D1_sec2_name : ',D1_sec2_name,'\\nD2_sec2_name : ',D2_sec2_name,'\\nD3_sec2_name : ',D3_sec2_name)"
   ]
  },
  {
   "cell_type": "markdown",
   "metadata": {},
   "source": [
    "#### Q6. Number of investments in the top sector (refer to point 3)"
   ]
  },
  {
   "cell_type": "code",
   "execution_count": 39,
   "metadata": {},
   "outputs": [
    {
     "name": "stdout",
     "output_type": "stream",
     "text": [
      "D1_sec0_count :  8314 \n",
      "D2_sec0_count :  516 \n",
      "D3_sec0_count :  284\n"
     ]
    }
   ],
   "source": [
    "D1_sec0_count = getSector(D1,0,'count')\n",
    "D2_sec0_count = getSector(D2,0,'count')\n",
    "D3_sec0_count = getSector(D3,0,'count')\n",
    "\n",
    "print('D1_sec0_count : ',D1_sec0_count,'\\nD2_sec0_count : ',D2_sec0_count,'\\nD3_sec0_count : ',D3_sec0_count)"
   ]
  },
  {
   "cell_type": "markdown",
   "metadata": {},
   "source": [
    "#### Q7. Number of investments in the second-best sector (refer to point 4)"
   ]
  },
  {
   "cell_type": "code",
   "execution_count": 40,
   "metadata": {},
   "outputs": [
    {
     "name": "stdout",
     "output_type": "stream",
     "text": [
      "D1_sec1_count :  7857 \n",
      "D2_sec1_count :  437 \n",
      "D3_sec1_count :  147\n"
     ]
    }
   ],
   "source": [
    "D1_sec1_count = getSector(D1,1,'count')\n",
    "D2_sec1_count = getSector(D2,1,'count')\n",
    "D3_sec1_count = getSector(D3,1,'count')\n",
    "\n",
    "print('D1_sec1_count : ',D1_sec1_count,'\\nD2_sec1_count : ',D2_sec1_count,'\\nD3_sec1_count : ',D3_sec1_count)"
   ]
  },
  {
   "cell_type": "markdown",
   "metadata": {},
   "source": [
    "#### Q8. Number of investments in the third-best sector (refer to point 5)"
   ]
  },
  {
   "cell_type": "code",
   "execution_count": 41,
   "metadata": {},
   "outputs": [
    {
     "name": "stdout",
     "output_type": "stream",
     "text": [
      "D1_sec2_count :  7246 \n",
      "D2_sec2_count :  421 \n",
      "D3_sec2_count :  130\n"
     ]
    }
   ],
   "source": [
    "D1_sec2_count = getSector(D1,2,'count')\n",
    "D2_sec2_count = getSector(D2,2,'count')\n",
    "D3_sec2_count = getSector(D3,2,'count')\n",
    "\n",
    "print('D1_sec2_count : ',D1_sec2_count,'\\nD2_sec2_count : ',D2_sec2_count,'\\nD3_sec2_count : ',D3_sec2_count)"
   ]
  },
  {
   "cell_type": "markdown",
   "metadata": {},
   "source": [
    "#### Q9. For the top sector count-wise (point 3), which company received the highest investment?"
   ]
  },
  {
   "cell_type": "code",
   "execution_count": 42,
   "metadata": {},
   "outputs": [
    {
     "name": "stdout",
     "output_type": "stream",
     "text": [
      "D1_com0_invt :  SoFi \n",
      "D2_com0_invt :  OneWeb \n",
      "D3_com0_invt :  Flipkart\n"
     ]
    }
   ],
   "source": [
    "# Filter dataframes by top-sector names(Q3), then group by company name and sum the raised_amount_usd, then fetch highest value\n",
    "D1_com0_invt = D1[D1.main_sector == D1_sec0_name].groupby(by='name')['raised_amount_usd'].sum().sort_values(ascending=False).index[0]\n",
    "D2_com0_invt = D2[D2.main_sector == D2_sec0_name].groupby(by='name')['raised_amount_usd'].sum().sort_values(ascending=False).index[0]\n",
    "D3_com0_invt = D3[D3.main_sector == D3_sec0_name].groupby(by='name')['raised_amount_usd'].sum().sort_values(ascending=False).index[0]\n",
    "\n",
    "print('D1_com0_invt : ',D1_com0_invt,'\\nD2_com0_invt : ',D2_com0_invt,'\\nD3_com0_invt : ',D3_com0_invt)"
   ]
  },
  {
   "cell_type": "markdown",
   "metadata": {},
   "source": [
    "#### Q10. For the second-best sector count-wise (point 4), which company received the highest investment?"
   ]
  },
  {
   "cell_type": "code",
   "execution_count": 43,
   "metadata": {},
   "outputs": [
    {
     "name": "stdout",
     "output_type": "stream",
     "text": [
      "D1_com1_invt :  Juno Therapeutics \n",
      "D2_com1_invt :  ReNeuron Group \n",
      "D3_com1_invt :  LYCOS Internet Limited\n"
     ]
    }
   ],
   "source": [
    "D1_com1_invt = D1[D1.main_sector == D1_sec1_name].groupby(by='name')['raised_amount_usd'].sum().sort_values(ascending=False).index[1]\n",
    "D2_com1_invt = D2[D2.main_sector == D2_sec1_name].groupby(by='name')['raised_amount_usd'].sum().sort_values(ascending=False).index[1]\n",
    "D3_com1_invt = D3[D3.main_sector == D3_sec1_name].groupby(by='name')['raised_amount_usd'].sum().sort_values(ascending=False).index[1]\n",
    "\n",
    "print('D1_com1_invt : ',D1_com1_invt,'\\nD2_com1_invt : ',D2_com1_invt,'\\nD3_com1_invt : ',D3_com1_invt)"
   ]
  },
  {
   "cell_type": "markdown",
   "metadata": {},
   "source": [
    "## Checkpoint 6: Plots"
   ]
  },
  {
   "cell_type": "markdown",
   "metadata": {
    "collapsed": true
   },
   "source": [
    "#### Q1. A plot showing the fraction of total investments (globally) in venture, seed, and private equity, and the average amount of investment in each funding type. This chart should make it clear that a certain funding type (FT) is best suited for Spark Funds."
   ]
  },
  {
   "cell_type": "markdown",
   "metadata": {},
   "source": [
    "#### Using Matplotlib"
   ]
  },
  {
   "cell_type": "code",
   "execution_count": 44,
   "metadata": {},
   "outputs": [
    {
     "data": {
      "image/png": "[encoded data removed]",
      "text/plain": [
       "<matplotlib.figure.Figure at 0x1967bdeea58>"
      ]
     },
     "metadata": {},
     "output_type": "display_data"
    }
   ],
   "source": [
    "selected_funding_round_type = ['venture','seed','private_equity']\n",
    "plot_frame = master_frame.loc[master_frame.funding_round_type.isin(selected_funding_round_type)]\n",
    "plot_frame = plot_frame.groupby('funding_round_type')['raised_amount_usd'].mean().sort_values(ascending=True).reset_index()\n",
    "cond = ((plot_frame.raised_amount_usd >= 5000000) & (plot_frame.raised_amount_usd <= 15000000))\n",
    "\n",
    "x = range(len(plot_frame.funding_round_type))\n",
    "y = plot_frame.raised_amount_usd/ 1000000\n",
    "y1 = y[cond]\n",
    "y2 = y[~cond]\n",
    "x1 = list(y1.index)\n",
    "x2 = list(y2.index)\n",
    "\n",
    "plt.figure(figsize=(9,6))\n",
    "\n",
    "# Bar plot\n",
    "#plt.bar(x,y, color=cond.map({True: 'g', False: 'k'}),label ='Suitable' )\n",
    "plt.bar(x1,y1, color='g',label ='Suitable' )\n",
    "plt.bar(x2,y2, color='k',label ='Not Suitable' )\n",
    "\n",
    "\n",
    "# Title\n",
    "plt.title('Most Suitable Funding Type')\n",
    "\n",
    "# Labels\n",
    "plt.xlabel('Funding Round Type')\n",
    "plt.ylabel('Average Raised Amount Used in Million(s)')\n",
    "\n",
    "# Ticks\n",
    "plt.xticks(x, plot_frame.funding_round_type)\n",
    "\n",
    "# Horizontal Line\n",
    "plt.axhline(y=5, color='b', linestyle='-',alpha = 0.5)\n",
    "plt.text(max(x)+.7, 5,'5 Million')\n",
    "plt.axhline(y=15, color='b', linestyle='-',alpha = 0.5)\n",
    "plt.text(max(x)+.7, 15,'15 Million')\n",
    "\n",
    "# Add Values to the bar\n",
    "for i in x:\n",
    "    plt.text(x[i]-.1,y[i]+.75,round(y[i],2))\n",
    "\n",
    "# Legend\n",
    "plt.legend()\n",
    "\n",
    "# Save as image\n",
    "plt.savefig(outDir+'Funding_Type.png',bbox_inches=\"tight\")\n",
    "\n",
    "# Show plot\n",
    "plt.show()"
   ]
  },
  {
   "cell_type": "markdown",
   "metadata": {
    "collapsed": true
   },
   "source": [
    "#### Q2. A plot showing the top 9 countries against the total amount of investments of funding type FT. This should make the top 3 countries (Country 1, Country 2, and Country 3) very clear."
   ]
  },
  {
   "cell_type": "code",
   "execution_count": null,
   "metadata": {},
   "outputs": [],
   "source": []
  },
  {
   "cell_type": "code",
   "execution_count": 75,
   "metadata": {},
   "outputs": [],
   "source": [
    "from bokeh.charts import Bar, output_file, show\n",
    "from bokeh.io import output_notebook\n",
    "from bokeh.models import Axis\n",
    "\n",
    "p = Bar(top9, label='country_code', values='raised_amount_usd', agg='sum', stack='IsOfficialEN',\n",
    "        title=\"Top 9 Countries\", legend='top_left')\n",
    "\n",
    "yaxis = p.select(dict(type=Axis, layout=\"left\"))[0]\n",
    "yaxis.formatter.use_scientific = False\n",
    "\n",
    "output_file(\"bar.html\")\n",
    "\n",
    "show(p)\n",
    "\n",
    "\n",
    "\n",
    "\n"
   ]
  },
  {
   "cell_type": "code",
   "execution_count": 54,
   "metadata": {},
   "outputs": [
    {
     "data": {
      "text/html": [
       "<div>\n",
       "<style>\n",
       "    .dataframe thead tr:only-child th {\n",
       "        text-align: right;\n",
       "    }\n",
       "\n",
       "    .dataframe thead th {\n",
       "        text-align: left;\n",
       "    }\n",
       "\n",
       "    .dataframe tbody tr th {\n",
       "        vertical-align: top;\n",
       "    }\n",
       "</style>\n",
       "<table border=\"1\" class=\"dataframe\">\n",
       "  <thead>\n",
       "    <tr style=\"text-align: right;\">\n",
       "      <th></th>\n",
       "      <th>country_code</th>\n",
       "      <th>raised_amount_usd</th>\n",
       "      <th>IsOfficialEN</th>\n",
       "    </tr>\n",
       "  </thead>\n",
       "  <tbody>\n",
       "    <tr>\n",
       "      <th>0</th>\n",
       "      <td>USA</td>\n",
       "      <td>422510842796.00</td>\n",
       "      <td>True</td>\n",
       "    </tr>\n",
       "    <tr>\n",
       "      <th>1</th>\n",
       "      <td>CHN</td>\n",
       "      <td>39835418773.00</td>\n",
       "      <td>False</td>\n",
       "    </tr>\n",
       "    <tr>\n",
       "      <th>2</th>\n",
       "      <td>GBR</td>\n",
       "      <td>20245627416.00</td>\n",
       "      <td>True</td>\n",
       "    </tr>\n",
       "    <tr>\n",
       "      <th>3</th>\n",
       "      <td>IND</td>\n",
       "      <td>14391858718.00</td>\n",
       "      <td>True</td>\n",
       "    </tr>\n",
       "    <tr>\n",
       "      <th>4</th>\n",
       "      <td>CAN</td>\n",
       "      <td>9583332317.00</td>\n",
       "      <td>True</td>\n",
       "    </tr>\n",
       "    <tr>\n",
       "      <th>5</th>\n",
       "      <td>FRA</td>\n",
       "      <td>7259536732.00</td>\n",
       "      <td>False</td>\n",
       "    </tr>\n",
       "    <tr>\n",
       "      <th>6</th>\n",
       "      <td>ISR</td>\n",
       "      <td>6907514579.00</td>\n",
       "      <td>False</td>\n",
       "    </tr>\n",
       "    <tr>\n",
       "      <th>7</th>\n",
       "      <td>DEU</td>\n",
       "      <td>6346959822.00</td>\n",
       "      <td>False</td>\n",
       "    </tr>\n",
       "    <tr>\n",
       "      <th>8</th>\n",
       "      <td>JPN</td>\n",
       "      <td>3363676611.00</td>\n",
       "      <td>False</td>\n",
       "    </tr>\n",
       "  </tbody>\n",
       "</table>\n",
       "</div>"
      ],
      "text/plain": [
       "  country_code  raised_amount_usd  IsOfficialEN\n",
       "0          USA    422510842796.00          True\n",
       "1          CHN     39835418773.00         False\n",
       "2          GBR     20245627416.00          True\n",
       "3          IND     14391858718.00          True\n",
       "4          CAN      9583332317.00          True\n",
       "5          FRA      7259536732.00         False\n",
       "6          ISR      6907514579.00         False\n",
       "7          DEU      6346959822.00         False\n",
       "8          JPN      3363676611.00         False"
      ]
     },
     "execution_count": 54,
     "metadata": {},
     "output_type": "execute_result"
    }
   ],
   "source": [
    "top9.sort_values(by='raised_amount_usd',ascending=False)"
   ]
  },
  {
   "cell_type": "code",
   "execution_count": 47,
   "metadata": {},
   "outputs": [
    {
     "data": {
      "text/html": [
       "<div>\n",
       "<style>\n",
       "    .dataframe thead tr:only-child th {\n",
       "        text-align: right;\n",
       "    }\n",
       "\n",
       "    .dataframe thead th {\n",
       "        text-align: left;\n",
       "    }\n",
       "\n",
       "    .dataframe tbody tr th {\n",
       "        vertical-align: top;\n",
       "    }\n",
       "</style>\n",
       "<table border=\"1\" class=\"dataframe\">\n",
       "  <thead>\n",
       "    <tr style=\"text-align: right;\">\n",
       "      <th></th>\n",
       "      <th>mpg</th>\n",
       "      <th>cyl</th>\n",
       "      <th>displ</th>\n",
       "      <th>hp</th>\n",
       "      <th>weight</th>\n",
       "      <th>accel</th>\n",
       "      <th>yr</th>\n",
       "      <th>origin</th>\n",
       "      <th>name</th>\n",
       "    </tr>\n",
       "  </thead>\n",
       "  <tbody>\n",
       "    <tr>\n",
       "      <th>0</th>\n",
       "      <td>18.00</td>\n",
       "      <td>8</td>\n",
       "      <td>307.00</td>\n",
       "      <td>130</td>\n",
       "      <td>3504</td>\n",
       "      <td>12.00</td>\n",
       "      <td>70</td>\n",
       "      <td>1</td>\n",
       "      <td>chevrolet chevelle malibu</td>\n",
       "    </tr>\n",
       "    <tr>\n",
       "      <th>1</th>\n",
       "      <td>15.00</td>\n",
       "      <td>8</td>\n",
       "      <td>350.00</td>\n",
       "      <td>165</td>\n",
       "      <td>3693</td>\n",
       "      <td>11.50</td>\n",
       "      <td>70</td>\n",
       "      <td>1</td>\n",
       "      <td>buick skylark 320</td>\n",
       "    </tr>\n",
       "    <tr>\n",
       "      <th>2</th>\n",
       "      <td>18.00</td>\n",
       "      <td>8</td>\n",
       "      <td>318.00</td>\n",
       "      <td>150</td>\n",
       "      <td>3436</td>\n",
       "      <td>11.00</td>\n",
       "      <td>70</td>\n",
       "      <td>1</td>\n",
       "      <td>plymouth satellite</td>\n",
       "    </tr>\n",
       "    <tr>\n",
       "      <th>3</th>\n",
       "      <td>16.00</td>\n",
       "      <td>8</td>\n",
       "      <td>304.00</td>\n",
       "      <td>150</td>\n",
       "      <td>3433</td>\n",
       "      <td>12.00</td>\n",
       "      <td>70</td>\n",
       "      <td>1</td>\n",
       "      <td>amc rebel sst</td>\n",
       "    </tr>\n",
       "    <tr>\n",
       "      <th>4</th>\n",
       "      <td>17.00</td>\n",
       "      <td>8</td>\n",
       "      <td>302.00</td>\n",
       "      <td>140</td>\n",
       "      <td>3449</td>\n",
       "      <td>10.50</td>\n",
       "      <td>70</td>\n",
       "      <td>1</td>\n",
       "      <td>ford torino</td>\n",
       "    </tr>\n",
       "  </tbody>\n",
       "</table>\n",
       "</div>"
      ],
      "text/plain": [
       "    mpg  cyl  displ   hp  weight  accel  yr  origin                       name\n",
       "0 18.00    8 307.00  130    3504  12.00  70       1  chevrolet chevelle malibu\n",
       "1 15.00    8 350.00  165    3693  11.50  70       1          buick skylark 320\n",
       "2 18.00    8 318.00  150    3436  11.00  70       1         plymouth satellite\n",
       "3 16.00    8 304.00  150    3433  12.00  70       1              amc rebel sst\n",
       "4 17.00    8 302.00  140    3449  10.50  70       1                ford torino"
      ]
     },
     "execution_count": 47,
     "metadata": {},
     "output_type": "execute_result"
    }
   ],
   "source": [
    "df.head()"
   ]
  },
  {
   "cell_type": "code",
   "execution_count": null,
   "metadata": {
    "collapsed": true
   },
   "outputs": [],
   "source": []
  }
 ],
 "metadata": {
  "kernelspec": {
   "display_name": "Python 3",
   "language": "python",
   "name": "python3"
  },
  "language_info": {
   "codemirror_mode": {
    "name": "ipython",
    "version": 3
   },
   "file_extension": ".py",
   "mimetype": "text/x-python",
   "name": "python",
   "nbconvert_exporter": "python",
   "pygments_lexer": "ipython3",
   "version": "3.6.1"
  }
 },
 "nbformat": 4,
 "nbformat_minor": 2
}
