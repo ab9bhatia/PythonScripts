{
 "cells": [
  {
   "cell_type": "code",
   "execution_count": 7,
   "metadata": {},
   "outputs": [],
   "source": [
    "import numpy as np\n",
    "import pandas as pd\n",
    "import spacy\n",
    "import en_core_web_sm"
   ]
  },
  {
   "cell_type": "code",
   "execution_count": 19,
   "metadata": {},
   "outputs": [],
   "source": [
    "nlp = spacy.load('en_core_web_sm')\n",
    "#from spacy.en import English\n",
    "#parser = English()"
   ]
  },
  {
   "cell_type": "code",
   "execution_count": 25,
   "metadata": {},
   "outputs": [],
   "source": [
    "sentence = \"Asima Chatterjee received a master's degree (1938) and a doctoral degree (1944) in organic chemistry from the University of Calcutta. Her doctoral research\""
   ]
  },
  {
   "cell_type": "code",
   "execution_count": 26,
   "metadata": {},
   "outputs": [],
   "source": [
    "doc = nlp(sentence)"
   ]
  },
  {
   "cell_type": "code",
   "execution_count": 24,
   "metadata": {},
   "outputs": [
    {
     "name": "stdout",
     "output_type": "stream",
     "text": [
      "â 90 474 0.0\n",
      ", 95 450 0.197378041194\n",
      "ê 94 475 0.0\n",
      ", 95 450 0.197378041194\n",
      "î 94 475 0.0\n",
      ", 95 450 0.197378041194\n",
      "ô 94 475 0.0\n",
      ", 95 450 0.197378041194\n",
      "ûAsima 94 475 0.0\n",
      "Chatterjee 94 475 0.0\n",
      "received 98 489 0.313323496372\n",
      "a 88 460 0.31036040418\n",
      "master 90 474 0.471881862625\n",
      "'s 92 74 0.257518481798\n",
      "degree 90 474 0.392688204339\n",
      "( 95 451 0.127621268918\n",
      "1938 91 459 0.0\n",
      ") 95 452 0.13541010411\n",
      "and 87 458 0.291084031577\n",
      "a 88 460 0.31036040418\n",
      "doctoral 82 467 0.0\n",
      "degree 90 474 0.392688204339\n",
      "( 95 451 0.127621268918\n",
      "1944 91 459 0.0\n",
      ") 95 452 0.13541010411\n",
      "in 83 466 0.281439505344\n",
      "organic 82 467 0.124448829657\n",
      "chemistry 90 474 0.333920534761\n",
      "from 83 466 0.250024148853\n",
      "the 88 460 0.250958400063\n",
      "University 94 475 0.506811305043\n",
      "of 83 466 0.21895844829\n",
      "Calcutta 94 475 0.0\n",
      ". 95 453 0.238774087895\n",
      "Her 82 480 0.470612000867\n",
      "doctoral 82 467 0.0\n",
      "research 90 474 0.303108178288\n"
     ]
    }
   ],
   "source": [
    "for token in doc:\n",
    "    print(token,token.pos,token.tag,token.similarity(nlp('teacher')))"
   ]
  },
  {
   "cell_type": "code",
   "execution_count": null,
   "metadata": {},
   "outputs": [],
   "source": []
  }
 ],
 "metadata": {
  "anaconda-cloud": {},
  "kernelspec": {
   "display_name": "Python 3",
   "language": "python",
   "name": "python3"
  },
  "language_info": {
   "codemirror_mode": {
    "name": "ipython",
    "version": 3
   },
   "file_extension": ".py",
   "mimetype": "text/x-python",
   "name": "python",
   "nbconvert_exporter": "python",
   "pygments_lexer": "ipython3",
   "version": "3.5.4"
  }
 },
 "nbformat": 4,
 "nbformat_minor": 1
}
