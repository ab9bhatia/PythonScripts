{
 "cells": [
  {
   "cell_type": "markdown",
   "metadata": {},
   "source": [
    "### User defined functions for the Spark case study"
   ]
  },
  {
   "cell_type": "markdown",
   "metadata": {},
   "source": [
    "#### 1. Impute Missing Values"
   ]
  },
  {
   "cell_type": "code",
   "execution_count": 1,
   "metadata": {
    "collapsed": true
   },
   "outputs": [],
   "source": [
    "def impute_numeric_values(dataframe,column,approach):\n",
    "    '''impute_values function will impute the missing data(numeric) in the dataframe column.\n",
    "        dataframe :: Dataframe Name\n",
    "        column    :: Column name(numeric)\n",
    "        approach  :: 1,2,3 (default value 1)\n",
    "            1. Delete the row\n",
    "            2. Replace missing value with mean value.\n",
    "            3. Replace missing value with 0\n",
    "    '''\n",
    "    dataframe_filtered = dataframe.copy()\n",
    "    if approach == 1:\n",
    "        dataframe_filtered.drop(dataframe_filtered[dataframe_filtered[column].isnull()].index,inplace=True)\n",
    "    if approach == 2:\n",
    "        dataframe_filtered[column].fillna(dataframe[column].mean(),inplace =True)\n",
    "    if approach == 3:\n",
    "        dataframe_filtered[column].fillna(0,inplace =True)        \n",
    "        \n",
    "    print('\\nNumber of Records (after imputing missing values): ',dataframe_filtered.count()[0])\n",
    "    return dataframe_filtered"
   ]
  },
  {
   "cell_type": "markdown",
   "metadata": {},
   "source": [
    "#### 2. Define Function to to wite(.csv) a file to the current working directory."
   ]
  },
  {
   "cell_type": "code",
   "execution_count": 7,
   "metadata": {
    "collapsed": true
   },
   "outputs": [],
   "source": [
    "# optional - if you want to store the dataframe so that it can be used with external applications such as Tableau\n",
    "def writeDF(dataframe,outFileName):\n",
    "    '''\n",
    "    dataframe : Dataframe name\n",
    "    Pass the dataframe name & outFileName, this function will create a file 'outFileName.csv' at current working directory.\n",
    "    '''\n",
    "    dataframe.to_csv(path_or_buf = './'+outFileName+'.csv')\n",
    "    size = str(round((os.path.getsize('./'+outFileName+'.csv')/1000),1))\n",
    "    print('File:'+ outFileName+'.csv created at current working directory \\nSize of file :\\t'+size+ ' KB' )"
   ]
  },
  {
   "cell_type": "markdown",
   "metadata": {},
   "source": [
    "#### 3. Define Function to get the avg_funding_amount for any Funding type"
   ]
  },
  {
   "cell_type": "code",
   "execution_count": 2,
   "metadata": {
    "collapsed": true
   },
   "outputs": [],
   "source": [
    "def avg_funding_amount(funding_type):\n",
    "    return round(master_frame_imputed[master_frame_imputed['funding_round_type']==funding_type]['raised_amount_usd'].mean(),2)"
   ]
  },
  {
   "cell_type": "markdown",
   "metadata": {},
   "source": [
    "#### 4. Defining function demap, which will convert data in scattered crosstab input to two columns output."
   ]
  },
  {
   "cell_type": "code",
   "execution_count": 5,
   "metadata": {
    "collapsed": true
   },
   "outputs": [],
   "source": [
    "def demap(df,outColName):\n",
    "    '''\n",
    "    df          :: datframe\n",
    "    outColName  :: Output column name.\n",
    "    '''\n",
    "    l = list()\n",
    "    c = int(df.count().sort_values(ascending=False)[0])\n",
    "    for i in range(c):\n",
    "        for col_name in df.columns:\n",
    "            if df[col_name][i]==1:\n",
    "               l.append(col_name)\n",
    "    df2 = df.copy()\n",
    "    df2[outColName] = l\n",
    "    return df2.iloc[:,[0,-1]]"
   ]
  },
  {
   "cell_type": "markdown",
   "metadata": {},
   "source": [
    "#### 5. Define function to get top sectors count and name"
   ]
  },
  {
   "cell_type": "code",
   "execution_count": 6,
   "metadata": {
    "collapsed": true
   },
   "outputs": [],
   "source": [
    "def getSector(dataset,n,identifier):\n",
    "    '''\n",
    "    dataset     :: datframe\n",
    "    n           :: n represents nth order, 0 for top, 1 for second top and so on.\n",
    "    identifier  :: identifier = 'count' to get the count, identifier = 'name' to get the sector name.\n",
    "    '''\n",
    "    if identifier == 'name':\n",
    "        return (dataset.groupby(by='main_sector')['main_sector'].count().sort_values(ascending=False).index[n])\n",
    "    elif identifier == 'count':\n",
    "        return (dataset.groupby(by='main_sector')['main_sector'].count().sort_values(ascending=False)[n])"
   ]
  },
  {
   "cell_type": "markdown",
   "metadata": {
    "collapsed": true
   },
   "source": [
    "<font color='blue'><b>UDF to get top sectors count and name</b?</font>\n",
    "\n",
    "getSector(dataset,n,identifier) will give you 'name of the sector' or 'count of investments in sectors' based on the parameter value."
   ]
  },
  {
   "cell_type": "code",
   "execution_count": 2,
   "metadata": {
    "collapsed": true
   },
   "outputs": [],
   "source": [
    "#dynamic = False\n",
    "\n",
    "# dynamic = True\n",
    "# Note for the English Speaking Countries if you want to dynamically get the information from MySQL > MySQl > world database > \n",
    "# country & country language table.\n",
    "# Run command as mentioned in prerequisite : conda install -c anaconda mysql-connector-python¶\n",
    "# Run this sql on world db > INSERT INTO COUNTRYLANGUAGE VALUES('IND','English','T',4.5)\n",
    "\n",
    "# dynamic = False\n",
    "# Manually a column will be added(by referring pdf) in top9 dataframe called IsOfficialEN\n",
    "\n",
    "# Now the requirement is to fetch top 3 countries from top 9 dataframe where official language is English, we will fetch this \n",
    "# information from MySQl > world database > country & country language table. Alternatively we can check this information\n",
    "\n",
    "#if dynamic:\n",
    "#    import mysql.connector as con\n",
    "#    db_connection = con.connect(host='localhost', database='world', user='root', password='mysql@123')\n",
    "#    query = 'select code,name from country where code in(SELECT countrycode FROM COUNTRYLANGUAGE WHERE LANGUAGE=%s AND ISOFFICIAL=%s)'\n",
    "#    countryEN =  pd.read_sql(sql =query,con =db_connection,params=['English','T'])\n",
    "#    top9['IsOfficialEN'] = top9.country_code.isin(countryEN['code'])\n",
    "#else:"
   ]
  },
  {
   "cell_type": "code",
   "execution_count": null,
   "metadata": {
    "collapsed": true
   },
   "outputs": [],
   "source": []
  }
 ],
 "metadata": {
  "kernelspec": {
   "display_name": "Python 3",
   "language": "python",
   "name": "python3"
  },
  "language_info": {
   "codemirror_mode": {
    "name": "ipython",
    "version": 3
   },
   "file_extension": ".py",
   "mimetype": "text/x-python",
   "name": "python",
   "nbconvert_exporter": "python",
   "pygments_lexer": "ipython3",
   "version": "3.6.4"
  }
 },
 "nbformat": 4,
 "nbformat_minor": 2
}
