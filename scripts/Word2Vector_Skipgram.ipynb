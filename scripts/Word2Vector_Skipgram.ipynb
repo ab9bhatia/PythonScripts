{
 "cells": [
  {
   "cell_type": "markdown",
   "metadata": {},
   "source": [
    "Importing Libraries"
   ]
  },
  {
   "cell_type": "code",
   "execution_count": 6,
   "metadata": {
    "collapsed": false
   },
   "outputs": [],
   "source": [
    "import logging\n",
    "import multiprocessing\n",
    "import re\n",
    "from gensim.corpora import WikiCorpus\n",
    "from gensim.models import Word2Vec\n",
    "from gensim.models.word2vec import LineSentence\n",
    "import numpy as np\n",
    "import pandas as pd\n",
    "import matplotlib.pyplot as plt\n",
    "%matplotlib inline\n",
    "dirpath = 'C:/Users/ankit.bhatia/Documents/GitHub/PythonScripts/data/'"
   ]
  },
  {
   "cell_type": "markdown",
   "metadata": {},
   "source": [
    "Import data"
   ]
  },
  {
   "cell_type": "code",
   "execution_count": 7,
   "metadata": {
    "collapsed": false
   },
   "outputs": [
    {
     "name": "stderr",
     "output_type": "stream",
     "text": [
      "C:\\Program Files\\Anaconda3\\lib\\site-packages\\ipykernel\\__main__.py:1: ParserWarning: Falling back to the 'python' engine because the 'c' engine does not support regex separators (separators > 1 char and different from '\\s+' are interpreted as regex); you can avoid this warning by specifying engine='python'.\n",
      "  if __name__ == '__main__':\n"
     ]
    },
    {
     "data": {
      "text/html": [
       "<div>\n",
       "<style>\n",
       "    .dataframe thead tr:only-child th {\n",
       "        text-align: right;\n",
       "    }\n",
       "\n",
       "    .dataframe thead th {\n",
       "        text-align: left;\n",
       "    }\n",
       "\n",
       "    .dataframe tbody tr th {\n",
       "        vertical-align: top;\n",
       "    }\n",
       "</style>\n",
       "<table border=\"1\" class=\"dataframe\">\n",
       "  <thead>\n",
       "    <tr style=\"text-align: right;\">\n",
       "      <th></th>\n",
       "      <th>one has european accent either because doesn exist there are accents from europe but not european accent</th>\n",
       "    </tr>\n",
       "  </thead>\n",
       "  <tbody>\n",
       "    <tr>\n",
       "      <th>0</th>\n",
       "      <td>mid twenties male rocking skinny jeans pants h...</td>\n",
       "    </tr>\n",
       "    <tr>\n",
       "      <th>1</th>\n",
       "      <td>honestly wouldn have believed didn live she ma...</td>\n",
       "    </tr>\n",
       "    <tr>\n",
       "      <th>2</th>\n",
       "      <td>money just driver license credit cards and sub...</td>\n",
       "    </tr>\n",
       "    <tr>\n",
       "      <th>3</th>\n",
       "      <td>smoking tobacco went from shitty pall malls ma...</td>\n",
       "    </tr>\n",
       "    <tr>\n",
       "      <th>4</th>\n",
       "      <td>that one reason for but not the only one the o...</td>\n",
       "    </tr>\n",
       "  </tbody>\n",
       "</table>\n",
       "</div>"
      ],
      "text/plain": [
       "  one has european accent either because doesn exist there are accents from europe but not european accent\n",
       "0  mid twenties male rocking skinny jeans pants h...                                                      \n",
       "1  honestly wouldn have believed didn live she ma...                                                      \n",
       "2  money just driver license credit cards and sub...                                                      \n",
       "3  smoking tobacco went from shitty pall malls ma...                                                      \n",
       "4  that one reason for but not the only one the o...                                                      "
      ]
     },
     "execution_count": 7,
     "metadata": {},
     "output_type": "execute_result"
    }
   ],
   "source": [
    "dataset = pd.read_csv(dirpath+'reddit-small.txt',delimiter=\"/t\")\n",
    "dataset.head()"
   ]
  },
  {
   "cell_type": "markdown",
   "metadata": {},
   "source": [
    "Define Model"
   ]
  },
  {
   "cell_type": "code",
   "execution_count": 8,
   "metadata": {
    "collapsed": true
   },
   "outputs": [],
   "source": [
    "def train_model(inp, out):\n",
    "    logger = logging.getLogger(\"word2vect-training\")\n",
    "    logging.basicConfig(format=\"%(asctime)s:%(levelname)s:%(message)s\")\n",
    "    logging.root.setLevel(level=logging.INFO)\n",
    "    \n",
    "    model = Word2Vec(LineSentence(inp), size=100, window=5,min_count=5,workers=multiprocessing.cpu_count())\n",
    "    model.init_sims(replace = True)\n",
    "    model.save(out)"
   ]
  },
  {
   "cell_type": "markdown",
   "metadata": {},
   "source": [
    "Train Model"
   ]
  },
  {
   "cell_type": "code",
   "execution_count": 9,
   "metadata": {
    "collapsed": false
   },
   "outputs": [
    {
     "name": "stderr",
     "output_type": "stream",
     "text": [
      "2017-09-23 21:49:15,622:INFO:collecting all words and their counts\n",
      "2017-09-23 21:49:15,622:INFO:PROGRESS: at sentence #0, processed 0 words, keeping 0 word types\n",
      "2017-09-23 21:49:15,714:INFO:collected 11440 word types from a corpus of 105198 raw words and 5000 sentences\n",
      "2017-09-23 21:49:15,714:INFO:Loading a fresh vocabulary\n",
      "2017-09-23 21:49:15,734:INFO:min_count=5 retains 2362 unique words (20% of original 11440, drops 9078)\n",
      "2017-09-23 21:49:15,735:INFO:min_count=5 leaves 90968 word corpus (86% of original 105198, drops 14230)\n",
      "2017-09-23 21:49:15,758:INFO:deleting the raw counts dictionary of 11440 items\n",
      "2017-09-23 21:49:15,762:INFO:sample=0.001 downsamples 55 most-common words\n",
      "2017-09-23 21:49:15,763:INFO:downsampling leaves estimated 70796 word corpus (77.8% of prior 90968)\n",
      "2017-09-23 21:49:15,765:INFO:estimated required memory for 2362 words and 100 dimensions: 3070600 bytes\n",
      "2017-09-23 21:49:15,799:INFO:resetting layer weights\n",
      "2017-09-23 21:49:15,884:INFO:training model with 4 workers on 2362 vocabulary and 100 features, using sg=0 hs=0 sample=0.001 negative=5 window=5\n",
      "2017-09-23 21:49:16,699:INFO:worker thread finished; awaiting finish of 3 more threads\n",
      "2017-09-23 21:49:16,699:INFO:worker thread finished; awaiting finish of 2 more threads\n",
      "2017-09-23 21:49:16,722:INFO:worker thread finished; awaiting finish of 1 more threads\n",
      "2017-09-23 21:49:16,727:INFO:worker thread finished; awaiting finish of 0 more threads\n",
      "2017-09-23 21:49:16,729:INFO:training on 525990 raw words (353878 effective words) took 0.8s, 423126 effective words/s\n",
      "2017-09-23 21:49:16,730:INFO:precomputing L2-norms of word weight vectors\n",
      "2017-09-23 21:49:16,833:INFO:saving Word2Vec object under C:/Users/ankit.bhatia/Documents/GitHub/PythonScripts/data/word-vec_out, separately None\n",
      "2017-09-23 21:49:16,833:INFO:not storing attribute syn0norm\n",
      "2017-09-23 21:49:16,833:INFO:not storing attribute cum_table\n",
      "2017-09-23 21:49:16,893:INFO:saved C:/Users/ankit.bhatia/Documents/GitHub/PythonScripts/data/word-vec_out\n"
     ]
    }
   ],
   "source": [
    "train_model(inp = dirpath+\"reddit-small.txt\",\n",
    "            out = dirpath+\"word-vec_out\"   )"
   ]
  },
  {
   "cell_type": "markdown",
   "metadata": {},
   "source": [
    "Load Model"
   ]
  },
  {
   "cell_type": "code",
   "execution_count": 10,
   "metadata": {
    "collapsed": false
   },
   "outputs": [
    {
     "name": "stderr",
     "output_type": "stream",
     "text": [
      "2017-09-23 21:49:16,906:INFO:loading Word2Vec object from C:/Users/ankit.bhatia/Documents/GitHub/PythonScripts/data/word-vec_out\n",
      "2017-09-23 21:49:17,085:INFO:loading wv recursively from C:/Users/ankit.bhatia/Documents/GitHub/PythonScripts/data/word-vec_out.wv.* with mmap=None\n",
      "2017-09-23 21:49:17,085:INFO:setting ignored attribute syn0norm to None\n",
      "2017-09-23 21:49:17,085:INFO:setting ignored attribute cum_table to None\n",
      "2017-09-23 21:49:17,085:INFO:loaded C:/Users/ankit.bhatia/Documents/GitHub/PythonScripts/data/word-vec_out\n"
     ]
    }
   ],
   "source": [
    "model = Word2Vec.load(dirpath+\"word-vec_out\")"
   ]
  },
  {
   "cell_type": "code",
   "execution_count": 11,
   "metadata": {
    "collapsed": false
   },
   "outputs": [
    {
     "data": {
      "text/plain": [
       "array([  3.36690596e-03,   2.07509920e-01,  -8.03962126e-02,\n",
       "        -4.00607176e-02,   3.82987433e-03,   1.32872388e-01,\n",
       "         2.72845477e-02,  -6.84864298e-02,   1.25237852e-01,\n",
       "        -1.82130691e-02,   9.53656137e-02,  -1.11005373e-01,\n",
       "         3.17790452e-03,  -1.90762263e-02,   4.00985964e-03,\n",
       "         1.20315850e-01,  -4.44382019e-02,   1.79904819e-01,\n",
       "         6.70349672e-02,   1.06361829e-01,   8.10712054e-02,\n",
       "        -1.30286310e-02,   7.17504248e-02,  -1.99396256e-02,\n",
       "        -1.38991237e-01,  -1.35300159e-01,  -1.00590408e-01,\n",
       "        -7.17621669e-03,   9.60225761e-02,  -9.65964049e-02,\n",
       "        -7.48647600e-02,  -3.74641307e-02,  -4.20694910e-02,\n",
       "         2.92405076e-02,   1.37861311e-01,   7.33111799e-02,\n",
       "        -1.16696060e-01,  -6.89079911e-02,   1.31329358e-01,\n",
       "         1.67849213e-02,   6.30585402e-02,   7.59773180e-02,\n",
       "         4.54270057e-02,  -1.08169194e-03,   1.23673931e-01,\n",
       "         7.61288330e-02,   1.20582528e-01,   1.23724587e-01,\n",
       "        -7.75826499e-02,  -2.36904547e-02,   2.29439750e-01,\n",
       "        -1.55929029e-01,  -1.23975709e-01,  -4.71357442e-02,\n",
       "         1.05443977e-01,  -1.26370147e-01,   4.50019762e-02,\n",
       "         1.46353230e-01,   2.44249761e-01,  -8.37139115e-02,\n",
       "        -6.54654205e-02,  -1.13034114e-01,  -7.47873588e-03,\n",
       "         1.30828947e-01,  -1.96033850e-01,  -6.49449453e-02,\n",
       "        -1.60729200e-01,   1.52707592e-01,   1.03167392e-01,\n",
       "         5.80179952e-02,  -7.30045512e-02,  -6.16378151e-03,\n",
       "        -1.22993194e-01,  -1.81790218e-02,   1.05024250e-02,\n",
       "        -9.88156199e-02,  -5.61616682e-02,  -3.12499285e-01,\n",
       "        -2.57444866e-02,   2.85395961e-02,  -7.53663655e-04,\n",
       "        -1.50479019e-01,  -2.07601547e-01,   1.98903717e-02,\n",
       "        -2.76638120e-02,   6.34046085e-03,   2.92167198e-02,\n",
       "         1.27748949e-02,  -1.13004768e-04,  -4.77486253e-02,\n",
       "         3.49330381e-02,   7.00643510e-02,   9.32122916e-02,\n",
       "        -1.03519056e-02,   8.11398774e-02,   7.66181722e-02,\n",
       "        -5.59795685e-02,  -1.04968920e-01,  -3.23139355e-02,\n",
       "        -8.85373503e-02], dtype=float32)"
      ]
     },
     "execution_count": 11,
     "metadata": {},
     "output_type": "execute_result"
    }
   ],
   "source": [
    "model['money']\n",
    "#model[['money','credit']]\n",
    "#type(model)"
   ]
  },
  {
   "cell_type": "code",
   "execution_count": 12,
   "metadata": {
    "collapsed": false
   },
   "outputs": [
    {
     "name": "stderr",
     "output_type": "stream",
     "text": [
      "2017-09-23 21:49:17,337:INFO:precomputing L2-norms of word weight vectors\n"
     ]
    },
    {
     "data": {
      "text/plain": [
       "[('better', 0.9999033808708191),\n",
       " ('which', 0.99989914894104),\n",
       " ('some', 0.9998878240585327),\n",
       " ('long', 0.9998822212219238),\n",
       " ('different', 0.9998811483383179),\n",
       " ('enough', 0.999880313873291),\n",
       " ('makes', 0.9998777508735657),\n",
       " ('work', 0.9998776316642761),\n",
       " ('use', 0.9998761415481567),\n",
       " ('find', 0.9998738169670105)]"
      ]
     },
     "execution_count": 12,
     "metadata": {},
     "output_type": "execute_result"
    }
   ],
   "source": [
    "model.most_similar('money')"
   ]
  },
  {
   "cell_type": "code",
   "execution_count": 13,
   "metadata": {
    "collapsed": false
   },
   "outputs": [
    {
     "data": {
      "text/plain": [
       "0.99957431960014764"
      ]
     },
     "execution_count": 13,
     "metadata": {},
     "output_type": "execute_result"
    }
   ],
   "source": [
    "model.similarity('money','credit')\n",
    "#type(model)"
   ]
  },
  {
   "cell_type": "markdown",
   "metadata": {},
   "source": [
    "## Semantic similarity"
   ]
  },
  {
   "cell_type": "code",
   "execution_count": 14,
   "metadata": {
    "collapsed": true
   },
   "outputs": [],
   "source": [
    "def cosine_similarity(inp1, inp2):\n",
    "    return np.dot(inp1, inp2) / (np.linalg.norm(inp1)*np.linalg.norm(inp2))"
   ]
  },
  {
   "cell_type": "code",
   "execution_count": 15,
   "metadata": {
    "collapsed": false
   },
   "outputs": [
    {
     "data": {
      "text/plain": [
       "0.87885343166569463"
      ]
     },
     "execution_count": 15,
     "metadata": {},
     "output_type": "execute_result"
    }
   ],
   "source": [
    "cosine_similarity([1,5],[5,6])"
   ]
  },
  {
   "cell_type": "code",
   "execution_count": 16,
   "metadata": {
    "collapsed": false
   },
   "outputs": [],
   "source": [
    "def average_similarity(text1, text2):\n",
    "    # Lower and tokenize the words\n",
    "    text1 = text1.lower().split()\n",
    "    text2 = text2.lower().split()\n",
    "    \n",
    "    # Get a list of word vectors for each word in the sentence\n",
    "    vector1 = np.array([model[word] for word in text1])\n",
    "    vector2 = np.array([model[word] for word in text2])\n",
    "    avg1_vector1 = np.mean(vector1,axis =0)\n",
    "    avg1_vector2 = np.mean(vector2,axis =0)\n",
    "    return cosine_similarity(avg1_vector1,avg1_vector2)"
   ]
  },
  {
   "cell_type": "code",
   "execution_count": 17,
   "metadata": {
    "collapsed": false
   },
   "outputs": [
    {
     "data": {
      "text/plain": [
       "0.99986523"
      ]
     },
     "execution_count": 17,
     "metadata": {},
     "output_type": "execute_result"
    }
   ],
   "source": [
    "average_similarity('money','love')"
   ]
  },
  {
   "cell_type": "code",
   "execution_count": null,
   "metadata": {
    "collapsed": true
   },
   "outputs": [],
   "source": []
  }
 ],
 "metadata": {
  "kernelspec": {
   "display_name": "Python [default]",
   "language": "python",
   "name": "python3"
  },
  "language_info": {
   "codemirror_mode": {
    "name": "ipython",
    "version": 3
   },
   "file_extension": ".py",
   "mimetype": "text/x-python",
   "name": "python",
   "nbconvert_exporter": "python",
   "pygments_lexer": "ipython3",
   "version": "3.5.2"
  }
 },
 "nbformat": 4,
 "nbformat_minor": 1
}
