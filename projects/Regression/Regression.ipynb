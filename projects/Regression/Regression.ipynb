{
 "cells": [
  {
   "cell_type": "markdown",
   "metadata": {},
   "source": [
    "# Regression: Car price Prediction\n",
    "***"
   ]
  },
  {
   "cell_type": "markdown",
   "metadata": {},
   "source": [
    "__[Student Name :: Ankit Bhatia](https://www.linkedin.com/in/ab9bhatia/)__"
   ]
  },
  {
   "cell_type": "markdown",
   "metadata": {},
   "source": [
    "### <u>Table of Contents</u>\n",
    "\n",
    "\n",
    "[I. Prerequisite](#prerequisite)\n",
    "\n",
    "[II. Import Libraries and set required parameters](#library)\n",
    "\n",
    "[III. Data Sourcing](#sourcing)\n",
    "\n",
    "[IV. Data Preprocessing](#preprocessing)\n",
    "\n",
    "[V. Exploratory Data Analysis](#eda)\n",
    "\n",
    "[VI. Convert Categorical Variables to Continuos](#cat)\n",
    "\n",
    "[VII. Feature Scaling](#scaling)\n",
    "\n",
    "[VIII. Feature Selection](#feature)\n",
    "\n",
    "[IX. UDF's for Model](#model_prep)\n",
    "\n",
    "[X. Model Building](#model)\n",
    "\n",
    "[XI. Model Summary](#model_summary)\n",
    "\n",
    "[XII. Model Prediction](#prediction)\n",
    "\n",
    "[XIII. Conclusion](#conclusion)"
   ]
  },
  {
   "cell_type": "markdown",
   "metadata": {},
   "source": [
    "<a id='prerequisite'></a>"
   ]
  },
  {
   "cell_type": "markdown",
   "metadata": {},
   "source": [
    "## I. Prerequisite"
   ]
  },
  {
   "cell_type": "markdown",
   "metadata": {},
   "source": [
    "1. Place 'CarPrice_Assignment.csv' input file at your current working directory before running this code.\n",
    "\n",
    "2. Please make sure that you have following python libraries imported/installed at your system:\n",
    "\n",
    "    * numpy version\t        : 1.12.1 or higher\n",
    "    * pandas version\t    : 0.20.3 or higher\n",
    "    * seaborn version\t    : 0.8.0 or higher\n",
    "    * statsmodels version\t: 0.8.0 or higher\n",
    "    * sklearn version\t    : 0.19.1 or higher"
   ]
  },
  {
   "cell_type": "markdown",
   "metadata": {},
   "source": [
    "<a id='library'></a>"
   ]
  },
  {
   "cell_type": "markdown",
   "metadata": {},
   "source": [
    "## II. Import Libraries and set required parameters"
   ]
  },
  {
   "cell_type": "code",
   "execution_count": 73,
   "metadata": {
    "collapsed": true,
    "scrolled": false
   },
   "outputs": [],
   "source": [
    "import numpy as np\n",
    "import pandas as pd\n",
    "import matplotlib.pyplot as plt\n",
    "%matplotlib inline\n",
    "\n",
    "import seaborn as sns\n",
    "# train-test split\n",
    "from sklearn.model_selection import train_test_split\n",
    "\n",
    "# LinearRegression\n",
    "from sklearn.linear_model import LinearRegression\n",
    "\n",
    "# rmse and r-square\n",
    "from sklearn.metrics import mean_squared_error, r2_score\n",
    "\n",
    "pd.options.mode.chained_assignment = None #set it to None to remove SettingWithCopyWarning\n",
    "pd.options.display.float_format = '{:.3f}'.format #set it to convert scientific noations such as 4.225108e+11 to 422510842796.00\n",
    "pd.set_option('display.max_columns', 100) # to display all the columns\n",
    "import warnings\n",
    "warnings.filterwarnings('ignore') # if there are any warning due to version mismatch, it will be ignored\n",
    "\n",
    "# statsmodel\n",
    "import statsmodels.api as sm"
   ]
  },
  {
   "cell_type": "markdown",
   "metadata": {},
   "source": [
    "<a id='sourcing'></a>"
   ]
  },
  {
   "cell_type": "markdown",
   "metadata": {},
   "source": [
    "## III. Data Sourcing"
   ]
  },
  {
   "cell_type": "code",
   "execution_count": 74,
   "metadata": {},
   "outputs": [
    {
     "name": "stdout",
     "output_type": "stream",
     "text": [
      "Rows & Columns :: (205, 26)\n"
     ]
    },
    {
     "data": {
      "text/html": [
       "<div>\n",
       "<style>\n",
       "    .dataframe thead tr:only-child th {\n",
       "        text-align: right;\n",
       "    }\n",
       "\n",
       "    .dataframe thead th {\n",
       "        text-align: left;\n",
       "    }\n",
       "\n",
       "    .dataframe tbody tr th {\n",
       "        vertical-align: top;\n",
       "    }\n",
       "</style>\n",
       "<table border=\"1\" class=\"dataframe\">\n",
       "  <thead>\n",
       "    <tr style=\"text-align: right;\">\n",
       "      <th></th>\n",
       "      <th>car_ID</th>\n",
       "      <th>symboling</th>\n",
       "      <th>CarName</th>\n",
       "      <th>fueltype</th>\n",
       "      <th>aspiration</th>\n",
       "      <th>doornumber</th>\n",
       "      <th>carbody</th>\n",
       "      <th>drivewheel</th>\n",
       "      <th>enginelocation</th>\n",
       "      <th>wheelbase</th>\n",
       "      <th>carlength</th>\n",
       "      <th>carwidth</th>\n",
       "      <th>carheight</th>\n",
       "      <th>curbweight</th>\n",
       "      <th>enginetype</th>\n",
       "      <th>cylindernumber</th>\n",
       "      <th>enginesize</th>\n",
       "      <th>fuelsystem</th>\n",
       "      <th>boreratio</th>\n",
       "      <th>stroke</th>\n",
       "      <th>compressionratio</th>\n",
       "      <th>horsepower</th>\n",
       "      <th>peakrpm</th>\n",
       "      <th>citympg</th>\n",
       "      <th>highwaympg</th>\n",
       "      <th>price</th>\n",
       "    </tr>\n",
       "  </thead>\n",
       "  <tbody>\n",
       "    <tr>\n",
       "      <th>0</th>\n",
       "      <td>1</td>\n",
       "      <td>3</td>\n",
       "      <td>alfa-romero giulia</td>\n",
       "      <td>gas</td>\n",
       "      <td>std</td>\n",
       "      <td>two</td>\n",
       "      <td>convertible</td>\n",
       "      <td>rwd</td>\n",
       "      <td>front</td>\n",
       "      <td>88.600</td>\n",
       "      <td>168.800</td>\n",
       "      <td>64.100</td>\n",
       "      <td>48.800</td>\n",
       "      <td>2548</td>\n",
       "      <td>dohc</td>\n",
       "      <td>four</td>\n",
       "      <td>130</td>\n",
       "      <td>mpfi</td>\n",
       "      <td>3.470</td>\n",
       "      <td>2.680</td>\n",
       "      <td>9.000</td>\n",
       "      <td>111</td>\n",
       "      <td>5000</td>\n",
       "      <td>21</td>\n",
       "      <td>27</td>\n",
       "      <td>13495.000</td>\n",
       "    </tr>\n",
       "    <tr>\n",
       "      <th>1</th>\n",
       "      <td>2</td>\n",
       "      <td>3</td>\n",
       "      <td>alfa-romero stelvio</td>\n",
       "      <td>gas</td>\n",
       "      <td>std</td>\n",
       "      <td>two</td>\n",
       "      <td>convertible</td>\n",
       "      <td>rwd</td>\n",
       "      <td>front</td>\n",
       "      <td>88.600</td>\n",
       "      <td>168.800</td>\n",
       "      <td>64.100</td>\n",
       "      <td>48.800</td>\n",
       "      <td>2548</td>\n",
       "      <td>dohc</td>\n",
       "      <td>four</td>\n",
       "      <td>130</td>\n",
       "      <td>mpfi</td>\n",
       "      <td>3.470</td>\n",
       "      <td>2.680</td>\n",
       "      <td>9.000</td>\n",
       "      <td>111</td>\n",
       "      <td>5000</td>\n",
       "      <td>21</td>\n",
       "      <td>27</td>\n",
       "      <td>16500.000</td>\n",
       "    </tr>\n",
       "    <tr>\n",
       "      <th>2</th>\n",
       "      <td>3</td>\n",
       "      <td>1</td>\n",
       "      <td>alfa-romero Quadrifoglio</td>\n",
       "      <td>gas</td>\n",
       "      <td>std</td>\n",
       "      <td>two</td>\n",
       "      <td>hatchback</td>\n",
       "      <td>rwd</td>\n",
       "      <td>front</td>\n",
       "      <td>94.500</td>\n",
       "      <td>171.200</td>\n",
       "      <td>65.500</td>\n",
       "      <td>52.400</td>\n",
       "      <td>2823</td>\n",
       "      <td>ohcv</td>\n",
       "      <td>six</td>\n",
       "      <td>152</td>\n",
       "      <td>mpfi</td>\n",
       "      <td>2.680</td>\n",
       "      <td>3.470</td>\n",
       "      <td>9.000</td>\n",
       "      <td>154</td>\n",
       "      <td>5000</td>\n",
       "      <td>19</td>\n",
       "      <td>26</td>\n",
       "      <td>16500.000</td>\n",
       "    </tr>\n",
       "    <tr>\n",
       "      <th>3</th>\n",
       "      <td>4</td>\n",
       "      <td>2</td>\n",
       "      <td>audi 100 ls</td>\n",
       "      <td>gas</td>\n",
       "      <td>std</td>\n",
       "      <td>four</td>\n",
       "      <td>sedan</td>\n",
       "      <td>fwd</td>\n",
       "      <td>front</td>\n",
       "      <td>99.800</td>\n",
       "      <td>176.600</td>\n",
       "      <td>66.200</td>\n",
       "      <td>54.300</td>\n",
       "      <td>2337</td>\n",
       "      <td>ohc</td>\n",
       "      <td>four</td>\n",
       "      <td>109</td>\n",
       "      <td>mpfi</td>\n",
       "      <td>3.190</td>\n",
       "      <td>3.400</td>\n",
       "      <td>10.000</td>\n",
       "      <td>102</td>\n",
       "      <td>5500</td>\n",
       "      <td>24</td>\n",
       "      <td>30</td>\n",
       "      <td>13950.000</td>\n",
       "    </tr>\n",
       "    <tr>\n",
       "      <th>4</th>\n",
       "      <td>5</td>\n",
       "      <td>2</td>\n",
       "      <td>audi 100ls</td>\n",
       "      <td>gas</td>\n",
       "      <td>std</td>\n",
       "      <td>four</td>\n",
       "      <td>sedan</td>\n",
       "      <td>4wd</td>\n",
       "      <td>front</td>\n",
       "      <td>99.400</td>\n",
       "      <td>176.600</td>\n",
       "      <td>66.400</td>\n",
       "      <td>54.300</td>\n",
       "      <td>2824</td>\n",
       "      <td>ohc</td>\n",
       "      <td>five</td>\n",
       "      <td>136</td>\n",
       "      <td>mpfi</td>\n",
       "      <td>3.190</td>\n",
       "      <td>3.400</td>\n",
       "      <td>8.000</td>\n",
       "      <td>115</td>\n",
       "      <td>5500</td>\n",
       "      <td>18</td>\n",
       "      <td>22</td>\n",
       "      <td>17450.000</td>\n",
       "    </tr>\n",
       "  </tbody>\n",
       "</table>\n",
       "</div>"
      ],
      "text/plain": [
       "   car_ID  symboling                   CarName fueltype aspiration doornumber  \\\n",
       "0       1          3        alfa-romero giulia      gas        std        two   \n",
       "1       2          3       alfa-romero stelvio      gas        std        two   \n",
       "2       3          1  alfa-romero Quadrifoglio      gas        std        two   \n",
       "3       4          2               audi 100 ls      gas        std       four   \n",
       "4       5          2                audi 100ls      gas        std       four   \n",
       "\n",
       "       carbody drivewheel enginelocation  wheelbase  carlength  carwidth  \\\n",
       "0  convertible        rwd          front     88.600    168.800    64.100   \n",
       "1  convertible        rwd          front     88.600    168.800    64.100   \n",
       "2    hatchback        rwd          front     94.500    171.200    65.500   \n",
       "3        sedan        fwd          front     99.800    176.600    66.200   \n",
       "4        sedan        4wd          front     99.400    176.600    66.400   \n",
       "\n",
       "   carheight  curbweight enginetype cylindernumber  enginesize fuelsystem  \\\n",
       "0     48.800        2548       dohc           four         130       mpfi   \n",
       "1     48.800        2548       dohc           four         130       mpfi   \n",
       "2     52.400        2823       ohcv            six         152       mpfi   \n",
       "3     54.300        2337        ohc           four         109       mpfi   \n",
       "4     54.300        2824        ohc           five         136       mpfi   \n",
       "\n",
       "   boreratio  stroke  compressionratio  horsepower  peakrpm  citympg  \\\n",
       "0      3.470   2.680             9.000         111     5000       21   \n",
       "1      3.470   2.680             9.000         111     5000       21   \n",
       "2      2.680   3.470             9.000         154     5000       19   \n",
       "3      3.190   3.400            10.000         102     5500       24   \n",
       "4      3.190   3.400             8.000         115     5500       18   \n",
       "\n",
       "   highwaympg     price  \n",
       "0          27 13495.000  \n",
       "1          27 16500.000  \n",
       "2          26 16500.000  \n",
       "3          30 13950.000  \n",
       "4          22 17450.000  "
      ]
     },
     "execution_count": 74,
     "metadata": {},
     "output_type": "execute_result"
    }
   ],
   "source": [
    "car = pd.read_csv('CarPrice_Assignment.csv')\n",
    "print('Rows & Columns ::',car.shape)\n",
    "car.head()"
   ]
  },
  {
   "cell_type": "markdown",
   "metadata": {},
   "source": [
    "<a id='preprocessing'></a>"
   ]
  },
  {
   "cell_type": "markdown",
   "metadata": {},
   "source": [
    "## IV. Data Preprocessing"
   ]
  },
  {
   "cell_type": "markdown",
   "metadata": {},
   "source": [
    "#### 1. Null & Duplicate value checks"
   ]
  },
  {
   "cell_type": "code",
   "execution_count": 75,
   "metadata": {},
   "outputs": [
    {
     "name": "stdout",
     "output_type": "stream",
     "text": [
      "No of Null Values:  0\n",
      "No of duplicate rows:  0\n"
     ]
    }
   ],
   "source": [
    "# check if there are any null values\n",
    "print('No of Null Values: ',car.isnull().sum().sum())\n",
    "\n",
    "# check if there are any duplicate rows\n",
    "print('No of duplicate rows: ',car.duplicated().sum())\n",
    "# There are no null values & no duplicate rows in the dataset."
   ]
  },
  {
   "cell_type": "markdown",
   "metadata": {},
   "source": [
    "#### 2. Split column values"
   ]
  },
  {
   "cell_type": "code",
   "execution_count": 76,
   "metadata": {
    "collapsed": true,
    "scrolled": false
   },
   "outputs": [],
   "source": [
    "# As per the problem statement variable name 'CarName'  comprised of two parts:\n",
    "# first word is the name of 'car company' and the second is the 'car model'.\n",
    "car['company'],car['model'] = car['CarName'].str.split(' ', 1).str"
   ]
  },
  {
   "cell_type": "code",
   "execution_count": 77,
   "metadata": {},
   "outputs": [
    {
     "data": {
      "text/html": [
       "<div>\n",
       "<style>\n",
       "    .dataframe thead tr:only-child th {\n",
       "        text-align: right;\n",
       "    }\n",
       "\n",
       "    .dataframe thead th {\n",
       "        text-align: left;\n",
       "    }\n",
       "\n",
       "    .dataframe tbody tr th {\n",
       "        vertical-align: top;\n",
       "    }\n",
       "</style>\n",
       "<table border=\"1\" class=\"dataframe\">\n",
       "  <thead>\n",
       "    <tr style=\"text-align: right;\">\n",
       "      <th></th>\n",
       "      <th>CarName</th>\n",
       "      <th>company</th>\n",
       "    </tr>\n",
       "  </thead>\n",
       "  <tbody>\n",
       "    <tr>\n",
       "      <th>0</th>\n",
       "      <td>alfa-romero giulia</td>\n",
       "      <td>alfa-romero</td>\n",
       "    </tr>\n",
       "    <tr>\n",
       "      <th>1</th>\n",
       "      <td>alfa-romero stelvio</td>\n",
       "      <td>alfa-romero</td>\n",
       "    </tr>\n",
       "    <tr>\n",
       "      <th>2</th>\n",
       "      <td>alfa-romero Quadrifoglio</td>\n",
       "      <td>alfa-romero</td>\n",
       "    </tr>\n",
       "    <tr>\n",
       "      <th>3</th>\n",
       "      <td>audi 100 ls</td>\n",
       "      <td>audi</td>\n",
       "    </tr>\n",
       "  </tbody>\n",
       "</table>\n",
       "</div>"
      ],
      "text/plain": [
       "                    CarName      company\n",
       "0        alfa-romero giulia  alfa-romero\n",
       "1       alfa-romero stelvio  alfa-romero\n",
       "2  alfa-romero Quadrifoglio  alfa-romero\n",
       "3               audi 100 ls         audi"
      ]
     },
     "execution_count": 77,
     "metadata": {},
     "output_type": "execute_result"
    }
   ],
   "source": [
    "car[['CarName','company']].head(4)"
   ]
  },
  {
   "cell_type": "code",
   "execution_count": 78,
   "metadata": {
    "collapsed": true,
    "scrolled": false
   },
   "outputs": [],
   "source": [
    "# drop CarName column now\n",
    "car.drop(labels=['CarName','model'],axis=1, inplace=True)"
   ]
  },
  {
   "cell_type": "markdown",
   "metadata": {},
   "source": [
    "#### 3. Data Quality Issues"
   ]
  },
  {
   "cell_type": "code",
   "execution_count": 79,
   "metadata": {},
   "outputs": [
    {
     "data": {
      "text/plain": [
       "array(['alfa-romero', 'audi', 'bmw', 'chevrolet', 'dodge', 'honda',\n",
       "       'isuzu', 'jaguar', 'maxda', 'mazda', 'buick', 'mercury',\n",
       "       'mitsubishi', 'Nissan', 'nissan', 'peugeot', 'plymouth', 'porsche',\n",
       "       'porcshce', 'renault', 'saab', 'subaru', 'toyota', 'toyouta',\n",
       "       'vokswagen', 'volkswagen', 'vw', 'volvo'], dtype=object)"
      ]
     },
     "execution_count": 79,
     "metadata": {},
     "output_type": "execute_result"
    }
   ],
   "source": [
    "# data cleaning in company column\n",
    "car.company.unique()\n",
    "# mazda is mis-spelled as maxda\n",
    "# toyota is mis-spelled as toyouta\n",
    "# porsche is mis-spelled as porcshce\n",
    "# volkswagen is mis-spelled as vokswagen\n",
    "# volkswagen in short form written as vw\n",
    "# Nissan & nissan considered as two differnt company\n",
    "# 'alfa-romeo' is mis-spelled as 'alfa-romero'"
   ]
  },
  {
   "cell_type": "code",
   "execution_count": 80,
   "metadata": {
    "collapsed": true,
    "scrolled": false
   },
   "outputs": [],
   "source": [
    "# Correct the spelling mistakes\n",
    "car['company'] = car['company'].str.lower()\n",
    "car['company'] = car.loc[:, 'company'].replace(['maxda', 'toyouta', 'porcshce','vokswagen','vw','alfa-romero'], \\\n",
    "                              ['mazda', 'toyota', 'porsche','volkswagen','volkswagen','alfa-romeo'])"
   ]
  },
  {
   "cell_type": "code",
   "execution_count": 81,
   "metadata": {},
   "outputs": [
    {
     "data": {
      "text/plain": [
       "array(['alfa-romeo', 'audi', 'bmw', 'chevrolet', 'dodge', 'honda', 'isuzu',\n",
       "       'jaguar', 'mazda', 'buick', 'mercury', 'mitsubishi', 'nissan',\n",
       "       'peugeot', 'plymouth', 'porsche', 'renault', 'saab', 'subaru',\n",
       "       'toyota', 'volkswagen', 'volvo'], dtype=object)"
      ]
     },
     "execution_count": 81,
     "metadata": {},
     "output_type": "execute_result"
    }
   ],
   "source": [
    "car.company.unique()"
   ]
  },
  {
   "cell_type": "markdown",
   "metadata": {},
   "source": [
    "<a id='eda'></a>"
   ]
  },
  {
   "cell_type": "markdown",
   "metadata": {},
   "source": [
    "## V. Exploratory Data Analysis"
   ]
  },
  {
   "cell_type": "markdown",
   "metadata": {},
   "source": [
    "### Univariate Analysis"
   ]
  },
  {
   "cell_type": "markdown",
   "metadata": {},
   "source": [
    "#### 1. Car price Distribution"
   ]
  },
  {
   "cell_type": "code",
   "execution_count": 82,
   "metadata": {},
   "outputs": [
    {
     "data": {
      "image/png": "[encoded data removed]",
      "text/plain": [
       "<matplotlib.figure.Figure at 0x19ab6bd2860>"
      ]
     },
     "metadata": {},
     "output_type": "display_data"
    }
   ],
   "source": [
    "fig, ax=plt.subplots(nrows =1,ncols=3,figsize=(20,8))\n",
    "sns.set(style=\"darkgrid\")\n",
    "ax[0].set_title(\"Distribution Plot\")\n",
    "sns.distplot(car['price'],ax=ax[0])\n",
    "ax[1].set_title(\"Violin Plot\")\n",
    "sns.violinplot(car['price'],ax=ax[1], inner=\"quartile\")\n",
    "ax[2].set_title(\"Box Plot\")\n",
    "sns.boxplot(car['price'],ax=ax[2])\n",
    "plt.show()"
   ]
  },
  {
   "cell_type": "markdown",
   "metadata": {},
   "source": [
    "<font color='blue'><b>Insights</b>: Most of the car prices are distributed between 5000 to 15000 USD.</font> "
   ]
  },
  {
   "cell_type": "markdown",
   "metadata": {},
   "source": [
    "#### 2. Pie Chart of different categorical variables."
   ]
  },
  {
   "cell_type": "code",
   "execution_count": 83,
   "metadata": {},
   "outputs": [
    {
     "data": {
      "image/png": "[encoded data removed]",
      "text/plain": [
       "<matplotlib.figure.Figure at 0x19ab7245cc0>"
      ]
     },
     "metadata": {},
     "output_type": "display_data"
    }
   ],
   "source": [
    "fig, ax = plt.subplots(nrows=1, ncols=3,figsize=(21,7))\n",
    "car['cylindernumber'].value_counts().plot.pie(autopct='%.2f',ax=ax[0])\n",
    "ax[0].set_title(\"No of Cylinders\")\n",
    "car['fueltype'].value_counts().plot.pie(autopct='%.2f',ax=ax[1])\n",
    "ax[1].set_title(\"Fuel type\")\n",
    "car['enginetype'].value_counts().plot.pie(autopct='%.2f',ax=ax[2])\n",
    "ax[2].set_title(\"Engine type\")\n",
    "plt.show()"
   ]
  },
  {
   "cell_type": "markdown",
   "metadata": {},
   "source": [
    "<font color='blue'><b>Insights::</b></font> \n",
    "1. __77%__ of the cars have __four__ cylinders.\n",
    "2. __90%__ of the cars have __gas__ as a fuel type.\n",
    "3. __72%__ of the cars have __ohc__ engine type."
   ]
  },
  {
   "cell_type": "markdown",
   "metadata": {},
   "source": [
    "### Bivariate/Multivariate Analysis"
   ]
  },
  {
   "cell_type": "markdown",
   "metadata": {},
   "source": [
    "#### 1. Heatmap :: Correlation between continuos variables."
   ]
  },
  {
   "cell_type": "code",
   "execution_count": 84,
   "metadata": {},
   "outputs": [
    {
     "data": {
      "image/png": "[encoded data removed]",
      "text/plain": [
       "<matplotlib.figure.Figure at 0x19ab69f09b0>"
      ]
     },
     "metadata": {},
     "output_type": "display_data"
    }
   ],
   "source": [
    "corr = car.corr()\n",
    "plt.figure(figsize=(17,9))\n",
    "ax = sns.heatmap(corr, annot=True)\n",
    "rotx = ax.set_xticklabels(ax.get_xticklabels(), rotation=90)\n",
    "roty = ax.set_yticklabels(ax.get_yticklabels(), rotation=30)"
   ]
  },
  {
   "cell_type": "markdown",
   "metadata": {},
   "source": [
    "<font color='blue'><b>Insights</b>: Price is more correlated with engine size, curb weight, horsepower & carwidth of the car</font> "
   ]
  },
  {
   "cell_type": "markdown",
   "metadata": {},
   "source": [
    "#### 2. Scatter plot : Engine Size/Curb Weight vs Price"
   ]
  },
  {
   "cell_type": "code",
   "execution_count": 85,
   "metadata": {},
   "outputs": [
    {
     "data": {
      "image/png": "[encoded data removed]",
      "text/plain": [
       "<matplotlib.figure.Figure at 0x19ab7a867b8>"
      ]
     },
     "metadata": {},
     "output_type": "display_data"
    }
   ],
   "source": [
    "fig, ax=plt.subplots(nrows =1,ncols=2,figsize=(20,7))\n",
    "ax[0].set_title('Engine Size vs Price',fontsize=16,weight=\"bold\")\n",
    "sns.regplot(x='enginesize',y='price', data =car,ax=ax[0])\n",
    "ax[1].set_title(\"Curb Weight vs Price\",fontsize=16,weight=\"bold\")\n",
    "sns.regplot(x='curbweight',y='price', data =car,ax=ax[1])\n",
    "plt.show()"
   ]
  },
  {
   "cell_type": "markdown",
   "metadata": {
    "scrolled": false
   },
   "source": [
    "#### 3. Boxplot : Price distribution of different Car companies"
   ]
  },
  {
   "cell_type": "code",
   "execution_count": 86,
   "metadata": {},
   "outputs": [
    {
     "data": {
      "image/png": "[encoded data removed]",
      "text/plain": [
       "<matplotlib.figure.Figure at 0x19ab665b048>"
      ]
     },
     "metadata": {},
     "output_type": "display_data"
    }
   ],
   "source": [
    "# Price distribution of the cars company-wise\n",
    "plt.figure(figsize=(18,9))\n",
    "ax = sns.boxplot(x='company',y='price',data=car)\n",
    "ax.set_title('Company vs Price distribution',fontsize=18,weight=\"bold\")\n",
    "rotx = ax.set_xticklabels(ax.get_xticklabels(), rotation=45)"
   ]
  },
  {
   "cell_type": "markdown",
   "metadata": {},
   "source": [
    "<a id='cat'></a>"
   ]
  },
  {
   "cell_type": "markdown",
   "metadata": {},
   "source": [
    "## VI. Convert Categorical Variables to Continuos"
   ]
  },
  {
   "cell_type": "code",
   "execution_count": 87,
   "metadata": {},
   "outputs": [
    {
     "data": {
      "text/plain": [
       "fueltype           2\n",
       "aspiration         2\n",
       "doornumber         2\n",
       "carbody            5\n",
       "drivewheel         3\n",
       "enginelocation     2\n",
       "enginetype         7\n",
       "cylindernumber     7\n",
       "fuelsystem         8\n",
       "company           22\n",
       "dtype: int64"
      ]
     },
     "execution_count": 87,
     "metadata": {},
     "output_type": "execute_result"
    }
   ],
   "source": [
    "categorical_cols = car.select_dtypes(include=['object'])\n",
    "categorical_cols.nunique()"
   ]
  },
  {
   "cell_type": "code",
   "execution_count": 88,
   "metadata": {
    "collapsed": true,
    "scrolled": false
   },
   "outputs": [],
   "source": [
    "# first convert categorical columns where there are only two distinct values to numeric(0 or 1)\n",
    "car['fueltype'] = car['fueltype'].map({'gas':0, 'diesel':1})\n",
    "car['aspiration'] = car['aspiration'].map({'std':0, 'turbo':1})\n",
    "car['doornumber'] = car['doornumber'].map({'two':0, 'four':1})\n",
    "car['enginelocation'] = car['enginelocation'].map({'front':0, 'rear':1})"
   ]
  },
  {
   "cell_type": "code",
   "execution_count": 89,
   "metadata": {},
   "outputs": [
    {
     "data": {
      "text/plain": [
       "array(['four', 'six', 'five', 'three', 'twelve', 'two', 'eight'], dtype=object)"
      ]
     },
     "execution_count": 89,
     "metadata": {},
     "output_type": "execute_result"
    }
   ],
   "source": [
    "car['cylindernumber'] .unique()\n",
    "# Numeric value of cylindernumber is marked in 'Strings', so we will convert it to number."
   ]
  },
  {
   "cell_type": "code",
   "execution_count": 90,
   "metadata": {
    "collapsed": true
   },
   "outputs": [],
   "source": [
    "car['cylindernumber'] = car['cylindernumber'].map({'four':4, 'six':6, 'five':5, 'three':3, 'twelve':12, 'two':2, 'eight':8})"
   ]
  },
  {
   "cell_type": "markdown",
   "metadata": {},
   "source": [
    "__<font color='green'>UDF :: add_dummy(df,colname)</font>__\n",
    "\n",
    "###### add_dummy(df,colname) function will convert the categorical column to continuos by adding dummy variables to the dataframe and  drop the original categorical column."
   ]
  },
  {
   "cell_type": "code",
   "execution_count": 91,
   "metadata": {
    "collapsed": true,
    "scrolled": false
   },
   "outputs": [],
   "source": [
    "def add_dummy(df,colname):\n",
    "    \"\"\"\n",
    "    This function will convert the categorical column to continuos by adding dummy variables to the dataframe and \n",
    "    drop the original categorical column.\n",
    "    df      :: dataframe\n",
    "    colname :: name of categorical column\n",
    "    \"\"\"\n",
    "    df_new = df.copy()\n",
    "    dummy = pd.get_dummies(df_new[colname],drop_first=True)\n",
    "    df_new = pd.concat([df_new,dummy],axis=1)\n",
    "    df_new.drop(labels=colname,axis=1,inplace=True)\n",
    "    print(colname,':::',dummy.columns.values,'\\n')\n",
    "    del dummy\n",
    "    return df_new"
   ]
  },
  {
   "cell_type": "code",
   "execution_count": 92,
   "metadata": {},
   "outputs": [
    {
     "name": "stdout",
     "output_type": "stream",
     "text": [
      "carbody ::: ['hardtop' 'hatchback' 'sedan' 'wagon'] \n",
      "\n",
      "drivewheel ::: ['fwd' 'rwd'] \n",
      "\n",
      "enginetype ::: ['dohcv' 'l' 'ohc' 'ohcf' 'ohcv' 'rotor'] \n",
      "\n",
      "fuelsystem ::: ['2bbl' '4bbl' 'idi' 'mfi' 'mpfi' 'spdi' 'spfi'] \n",
      "\n"
     ]
    }
   ],
   "source": [
    "car = add_dummy(car,'carbody')\n",
    "car = add_dummy(car,'drivewheel')\n",
    "car = add_dummy(car,'enginetype')\n",
    "car = add_dummy(car,'fuelsystem')\n",
    "#car = add_dummy(car,'company')"
   ]
  },
  {
   "cell_type": "code",
   "execution_count": 93,
   "metadata": {},
   "outputs": [
    {
     "name": "stdout",
     "output_type": "stream",
     "text": [
      "Count of Car Companies:  22\n"
     ]
    }
   ],
   "source": [
    "print('Count of Car Companies: ',car.company.nunique())"
   ]
  },
  {
   "cell_type": "markdown",
   "metadata": {},
   "source": [
    "There are 22 different car companies, if we add the dummy variables for this column, we have to add __21 new columns__ which will make the model more __complex__ and  we may end up in __multiple iterations to build the best model.__\n",
    "\n",
    "So we will make 3 __categories__ of car companies __based on it's price range.__"
   ]
  },
  {
   "cell_type": "code",
   "execution_count": 94,
   "metadata": {},
   "outputs": [
    {
     "data": {
      "image/png": "[encoded data removed]",
      "text/plain": [
       "<matplotlib.figure.Figure at 0x19ab638f1d0>"
      ]
     },
     "metadata": {},
     "output_type": "display_data"
    }
   ],
   "source": [
    "car_class = car.groupby(by='company')['company','price'].mean().sort_values(by='price',ascending=False)\n",
    "\n",
    "x = range(len(car_class.index))\n",
    "\n",
    "car_class.plot(xticks=x,figsize=(20,7))\n",
    "# Add vertical lines\n",
    "plt.axvline(x=4,color='r')\n",
    "plt.axvline(x=10,color='r')\n",
    "# Add Text\n",
    "plt.text(1.5, 35000,'Economy')\n",
    "plt.text(7, 35000,'Midclass')\n",
    "plt.text(16, 35000,'Luxury')\n",
    "# Title\n",
    "plt.title('Car Categories',fontsize = 14)\n",
    "plt.show()"
   ]
  },
  {
   "cell_type": "code",
   "execution_count": 95,
   "metadata": {
    "collapsed": true
   },
   "outputs": [],
   "source": [
    "# By looking at the above plot, we can say that all the cars comanies can be divided into three class based on it's price range:\n",
    "luxury  = ['jaguar','buick','porsche','bmw']\n",
    "midclass = ['volvo', 'audi', 'mercury','alfa-romero', 'peugeot', 'saab']\n",
    "economy = ['mazda', 'nissan', 'volkswagen','toyota', 'renault', 'mitsubishi', 'isuzu', 'subaru', 'honda',\\\n",
    "           'plymouth', 'dodge', 'chevrolet']"
   ]
  },
  {
   "cell_type": "code",
   "execution_count": 96,
   "metadata": {
    "collapsed": true
   },
   "outputs": [],
   "source": [
    "car['company'].replace(to_replace=luxury,value='luxury',inplace=True)\n",
    "car['company'].replace(to_replace=midclass,value='midclass',inplace=True)\n",
    "car['company'].replace(to_replace=economy,value='economy',inplace=True)"
   ]
  },
  {
   "cell_type": "code",
   "execution_count": 97,
   "metadata": {},
   "outputs": [
    {
     "data": {
      "text/plain": [
       "array(['alfa-romeo', 'midclass', 'luxury', 'economy'], dtype=object)"
      ]
     },
     "execution_count": 97,
     "metadata": {},
     "output_type": "execute_result"
    }
   ],
   "source": [
    "car['company'].unique()"
   ]
  },
  {
   "cell_type": "code",
   "execution_count": 98,
   "metadata": {},
   "outputs": [
    {
     "name": "stdout",
     "output_type": "stream",
     "text": [
      "company ::: ['economy' 'luxury' 'midclass'] \n",
      "\n"
     ]
    }
   ],
   "source": [
    "# Now add dummy variable for car company(which is now reduced from 20 categories to 3 categories)\n",
    "car = add_dummy(car,'company')"
   ]
  },
  {
   "cell_type": "code",
   "execution_count": 99,
   "metadata": {},
   "outputs": [
    {
     "data": {
      "text/html": [
       "<div>\n",
       "<style>\n",
       "    .dataframe thead tr:only-child th {\n",
       "        text-align: right;\n",
       "    }\n",
       "\n",
       "    .dataframe thead th {\n",
       "        text-align: left;\n",
       "    }\n",
       "\n",
       "    .dataframe tbody tr th {\n",
       "        vertical-align: top;\n",
       "    }\n",
       "</style>\n",
       "<table border=\"1\" class=\"dataframe\">\n",
       "  <thead>\n",
       "    <tr style=\"text-align: right;\">\n",
       "      <th></th>\n",
       "      <th>car_ID</th>\n",
       "      <th>symboling</th>\n",
       "      <th>fueltype</th>\n",
       "      <th>aspiration</th>\n",
       "      <th>doornumber</th>\n",
       "      <th>enginelocation</th>\n",
       "      <th>wheelbase</th>\n",
       "      <th>carlength</th>\n",
       "      <th>carwidth</th>\n",
       "      <th>carheight</th>\n",
       "      <th>curbweight</th>\n",
       "      <th>cylindernumber</th>\n",
       "      <th>enginesize</th>\n",
       "      <th>boreratio</th>\n",
       "      <th>stroke</th>\n",
       "      <th>compressionratio</th>\n",
       "      <th>horsepower</th>\n",
       "      <th>peakrpm</th>\n",
       "      <th>citympg</th>\n",
       "      <th>highwaympg</th>\n",
       "      <th>price</th>\n",
       "      <th>hardtop</th>\n",
       "      <th>hatchback</th>\n",
       "      <th>sedan</th>\n",
       "      <th>wagon</th>\n",
       "      <th>fwd</th>\n",
       "      <th>rwd</th>\n",
       "      <th>dohcv</th>\n",
       "      <th>l</th>\n",
       "      <th>ohc</th>\n",
       "      <th>ohcf</th>\n",
       "      <th>ohcv</th>\n",
       "      <th>rotor</th>\n",
       "      <th>2bbl</th>\n",
       "      <th>4bbl</th>\n",
       "      <th>idi</th>\n",
       "      <th>mfi</th>\n",
       "      <th>mpfi</th>\n",
       "      <th>spdi</th>\n",
       "      <th>spfi</th>\n",
       "      <th>economy</th>\n",
       "      <th>luxury</th>\n",
       "      <th>midclass</th>\n",
       "    </tr>\n",
       "  </thead>\n",
       "  <tbody>\n",
       "    <tr>\n",
       "      <th>0</th>\n",
       "      <td>1</td>\n",
       "      <td>3</td>\n",
       "      <td>0</td>\n",
       "      <td>0</td>\n",
       "      <td>0</td>\n",
       "      <td>0</td>\n",
       "      <td>88.600</td>\n",
       "      <td>168.800</td>\n",
       "      <td>64.100</td>\n",
       "      <td>48.800</td>\n",
       "      <td>2548</td>\n",
       "      <td>4</td>\n",
       "      <td>130</td>\n",
       "      <td>3.470</td>\n",
       "      <td>2.680</td>\n",
       "      <td>9.000</td>\n",
       "      <td>111</td>\n",
       "      <td>5000</td>\n",
       "      <td>21</td>\n",
       "      <td>27</td>\n",
       "      <td>13495.000</td>\n",
       "      <td>0</td>\n",
       "      <td>0</td>\n",
       "      <td>0</td>\n",
       "      <td>0</td>\n",
       "      <td>0</td>\n",
       "      <td>1</td>\n",
       "      <td>0</td>\n",
       "      <td>0</td>\n",
       "      <td>0</td>\n",
       "      <td>0</td>\n",
       "      <td>0</td>\n",
       "      <td>0</td>\n",
       "      <td>0</td>\n",
       "      <td>0</td>\n",
       "      <td>0</td>\n",
       "      <td>0</td>\n",
       "      <td>1</td>\n",
       "      <td>0</td>\n",
       "      <td>0</td>\n",
       "      <td>0</td>\n",
       "      <td>0</td>\n",
       "      <td>0</td>\n",
       "    </tr>\n",
       "    <tr>\n",
       "      <th>1</th>\n",
       "      <td>2</td>\n",
       "      <td>3</td>\n",
       "      <td>0</td>\n",
       "      <td>0</td>\n",
       "      <td>0</td>\n",
       "      <td>0</td>\n",
       "      <td>88.600</td>\n",
       "      <td>168.800</td>\n",
       "      <td>64.100</td>\n",
       "      <td>48.800</td>\n",
       "      <td>2548</td>\n",
       "      <td>4</td>\n",
       "      <td>130</td>\n",
       "      <td>3.470</td>\n",
       "      <td>2.680</td>\n",
       "      <td>9.000</td>\n",
       "      <td>111</td>\n",
       "      <td>5000</td>\n",
       "      <td>21</td>\n",
       "      <td>27</td>\n",
       "      <td>16500.000</td>\n",
       "      <td>0</td>\n",
       "      <td>0</td>\n",
       "      <td>0</td>\n",
       "      <td>0</td>\n",
       "      <td>0</td>\n",
       "      <td>1</td>\n",
       "      <td>0</td>\n",
       "      <td>0</td>\n",
       "      <td>0</td>\n",
       "      <td>0</td>\n",
       "      <td>0</td>\n",
       "      <td>0</td>\n",
       "      <td>0</td>\n",
       "      <td>0</td>\n",
       "      <td>0</td>\n",
       "      <td>0</td>\n",
       "      <td>1</td>\n",
       "      <td>0</td>\n",
       "      <td>0</td>\n",
       "      <td>0</td>\n",
       "      <td>0</td>\n",
       "      <td>0</td>\n",
       "    </tr>\n",
       "    <tr>\n",
       "      <th>2</th>\n",
       "      <td>3</td>\n",
       "      <td>1</td>\n",
       "      <td>0</td>\n",
       "      <td>0</td>\n",
       "      <td>0</td>\n",
       "      <td>0</td>\n",
       "      <td>94.500</td>\n",
       "      <td>171.200</td>\n",
       "      <td>65.500</td>\n",
       "      <td>52.400</td>\n",
       "      <td>2823</td>\n",
       "      <td>6</td>\n",
       "      <td>152</td>\n",
       "      <td>2.680</td>\n",
       "      <td>3.470</td>\n",
       "      <td>9.000</td>\n",
       "      <td>154</td>\n",
       "      <td>5000</td>\n",
       "      <td>19</td>\n",
       "      <td>26</td>\n",
       "      <td>16500.000</td>\n",
       "      <td>0</td>\n",
       "      <td>1</td>\n",
       "      <td>0</td>\n",
       "      <td>0</td>\n",
       "      <td>0</td>\n",
       "      <td>1</td>\n",
       "      <td>0</td>\n",
       "      <td>0</td>\n",
       "      <td>0</td>\n",
       "      <td>0</td>\n",
       "      <td>1</td>\n",
       "      <td>0</td>\n",
       "      <td>0</td>\n",
       "      <td>0</td>\n",
       "      <td>0</td>\n",
       "      <td>0</td>\n",
       "      <td>1</td>\n",
       "      <td>0</td>\n",
       "      <td>0</td>\n",
       "      <td>0</td>\n",
       "      <td>0</td>\n",
       "      <td>0</td>\n",
       "    </tr>\n",
       "  </tbody>\n",
       "</table>\n",
       "</div>"
      ],
      "text/plain": [
       "   car_ID  symboling  fueltype  aspiration  doornumber  enginelocation  \\\n",
       "0       1          3         0           0           0               0   \n",
       "1       2          3         0           0           0               0   \n",
       "2       3          1         0           0           0               0   \n",
       "\n",
       "   wheelbase  carlength  carwidth  carheight  curbweight  cylindernumber  \\\n",
       "0     88.600    168.800    64.100     48.800        2548               4   \n",
       "1     88.600    168.800    64.100     48.800        2548               4   \n",
       "2     94.500    171.200    65.500     52.400        2823               6   \n",
       "\n",
       "   enginesize  boreratio  stroke  compressionratio  horsepower  peakrpm  \\\n",
       "0         130      3.470   2.680             9.000         111     5000   \n",
       "1         130      3.470   2.680             9.000         111     5000   \n",
       "2         152      2.680   3.470             9.000         154     5000   \n",
       "\n",
       "   citympg  highwaympg     price  hardtop  hatchback  sedan  wagon  fwd  rwd  \\\n",
       "0       21          27 13495.000        0          0      0      0    0    1   \n",
       "1       21          27 16500.000        0          0      0      0    0    1   \n",
       "2       19          26 16500.000        0          1      0      0    0    1   \n",
       "\n",
       "   dohcv  l  ohc  ohcf  ohcv  rotor  2bbl  4bbl  idi  mfi  mpfi  spdi  spfi  \\\n",
       "0      0  0    0     0     0      0     0     0    0    0     1     0     0   \n",
       "1      0  0    0     0     0      0     0     0    0    0     1     0     0   \n",
       "2      0  0    0     0     1      0     0     0    0    0     1     0     0   \n",
       "\n",
       "   economy  luxury  midclass  \n",
       "0        0       0         0  \n",
       "1        0       0         0  \n",
       "2        0       0         0  "
      ]
     },
     "execution_count": 99,
     "metadata": {},
     "output_type": "execute_result"
    }
   ],
   "source": [
    "car.head(3)"
   ]
  },
  {
   "cell_type": "markdown",
   "metadata": {},
   "source": [
    "<a id='scaling'></a>"
   ]
  },
  {
   "cell_type": "markdown",
   "metadata": {},
   "source": [
    "## VII. Feature Scaling"
   ]
  },
  {
   "cell_type": "markdown",
   "metadata": {},
   "source": [
    "#### Normalize the data between 0 and 1 using min-max normalization."
   ]
  },
  {
   "cell_type": "code",
   "execution_count": 100,
   "metadata": {
    "collapsed": true,
    "scrolled": false
   },
   "outputs": [],
   "source": [
    "car=(car-car.min())/(car.max()-car.min())"
   ]
  },
  {
   "cell_type": "code",
   "execution_count": 101,
   "metadata": {},
   "outputs": [
    {
     "data": {
      "text/html": [
       "<div>\n",
       "<style>\n",
       "    .dataframe thead tr:only-child th {\n",
       "        text-align: right;\n",
       "    }\n",
       "\n",
       "    .dataframe thead th {\n",
       "        text-align: left;\n",
       "    }\n",
       "\n",
       "    .dataframe tbody tr th {\n",
       "        vertical-align: top;\n",
       "    }\n",
       "</style>\n",
       "<table border=\"1\" class=\"dataframe\">\n",
       "  <thead>\n",
       "    <tr style=\"text-align: right;\">\n",
       "      <th></th>\n",
       "      <th>car_ID</th>\n",
       "      <th>symboling</th>\n",
       "      <th>fueltype</th>\n",
       "      <th>aspiration</th>\n",
       "      <th>doornumber</th>\n",
       "      <th>enginelocation</th>\n",
       "      <th>wheelbase</th>\n",
       "      <th>carlength</th>\n",
       "      <th>carwidth</th>\n",
       "      <th>carheight</th>\n",
       "      <th>curbweight</th>\n",
       "      <th>cylindernumber</th>\n",
       "      <th>enginesize</th>\n",
       "      <th>boreratio</th>\n",
       "      <th>stroke</th>\n",
       "      <th>compressionratio</th>\n",
       "      <th>horsepower</th>\n",
       "      <th>peakrpm</th>\n",
       "      <th>citympg</th>\n",
       "      <th>highwaympg</th>\n",
       "      <th>price</th>\n",
       "      <th>hardtop</th>\n",
       "      <th>hatchback</th>\n",
       "      <th>sedan</th>\n",
       "      <th>wagon</th>\n",
       "      <th>fwd</th>\n",
       "      <th>rwd</th>\n",
       "      <th>dohcv</th>\n",
       "      <th>l</th>\n",
       "      <th>ohc</th>\n",
       "      <th>ohcf</th>\n",
       "      <th>ohcv</th>\n",
       "      <th>rotor</th>\n",
       "      <th>2bbl</th>\n",
       "      <th>4bbl</th>\n",
       "      <th>idi</th>\n",
       "      <th>mfi</th>\n",
       "      <th>mpfi</th>\n",
       "      <th>spdi</th>\n",
       "      <th>spfi</th>\n",
       "      <th>economy</th>\n",
       "      <th>luxury</th>\n",
       "      <th>midclass</th>\n",
       "    </tr>\n",
       "  </thead>\n",
       "  <tbody>\n",
       "    <tr>\n",
       "      <th>0</th>\n",
       "      <td>0.000</td>\n",
       "      <td>1.000</td>\n",
       "      <td>0.000</td>\n",
       "      <td>0.000</td>\n",
       "      <td>0.000</td>\n",
       "      <td>0.000</td>\n",
       "      <td>0.058</td>\n",
       "      <td>0.413</td>\n",
       "      <td>0.317</td>\n",
       "      <td>0.083</td>\n",
       "      <td>0.411</td>\n",
       "      <td>0.200</td>\n",
       "      <td>0.260</td>\n",
       "      <td>0.664</td>\n",
       "      <td>0.290</td>\n",
       "      <td>0.125</td>\n",
       "      <td>0.263</td>\n",
       "      <td>0.347</td>\n",
       "      <td>0.222</td>\n",
       "      <td>0.289</td>\n",
       "      <td>0.208</td>\n",
       "      <td>0.000</td>\n",
       "      <td>0.000</td>\n",
       "      <td>0.000</td>\n",
       "      <td>0.000</td>\n",
       "      <td>0.000</td>\n",
       "      <td>1.000</td>\n",
       "      <td>0.000</td>\n",
       "      <td>0.000</td>\n",
       "      <td>0.000</td>\n",
       "      <td>0.000</td>\n",
       "      <td>0.000</td>\n",
       "      <td>0.000</td>\n",
       "      <td>0.000</td>\n",
       "      <td>0.000</td>\n",
       "      <td>0.000</td>\n",
       "      <td>0.000</td>\n",
       "      <td>1.000</td>\n",
       "      <td>0.000</td>\n",
       "      <td>0.000</td>\n",
       "      <td>0.000</td>\n",
       "      <td>0.000</td>\n",
       "      <td>0.000</td>\n",
       "    </tr>\n",
       "    <tr>\n",
       "      <th>1</th>\n",
       "      <td>0.005</td>\n",
       "      <td>1.000</td>\n",
       "      <td>0.000</td>\n",
       "      <td>0.000</td>\n",
       "      <td>0.000</td>\n",
       "      <td>0.000</td>\n",
       "      <td>0.058</td>\n",
       "      <td>0.413</td>\n",
       "      <td>0.317</td>\n",
       "      <td>0.083</td>\n",
       "      <td>0.411</td>\n",
       "      <td>0.200</td>\n",
       "      <td>0.260</td>\n",
       "      <td>0.664</td>\n",
       "      <td>0.290</td>\n",
       "      <td>0.125</td>\n",
       "      <td>0.263</td>\n",
       "      <td>0.347</td>\n",
       "      <td>0.222</td>\n",
       "      <td>0.289</td>\n",
       "      <td>0.283</td>\n",
       "      <td>0.000</td>\n",
       "      <td>0.000</td>\n",
       "      <td>0.000</td>\n",
       "      <td>0.000</td>\n",
       "      <td>0.000</td>\n",
       "      <td>1.000</td>\n",
       "      <td>0.000</td>\n",
       "      <td>0.000</td>\n",
       "      <td>0.000</td>\n",
       "      <td>0.000</td>\n",
       "      <td>0.000</td>\n",
       "      <td>0.000</td>\n",
       "      <td>0.000</td>\n",
       "      <td>0.000</td>\n",
       "      <td>0.000</td>\n",
       "      <td>0.000</td>\n",
       "      <td>1.000</td>\n",
       "      <td>0.000</td>\n",
       "      <td>0.000</td>\n",
       "      <td>0.000</td>\n",
       "      <td>0.000</td>\n",
       "      <td>0.000</td>\n",
       "    </tr>\n",
       "    <tr>\n",
       "      <th>2</th>\n",
       "      <td>0.010</td>\n",
       "      <td>0.600</td>\n",
       "      <td>0.000</td>\n",
       "      <td>0.000</td>\n",
       "      <td>0.000</td>\n",
       "      <td>0.000</td>\n",
       "      <td>0.230</td>\n",
       "      <td>0.449</td>\n",
       "      <td>0.433</td>\n",
       "      <td>0.383</td>\n",
       "      <td>0.518</td>\n",
       "      <td>0.400</td>\n",
       "      <td>0.343</td>\n",
       "      <td>0.100</td>\n",
       "      <td>0.667</td>\n",
       "      <td>0.125</td>\n",
       "      <td>0.442</td>\n",
       "      <td>0.347</td>\n",
       "      <td>0.167</td>\n",
       "      <td>0.263</td>\n",
       "      <td>0.283</td>\n",
       "      <td>0.000</td>\n",
       "      <td>1.000</td>\n",
       "      <td>0.000</td>\n",
       "      <td>0.000</td>\n",
       "      <td>0.000</td>\n",
       "      <td>1.000</td>\n",
       "      <td>0.000</td>\n",
       "      <td>0.000</td>\n",
       "      <td>0.000</td>\n",
       "      <td>0.000</td>\n",
       "      <td>1.000</td>\n",
       "      <td>0.000</td>\n",
       "      <td>0.000</td>\n",
       "      <td>0.000</td>\n",
       "      <td>0.000</td>\n",
       "      <td>0.000</td>\n",
       "      <td>1.000</td>\n",
       "      <td>0.000</td>\n",
       "      <td>0.000</td>\n",
       "      <td>0.000</td>\n",
       "      <td>0.000</td>\n",
       "      <td>0.000</td>\n",
       "    </tr>\n",
       "    <tr>\n",
       "      <th>3</th>\n",
       "      <td>0.015</td>\n",
       "      <td>0.800</td>\n",
       "      <td>0.000</td>\n",
       "      <td>0.000</td>\n",
       "      <td>1.000</td>\n",
       "      <td>0.000</td>\n",
       "      <td>0.385</td>\n",
       "      <td>0.530</td>\n",
       "      <td>0.492</td>\n",
       "      <td>0.542</td>\n",
       "      <td>0.329</td>\n",
       "      <td>0.200</td>\n",
       "      <td>0.181</td>\n",
       "      <td>0.464</td>\n",
       "      <td>0.633</td>\n",
       "      <td>0.188</td>\n",
       "      <td>0.225</td>\n",
       "      <td>0.551</td>\n",
       "      <td>0.306</td>\n",
       "      <td>0.368</td>\n",
       "      <td>0.219</td>\n",
       "      <td>0.000</td>\n",
       "      <td>0.000</td>\n",
       "      <td>1.000</td>\n",
       "      <td>0.000</td>\n",
       "      <td>1.000</td>\n",
       "      <td>0.000</td>\n",
       "      <td>0.000</td>\n",
       "      <td>0.000</td>\n",
       "      <td>1.000</td>\n",
       "      <td>0.000</td>\n",
       "      <td>0.000</td>\n",
       "      <td>0.000</td>\n",
       "      <td>0.000</td>\n",
       "      <td>0.000</td>\n",
       "      <td>0.000</td>\n",
       "      <td>0.000</td>\n",
       "      <td>1.000</td>\n",
       "      <td>0.000</td>\n",
       "      <td>0.000</td>\n",
       "      <td>0.000</td>\n",
       "      <td>0.000</td>\n",
       "      <td>1.000</td>\n",
       "    </tr>\n",
       "    <tr>\n",
       "      <th>4</th>\n",
       "      <td>0.020</td>\n",
       "      <td>0.800</td>\n",
       "      <td>0.000</td>\n",
       "      <td>0.000</td>\n",
       "      <td>1.000</td>\n",
       "      <td>0.000</td>\n",
       "      <td>0.373</td>\n",
       "      <td>0.530</td>\n",
       "      <td>0.508</td>\n",
       "      <td>0.542</td>\n",
       "      <td>0.518</td>\n",
       "      <td>0.300</td>\n",
       "      <td>0.283</td>\n",
       "      <td>0.464</td>\n",
       "      <td>0.633</td>\n",
       "      <td>0.062</td>\n",
       "      <td>0.279</td>\n",
       "      <td>0.551</td>\n",
       "      <td>0.139</td>\n",
       "      <td>0.158</td>\n",
       "      <td>0.306</td>\n",
       "      <td>0.000</td>\n",
       "      <td>0.000</td>\n",
       "      <td>1.000</td>\n",
       "      <td>0.000</td>\n",
       "      <td>0.000</td>\n",
       "      <td>0.000</td>\n",
       "      <td>0.000</td>\n",
       "      <td>0.000</td>\n",
       "      <td>1.000</td>\n",
       "      <td>0.000</td>\n",
       "      <td>0.000</td>\n",
       "      <td>0.000</td>\n",
       "      <td>0.000</td>\n",
       "      <td>0.000</td>\n",
       "      <td>0.000</td>\n",
       "      <td>0.000</td>\n",
       "      <td>1.000</td>\n",
       "      <td>0.000</td>\n",
       "      <td>0.000</td>\n",
       "      <td>0.000</td>\n",
       "      <td>0.000</td>\n",
       "      <td>1.000</td>\n",
       "    </tr>\n",
       "  </tbody>\n",
       "</table>\n",
       "</div>"
      ],
      "text/plain": [
       "   car_ID  symboling  fueltype  aspiration  doornumber  enginelocation  \\\n",
       "0   0.000      1.000     0.000       0.000       0.000           0.000   \n",
       "1   0.005      1.000     0.000       0.000       0.000           0.000   \n",
       "2   0.010      0.600     0.000       0.000       0.000           0.000   \n",
       "3   0.015      0.800     0.000       0.000       1.000           0.000   \n",
       "4   0.020      0.800     0.000       0.000       1.000           0.000   \n",
       "\n",
       "   wheelbase  carlength  carwidth  carheight  curbweight  cylindernumber  \\\n",
       "0      0.058      0.413     0.317      0.083       0.411           0.200   \n",
       "1      0.058      0.413     0.317      0.083       0.411           0.200   \n",
       "2      0.230      0.449     0.433      0.383       0.518           0.400   \n",
       "3      0.385      0.530     0.492      0.542       0.329           0.200   \n",
       "4      0.373      0.530     0.508      0.542       0.518           0.300   \n",
       "\n",
       "   enginesize  boreratio  stroke  compressionratio  horsepower  peakrpm  \\\n",
       "0       0.260      0.664   0.290             0.125       0.263    0.347   \n",
       "1       0.260      0.664   0.290             0.125       0.263    0.347   \n",
       "2       0.343      0.100   0.667             0.125       0.442    0.347   \n",
       "3       0.181      0.464   0.633             0.188       0.225    0.551   \n",
       "4       0.283      0.464   0.633             0.062       0.279    0.551   \n",
       "\n",
       "   citympg  highwaympg  price  hardtop  hatchback  sedan  wagon   fwd   rwd  \\\n",
       "0    0.222       0.289  0.208    0.000      0.000  0.000  0.000 0.000 1.000   \n",
       "1    0.222       0.289  0.283    0.000      0.000  0.000  0.000 0.000 1.000   \n",
       "2    0.167       0.263  0.283    0.000      1.000  0.000  0.000 0.000 1.000   \n",
       "3    0.306       0.368  0.219    0.000      0.000  1.000  0.000 1.000 0.000   \n",
       "4    0.139       0.158  0.306    0.000      0.000  1.000  0.000 0.000 0.000   \n",
       "\n",
       "   dohcv     l   ohc  ohcf  ohcv  rotor  2bbl  4bbl   idi   mfi  mpfi  spdi  \\\n",
       "0  0.000 0.000 0.000 0.000 0.000  0.000 0.000 0.000 0.000 0.000 1.000 0.000   \n",
       "1  0.000 0.000 0.000 0.000 0.000  0.000 0.000 0.000 0.000 0.000 1.000 0.000   \n",
       "2  0.000 0.000 0.000 0.000 1.000  0.000 0.000 0.000 0.000 0.000 1.000 0.000   \n",
       "3  0.000 0.000 1.000 0.000 0.000  0.000 0.000 0.000 0.000 0.000 1.000 0.000   \n",
       "4  0.000 0.000 1.000 0.000 0.000  0.000 0.000 0.000 0.000 0.000 1.000 0.000   \n",
       "\n",
       "   spfi  economy  luxury  midclass  \n",
       "0 0.000    0.000   0.000     0.000  \n",
       "1 0.000    0.000   0.000     0.000  \n",
       "2 0.000    0.000   0.000     0.000  \n",
       "3 0.000    0.000   0.000     1.000  \n",
       "4 0.000    0.000   0.000     1.000  "
      ]
     },
     "execution_count": 101,
     "metadata": {},
     "output_type": "execute_result"
    }
   ],
   "source": [
    "car.head()"
   ]
  },
  {
   "cell_type": "markdown",
   "metadata": {},
   "source": [
    "<a id='feature'></a>"
   ]
  },
  {
   "cell_type": "markdown",
   "metadata": {},
   "source": [
    "## VIII. Feature Selection"
   ]
  },
  {
   "cell_type": "code",
   "execution_count": 102,
   "metadata": {
    "collapsed": true,
    "scrolled": false
   },
   "outputs": [],
   "source": [
    "# Putting feature variable to X(remove car_ID & price)\n",
    "X = car.loc[:, ~car.columns.isin(['car_ID','price'])]\n",
    "\n",
    "# Putting target variable to y\n",
    "y = car['price']"
   ]
  },
  {
   "cell_type": "code",
   "execution_count": 103,
   "metadata": {},
   "outputs": [
    {
     "name": "stdout",
     "output_type": "stream",
     "text": [
      "No. of Features:  41\n"
     ]
    }
   ],
   "source": [
    "from sklearn.cross_validation import train_test_split\n",
    "X_train, X_test, y_train, y_test = train_test_split(X, y, train_size=0.70 , random_state=100)\n",
    "print('No. of Features: ',X_train.shape[1])"
   ]
  },
  {
   "cell_type": "code",
   "execution_count": 104,
   "metadata": {
    "collapsed": true,
    "scrolled": false
   },
   "outputs": [],
   "source": [
    "regression = LinearRegression()"
   ]
  },
  {
   "cell_type": "markdown",
   "metadata": {},
   "source": [
    "#### Using RFE to select top features."
   ]
  },
  {
   "cell_type": "code",
   "execution_count": 105,
   "metadata": {},
   "outputs": [
    {
     "name": "stdout",
     "output_type": "stream",
     "text": [
      "Features sorted by their rank::::\n",
      "\n",
      "[(1, 'boreratio'), (1, 'carwidth'), (1, 'curbweight'), (1, 'cylindernumber'), (1, 'enginelocation'), (1, 'enginesize'), (1, 'hardtop'), (1, 'hatchback'), (1, 'highwaympg'), (1, 'horsepower'), (1, 'luxury'), (1, 'midclass'), (1, 'ohcf'), (1, 'rotor'), (1, 'sedan'), (1, 'stroke'), (1, 'wagon'), (1, 'wheelbase'), (2, 'ohc'), (3, 'idi'), (4, 'fueltype'), (5, 'compressionratio'), (6, 'spdi'), (7, 'carlength'), (8, 'peakrpm'), (9, 'l'), (10, 'fwd'), (11, 'aspiration'), (12, 'carheight'), (13, '2bbl'), (14, 'mpfi'), (15, 'citympg'), (16, 'rwd'), (17, 'dohcv'), (18, 'ohcv'), (19, 'symboling'), (20, '4bbl'), (21, 'economy'), (22, 'doornumber'), (23, 'spfi'), (24, 'mfi')]\n"
     ]
    }
   ],
   "source": [
    "#rank all features\n",
    "from sklearn.feature_selection import RFE\n",
    "rfe = RFE(regression, n_features_to_select=18)\n",
    "rfe.fit(X_train,y_train)\n",
    "\n",
    "print (\"Features sorted by their rank::::\\n\")\n",
    "feature_ranking = sorted(list(zip(rfe.ranking_,X_train.columns)))\n",
    "print(feature_ranking)"
   ]
  },
  {
   "cell_type": "markdown",
   "metadata": {
    "scrolled": false
   },
   "source": [
    "#### There are 40 features, we will select top 18 features from it and then mannualy do the backward elimination based on its p-value & VIF."
   ]
  },
  {
   "cell_type": "code",
   "execution_count": 106,
   "metadata": {},
   "outputs": [
    {
     "name": "stdout",
     "output_type": "stream",
     "text": [
      "No. of Features after RFE:  18\n"
     ]
    },
    {
     "data": {
      "text/html": [
       "<div>\n",
       "<style>\n",
       "    .dataframe thead tr:only-child th {\n",
       "        text-align: right;\n",
       "    }\n",
       "\n",
       "    .dataframe thead th {\n",
       "        text-align: left;\n",
       "    }\n",
       "\n",
       "    .dataframe tbody tr th {\n",
       "        vertical-align: top;\n",
       "    }\n",
       "</style>\n",
       "<table border=\"1\" class=\"dataframe\">\n",
       "  <thead>\n",
       "    <tr style=\"text-align: right;\">\n",
       "      <th></th>\n",
       "      <th>enginelocation</th>\n",
       "      <th>wheelbase</th>\n",
       "      <th>carwidth</th>\n",
       "      <th>curbweight</th>\n",
       "      <th>cylindernumber</th>\n",
       "      <th>enginesize</th>\n",
       "      <th>boreratio</th>\n",
       "      <th>stroke</th>\n",
       "      <th>horsepower</th>\n",
       "      <th>highwaympg</th>\n",
       "      <th>hardtop</th>\n",
       "      <th>hatchback</th>\n",
       "      <th>sedan</th>\n",
       "      <th>wagon</th>\n",
       "      <th>ohcf</th>\n",
       "      <th>rotor</th>\n",
       "      <th>luxury</th>\n",
       "      <th>midclass</th>\n",
       "    </tr>\n",
       "  </thead>\n",
       "  <tbody>\n",
       "    <tr>\n",
       "      <th>122</th>\n",
       "      <td>0.000</td>\n",
       "      <td>0.207</td>\n",
       "      <td>0.292</td>\n",
       "      <td>0.273</td>\n",
       "      <td>0.200</td>\n",
       "      <td>0.140</td>\n",
       "      <td>0.307</td>\n",
       "      <td>0.552</td>\n",
       "      <td>0.083</td>\n",
       "      <td>0.579</td>\n",
       "      <td>0.000</td>\n",
       "      <td>0.000</td>\n",
       "      <td>1.000</td>\n",
       "      <td>0.000</td>\n",
       "      <td>0.000</td>\n",
       "      <td>0.000</td>\n",
       "      <td>0.000</td>\n",
       "      <td>0.000</td>\n",
       "    </tr>\n",
       "    <tr>\n",
       "      <th>125</th>\n",
       "      <td>0.000</td>\n",
       "      <td>0.230</td>\n",
       "      <td>0.667</td>\n",
       "      <td>0.500</td>\n",
       "      <td>0.200</td>\n",
       "      <td>0.340</td>\n",
       "      <td>1.000</td>\n",
       "      <td>0.495</td>\n",
       "      <td>0.396</td>\n",
       "      <td>0.289</td>\n",
       "      <td>0.000</td>\n",
       "      <td>1.000</td>\n",
       "      <td>0.000</td>\n",
       "      <td>0.000</td>\n",
       "      <td>0.000</td>\n",
       "      <td>0.000</td>\n",
       "      <td>1.000</td>\n",
       "      <td>0.000</td>\n",
       "    </tr>\n",
       "    <tr>\n",
       "      <th>166</th>\n",
       "      <td>0.000</td>\n",
       "      <td>0.230</td>\n",
       "      <td>0.308</td>\n",
       "      <td>0.315</td>\n",
       "      <td>0.200</td>\n",
       "      <td>0.140</td>\n",
       "      <td>0.500</td>\n",
       "      <td>0.481</td>\n",
       "      <td>0.267</td>\n",
       "      <td>0.342</td>\n",
       "      <td>0.000</td>\n",
       "      <td>1.000</td>\n",
       "      <td>0.000</td>\n",
       "      <td>0.000</td>\n",
       "      <td>0.000</td>\n",
       "      <td>0.000</td>\n",
       "      <td>0.000</td>\n",
       "      <td>0.000</td>\n",
       "    </tr>\n",
       "    <tr>\n",
       "      <th>1</th>\n",
       "      <td>0.000</td>\n",
       "      <td>0.058</td>\n",
       "      <td>0.317</td>\n",
       "      <td>0.411</td>\n",
       "      <td>0.200</td>\n",
       "      <td>0.260</td>\n",
       "      <td>0.664</td>\n",
       "      <td>0.290</td>\n",
       "      <td>0.263</td>\n",
       "      <td>0.289</td>\n",
       "      <td>0.000</td>\n",
       "      <td>0.000</td>\n",
       "      <td>0.000</td>\n",
       "      <td>0.000</td>\n",
       "      <td>0.000</td>\n",
       "      <td>0.000</td>\n",
       "      <td>0.000</td>\n",
       "      <td>0.000</td>\n",
       "    </tr>\n",
       "    <tr>\n",
       "      <th>199</th>\n",
       "      <td>0.000</td>\n",
       "      <td>0.516</td>\n",
       "      <td>0.575</td>\n",
       "      <td>0.647</td>\n",
       "      <td>0.200</td>\n",
       "      <td>0.260</td>\n",
       "      <td>0.771</td>\n",
       "      <td>0.514</td>\n",
       "      <td>0.475</td>\n",
       "      <td>0.158</td>\n",
       "      <td>0.000</td>\n",
       "      <td>0.000</td>\n",
       "      <td>0.000</td>\n",
       "      <td>1.000</td>\n",
       "      <td>0.000</td>\n",
       "      <td>0.000</td>\n",
       "      <td>0.000</td>\n",
       "      <td>1.000</td>\n",
       "    </tr>\n",
       "  </tbody>\n",
       "</table>\n",
       "</div>"
      ],
      "text/plain": [
       "     enginelocation  wheelbase  carwidth  curbweight  cylindernumber  \\\n",
       "122           0.000      0.207     0.292       0.273           0.200   \n",
       "125           0.000      0.230     0.667       0.500           0.200   \n",
       "166           0.000      0.230     0.308       0.315           0.200   \n",
       "1             0.000      0.058     0.317       0.411           0.200   \n",
       "199           0.000      0.516     0.575       0.647           0.200   \n",
       "\n",
       "     enginesize  boreratio  stroke  horsepower  highwaympg  hardtop  \\\n",
       "122       0.140      0.307   0.552       0.083       0.579    0.000   \n",
       "125       0.340      1.000   0.495       0.396       0.289    0.000   \n",
       "166       0.140      0.500   0.481       0.267       0.342    0.000   \n",
       "1         0.260      0.664   0.290       0.263       0.289    0.000   \n",
       "199       0.260      0.771   0.514       0.475       0.158    0.000   \n",
       "\n",
       "     hatchback  sedan  wagon  ohcf  rotor  luxury  midclass  \n",
       "122      0.000  1.000  0.000 0.000  0.000   0.000     0.000  \n",
       "125      1.000  0.000  0.000 0.000  0.000   1.000     0.000  \n",
       "166      1.000  0.000  0.000 0.000  0.000   0.000     0.000  \n",
       "1        0.000  0.000  0.000 0.000  0.000   0.000     0.000  \n",
       "199      0.000  0.000  1.000 0.000  0.000   0.000     1.000  "
      ]
     },
     "execution_count": 106,
     "metadata": {},
     "output_type": "execute_result"
    }
   ],
   "source": [
    "top_features = X_train.columns[rfe.support_]\n",
    "X_train = X_train[top_features]\n",
    "vif_data = car[top_features]\n",
    "X_test = X_test[top_features]\n",
    "print('No. of Features after RFE: ',X_train.shape[1])\n",
    "X_train.head()"
   ]
  },
  {
   "cell_type": "markdown",
   "metadata": {},
   "source": [
    "<a id='model_prep'></a>"
   ]
  },
  {
   "cell_type": "markdown",
   "metadata": {},
   "source": [
    "### IX. UDF's requied to build the model"
   ]
  },
  {
   "cell_type": "code",
   "execution_count": 107,
   "metadata": {
    "collapsed": true,
    "scrolled": false
   },
   "outputs": [],
   "source": [
    "X_train = sm.add_constant(X_train)    # Adding a constant column to our dataframe\n",
    "X_test = sm.add_constant(X_test)"
   ]
  },
  {
   "cell_type": "markdown",
   "metadata": {},
   "source": [
    "__<font color='green'>UDF :: vif_cal(vif_data)</font>__\n",
    "\n",
    "###### vif_cal(vif_data) will give the VIF value for each feature which helps us to understand the multicolinearity among different features."
   ]
  },
  {
   "cell_type": "code",
   "execution_count": 108,
   "metadata": {
    "collapsed": true
   },
   "outputs": [],
   "source": [
    "def vif_cal(vif_data):\n",
    "    vif_df = pd.DataFrame( columns = ['Var', 'Vif'])\n",
    "    x_vars=vif_data\n",
    "    xvar_names=x_vars.columns\n",
    "    for i in range(0,xvar_names.shape[0]):\n",
    "        y=x_vars[xvar_names[i]] \n",
    "        x=x_vars[xvar_names.drop(xvar_names[i])]\n",
    "        rsq=sm.OLS(y,x).fit().rsquared  \n",
    "        vif=round(1/(1-rsq),2)\n",
    "        vif_df.loc[i] = [xvar_names[i], vif]\n",
    "    return vif_df.sort_values(by = 'Vif', axis=0, ascending=False, inplace=False)"
   ]
  },
  {
   "cell_type": "markdown",
   "metadata": {
    "scrolled": false
   },
   "source": [
    "Significance(p-value) is more important than multicollinearity(VIF value).\n",
    "So we will remove those features(one by one) which are having low significance(p-value > significant level).For multicollinearity we will check for VIF value & parallely check for it's p-value , if it is greater than significant level we will remove that column and if p-value < significant level, we will keep that column."
   ]
  },
  {
   "cell_type": "markdown",
   "metadata": {},
   "source": [
    "__<font color='green'>UDF :: feature_to_drop(model,SF=0.05,VF=2)</font>__\n",
    "\n",
    "###### feature_to_drop(model,SF=0.05,VF=2) will drop the column from the features based on it's p-value and VIF value."
   ]
  },
  {
   "cell_type": "code",
   "execution_count": 109,
   "metadata": {
    "collapsed": true,
    "scrolled": false
   },
   "outputs": [],
   "source": [
    "def feature_to_drop(model,SF=0.05,VF=2):\n",
    "    \"\"\"\n",
    "    model :: name of the model.\n",
    "    SF    :: Significance Level, default is 0.05\n",
    "    VF    :: VIF value, default is 2\n",
    "    \n",
    "    \"\"\"\n",
    "    pvalue = model.pvalues[model.pvalues >= SF] # SF Value condition\n",
    "    pvalue = pd.DataFrame(pvalue,columns=['pvalue']).sort_values(by='pvalue',ascending=False)\n",
    "    if len(pvalue >0):\n",
    "        if pvalue.index[0] == 'const':\n",
    "            pvalue = pvalue.drop(pvalue.head(1).index)\n",
    "    vif = vif_cal(vif_data).set_index('Var')\n",
    "    matrix =pd.concat([pvalue,vif[vif.index.isin(pvalue.index)]['Vif']],axis=1)\n",
    "    matrix = matrix[(matrix.Vif >=VF)] # VF value condition\n",
    "    matrix = matrix.sort_values(by='pvalue',ascending=False)\n",
    "    if(len(matrix)>0):\n",
    "        feature = matrix[0:1]\n",
    "        return feature\n",
    "    else:\n",
    "        return 'No feature to drop'"
   ]
  },
  {
   "cell_type": "code",
   "execution_count": 110,
   "metadata": {
    "collapsed": true,
    "scrolled": false
   },
   "outputs": [],
   "source": [
    "# Create new dataframe model_summary that will contain important information for each model.\n",
    "model_summary = pd.DataFrame(columns=['Model','No_Features','R-squared','Adj_R-squared','Column_to_Drop','p-value','VIF'])\n",
    "model_summary = model_summary.set_index('Model')"
   ]
  },
  {
   "cell_type": "markdown",
   "metadata": {},
   "source": [
    "__<font color='green'>UDF :: add_model_summary(model,name)</font>__\n",
    "\n",
    "###### add_model_summary(model,name) will add the important information of each model such as p-value, VIF, r-square, no of features,column to drop etc in the model summary table"
   ]
  },
  {
   "cell_type": "code",
   "execution_count": 111,
   "metadata": {
    "collapsed": true
   },
   "outputs": [],
   "source": [
    "def add_model_summary(model,name):\n",
    "    col = feature_to_drop(model)\n",
    "    if str(type(col)).find('str') == -1:\n",
    "        model_summary.loc[name] = [X_train.shape[1]-1,model.rsquared,model.rsquared_adj,col.index[0],col.pvalue[0],col.Vif[0]]\n",
    "    else:\n",
    "        model_summary.loc[name] = [X_train.shape[1]-1,model.rsquared,model.rsquared_adj,'Nothing to Drop',np.NaN,np.NaN]"
   ]
  },
  {
   "cell_type": "markdown",
   "metadata": {},
   "source": [
    "<a id='model'></a>"
   ]
  },
  {
   "cell_type": "markdown",
   "metadata": {},
   "source": [
    "## X. Model Building"
   ]
  },
  {
   "cell_type": "markdown",
   "metadata": {},
   "source": [
    "#### Model 1"
   ]
  },
  {
   "cell_type": "code",
   "execution_count": 112,
   "metadata": {},
   "outputs": [
    {
     "data": {
      "text/html": [
       "<table class=\"simpletable\">\n",
       "<caption>OLS Regression Results</caption>\n",
       "<tr>\n",
       "  <th>Dep. Variable:</th>          <td>price</td>      <th>  R-squared:         </th> <td>   0.943</td>\n",
       "</tr>\n",
       "<tr>\n",
       "  <th>Model:</th>                   <td>OLS</td>       <th>  Adj. R-squared:    </th> <td>   0.935</td>\n",
       "</tr>\n",
       "<tr>\n",
       "  <th>Method:</th>             <td>Least Squares</td>  <th>  F-statistic:       </th> <td>   114.9</td>\n",
       "</tr>\n",
       "<tr>\n",
       "  <th>Date:</th>             <td>Tue, 20 Mar 2018</td> <th>  Prob (F-statistic):</th> <td>2.72e-68</td>\n",
       "</tr>\n",
       "<tr>\n",
       "  <th>Time:</th>                 <td>11:42:37</td>     <th>  Log-Likelihood:    </th> <td>  237.61</td>\n",
       "</tr>\n",
       "<tr>\n",
       "  <th>No. Observations:</th>      <td>   143</td>      <th>  AIC:               </th> <td>  -437.2</td>\n",
       "</tr>\n",
       "<tr>\n",
       "  <th>Df Residuals:</th>          <td>   124</td>      <th>  BIC:               </th> <td>  -380.9</td>\n",
       "</tr>\n",
       "<tr>\n",
       "  <th>Df Model:</th>              <td>    18</td>      <th>                     </th>     <td> </td>   \n",
       "</tr>\n",
       "<tr>\n",
       "  <th>Covariance Type:</th>      <td>nonrobust</td>    <th>                     </th>     <td> </td>   \n",
       "</tr>\n",
       "</table>\n",
       "<table class=\"simpletable\">\n",
       "<tr>\n",
       "         <td></td>           <th>coef</th>     <th>std err</th>      <th>t</th>      <th>P>|t|</th>  <th>[0.025</th>    <th>0.975]</th>  \n",
       "</tr>\n",
       "<tr>\n",
       "  <th>const</th>          <td>    0.1481</td> <td>    0.062</td> <td>    2.371</td> <td> 0.019</td> <td>    0.024</td> <td>    0.272</td>\n",
       "</tr>\n",
       "<tr>\n",
       "  <th>enginelocation</th> <td>    0.1458</td> <td>    0.071</td> <td>    2.053</td> <td> 0.042</td> <td>    0.005</td> <td>    0.286</td>\n",
       "</tr>\n",
       "<tr>\n",
       "  <th>wheelbase</th>      <td>    0.0416</td> <td>    0.066</td> <td>    0.632</td> <td> 0.529</td> <td>   -0.089</td> <td>    0.172</td>\n",
       "</tr>\n",
       "<tr>\n",
       "  <th>carwidth</th>       <td>    0.2025</td> <td>    0.061</td> <td>    3.345</td> <td> 0.001</td> <td>    0.083</td> <td>    0.322</td>\n",
       "</tr>\n",
       "<tr>\n",
       "  <th>curbweight</th>     <td>    0.1706</td> <td>    0.087</td> <td>    1.962</td> <td> 0.052</td> <td>   -0.002</td> <td>    0.343</td>\n",
       "</tr>\n",
       "<tr>\n",
       "  <th>cylindernumber</th> <td>   -0.4601</td> <td>    0.171</td> <td>   -2.696</td> <td> 0.008</td> <td>   -0.798</td> <td>   -0.122</td>\n",
       "</tr>\n",
       "<tr>\n",
       "  <th>enginesize</th>     <td>    0.5438</td> <td>    0.178</td> <td>    3.057</td> <td> 0.003</td> <td>    0.192</td> <td>    0.896</td>\n",
       "</tr>\n",
       "<tr>\n",
       "  <th>boreratio</th>      <td>   -0.2541</td> <td>    0.063</td> <td>   -4.055</td> <td> 0.000</td> <td>   -0.378</td> <td>   -0.130</td>\n",
       "</tr>\n",
       "<tr>\n",
       "  <th>stroke</th>         <td>   -0.1131</td> <td>    0.059</td> <td>   -1.928</td> <td> 0.056</td> <td>   -0.229</td> <td>    0.003</td>\n",
       "</tr>\n",
       "<tr>\n",
       "  <th>horsepower</th>     <td>    0.3349</td> <td>    0.071</td> <td>    4.696</td> <td> 0.000</td> <td>    0.194</td> <td>    0.476</td>\n",
       "</tr>\n",
       "<tr>\n",
       "  <th>highwaympg</th>     <td>    0.0791</td> <td>    0.046</td> <td>    1.713</td> <td> 0.089</td> <td>   -0.012</td> <td>    0.170</td>\n",
       "</tr>\n",
       "<tr>\n",
       "  <th>hardtop</th>        <td>   -0.0829</td> <td>    0.048</td> <td>   -1.737</td> <td> 0.085</td> <td>   -0.177</td> <td>    0.012</td>\n",
       "</tr>\n",
       "<tr>\n",
       "  <th>hatchback</th>      <td>   -0.1118</td> <td>    0.032</td> <td>   -3.446</td> <td> 0.001</td> <td>   -0.176</td> <td>   -0.048</td>\n",
       "</tr>\n",
       "<tr>\n",
       "  <th>sedan</th>          <td>   -0.0908</td> <td>    0.033</td> <td>   -2.753</td> <td> 0.007</td> <td>   -0.156</td> <td>   -0.026</td>\n",
       "</tr>\n",
       "<tr>\n",
       "  <th>wagon</th>          <td>   -0.1087</td> <td>    0.035</td> <td>   -3.125</td> <td> 0.002</td> <td>   -0.178</td> <td>   -0.040</td>\n",
       "</tr>\n",
       "<tr>\n",
       "  <th>ohcf</th>           <td>    0.0299</td> <td>    0.025</td> <td>    1.182</td> <td> 0.240</td> <td>   -0.020</td> <td>    0.080</td>\n",
       "</tr>\n",
       "<tr>\n",
       "  <th>rotor</th>          <td>    0.0803</td> <td>    0.035</td> <td>    2.305</td> <td> 0.023</td> <td>    0.011</td> <td>    0.149</td>\n",
       "</tr>\n",
       "<tr>\n",
       "  <th>luxury</th>         <td>    0.2430</td> <td>    0.021</td> <td>   11.592</td> <td> 0.000</td> <td>    0.201</td> <td>    0.284</td>\n",
       "</tr>\n",
       "<tr>\n",
       "  <th>midclass</th>       <td>    0.0625</td> <td>    0.019</td> <td>    3.215</td> <td> 0.002</td> <td>    0.024</td> <td>    0.101</td>\n",
       "</tr>\n",
       "</table>\n",
       "<table class=\"simpletable\">\n",
       "<tr>\n",
       "  <th>Omnibus:</th>       <td>79.803</td> <th>  Durbin-Watson:     </th> <td>   1.792</td> \n",
       "</tr>\n",
       "<tr>\n",
       "  <th>Prob(Omnibus):</th> <td> 0.000</td> <th>  Jarque-Bera (JB):  </th> <td> 569.731</td> \n",
       "</tr>\n",
       "<tr>\n",
       "  <th>Skew:</th>          <td> 1.837</td> <th>  Prob(JB):          </th> <td>1.92e-124</td>\n",
       "</tr>\n",
       "<tr>\n",
       "  <th>Kurtosis:</th>      <td>12.062</td> <th>  Cond. No.          </th> <td>    106.</td> \n",
       "</tr>\n",
       "</table>"
      ],
      "text/plain": [
       "<class 'statsmodels.iolib.summary.Summary'>\n",
       "\"\"\"\n",
       "                            OLS Regression Results                            \n",
       "==============================================================================\n",
       "Dep. Variable:                  price   R-squared:                       0.943\n",
       "Model:                            OLS   Adj. R-squared:                  0.935\n",
       "Method:                 Least Squares   F-statistic:                     114.9\n",
       "Date:                Tue, 20 Mar 2018   Prob (F-statistic):           2.72e-68\n",
       "Time:                        11:42:37   Log-Likelihood:                 237.61\n",
       "No. Observations:                 143   AIC:                            -437.2\n",
       "Df Residuals:                     124   BIC:                            -380.9\n",
       "Df Model:                          18                                         \n",
       "Covariance Type:            nonrobust                                         \n",
       "==================================================================================\n",
       "                     coef    std err          t      P>|t|      [0.025      0.975]\n",
       "----------------------------------------------------------------------------------\n",
       "const              0.1481      0.062      2.371      0.019       0.024       0.272\n",
       "enginelocation     0.1458      0.071      2.053      0.042       0.005       0.286\n",
       "wheelbase          0.0416      0.066      0.632      0.529      -0.089       0.172\n",
       "carwidth           0.2025      0.061      3.345      0.001       0.083       0.322\n",
       "curbweight         0.1706      0.087      1.962      0.052      -0.002       0.343\n",
       "cylindernumber    -0.4601      0.171     -2.696      0.008      -0.798      -0.122\n",
       "enginesize         0.5438      0.178      3.057      0.003       0.192       0.896\n",
       "boreratio         -0.2541      0.063     -4.055      0.000      -0.378      -0.130\n",
       "stroke            -0.1131      0.059     -1.928      0.056      -0.229       0.003\n",
       "horsepower         0.3349      0.071      4.696      0.000       0.194       0.476\n",
       "highwaympg         0.0791      0.046      1.713      0.089      -0.012       0.170\n",
       "hardtop           -0.0829      0.048     -1.737      0.085      -0.177       0.012\n",
       "hatchback         -0.1118      0.032     -3.446      0.001      -0.176      -0.048\n",
       "sedan             -0.0908      0.033     -2.753      0.007      -0.156      -0.026\n",
       "wagon             -0.1087      0.035     -3.125      0.002      -0.178      -0.040\n",
       "ohcf               0.0299      0.025      1.182      0.240      -0.020       0.080\n",
       "rotor              0.0803      0.035      2.305      0.023       0.011       0.149\n",
       "luxury             0.2430      0.021     11.592      0.000       0.201       0.284\n",
       "midclass           0.0625      0.019      3.215      0.002       0.024       0.101\n",
       "==============================================================================\n",
       "Omnibus:                       79.803   Durbin-Watson:                   1.792\n",
       "Prob(Omnibus):                  0.000   Jarque-Bera (JB):              569.731\n",
       "Skew:                           1.837   Prob(JB):                    1.92e-124\n",
       "Kurtosis:                      12.062   Cond. No.                         106.\n",
       "==============================================================================\n",
       "\n",
       "Warnings:\n",
       "[1] Standard Errors assume that the covariance matrix of the errors is correctly specified.\n",
       "\"\"\""
      ]
     },
     "execution_count": 112,
     "metadata": {},
     "output_type": "execute_result"
    }
   ],
   "source": [
    "#Let's see the summary of our first linear model\n",
    "model1 = sm.OLS(y_train,X_train).fit()\n",
    "model1.summary()"
   ]
  },
  {
   "cell_type": "code",
   "execution_count": 113,
   "metadata": {},
   "outputs": [
    {
     "data": {
      "text/html": [
       "<div>\n",
       "<style>\n",
       "    .dataframe thead tr:only-child th {\n",
       "        text-align: right;\n",
       "    }\n",
       "\n",
       "    .dataframe thead th {\n",
       "        text-align: left;\n",
       "    }\n",
       "\n",
       "    .dataframe tbody tr th {\n",
       "        vertical-align: top;\n",
       "    }\n",
       "</style>\n",
       "<table border=\"1\" class=\"dataframe\">\n",
       "  <thead>\n",
       "    <tr style=\"text-align: right;\">\n",
       "      <th></th>\n",
       "      <th>5</th>\n",
       "      <th>3</th>\n",
       "      <th>4</th>\n",
       "      <th>2</th>\n",
       "      <th>1</th>\n",
       "      <th>6</th>\n",
       "      <th>7</th>\n",
       "      <th>12</th>\n",
       "      <th>8</th>\n",
       "      <th>9</th>\n",
       "      <th>11</th>\n",
       "      <th>13</th>\n",
       "      <th>17</th>\n",
       "      <th>16</th>\n",
       "      <th>14</th>\n",
       "      <th>10</th>\n",
       "      <th>0</th>\n",
       "      <th>15</th>\n",
       "    </tr>\n",
       "  </thead>\n",
       "  <tbody>\n",
       "    <tr>\n",
       "      <th>Var</th>\n",
       "      <td>enginesize</td>\n",
       "      <td>curbweight</td>\n",
       "      <td>cylindernumber</td>\n",
       "      <td>carwidth</td>\n",
       "      <td>wheelbase</td>\n",
       "      <td>boreratio</td>\n",
       "      <td>stroke</td>\n",
       "      <td>sedan</td>\n",
       "      <td>horsepower</td>\n",
       "      <td>highwaympg</td>\n",
       "      <td>hatchback</td>\n",
       "      <td>wagon</td>\n",
       "      <td>midclass</td>\n",
       "      <td>luxury</td>\n",
       "      <td>ohcf</td>\n",
       "      <td>hardtop</td>\n",
       "      <td>enginelocation</td>\n",
       "      <td>rotor</td>\n",
       "    </tr>\n",
       "    <tr>\n",
       "      <th>Vif</th>\n",
       "      <td>67.470</td>\n",
       "      <td>67.330</td>\n",
       "      <td>49.840</td>\n",
       "      <td>48.590</td>\n",
       "      <td>34.310</td>\n",
       "      <td>34.000</td>\n",
       "      <td>30.590</td>\n",
       "      <td>23.030</td>\n",
       "      <td>22.930</td>\n",
       "      <td>19.520</td>\n",
       "      <td>15.330</td>\n",
       "      <td>7.050</td>\n",
       "      <td>3.720</td>\n",
       "      <td>3.080</td>\n",
       "      <td>2.980</td>\n",
       "      <td>2.520</td>\n",
       "      <td>2.370</td>\n",
       "      <td>1.530</td>\n",
       "    </tr>\n",
       "  </tbody>\n",
       "</table>\n",
       "</div>"
      ],
      "text/plain": [
       "             5           3               4         2          1          6   \\\n",
       "Var  enginesize  curbweight  cylindernumber  carwidth  wheelbase  boreratio   \n",
       "Vif      67.470      67.330          49.840    48.590     34.310     34.000   \n",
       "\n",
       "         7      12          8           9          11     13        17  \\\n",
       "Var  stroke  sedan  horsepower  highwaympg  hatchback  wagon  midclass   \n",
       "Vif  30.590 23.030      22.930      19.520     15.330  7.050     3.720   \n",
       "\n",
       "         16    14       10              0      15  \n",
       "Var  luxury  ohcf  hardtop  enginelocation  rotor  \n",
       "Vif   3.080 2.980    2.520           2.370  1.530  "
      ]
     },
     "execution_count": 113,
     "metadata": {},
     "output_type": "execute_result"
    }
   ],
   "source": [
    "# Calculating Vif value\n",
    "vif_cal(vif_data).transpose() # used transpose to utilize the space."
   ]
  },
  {
   "cell_type": "code",
   "execution_count": 114,
   "metadata": {},
   "outputs": [
    {
     "data": {
      "text/html": [
       "<div>\n",
       "<style>\n",
       "    .dataframe thead tr:only-child th {\n",
       "        text-align: right;\n",
       "    }\n",
       "\n",
       "    .dataframe thead th {\n",
       "        text-align: left;\n",
       "    }\n",
       "\n",
       "    .dataframe tbody tr th {\n",
       "        vertical-align: top;\n",
       "    }\n",
       "</style>\n",
       "<table border=\"1\" class=\"dataframe\">\n",
       "  <thead>\n",
       "    <tr style=\"text-align: right;\">\n",
       "      <th></th>\n",
       "      <th>pvalue</th>\n",
       "      <th>Vif</th>\n",
       "    </tr>\n",
       "  </thead>\n",
       "  <tbody>\n",
       "    <tr>\n",
       "      <th>wheelbase</th>\n",
       "      <td>0.529</td>\n",
       "      <td>34.310</td>\n",
       "    </tr>\n",
       "  </tbody>\n",
       "</table>\n",
       "</div>"
      ],
      "text/plain": [
       "           pvalue    Vif\n",
       "wheelbase   0.529 34.310"
      ]
     },
     "execution_count": 114,
     "metadata": {},
     "output_type": "execute_result"
    }
   ],
   "source": [
    "# Feature to Drop based on p-value and VIF\n",
    "drop = feature_to_drop(model = model1, SF=0.05, VF=2)\n",
    "drop"
   ]
  },
  {
   "cell_type": "code",
   "execution_count": 115,
   "metadata": {
    "collapsed": true
   },
   "outputs": [],
   "source": [
    "# Add key information of this model to model_summary table.\n",
    "add_model_summary(model = model1, name = 'model1')"
   ]
  },
  {
   "cell_type": "markdown",
   "metadata": {},
   "source": [
    "#### Model 2"
   ]
  },
  {
   "cell_type": "code",
   "execution_count": 116,
   "metadata": {
    "collapsed": true
   },
   "outputs": [],
   "source": [
    "# Dropping highly correlated variables and insignificant variables\n",
    "X_train = X_train.drop(feature_to_drop(model1).index[0], axis =1)\n",
    "vif_data = vif_data.drop(feature_to_drop(model1).index[0], axis =1)"
   ]
  },
  {
   "cell_type": "code",
   "execution_count": 117,
   "metadata": {},
   "outputs": [
    {
     "data": {
      "text/html": [
       "<table class=\"simpletable\">\n",
       "<caption>OLS Regression Results</caption>\n",
       "<tr>\n",
       "  <th>Dep. Variable:</th>          <td>price</td>      <th>  R-squared:         </th> <td>   0.943</td>\n",
       "</tr>\n",
       "<tr>\n",
       "  <th>Model:</th>                   <td>OLS</td>       <th>  Adj. R-squared:    </th> <td>   0.936</td>\n",
       "</tr>\n",
       "<tr>\n",
       "  <th>Method:</th>             <td>Least Squares</td>  <th>  F-statistic:       </th> <td>   122.2</td>\n",
       "</tr>\n",
       "<tr>\n",
       "  <th>Date:</th>             <td>Tue, 20 Mar 2018</td> <th>  Prob (F-statistic):</th> <td>2.95e-69</td>\n",
       "</tr>\n",
       "<tr>\n",
       "  <th>Time:</th>                 <td>11:42:38</td>     <th>  Log-Likelihood:    </th> <td>  237.38</td>\n",
       "</tr>\n",
       "<tr>\n",
       "  <th>No. Observations:</th>      <td>   143</td>      <th>  AIC:               </th> <td>  -438.8</td>\n",
       "</tr>\n",
       "<tr>\n",
       "  <th>Df Residuals:</th>          <td>   125</td>      <th>  BIC:               </th> <td>  -385.4</td>\n",
       "</tr>\n",
       "<tr>\n",
       "  <th>Df Model:</th>              <td>    17</td>      <th>                     </th>     <td> </td>   \n",
       "</tr>\n",
       "<tr>\n",
       "  <th>Covariance Type:</th>      <td>nonrobust</td>    <th>                     </th>     <td> </td>   \n",
       "</tr>\n",
       "</table>\n",
       "<table class=\"simpletable\">\n",
       "<tr>\n",
       "         <td></td>           <th>coef</th>     <th>std err</th>      <th>t</th>      <th>P>|t|</th>  <th>[0.025</th>    <th>0.975]</th>  \n",
       "</tr>\n",
       "<tr>\n",
       "  <th>const</th>          <td>    0.1490</td> <td>    0.062</td> <td>    2.390</td> <td> 0.018</td> <td>    0.026</td> <td>    0.272</td>\n",
       "</tr>\n",
       "<tr>\n",
       "  <th>enginelocation</th> <td>    0.1408</td> <td>    0.070</td> <td>    1.999</td> <td> 0.048</td> <td>    0.001</td> <td>    0.280</td>\n",
       "</tr>\n",
       "<tr>\n",
       "  <th>carwidth</th>       <td>    0.2183</td> <td>    0.055</td> <td>    3.973</td> <td> 0.000</td> <td>    0.110</td> <td>    0.327</td>\n",
       "</tr>\n",
       "<tr>\n",
       "  <th>curbweight</th>     <td>    0.1894</td> <td>    0.081</td> <td>    2.324</td> <td> 0.022</td> <td>    0.028</td> <td>    0.351</td>\n",
       "</tr>\n",
       "<tr>\n",
       "  <th>cylindernumber</th> <td>   -0.4756</td> <td>    0.168</td> <td>   -2.823</td> <td> 0.006</td> <td>   -0.809</td> <td>   -0.142</td>\n",
       "</tr>\n",
       "<tr>\n",
       "  <th>enginesize</th>     <td>    0.5594</td> <td>    0.176</td> <td>    3.183</td> <td> 0.002</td> <td>    0.212</td> <td>    0.907</td>\n",
       "</tr>\n",
       "<tr>\n",
       "  <th>boreratio</th>      <td>   -0.2582</td> <td>    0.062</td> <td>   -4.154</td> <td> 0.000</td> <td>   -0.381</td> <td>   -0.135</td>\n",
       "</tr>\n",
       "<tr>\n",
       "  <th>stroke</th>         <td>   -0.1182</td> <td>    0.058</td> <td>   -2.039</td> <td> 0.044</td> <td>   -0.233</td> <td>   -0.003</td>\n",
       "</tr>\n",
       "<tr>\n",
       "  <th>horsepower</th>     <td>    0.3145</td> <td>    0.063</td> <td>    4.958</td> <td> 0.000</td> <td>    0.189</td> <td>    0.440</td>\n",
       "</tr>\n",
       "<tr>\n",
       "  <th>highwaympg</th>     <td>    0.0744</td> <td>    0.045</td> <td>    1.637</td> <td> 0.104</td> <td>   -0.016</td> <td>    0.164</td>\n",
       "</tr>\n",
       "<tr>\n",
       "  <th>hardtop</th>        <td>   -0.0722</td> <td>    0.045</td> <td>   -1.622</td> <td> 0.107</td> <td>   -0.160</td> <td>    0.016</td>\n",
       "</tr>\n",
       "<tr>\n",
       "  <th>hatchback</th>      <td>   -0.1024</td> <td>    0.029</td> <td>   -3.556</td> <td> 0.001</td> <td>   -0.159</td> <td>   -0.045</td>\n",
       "</tr>\n",
       "<tr>\n",
       "  <th>sedan</th>          <td>   -0.0802</td> <td>    0.028</td> <td>   -2.832</td> <td> 0.005</td> <td>   -0.136</td> <td>   -0.024</td>\n",
       "</tr>\n",
       "<tr>\n",
       "  <th>wagon</th>          <td>   -0.0983</td> <td>    0.031</td> <td>   -3.218</td> <td> 0.002</td> <td>   -0.159</td> <td>   -0.038</td>\n",
       "</tr>\n",
       "<tr>\n",
       "  <th>ohcf</th>           <td>    0.0284</td> <td>    0.025</td> <td>    1.129</td> <td> 0.261</td> <td>   -0.021</td> <td>    0.078</td>\n",
       "</tr>\n",
       "<tr>\n",
       "  <th>rotor</th>          <td>    0.0774</td> <td>    0.034</td> <td>    2.248</td> <td> 0.026</td> <td>    0.009</td> <td>    0.146</td>\n",
       "</tr>\n",
       "<tr>\n",
       "  <th>luxury</th>         <td>    0.2447</td> <td>    0.021</td> <td>   11.807</td> <td> 0.000</td> <td>    0.204</td> <td>    0.286</td>\n",
       "</tr>\n",
       "<tr>\n",
       "  <th>midclass</th>       <td>    0.0650</td> <td>    0.019</td> <td>    3.423</td> <td> 0.001</td> <td>    0.027</td> <td>    0.103</td>\n",
       "</tr>\n",
       "</table>\n",
       "<table class=\"simpletable\">\n",
       "<tr>\n",
       "  <th>Omnibus:</th>       <td>80.921</td> <th>  Durbin-Watson:     </th> <td>   1.773</td> \n",
       "</tr>\n",
       "<tr>\n",
       "  <th>Prob(Omnibus):</th> <td> 0.000</td> <th>  Jarque-Bera (JB):  </th> <td> 577.503</td> \n",
       "</tr>\n",
       "<tr>\n",
       "  <th>Skew:</th>          <td> 1.871</td> <th>  Prob(JB):          </th> <td>3.95e-126</td>\n",
       "</tr>\n",
       "<tr>\n",
       "  <th>Kurtosis:</th>      <td>12.106</td> <th>  Cond. No.          </th> <td>    103.</td> \n",
       "</tr>\n",
       "</table>"
      ],
      "text/plain": [
       "<class 'statsmodels.iolib.summary.Summary'>\n",
       "\"\"\"\n",
       "                            OLS Regression Results                            \n",
       "==============================================================================\n",
       "Dep. Variable:                  price   R-squared:                       0.943\n",
       "Model:                            OLS   Adj. R-squared:                  0.936\n",
       "Method:                 Least Squares   F-statistic:                     122.2\n",
       "Date:                Tue, 20 Mar 2018   Prob (F-statistic):           2.95e-69\n",
       "Time:                        11:42:38   Log-Likelihood:                 237.38\n",
       "No. Observations:                 143   AIC:                            -438.8\n",
       "Df Residuals:                     125   BIC:                            -385.4\n",
       "Df Model:                          17                                         \n",
       "Covariance Type:            nonrobust                                         \n",
       "==================================================================================\n",
       "                     coef    std err          t      P>|t|      [0.025      0.975]\n",
       "----------------------------------------------------------------------------------\n",
       "const              0.1490      0.062      2.390      0.018       0.026       0.272\n",
       "enginelocation     0.1408      0.070      1.999      0.048       0.001       0.280\n",
       "carwidth           0.2183      0.055      3.973      0.000       0.110       0.327\n",
       "curbweight         0.1894      0.081      2.324      0.022       0.028       0.351\n",
       "cylindernumber    -0.4756      0.168     -2.823      0.006      -0.809      -0.142\n",
       "enginesize         0.5594      0.176      3.183      0.002       0.212       0.907\n",
       "boreratio         -0.2582      0.062     -4.154      0.000      -0.381      -0.135\n",
       "stroke            -0.1182      0.058     -2.039      0.044      -0.233      -0.003\n",
       "horsepower         0.3145      0.063      4.958      0.000       0.189       0.440\n",
       "highwaympg         0.0744      0.045      1.637      0.104      -0.016       0.164\n",
       "hardtop           -0.0722      0.045     -1.622      0.107      -0.160       0.016\n",
       "hatchback         -0.1024      0.029     -3.556      0.001      -0.159      -0.045\n",
       "sedan             -0.0802      0.028     -2.832      0.005      -0.136      -0.024\n",
       "wagon             -0.0983      0.031     -3.218      0.002      -0.159      -0.038\n",
       "ohcf               0.0284      0.025      1.129      0.261      -0.021       0.078\n",
       "rotor              0.0774      0.034      2.248      0.026       0.009       0.146\n",
       "luxury             0.2447      0.021     11.807      0.000       0.204       0.286\n",
       "midclass           0.0650      0.019      3.423      0.001       0.027       0.103\n",
       "==============================================================================\n",
       "Omnibus:                       80.921   Durbin-Watson:                   1.773\n",
       "Prob(Omnibus):                  0.000   Jarque-Bera (JB):              577.503\n",
       "Skew:                           1.871   Prob(JB):                    3.95e-126\n",
       "Kurtosis:                      12.106   Cond. No.                         103.\n",
       "==============================================================================\n",
       "\n",
       "Warnings:\n",
       "[1] Standard Errors assume that the covariance matrix of the errors is correctly specified.\n",
       "\"\"\""
      ]
     },
     "execution_count": 117,
     "metadata": {},
     "output_type": "execute_result"
    }
   ],
   "source": [
    "model2 = sm.OLS(y_train,X_train).fit()\n",
    "model2.summary()"
   ]
  },
  {
   "cell_type": "code",
   "execution_count": 118,
   "metadata": {},
   "outputs": [
    {
     "data": {
      "text/html": [
       "<div>\n",
       "<style>\n",
       "    .dataframe thead tr:only-child th {\n",
       "        text-align: right;\n",
       "    }\n",
       "\n",
       "    .dataframe thead th {\n",
       "        text-align: left;\n",
       "    }\n",
       "\n",
       "    .dataframe tbody tr th {\n",
       "        vertical-align: top;\n",
       "    }\n",
       "</style>\n",
       "<table border=\"1\" class=\"dataframe\">\n",
       "  <thead>\n",
       "    <tr style=\"text-align: right;\">\n",
       "      <th></th>\n",
       "      <th>4</th>\n",
       "      <th>2</th>\n",
       "      <th>3</th>\n",
       "      <th>1</th>\n",
       "      <th>5</th>\n",
       "      <th>6</th>\n",
       "      <th>8</th>\n",
       "      <th>7</th>\n",
       "      <th>11</th>\n",
       "      <th>10</th>\n",
       "      <th>12</th>\n",
       "      <th>16</th>\n",
       "      <th>15</th>\n",
       "      <th>13</th>\n",
       "      <th>0</th>\n",
       "      <th>9</th>\n",
       "      <th>14</th>\n",
       "    </tr>\n",
       "  </thead>\n",
       "  <tbody>\n",
       "    <tr>\n",
       "      <th>Var</th>\n",
       "      <td>enginesize</td>\n",
       "      <td>curbweight</td>\n",
       "      <td>cylindernumber</td>\n",
       "      <td>carwidth</td>\n",
       "      <td>boreratio</td>\n",
       "      <td>stroke</td>\n",
       "      <td>highwaympg</td>\n",
       "      <td>horsepower</td>\n",
       "      <td>sedan</td>\n",
       "      <td>hatchback</td>\n",
       "      <td>wagon</td>\n",
       "      <td>midclass</td>\n",
       "      <td>luxury</td>\n",
       "      <td>ohcf</td>\n",
       "      <td>enginelocation</td>\n",
       "      <td>hardtop</td>\n",
       "      <td>rotor</td>\n",
       "    </tr>\n",
       "    <tr>\n",
       "      <th>Vif</th>\n",
       "      <td>64.510</td>\n",
       "      <td>61.410</td>\n",
       "      <td>48.480</td>\n",
       "      <td>41.960</td>\n",
       "      <td>33.960</td>\n",
       "      <td>30.280</td>\n",
       "      <td>19.090</td>\n",
       "      <td>18.650</td>\n",
       "      <td>18.530</td>\n",
       "      <td>13.440</td>\n",
       "      <td>5.780</td>\n",
       "      <td>3.570</td>\n",
       "      <td>3.020</td>\n",
       "      <td>2.920</td>\n",
       "      <td>2.370</td>\n",
       "      <td>2.330</td>\n",
       "      <td>1.520</td>\n",
       "    </tr>\n",
       "  </tbody>\n",
       "</table>\n",
       "</div>"
      ],
      "text/plain": [
       "             4           2               3         1          5       6   \\\n",
       "Var  enginesize  curbweight  cylindernumber  carwidth  boreratio  stroke   \n",
       "Vif      64.510      61.410          48.480    41.960     33.960  30.280   \n",
       "\n",
       "             8           7      11         10     12        16      15    13  \\\n",
       "Var  highwaympg  horsepower  sedan  hatchback  wagon  midclass  luxury  ohcf   \n",
       "Vif      19.090      18.650 18.530     13.440  5.780     3.570   3.020 2.920   \n",
       "\n",
       "                 0        9      14  \n",
       "Var  enginelocation  hardtop  rotor  \n",
       "Vif           2.370    2.330  1.520  "
      ]
     },
     "execution_count": 118,
     "metadata": {},
     "output_type": "execute_result"
    }
   ],
   "source": [
    "# Calculating Vif value\n",
    "vif_cal(vif_data).transpose() # used transpose to utilize the space."
   ]
  },
  {
   "cell_type": "code",
   "execution_count": 119,
   "metadata": {},
   "outputs": [
    {
     "data": {
      "text/html": [
       "<div>\n",
       "<style>\n",
       "    .dataframe thead tr:only-child th {\n",
       "        text-align: right;\n",
       "    }\n",
       "\n",
       "    .dataframe thead th {\n",
       "        text-align: left;\n",
       "    }\n",
       "\n",
       "    .dataframe tbody tr th {\n",
       "        vertical-align: top;\n",
       "    }\n",
       "</style>\n",
       "<table border=\"1\" class=\"dataframe\">\n",
       "  <thead>\n",
       "    <tr style=\"text-align: right;\">\n",
       "      <th></th>\n",
       "      <th>pvalue</th>\n",
       "      <th>Vif</th>\n",
       "    </tr>\n",
       "  </thead>\n",
       "  <tbody>\n",
       "    <tr>\n",
       "      <th>ohcf</th>\n",
       "      <td>0.261</td>\n",
       "      <td>2.920</td>\n",
       "    </tr>\n",
       "  </tbody>\n",
       "</table>\n",
       "</div>"
      ],
      "text/plain": [
       "      pvalue   Vif\n",
       "ohcf   0.261 2.920"
      ]
     },
     "execution_count": 119,
     "metadata": {},
     "output_type": "execute_result"
    }
   ],
   "source": [
    "# Feature to Drop based on p-value and VIF\n",
    "drop = feature_to_drop(model = model2, SF=0.05, VF=2)\n",
    "drop"
   ]
  },
  {
   "cell_type": "code",
   "execution_count": 120,
   "metadata": {
    "collapsed": true
   },
   "outputs": [],
   "source": [
    "# Add key information of this model to model_summary table.\n",
    "add_model_summary(model = model2, name = 'model2')"
   ]
  },
  {
   "cell_type": "markdown",
   "metadata": {},
   "source": [
    "#### Model 3"
   ]
  },
  {
   "cell_type": "code",
   "execution_count": 121,
   "metadata": {
    "collapsed": true
   },
   "outputs": [],
   "source": [
    "# Dropping highly correlated variables and insignificant variables\n",
    "X_train = X_train.drop(feature_to_drop(model2).index[0], axis =1)\n",
    "vif_data = vif_data.drop(feature_to_drop(model2).index[0], axis =1)"
   ]
  },
  {
   "cell_type": "code",
   "execution_count": 122,
   "metadata": {},
   "outputs": [
    {
     "data": {
      "text/html": [
       "<table class=\"simpletable\">\n",
       "<caption>OLS Regression Results</caption>\n",
       "<tr>\n",
       "  <th>Dep. Variable:</th>          <td>price</td>      <th>  R-squared:         </th> <td>   0.943</td>\n",
       "</tr>\n",
       "<tr>\n",
       "  <th>Model:</th>                   <td>OLS</td>       <th>  Adj. R-squared:    </th> <td>   0.935</td>\n",
       "</tr>\n",
       "<tr>\n",
       "  <th>Method:</th>             <td>Least Squares</td>  <th>  F-statistic:       </th> <td>   129.5</td>\n",
       "</tr>\n",
       "<tr>\n",
       "  <th>Date:</th>             <td>Tue, 20 Mar 2018</td> <th>  Prob (F-statistic):</th> <td>4.77e-70</td>\n",
       "</tr>\n",
       "<tr>\n",
       "  <th>Time:</th>                 <td>11:42:38</td>     <th>  Log-Likelihood:    </th> <td>  236.66</td>\n",
       "</tr>\n",
       "<tr>\n",
       "  <th>No. Observations:</th>      <td>   143</td>      <th>  AIC:               </th> <td>  -439.3</td>\n",
       "</tr>\n",
       "<tr>\n",
       "  <th>Df Residuals:</th>          <td>   126</td>      <th>  BIC:               </th> <td>  -388.9</td>\n",
       "</tr>\n",
       "<tr>\n",
       "  <th>Df Model:</th>              <td>    16</td>      <th>                     </th>     <td> </td>   \n",
       "</tr>\n",
       "<tr>\n",
       "  <th>Covariance Type:</th>      <td>nonrobust</td>    <th>                     </th>     <td> </td>   \n",
       "</tr>\n",
       "</table>\n",
       "<table class=\"simpletable\">\n",
       "<tr>\n",
       "         <td></td>           <th>coef</th>     <th>std err</th>      <th>t</th>      <th>P>|t|</th>  <th>[0.025</th>    <th>0.975]</th>  \n",
       "</tr>\n",
       "<tr>\n",
       "  <th>const</th>          <td>    0.1525</td> <td>    0.062</td> <td>    2.447</td> <td> 0.016</td> <td>    0.029</td> <td>    0.276</td>\n",
       "</tr>\n",
       "<tr>\n",
       "  <th>enginelocation</th> <td>    0.1685</td> <td>    0.066</td> <td>    2.550</td> <td> 0.012</td> <td>    0.038</td> <td>    0.299</td>\n",
       "</tr>\n",
       "<tr>\n",
       "  <th>carwidth</th>       <td>    0.2248</td> <td>    0.055</td> <td>    4.109</td> <td> 0.000</td> <td>    0.117</td> <td>    0.333</td>\n",
       "</tr>\n",
       "<tr>\n",
       "  <th>curbweight</th>     <td>    0.1839</td> <td>    0.081</td> <td>    2.258</td> <td> 0.026</td> <td>    0.023</td> <td>    0.345</td>\n",
       "</tr>\n",
       "<tr>\n",
       "  <th>cylindernumber</th> <td>   -0.4656</td> <td>    0.168</td> <td>   -2.764</td> <td> 0.007</td> <td>   -0.799</td> <td>   -0.132</td>\n",
       "</tr>\n",
       "<tr>\n",
       "  <th>enginesize</th>     <td>    0.5508</td> <td>    0.176</td> <td>    3.133</td> <td> 0.002</td> <td>    0.203</td> <td>    0.899</td>\n",
       "</tr>\n",
       "<tr>\n",
       "  <th>boreratio</th>      <td>   -0.2344</td> <td>    0.059</td> <td>   -4.005</td> <td> 0.000</td> <td>   -0.350</td> <td>   -0.119</td>\n",
       "</tr>\n",
       "<tr>\n",
       "  <th>stroke</th>         <td>   -0.1421</td> <td>    0.054</td> <td>   -2.631</td> <td> 0.010</td> <td>   -0.249</td> <td>   -0.035</td>\n",
       "</tr>\n",
       "<tr>\n",
       "  <th>horsepower</th>     <td>    0.3006</td> <td>    0.062</td> <td>    4.826</td> <td> 0.000</td> <td>    0.177</td> <td>    0.424</td>\n",
       "</tr>\n",
       "<tr>\n",
       "  <th>highwaympg</th>     <td>    0.0630</td> <td>    0.044</td> <td>    1.420</td> <td> 0.158</td> <td>   -0.025</td> <td>    0.151</td>\n",
       "</tr>\n",
       "<tr>\n",
       "  <th>hardtop</th>        <td>   -0.0678</td> <td>    0.044</td> <td>   -1.527</td> <td> 0.129</td> <td>   -0.156</td> <td>    0.020</td>\n",
       "</tr>\n",
       "<tr>\n",
       "  <th>hatchback</th>      <td>   -0.0947</td> <td>    0.028</td> <td>   -3.381</td> <td> 0.001</td> <td>   -0.150</td> <td>   -0.039</td>\n",
       "</tr>\n",
       "<tr>\n",
       "  <th>sedan</th>          <td>   -0.0718</td> <td>    0.027</td> <td>   -2.625</td> <td> 0.010</td> <td>   -0.126</td> <td>   -0.018</td>\n",
       "</tr>\n",
       "<tr>\n",
       "  <th>wagon</th>          <td>   -0.0898</td> <td>    0.030</td> <td>   -3.031</td> <td> 0.003</td> <td>   -0.148</td> <td>   -0.031</td>\n",
       "</tr>\n",
       "<tr>\n",
       "  <th>rotor</th>          <td>    0.0714</td> <td>    0.034</td> <td>    2.095</td> <td> 0.038</td> <td>    0.004</td> <td>    0.139</td>\n",
       "</tr>\n",
       "<tr>\n",
       "  <th>luxury</th>         <td>    0.2389</td> <td>    0.020</td> <td>   11.887</td> <td> 0.000</td> <td>    0.199</td> <td>    0.279</td>\n",
       "</tr>\n",
       "<tr>\n",
       "  <th>midclass</th>       <td>    0.0562</td> <td>    0.017</td> <td>    3.242</td> <td> 0.002</td> <td>    0.022</td> <td>    0.091</td>\n",
       "</tr>\n",
       "</table>\n",
       "<table class=\"simpletable\">\n",
       "<tr>\n",
       "  <th>Omnibus:</th>       <td>78.797</td> <th>  Durbin-Watson:     </th> <td>   1.777</td> \n",
       "</tr>\n",
       "<tr>\n",
       "  <th>Prob(Omnibus):</th> <td> 0.000</td> <th>  Jarque-Bera (JB):  </th> <td> 553.019</td> \n",
       "</tr>\n",
       "<tr>\n",
       "  <th>Skew:</th>          <td> 1.814</td> <th>  Prob(JB):          </th> <td>8.19e-121</td>\n",
       "</tr>\n",
       "<tr>\n",
       "  <th>Kurtosis:</th>      <td>11.925</td> <th>  Cond. No.          </th> <td>    103.</td> \n",
       "</tr>\n",
       "</table>"
      ],
      "text/plain": [
       "<class 'statsmodels.iolib.summary.Summary'>\n",
       "\"\"\"\n",
       "                            OLS Regression Results                            \n",
       "==============================================================================\n",
       "Dep. Variable:                  price   R-squared:                       0.943\n",
       "Model:                            OLS   Adj. R-squared:                  0.935\n",
       "Method:                 Least Squares   F-statistic:                     129.5\n",
       "Date:                Tue, 20 Mar 2018   Prob (F-statistic):           4.77e-70\n",
       "Time:                        11:42:38   Log-Likelihood:                 236.66\n",
       "No. Observations:                 143   AIC:                            -439.3\n",
       "Df Residuals:                     126   BIC:                            -388.9\n",
       "Df Model:                          16                                         \n",
       "Covariance Type:            nonrobust                                         \n",
       "==================================================================================\n",
       "                     coef    std err          t      P>|t|      [0.025      0.975]\n",
       "----------------------------------------------------------------------------------\n",
       "const              0.1525      0.062      2.447      0.016       0.029       0.276\n",
       "enginelocation     0.1685      0.066      2.550      0.012       0.038       0.299\n",
       "carwidth           0.2248      0.055      4.109      0.000       0.117       0.333\n",
       "curbweight         0.1839      0.081      2.258      0.026       0.023       0.345\n",
       "cylindernumber    -0.4656      0.168     -2.764      0.007      -0.799      -0.132\n",
       "enginesize         0.5508      0.176      3.133      0.002       0.203       0.899\n",
       "boreratio         -0.2344      0.059     -4.005      0.000      -0.350      -0.119\n",
       "stroke            -0.1421      0.054     -2.631      0.010      -0.249      -0.035\n",
       "horsepower         0.3006      0.062      4.826      0.000       0.177       0.424\n",
       "highwaympg         0.0630      0.044      1.420      0.158      -0.025       0.151\n",
       "hardtop           -0.0678      0.044     -1.527      0.129      -0.156       0.020\n",
       "hatchback         -0.0947      0.028     -3.381      0.001      -0.150      -0.039\n",
       "sedan             -0.0718      0.027     -2.625      0.010      -0.126      -0.018\n",
       "wagon             -0.0898      0.030     -3.031      0.003      -0.148      -0.031\n",
       "rotor              0.0714      0.034      2.095      0.038       0.004       0.139\n",
       "luxury             0.2389      0.020     11.887      0.000       0.199       0.279\n",
       "midclass           0.0562      0.017      3.242      0.002       0.022       0.091\n",
       "==============================================================================\n",
       "Omnibus:                       78.797   Durbin-Watson:                   1.777\n",
       "Prob(Omnibus):                  0.000   Jarque-Bera (JB):              553.019\n",
       "Skew:                           1.814   Prob(JB):                    8.19e-121\n",
       "Kurtosis:                      11.925   Cond. No.                         103.\n",
       "==============================================================================\n",
       "\n",
       "Warnings:\n",
       "[1] Standard Errors assume that the covariance matrix of the errors is correctly specified.\n",
       "\"\"\""
      ]
     },
     "execution_count": 122,
     "metadata": {},
     "output_type": "execute_result"
    }
   ],
   "source": [
    "model3 = sm.OLS(y_train,X_train).fit()\n",
    "model3.summary()"
   ]
  },
  {
   "cell_type": "code",
   "execution_count": 123,
   "metadata": {},
   "outputs": [
    {
     "data": {
      "text/html": [
       "<div>\n",
       "<style>\n",
       "    .dataframe thead tr:only-child th {\n",
       "        text-align: right;\n",
       "    }\n",
       "\n",
       "    .dataframe thead th {\n",
       "        text-align: left;\n",
       "    }\n",
       "\n",
       "    .dataframe tbody tr th {\n",
       "        vertical-align: top;\n",
       "    }\n",
       "</style>\n",
       "<table border=\"1\" class=\"dataframe\">\n",
       "  <thead>\n",
       "    <tr style=\"text-align: right;\">\n",
       "      <th></th>\n",
       "      <th>4</th>\n",
       "      <th>2</th>\n",
       "      <th>3</th>\n",
       "      <th>1</th>\n",
       "      <th>5</th>\n",
       "      <th>6</th>\n",
       "      <th>8</th>\n",
       "      <th>7</th>\n",
       "      <th>11</th>\n",
       "      <th>10</th>\n",
       "      <th>12</th>\n",
       "      <th>15</th>\n",
       "      <th>14</th>\n",
       "      <th>9</th>\n",
       "      <th>0</th>\n",
       "      <th>13</th>\n",
       "    </tr>\n",
       "  </thead>\n",
       "  <tbody>\n",
       "    <tr>\n",
       "      <th>Var</th>\n",
       "      <td>enginesize</td>\n",
       "      <td>curbweight</td>\n",
       "      <td>cylindernumber</td>\n",
       "      <td>carwidth</td>\n",
       "      <td>boreratio</td>\n",
       "      <td>stroke</td>\n",
       "      <td>highwaympg</td>\n",
       "      <td>horsepower</td>\n",
       "      <td>sedan</td>\n",
       "      <td>hatchback</td>\n",
       "      <td>wagon</td>\n",
       "      <td>midclass</td>\n",
       "      <td>luxury</td>\n",
       "      <td>hardtop</td>\n",
       "      <td>enginelocation</td>\n",
       "      <td>rotor</td>\n",
       "    </tr>\n",
       "    <tr>\n",
       "      <th>Vif</th>\n",
       "      <td>63.280</td>\n",
       "      <td>61.280</td>\n",
       "      <td>47.190</td>\n",
       "      <td>41.520</td>\n",
       "      <td>24.360</td>\n",
       "      <td>23.710</td>\n",
       "      <td>18.480</td>\n",
       "      <td>18.010</td>\n",
       "      <td>17.630</td>\n",
       "      <td>12.830</td>\n",
       "      <td>5.490</td>\n",
       "      <td>3.050</td>\n",
       "      <td>2.890</td>\n",
       "      <td>2.310</td>\n",
       "      <td>1.760</td>\n",
       "      <td>1.510</td>\n",
       "    </tr>\n",
       "  </tbody>\n",
       "</table>\n",
       "</div>"
      ],
      "text/plain": [
       "             4           2               3         1          5       6   \\\n",
       "Var  enginesize  curbweight  cylindernumber  carwidth  boreratio  stroke   \n",
       "Vif      63.280      61.280          47.190    41.520     24.360  23.710   \n",
       "\n",
       "             8           7      11         10     12        15      14  \\\n",
       "Var  highwaympg  horsepower  sedan  hatchback  wagon  midclass  luxury   \n",
       "Vif      18.480      18.010 17.630     12.830  5.490     3.050   2.890   \n",
       "\n",
       "          9               0      13  \n",
       "Var  hardtop  enginelocation  rotor  \n",
       "Vif    2.310           1.760  1.510  "
      ]
     },
     "execution_count": 123,
     "metadata": {},
     "output_type": "execute_result"
    }
   ],
   "source": [
    "# Calculating Vif value\n",
    "vif_cal(vif_data).transpose() # used transpose to utilize the space."
   ]
  },
  {
   "cell_type": "code",
   "execution_count": 124,
   "metadata": {},
   "outputs": [
    {
     "data": {
      "text/html": [
       "<div>\n",
       "<style>\n",
       "    .dataframe thead tr:only-child th {\n",
       "        text-align: right;\n",
       "    }\n",
       "\n",
       "    .dataframe thead th {\n",
       "        text-align: left;\n",
       "    }\n",
       "\n",
       "    .dataframe tbody tr th {\n",
       "        vertical-align: top;\n",
       "    }\n",
       "</style>\n",
       "<table border=\"1\" class=\"dataframe\">\n",
       "  <thead>\n",
       "    <tr style=\"text-align: right;\">\n",
       "      <th></th>\n",
       "      <th>pvalue</th>\n",
       "      <th>Vif</th>\n",
       "    </tr>\n",
       "    <tr>\n",
       "      <th>Var</th>\n",
       "      <th></th>\n",
       "      <th></th>\n",
       "    </tr>\n",
       "  </thead>\n",
       "  <tbody>\n",
       "    <tr>\n",
       "      <th>highwaympg</th>\n",
       "      <td>0.158</td>\n",
       "      <td>18.480</td>\n",
       "    </tr>\n",
       "  </tbody>\n",
       "</table>\n",
       "</div>"
      ],
      "text/plain": [
       "            pvalue    Vif\n",
       "Var                      \n",
       "highwaympg   0.158 18.480"
      ]
     },
     "execution_count": 124,
     "metadata": {},
     "output_type": "execute_result"
    }
   ],
   "source": [
    "# Feature to Drop based on p-value and VIF\n",
    "drop = feature_to_drop(model = model3, SF=0.05, VF=2)\n",
    "drop"
   ]
  },
  {
   "cell_type": "code",
   "execution_count": 125,
   "metadata": {
    "collapsed": true
   },
   "outputs": [],
   "source": [
    "# Add key information of this model to model_summary table.\n",
    "add_model_summary(model = model3, name = 'model3')"
   ]
  },
  {
   "cell_type": "markdown",
   "metadata": {},
   "source": [
    "#### Model 4"
   ]
  },
  {
   "cell_type": "code",
   "execution_count": 126,
   "metadata": {
    "collapsed": true
   },
   "outputs": [],
   "source": [
    "# Dropping highly correlated variables and insignificant variables\n",
    "X_train = X_train.drop(feature_to_drop(model3).index[0], axis =1)\n",
    "vif_data = vif_data.drop(feature_to_drop(model3).index[0], axis =1)"
   ]
  },
  {
   "cell_type": "code",
   "execution_count": 127,
   "metadata": {},
   "outputs": [
    {
     "data": {
      "text/html": [
       "<table class=\"simpletable\">\n",
       "<caption>OLS Regression Results</caption>\n",
       "<tr>\n",
       "  <th>Dep. Variable:</th>          <td>price</td>      <th>  R-squared:         </th> <td>   0.942</td>\n",
       "</tr>\n",
       "<tr>\n",
       "  <th>Model:</th>                   <td>OLS</td>       <th>  Adj. R-squared:    </th> <td>   0.935</td>\n",
       "</tr>\n",
       "<tr>\n",
       "  <th>Method:</th>             <td>Least Squares</td>  <th>  F-statistic:       </th> <td>   136.9</td>\n",
       "</tr>\n",
       "<tr>\n",
       "  <th>Date:</th>             <td>Tue, 20 Mar 2018</td> <th>  Prob (F-statistic):</th> <td>1.08e-70</td>\n",
       "</tr>\n",
       "<tr>\n",
       "  <th>Time:</th>                 <td>11:42:39</td>     <th>  Log-Likelihood:    </th> <td>  235.52</td>\n",
       "</tr>\n",
       "<tr>\n",
       "  <th>No. Observations:</th>      <td>   143</td>      <th>  AIC:               </th> <td>  -439.0</td>\n",
       "</tr>\n",
       "<tr>\n",
       "  <th>Df Residuals:</th>          <td>   127</td>      <th>  BIC:               </th> <td>  -391.6</td>\n",
       "</tr>\n",
       "<tr>\n",
       "  <th>Df Model:</th>              <td>    15</td>      <th>                     </th>     <td> </td>   \n",
       "</tr>\n",
       "<tr>\n",
       "  <th>Covariance Type:</th>      <td>nonrobust</td>    <th>                     </th>     <td> </td>   \n",
       "</tr>\n",
       "</table>\n",
       "<table class=\"simpletable\">\n",
       "<tr>\n",
       "         <td></td>           <th>coef</th>     <th>std err</th>      <th>t</th>      <th>P>|t|</th>  <th>[0.025</th>    <th>0.975]</th>  \n",
       "</tr>\n",
       "<tr>\n",
       "  <th>const</th>          <td>    0.1810</td> <td>    0.059</td> <td>    3.055</td> <td> 0.003</td> <td>    0.064</td> <td>    0.298</td>\n",
       "</tr>\n",
       "<tr>\n",
       "  <th>enginelocation</th> <td>    0.1716</td> <td>    0.066</td> <td>    2.587</td> <td> 0.011</td> <td>    0.040</td> <td>    0.303</td>\n",
       "</tr>\n",
       "<tr>\n",
       "  <th>carwidth</th>       <td>    0.2240</td> <td>    0.055</td> <td>    4.080</td> <td> 0.000</td> <td>    0.115</td> <td>    0.333</td>\n",
       "</tr>\n",
       "<tr>\n",
       "  <th>curbweight</th>     <td>    0.1525</td> <td>    0.079</td> <td>    1.938</td> <td> 0.055</td> <td>   -0.003</td> <td>    0.308</td>\n",
       "</tr>\n",
       "<tr>\n",
       "  <th>cylindernumber</th> <td>   -0.4452</td> <td>    0.168</td> <td>   -2.642</td> <td> 0.009</td> <td>   -0.779</td> <td>   -0.112</td>\n",
       "</tr>\n",
       "<tr>\n",
       "  <th>enginesize</th>     <td>    0.5490</td> <td>    0.176</td> <td>    3.111</td> <td> 0.002</td> <td>    0.200</td> <td>    0.898</td>\n",
       "</tr>\n",
       "<tr>\n",
       "  <th>boreratio</th>      <td>   -0.2291</td> <td>    0.059</td> <td>   -3.906</td> <td> 0.000</td> <td>   -0.345</td> <td>   -0.113</td>\n",
       "</tr>\n",
       "<tr>\n",
       "  <th>stroke</th>         <td>   -0.1333</td> <td>    0.054</td> <td>   -2.475</td> <td> 0.015</td> <td>   -0.240</td> <td>   -0.027</td>\n",
       "</tr>\n",
       "<tr>\n",
       "  <th>horsepower</th>     <td>    0.2640</td> <td>    0.057</td> <td>    4.636</td> <td> 0.000</td> <td>    0.151</td> <td>    0.377</td>\n",
       "</tr>\n",
       "<tr>\n",
       "  <th>hardtop</th>        <td>   -0.0622</td> <td>    0.044</td> <td>   -1.401</td> <td> 0.164</td> <td>   -0.150</td> <td>    0.026</td>\n",
       "</tr>\n",
       "<tr>\n",
       "  <th>hatchback</th>      <td>   -0.0885</td> <td>    0.028</td> <td>   -3.185</td> <td> 0.002</td> <td>   -0.143</td> <td>   -0.034</td>\n",
       "</tr>\n",
       "<tr>\n",
       "  <th>sedan</th>          <td>   -0.0666</td> <td>    0.027</td> <td>   -2.446</td> <td> 0.016</td> <td>   -0.120</td> <td>   -0.013</td>\n",
       "</tr>\n",
       "<tr>\n",
       "  <th>wagon</th>          <td>   -0.0855</td> <td>    0.030</td> <td>   -2.890</td> <td> 0.005</td> <td>   -0.144</td> <td>   -0.027</td>\n",
       "</tr>\n",
       "<tr>\n",
       "  <th>rotor</th>          <td>    0.0613</td> <td>    0.033</td> <td>    1.832</td> <td> 0.069</td> <td>   -0.005</td> <td>    0.127</td>\n",
       "</tr>\n",
       "<tr>\n",
       "  <th>luxury</th>         <td>    0.2413</td> <td>    0.020</td> <td>   12.005</td> <td> 0.000</td> <td>    0.202</td> <td>    0.281</td>\n",
       "</tr>\n",
       "<tr>\n",
       "  <th>midclass</th>       <td>    0.0559</td> <td>    0.017</td> <td>    3.208</td> <td> 0.002</td> <td>    0.021</td> <td>    0.090</td>\n",
       "</tr>\n",
       "</table>\n",
       "<table class=\"simpletable\">\n",
       "<tr>\n",
       "  <th>Omnibus:</th>       <td>80.146</td> <th>  Durbin-Watson:     </th> <td>   1.816</td> \n",
       "</tr>\n",
       "<tr>\n",
       "  <th>Prob(Omnibus):</th> <td> 0.000</td> <th>  Jarque-Bera (JB):  </th> <td> 567.805</td> \n",
       "</tr>\n",
       "<tr>\n",
       "  <th>Skew:</th>          <td> 1.851</td> <th>  Prob(JB):          </th> <td>5.04e-124</td>\n",
       "</tr>\n",
       "<tr>\n",
       "  <th>Kurtosis:</th>      <td>12.033</td> <th>  Cond. No.          </th> <td>    100.</td> \n",
       "</tr>\n",
       "</table>"
      ],
      "text/plain": [
       "<class 'statsmodels.iolib.summary.Summary'>\n",
       "\"\"\"\n",
       "                            OLS Regression Results                            \n",
       "==============================================================================\n",
       "Dep. Variable:                  price   R-squared:                       0.942\n",
       "Model:                            OLS   Adj. R-squared:                  0.935\n",
       "Method:                 Least Squares   F-statistic:                     136.9\n",
       "Date:                Tue, 20 Mar 2018   Prob (F-statistic):           1.08e-70\n",
       "Time:                        11:42:39   Log-Likelihood:                 235.52\n",
       "No. Observations:                 143   AIC:                            -439.0\n",
       "Df Residuals:                     127   BIC:                            -391.6\n",
       "Df Model:                          15                                         \n",
       "Covariance Type:            nonrobust                                         \n",
       "==================================================================================\n",
       "                     coef    std err          t      P>|t|      [0.025      0.975]\n",
       "----------------------------------------------------------------------------------\n",
       "const              0.1810      0.059      3.055      0.003       0.064       0.298\n",
       "enginelocation     0.1716      0.066      2.587      0.011       0.040       0.303\n",
       "carwidth           0.2240      0.055      4.080      0.000       0.115       0.333\n",
       "curbweight         0.1525      0.079      1.938      0.055      -0.003       0.308\n",
       "cylindernumber    -0.4452      0.168     -2.642      0.009      -0.779      -0.112\n",
       "enginesize         0.5490      0.176      3.111      0.002       0.200       0.898\n",
       "boreratio         -0.2291      0.059     -3.906      0.000      -0.345      -0.113\n",
       "stroke            -0.1333      0.054     -2.475      0.015      -0.240      -0.027\n",
       "horsepower         0.2640      0.057      4.636      0.000       0.151       0.377\n",
       "hardtop           -0.0622      0.044     -1.401      0.164      -0.150       0.026\n",
       "hatchback         -0.0885      0.028     -3.185      0.002      -0.143      -0.034\n",
       "sedan             -0.0666      0.027     -2.446      0.016      -0.120      -0.013\n",
       "wagon             -0.0855      0.030     -2.890      0.005      -0.144      -0.027\n",
       "rotor              0.0613      0.033      1.832      0.069      -0.005       0.127\n",
       "luxury             0.2413      0.020     12.005      0.000       0.202       0.281\n",
       "midclass           0.0559      0.017      3.208      0.002       0.021       0.090\n",
       "==============================================================================\n",
       "Omnibus:                       80.146   Durbin-Watson:                   1.816\n",
       "Prob(Omnibus):                  0.000   Jarque-Bera (JB):              567.805\n",
       "Skew:                           1.851   Prob(JB):                    5.04e-124\n",
       "Kurtosis:                      12.033   Cond. No.                         100.\n",
       "==============================================================================\n",
       "\n",
       "Warnings:\n",
       "[1] Standard Errors assume that the covariance matrix of the errors is correctly specified.\n",
       "\"\"\""
      ]
     },
     "execution_count": 127,
     "metadata": {},
     "output_type": "execute_result"
    }
   ],
   "source": [
    "model4 = sm.OLS(y_train,X_train).fit()\n",
    "model4.summary()"
   ]
  },
  {
   "cell_type": "code",
   "execution_count": 128,
   "metadata": {},
   "outputs": [
    {
     "data": {
      "text/html": [
       "<div>\n",
       "<style>\n",
       "    .dataframe thead tr:only-child th {\n",
       "        text-align: right;\n",
       "    }\n",
       "\n",
       "    .dataframe thead th {\n",
       "        text-align: left;\n",
       "    }\n",
       "\n",
       "    .dataframe tbody tr th {\n",
       "        vertical-align: top;\n",
       "    }\n",
       "</style>\n",
       "<table border=\"1\" class=\"dataframe\">\n",
       "  <thead>\n",
       "    <tr style=\"text-align: right;\">\n",
       "      <th></th>\n",
       "      <th>2</th>\n",
       "      <th>4</th>\n",
       "      <th>1</th>\n",
       "      <th>3</th>\n",
       "      <th>5</th>\n",
       "      <th>6</th>\n",
       "      <th>10</th>\n",
       "      <th>7</th>\n",
       "      <th>9</th>\n",
       "      <th>11</th>\n",
       "      <th>14</th>\n",
       "      <th>13</th>\n",
       "      <th>8</th>\n",
       "      <th>0</th>\n",
       "      <th>12</th>\n",
       "    </tr>\n",
       "  </thead>\n",
       "  <tbody>\n",
       "    <tr>\n",
       "      <th>Var</th>\n",
       "      <td>curbweight</td>\n",
       "      <td>enginesize</td>\n",
       "      <td>carwidth</td>\n",
       "      <td>cylindernumber</td>\n",
       "      <td>boreratio</td>\n",
       "      <td>stroke</td>\n",
       "      <td>sedan</td>\n",
       "      <td>horsepower</td>\n",
       "      <td>hatchback</td>\n",
       "      <td>wagon</td>\n",
       "      <td>midclass</td>\n",
       "      <td>luxury</td>\n",
       "      <td>hardtop</td>\n",
       "      <td>enginelocation</td>\n",
       "      <td>rotor</td>\n",
       "    </tr>\n",
       "    <tr>\n",
       "      <th>Vif</th>\n",
       "      <td>59.900</td>\n",
       "      <td>55.200</td>\n",
       "      <td>41.500</td>\n",
       "      <td>34.290</td>\n",
       "      <td>19.450</td>\n",
       "      <td>18.520</td>\n",
       "      <td>16.350</td>\n",
       "      <td>13.280</td>\n",
       "      <td>11.600</td>\n",
       "      <td>5.310</td>\n",
       "      <td>3.050</td>\n",
       "      <td>2.890</td>\n",
       "      <td>2.220</td>\n",
       "      <td>1.690</td>\n",
       "      <td>1.490</td>\n",
       "    </tr>\n",
       "  </tbody>\n",
       "</table>\n",
       "</div>"
      ],
      "text/plain": [
       "             2           4         1               3          5       6   \\\n",
       "Var  curbweight  enginesize  carwidth  cylindernumber  boreratio  stroke   \n",
       "Vif      59.900      55.200    41.500          34.290     19.450  18.520   \n",
       "\n",
       "        10          7          9      11        14      13       8   \\\n",
       "Var  sedan  horsepower  hatchback  wagon  midclass  luxury  hardtop   \n",
       "Vif 16.350      13.280     11.600  5.310     3.050   2.890    2.220   \n",
       "\n",
       "                 0      12  \n",
       "Var  enginelocation  rotor  \n",
       "Vif           1.690  1.490  "
      ]
     },
     "execution_count": 128,
     "metadata": {},
     "output_type": "execute_result"
    }
   ],
   "source": [
    "# Calculating Vif value\n",
    "vif_cal(vif_data).transpose() # used transpose to utilize the space."
   ]
  },
  {
   "cell_type": "code",
   "execution_count": 129,
   "metadata": {},
   "outputs": [
    {
     "data": {
      "text/html": [
       "<div>\n",
       "<style>\n",
       "    .dataframe thead tr:only-child th {\n",
       "        text-align: right;\n",
       "    }\n",
       "\n",
       "    .dataframe thead th {\n",
       "        text-align: left;\n",
       "    }\n",
       "\n",
       "    .dataframe tbody tr th {\n",
       "        vertical-align: top;\n",
       "    }\n",
       "</style>\n",
       "<table border=\"1\" class=\"dataframe\">\n",
       "  <thead>\n",
       "    <tr style=\"text-align: right;\">\n",
       "      <th></th>\n",
       "      <th>pvalue</th>\n",
       "      <th>Vif</th>\n",
       "    </tr>\n",
       "  </thead>\n",
       "  <tbody>\n",
       "    <tr>\n",
       "      <th>hardtop</th>\n",
       "      <td>0.164</td>\n",
       "      <td>2.220</td>\n",
       "    </tr>\n",
       "  </tbody>\n",
       "</table>\n",
       "</div>"
      ],
      "text/plain": [
       "         pvalue   Vif\n",
       "hardtop   0.164 2.220"
      ]
     },
     "execution_count": 129,
     "metadata": {},
     "output_type": "execute_result"
    }
   ],
   "source": [
    "# Feature to Drop based on p-value and VIF\n",
    "drop = feature_to_drop(model = model4, SF=0.05, VF=2)\n",
    "drop"
   ]
  },
  {
   "cell_type": "code",
   "execution_count": 130,
   "metadata": {
    "collapsed": true
   },
   "outputs": [],
   "source": [
    "# Add key information of this model to model_summary table.\n",
    "add_model_summary(model = model4, name = 'model4')"
   ]
  },
  {
   "cell_type": "markdown",
   "metadata": {},
   "source": [
    "#### Model 5"
   ]
  },
  {
   "cell_type": "code",
   "execution_count": 131,
   "metadata": {
    "collapsed": true
   },
   "outputs": [],
   "source": [
    "# Dropping highly correlated variables and insignificant variables\n",
    "X_train = X_train.drop(feature_to_drop(model4).index[0], axis =1)\n",
    "vif_data = vif_data.drop(feature_to_drop(model4).index[0], axis =1)"
   ]
  },
  {
   "cell_type": "code",
   "execution_count": 132,
   "metadata": {},
   "outputs": [
    {
     "data": {
      "text/html": [
       "<table class=\"simpletable\">\n",
       "<caption>OLS Regression Results</caption>\n",
       "<tr>\n",
       "  <th>Dep. Variable:</th>          <td>price</td>      <th>  R-squared:         </th> <td>   0.941</td>\n",
       "</tr>\n",
       "<tr>\n",
       "  <th>Model:</th>                   <td>OLS</td>       <th>  Adj. R-squared:    </th> <td>   0.934</td>\n",
       "</tr>\n",
       "<tr>\n",
       "  <th>Method:</th>             <td>Least Squares</td>  <th>  F-statistic:       </th> <td>   145.4</td>\n",
       "</tr>\n",
       "<tr>\n",
       "  <th>Date:</th>             <td>Tue, 20 Mar 2018</td> <th>  Prob (F-statistic):</th> <td>2.31e-71</td>\n",
       "</tr>\n",
       "<tr>\n",
       "  <th>Time:</th>                 <td>11:42:39</td>     <th>  Log-Likelihood:    </th> <td>  234.42</td>\n",
       "</tr>\n",
       "<tr>\n",
       "  <th>No. Observations:</th>      <td>   143</td>      <th>  AIC:               </th> <td>  -438.8</td>\n",
       "</tr>\n",
       "<tr>\n",
       "  <th>Df Residuals:</th>          <td>   128</td>      <th>  BIC:               </th> <td>  -394.4</td>\n",
       "</tr>\n",
       "<tr>\n",
       "  <th>Df Model:</th>              <td>    14</td>      <th>                     </th>     <td> </td>   \n",
       "</tr>\n",
       "<tr>\n",
       "  <th>Covariance Type:</th>      <td>nonrobust</td>    <th>                     </th>     <td> </td>   \n",
       "</tr>\n",
       "</table>\n",
       "<table class=\"simpletable\">\n",
       "<tr>\n",
       "         <td></td>           <th>coef</th>     <th>std err</th>      <th>t</th>      <th>P>|t|</th>  <th>[0.025</th>    <th>0.975]</th>  \n",
       "</tr>\n",
       "<tr>\n",
       "  <th>const</th>          <td>    0.1750</td> <td>    0.059</td> <td>    2.951</td> <td> 0.004</td> <td>    0.058</td> <td>    0.292</td>\n",
       "</tr>\n",
       "<tr>\n",
       "  <th>enginelocation</th> <td>    0.1293</td> <td>    0.059</td> <td>    2.181</td> <td> 0.031</td> <td>    0.012</td> <td>    0.246</td>\n",
       "</tr>\n",
       "<tr>\n",
       "  <th>carwidth</th>       <td>    0.2271</td> <td>    0.055</td> <td>    4.124</td> <td> 0.000</td> <td>    0.118</td> <td>    0.336</td>\n",
       "</tr>\n",
       "<tr>\n",
       "  <th>curbweight</th>     <td>    0.1539</td> <td>    0.079</td> <td>    1.949</td> <td> 0.053</td> <td>   -0.002</td> <td>    0.310</td>\n",
       "</tr>\n",
       "<tr>\n",
       "  <th>cylindernumber</th> <td>   -0.4787</td> <td>    0.167</td> <td>   -2.859</td> <td> 0.005</td> <td>   -0.810</td> <td>   -0.147</td>\n",
       "</tr>\n",
       "<tr>\n",
       "  <th>enginesize</th>     <td>    0.5807</td> <td>    0.176</td> <td>    3.305</td> <td> 0.001</td> <td>    0.233</td> <td>    0.928</td>\n",
       "</tr>\n",
       "<tr>\n",
       "  <th>boreratio</th>      <td>   -0.2440</td> <td>    0.058</td> <td>   -4.215</td> <td> 0.000</td> <td>   -0.359</td> <td>   -0.129</td>\n",
       "</tr>\n",
       "<tr>\n",
       "  <th>stroke</th>         <td>   -0.1510</td> <td>    0.053</td> <td>   -2.871</td> <td> 0.005</td> <td>   -0.255</td> <td>   -0.047</td>\n",
       "</tr>\n",
       "<tr>\n",
       "  <th>horsepower</th>     <td>    0.2658</td> <td>    0.057</td> <td>    4.651</td> <td> 0.000</td> <td>    0.153</td> <td>    0.379</td>\n",
       "</tr>\n",
       "<tr>\n",
       "  <th>hatchback</th>      <td>   -0.0659</td> <td>    0.023</td> <td>   -2.901</td> <td> 0.004</td> <td>   -0.111</td> <td>   -0.021</td>\n",
       "</tr>\n",
       "<tr>\n",
       "  <th>sedan</th>          <td>   -0.0443</td> <td>    0.022</td> <td>   -1.998</td> <td> 0.048</td> <td>   -0.088</td> <td>   -0.000</td>\n",
       "</tr>\n",
       "<tr>\n",
       "  <th>wagon</th>          <td>   -0.0638</td> <td>    0.025</td> <td>   -2.521</td> <td> 0.013</td> <td>   -0.114</td> <td>   -0.014</td>\n",
       "</tr>\n",
       "<tr>\n",
       "  <th>rotor</th>          <td>    0.0593</td> <td>    0.034</td> <td>    1.769</td> <td> 0.079</td> <td>   -0.007</td> <td>    0.126</td>\n",
       "</tr>\n",
       "<tr>\n",
       "  <th>luxury</th>         <td>    0.2416</td> <td>    0.020</td> <td>   11.972</td> <td> 0.000</td> <td>    0.202</td> <td>    0.281</td>\n",
       "</tr>\n",
       "<tr>\n",
       "  <th>midclass</th>       <td>    0.0551</td> <td>    0.017</td> <td>    3.156</td> <td> 0.002</td> <td>    0.021</td> <td>    0.090</td>\n",
       "</tr>\n",
       "</table>\n",
       "<table class=\"simpletable\">\n",
       "<tr>\n",
       "  <th>Omnibus:</th>       <td>76.496</td> <th>  Durbin-Watson:     </th> <td>   1.775</td> \n",
       "</tr>\n",
       "<tr>\n",
       "  <th>Prob(Omnibus):</th> <td> 0.000</td> <th>  Jarque-Bera (JB):  </th> <td> 508.608</td> \n",
       "</tr>\n",
       "<tr>\n",
       "  <th>Skew:</th>          <td> 1.768</td> <th>  Prob(JB):          </th> <td>3.61e-111</td>\n",
       "</tr>\n",
       "<tr>\n",
       "  <th>Kurtosis:</th>      <td>11.536</td> <th>  Cond. No.          </th> <td>    99.0</td> \n",
       "</tr>\n",
       "</table>"
      ],
      "text/plain": [
       "<class 'statsmodels.iolib.summary.Summary'>\n",
       "\"\"\"\n",
       "                            OLS Regression Results                            \n",
       "==============================================================================\n",
       "Dep. Variable:                  price   R-squared:                       0.941\n",
       "Model:                            OLS   Adj. R-squared:                  0.934\n",
       "Method:                 Least Squares   F-statistic:                     145.4\n",
       "Date:                Tue, 20 Mar 2018   Prob (F-statistic):           2.31e-71\n",
       "Time:                        11:42:39   Log-Likelihood:                 234.42\n",
       "No. Observations:                 143   AIC:                            -438.8\n",
       "Df Residuals:                     128   BIC:                            -394.4\n",
       "Df Model:                          14                                         \n",
       "Covariance Type:            nonrobust                                         \n",
       "==================================================================================\n",
       "                     coef    std err          t      P>|t|      [0.025      0.975]\n",
       "----------------------------------------------------------------------------------\n",
       "const              0.1750      0.059      2.951      0.004       0.058       0.292\n",
       "enginelocation     0.1293      0.059      2.181      0.031       0.012       0.246\n",
       "carwidth           0.2271      0.055      4.124      0.000       0.118       0.336\n",
       "curbweight         0.1539      0.079      1.949      0.053      -0.002       0.310\n",
       "cylindernumber    -0.4787      0.167     -2.859      0.005      -0.810      -0.147\n",
       "enginesize         0.5807      0.176      3.305      0.001       0.233       0.928\n",
       "boreratio         -0.2440      0.058     -4.215      0.000      -0.359      -0.129\n",
       "stroke            -0.1510      0.053     -2.871      0.005      -0.255      -0.047\n",
       "horsepower         0.2658      0.057      4.651      0.000       0.153       0.379\n",
       "hatchback         -0.0659      0.023     -2.901      0.004      -0.111      -0.021\n",
       "sedan             -0.0443      0.022     -1.998      0.048      -0.088      -0.000\n",
       "wagon             -0.0638      0.025     -2.521      0.013      -0.114      -0.014\n",
       "rotor              0.0593      0.034      1.769      0.079      -0.007       0.126\n",
       "luxury             0.2416      0.020     11.972      0.000       0.202       0.281\n",
       "midclass           0.0551      0.017      3.156      0.002       0.021       0.090\n",
       "==============================================================================\n",
       "Omnibus:                       76.496   Durbin-Watson:                   1.775\n",
       "Prob(Omnibus):                  0.000   Jarque-Bera (JB):              508.608\n",
       "Skew:                           1.768   Prob(JB):                    3.61e-111\n",
       "Kurtosis:                      11.536   Cond. No.                         99.0\n",
       "==============================================================================\n",
       "\n",
       "Warnings:\n",
       "[1] Standard Errors assume that the covariance matrix of the errors is correctly specified.\n",
       "\"\"\""
      ]
     },
     "execution_count": 132,
     "metadata": {},
     "output_type": "execute_result"
    }
   ],
   "source": [
    "model5 = sm.OLS(y_train,X_train).fit()\n",
    "model5.summary()"
   ]
  },
  {
   "cell_type": "code",
   "execution_count": 133,
   "metadata": {},
   "outputs": [
    {
     "data": {
      "text/html": [
       "<div>\n",
       "<style>\n",
       "    .dataframe thead tr:only-child th {\n",
       "        text-align: right;\n",
       "    }\n",
       "\n",
       "    .dataframe thead th {\n",
       "        text-align: left;\n",
       "    }\n",
       "\n",
       "    .dataframe tbody tr th {\n",
       "        vertical-align: top;\n",
       "    }\n",
       "</style>\n",
       "<table border=\"1\" class=\"dataframe\">\n",
       "  <thead>\n",
       "    <tr style=\"text-align: right;\">\n",
       "      <th></th>\n",
       "      <th>2</th>\n",
       "      <th>4</th>\n",
       "      <th>1</th>\n",
       "      <th>3</th>\n",
       "      <th>5</th>\n",
       "      <th>6</th>\n",
       "      <th>7</th>\n",
       "      <th>9</th>\n",
       "      <th>8</th>\n",
       "      <th>10</th>\n",
       "      <th>13</th>\n",
       "      <th>12</th>\n",
       "      <th>0</th>\n",
       "      <th>11</th>\n",
       "    </tr>\n",
       "  </thead>\n",
       "  <tbody>\n",
       "    <tr>\n",
       "      <th>Var</th>\n",
       "      <td>curbweight</td>\n",
       "      <td>enginesize</td>\n",
       "      <td>carwidth</td>\n",
       "      <td>cylindernumber</td>\n",
       "      <td>boreratio</td>\n",
       "      <td>stroke</td>\n",
       "      <td>horsepower</td>\n",
       "      <td>sedan</td>\n",
       "      <td>hatchback</td>\n",
       "      <td>wagon</td>\n",
       "      <td>midclass</td>\n",
       "      <td>luxury</td>\n",
       "      <td>enginelocation</td>\n",
       "      <td>rotor</td>\n",
       "    </tr>\n",
       "    <tr>\n",
       "      <th>Vif</th>\n",
       "      <td>59.220</td>\n",
       "      <td>54.190</td>\n",
       "      <td>41.170</td>\n",
       "      <td>31.240</td>\n",
       "      <td>16.520</td>\n",
       "      <td>15.490</td>\n",
       "      <td>13.080</td>\n",
       "      <td>10.210</td>\n",
       "      <td>7.450</td>\n",
       "      <td>3.840</td>\n",
       "      <td>3.040</td>\n",
       "      <td>2.890</td>\n",
       "      <td>1.640</td>\n",
       "      <td>1.480</td>\n",
       "    </tr>\n",
       "  </tbody>\n",
       "</table>\n",
       "</div>"
      ],
      "text/plain": [
       "             2           4         1               3          5       6   \\\n",
       "Var  curbweight  enginesize  carwidth  cylindernumber  boreratio  stroke   \n",
       "Vif      59.220      54.190    41.170          31.240     16.520  15.490   \n",
       "\n",
       "             7      9          8      10        13      12              0   \\\n",
       "Var  horsepower  sedan  hatchback  wagon  midclass  luxury  enginelocation   \n",
       "Vif      13.080 10.210      7.450  3.840     3.040   2.890           1.640   \n",
       "\n",
       "        11  \n",
       "Var  rotor  \n",
       "Vif  1.480  "
      ]
     },
     "execution_count": 133,
     "metadata": {},
     "output_type": "execute_result"
    }
   ],
   "source": [
    "# Calculating Vif value\n",
    "vif_cal(vif_data).transpose() # used transpose to utilize the space."
   ]
  },
  {
   "cell_type": "code",
   "execution_count": 134,
   "metadata": {},
   "outputs": [
    {
     "data": {
      "text/html": [
       "<div>\n",
       "<style>\n",
       "    .dataframe thead tr:only-child th {\n",
       "        text-align: right;\n",
       "    }\n",
       "\n",
       "    .dataframe thead th {\n",
       "        text-align: left;\n",
       "    }\n",
       "\n",
       "    .dataframe tbody tr th {\n",
       "        vertical-align: top;\n",
       "    }\n",
       "</style>\n",
       "<table border=\"1\" class=\"dataframe\">\n",
       "  <thead>\n",
       "    <tr style=\"text-align: right;\">\n",
       "      <th></th>\n",
       "      <th>pvalue</th>\n",
       "      <th>Vif</th>\n",
       "    </tr>\n",
       "  </thead>\n",
       "  <tbody>\n",
       "    <tr>\n",
       "      <th>curbweight</th>\n",
       "      <td>0.053</td>\n",
       "      <td>59.220</td>\n",
       "    </tr>\n",
       "  </tbody>\n",
       "</table>\n",
       "</div>"
      ],
      "text/plain": [
       "            pvalue    Vif\n",
       "curbweight   0.053 59.220"
      ]
     },
     "execution_count": 134,
     "metadata": {},
     "output_type": "execute_result"
    }
   ],
   "source": [
    "# Feature to Drop based on p-value and VIF\n",
    "drop = feature_to_drop(model = model5, SF=0.05, VF=2)\n",
    "drop"
   ]
  },
  {
   "cell_type": "code",
   "execution_count": 135,
   "metadata": {
    "collapsed": true
   },
   "outputs": [],
   "source": [
    "# Add key information of this model to model_summary table.\n",
    "add_model_summary(model = model5, name = 'model5')"
   ]
  },
  {
   "cell_type": "markdown",
   "metadata": {},
   "source": [
    "#### Model 6"
   ]
  },
  {
   "cell_type": "code",
   "execution_count": 136,
   "metadata": {
    "collapsed": true
   },
   "outputs": [],
   "source": [
    "# Dropping highly correlated variables and insignificant variables\n",
    "X_train = X_train.drop(feature_to_drop(model5).index[0], axis =1)\n",
    "vif_data = vif_data.drop(feature_to_drop(model5).index[0], axis =1)"
   ]
  },
  {
   "cell_type": "code",
   "execution_count": 137,
   "metadata": {},
   "outputs": [
    {
     "data": {
      "text/html": [
       "<table class=\"simpletable\">\n",
       "<caption>OLS Regression Results</caption>\n",
       "<tr>\n",
       "  <th>Dep. Variable:</th>          <td>price</td>      <th>  R-squared:         </th> <td>   0.939</td>\n",
       "</tr>\n",
       "<tr>\n",
       "  <th>Model:</th>                   <td>OLS</td>       <th>  Adj. R-squared:    </th> <td>   0.933</td>\n",
       "</tr>\n",
       "<tr>\n",
       "  <th>Method:</th>             <td>Least Squares</td>  <th>  F-statistic:       </th> <td>   153.0</td>\n",
       "</tr>\n",
       "<tr>\n",
       "  <th>Date:</th>             <td>Tue, 20 Mar 2018</td> <th>  Prob (F-statistic):</th> <td>1.18e-71</td>\n",
       "</tr>\n",
       "<tr>\n",
       "  <th>Time:</th>                 <td>11:42:40</td>     <th>  Log-Likelihood:    </th> <td>  232.33</td>\n",
       "</tr>\n",
       "<tr>\n",
       "  <th>No. Observations:</th>      <td>   143</td>      <th>  AIC:               </th> <td>  -436.7</td>\n",
       "</tr>\n",
       "<tr>\n",
       "  <th>Df Residuals:</th>          <td>   129</td>      <th>  BIC:               </th> <td>  -395.2</td>\n",
       "</tr>\n",
       "<tr>\n",
       "  <th>Df Model:</th>              <td>    13</td>      <th>                     </th>     <td> </td>   \n",
       "</tr>\n",
       "<tr>\n",
       "  <th>Covariance Type:</th>      <td>nonrobust</td>    <th>                     </th>     <td> </td>   \n",
       "</tr>\n",
       "</table>\n",
       "<table class=\"simpletable\">\n",
       "<tr>\n",
       "         <td></td>           <th>coef</th>     <th>std err</th>      <th>t</th>      <th>P>|t|</th>  <th>[0.025</th>    <th>0.975]</th>  \n",
       "</tr>\n",
       "<tr>\n",
       "  <th>const</th>          <td>    0.2178</td> <td>    0.056</td> <td>    3.912</td> <td> 0.000</td> <td>    0.108</td> <td>    0.328</td>\n",
       "</tr>\n",
       "<tr>\n",
       "  <th>enginelocation</th> <td>    0.1044</td> <td>    0.058</td> <td>    1.785</td> <td> 0.077</td> <td>   -0.011</td> <td>    0.220</td>\n",
       "</tr>\n",
       "<tr>\n",
       "  <th>carwidth</th>       <td>    0.2795</td> <td>    0.049</td> <td>    5.748</td> <td> 0.000</td> <td>    0.183</td> <td>    0.376</td>\n",
       "</tr>\n",
       "<tr>\n",
       "  <th>cylindernumber</th> <td>   -0.6280</td> <td>    0.150</td> <td>   -4.173</td> <td> 0.000</td> <td>   -0.926</td> <td>   -0.330</td>\n",
       "</tr>\n",
       "<tr>\n",
       "  <th>enginesize</th>     <td>    0.8092</td> <td>    0.132</td> <td>    6.119</td> <td> 0.000</td> <td>    0.548</td> <td>    1.071</td>\n",
       "</tr>\n",
       "<tr>\n",
       "  <th>boreratio</th>      <td>   -0.2785</td> <td>    0.056</td> <td>   -4.997</td> <td> 0.000</td> <td>   -0.389</td> <td>   -0.168</td>\n",
       "</tr>\n",
       "<tr>\n",
       "  <th>stroke</th>         <td>   -0.1778</td> <td>    0.051</td> <td>   -3.466</td> <td> 0.001</td> <td>   -0.279</td> <td>   -0.076</td>\n",
       "</tr>\n",
       "<tr>\n",
       "  <th>horsepower</th>     <td>    0.2937</td> <td>    0.056</td> <td>    5.253</td> <td> 0.000</td> <td>    0.183</td> <td>    0.404</td>\n",
       "</tr>\n",
       "<tr>\n",
       "  <th>hatchback</th>      <td>   -0.0677</td> <td>    0.023</td> <td>   -2.948</td> <td> 0.004</td> <td>   -0.113</td> <td>   -0.022</td>\n",
       "</tr>\n",
       "<tr>\n",
       "  <th>sedan</th>          <td>   -0.0440</td> <td>    0.022</td> <td>   -1.961</td> <td> 0.052</td> <td>   -0.088</td> <td>    0.000</td>\n",
       "</tr>\n",
       "<tr>\n",
       "  <th>wagon</th>          <td>   -0.0484</td> <td>    0.024</td> <td>   -1.993</td> <td> 0.048</td> <td>   -0.096</td> <td>   -0.000</td>\n",
       "</tr>\n",
       "<tr>\n",
       "  <th>rotor</th>          <td>    0.0673</td> <td>    0.034</td> <td>    2.001</td> <td> 0.047</td> <td>    0.001</td> <td>    0.134</td>\n",
       "</tr>\n",
       "<tr>\n",
       "  <th>luxury</th>         <td>    0.2454</td> <td>    0.020</td> <td>   12.094</td> <td> 0.000</td> <td>    0.205</td> <td>    0.286</td>\n",
       "</tr>\n",
       "<tr>\n",
       "  <th>midclass</th>       <td>    0.0685</td> <td>    0.016</td> <td>    4.220</td> <td> 0.000</td> <td>    0.036</td> <td>    0.101</td>\n",
       "</tr>\n",
       "</table>\n",
       "<table class=\"simpletable\">\n",
       "<tr>\n",
       "  <th>Omnibus:</th>       <td>71.666</td> <th>  Durbin-Watson:     </th> <td>   1.794</td>\n",
       "</tr>\n",
       "<tr>\n",
       "  <th>Prob(Omnibus):</th> <td> 0.000</td> <th>  Jarque-Bera (JB):  </th> <td> 409.573</td>\n",
       "</tr>\n",
       "<tr>\n",
       "  <th>Skew:</th>          <td> 1.690</td> <th>  Prob(JB):          </th> <td>1.15e-89</td>\n",
       "</tr>\n",
       "<tr>\n",
       "  <th>Kurtosis:</th>      <td>10.571</td> <th>  Cond. No.          </th> <td>    77.4</td>\n",
       "</tr>\n",
       "</table>"
      ],
      "text/plain": [
       "<class 'statsmodels.iolib.summary.Summary'>\n",
       "\"\"\"\n",
       "                            OLS Regression Results                            \n",
       "==============================================================================\n",
       "Dep. Variable:                  price   R-squared:                       0.939\n",
       "Model:                            OLS   Adj. R-squared:                  0.933\n",
       "Method:                 Least Squares   F-statistic:                     153.0\n",
       "Date:                Tue, 20 Mar 2018   Prob (F-statistic):           1.18e-71\n",
       "Time:                        11:42:40   Log-Likelihood:                 232.33\n",
       "No. Observations:                 143   AIC:                            -436.7\n",
       "Df Residuals:                     129   BIC:                            -395.2\n",
       "Df Model:                          13                                         \n",
       "Covariance Type:            nonrobust                                         \n",
       "==================================================================================\n",
       "                     coef    std err          t      P>|t|      [0.025      0.975]\n",
       "----------------------------------------------------------------------------------\n",
       "const              0.2178      0.056      3.912      0.000       0.108       0.328\n",
       "enginelocation     0.1044      0.058      1.785      0.077      -0.011       0.220\n",
       "carwidth           0.2795      0.049      5.748      0.000       0.183       0.376\n",
       "cylindernumber    -0.6280      0.150     -4.173      0.000      -0.926      -0.330\n",
       "enginesize         0.8092      0.132      6.119      0.000       0.548       1.071\n",
       "boreratio         -0.2785      0.056     -4.997      0.000      -0.389      -0.168\n",
       "stroke            -0.1778      0.051     -3.466      0.001      -0.279      -0.076\n",
       "horsepower         0.2937      0.056      5.253      0.000       0.183       0.404\n",
       "hatchback         -0.0677      0.023     -2.948      0.004      -0.113      -0.022\n",
       "sedan             -0.0440      0.022     -1.961      0.052      -0.088       0.000\n",
       "wagon             -0.0484      0.024     -1.993      0.048      -0.096      -0.000\n",
       "rotor              0.0673      0.034      2.001      0.047       0.001       0.134\n",
       "luxury             0.2454      0.020     12.094      0.000       0.205       0.286\n",
       "midclass           0.0685      0.016      4.220      0.000       0.036       0.101\n",
       "==============================================================================\n",
       "Omnibus:                       71.666   Durbin-Watson:                   1.794\n",
       "Prob(Omnibus):                  0.000   Jarque-Bera (JB):              409.573\n",
       "Skew:                           1.690   Prob(JB):                     1.15e-89\n",
       "Kurtosis:                      10.571   Cond. No.                         77.4\n",
       "==============================================================================\n",
       "\n",
       "Warnings:\n",
       "[1] Standard Errors assume that the covariance matrix of the errors is correctly specified.\n",
       "\"\"\""
      ]
     },
     "execution_count": 137,
     "metadata": {},
     "output_type": "execute_result"
    }
   ],
   "source": [
    "model6 = sm.OLS(y_train,X_train).fit()\n",
    "model6.summary()"
   ]
  },
  {
   "cell_type": "code",
   "execution_count": 138,
   "metadata": {},
   "outputs": [
    {
     "data": {
      "text/html": [
       "<div>\n",
       "<style>\n",
       "    .dataframe thead tr:only-child th {\n",
       "        text-align: right;\n",
       "    }\n",
       "\n",
       "    .dataframe thead th {\n",
       "        text-align: left;\n",
       "    }\n",
       "\n",
       "    .dataframe tbody tr th {\n",
       "        vertical-align: top;\n",
       "    }\n",
       "</style>\n",
       "<table border=\"1\" class=\"dataframe\">\n",
       "  <thead>\n",
       "    <tr style=\"text-align: right;\">\n",
       "      <th></th>\n",
       "      <th>3</th>\n",
       "      <th>1</th>\n",
       "      <th>2</th>\n",
       "      <th>4</th>\n",
       "      <th>5</th>\n",
       "      <th>6</th>\n",
       "      <th>8</th>\n",
       "      <th>7</th>\n",
       "      <th>9</th>\n",
       "      <th>11</th>\n",
       "      <th>12</th>\n",
       "      <th>0</th>\n",
       "      <th>10</th>\n",
       "    </tr>\n",
       "  </thead>\n",
       "  <tbody>\n",
       "    <tr>\n",
       "      <th>Var</th>\n",
       "      <td>enginesize</td>\n",
       "      <td>carwidth</td>\n",
       "      <td>cylindernumber</td>\n",
       "      <td>boreratio</td>\n",
       "      <td>stroke</td>\n",
       "      <td>horsepower</td>\n",
       "      <td>sedan</td>\n",
       "      <td>hatchback</td>\n",
       "      <td>wagon</td>\n",
       "      <td>luxury</td>\n",
       "      <td>midclass</td>\n",
       "      <td>enginelocation</td>\n",
       "      <td>rotor</td>\n",
       "    </tr>\n",
       "    <tr>\n",
       "      <th>Vif</th>\n",
       "      <td>38.230</td>\n",
       "      <td>33.830</td>\n",
       "      <td>29.690</td>\n",
       "      <td>16.390</td>\n",
       "      <td>15.360</td>\n",
       "      <td>12.500</td>\n",
       "      <td>10.090</td>\n",
       "      <td>7.440</td>\n",
       "      <td>3.420</td>\n",
       "      <td>2.870</td>\n",
       "      <td>2.730</td>\n",
       "      <td>1.600</td>\n",
       "      <td>1.440</td>\n",
       "    </tr>\n",
       "  </tbody>\n",
       "</table>\n",
       "</div>"
      ],
      "text/plain": [
       "             3         1               2          4       5           6   \\\n",
       "Var  enginesize  carwidth  cylindernumber  boreratio  stroke  horsepower   \n",
       "Vif      38.230    33.830          29.690     16.390  15.360      12.500   \n",
       "\n",
       "        8          7      9       11        12              0      10  \n",
       "Var  sedan  hatchback  wagon  luxury  midclass  enginelocation  rotor  \n",
       "Vif 10.090      7.440  3.420   2.870     2.730           1.600  1.440  "
      ]
     },
     "execution_count": 138,
     "metadata": {},
     "output_type": "execute_result"
    }
   ],
   "source": [
    "# Calculating Vif value\n",
    "vif_cal(vif_data).transpose() # used transpose to utilize the space."
   ]
  },
  {
   "cell_type": "code",
   "execution_count": 139,
   "metadata": {},
   "outputs": [
    {
     "data": {
      "text/html": [
       "<div>\n",
       "<style>\n",
       "    .dataframe thead tr:only-child th {\n",
       "        text-align: right;\n",
       "    }\n",
       "\n",
       "    .dataframe thead th {\n",
       "        text-align: left;\n",
       "    }\n",
       "\n",
       "    .dataframe tbody tr th {\n",
       "        vertical-align: top;\n",
       "    }\n",
       "</style>\n",
       "<table border=\"1\" class=\"dataframe\">\n",
       "  <thead>\n",
       "    <tr style=\"text-align: right;\">\n",
       "      <th></th>\n",
       "      <th>pvalue</th>\n",
       "      <th>Vif</th>\n",
       "    </tr>\n",
       "  </thead>\n",
       "  <tbody>\n",
       "    <tr>\n",
       "      <th>sedan</th>\n",
       "      <td>0.052</td>\n",
       "      <td>10.090</td>\n",
       "    </tr>\n",
       "  </tbody>\n",
       "</table>\n",
       "</div>"
      ],
      "text/plain": [
       "       pvalue    Vif\n",
       "sedan   0.052 10.090"
      ]
     },
     "execution_count": 139,
     "metadata": {},
     "output_type": "execute_result"
    }
   ],
   "source": [
    "# Feature to Drop based on p-value and VIF\n",
    "drop = feature_to_drop(model = model6, SF=0.05, VF=2)\n",
    "drop"
   ]
  },
  {
   "cell_type": "code",
   "execution_count": 140,
   "metadata": {
    "collapsed": true
   },
   "outputs": [],
   "source": [
    "# Add key information of this model to model_summary table.\n",
    "add_model_summary(model = model6, name = 'model6')"
   ]
  },
  {
   "cell_type": "markdown",
   "metadata": {},
   "source": [
    "#### Model 7"
   ]
  },
  {
   "cell_type": "code",
   "execution_count": 141,
   "metadata": {
    "collapsed": true
   },
   "outputs": [],
   "source": [
    "# Dropping highly correlated variables and insignificant variables\n",
    "X_train = X_train.drop(feature_to_drop(model6).index[0], axis =1)\n",
    "vif_data = vif_data.drop(feature_to_drop(model6).index[0], axis =1)"
   ]
  },
  {
   "cell_type": "code",
   "execution_count": 142,
   "metadata": {},
   "outputs": [
    {
     "data": {
      "text/html": [
       "<table class=\"simpletable\">\n",
       "<caption>OLS Regression Results</caption>\n",
       "<tr>\n",
       "  <th>Dep. Variable:</th>          <td>price</td>      <th>  R-squared:         </th> <td>   0.937</td>\n",
       "</tr>\n",
       "<tr>\n",
       "  <th>Model:</th>                   <td>OLS</td>       <th>  Adj. R-squared:    </th> <td>   0.931</td>\n",
       "</tr>\n",
       "<tr>\n",
       "  <th>Method:</th>             <td>Least Squares</td>  <th>  F-statistic:       </th> <td>   161.9</td>\n",
       "</tr>\n",
       "<tr>\n",
       "  <th>Date:</th>             <td>Tue, 20 Mar 2018</td> <th>  Prob (F-statistic):</th> <td>5.95e-72</td>\n",
       "</tr>\n",
       "<tr>\n",
       "  <th>Time:</th>                 <td>11:42:48</td>     <th>  Log-Likelihood:    </th> <td>  230.23</td>\n",
       "</tr>\n",
       "<tr>\n",
       "  <th>No. Observations:</th>      <td>   143</td>      <th>  AIC:               </th> <td>  -434.5</td>\n",
       "</tr>\n",
       "<tr>\n",
       "  <th>Df Residuals:</th>          <td>   130</td>      <th>  BIC:               </th> <td>  -395.9</td>\n",
       "</tr>\n",
       "<tr>\n",
       "  <th>Df Model:</th>              <td>    12</td>      <th>                     </th>     <td> </td>   \n",
       "</tr>\n",
       "<tr>\n",
       "  <th>Covariance Type:</th>      <td>nonrobust</td>    <th>                     </th>     <td> </td>   \n",
       "</tr>\n",
       "</table>\n",
       "<table class=\"simpletable\">\n",
       "<tr>\n",
       "         <td></td>           <th>coef</th>     <th>std err</th>      <th>t</th>      <th>P>|t|</th>  <th>[0.025</th>    <th>0.975]</th>  \n",
       "</tr>\n",
       "<tr>\n",
       "  <th>const</th>          <td>    0.1985</td> <td>    0.055</td> <td>    3.584</td> <td> 0.000</td> <td>    0.089</td> <td>    0.308</td>\n",
       "</tr>\n",
       "<tr>\n",
       "  <th>enginelocation</th> <td>    0.1385</td> <td>    0.056</td> <td>    2.453</td> <td> 0.015</td> <td>    0.027</td> <td>    0.250</td>\n",
       "</tr>\n",
       "<tr>\n",
       "  <th>carwidth</th>       <td>    0.2721</td> <td>    0.049</td> <td>    5.553</td> <td> 0.000</td> <td>    0.175</td> <td>    0.369</td>\n",
       "</tr>\n",
       "<tr>\n",
       "  <th>cylindernumber</th> <td>   -0.6815</td> <td>    0.150</td> <td>   -4.556</td> <td> 0.000</td> <td>   -0.977</td> <td>   -0.386</td>\n",
       "</tr>\n",
       "<tr>\n",
       "  <th>enginesize</th>     <td>    0.8657</td> <td>    0.130</td> <td>    6.634</td> <td> 0.000</td> <td>    0.608</td> <td>    1.124</td>\n",
       "</tr>\n",
       "<tr>\n",
       "  <th>boreratio</th>      <td>   -0.2916</td> <td>    0.056</td> <td>   -5.214</td> <td> 0.000</td> <td>   -0.402</td> <td>   -0.181</td>\n",
       "</tr>\n",
       "<tr>\n",
       "  <th>stroke</th>         <td>   -0.1980</td> <td>    0.051</td> <td>   -3.898</td> <td> 0.000</td> <td>   -0.299</td> <td>   -0.098</td>\n",
       "</tr>\n",
       "<tr>\n",
       "  <th>horsepower</th>     <td>    0.3001</td> <td>    0.056</td> <td>    5.318</td> <td> 0.000</td> <td>    0.188</td> <td>    0.412</td>\n",
       "</tr>\n",
       "<tr>\n",
       "  <th>hatchback</th>      <td>   -0.0276</td> <td>    0.011</td> <td>   -2.609</td> <td> 0.010</td> <td>   -0.049</td> <td>   -0.007</td>\n",
       "</tr>\n",
       "<tr>\n",
       "  <th>wagon</th>          <td>   -0.0085</td> <td>    0.013</td> <td>   -0.634</td> <td> 0.527</td> <td>   -0.035</td> <td>    0.018</td>\n",
       "</tr>\n",
       "<tr>\n",
       "  <th>rotor</th>          <td>    0.0646</td> <td>    0.034</td> <td>    1.902</td> <td> 0.059</td> <td>   -0.003</td> <td>    0.132</td>\n",
       "</tr>\n",
       "<tr>\n",
       "  <th>luxury</th>         <td>    0.2417</td> <td>    0.020</td> <td>   11.833</td> <td> 0.000</td> <td>    0.201</td> <td>    0.282</td>\n",
       "</tr>\n",
       "<tr>\n",
       "  <th>midclass</th>       <td>    0.0647</td> <td>    0.016</td> <td>    3.972</td> <td> 0.000</td> <td>    0.032</td> <td>    0.097</td>\n",
       "</tr>\n",
       "</table>\n",
       "<table class=\"simpletable\">\n",
       "<tr>\n",
       "  <th>Omnibus:</th>       <td>63.024</td> <th>  Durbin-Watson:     </th> <td>   1.770</td>\n",
       "</tr>\n",
       "<tr>\n",
       "  <th>Prob(Omnibus):</th> <td> 0.000</td> <th>  Jarque-Bera (JB):  </th> <td> 295.450</td>\n",
       "</tr>\n",
       "<tr>\n",
       "  <th>Skew:</th>          <td> 1.520</td> <th>  Prob(JB):          </th> <td>6.98e-65</td>\n",
       "</tr>\n",
       "<tr>\n",
       "  <th>Kurtosis:</th>      <td> 9.352</td> <th>  Cond. No.          </th> <td>    72.4</td>\n",
       "</tr>\n",
       "</table>"
      ],
      "text/plain": [
       "<class 'statsmodels.iolib.summary.Summary'>\n",
       "\"\"\"\n",
       "                            OLS Regression Results                            \n",
       "==============================================================================\n",
       "Dep. Variable:                  price   R-squared:                       0.937\n",
       "Model:                            OLS   Adj. R-squared:                  0.931\n",
       "Method:                 Least Squares   F-statistic:                     161.9\n",
       "Date:                Tue, 20 Mar 2018   Prob (F-statistic):           5.95e-72\n",
       "Time:                        11:42:48   Log-Likelihood:                 230.23\n",
       "No. Observations:                 143   AIC:                            -434.5\n",
       "Df Residuals:                     130   BIC:                            -395.9\n",
       "Df Model:                          12                                         \n",
       "Covariance Type:            nonrobust                                         \n",
       "==================================================================================\n",
       "                     coef    std err          t      P>|t|      [0.025      0.975]\n",
       "----------------------------------------------------------------------------------\n",
       "const              0.1985      0.055      3.584      0.000       0.089       0.308\n",
       "enginelocation     0.1385      0.056      2.453      0.015       0.027       0.250\n",
       "carwidth           0.2721      0.049      5.553      0.000       0.175       0.369\n",
       "cylindernumber    -0.6815      0.150     -4.556      0.000      -0.977      -0.386\n",
       "enginesize         0.8657      0.130      6.634      0.000       0.608       1.124\n",
       "boreratio         -0.2916      0.056     -5.214      0.000      -0.402      -0.181\n",
       "stroke            -0.1980      0.051     -3.898      0.000      -0.299      -0.098\n",
       "horsepower         0.3001      0.056      5.318      0.000       0.188       0.412\n",
       "hatchback         -0.0276      0.011     -2.609      0.010      -0.049      -0.007\n",
       "wagon             -0.0085      0.013     -0.634      0.527      -0.035       0.018\n",
       "rotor              0.0646      0.034      1.902      0.059      -0.003       0.132\n",
       "luxury             0.2417      0.020     11.833      0.000       0.201       0.282\n",
       "midclass           0.0647      0.016      3.972      0.000       0.032       0.097\n",
       "==============================================================================\n",
       "Omnibus:                       63.024   Durbin-Watson:                   1.770\n",
       "Prob(Omnibus):                  0.000   Jarque-Bera (JB):              295.450\n",
       "Skew:                           1.520   Prob(JB):                     6.98e-65\n",
       "Kurtosis:                       9.352   Cond. No.                         72.4\n",
       "==============================================================================\n",
       "\n",
       "Warnings:\n",
       "[1] Standard Errors assume that the covariance matrix of the errors is correctly specified.\n",
       "\"\"\""
      ]
     },
     "execution_count": 142,
     "metadata": {},
     "output_type": "execute_result"
    }
   ],
   "source": [
    "model7 = sm.OLS(y_train,X_train).fit()\n",
    "model7.summary()"
   ]
  },
  {
   "cell_type": "code",
   "execution_count": 143,
   "metadata": {},
   "outputs": [
    {
     "data": {
      "text/html": [
       "<div>\n",
       "<style>\n",
       "    .dataframe thead tr:only-child th {\n",
       "        text-align: right;\n",
       "    }\n",
       "\n",
       "    .dataframe thead th {\n",
       "        text-align: left;\n",
       "    }\n",
       "\n",
       "    .dataframe tbody tr th {\n",
       "        vertical-align: top;\n",
       "    }\n",
       "</style>\n",
       "<table border=\"1\" class=\"dataframe\">\n",
       "  <thead>\n",
       "    <tr style=\"text-align: right;\">\n",
       "      <th></th>\n",
       "      <th>1</th>\n",
       "      <th>3</th>\n",
       "      <th>2</th>\n",
       "      <th>4</th>\n",
       "      <th>6</th>\n",
       "      <th>5</th>\n",
       "      <th>10</th>\n",
       "      <th>11</th>\n",
       "      <th>7</th>\n",
       "      <th>0</th>\n",
       "      <th>9</th>\n",
       "      <th>8</th>\n",
       "    </tr>\n",
       "  </thead>\n",
       "  <tbody>\n",
       "    <tr>\n",
       "      <th>Var</th>\n",
       "      <td>carwidth</td>\n",
       "      <td>enginesize</td>\n",
       "      <td>cylindernumber</td>\n",
       "      <td>boreratio</td>\n",
       "      <td>horsepower</td>\n",
       "      <td>stroke</td>\n",
       "      <td>luxury</td>\n",
       "      <td>midclass</td>\n",
       "      <td>hatchback</td>\n",
       "      <td>enginelocation</td>\n",
       "      <td>rotor</td>\n",
       "      <td>wagon</td>\n",
       "    </tr>\n",
       "    <tr>\n",
       "      <th>Vif</th>\n",
       "      <td>33.660</td>\n",
       "      <td>27.770</td>\n",
       "      <td>19.060</td>\n",
       "      <td>13.370</td>\n",
       "      <td>12.400</td>\n",
       "      <td>11.550</td>\n",
       "      <td>2.860</td>\n",
       "      <td>2.640</td>\n",
       "      <td>1.930</td>\n",
       "      <td>1.450</td>\n",
       "      <td>1.420</td>\n",
       "      <td>1.290</td>\n",
       "    </tr>\n",
       "  </tbody>\n",
       "</table>\n",
       "</div>"
      ],
      "text/plain": [
       "           1           3               2          4           6       5   \\\n",
       "Var  carwidth  enginesize  cylindernumber  boreratio  horsepower  stroke   \n",
       "Vif    33.660      27.770          19.060     13.370      12.400  11.550   \n",
       "\n",
       "         10        11         7               0      9      8   \n",
       "Var  luxury  midclass  hatchback  enginelocation  rotor  wagon  \n",
       "Vif   2.860     2.640      1.930           1.450  1.420  1.290  "
      ]
     },
     "execution_count": 143,
     "metadata": {},
     "output_type": "execute_result"
    }
   ],
   "source": [
    "# Calculating Vif value\n",
    "vif_cal(vif_data).transpose() # used transpose to utilize the space."
   ]
  },
  {
   "cell_type": "code",
   "execution_count": 144,
   "metadata": {},
   "outputs": [
    {
     "data": {
      "text/plain": [
       "'No feature to drop'"
      ]
     },
     "execution_count": 144,
     "metadata": {},
     "output_type": "execute_result"
    }
   ],
   "source": [
    "# Feature to Drop based on p-value and VIF\n",
    "drop = feature_to_drop(model = model7, SF=0.05, VF=2)\n",
    "drop"
   ]
  },
  {
   "cell_type": "code",
   "execution_count": 145,
   "metadata": {
    "collapsed": true
   },
   "outputs": [],
   "source": [
    "# Add key information of this model to model_summary table.\n",
    "add_model_summary(model = model7, name = 'model7')"
   ]
  },
  {
   "cell_type": "markdown",
   "metadata": {},
   "source": [
    "***"
   ]
  },
  {
   "cell_type": "markdown",
   "metadata": {},
   "source": [
    "<a id='model_summary'></a>"
   ]
  },
  {
   "cell_type": "markdown",
   "metadata": {},
   "source": [
    "## XI. Model Summary"
   ]
  },
  {
   "cell_type": "code",
   "execution_count": 146,
   "metadata": {},
   "outputs": [
    {
     "data": {
      "text/html": [
       "<div>\n",
       "<style>\n",
       "    .dataframe thead tr:only-child th {\n",
       "        text-align: right;\n",
       "    }\n",
       "\n",
       "    .dataframe thead th {\n",
       "        text-align: left;\n",
       "    }\n",
       "\n",
       "    .dataframe tbody tr th {\n",
       "        vertical-align: top;\n",
       "    }\n",
       "</style>\n",
       "<table border=\"1\" class=\"dataframe\">\n",
       "  <thead>\n",
       "    <tr style=\"text-align: right;\">\n",
       "      <th></th>\n",
       "      <th>No_Features</th>\n",
       "      <th>R-squared</th>\n",
       "      <th>Adj_R-squared</th>\n",
       "      <th>Column_to_Drop</th>\n",
       "      <th>p-value</th>\n",
       "      <th>VIF</th>\n",
       "    </tr>\n",
       "    <tr>\n",
       "      <th>Model</th>\n",
       "      <th></th>\n",
       "      <th></th>\n",
       "      <th></th>\n",
       "      <th></th>\n",
       "      <th></th>\n",
       "      <th></th>\n",
       "    </tr>\n",
       "  </thead>\n",
       "  <tbody>\n",
       "    <tr>\n",
       "      <th>model1</th>\n",
       "      <td>18</td>\n",
       "      <td>0.943</td>\n",
       "      <td>0.935</td>\n",
       "      <td>wheelbase</td>\n",
       "      <td>0.529</td>\n",
       "      <td>34.310</td>\n",
       "    </tr>\n",
       "    <tr>\n",
       "      <th>model2</th>\n",
       "      <td>17</td>\n",
       "      <td>0.943</td>\n",
       "      <td>0.936</td>\n",
       "      <td>ohcf</td>\n",
       "      <td>0.261</td>\n",
       "      <td>2.920</td>\n",
       "    </tr>\n",
       "    <tr>\n",
       "      <th>model3</th>\n",
       "      <td>16</td>\n",
       "      <td>0.943</td>\n",
       "      <td>0.935</td>\n",
       "      <td>highwaympg</td>\n",
       "      <td>0.158</td>\n",
       "      <td>18.480</td>\n",
       "    </tr>\n",
       "    <tr>\n",
       "      <th>model4</th>\n",
       "      <td>15</td>\n",
       "      <td>0.942</td>\n",
       "      <td>0.935</td>\n",
       "      <td>hardtop</td>\n",
       "      <td>0.164</td>\n",
       "      <td>2.220</td>\n",
       "    </tr>\n",
       "    <tr>\n",
       "      <th>model5</th>\n",
       "      <td>14</td>\n",
       "      <td>0.941</td>\n",
       "      <td>0.934</td>\n",
       "      <td>curbweight</td>\n",
       "      <td>0.053</td>\n",
       "      <td>59.220</td>\n",
       "    </tr>\n",
       "    <tr>\n",
       "      <th>model6</th>\n",
       "      <td>13</td>\n",
       "      <td>0.939</td>\n",
       "      <td>0.933</td>\n",
       "      <td>sedan</td>\n",
       "      <td>0.052</td>\n",
       "      <td>10.090</td>\n",
       "    </tr>\n",
       "    <tr>\n",
       "      <th>model7</th>\n",
       "      <td>12</td>\n",
       "      <td>0.937</td>\n",
       "      <td>0.931</td>\n",
       "      <td>Nothing to Drop</td>\n",
       "      <td>nan</td>\n",
       "      <td>nan</td>\n",
       "    </tr>\n",
       "  </tbody>\n",
       "</table>\n",
       "</div>"
      ],
      "text/plain": [
       "       No_Features  R-squared  Adj_R-squared   Column_to_Drop  p-value    VIF\n",
       "Model                                                                        \n",
       "model1          18      0.943          0.935        wheelbase    0.529 34.310\n",
       "model2          17      0.943          0.936             ohcf    0.261  2.920\n",
       "model3          16      0.943          0.935       highwaympg    0.158 18.480\n",
       "model4          15      0.942          0.935          hardtop    0.164  2.220\n",
       "model5          14      0.941          0.934       curbweight    0.053 59.220\n",
       "model6          13      0.939          0.933            sedan    0.052 10.090\n",
       "model7          12      0.937          0.931  Nothing to Drop      nan    nan"
      ]
     },
     "execution_count": 146,
     "metadata": {},
     "output_type": "execute_result"
    }
   ],
   "source": [
    "model_summary"
   ]
  },
  {
   "cell_type": "code",
   "execution_count": 147,
   "metadata": {
    "collapsed": true
   },
   "outputs": [],
   "source": [
    "# As now there are no features to drop, we will do our prediction on the last model."
   ]
  },
  {
   "cell_type": "markdown",
   "metadata": {},
   "source": [
    "<a id='prediction'></a>"
   ]
  },
  {
   "cell_type": "markdown",
   "metadata": {},
   "source": [
    "## XII. Model Prediction"
   ]
  },
  {
   "cell_type": "code",
   "execution_count": 148,
   "metadata": {
    "collapsed": true
   },
   "outputs": [],
   "source": [
    "# Making predictions\n",
    "X_test = X_test[X_train.columns]\n",
    "y_pred = model7.predict(X_test)"
   ]
  },
  {
   "cell_type": "code",
   "execution_count": 149,
   "metadata": {},
   "outputs": [
    {
     "name": "stdout",
     "output_type": "stream",
     "text": [
      "MSE\t\t\t: 0.00352553635683\n",
      "R-Square on Training\t: 0.939099665199\n",
      "R-Square on Prediction\t: 0.918310032175\n"
     ]
    }
   ],
   "source": [
    "# computing rmse and r^2\n",
    "mse = mean_squared_error(y_test,y_pred)\n",
    "print('MSE\\t\\t\\t:',mse)\n",
    "print('R-Square on Training\\t:',model6.rsquared)\n",
    "r_square_pred = r2_score(y_test,y_pred)\n",
    "print('R-Square on Prediction\\t:',r_square_pred)"
   ]
  },
  {
   "cell_type": "code",
   "execution_count": 150,
   "metadata": {},
   "outputs": [
    {
     "data": {
      "image/png": "[encoded data removed]",
      "text/plain": [
       "<matplotlib.figure.Figure at 0x19ab70d8588>"
      ]
     },
     "metadata": {},
     "output_type": "display_data"
    }
   ],
   "source": [
    "#Actual vs Predicted\n",
    "c = [i for i in range(0,len(y_pred),1)]\n",
    "fig = plt.figure(figsize=(14,7))\n",
    "plt.plot(c,y_test, color=\"blue\", linewidth=2.5, linestyle=\"-\",label='Actual')\n",
    "plt.plot(c,y_pred, color=\"red\",  linewidth=2.5, linestyle=\"-\",label='Predicted')\n",
    "fig.suptitle('Actual and Predicted', fontsize=20)              # Plot heading \n",
    "plt.xlabel('Index', fontsize=16)                               # X-label\n",
    "plt.ylabel('Price', fontsize=16)                               # Y-label\n",
    "plt.legend()\n",
    "plt.show()"
   ]
  },
  {
   "cell_type": "markdown",
   "metadata": {},
   "source": [
    "<font color='blue'><b>Insights</b>: The actual and predicted views significantly overlapped, thus indicating that the model is correctly deriving the features influencing the price.\n",
    "</font> "
   ]
  },
  {
   "cell_type": "code",
   "execution_count": 151,
   "metadata": {},
   "outputs": [
    {
     "data": {
      "image/png": "[encoded data removed]",
      "text/plain": [
       "<matplotlib.figure.Figure at 0x19ab7074128>"
      ]
     },
     "metadata": {},
     "output_type": "display_data"
    }
   ],
   "source": [
    "# Plotting the error terms to understand the distribution.\n",
    "fig = plt.figure(figsize=(14,7))\n",
    "sns.distplot((y_test-y_pred),bins=50)\n",
    "fig.suptitle('Error Terms', fontsize=20)                  # Plot heading \n",
    "plt.xlabel('y_test-y_pred', fontsize=18)                  # X-label\n",
    "plt.ylabel('Index', fontsize=16)                          # Y-label\n",
    "plt.show()"
   ]
  },
  {
   "cell_type": "code",
   "execution_count": 152,
   "metadata": {},
   "outputs": [
    {
     "data": {
      "image/png": "[encoded data removed]",
      "text/plain": [
       "<matplotlib.figure.Figure at 0x19ab6c93208>"
      ]
     },
     "metadata": {},
     "output_type": "display_data"
    }
   ],
   "source": [
    "# Check if there is an pattern in Error\n",
    "fig = plt.figure(figsize=(14,6))\n",
    "plt.scatter(x=y_test.index, y= (y_test-y_pred))\n",
    "fig.suptitle('Error Pattern', fontsize=20)                  # Plot heading \n",
    "plt.ylabel('Error', fontsize=16)                            # Y-label\n",
    "plt.axhline(y=0,color='r')                                 # Horizontal Line\n",
    "plt.show()"
   ]
  },
  {
   "cell_type": "markdown",
   "metadata": {},
   "source": [
    "<a id='conclusion'></a>"
   ]
  },
  {
   "cell_type": "markdown",
   "metadata": {},
   "source": [
    "<font color='blue'><b>Insights</b>: Observe that the errors (the differences between the actual values and the values predicted by the model) are randomly distributed. What this essentially confirms is that there are no variables that could have\n",
    "helped explain the model better.</font> "
   ]
  },
  {
   "cell_type": "markdown",
   "metadata": {},
   "source": [
    "## Conclusion"
   ]
  },
  {
   "cell_type": "markdown",
   "metadata": {},
   "source": [
    "#### Below are the most important features to calculate the price of the Car"
   ]
  },
  {
   "cell_type": "code",
   "execution_count": 153,
   "metadata": {},
   "outputs": [
    {
     "data": {
      "text/html": [
       "<div>\n",
       "<style>\n",
       "    .dataframe thead tr:only-child th {\n",
       "        text-align: right;\n",
       "    }\n",
       "\n",
       "    .dataframe thead th {\n",
       "        text-align: left;\n",
       "    }\n",
       "\n",
       "    .dataframe tbody tr th {\n",
       "        vertical-align: top;\n",
       "    }\n",
       "</style>\n",
       "<table border=\"1\" class=\"dataframe\">\n",
       "  <thead>\n",
       "    <tr style=\"text-align: right;\">\n",
       "      <th></th>\n",
       "      <th>final_features</th>\n",
       "    </tr>\n",
       "  </thead>\n",
       "  <tbody>\n",
       "    <tr>\n",
       "      <th>0</th>\n",
       "      <td>enginelocation</td>\n",
       "    </tr>\n",
       "    <tr>\n",
       "      <th>1</th>\n",
       "      <td>carwidth</td>\n",
       "    </tr>\n",
       "    <tr>\n",
       "      <th>2</th>\n",
       "      <td>cylindernumber</td>\n",
       "    </tr>\n",
       "    <tr>\n",
       "      <th>3</th>\n",
       "      <td>enginesize</td>\n",
       "    </tr>\n",
       "    <tr>\n",
       "      <th>4</th>\n",
       "      <td>boreratio</td>\n",
       "    </tr>\n",
       "    <tr>\n",
       "      <th>5</th>\n",
       "      <td>stroke</td>\n",
       "    </tr>\n",
       "    <tr>\n",
       "      <th>6</th>\n",
       "      <td>horsepower</td>\n",
       "    </tr>\n",
       "    <tr>\n",
       "      <th>7</th>\n",
       "      <td>hatchback</td>\n",
       "    </tr>\n",
       "    <tr>\n",
       "      <th>8</th>\n",
       "      <td>wagon</td>\n",
       "    </tr>\n",
       "    <tr>\n",
       "      <th>9</th>\n",
       "      <td>rotor</td>\n",
       "    </tr>\n",
       "    <tr>\n",
       "      <th>10</th>\n",
       "      <td>luxury</td>\n",
       "    </tr>\n",
       "    <tr>\n",
       "      <th>11</th>\n",
       "      <td>midclass</td>\n",
       "    </tr>\n",
       "  </tbody>\n",
       "</table>\n",
       "</div>"
      ],
      "text/plain": [
       "    final_features\n",
       "0   enginelocation\n",
       "1         carwidth\n",
       "2   cylindernumber\n",
       "3       enginesize\n",
       "4        boreratio\n",
       "5           stroke\n",
       "6       horsepower\n",
       "7        hatchback\n",
       "8            wagon\n",
       "9            rotor\n",
       "10          luxury\n",
       "11        midclass"
      ]
     },
     "execution_count": 153,
     "metadata": {},
     "output_type": "execute_result"
    }
   ],
   "source": [
    "final_features = pd.DataFrame(X_train.iloc[:,1:].columns,columns=['final_features']) # removed const\n",
    "final_features"
   ]
  },
  {
   "cell_type": "code",
   "execution_count": null,
   "metadata": {
    "collapsed": true
   },
   "outputs": [],
   "source": []
  }
 ],
 "metadata": {
  "kernelspec": {
   "display_name": "Python 3",
   "language": "python",
   "name": "python3"
  },
  "language_info": {
   "codemirror_mode": {
    "name": "ipython",
    "version": 3
   },
   "file_extension": ".py",
   "mimetype": "text/x-python",
   "name": "python",
   "nbconvert_exporter": "python",
   "pygments_lexer": "ipython3",
   "version": "3.6.3"
  }
 },
 "nbformat": 4,
 "nbformat_minor": 2
}
